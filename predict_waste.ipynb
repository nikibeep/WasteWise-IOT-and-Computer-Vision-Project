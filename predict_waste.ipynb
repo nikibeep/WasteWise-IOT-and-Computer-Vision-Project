{
 "cells": [
  {
   "cell_type": "code",
   "execution_count": 2,
   "metadata": {},
   "outputs": [
    {
     "name": "stderr",
     "output_type": "stream",
     "text": [
      "\n",
      "1/1: 0... Success  (inf frames of shape 640x480 at 30.00 FPS)\n",
      "\n",
      "\n",
      "WARNING  inference results will accumulate in RAM unless `stream=True` is passed, causing potential out-of-memory\n",
      "errors for large sources or long-running streams and videos. See https://docs.ultralytics.com/modes/predict/ for help.\n",
      "\n",
      "Example:\n",
      "    results = model(source=..., stream=True)  # generator of Results objects\n",
      "    for r in results:\n",
      "        boxes = r.boxes  # Boxes object for bbox outputs\n",
      "        masks = r.masks  # Masks object for segment masks outputs\n",
      "        probs = r.probs  # Class probabilities for classification outputs\n",
      "\n",
      "0: 608x800 2 Plastics, 291.4ms\n",
      "0: 608x800 3 Plastics, 251.3ms\n",
      "0: 608x800 (no detections), 247.9ms\n",
      "0: 608x800 3 Plastics, 234.6ms\n",
      "0: 608x800 1 Bio, 232.7ms\n",
      "0: 608x800 2 Bios, 240.6ms\n",
      "0: 608x800 1 Bio, 215.5ms\n",
      "0: 608x800 2 Bios, 1 Plastic, 221.6ms\n",
      "0: 608x800 1 Bio, 1 Plastic, 237.3ms\n",
      "0: 608x800 1 Bio, 220.4ms\n",
      "0: 608x800 1 Bio, 1 Plastic, 238.5ms\n",
      "0: 608x800 1 Bio, 233.3ms\n",
      "0: 608x800 1 Bio, 231.8ms\n",
      "0: 608x800 1 Bio, 219.4ms\n",
      "0: 608x800 1 Bio, 234.8ms\n",
      "0: 608x800 3 Plastics, 235.7ms\n",
      "0: 608x800 1 Bio, 1 Plastic, 238.1ms\n",
      "0: 608x800 2 Plastics, 233.4ms\n",
      "0: 608x800 1 Bio, 1 Plastic, 221.3ms\n",
      "0: 608x800 1 Bio, 1 Plastic, 234.8ms\n",
      "0: 608x800 1 Bio, 1 Plastic, 222.5ms\n",
      "0: 608x800 1 Bio, 229.3ms\n",
      "0: 608x800 1 Bio, 237.7ms\n",
      "0: 608x800 2 Bios, 239.0ms\n",
      "0: 608x800 2 Bios, 235.9ms\n",
      "0: 608x800 2 Bios, 231.7ms\n",
      "0: 608x800 1 Bio, 1 Plastic, 236.3ms\n",
      "0: 608x800 1 Bio, 2 Plastics, 232.8ms\n",
      "0: 608x800 2 Plastics, 240.9ms\n",
      "0: 608x800 2 Plastics, 232.1ms\n",
      "0: 608x800 4 Plastics, 238.3ms\n",
      "0: 608x800 5 Plastics, 239.0ms\n",
      "0: 608x800 3 Plastics, 241.3ms\n",
      "0: 608x800 2 Plastics, 236.3ms\n",
      "0: 608x800 2 Plastics, 237.3ms\n",
      "0: 608x800 2 Plastics, 232.4ms\n",
      "0: 608x800 2 Plastics, 238.3ms\n",
      "0: 608x800 1 Bio, 2 Plastics, 233.1ms\n",
      "0: 608x800 1 Plastic, 235.2ms\n",
      "0: 608x800 1 Bio, 225.1ms\n",
      "0: 608x800 1 Bio, 1 Plastic, 234.4ms\n",
      "0: 608x800 1 Bio, 1 Plastic, 239.2ms\n",
      "0: 608x800 1 Plastic, 231.8ms\n",
      "0: 608x800 1 Bio, 225.9ms\n",
      "0: 608x800 1 Plastic, 241.7ms\n",
      "0: 608x800 1 Plastic, 237.5ms\n",
      "0: 608x800 2 Plastics, 241.7ms\n",
      "0: 608x800 2 Plastics, 222.1ms\n",
      "0: 608x800 1 Plastic, 236.5ms\n",
      "0: 608x800 1 Plastic, 232.0ms\n",
      "0: 608x800 1 Bio, 246.8ms\n",
      "0: 608x800 1 Bio, 232.0ms\n",
      "0: 608x800 1 Bio, 234.8ms\n",
      "0: 608x800 1 Bio, 235.3ms\n",
      "0: 608x800 1 Bio, 241.2ms\n",
      "0: 608x800 1 Bio, 235.7ms\n",
      "0: 608x800 1 Bio, 239.8ms\n",
      "0: 608x800 1 Bio, 242.7ms\n",
      "0: 608x800 1 Bio, 229.8ms\n",
      "0: 608x800 1 Bio, 236.6ms\n",
      "0: 608x800 1 Bio, 247.6ms\n",
      "0: 608x800 1 Bio, 232.9ms\n",
      "0: 608x800 1 Bio, 237.8ms\n",
      "0: 608x800 1 Bio, 238.9ms\n",
      "0: 608x800 1 Bio, 235.9ms\n",
      "0: 608x800 1 Bio, 241.4ms\n",
      "0: 608x800 1 Bio, 239.5ms\n",
      "0: 608x800 1 Bio, 235.2ms\n",
      "0: 608x800 1 Bio, 267.1ms\n",
      "0: 608x800 1 Bio, 237.5ms\n",
      "0: 608x800 1 Bio, 242.3ms\n",
      "0: 608x800 1 Bio, 247.2ms\n",
      "0: 608x800 1 Bio, 236.4ms\n",
      "0: 608x800 1 Bio, 234.5ms\n",
      "0: 608x800 1 Bio, 229.3ms\n",
      "0: 608x800 1 Bio, 245.7ms\n",
      "0: 608x800 1 Plastic, 246.2ms\n",
      "0: 608x800 1 Bio, 235.5ms\n",
      "0: 608x800 1 Plastic, 234.9ms\n",
      "0: 608x800 1 Bio, 234.1ms\n",
      "0: 608x800 1 Bio, 237.9ms\n",
      "0: 608x800 1 Bio, 238.7ms\n",
      "0: 608x800 1 Bio, 1 Plastic, 250.8ms\n",
      "0: 608x800 1 Bio, 243.7ms\n",
      "0: 608x800 1 Bio, 1 Plastic, 204.5ms\n",
      "0: 608x800 2 Plastics, 243.4ms\n",
      "0: 608x800 2 Plastics, 246.7ms\n",
      "0: 608x800 2 Plastics, 243.7ms\n",
      "0: 608x800 1 Bio, 1 Plastic, 239.2ms\n",
      "0: 608x800 2 Plastics, 234.8ms\n",
      "0: 608x800 1 Plastic, 242.8ms\n",
      "0: 608x800 1 Bio, 1 Plastic, 246.6ms\n",
      "0: 608x800 1 Bio, 1 Plastic, 234.5ms\n",
      "0: 608x800 1 Plastic, 222.7ms\n",
      "0: 608x800 1 Plastic, 236.1ms\n",
      "0: 608x800 1 Bio, 1 Plastic, 241.7ms\n",
      "0: 608x800 1 Bio, 1 Plastic, 229.3ms\n",
      "0: 608x800 1 Bio, 1 Plastic, 244.8ms\n",
      "0: 608x800 1 Bio, 1 Plastic, 240.6ms\n",
      "0: 608x800 1 Bio, 1 Plastic, 234.6ms\n",
      "0: 608x800 1 Bio, 1 Plastic, 235.5ms\n",
      "0: 608x800 1 Bio, 1 Plastic, 236.9ms\n",
      "0: 608x800 1 Bio, 239.2ms\n",
      "0: 608x800 1 Bio, 247.6ms\n",
      "0: 608x800 1 Bio, 248.4ms\n",
      "0: 608x800 1 Bio, 1 Plastic, 243.2ms\n",
      "0: 608x800 1 Bio, 235.0ms\n",
      "0: 608x800 1 Bio, 245.0ms\n",
      "0: 608x800 1 Bio, 1 Plastic, 245.3ms\n",
      "0: 608x800 1 Bio, 1 Plastic, 244.2ms\n",
      "0: 608x800 1 Bio, 1 Plastic, 241.2ms\n",
      "0: 608x800 1 Bio, 1 Plastic, 234.8ms\n",
      "0: 608x800 1 Bio, 236.4ms\n",
      "0: 608x800 1 Bio, 1 Plastic, 244.8ms\n",
      "0: 608x800 1 Bio, 1 Plastic, 235.4ms\n",
      "0: 608x800 1 Plastic, 241.6ms\n",
      "0: 608x800 1 Plastic, 242.6ms\n",
      "0: 608x800 1 Plastic, 237.8ms\n",
      "0: 608x800 1 Plastic, 225.4ms\n",
      "0: 608x800 1 Plastic, 235.0ms\n",
      "0: 608x800 1 Plastic, 237.7ms\n",
      "0: 608x800 1 Plastic, 239.3ms\n",
      "0: 608x800 1 Plastic, 244.6ms\n",
      "0: 608x800 1 Plastic, 253.3ms\n",
      "0: 608x800 2 Plastics, 257.0ms\n",
      "0: 608x800 1 Bio, 1 Plastic, 252.2ms\n",
      "0: 608x800 1 Plastic, 257.6ms\n",
      "0: 608x800 1 Plastic, 260.9ms\n",
      "0: 608x800 1 Plastic, 264.4ms\n",
      "0: 608x800 1 Plastic, 240.1ms\n",
      "0: 608x800 1 Plastic, 239.0ms\n",
      "0: 608x800 1 Plastic, 251.1ms\n",
      "0: 608x800 1 Plastic, 230.8ms\n",
      "0: 608x800 1 Plastic, 245.2ms\n",
      "0: 608x800 1 Plastic, 231.8ms\n",
      "0: 608x800 1 Bio, 1 Plastic, 226.4ms\n",
      "0: 608x800 1 Bio, 240.4ms\n",
      "0: 608x800 1 Plastic, 235.8ms\n",
      "0: 608x800 1 Bio, 1 Plastic, 242.5ms\n",
      "0: 608x800 1 Bio, 1 Plastic, 244.1ms\n",
      "0: 608x800 1 Plastic, 243.2ms\n",
      "0: 608x800 1 Bio, 1 Plastic, 251.7ms\n",
      "0: 608x800 1 Bio, 1 Plastic, 241.6ms\n",
      "0: 608x800 1 Bio, 1 Plastic, 243.8ms\n",
      "0: 608x800 2 Plastics, 235.3ms\n",
      "0: 608x800 1 Plastic, 244.9ms\n",
      "0: 608x800 1 Bio, 1 Plastic, 244.6ms\n",
      "0: 608x800 1 Bio, 1 Plastic, 242.0ms\n",
      "0: 608x800 1 Bio, 2 Plastics, 226.2ms\n",
      "0: 608x800 1 Bio, 1 Plastic, 243.4ms\n",
      "0: 608x800 1 Bio, 1 Plastic, 243.4ms\n",
      "0: 608x800 1 Bio, 222.5ms\n",
      "0: 608x800 1 Bio, 1 Plastic, 240.8ms\n",
      "0: 608x800 1 Bio, 1 Plastic, 241.5ms\n",
      "0: 608x800 1 Bio, 1 Plastic, 243.9ms\n",
      "0: 608x800 1 Bio, 1 Plastic, 233.5ms\n",
      "0: 608x800 1 Bio, 1 Plastic, 243.6ms\n",
      "0: 608x800 1 Plastic, 252.4ms\n",
      "0: 608x800 1 Plastic, 245.6ms\n",
      "0: 608x800 1 Plastic, 249.5ms\n",
      "0: 608x800 1 Plastic, 233.7ms\n",
      "0: 608x800 1 Bio, 1 Plastic, 270.7ms\n",
      "0: 608x800 1 Plastic, 243.1ms\n",
      "0: 608x800 1 Bio, 1 Plastic, 246.2ms\n",
      "0: 608x800 1 Plastic, 255.9ms\n",
      "0: 608x800 1 Plastic, 248.0ms\n",
      "0: 608x800 1 Plastic, 246.9ms\n",
      "0: 608x800 1 Plastic, 252.0ms\n",
      "0: 608x800 1 Bio, 1 Plastic, 245.7ms\n",
      "0: 608x800 1 Bio, 243.6ms\n",
      "0: 608x800 1 Plastic, 253.4ms\n",
      "0: 608x800 2 Plastics, 251.3ms\n",
      "0: 608x800 1 Plastic, 233.3ms\n",
      "0: 608x800 2 Plastics, 237.8ms\n",
      "0: 608x800 2 Plastics, 247.0ms\n",
      "0: 608x800 1 Plastic, 233.5ms\n",
      "0: 608x800 1 Bio, 1 Plastic, 233.1ms\n",
      "0: 608x800 1 Plastic, 249.1ms\n",
      "0: 608x800 1 Plastic, 233.2ms\n",
      "0: 608x800 1 Plastic, 230.7ms\n",
      "0: 608x800 1 Plastic, 237.9ms\n",
      "0: 608x800 2 Plastics, 247.0ms\n",
      "0: 608x800 2 Plastics, 224.7ms\n",
      "0: 608x800 1 Bio, 1 Plastic, 230.2ms\n",
      "0: 608x800 1 Bio, 228.7ms\n",
      "0: 608x800 1 Bio, 240.5ms\n",
      "0: 608x800 1 Bio, 243.7ms\n",
      "0: 608x800 1 Bio, 236.2ms\n",
      "0: 608x800 1 Bio, 235.4ms\n",
      "0: 608x800 1 Bio, 248.1ms\n",
      "0: 608x800 1 Bio, 245.4ms\n",
      "0: 608x800 1 Bio, 1 Plastic, 237.3ms\n",
      "0: 608x800 1 Bio, 1 Plastic, 228.5ms\n",
      "0: 608x800 1 Bio, 1 Plastic, 246.8ms\n",
      "0: 608x800 1 Bio, 1 Plastic, 236.5ms\n",
      "0: 608x800 1 Bio, 1 Plastic, 245.3ms\n",
      "0: 608x800 1 Bio, 1 Plastic, 241.0ms\n",
      "0: 608x800 1 Bio, 1 Plastic, 245.1ms\n",
      "0: 608x800 1 Bio, 1 Plastic, 226.8ms\n",
      "0: 608x800 1 Bio, 1 Plastic, 243.7ms\n",
      "0: 608x800 1 Bio, 1 Plastic, 230.0ms\n",
      "0: 608x800 2 Bios, 1 Plastic, 240.8ms\n",
      "0: 608x800 1 Bio, 1 Plastic, 245.6ms\n",
      "0: 608x800 1 Bio, 1 Plastic, 238.1ms\n",
      "0: 608x800 1 Bio, 241.5ms\n",
      "0: 608x800 2 Bios, 243.5ms\n",
      "0: 608x800 1 Bio, 241.0ms\n",
      "0: 608x800 1 Bio, 244.1ms\n",
      "0: 608x800 1 Bio, 244.1ms\n",
      "0: 608x800 2 Bios, 242.5ms\n",
      "0: 608x800 1 Bio, 217.6ms\n",
      "0: 608x800 1 Bio, 241.3ms\n",
      "0: 608x800 1 Bio, 238.0ms\n",
      "0: 608x800 1 Bio, 241.1ms\n",
      "0: 608x800 1 Bio, 231.6ms\n",
      "0: 608x800 1 Bio, 236.2ms\n",
      "0: 608x800 1 Bio, 242.5ms\n",
      "0: 608x800 1 Bio, 1 Plastic, 240.5ms\n",
      "0: 608x800 1 Bio, 1 Plastic, 242.2ms\n",
      "0: 608x800 1 Bio, 3 Plastics, 246.6ms\n",
      "0: 608x800 2 Bios, 229.4ms\n",
      "0: 608x800 2 Bios, 1 Plastic, 237.6ms\n",
      "0: 608x800 1 Bio, 1 Plastic, 237.6ms\n",
      "0: 608x800 1 Bio, 239.9ms\n",
      "0: 608x800 2 Bios, 2 Plastics, 235.0ms\n",
      "0: 608x800 2 Bios, 1 Plastic, 239.1ms\n",
      "0: 608x800 1 Bio, 1 Plastic, 240.6ms\n",
      "0: 608x800 2 Bios, 1 Plastic, 241.0ms\n",
      "0: 608x800 2 Bios, 2 Plastics, 248.6ms\n",
      "0: 608x800 2 Bios, 1 Plastic, 248.8ms\n",
      "0: 608x800 2 Bios, 1 Plastic, 219.1ms\n",
      "0: 608x800 2 Bios, 2 Plastics, 232.4ms\n",
      "0: 608x800 2 Bios, 1 Plastic, 231.0ms\n",
      "0: 608x800 1 Bio, 1 Plastic, 247.7ms\n",
      "0: 608x800 2 Bios, 2 Plastics, 239.6ms\n",
      "0: 608x800 2 Bios, 2 Plastics, 249.6ms\n",
      "0: 608x800 2 Bios, 2 Plastics, 241.3ms\n",
      "0: 608x800 1 Bio, 2 Plastics, 244.2ms\n",
      "0: 608x800 2 Bios, 2 Plastics, 232.7ms\n",
      "0: 608x800 2 Bios, 1 Plastic, 233.8ms\n",
      "0: 608x800 2 Bios, 2 Plastics, 242.2ms\n",
      "0: 608x800 1 Bio, 1 Plastic, 226.0ms\n",
      "0: 608x800 1 Bio, 1 Plastic, 236.1ms\n",
      "0: 608x800 1 Bio, 2 Plastics, 239.7ms\n",
      "0: 608x800 1 Bio, 1 Plastic, 236.5ms\n",
      "0: 608x800 2 Bios, 1 Plastic, 236.4ms\n",
      "0: 608x800 1 Bio, 2 Plastics, 241.9ms\n",
      "0: 608x800 1 Bio, 2 Plastics, 240.6ms\n",
      "0: 608x800 2 Bios, 2 Plastics, 236.5ms\n",
      "0: 608x800 2 Bios, 1 Plastic, 246.4ms\n",
      "0: 608x800 2 Bios, 1 Plastic, 241.8ms\n",
      "0: 608x800 1 Bio, 1 Plastic, 209.6ms\n",
      "0: 608x800 2 Plastics, 239.4ms\n",
      "0: 608x800 1 Plastic, 233.2ms\n",
      "0: 608x800 1 Bio, 1 Plastic, 215.8ms\n",
      "0: 608x800 1 Bio, 245.4ms\n",
      "0: 608x800 2 Plastics, 243.4ms\n",
      "0: 608x800 3 Plastics, 243.3ms\n",
      "0: 608x800 3 Plastics, 244.5ms\n",
      "0: 608x800 2 Plastics, 242.8ms\n",
      "0: 608x800 2 Plastics, 236.8ms\n",
      "0: 608x800 2 Plastics, 241.0ms\n",
      "0: 608x800 2 Plastics, 237.3ms\n",
      "0: 608x800 1 Bio, 1 Plastic, 243.7ms\n",
      "0: 608x800 1 Bio, 1 Plastic, 233.4ms\n",
      "0: 608x800 2 Plastics, 234.4ms\n",
      "0: 608x800 1 Plastic, 241.1ms\n",
      "0: 608x800 1 Plastic, 232.5ms\n",
      "0: 608x800 3 Plastics, 243.8ms\n",
      "0: 608x800 1 Bio, 1 Plastic, 243.0ms\n",
      "0: 608x800 2 Plastics, 240.7ms\n",
      "0: 608x800 1 Bio, 1 Plastic, 244.6ms\n",
      "0: 608x800 2 Bios, 2 Plastics, 228.0ms\n",
      "0: 608x800 1 Bio, 2 Plastics, 238.2ms\n",
      "0: 608x800 2 Bios, 1 Plastic, 230.0ms\n",
      "0: 608x800 1 Bio, 1 Plastic, 226.9ms\n",
      "0: 608x800 3 Bios, 2 Plastics, 236.0ms\n",
      "0: 608x800 2 Bios, 1 Plastic, 267.5ms\n",
      "0: 608x800 2 Plastics, 237.4ms\n",
      "0: 608x800 1 Bio, 1 Plastic, 234.6ms\n",
      "0: 608x800 3 Plastics, 235.5ms\n",
      "0: 608x800 1 Bio, 2 Plastics, 238.9ms\n",
      "0: 608x800 2 Bios, 1 Plastic, 238.1ms\n",
      "0: 608x800 1 Bio, 1 Plastic, 230.4ms\n",
      "0: 608x800 2 Plastics, 245.5ms\n",
      "0: 608x800 2 Bios, 1 Plastic, 247.0ms\n",
      "0: 608x800 2 Plastics, 247.5ms\n",
      "0: 608x800 1 Plastic, 243.7ms\n",
      "0: 608x800 1 Bio, 2 Plastics, 243.2ms\n",
      "0: 608x800 1 Bio, 2 Plastics, 241.1ms\n",
      "0: 608x800 1 Bio, 1 Plastic, 231.9ms\n",
      "0: 608x800 1 Bio, 2 Plastics, 218.3ms\n",
      "0: 608x800 2 Plastics, 243.9ms\n",
      "0: 608x800 1 Bio, 2 Plastics, 239.0ms\n",
      "0: 608x800 2 Plastics, 239.1ms\n",
      "0: 608x800 1 Bio, 1 Plastic, 238.1ms\n",
      "0: 608x800 2 Bios, 2 Plastics, 238.6ms\n",
      "0: 608x800 2 Bios, 1 Plastic, 234.5ms\n",
      "0: 608x800 1 Bio, 2 Plastics, 239.8ms\n",
      "0: 608x800 1 Bio, 2 Plastics, 234.1ms\n",
      "0: 608x800 2 Bios, 1 Plastic, 240.8ms\n",
      "0: 608x800 2 Plastics, 241.3ms\n",
      "0: 608x800 2 Plastics, 227.8ms\n",
      "0: 608x800 3 Plastics, 245.0ms\n",
      "0: 608x800 2 Plastics, 238.0ms\n",
      "0: 608x800 2 Bios, 241.2ms\n",
      "0: 608x800 2 Plastics, 235.6ms\n",
      "0: 608x800 2 Plastics, 240.3ms\n",
      "0: 608x800 2 Plastics, 230.9ms\n",
      "0: 608x800 2 Plastics, 226.8ms\n",
      "0: 608x800 1 Plastic, 245.0ms\n",
      "0: 608x800 2 Plastics, 233.2ms\n",
      "0: 608x800 1 Plastic, 237.5ms\n",
      "0: 608x800 1 Plastic, 242.0ms\n",
      "0: 608x800 2 Plastics, 237.0ms\n",
      "0: 608x800 2 Plastics, 249.8ms\n",
      "0: 608x800 1 Bio, 2 Plastics, 243.2ms\n",
      "0: 608x800 1 Bio, 1 Plastic, 235.9ms\n",
      "0: 608x800 2 Plastics, 232.1ms\n",
      "0: 608x800 2 Plastics, 243.8ms\n",
      "0: 608x800 3 Plastics, 224.1ms\n",
      "0: 608x800 1 Bio, 1 Plastic, 243.4ms\n",
      "0: 608x800 2 Plastics, 227.3ms\n",
      "0: 608x800 1 Plastic, 246.9ms\n",
      "0: 608x800 2 Plastics, 233.3ms\n",
      "0: 608x800 1 Plastic, 244.7ms\n",
      "0: 608x800 2 Plastics, 234.5ms\n",
      "0: 608x800 2 Bios, 251.4ms\n",
      "0: 608x800 2 Plastics, 231.3ms\n",
      "0: 608x800 3 Bios, 1 Plastic, 242.5ms\n",
      "0: 608x800 3 Bios, 224.6ms\n",
      "0: 608x800 1 Bio, 1 Plastic, 228.0ms\n",
      "0: 608x800 2 Bios, 1 Plastic, 233.2ms\n",
      "0: 608x800 2 Bios, 245.3ms\n",
      "0: 608x800 2 Bios, 222.6ms\n",
      "0: 608x800 2 Bios, 1 Plastic, 224.9ms\n",
      "0: 608x800 2 Bios, 1 Plastic, 245.1ms\n",
      "0: 608x800 2 Bios, 1 Plastic, 234.9ms\n",
      "0: 608x800 2 Bios, 1 Plastic, 241.0ms\n",
      "0: 608x800 2 Bios, 1 Plastic, 236.4ms\n",
      "0: 608x800 2 Bios, 1 Plastic, 244.4ms\n",
      "0: 608x800 2 Bios, 232.6ms\n",
      "0: 608x800 2 Bios, 1 Plastic, 243.5ms\n",
      "0: 608x800 2 Bios, 1 Plastic, 233.5ms\n",
      "0: 608x800 2 Bios, 243.6ms\n",
      "0: 608x800 3 Bios, 235.2ms\n",
      "0: 608x800 2 Bios, 1 Plastic, 242.7ms\n",
      "0: 608x800 3 Plastics, 237.8ms\n",
      "0: 608x800 1 Plastic, 231.1ms\n",
      "0: 608x800 1 Bio, 2 Plastics, 230.9ms\n",
      "0: 608x800 1 Bio, 1 Plastic, 238.1ms\n",
      "0: 608x800 1 Bio, 1 Plastic, 221.9ms\n",
      "0: 608x800 1 Bio, 1 Plastic, 239.3ms\n",
      "0: 608x800 1 Bio, 1 Plastic, 244.8ms\n",
      "0: 608x800 1 Plastic, 230.4ms\n",
      "0: 608x800 1 Bio, 1 Plastic, 229.1ms\n",
      "0: 608x800 2 Bios, 1 Plastic, 237.3ms\n",
      "0: 608x800 2 Bios, 1 Plastic, 229.7ms\n",
      "0: 608x800 2 Bios, 1 Plastic, 238.5ms\n",
      "0: 608x800 1 Bio, 1 Plastic, 234.9ms\n",
      "0: 608x800 3 Plastics, 249.6ms\n",
      "0: 608x800 1 Plastic, 232.9ms\n",
      "0: 608x800 2 Bios, 235.6ms\n",
      "0: 608x800 2 Bios, 245.1ms\n",
      "0: 608x800 2 Bios, 246.9ms\n",
      "0: 608x800 2 Bios, 234.0ms\n",
      "0: 608x800 2 Bios, 244.7ms\n",
      "0: 608x800 2 Bios, 240.3ms\n",
      "0: 608x800 2 Bios, 239.1ms\n",
      "0: 608x800 2 Bios, 244.2ms\n",
      "0: 608x800 2 Bios, 241.6ms\n",
      "0: 608x800 2 Bios, 237.4ms\n",
      "0: 608x800 2 Bios, 234.0ms\n",
      "0: 608x800 2 Bios, 232.9ms\n",
      "0: 608x800 2 Bios, 236.5ms\n",
      "0: 608x800 2 Bios, 243.4ms\n",
      "0: 608x800 2 Bios, 249.0ms\n",
      "0: 608x800 2 Bios, 245.1ms\n",
      "0: 608x800 2 Bios, 225.0ms\n",
      "0: 608x800 2 Bios, 230.7ms\n",
      "0: 608x800 2 Bios, 228.3ms\n",
      "0: 608x800 2 Bios, 232.9ms\n",
      "0: 608x800 2 Bios, 239.7ms\n",
      "0: 608x800 1 Plastic, 232.3ms\n",
      "0: 608x800 2 Plastics, 240.8ms\n",
      "0: 608x800 1 Bio, 213.7ms\n",
      "0: 608x800 1 Bio, 239.8ms\n",
      "0: 608x800 1 Bio, 231.9ms\n",
      "0: 608x800 1 Bio, 230.7ms\n",
      "0: 608x800 1 Bio, 230.1ms\n",
      "0: 608x800 1 Bio, 259.7ms\n",
      "0: 608x800 1 Bio, 233.8ms\n",
      "0: 608x800 1 Bio, 245.1ms\n",
      "0: 608x800 1 Bio, 229.3ms\n",
      "0: 608x800 1 Bio, 244.8ms\n",
      "0: 608x800 1 Bio, 236.2ms\n",
      "0: 608x800 1 Bio, 2 Plastics, 247.2ms\n",
      "0: 608x800 1 Bio, 221.8ms\n",
      "0: 608x800 3 Plastics, 238.4ms\n",
      "0: 608x800 2 Bios, 2 Plastics, 240.4ms\n",
      "0: 608x800 2 Bios, 1 Plastic, 234.7ms\n",
      "0: 608x800 2 Bios, 242.9ms\n",
      "0: 608x800 2 Bios, 1 Plastic, 238.0ms\n",
      "0: 608x800 1 Bio, 237.6ms\n",
      "0: 608x800 2 Bios, 237.2ms\n",
      "0: 608x800 1 Bio, 246.3ms\n",
      "0: 608x800 3 Bios, 233.5ms\n",
      "0: 608x800 1 Plastic, 234.8ms\n",
      "0: 608x800 1 Bio, 237.1ms\n",
      "0: 608x800 2 Bios, 241.7ms\n",
      "0: 608x800 1 Bio, 237.8ms\n",
      "0: 608x800 1 Bio, 1 Plastic, 243.1ms\n",
      "0: 608x800 1 Plastic, 247.1ms\n",
      "0: 608x800 1 Bio, 231.2ms\n",
      "0: 608x800 1 Bio, 1 Plastic, 244.9ms\n",
      "0: 608x800 2 Bios, 245.5ms\n",
      "0: 608x800 4 Plastics, 245.6ms\n",
      "0: 608x800 2 Bios, 234.7ms\n",
      "0: 608x800 2 Bios, 244.8ms\n",
      "0: 608x800 2 Bios, 233.5ms\n",
      "0: 608x800 2 Bios, 2 Plastics, 236.1ms\n",
      "0: 608x800 1 Plastic, 243.7ms\n",
      "0: 608x800 1 Plastic, 235.4ms\n",
      "0: 608x800 2 Plastics, 235.6ms\n",
      "0: 608x800 2 Plastics, 226.7ms\n",
      "0: 608x800 2 Plastics, 240.6ms\n",
      "0: 608x800 1 Plastic, 230.6ms\n",
      "0: 608x800 1 Plastic, 232.7ms\n",
      "0: 608x800 1 Plastic, 242.0ms\n",
      "0: 608x800 1 Plastic, 247.6ms\n",
      "0: 608x800 1 Plastic, 247.8ms\n",
      "0: 608x800 1 Plastic, 242.6ms\n",
      "0: 608x800 2 Plastics, 237.3ms\n",
      "0: 608x800 1 Plastic, 248.5ms\n",
      "0: 608x800 1 Plastic, 239.4ms\n",
      "0: 608x800 1 Plastic, 250.2ms\n",
      "0: 608x800 1 Plastic, 239.7ms\n",
      "0: 608x800 1 Plastic, 233.5ms\n",
      "0: 608x800 3 Plastics, 242.6ms\n",
      "0: 608x800 3 Plastics, 235.4ms\n",
      "0: 608x800 2 Plastics, 231.2ms\n",
      "0: 608x800 2 Plastics, 233.5ms\n",
      "0: 608x800 2 Plastics, 250.0ms\n",
      "0: 608x800 1 Plastic, 237.6ms\n",
      "0: 608x800 1 Plastic, 238.9ms\n",
      "0: 608x800 1 Plastic, 232.1ms\n",
      "0: 608x800 1 Bio, 1 Plastic, 240.0ms\n",
      "0: 608x800 1 Plastic, 234.9ms\n",
      "0: 608x800 1 Plastic, 228.6ms\n",
      "0: 608x800 3 Plastics, 236.6ms\n",
      "0: 608x800 3 Plastics, 234.0ms\n",
      "0: 608x800 3 Plastics, 236.2ms\n",
      "0: 608x800 2 Plastics, 235.1ms\n",
      "0: 608x800 1 Plastic, 240.1ms\n",
      "0: 608x800 1 Plastic, 242.6ms\n",
      "0: 608x800 2 Plastics, 245.2ms\n",
      "0: 608x800 1 Plastic, 244.6ms\n",
      "0: 608x800 1 Plastic, 244.2ms\n",
      "0: 608x800 1 Plastic, 234.4ms\n",
      "0: 608x800 1 Plastic, 253.6ms\n",
      "0: 608x800 1 Plastic, 232.0ms\n",
      "0: 608x800 1 Plastic, 241.9ms\n",
      "0: 608x800 1 Plastic, 241.8ms\n",
      "0: 608x800 1 Plastic, 238.5ms\n",
      "0: 608x800 1 Plastic, 246.9ms\n",
      "0: 608x800 2 Plastics, 245.8ms\n",
      "0: 608x800 2 Plastics, 233.7ms\n",
      "0: 608x800 2 Plastics, 241.3ms\n",
      "0: 608x800 2 Plastics, 245.8ms\n",
      "0: 608x800 2 Plastics, 233.7ms\n",
      "0: 608x800 1 Plastic, 231.6ms\n",
      "0: 608x800 1 Plastic, 238.0ms\n",
      "0: 608x800 1 Plastic, 240.9ms\n",
      "0: 608x800 1 Plastic, 242.8ms\n",
      "0: 608x800 1 Plastic, 233.5ms\n",
      "0: 608x800 4 Plastics, 243.7ms\n",
      "0: 608x800 1 Plastic, 224.7ms\n",
      "0: 608x800 1 Plastic, 246.7ms\n",
      "0: 608x800 1 Plastic, 236.2ms\n",
      "0: 608x800 1 Plastic, 223.7ms\n",
      "0: 608x800 2 Plastics, 245.8ms\n",
      "0: 608x800 1 Bio, 1 Plastic, 226.9ms\n",
      "0: 608x800 2 Plastics, 224.6ms\n",
      "0: 608x800 1 Plastic, 247.1ms\n",
      "0: 608x800 (no detections), 235.6ms\n",
      "0: 608x800 (no detections), 227.9ms\n",
      "0: 608x800 (no detections), 235.3ms\n",
      "0: 608x800 1 Plastic, 244.9ms\n",
      "0: 608x800 (no detections), 232.2ms\n",
      "0: 608x800 (no detections), 242.5ms\n",
      "0: 608x800 (no detections), 223.4ms\n",
      "0: 608x800 (no detections), 231.3ms\n",
      "0: 608x800 3 Plastics, 226.6ms\n",
      "0: 608x800 1 Plastic, 204.9ms\n",
      "0: 608x800 1 Plastic, 236.4ms\n",
      "0: 608x800 2 Plastics, 241.7ms\n",
      "0: 608x800 1 Plastic, 236.9ms\n",
      "0: 608x800 1 Plastic, 241.6ms\n",
      "0: 608x800 (no detections), 243.8ms\n",
      "0: 608x800 1 Plastic, 239.9ms\n",
      "0: 608x800 (no detections), 244.4ms\n",
      "0: 608x800 (no detections), 245.6ms\n",
      "0: 608x800 1 Bio, 1 Plastic, 235.1ms\n",
      "0: 608x800 (no detections), 246.8ms\n",
      "0: 608x800 2 Plastics, 251.1ms\n",
      "0: 608x800 (no detections), 235.7ms\n",
      "0: 608x800 2 Plastics, 240.5ms\n",
      "0: 608x800 2 Plastics, 239.2ms\n",
      "0: 608x800 2 Plastics, 247.2ms\n",
      "0: 608x800 2 Plastics, 240.8ms\n",
      "0: 608x800 1 Plastic, 245.8ms\n",
      "0: 608x800 1 Plastic, 250.9ms\n",
      "0: 608x800 1 Plastic, 247.0ms\n",
      "0: 608x800 1 Plastic, 235.6ms\n",
      "0: 608x800 1 Plastic, 222.0ms\n",
      "0: 608x800 1 Plastic, 242.2ms\n",
      "0: 608x800 2 Plastics, 242.0ms\n",
      "0: 608x800 1 Plastic, 237.7ms\n",
      "0: 608x800 1 Plastic, 236.2ms\n",
      "0: 608x800 2 Plastics, 241.1ms\n",
      "0: 608x800 2 Plastics, 218.4ms\n",
      "0: 608x800 2 Plastics, 226.5ms\n",
      "0: 608x800 1 Plastic, 232.3ms\n",
      "0: 608x800 1 Plastic, 222.9ms\n",
      "0: 608x800 1 Plastic, 239.1ms\n",
      "0: 608x800 1 Plastic, 242.8ms\n",
      "0: 608x800 2 Plastics, 237.9ms\n",
      "0: 608x800 2 Plastics, 237.3ms\n",
      "0: 608x800 1 Plastic, 251.4ms\n",
      "0: 608x800 2 Plastics, 239.3ms\n",
      "0: 608x800 1 Plastic, 243.7ms\n",
      "0: 608x800 2 Plastics, 240.3ms\n",
      "0: 608x800 2 Plastics, 242.4ms\n",
      "0: 608x800 1 Plastic, 234.7ms\n",
      "0: 608x800 1 Plastic, 229.9ms\n",
      "0: 608x800 1 Plastic, 227.7ms\n",
      "0: 608x800 2 Plastics, 242.9ms\n",
      "0: 608x800 1 Plastic, 243.4ms\n",
      "0: 608x800 1 Plastic, 243.7ms\n",
      "0: 608x800 1 Plastic, 240.7ms\n",
      "0: 608x800 1 Plastic, 240.4ms\n",
      "0: 608x800 (no detections), 242.8ms\n",
      "0: 608x800 3 Plastics, 238.2ms\n",
      "0: 608x800 (no detections), 234.7ms\n",
      "0: 608x800 (no detections), 235.9ms\n",
      "0: 608x800 1 Plastic, 224.7ms\n",
      "0: 608x800 1 Plastic, 245.4ms\n",
      "0: 608x800 1 Plastic, 236.2ms\n",
      "0: 608x800 (no detections), 238.6ms\n",
      "0: 608x800 2 Plastics, 242.0ms\n",
      "0: 608x800 1 Plastic, 240.4ms\n",
      "0: 608x800 2 Plastics, 245.6ms\n",
      "0: 608x800 2 Plastics, 226.4ms\n",
      "0: 608x800 2 Plastics, 242.6ms\n",
      "0: 608x800 2 Plastics, 238.0ms\n",
      "0: 608x800 2 Plastics, 230.6ms\n",
      "0: 608x800 2 Plastics, 239.0ms\n",
      "0: 608x800 2 Plastics, 239.4ms\n",
      "0: 608x800 2 Plastics, 237.9ms\n",
      "0: 608x800 2 Plastics, 228.9ms\n",
      "0: 608x800 2 Plastics, 245.7ms\n",
      "0: 608x800 3 Plastics, 247.0ms\n",
      "0: 608x800 1 Plastic, 223.6ms\n",
      "0: 608x800 2 Plastics, 241.7ms\n",
      "0: 608x800 3 Plastics, 242.4ms\n",
      "0: 608x800 1 Plastic, 233.3ms\n",
      "0: 608x800 2 Plastics, 233.2ms\n",
      "0: 608x800 1 Plastic, 237.8ms\n",
      "0: 608x800 1 Plastic, 245.9ms\n",
      "0: 608x800 2 Plastics, 242.7ms\n",
      "0: 608x800 1 Plastic, 223.7ms\n",
      "0: 608x800 1 Plastic, 239.5ms\n",
      "0: 608x800 1 Plastic, 246.6ms\n",
      "0: 608x800 4 Plastics, 240.3ms\n",
      "0: 608x800 3 Plastics, 240.9ms\n",
      "0: 608x800 1 Plastic, 248.1ms\n",
      "0: 608x800 2 Plastics, 242.2ms\n",
      "0: 608x800 2 Plastics, 250.5ms\n",
      "0: 608x800 1 Plastic, 232.3ms\n",
      "0: 608x800 2 Plastics, 247.6ms\n",
      "0: 608x800 3 Plastics, 241.3ms\n",
      "0: 608x800 1 Plastic, 1 metal, 237.6ms\n",
      "0: 608x800 1 metal, 239.5ms\n",
      "0: 608x800 1 metal, 239.4ms\n",
      "0: 608x800 1 Bio, 1 Plastic, 239.8ms\n",
      "0: 608x800 1 Plastic, 240.4ms\n",
      "0: 608x800 2 Bios, 225.4ms\n",
      "0: 608x800 1 Bio, 241.5ms\n",
      "0: 608x800 (no detections), 243.3ms\n",
      "0: 608x800 (no detections), 224.2ms\n",
      "0: 608x800 1 Plastic, 1 metal, 236.3ms\n",
      "0: 608x800 1 Plastic, 1 metal, 232.3ms\n",
      "0: 608x800 1 Plastic, 1 metal, 244.1ms\n",
      "0: 608x800 1 metal, 224.8ms\n",
      "0: 608x800 1 metal, 245.9ms\n",
      "0: 608x800 1 metal, 244.2ms\n",
      "0: 608x800 (no detections), 232.1ms\n",
      "0: 608x800 1 metal, 244.4ms\n",
      "0: 608x800 1 metal, 229.6ms\n",
      "0: 608x800 1 metal, 231.4ms\n",
      "0: 608x800 1 metal, 245.1ms\n",
      "0: 608x800 1 metal, 241.8ms\n",
      "0: 608x800 1 metal, 248.3ms\n",
      "0: 608x800 1 metal, 243.5ms\n",
      "0: 608x800 1 metal, 223.2ms\n",
      "0: 608x800 1 metal, 243.4ms\n",
      "0: 608x800 1 metal, 243.8ms\n",
      "0: 608x800 1 metal, 244.5ms\n",
      "0: 608x800 1 metal, 236.5ms\n",
      "0: 608x800 1 metal, 242.5ms\n",
      "0: 608x800 1 metal, 237.8ms\n",
      "0: 608x800 1 metal, 244.3ms\n",
      "0: 608x800 1 metal, 226.7ms\n",
      "0: 608x800 1 metal, 242.0ms\n",
      "0: 608x800 1 metal, 240.4ms\n",
      "0: 608x800 1 metal, 228.4ms\n",
      "0: 608x800 1 metal, 237.2ms\n",
      "0: 608x800 1 metal, 255.9ms\n",
      "0: 608x800 1 metal, 232.8ms\n",
      "0: 608x800 1 metal, 227.1ms\n",
      "0: 608x800 1 metal, 244.0ms\n",
      "0: 608x800 1 metal, 245.7ms\n",
      "0: 608x800 1 Bio, 1 metal, 236.2ms\n",
      "0: 608x800 1 metal, 241.8ms\n",
      "0: 608x800 1 Bio, 1 metal, 236.5ms\n",
      "0: 608x800 1 Plastic, 1 metal, 240.6ms\n",
      "0: 608x800 1 Plastic, 238.1ms\n",
      "0: 608x800 1 Bio, 243.4ms\n",
      "0: 608x800 1 Bio, 1 Plastic, 222.3ms\n",
      "0: 608x800 1 Bio, 1 Plastic, 235.2ms\n",
      "0: 608x800 1 Bio, 243.0ms\n",
      "0: 608x800 1 Bio, 1 Plastic, 245.8ms\n",
      "0: 608x800 1 Bio, 244.8ms\n",
      "0: 608x800 1 Bio, 1 Plastic, 240.5ms\n",
      "0: 608x800 1 Bio, 216.2ms\n",
      "0: 608x800 1 Bio, 242.5ms\n",
      "0: 608x800 1 Bio, 245.7ms\n",
      "0: 608x800 1 Bio, 215.9ms\n",
      "0: 608x800 1 Bio, 1 Plastic, 237.1ms\n",
      "0: 608x800 1 Bio, 214.6ms\n",
      "0: 608x800 2 Plastics, 225.1ms\n",
      "0: 608x800 1 Plastic, 243.7ms\n",
      "0: 608x800 1 Bio, 244.3ms\n",
      "0: 608x800 1 Bio, 1 Plastic, 245.4ms\n",
      "0: 608x800 1 Bio, 245.4ms\n",
      "0: 608x800 1 Bio, 237.0ms\n",
      "0: 608x800 1 Bio, 237.8ms\n",
      "0: 608x800 1 Bio, 1 Plastic, 236.7ms\n",
      "0: 608x800 1 Bio, 250.0ms\n",
      "0: 608x800 1 Bio, 236.7ms\n",
      "0: 608x800 1 Bio, 1 Plastic, 244.9ms\n",
      "0: 608x800 1 Bio, 1 Plastic, 239.4ms\n",
      "0: 608x800 2 Bios, 247.1ms\n",
      "0: 608x800 1 Bio, 242.1ms\n",
      "0: 608x800 2 Plastics, 244.3ms\n",
      "0: 608x800 1 Bio, 1 Plastic, 245.9ms\n",
      "0: 608x800 1 Bio, 1 Plastic, 251.2ms\n",
      "0: 608x800 1 Bio, 237.2ms\n",
      "0: 608x800 1 Bio, 224.9ms\n",
      "0: 608x800 (no detections), 240.9ms\n",
      "0: 608x800 1 Bio, 237.8ms\n",
      "0: 608x800 1 Bio, 1 Plastic, 248.6ms\n",
      "0: 608x800 1 Bio, 1 Plastic, 235.6ms\n",
      "0: 608x800 1 Bio, 1 Plastic, 252.2ms\n",
      "0: 608x800 1 Bio, 244.6ms\n",
      "0: 608x800 (no detections), 246.1ms\n",
      "0: 608x800 1 Plastic, 242.5ms\n",
      "0: 608x800 1 Plastic, 247.8ms\n",
      "0: 608x800 2 Bios, 1 Plastic, 233.1ms\n",
      "0: 608x800 1 Bio, 1 Plastic, 237.6ms\n",
      "0: 608x800 1 Bio, 1 Plastic, 224.7ms\n",
      "0: 608x800 1 Plastic, 250.0ms\n",
      "0: 608x800 2 Plastics, 244.2ms\n",
      "0: 608x800 1 Plastic, 239.3ms\n",
      "0: 608x800 1 Plastic, 236.0ms\n",
      "0: 608x800 1 Plastic, 243.6ms\n",
      "0: 608x800 1 Plastic, 236.2ms\n",
      "0: 608x800 1 Plastic, 200.0ms\n",
      "0: 608x800 1 Plastic, 240.6ms\n",
      "0: 608x800 1 Plastic, 227.6ms\n",
      "0: 608x800 1 Plastic, 238.9ms\n",
      "0: 608x800 1 Plastic, 241.5ms\n",
      "0: 608x800 1 Plastic, 230.4ms\n",
      "0: 608x800 1 Plastic, 250.0ms\n",
      "0: 608x800 1 Plastic, 245.4ms\n",
      "0: 608x800 1 Plastic, 248.2ms\n",
      "0: 608x800 1 Plastic, 223.3ms\n",
      "0: 608x800 1 Plastic, 246.6ms\n",
      "0: 608x800 2 Plastics, 243.2ms\n",
      "0: 608x800 (no detections), 253.0ms\n",
      "0: 608x800 1 Plastic, 245.2ms\n",
      "0: 608x800 (no detections), 252.4ms\n",
      "0: 608x800 1 Plastic, 232.1ms\n",
      "0: 608x800 1 Plastic, 246.4ms\n",
      "0: 608x800 1 Plastic, 228.2ms\n",
      "0: 608x800 2 Bios, 1 Plastic, 244.9ms\n",
      "0: 608x800 1 Plastic, 232.4ms\n",
      "0: 608x800 1 Plastic, 241.3ms\n",
      "0: 608x800 1 metal, 238.9ms\n",
      "0: 608x800 1 Bio, 1 metal, 245.2ms\n",
      "0: 608x800 1 metal, 245.0ms\n",
      "0: 608x800 1 metal, 241.4ms\n",
      "0: 608x800 1 Plastic, 1 metal, 244.0ms\n",
      "0: 608x800 1 Bio, 238.9ms\n",
      "0: 608x800 1 metal, 241.5ms\n",
      "0: 608x800 2 Bios, 1 metal, 241.8ms\n",
      "0: 608x800 1 metal, 240.1ms\n",
      "0: 608x800 1 metal, 230.0ms\n",
      "0: 608x800 1 Bio, 224.9ms\n",
      "0: 608x800 1 Bio, 1 metal, 247.2ms\n",
      "0: 608x800 1 Bio, 240.6ms\n",
      "0: 608x800 1 Bio, 245.7ms\n",
      "0: 608x800 1 Bio, 235.6ms\n",
      "0: 608x800 1 Bio, 234.5ms\n",
      "0: 608x800 1 Bio, 238.9ms\n",
      "0: 608x800 1 Bio, 243.9ms\n",
      "0: 608x800 1 Bio, 243.8ms\n",
      "0: 608x800 1 Bio, 230.6ms\n",
      "0: 608x800 1 Bio, 245.3ms\n",
      "0: 608x800 1 Bio, 235.8ms\n",
      "0: 608x800 1 Plastic, 237.6ms\n",
      "0: 608x800 1 Plastic, 243.4ms\n",
      "0: 608x800 1 Plastic, 245.2ms\n",
      "0: 608x800 1 Plastic, 238.0ms\n",
      "0: 608x800 1 Plastic, 244.7ms\n",
      "0: 608x800 1 Plastic, 234.9ms\n",
      "0: 608x800 1 Plastic, 240.8ms\n",
      "0: 608x800 1 Plastic, 238.3ms\n",
      "0: 608x800 1 Plastic, 242.6ms\n",
      "0: 608x800 1 Plastic, 266.9ms\n",
      "0: 608x800 1 Plastic, 240.9ms\n",
      "0: 608x800 1 Plastic, 237.7ms\n",
      "0: 608x800 1 Plastic, 230.2ms\n",
      "0: 608x800 1 Plastic, 244.3ms\n",
      "0: 608x800 2 Plastics, 241.2ms\n",
      "0: 608x800 1 Plastic, 239.6ms\n",
      "0: 608x800 1 Plastic, 238.7ms\n",
      "0: 608x800 1 Plastic, 244.3ms\n",
      "0: 608x800 2 Plastics, 244.9ms\n",
      "0: 608x800 1 Plastic, 237.9ms\n",
      "0: 608x800 1 Plastic, 254.3ms\n",
      "0: 608x800 1 Plastic, 256.4ms\n",
      "0: 608x800 2 Plastics, 229.3ms\n",
      "0: 608x800 1 Plastic, 216.1ms\n",
      "0: 608x800 1 Plastic, 238.1ms\n",
      "0: 608x800 2 Plastics, 251.7ms\n",
      "0: 608x800 2 Plastics, 234.4ms\n",
      "0: 608x800 1 Plastic, 239.1ms\n",
      "0: 608x800 2 Plastics, 236.0ms\n",
      "0: 608x800 1 Plastic, 247.9ms\n",
      "0: 608x800 2 Plastics, 217.3ms\n",
      "0: 608x800 1 Plastic, 246.7ms\n",
      "0: 608x800 2 Plastics, 235.4ms\n",
      "0: 608x800 1 Plastic, 242.3ms\n",
      "0: 608x800 1 Plastic, 242.5ms\n",
      "0: 608x800 1 Plastic, 242.0ms\n",
      "0: 608x800 1 Plastic, 225.6ms\n",
      "0: 608x800 1 Plastic, 251.6ms\n",
      "0: 608x800 1 Plastic, 239.8ms\n",
      "0: 608x800 1 Plastic, 244.0ms\n",
      "0: 608x800 1 Plastic, 247.1ms\n",
      "0: 608x800 1 Plastic, 248.6ms\n",
      "0: 608x800 1 Plastic, 225.6ms\n",
      "0: 608x800 1 Plastic, 249.4ms\n",
      "0: 608x800 1 Plastic, 237.7ms\n",
      "0: 608x800 2 Plastics, 245.8ms\n",
      "0: 608x800 1 Plastic, 236.7ms\n",
      "0: 608x800 1 Plastic, 249.0ms\n",
      "0: 608x800 1 Plastic, 246.2ms\n",
      "0: 608x800 1 Plastic, 242.1ms\n",
      "0: 608x800 4 Plastics, 246.7ms\n",
      "0: 608x800 4 Plastics, 247.3ms\n",
      "0: 608x800 4 Plastics, 239.9ms\n",
      "0: 608x800 1 Plastic, 226.9ms\n",
      "0: 608x800 1 Plastic, 235.2ms\n",
      "0: 608x800 1 Plastic, 223.9ms\n",
      "0: 608x800 1 Plastic, 247.1ms\n",
      "0: 608x800 1 Plastic, 239.8ms\n",
      "0: 608x800 1 Plastic, 255.8ms\n",
      "0: 608x800 1 Bio, 240.3ms\n",
      "0: 608x800 1 Bio, 230.1ms\n",
      "0: 608x800 1 Bio, 243.3ms\n",
      "0: 608x800 1 Bio, 1 Plastic, 250.9ms\n",
      "0: 608x800 1 Bio, 242.6ms\n",
      "0: 608x800 1 Bio, 244.4ms\n",
      "0: 608x800 1 Bio, 246.9ms\n",
      "0: 608x800 1 Bio, 241.1ms\n",
      "0: 608x800 1 Bio, 237.4ms\n",
      "0: 608x800 1 Bio, 229.9ms\n",
      "0: 608x800 1 Bio, 234.0ms\n",
      "0: 608x800 1 Bio, 239.1ms\n",
      "0: 608x800 1 Bio, 242.8ms\n",
      "0: 608x800 1 Bio, 244.3ms\n",
      "0: 608x800 1 Bio, 238.2ms\n",
      "0: 608x800 1 Bio, 248.9ms\n",
      "0: 608x800 1 Bio, 240.8ms\n",
      "0: 608x800 1 Bio, 234.5ms\n",
      "0: 608x800 1 Bio, 243.5ms\n",
      "0: 608x800 1 Bio, 283.2ms\n",
      "0: 608x800 1 Bio, 243.0ms\n",
      "0: 608x800 1 Bio, 245.6ms\n",
      "0: 608x800 1 Bio, 247.0ms\n",
      "0: 608x800 1 Bio, 241.6ms\n",
      "0: 608x800 1 Plastic, 236.3ms\n",
      "0: 608x800 3 Plastics, 251.0ms\n",
      "0: 608x800 2 Plastics, 229.6ms\n",
      "0: 608x800 1 Bio, 1 Plastic, 225.7ms\n",
      "0: 608x800 1 Bio, 1 Plastic, 245.2ms\n",
      "0: 608x800 1 Bio, 1 Plastic, 233.6ms\n",
      "0: 608x800 2 Plastics, 248.1ms\n",
      "0: 608x800 1 Bio, 1 Plastic, 233.2ms\n",
      "0: 608x800 1 Plastic, 241.9ms\n",
      "0: 608x800 1 Bio, 1 Plastic, 236.4ms\n",
      "0: 608x800 1 Plastic, 244.2ms\n",
      "0: 608x800 1 Plastic, 234.5ms\n",
      "0: 608x800 1 Plastic, 242.9ms\n",
      "0: 608x800 1 Bio, 1 Plastic, 231.3ms\n",
      "0: 608x800 1 Plastic, 249.0ms\n",
      "0: 608x800 1 Plastic, 238.0ms\n",
      "0: 608x800 1 Bio, 1 Plastic, 245.3ms\n",
      "0: 608x800 2 Plastics, 246.3ms\n",
      "0: 608x800 1 Plastic, 242.3ms\n",
      "0: 608x800 1 Plastic, 245.7ms\n",
      "0: 608x800 1 Bio, 1 Plastic, 240.8ms\n",
      "0: 608x800 2 Plastics, 241.8ms\n",
      "0: 608x800 4 Plastics, 240.7ms\n",
      "0: 608x800 2 Plastics, 240.4ms\n",
      "0: 608x800 3 Plastics, 240.0ms\n",
      "0: 608x800 4 Plastics, 243.8ms\n",
      "0: 608x800 4 Plastics, 247.1ms\n",
      "0: 608x800 1 Bio, 3 Plastics, 243.5ms\n",
      "0: 608x800 2 Plastics, 245.4ms\n",
      "0: 608x800 2 Plastics, 249.2ms\n",
      "0: 608x800 1 Plastic, 246.1ms\n",
      "0: 608x800 1 Plastic, 245.0ms\n",
      "0: 608x800 2 Plastics, 242.1ms\n",
      "0: 608x800 1 Plastic, 266.8ms\n",
      "0: 608x800 2 Plastics, 257.3ms\n",
      "0: 608x800 1 Plastic, 250.3ms\n",
      "0: 608x800 2 Plastics, 250.3ms\n",
      "0: 608x800 2 Plastics, 253.8ms\n"
     ]
    },
    {
     "ename": "KeyboardInterrupt",
     "evalue": "",
     "output_type": "error",
     "traceback": [
      "\u001b[1;31m---------------------------------------------------------------------------\u001b[0m",
      "\u001b[1;31mKeyboardInterrupt\u001b[0m                         Traceback (most recent call last)",
      "\u001b[1;32me:\\waste_detection\\predict_waste.ipynb Cell 1\u001b[0m line \u001b[0;36m5\n\u001b[0;32m      <a href='vscode-notebook-cell:/e%3A/waste_detection/predict_waste.ipynb#W0sZmlsZQ%3D%3D?line=1'>2</a>\u001b[0m \u001b[39mimport\u001b[39;00m \u001b[39mcv2\u001b[39;00m\n\u001b[0;32m      <a href='vscode-notebook-cell:/e%3A/waste_detection/predict_waste.ipynb#W0sZmlsZQ%3D%3D?line=3'>4</a>\u001b[0m model \u001b[39m=\u001b[39m YOLO(\u001b[39mr\u001b[39m\u001b[39m\"\u001b[39m\u001b[39mE:\u001b[39m\u001b[39m\\\u001b[39m\u001b[39mwaste_detection\u001b[39m\u001b[39m\\\u001b[39m\u001b[39mbest_new.pt\u001b[39m\u001b[39m\"\u001b[39m)\n\u001b[1;32m----> <a href='vscode-notebook-cell:/e%3A/waste_detection/predict_waste.ipynb#W0sZmlsZQ%3D%3D?line=4'>5</a>\u001b[0m results \u001b[39m=\u001b[39m model\u001b[39m.\u001b[39;49mpredict(source\u001b[39m=\u001b[39;49m\u001b[39m\"\u001b[39;49m\u001b[39m0\u001b[39;49m\u001b[39m\"\u001b[39;49m, show\u001b[39m=\u001b[39;49m\u001b[39mTrue\u001b[39;49;00m)\n\u001b[0;32m      <a href='vscode-notebook-cell:/e%3A/waste_detection/predict_waste.ipynb#W0sZmlsZQ%3D%3D?line=5'>6</a>\u001b[0m \u001b[39mprint\u001b[39m(results)\n",
      "File \u001b[1;32mc:\\Users\\Nikhil I J\\anaconda3\\envs\\torchGEnv\\lib\\site-packages\\ultralytics\\engine\\model.py:242\u001b[0m, in \u001b[0;36mModel.predict\u001b[1;34m(self, source, stream, predictor, **kwargs)\u001b[0m\n\u001b[0;32m    240\u001b[0m \u001b[39mif\u001b[39;00m prompts \u001b[39mand\u001b[39;00m \u001b[39mhasattr\u001b[39m(\u001b[39mself\u001b[39m\u001b[39m.\u001b[39mpredictor, \u001b[39m'\u001b[39m\u001b[39mset_prompts\u001b[39m\u001b[39m'\u001b[39m):  \u001b[39m# for SAM-type models\u001b[39;00m\n\u001b[0;32m    241\u001b[0m     \u001b[39mself\u001b[39m\u001b[39m.\u001b[39mpredictor\u001b[39m.\u001b[39mset_prompts(prompts)\n\u001b[1;32m--> 242\u001b[0m \u001b[39mreturn\u001b[39;00m \u001b[39mself\u001b[39m\u001b[39m.\u001b[39mpredictor\u001b[39m.\u001b[39mpredict_cli(source\u001b[39m=\u001b[39msource) \u001b[39mif\u001b[39;00m is_cli \u001b[39melse\u001b[39;00m \u001b[39mself\u001b[39;49m\u001b[39m.\u001b[39;49mpredictor(source\u001b[39m=\u001b[39;49msource, stream\u001b[39m=\u001b[39;49mstream)\n",
      "File \u001b[1;32mc:\\Users\\Nikhil I J\\anaconda3\\envs\\torchGEnv\\lib\\site-packages\\ultralytics\\engine\\predictor.py:196\u001b[0m, in \u001b[0;36mBasePredictor.__call__\u001b[1;34m(self, source, model, stream, *args, **kwargs)\u001b[0m\n\u001b[0;32m    194\u001b[0m     \u001b[39mreturn\u001b[39;00m \u001b[39mself\u001b[39m\u001b[39m.\u001b[39mstream_inference(source, model, \u001b[39m*\u001b[39margs, \u001b[39m*\u001b[39m\u001b[39m*\u001b[39mkwargs)\n\u001b[0;32m    195\u001b[0m \u001b[39melse\u001b[39;00m:\n\u001b[1;32m--> 196\u001b[0m     \u001b[39mreturn\u001b[39;00m \u001b[39mlist\u001b[39;49m(\u001b[39mself\u001b[39;49m\u001b[39m.\u001b[39;49mstream_inference(source, model, \u001b[39m*\u001b[39;49margs, \u001b[39m*\u001b[39;49m\u001b[39m*\u001b[39;49mkwargs))\n",
      "File \u001b[1;32mc:\\Users\\Nikhil I J\\anaconda3\\envs\\torchGEnv\\lib\\site-packages\\torch\\utils\\_contextlib.py:56\u001b[0m, in \u001b[0;36m_wrap_generator.<locals>.generator_context\u001b[1;34m(*args, **kwargs)\u001b[0m\n\u001b[0;32m     53\u001b[0m         \u001b[39melse\u001b[39;00m:\n\u001b[0;32m     54\u001b[0m             \u001b[39m# Pass the last request to the generator and get its response\u001b[39;00m\n\u001b[0;32m     55\u001b[0m             \u001b[39mwith\u001b[39;00m ctx_factory():\n\u001b[1;32m---> 56\u001b[0m                 response \u001b[39m=\u001b[39m gen\u001b[39m.\u001b[39;49msend(request)\n\u001b[0;32m     58\u001b[0m \u001b[39m# We let the exceptions raised above by the generator's `.throw` or\u001b[39;00m\n\u001b[0;32m     59\u001b[0m \u001b[39m# `.send` methods bubble up to our caller, except for StopIteration\u001b[39;00m\n\u001b[0;32m     60\u001b[0m \u001b[39mexcept\u001b[39;00m \u001b[39mStopIteration\u001b[39;00m \u001b[39mas\u001b[39;00m e:\n\u001b[0;32m     61\u001b[0m     \u001b[39m# The generator informed us that it is done: take whatever its\u001b[39;00m\n\u001b[0;32m     62\u001b[0m     \u001b[39m# returned value (if any) was and indicate that we're done too\u001b[39;00m\n\u001b[0;32m     63\u001b[0m     \u001b[39m# by returning it (see docs for python's return-statement).\u001b[39;00m\n",
      "File \u001b[1;32mc:\\Users\\Nikhil I J\\anaconda3\\envs\\torchGEnv\\lib\\site-packages\\ultralytics\\engine\\predictor.py:259\u001b[0m, in \u001b[0;36mBasePredictor.stream_inference\u001b[1;34m(self, source, model, *args, **kwargs)\u001b[0m\n\u001b[0;32m    257\u001b[0m \u001b[39m# Inference\u001b[39;00m\n\u001b[0;32m    258\u001b[0m \u001b[39mwith\u001b[39;00m profilers[\u001b[39m1\u001b[39m]:\n\u001b[1;32m--> 259\u001b[0m     preds \u001b[39m=\u001b[39m \u001b[39mself\u001b[39;49m\u001b[39m.\u001b[39;49minference(im, \u001b[39m*\u001b[39;49margs, \u001b[39m*\u001b[39;49m\u001b[39m*\u001b[39;49mkwargs)\n\u001b[0;32m    261\u001b[0m \u001b[39m# Postprocess\u001b[39;00m\n\u001b[0;32m    262\u001b[0m \u001b[39mwith\u001b[39;00m profilers[\u001b[39m2\u001b[39m]:\n",
      "File \u001b[1;32mc:\\Users\\Nikhil I J\\anaconda3\\envs\\torchGEnv\\lib\\site-packages\\ultralytics\\engine\\predictor.py:135\u001b[0m, in \u001b[0;36mBasePredictor.inference\u001b[1;34m(self, im, *args, **kwargs)\u001b[0m\n\u001b[0;32m    132\u001b[0m \u001b[39m\u001b[39m\u001b[39m\"\"\"Runs inference on a given image using the specified model and arguments.\"\"\"\u001b[39;00m\n\u001b[0;32m    133\u001b[0m visualize \u001b[39m=\u001b[39m increment_path(\u001b[39mself\u001b[39m\u001b[39m.\u001b[39msave_dir \u001b[39m/\u001b[39m Path(\u001b[39mself\u001b[39m\u001b[39m.\u001b[39mbatch[\u001b[39m0\u001b[39m][\u001b[39m0\u001b[39m])\u001b[39m.\u001b[39mstem,\n\u001b[0;32m    134\u001b[0m                            mkdir\u001b[39m=\u001b[39m\u001b[39mTrue\u001b[39;00m) \u001b[39mif\u001b[39;00m \u001b[39mself\u001b[39m\u001b[39m.\u001b[39margs\u001b[39m.\u001b[39mvisualize \u001b[39mand\u001b[39;00m (\u001b[39mnot\u001b[39;00m \u001b[39mself\u001b[39m\u001b[39m.\u001b[39msource_type\u001b[39m.\u001b[39mtensor) \u001b[39melse\u001b[39;00m \u001b[39mFalse\u001b[39;00m\n\u001b[1;32m--> 135\u001b[0m \u001b[39mreturn\u001b[39;00m \u001b[39mself\u001b[39;49m\u001b[39m.\u001b[39;49mmodel(im, augment\u001b[39m=\u001b[39;49m\u001b[39mself\u001b[39;49m\u001b[39m.\u001b[39;49margs\u001b[39m.\u001b[39;49maugment, visualize\u001b[39m=\u001b[39;49mvisualize)\n",
      "File \u001b[1;32mc:\\Users\\Nikhil I J\\anaconda3\\envs\\torchGEnv\\lib\\site-packages\\torch\\nn\\modules\\module.py:1518\u001b[0m, in \u001b[0;36mModule._wrapped_call_impl\u001b[1;34m(self, *args, **kwargs)\u001b[0m\n\u001b[0;32m   1516\u001b[0m     \u001b[39mreturn\u001b[39;00m \u001b[39mself\u001b[39m\u001b[39m.\u001b[39m_compiled_call_impl(\u001b[39m*\u001b[39margs, \u001b[39m*\u001b[39m\u001b[39m*\u001b[39mkwargs)  \u001b[39m# type: ignore[misc]\u001b[39;00m\n\u001b[0;32m   1517\u001b[0m \u001b[39melse\u001b[39;00m:\n\u001b[1;32m-> 1518\u001b[0m     \u001b[39mreturn\u001b[39;00m \u001b[39mself\u001b[39;49m\u001b[39m.\u001b[39;49m_call_impl(\u001b[39m*\u001b[39;49margs, \u001b[39m*\u001b[39;49m\u001b[39m*\u001b[39;49mkwargs)\n",
      "File \u001b[1;32mc:\\Users\\Nikhil I J\\anaconda3\\envs\\torchGEnv\\lib\\site-packages\\torch\\nn\\modules\\module.py:1527\u001b[0m, in \u001b[0;36mModule._call_impl\u001b[1;34m(self, *args, **kwargs)\u001b[0m\n\u001b[0;32m   1522\u001b[0m \u001b[39m# If we don't have any hooks, we want to skip the rest of the logic in\u001b[39;00m\n\u001b[0;32m   1523\u001b[0m \u001b[39m# this function, and just call forward.\u001b[39;00m\n\u001b[0;32m   1524\u001b[0m \u001b[39mif\u001b[39;00m \u001b[39mnot\u001b[39;00m (\u001b[39mself\u001b[39m\u001b[39m.\u001b[39m_backward_hooks \u001b[39mor\u001b[39;00m \u001b[39mself\u001b[39m\u001b[39m.\u001b[39m_backward_pre_hooks \u001b[39mor\u001b[39;00m \u001b[39mself\u001b[39m\u001b[39m.\u001b[39m_forward_hooks \u001b[39mor\u001b[39;00m \u001b[39mself\u001b[39m\u001b[39m.\u001b[39m_forward_pre_hooks\n\u001b[0;32m   1525\u001b[0m         \u001b[39mor\u001b[39;00m _global_backward_pre_hooks \u001b[39mor\u001b[39;00m _global_backward_hooks\n\u001b[0;32m   1526\u001b[0m         \u001b[39mor\u001b[39;00m _global_forward_hooks \u001b[39mor\u001b[39;00m _global_forward_pre_hooks):\n\u001b[1;32m-> 1527\u001b[0m     \u001b[39mreturn\u001b[39;00m forward_call(\u001b[39m*\u001b[39;49margs, \u001b[39m*\u001b[39;49m\u001b[39m*\u001b[39;49mkwargs)\n\u001b[0;32m   1529\u001b[0m \u001b[39mtry\u001b[39;00m:\n\u001b[0;32m   1530\u001b[0m     result \u001b[39m=\u001b[39m \u001b[39mNone\u001b[39;00m\n",
      "File \u001b[1;32mc:\\Users\\Nikhil I J\\anaconda3\\envs\\torchGEnv\\lib\\site-packages\\ultralytics\\nn\\autobackend.py:347\u001b[0m, in \u001b[0;36mAutoBackend.forward\u001b[1;34m(self, im, augment, visualize)\u001b[0m\n\u001b[0;32m    344\u001b[0m     im \u001b[39m=\u001b[39m im\u001b[39m.\u001b[39mpermute(\u001b[39m0\u001b[39m, \u001b[39m2\u001b[39m, \u001b[39m3\u001b[39m, \u001b[39m1\u001b[39m)  \u001b[39m# torch BCHW to numpy BHWC shape(1,320,192,3)\u001b[39;00m\n\u001b[0;32m    346\u001b[0m \u001b[39mif\u001b[39;00m \u001b[39mself\u001b[39m\u001b[39m.\u001b[39mpt \u001b[39mor\u001b[39;00m \u001b[39mself\u001b[39m\u001b[39m.\u001b[39mnn_module:  \u001b[39m# PyTorch\u001b[39;00m\n\u001b[1;32m--> 347\u001b[0m     y \u001b[39m=\u001b[39m \u001b[39mself\u001b[39m\u001b[39m.\u001b[39mmodel(im, augment\u001b[39m=\u001b[39maugment, visualize\u001b[39m=\u001b[39mvisualize) \u001b[39mif\u001b[39;00m augment \u001b[39mor\u001b[39;00m visualize \u001b[39melse\u001b[39;00m \u001b[39mself\u001b[39;49m\u001b[39m.\u001b[39;49mmodel(im)\n\u001b[0;32m    348\u001b[0m \u001b[39melif\u001b[39;00m \u001b[39mself\u001b[39m\u001b[39m.\u001b[39mjit:  \u001b[39m# TorchScript\u001b[39;00m\n\u001b[0;32m    349\u001b[0m     y \u001b[39m=\u001b[39m \u001b[39mself\u001b[39m\u001b[39m.\u001b[39mmodel(im)\n",
      "File \u001b[1;32mc:\\Users\\Nikhil I J\\anaconda3\\envs\\torchGEnv\\lib\\site-packages\\torch\\nn\\modules\\module.py:1518\u001b[0m, in \u001b[0;36mModule._wrapped_call_impl\u001b[1;34m(self, *args, **kwargs)\u001b[0m\n\u001b[0;32m   1516\u001b[0m     \u001b[39mreturn\u001b[39;00m \u001b[39mself\u001b[39m\u001b[39m.\u001b[39m_compiled_call_impl(\u001b[39m*\u001b[39margs, \u001b[39m*\u001b[39m\u001b[39m*\u001b[39mkwargs)  \u001b[39m# type: ignore[misc]\u001b[39;00m\n\u001b[0;32m   1517\u001b[0m \u001b[39melse\u001b[39;00m:\n\u001b[1;32m-> 1518\u001b[0m     \u001b[39mreturn\u001b[39;00m \u001b[39mself\u001b[39;49m\u001b[39m.\u001b[39;49m_call_impl(\u001b[39m*\u001b[39;49margs, \u001b[39m*\u001b[39;49m\u001b[39m*\u001b[39;49mkwargs)\n",
      "File \u001b[1;32mc:\\Users\\Nikhil I J\\anaconda3\\envs\\torchGEnv\\lib\\site-packages\\torch\\nn\\modules\\module.py:1527\u001b[0m, in \u001b[0;36mModule._call_impl\u001b[1;34m(self, *args, **kwargs)\u001b[0m\n\u001b[0;32m   1522\u001b[0m \u001b[39m# If we don't have any hooks, we want to skip the rest of the logic in\u001b[39;00m\n\u001b[0;32m   1523\u001b[0m \u001b[39m# this function, and just call forward.\u001b[39;00m\n\u001b[0;32m   1524\u001b[0m \u001b[39mif\u001b[39;00m \u001b[39mnot\u001b[39;00m (\u001b[39mself\u001b[39m\u001b[39m.\u001b[39m_backward_hooks \u001b[39mor\u001b[39;00m \u001b[39mself\u001b[39m\u001b[39m.\u001b[39m_backward_pre_hooks \u001b[39mor\u001b[39;00m \u001b[39mself\u001b[39m\u001b[39m.\u001b[39m_forward_hooks \u001b[39mor\u001b[39;00m \u001b[39mself\u001b[39m\u001b[39m.\u001b[39m_forward_pre_hooks\n\u001b[0;32m   1525\u001b[0m         \u001b[39mor\u001b[39;00m _global_backward_pre_hooks \u001b[39mor\u001b[39;00m _global_backward_hooks\n\u001b[0;32m   1526\u001b[0m         \u001b[39mor\u001b[39;00m _global_forward_hooks \u001b[39mor\u001b[39;00m _global_forward_pre_hooks):\n\u001b[1;32m-> 1527\u001b[0m     \u001b[39mreturn\u001b[39;00m forward_call(\u001b[39m*\u001b[39;49margs, \u001b[39m*\u001b[39;49m\u001b[39m*\u001b[39;49mkwargs)\n\u001b[0;32m   1529\u001b[0m \u001b[39mtry\u001b[39;00m:\n\u001b[0;32m   1530\u001b[0m     result \u001b[39m=\u001b[39m \u001b[39mNone\u001b[39;00m\n",
      "File \u001b[1;32mc:\\Users\\Nikhil I J\\anaconda3\\envs\\torchGEnv\\lib\\site-packages\\ultralytics\\nn\\tasks.py:42\u001b[0m, in \u001b[0;36mBaseModel.forward\u001b[1;34m(self, x, *args, **kwargs)\u001b[0m\n\u001b[0;32m     40\u001b[0m \u001b[39mif\u001b[39;00m \u001b[39misinstance\u001b[39m(x, \u001b[39mdict\u001b[39m):  \u001b[39m# for cases of training and validating while training.\u001b[39;00m\n\u001b[0;32m     41\u001b[0m     \u001b[39mreturn\u001b[39;00m \u001b[39mself\u001b[39m\u001b[39m.\u001b[39mloss(x, \u001b[39m*\u001b[39margs, \u001b[39m*\u001b[39m\u001b[39m*\u001b[39mkwargs)\n\u001b[1;32m---> 42\u001b[0m \u001b[39mreturn\u001b[39;00m \u001b[39mself\u001b[39;49m\u001b[39m.\u001b[39;49mpredict(x, \u001b[39m*\u001b[39;49margs, \u001b[39m*\u001b[39;49m\u001b[39m*\u001b[39;49mkwargs)\n",
      "File \u001b[1;32mc:\\Users\\Nikhil I J\\anaconda3\\envs\\torchGEnv\\lib\\site-packages\\ultralytics\\nn\\tasks.py:59\u001b[0m, in \u001b[0;36mBaseModel.predict\u001b[1;34m(self, x, profile, visualize, augment)\u001b[0m\n\u001b[0;32m     57\u001b[0m \u001b[39mif\u001b[39;00m augment:\n\u001b[0;32m     58\u001b[0m     \u001b[39mreturn\u001b[39;00m \u001b[39mself\u001b[39m\u001b[39m.\u001b[39m_predict_augment(x)\n\u001b[1;32m---> 59\u001b[0m \u001b[39mreturn\u001b[39;00m \u001b[39mself\u001b[39;49m\u001b[39m.\u001b[39;49m_predict_once(x, profile, visualize)\n",
      "File \u001b[1;32mc:\\Users\\Nikhil I J\\anaconda3\\envs\\torchGEnv\\lib\\site-packages\\ultralytics\\nn\\tasks.py:79\u001b[0m, in \u001b[0;36mBaseModel._predict_once\u001b[1;34m(self, x, profile, visualize)\u001b[0m\n\u001b[0;32m     77\u001b[0m \u001b[39mif\u001b[39;00m profile:\n\u001b[0;32m     78\u001b[0m     \u001b[39mself\u001b[39m\u001b[39m.\u001b[39m_profile_one_layer(m, x, dt)\n\u001b[1;32m---> 79\u001b[0m x \u001b[39m=\u001b[39m m(x)  \u001b[39m# run\u001b[39;00m\n\u001b[0;32m     80\u001b[0m y\u001b[39m.\u001b[39mappend(x \u001b[39mif\u001b[39;00m m\u001b[39m.\u001b[39mi \u001b[39min\u001b[39;00m \u001b[39mself\u001b[39m\u001b[39m.\u001b[39msave \u001b[39melse\u001b[39;00m \u001b[39mNone\u001b[39;00m)  \u001b[39m# save output\u001b[39;00m\n\u001b[0;32m     81\u001b[0m \u001b[39mif\u001b[39;00m visualize:\n",
      "File \u001b[1;32mc:\\Users\\Nikhil I J\\anaconda3\\envs\\torchGEnv\\lib\\site-packages\\torch\\nn\\modules\\module.py:1518\u001b[0m, in \u001b[0;36mModule._wrapped_call_impl\u001b[1;34m(self, *args, **kwargs)\u001b[0m\n\u001b[0;32m   1516\u001b[0m     \u001b[39mreturn\u001b[39;00m \u001b[39mself\u001b[39m\u001b[39m.\u001b[39m_compiled_call_impl(\u001b[39m*\u001b[39margs, \u001b[39m*\u001b[39m\u001b[39m*\u001b[39mkwargs)  \u001b[39m# type: ignore[misc]\u001b[39;00m\n\u001b[0;32m   1517\u001b[0m \u001b[39melse\u001b[39;00m:\n\u001b[1;32m-> 1518\u001b[0m     \u001b[39mreturn\u001b[39;00m \u001b[39mself\u001b[39;49m\u001b[39m.\u001b[39;49m_call_impl(\u001b[39m*\u001b[39;49margs, \u001b[39m*\u001b[39;49m\u001b[39m*\u001b[39;49mkwargs)\n",
      "File \u001b[1;32mc:\\Users\\Nikhil I J\\anaconda3\\envs\\torchGEnv\\lib\\site-packages\\torch\\nn\\modules\\module.py:1527\u001b[0m, in \u001b[0;36mModule._call_impl\u001b[1;34m(self, *args, **kwargs)\u001b[0m\n\u001b[0;32m   1522\u001b[0m \u001b[39m# If we don't have any hooks, we want to skip the rest of the logic in\u001b[39;00m\n\u001b[0;32m   1523\u001b[0m \u001b[39m# this function, and just call forward.\u001b[39;00m\n\u001b[0;32m   1524\u001b[0m \u001b[39mif\u001b[39;00m \u001b[39mnot\u001b[39;00m (\u001b[39mself\u001b[39m\u001b[39m.\u001b[39m_backward_hooks \u001b[39mor\u001b[39;00m \u001b[39mself\u001b[39m\u001b[39m.\u001b[39m_backward_pre_hooks \u001b[39mor\u001b[39;00m \u001b[39mself\u001b[39m\u001b[39m.\u001b[39m_forward_hooks \u001b[39mor\u001b[39;00m \u001b[39mself\u001b[39m\u001b[39m.\u001b[39m_forward_pre_hooks\n\u001b[0;32m   1525\u001b[0m         \u001b[39mor\u001b[39;00m _global_backward_pre_hooks \u001b[39mor\u001b[39;00m _global_backward_hooks\n\u001b[0;32m   1526\u001b[0m         \u001b[39mor\u001b[39;00m _global_forward_hooks \u001b[39mor\u001b[39;00m _global_forward_pre_hooks):\n\u001b[1;32m-> 1527\u001b[0m     \u001b[39mreturn\u001b[39;00m forward_call(\u001b[39m*\u001b[39;49margs, \u001b[39m*\u001b[39;49m\u001b[39m*\u001b[39;49mkwargs)\n\u001b[0;32m   1529\u001b[0m \u001b[39mtry\u001b[39;00m:\n\u001b[0;32m   1530\u001b[0m     result \u001b[39m=\u001b[39m \u001b[39mNone\u001b[39;00m\n",
      "File \u001b[1;32mc:\\Users\\Nikhil I J\\anaconda3\\envs\\torchGEnv\\lib\\site-packages\\ultralytics\\nn\\modules\\block.py:187\u001b[0m, in \u001b[0;36mC2f.forward\u001b[1;34m(self, x)\u001b[0m\n\u001b[0;32m    185\u001b[0m y \u001b[39m=\u001b[39m \u001b[39mlist\u001b[39m(\u001b[39mself\u001b[39m\u001b[39m.\u001b[39mcv1(x)\u001b[39m.\u001b[39mchunk(\u001b[39m2\u001b[39m, \u001b[39m1\u001b[39m))\n\u001b[0;32m    186\u001b[0m y\u001b[39m.\u001b[39mextend(m(y[\u001b[39m-\u001b[39m\u001b[39m1\u001b[39m]) \u001b[39mfor\u001b[39;00m m \u001b[39min\u001b[39;00m \u001b[39mself\u001b[39m\u001b[39m.\u001b[39mm)\n\u001b[1;32m--> 187\u001b[0m \u001b[39mreturn\u001b[39;00m \u001b[39mself\u001b[39m\u001b[39m.\u001b[39mcv2(torch\u001b[39m.\u001b[39;49mcat(y, \u001b[39m1\u001b[39;49m))\n",
      "\u001b[1;31mKeyboardInterrupt\u001b[0m: "
     ]
    },
    {
     "ename": "",
     "evalue": "",
     "output_type": "error",
     "traceback": [
      "\u001b[1;31mThe Kernel crashed while executing code in the the current cell or a previous cell. Please review the code in the cell(s) to identify a possible cause of the failure. Click <a href='https://aka.ms/vscodeJupyterKernelCrash'>here</a> for more info. View Jupyter <a href='command:jupyter.viewOutput'>log</a> for further details."
     ]
    }
   ],
   "source": [
    "from ultralytics import YOLO\n",
    "import cv2\n",
    "\n",
    "model = YOLO(r\"E:\\waste_detection\\best_new.pt\")\n",
    "results = model.predict(source=\"0\", show=True)\n",
    "print(results)"
   ]
  },
  {
   "cell_type": "code",
   "execution_count": null,
   "metadata": {},
   "outputs": [],
   "source": [
    "import cv2\n",
    "import torch\n",
    "import requests\n",
    "import json\n",
    "from collections import deque\n",
    "from ultralytics import YOLO\n",
    "\n",
    "# Function to send command to ESP32\n",
    "def send_command(command):\n",
    "    data = command + '\\n'\n",
    "    headers = {'Content-Type': 'text/plain'}\n",
    "    response = requests.post(url, data=data)\n",
    "    print(\"Response from ESP32:\", response.text)\n",
    "    if response.text == \"success\":\n",
    "        return 1\n",
    "    else:\n",
    "        return 0\n",
    "\n",
    "# ESP IP URL\n",
    "url = 'http://192.168.137.20/data'\n",
    "\n",
    "# URL for the stream\n",
    "stream_url = \"http://192.168.137.195:8080/video\"\n",
    "\n",
    "# Video capture object\n",
    "cap = cv2.VideoCapture(stream_url)\n",
    "\n",
    "# Check if the stream is opened correctly\n",
    "if not cap.isOpened():\n",
    "    print(\"Error opening video stream or file\")\n",
    "\n",
    "# YOLO model initialization\n",
    "model = YOLO(r\"E:\\best.pt\")\n",
    "\n",
    "# Variables to track labels\n",
    "labels = deque(maxlen=5)  # Store labels for the last 5 frames\n",
    "consistent_labels = 0  # Counter to track consistent labels\n",
    "\n",
    "# Continuously process frames and send labels to ESP32\n",
    "while True:\n",
    "    ret, frame = cap.read()\n",
    "    if not ret:\n",
    "        break\n",
    "\n",
    "    # Resize the frame to a smaller resolution\n",
    "    resized_frame = cv2.resize(frame, (640, 480))\n",
    "\n",
    "    # Perform object detection on the resized frame\n",
    "    cv2.imshow(\"Frame\", resized_frame)\n",
    "    results = model(resized_frame)\n",
    "\n",
    "    # Store labels for the current frame\n",
    "    current_labels = []\n",
    "\n",
    "    for pred in results:  # Iterate over the results directly\n",
    "        # Retrieve the label with the highest confidence\n",
    "        if pred.boxes.conf is not None and len(pred.boxes) > 0:\n",
    "            max_conf_idx = torch.argmax(pred.boxes.conf)\n",
    "            label_id = int(pred.boxes.cls[max_conf_idx])\n",
    "            class_names = {0: 'B', 1: 'P', 2: 'm'}\n",
    "            label = class_names.get(label_id, 'P')  # Default label is 'P'\n",
    "\n",
    "            # Append the detected label to the list of current labels\n",
    "            current_labels.append(label)\n",
    "\n",
    "    # Store labels in the deque\n",
    "    labels.append(current_labels)\n",
    "\n",
    "    # Check if labels have been consistent for 5 frames\n",
    "    if len(labels) == labels.maxlen and len(set(labels)) == 1:\n",
    "        consistent_labels += 1\n",
    "        if consistent_labels == 5:\n",
    "            consistent_labels = 0  # Reset the counter\n",
    "            # Send the label to ESP32\n",
    "            label_to_send = labels[0][0]  # Send the label from the first frame\n",
    "            send_command(label_to_send)\n",
    "\n",
    "# Release the video capture object and close the window\n",
    "cap.release()\n",
    "cv2.destroyAllWindows()\n"
   ]
  },
  {
   "cell_type": "code",
   "execution_count": null,
   "metadata": {},
   "outputs": [],
   "source": [
    "import cv2\n",
    "import torch\n",
    "import requests\n",
    "from collections import deque\n",
    "from ultralytics import YOLO\n",
    "\n",
    "# Function to send command to ESP32\n",
    "def send_command(command):\n",
    "    data = command + '\\n'\n",
    "    headers = {'Content-Type': 'text/plain'}\n",
    "    response = requests.post(url, data=data)\n",
    "    print(\"Response from ESP32:\", response.text)\n",
    "    if response.text == \"success\":\n",
    "        return 1\n",
    "    else:\n",
    "        return 0\n",
    "\n",
    "# ESP IP URL\n",
    "url = 'http://192.168.137.23/data'\n",
    "\n",
    "# URL for the stream\n",
    "stream_url = \"http://192.168.137.170:8080/video\"\n",
    "\n",
    "# Video capture object\n",
    "cap = cv2.VideoCapture(stream_url)\n",
    "\n",
    "# Check if the stream is opened correctly\n",
    "if not cap.isOpened():\n",
    "    print(\"Error opening video stream or file\")\n",
    "\n",
    "# YOLO model initialization\n",
    "model = YOLO(r\"E:\\best.pt\")\n",
    "\n",
    "# Variables to track labels\n",
    "labels = deque(maxlen=5)  # Store labels for the last 5 frames\n",
    "consistent_labels = 0  # Counter to track consistent labels\n",
    "\n",
    "# Continuously process frames and send labels to ESP32\n",
    "while True:\n",
    "    ret, frame = cap.read()\n",
    "    if not ret:\n",
    "        break\n",
    "\n",
    "    # Resize the frame to a smaller resolution\n",
    "    resized_frame = cv2.resize(frame, (640, 480))\n",
    "\n",
    "    # Perform object detection on the resized frame\n",
    "    results = model(resized_frame)\n",
    "\n",
    "    # Store labels for the current frame\n",
    "    current_labels = []\n",
    "\n",
    "    for pred in results:  # Iterate over the results directly\n",
    "        # Retrieve the label with the highest confidence\n",
    "        if pred.boxes.conf is not None and len(pred.boxes) > 0:\n",
    "            max_conf_idx = torch.argmax(pred.boxes.conf)\n",
    "            label_id = int(pred.boxes.cls[max_conf_idx])\n",
    "            class_names = {0: 'B', 1: 'G', 2: 'M', 3: 'P'}\n",
    "            label = class_names.get(label_id, 'P')  # Default label is 'P'\n",
    "\n",
    "            # Append the detected label to the list of current labels\n",
    "            current_labels.append(label)\n",
    "\n",
    "    # Store labels in the deque as a tuple\n",
    "    labels.append(tuple(current_labels))\n",
    "\n",
    "    # Check if labels have been consistent for 5 frames\n",
    "    if len(labels) == labels.maxlen and len(set(labels)) == 1:\n",
    "        consistent_labels += 1\n",
    "        if consistent_labels == 5:\n",
    "            consistent_labels = 0  # Reset the counter\n",
    "            # Send the label to ESP32\n",
    "            label_to_send = labels[0][0]  # Send the label from the first frame\n",
    "            send_command(label_to_send)\n",
    "\n",
    "# Release the video capture object and close the window\n",
    "cap.release()\n",
    "cv2.destroyAllWindows()\n"
   ]
  },
  {
   "cell_type": "code",
   "execution_count": null,
   "metadata": {},
   "outputs": [],
   "source": [
    "import cv2\n",
    "import torch\n",
    "import requests\n",
    "from collections import deque\n",
    "from ultralytics import YOLO\n",
    "\n",
    "# Function to send command to ESP32\n",
    "def send_command(command):\n",
    "    data = command + '\\n'\n",
    "    headers = {'Content-Type': 'text/plain'}\n",
    "    response = requests.post(url, data=data)\n",
    "    print(\"Response from ESP32:\", response.text)\n",
    "    if response.text == \"success\":\n",
    "        return 1\n",
    "    else:\n",
    "        return 0\n",
    "\n",
    "# ESP IP URL\n",
    "url = 'http://192.168.137.23/data'\n",
    "\n",
    "# URL for the stream\n",
    "stream_url = \"http://192.168.137.170:8080/video\"\n",
    "\n",
    "# Video capture object\n",
    "cap = cv2.VideoCapture(stream_url)\n",
    "\n",
    "# Check if the stream is opened correctly\n",
    "if not cap.isOpened():\n",
    "    print(\"Error opening video stream or file\")\n",
    "\n",
    "# YOLO model initialization\n",
    "model = YOLO(r\"E:\\best.pt\")\n",
    "\n",
    "# Variables to track labels\n",
    "labels = deque(maxlen=5)  # Store labels for the last 5 frames\n",
    "consistent_labels = 0  # Counter to track consistent labels\n",
    "\n",
    "# Continuously process frames and send labels to ESP32\n",
    "while True:\n",
    "    ret, frame = cap.read()\n",
    "    if not ret:\n",
    "        break\n",
    "\n",
    "    # Resize the frame to a smaller resolution\n",
    "    resized_frame = cv2.resize(frame, (640, 480))\n",
    "\n",
    "    # Perform object detection on the resized frame\n",
    "    results = model(resized_frame)\n",
    "\n",
    "    # Store labels for the current frame\n",
    "    current_labels = []\n",
    "\n",
    "    for pred in results:  # Iterate over the results directly\n",
    "        if hasattr(pred.boxes, 'cls') and len(pred.boxes) > 0:\n",
    "            max_conf_idx = torch.argmax(pred.boxes.conf)\n",
    "            label_id = int(pred.boxes.cls[max_conf_idx])\n",
    "            class_names = {0: 'B', 1: 'G', 2: 'M', 3: 'P'}\n",
    "            label = class_names.get(label_id, 'P')  # Default label is 'P'\n",
    "            current_labels.append(label)\n",
    "\n",
    "    # Store labels in the deque as a tuple\n",
    "    labels.append(tuple(current_labels))\n",
    "\n",
    "    # Check if labels have been consistent for 5 frames\n",
    "    if len(labels) == labels.maxlen and len(set(labels)) == 1:\n",
    "        consistent_labels += 1\n",
    "        if consistent_labels == 5:\n",
    "            consistent_labels = 0  # Reset the counter\n",
    "            # Send the label to ESP32\n",
    "            if labels and labels[0]:\n",
    "                label_to_send = labels[0][0]  # Send the label from the first frame\n",
    "                send_command(label_to_send)\n",
    "\n",
    "# Release the video capture object and close the window\n",
    "cap.release()\n",
    "cv2.destroyAllWindows()\n"
   ]
  },
  {
   "cell_type": "code",
   "execution_count": null,
   "metadata": {},
   "outputs": [],
   "source": [
    "import cv2\n",
    "import requests\n",
    "from ultralytics import YOLO\n",
    "\n",
    "# Function to send command to ESP32\n",
    "def send_command(command):\n",
    "    # Map categories to specific identifiers recognized by the ESP32\n",
    "    category_to_command = {\n",
    "        'Plastic': 'P',\n",
    "        'Biodegradable': 'B',\n",
    "        'Metal': 'M',\n",
    "        'Glass': 'O'  # Change 'Glass' to 'O' for the ESP32\n",
    "    }\n",
    "\n",
    "    # Check if the predicted category is in the mapping, if not, default to 'P' (Plastic)\n",
    "    cmd = category_to_command.get(command, 'P')\n",
    "    \n",
    "    data = cmd + '\\n'\n",
    "    headers = {'Content-Type': 'text/plain'}\n",
    "    response = requests.post(url, data=data)\n",
    "    print(\"Response from ESP32:\", response.text)\n",
    "    if response.text == \"success\":\n",
    "        return 1\n",
    "    else:\n",
    "        return 0\n",
    "\n",
    "# ESP IP URL\n",
    "url = 'http://192.168.137.35/data'\n",
    "\n",
    "# URL for the stream\n",
    "stream_url = \"http://192.168.137.170:8080/video\"\n",
    "\n",
    "# Video capture object\n",
    "cap = cv2.VideoCapture(stream_url)\n",
    "\n",
    "# Check if the stream is opened correctly\n",
    "if not cap.isOpened():\n",
    "    print(\"Error opening video stream or file\")\n",
    "\n",
    "# YOLO model initialization\n",
    "model = YOLO(r\"E:\\best.pt\")\n",
    "\n",
    "# Continuously process frames and send labels to ESP32\n",
    "while True:\n",
    "    ret, frame = cap.read()\n",
    "    if not ret:\n",
    "        break\n",
    "\n",
    "    resized_frame = cv2.resize(frame, (640, 480))\n",
    "\n",
    "    # Perform object detection on the resized frame\n",
    "    results = model(resized_frame)\n",
    "\n",
    "    for result in results:\n",
    "        if result.boxes.tensor.shape[0] > 0:  # Checking if there are detections\n",
    "            for box in result.boxes.tensor:\n",
    "                label_id = int(box[5])  # Accessing the class ID\n",
    "\n",
    "                class_names = {0: 'Biodegradable', 1: 'Glass', 2: 'Metal', 3: 'Plastic'}\n",
    "                label = class_names.get(label_id, 'Plastic')  # Default label is 'Plastic'\n",
    "\n",
    "                print(\"Label sent to ESP32:\", label)\n",
    "\n",
    "    # Display the frame here\n",
    "\n",
    "cap.release()\n",
    "cv2.destroyAllWindows()"
   ]
  },
  {
   "cell_type": "code",
   "execution_count": null,
   "metadata": {},
   "outputs": [],
   "source": [
    "import cv2\n",
    "import torch\n",
    "import requests\n",
    "from ultralytics import YOLO\n",
    "\n",
    "# Function to send command to ESP32\n",
    "def send_command(command):\n",
    "    data = command + '\\n'\n",
    "    headers = {'Content-Type': 'text/plain'}\n",
    "    response = requests.post(url, data=data)\n",
    "    print(\"Response from ESP32:\", response.text)\n",
    "    if response.text == \"success\":\n",
    "        return 1\n",
    "    else:\n",
    "        return 0\n",
    "\n",
    "# ESP IP URL\n",
    "url = 'http://192.168.137.35/data'\n",
    "\n",
    "# URL for the stream\n",
    "stream_url = \"http://192.168.137.170:8080/video\"\n",
    "\n",
    "# Video capture object\n",
    "cap = cv2.VideoCapture(stream_url)\n",
    "\n",
    "# Check if the stream is opened correctly\n",
    "if not cap.isOpened():\n",
    "    print(\"Error opening video stream or file\")\n",
    "\n",
    "# YOLO model initialization\n",
    "model = YOLO(r\"E:\\best.pt\")\n",
    "\n",
    "# Continuously process frames and send labels to ESP32\n",
    "while True:\n",
    "    ret, frame = cap.read()\n",
    "    if not ret:\n",
    "        break\n",
    "\n",
    "    # Resize the frame to a smaller resolution\n",
    "    resized_frame = cv2.resize(frame, (640, 480))\n",
    "\n",
    "    # Perform object detection on the resized frame\n",
    "    results = model(resized_frame)\n",
    "\n",
    "    # Process each prediction in the results list\n",
    "    for pred in results:  # Iterate over the results directly\n",
    "        print(\"Prediction:\", pred)  # Print the prediction to understand its structure\n",
    "\n",
    "        # Access prediction elements to assign labels (replace this with correct indices)\n",
    "        if len(pred) > 5:  # Ensure it has the required length for label indexing\n",
    "            label_id = pred[5]  # Update the index based on the actual structure\n",
    "            label = 'P'  # Default label is 'P' (plastic) for demonstration purposes\n",
    "\n",
    "            # Logic to assign labels based on label IDs\n",
    "            if label_id == 0:\n",
    "                label = 'B'  # Biodegradable\n",
    "            elif label_id == 1:\n",
    "                label = 'G'  # Glass\n",
    "            elif label_id == 2:\n",
    "                label = 'M'  # Metal\n",
    "            elif label_id == 3:\n",
    "                label = 'P'  # Plastic\n",
    "\n",
    "            # Print the label before sending to ensure correctness\n",
    "            print(\"Label sent to ESP32:\", label)\n",
    "\n",
    "            # Send label to ESP32\n",
    "            send_command(label)\n",
    "\n",
    "# Release the video capture object and close the window\n",
    "cap.release()\n",
    "cv2.destroyAllWindows()\n"
   ]
  },
  {
   "cell_type": "code",
   "execution_count": null,
   "metadata": {},
   "outputs": [],
   "source": [
    "import cv2\n",
    "import requests\n",
    "from ultralytics import YOLO\n",
    "\n",
    "# Function to send command to ESP32\n",
    "def send_command(command):\n",
    "    url = 'http://192.168.137.35/data'\n",
    "    data = command + '\\n'\n",
    "    headers = {'Content-Type': 'text/plain'}\n",
    "    response = requests.post(url, data=data)\n",
    "    print(\"Response from ESP32:\", response.text)\n",
    "    if response.text == \"success\":\n",
    "        return 1\n",
    "    else:\n",
    "        return 0\n",
    "\n",
    "# URL for the stream\n",
    "stream_url = \"http://192.168.137.170:8080/video\"\n",
    "\n",
    "# Video capture object\n",
    "cap = cv2.VideoCapture(stream_url)\n",
    "\n",
    "# Check if the stream is opened correctly\n",
    "if not cap.isOpened():\n",
    "    print(\"Error opening video stream or file\")\n",
    "    exit()\n",
    "\n",
    "# YOLO model initialization\n",
    "model = YOLO(r\"E:\\best.pt\")\n",
    "\n",
    "# Default label is 'X' for demonstration purposes\n",
    "default_label = 'P'\n",
    "\n",
    "# Read and display the video frames\n",
    "while cap.isOpened():\n",
    "    ret, frame = cap.read()\n",
    "    if not ret:\n",
    "        print(\"Error reading frame\")\n",
    "        break\n",
    "\n",
    "    # Resize the frame to a smaller resolution\n",
    "    resized_frame = cv2.resize(frame, (640, 480))\n",
    "\n",
    "    # Perform object detection on the resized frame\n",
    "    results = model.predict(resized_frame, show=True)\n",
    "\n",
    "    max_confidence_label = default_label\n",
    "    max_confidence = 0.0\n",
    "\n",
    "    for result in results:\n",
    "        for prediction in result:\n",
    "            if len(prediction) >= 6:  # Check the minimum length required\n",
    "                label_id = prediction[5]  # Accessing the class ID\n",
    "                confidence = prediction[4]  # Accessing the confidence value\n",
    "\n",
    "                # Logic to assign labels based on label IDs\n",
    "                if confidence > max_confidence:\n",
    "                    if label_id == 1:\n",
    "                        max_confidence_label = 'O'\n",
    "                    elif label_id == 0:\n",
    "                        max_confidence_label = 'B'\n",
    "                    elif label_id == 2:\n",
    "                        max_confidence_label = 'M'\n",
    "                    elif label_id == 3:\n",
    "                        max_confidence_label = 'P'\n",
    "                    max_confidence = confidence\n",
    "\n",
    "    # Print the label with maximum confidence before sending to ensure correctness\n",
    "    print(\"Label sent to ESP32:\", max_confidence_label)\n",
    "\n",
    "    # Send label with maximum confidence to ESP32\n",
    "    send_command(max_confidence_label)\n",
    "\n",
    "    # Display the original frame\n",
    "    cv2.imshow('Frame', frame)\n",
    "\n",
    "    # Press 'q' to exit\n",
    "    if cv2.waitKey(1) & 0xFF == ord('q'):\n",
    "        break\n",
    "\n",
    "# Release the video capture object and close the window\n",
    "cap.release()\n",
    "cv2.destroyAllWindows()\n"
   ]
  },
  {
   "cell_type": "code",
   "execution_count": null,
   "metadata": {},
   "outputs": [],
   "source": [
    "import cv2\n",
    "import torch\n",
    "import requests\n",
    "from ultralytics import YOLO\n",
    "\n",
    "# Function to send command to ESP32\n",
    "def send_command(command):\n",
    "    data = command + '\\n'\n",
    "    headers = {'Content-Type': 'text/plain'}\n",
    "    response = requests.post(url, data=data)\n",
    "    print(\"Response from ESP32:\", response.text)\n",
    "    if response.text == \"success\":\n",
    "        return 1\n",
    "    else:\n",
    "        return 0\n",
    "\n",
    "# ESP IP URL\n",
    "url = 'http://192.168.137.35/data'\n",
    "\n",
    "# URL for the stream\n",
    "stream_url = \"http://192.168.137.170:8080/video\"\n",
    "\n",
    "# Video capture object\n",
    "cap = cv2.VideoCapture(stream_url)\n",
    "\n",
    "# Check if the stream is opened correctly\n",
    "if not cap.isOpened():\n",
    "    print(\"Error opening video stream or file\")\n",
    "\n",
    "# YOLO model initialization\n",
    "model = YOLO(r\"E:\\best.pt\")\n",
    "\n",
    "# Initialize label outside the loop\n",
    "label = 'P'  # Default label is 'P' (plastic) for demonstration purposes\n",
    "\n",
    "# Continuously process frames and send labels to ESP32\n",
    "while True:\n",
    "    ret, frame = cap.read()\n",
    "    if not ret:\n",
    "        break\n",
    "\n",
    "    # Resize the frame to a smaller resolution\n",
    "    resized_frame = cv2.resize(frame, (640, 480))\n",
    "\n",
    "    # Perform object detection on the resized frame\n",
    "    results = model.predict(resized_frame, show=True)\n",
    "\n",
    "    for result in results:\n",
    "        for prediction in result:\n",
    "            # Check if the prediction is not an empty list and contains necessary elements\n",
    "            if len(prediction) >= 6:  # Check the minimum length required\n",
    "                label_id = prediction[5]  # Accessing the class ID\n",
    "\n",
    "                # Logic to assign labels based on label IDs\n",
    "                label = 'P'  # Default label is 'P' (plastic) for demonstration purposes\n",
    "                if label_id == 1:\n",
    "                    label = 'O'\n",
    "                elif label_id == 0:\n",
    "                    label = 'B'\n",
    "                elif label_id == 2:\n",
    "                    label = 'M'\n",
    "                elif label_id == 3:\n",
    "                    label = 'P'\n",
    "\n",
    "                # Print the label before sending to ensure correctness\n",
    "                print(\"Label sent to ESP32:\", label)\n",
    "\n",
    "        # Send label to ESP32\n",
    "        send_command(label)\n",
    "\n",
    "# Release the video capture object and close the window\n",
    "cap.release()\n",
    "cv2.destroyAllWindows()"
   ]
  },
  {
   "cell_type": "code",
   "execution_count": null,
   "metadata": {},
   "outputs": [],
   "source": [
    "import cv2\n",
    "import torch\n",
    "import requests\n",
    "from ultralytics import YOLO\n",
    "\n",
    "# Function to send command to ESP32\n",
    "def send_command(command):\n",
    "    data = command + '\\n'\n",
    "    headers = {'Content-Type': 'text/plain'}\n",
    "    response = requests.post(url, data=data)\n",
    "    print(\"Response from ESP32:\", response.text)\n",
    "    if response.text == \"success\":\n",
    "        return 1\n",
    "    else:\n",
    "        return 0\n",
    "\n",
    "# ESP IP URL\n",
    "url = 'http://192.168.137.35/data'\n",
    "\n",
    "# URL for the stream\n",
    "stream_url = \"http://192.168.137.170:8080/video\"\n",
    "\n",
    "# Video capture object\n",
    "cap = cv2.VideoCapture(stream_url)\n",
    "\n",
    "# Check if the stream is opened correctly\n",
    "if not cap.isOpened():\n",
    "    print(\"Error opening video stream or file\")\n",
    "\n",
    "# YOLO model initialization\n",
    "model = YOLO(r\"E:\\best.pt\")\n",
    "\n",
    "# Continuously process frames and send labels to ESP32\n",
    "while True:\n",
    "    ret, frame = cap.read()\n",
    "    if not ret:\n",
    "        break\n",
    "\n",
    "    # Resize the frame to a smaller resolution\n",
    "    resized_frame = cv2.resize(frame, (640, 480))\n",
    "\n",
    "    # Perform object detection on the resized frame\n",
    "    results = model.predict(resized_frame, show=True)\n",
    "\n",
    "    for result in results:\n",
    "        for prediction in result:\n",
    "            # Check if the prediction is not an empty list and contains necessary elements\n",
    "            if len(prediction) >= 6:  # Check the minimum length required\n",
    "                label_id = prediction[5]  # Accessing the class ID\n",
    "\n",
    "                # Logic to assign labels based on label IDs\n",
    "                label = 'P'  # Default label is 'P' (plastic) for demonstration purposes\n",
    "                if label_id == 0:\n",
    "                    label = 'B'  # Biodegradable\n",
    "                elif label_id == 1:\n",
    "                    label = 'G'  # Glass\n",
    "                elif label_id == 2:\n",
    "                    label = 'M'  # Metal\n",
    "                elif label_id == 3:\n",
    "                    label = 'P'  # Plastic\n",
    "\n",
    "                # Print the label before sending to ensure correctness\n",
    "                print(\"Label sent to ESP32:\", label)\n",
    "\n",
    "                # Send label to ESP32\n",
    "                send_command(label)\n",
    "\n",
    "# Release the video capture object and close the window\n",
    "cap.release()\n",
    "cv2.destroyAllWindows()\n"
   ]
  },
  {
   "cell_type": "code",
   "execution_count": null,
   "metadata": {},
   "outputs": [],
   "source": [
    "import cv2\n",
    "from ultralytics import YOLO\n",
    "\n",
    "# URL for the stream\n",
    "stream_url = \"http://192.168.137.195:8080/video\"\n",
    "\n",
    "# Video capture object\n",
    "cap = cv2.VideoCapture(stream_url)\n",
    "\n",
    "# Check if the stream is opened correctly\n",
    "if not cap.isOpened():\n",
    "    print(\"Error opening video stream or file\")\n",
    "\n",
    "# YOLO model initialization\n",
    "model = YOLO(r\"E:\\waste_detection\\best_new.pt\")\n",
    "\n",
    "# Read and display the video frames\n",
    "while cap.isOpened():\n",
    "    ret, frame = cap.read()\n",
    "    if not ret:\n",
    "        break\n",
    "\n",
    "    # Resize the frame to a smaller resolution\n",
    "    resized_frame = cv2.resize(frame, (640,480))\n",
    "\n",
    "    # Perform object detection on the resized frame\n",
    "    results = model.predict(resized_frame, show=True)\n",
    "    print(results)\n",
    "\n",
    "    # Display the original frame\n",
    "    cv2.imshow('Frame', frame)\n",
    "\n",
    "    # Press 'q' to exit\n",
    "    if cv2.waitKey(1) & 0xFF == ord('q'):\n",
    "        break\n",
    "\n",
    "# Release the video capture object and close the window\n",
    "cap.release()\n",
    "cv2.destroyAllWindows()\n"
   ]
  },
  {
   "cell_type": "code",
   "execution_count": null,
   "metadata": {},
   "outputs": [],
   "source": [
    "from ultralytics import YOLO\n",
    "model = YOLO(r\"E:\\best.pt\")\n",
    "model.export(format=\"saved_model\")"
   ]
  },
  {
   "cell_type": "code",
   "execution_count": null,
   "metadata": {},
   "outputs": [],
   "source": [
    "import cv2\n",
    "\n",
    "# Initialize the camera\n",
    "cap = cv2.VideoCapture(0)  # Use 0 for the default camera or specify the camera index\n",
    "\n",
    "while True:\n",
    "    # Capture a frame from the camera\n",
    "    ret, frame = cap.read()\n",
    "\n",
    "    # Display the frame\n",
    "    cv2.imshow(\"Camera Stream\", frame)\n",
    "\n",
    "    # Check for a key press and break the loop if 'q' is pressed\n",
    "    if cv2.waitKey(1) & 0xFF == ord('q'):\n",
    "        break  # Exit the loop when 'q' is pressed\n",
    "\n",
    "# Release the camera and close OpenCV windows\n",
    "cap.release()\n",
    "cv2.destroyAllWindows()\n"
   ]
  },
  {
   "cell_type": "code",
   "execution_count": null,
   "metadata": {},
   "outputs": [],
   "source": [
    "import cv2\n",
    "import torch\n",
    "import requests\n",
    "from collections import deque\n",
    "from ultralytics import YOLO\n",
    "\n",
    "# Function to send command to ESP32\n",
    "def send_command(command):\n",
    "    data = str(command) + '\\n'  # Convert the command to a string before sending\n",
    "    headers = {'Content-Type': 'text/plain'}\n",
    "    response = requests.post(url, data=data)\n",
    "    print(\"Response from ESP32:\", response.text)\n",
    "    if response.text == \"success\":\n",
    "        return 1\n",
    "    else:\n",
    "        return 0\n",
    "\n",
    "# ESP IP URL\n",
    "url = 'http://192.168.137.20/data'\n",
    "\n",
    "# URL for the stream\n",
    "stream_url = \"http://192.168.137.195:8080/video\"\n",
    "\n",
    "# Video capture object\n",
    "cap = cv2.VideoCapture(stream_url)\n",
    "\n",
    "# Check if the stream is opened correctly\n",
    "if not cap.isOpened():\n",
    "    print(\"Error opening video stream or file\")\n",
    "\n",
    "# YOLO model initialization\n",
    "model = YOLO(r\"E:\\best.pt\")\n",
    "\n",
    "# Variables to track labels\n",
    "labels = deque(maxlen=5)  # Store labels for the last 5 frames\n",
    "consistent_labels = 0  # Counter to track consistent labels\n",
    "\n",
    "# Define the class names\n",
    "class_names = {0: 'Bio', 1: 'Plastic', 2: 'metal'}\n",
    "\n",
    "# Continuously process frames and send labels to ESP32\n",
    "while True:\n",
    "    ret, frame = cap.read()\n",
    "    if not ret:  # If no frame is read\n",
    "        label_to_send = 'O'  # Send 'O' as the command\n",
    "        send_command(label_to_send)\n",
    "        continue  # Move to the next iteration\n",
    "\n",
    "    # Resize the frame to a smaller resolution\n",
    "    resized_frame = cv2.resize(frame, (640, 480))\n",
    "\n",
    "    # Perform object detection on the resized frame\n",
    "    results = model(resized_frame)\n",
    "\n",
    "    # Store labels for the current frame\n",
    "    current_labels = []\n",
    "\n",
    "    for pred in results:  # Iterate over the results directly\n",
    "        if hasattr(pred.boxes, 'cls') and len(pred.boxes) > 0:\n",
    "            max_conf_idx = torch.argmax(pred.boxes.conf)\n",
    "            label_id = int(pred.boxes.cls[max_conf_idx])\n",
    "            label = class_names.get(label_id, 'Plastic')  # Default label is 'Plastic'\n",
    "            current_labels.append(label)\n",
    "\n",
    "    # Store labels in the deque as a tuple\n",
    "    labels.append(tuple(current_labels))\n",
    "\n",
    "    # Check if labels have been consistent for 5 frames\n",
    "    if len(labels) == labels.maxlen and len(set(labels)) == 1:\n",
    "        consistent_labels += 1\n",
    "        if consistent_labels == 5:\n",
    "            consistent_labels = 0  # Reset the counter\n",
    "            # Send the label to ESP32\n",
    "            if labels and labels[0]:\n",
    "                label_to_send = labels[0][0]  # Send the label from the first frame\n",
    "                send_command(label_to_send)\n",
    "\n",
    "# Release the video capture object and close the window\n",
    "cap.release()\n",
    "cv2.destroyAllWindows()\n"
   ]
  },
  {
   "cell_type": "code",
   "execution_count": null,
   "metadata": {},
   "outputs": [],
   "source": [
    "import cv2\n",
    "import torch\n",
    "import requests\n",
    "from collections import deque, Counter\n",
    "from ultralytics import YOLO\n",
    "\n",
    "# Function to send command to ESP32\n",
    "def send_command(command):\n",
    "    data = str(command) + '\\n'  # Convert the command to a string before sending\n",
    "    headers = {'Content-Type': 'text/plain'}\n",
    "    response = requests.post(url, data=data)\n",
    "    print(\"Response from ESP32:\", response.text)\n",
    "    if response.text == \"success\":\n",
    "        return 1\n",
    "    else:\n",
    "        return 0\n",
    "    \n",
    "# ESP IP URL\n",
    "url = 'http://192.168.137.20/data'\n",
    "\n",
    "# URL for the stream\n",
    "stream_url = \"http://192.168.137.195:8080/video\"\n",
    "\n",
    "# Video capture object\n",
    "cap = cv2.VideoCapture(stream_url)\n",
    "\n",
    "# Check if the stream is opened correctly\n",
    "if not cap.isOpened():\n",
    "    print(\"Error opening video stream or file\")\n",
    "\n",
    "# YOLO model initialization\n",
    "model = YOLO(r\"E:\\best.pt\")\n",
    "\n",
    "# Variables to track labels\n",
    "labels = deque(maxlen=5)  # Store labels for the last 5 frames\n",
    "consistent_labels = 0  # Counter to track consistent labels\n",
    "\n",
    "# Define the class names\n",
    "class_names = {0: 'Bio', 1: 'Plastic', 2: 'metal'}\n",
    "\n",
    "# Continuously process frames and send labels to ESP32\n",
    "while True:\n",
    "    ret, frame = cap.read()\n",
    "    if not ret:  # If no frame is read\n",
    "        label_to_send = 'O'  # Send 'O' as the command\n",
    "        send_command(label_to_send)\n",
    "        continue  # Move to the next iteration\n",
    "\n",
    "    # Resize the frame to a smaller resolution\n",
    "    resized_frame = cv2.resize(frame, (640, 480))\n",
    "\n",
    "    # Perform object detection on the resized frame\n",
    "    results = model(resized_frame)\n",
    "\n",
    "    # Store labels for the current frame\n",
    "    current_labels = []\n",
    "\n",
    "    for pred in results:  # Iterate over the results directly\n",
    "        if hasattr(pred.boxes, 'cls') and len(pred.boxes) > 0:\n",
    "            max_conf_idx = torch.argmax(pred.boxes.conf)\n",
    "            label_id = int(pred.boxes.cls[max_conf_idx])\n",
    "            label = class_names.get(label_id, 'Plastic')  # Default label is 'Plastic'\n",
    "            current_labels.append(label)\n",
    "\n",
    "    # Store labels in the deque as a tuple\n",
    "    labels.append(tuple(current_labels))\n",
    "\n",
    "    # Check if labels have been consistent for 5 frames\n",
    "    if len(labels) == labels.maxlen:\n",
    "        counter = Counter(labels)\n",
    "        most_common = counter.most_common(1)  # Get the most common label and its count\n",
    "        consistent_labels += 1\n",
    "        if consistent_labels == 5:\n",
    "            consistent_labels = 0  # Reset the counter\n",
    "            # Send the label to ESP32\n",
    "            if most_common:\n",
    "                label_to_send = most_common[0][0] if most_common[0][1] > 1 else 'O'  # Send the most common label, or 'O' if not consistent\n",
    "                send_command(label_to_send)\n",
    "\n",
    "# Release the video capture object and close the window\n",
    "cap.release()\n",
    "cv2.destroyAllWindows()\n"
   ]
  },
  {
   "cell_type": "code",
   "execution_count": 1,
   "metadata": {},
   "outputs": [
    {
     "name": "stderr",
     "output_type": "stream",
     "text": [
      "\n",
      "0: 608x800 1 Plastic, 270.7ms\n",
      "Speed: 0.0ms preprocess, 270.7ms inference, 0.0ms postprocess per image at shape (1, 3, 608, 800)\n",
      "\n"
     ]
    },
    {
     "name": "stdout",
     "output_type": "stream",
     "text": [
      "Labels: deque([('P',)], maxlen=5)\n"
     ]
    },
    {
     "name": "stderr",
     "output_type": "stream",
     "text": [
      "0: 608x800 (no detections), 238.3ms\n",
      "Speed: 5.0ms preprocess, 238.3ms inference, 1.0ms postprocess per image at shape (1, 3, 608, 800)\n",
      "\n"
     ]
    },
    {
     "name": "stdout",
     "output_type": "stream",
     "text": [
      "Labels: deque([('P',), ()], maxlen=5)\n"
     ]
    },
    {
     "name": "stderr",
     "output_type": "stream",
     "text": [
      "0: 608x800 2 Plastics, 213.3ms\n",
      "Speed: 19.0ms preprocess, 213.3ms inference, 1.0ms postprocess per image at shape (1, 3, 608, 800)\n",
      "\n"
     ]
    },
    {
     "name": "stdout",
     "output_type": "stream",
     "text": [
      "Labels: deque([('P',), (), ('P',)], maxlen=5)\n"
     ]
    },
    {
     "name": "stderr",
     "output_type": "stream",
     "text": [
      "0: 608x800 1 Plastic, 234.6ms\n",
      "Speed: 4.0ms preprocess, 234.6ms inference, 0.0ms postprocess per image at shape (1, 3, 608, 800)\n",
      "\n"
     ]
    },
    {
     "name": "stdout",
     "output_type": "stream",
     "text": [
      "Labels: deque([('P',), (), ('P',), ('P',)], maxlen=5)\n"
     ]
    },
    {
     "name": "stderr",
     "output_type": "stream",
     "text": [
      "0: 608x800 1 Plastic, 233.2ms\n",
      "Speed: 6.0ms preprocess, 233.2ms inference, 0.0ms postprocess per image at shape (1, 3, 608, 800)\n",
      "\n"
     ]
    },
    {
     "name": "stdout",
     "output_type": "stream",
     "text": [
      "Labels: deque([('P',), (), ('P',), ('P',), ('P',)], maxlen=5)\n"
     ]
    },
    {
     "name": "stderr",
     "output_type": "stream",
     "text": [
      "0: 608x800 1 Plastic, 235.9ms\n",
      "Speed: 0.0ms preprocess, 235.9ms inference, 0.0ms postprocess per image at shape (1, 3, 608, 800)\n",
      "\n"
     ]
    },
    {
     "name": "stdout",
     "output_type": "stream",
     "text": [
      "Labels: deque([(), ('P',), ('P',), ('P',), ('P',)], maxlen=5)\n"
     ]
    },
    {
     "name": "stderr",
     "output_type": "stream",
     "text": [
      "0: 608x800 1 Plastic, 222.0ms\n",
      "Speed: 12.4ms preprocess, 222.0ms inference, 0.0ms postprocess per image at shape (1, 3, 608, 800)\n",
      "\n"
     ]
    },
    {
     "name": "stdout",
     "output_type": "stream",
     "text": [
      "Labels: deque([('P',), ('P',), ('P',), ('P',), ('P',)], maxlen=5)\n"
     ]
    },
    {
     "name": "stderr",
     "output_type": "stream",
     "text": [
      "0: 608x800 1 Plastic, 280.0ms\n",
      "Speed: 0.0ms preprocess, 280.0ms inference, 0.0ms postprocess per image at shape (1, 3, 608, 800)\n",
      "\n"
     ]
    },
    {
     "name": "stdout",
     "output_type": "stream",
     "text": [
      "Labels: deque([('P',), ('P',), ('P',), ('P',), ('P',)], maxlen=5)\n"
     ]
    },
    {
     "name": "stderr",
     "output_type": "stream",
     "text": [
      "0: 608x800 1 Plastic, 273.0ms\n",
      "Speed: 5.0ms preprocess, 273.0ms inference, 2.0ms postprocess per image at shape (1, 3, 608, 800)\n",
      "\n"
     ]
    },
    {
     "name": "stdout",
     "output_type": "stream",
     "text": [
      "Labels: deque([('P',), ('P',), ('P',), ('P',), ('P',)], maxlen=5)\n"
     ]
    },
    {
     "name": "stderr",
     "output_type": "stream",
     "text": [
      "0: 608x800 1 Plastic, 232.9ms\n",
      "Speed: 2.7ms preprocess, 232.9ms inference, 0.0ms postprocess per image at shape (1, 3, 608, 800)\n",
      "\n"
     ]
    },
    {
     "name": "stdout",
     "output_type": "stream",
     "text": [
      "Labels: deque([('P',), ('P',), ('P',), ('P',), ('P',)], maxlen=5)\n"
     ]
    },
    {
     "name": "stderr",
     "output_type": "stream",
     "text": [
      "0: 608x800 1 Plastic, 233.2ms\n",
      "Speed: 15.0ms preprocess, 233.2ms inference, 1.0ms postprocess per image at shape (1, 3, 608, 800)\n",
      "\n"
     ]
    },
    {
     "name": "stdout",
     "output_type": "stream",
     "text": [
      "Response from ESP32: P CMD: Action for 'P' command\n",
      "Labels: deque([('P',), ('P',), ('P',), ('P',), ('P',)], maxlen=5)\n"
     ]
    },
    {
     "name": "stderr",
     "output_type": "stream",
     "text": [
      "0: 608x800 1 Plastic, 247.4ms\n",
      "Speed: 0.0ms preprocess, 247.4ms inference, 1.0ms postprocess per image at shape (1, 3, 608, 800)\n",
      "\n"
     ]
    },
    {
     "name": "stdout",
     "output_type": "stream",
     "text": [
      "Labels: deque([('P',), ('P',), ('P',), ('P',), ('P',)], maxlen=5)\n"
     ]
    },
    {
     "name": "stderr",
     "output_type": "stream",
     "text": [
      "0: 608x800 1 Plastic, 263.0ms\n",
      "Speed: 0.0ms preprocess, 263.0ms inference, 1.0ms postprocess per image at shape (1, 3, 608, 800)\n",
      "\n"
     ]
    },
    {
     "name": "stdout",
     "output_type": "stream",
     "text": [
      "Labels: deque([('P',), ('P',), ('P',), ('P',), ('P',)], maxlen=5)\n"
     ]
    },
    {
     "name": "stderr",
     "output_type": "stream",
     "text": [
      "0: 608x800 1 Plastic, 290.2ms\n",
      "Speed: 9.0ms preprocess, 290.2ms inference, 1.0ms postprocess per image at shape (1, 3, 608, 800)\n",
      "\n"
     ]
    },
    {
     "name": "stdout",
     "output_type": "stream",
     "text": [
      "Labels: deque([('P',), ('P',), ('P',), ('P',), ('P',)], maxlen=5)\n"
     ]
    },
    {
     "name": "stderr",
     "output_type": "stream",
     "text": [
      "0: 608x800 1 Plastic, 347.9ms\n",
      "Speed: 3.2ms preprocess, 347.9ms inference, 0.0ms postprocess per image at shape (1, 3, 608, 800)\n",
      "\n"
     ]
    },
    {
     "name": "stdout",
     "output_type": "stream",
     "text": [
      "Labels: deque([('P',), ('P',), ('P',), ('P',), ('P',)], maxlen=5)\n"
     ]
    },
    {
     "name": "stderr",
     "output_type": "stream",
     "text": [
      "0: 608x800 1 Plastic, 314.1ms\n",
      "Speed: 0.0ms preprocess, 314.1ms inference, 0.0ms postprocess per image at shape (1, 3, 608, 800)\n",
      "\n"
     ]
    },
    {
     "name": "stdout",
     "output_type": "stream",
     "text": [
      "Response from ESP32: P CMD: Action for 'P' command\n",
      "Labels: deque([('P',), ('P',), ('P',), ('P',), ('P',)], maxlen=5)\n"
     ]
    },
    {
     "name": "stderr",
     "output_type": "stream",
     "text": [
      "0: 608x800 1 Plastic, 254.8ms\n",
      "Speed: 0.0ms preprocess, 254.8ms inference, 0.0ms postprocess per image at shape (1, 3, 608, 800)\n",
      "\n"
     ]
    },
    {
     "name": "stdout",
     "output_type": "stream",
     "text": [
      "Labels: deque([('P',), ('P',), ('P',), ('P',), ('P',)], maxlen=5)\n"
     ]
    },
    {
     "name": "stderr",
     "output_type": "stream",
     "text": [
      "0: 608x800 2 Plastics, 239.2ms\n",
      "Speed: 14.9ms preprocess, 239.2ms inference, 0.0ms postprocess per image at shape (1, 3, 608, 800)\n",
      "\n"
     ]
    },
    {
     "name": "stdout",
     "output_type": "stream",
     "text": [
      "Labels: deque([('P',), ('P',), ('P',), ('P',), ('P',)], maxlen=5)\n"
     ]
    },
    {
     "name": "stderr",
     "output_type": "stream",
     "text": [
      "0: 608x800 2 Plastics, 263.3ms\n",
      "Speed: 5.0ms preprocess, 263.3ms inference, 11.9ms postprocess per image at shape (1, 3, 608, 800)\n",
      "\n"
     ]
    },
    {
     "name": "stdout",
     "output_type": "stream",
     "text": [
      "Labels: deque([('P',), ('P',), ('P',), ('P',), ('P',)], maxlen=5)\n"
     ]
    },
    {
     "name": "stderr",
     "output_type": "stream",
     "text": [
      "0: 608x800 2 Plastics, 247.4ms\n",
      "Speed: 0.0ms preprocess, 247.4ms inference, 0.9ms postprocess per image at shape (1, 3, 608, 800)\n",
      "\n"
     ]
    },
    {
     "name": "stdout",
     "output_type": "stream",
     "text": [
      "Labels: deque([('P',), ('P',), ('P',), ('P',), ('P',)], maxlen=5)\n"
     ]
    },
    {
     "name": "stderr",
     "output_type": "stream",
     "text": [
      "0: 608x800 2 Plastics, 241.8ms\n",
      "Speed: 6.0ms preprocess, 241.8ms inference, 7.8ms postprocess per image at shape (1, 3, 608, 800)\n",
      "\n"
     ]
    },
    {
     "name": "stdout",
     "output_type": "stream",
     "text": [
      "Response from ESP32: P CMD: Action for 'P' command\n",
      "Labels: deque([('P',), ('P',), ('P',), ('P',), ('P',)], maxlen=5)\n"
     ]
    },
    {
     "name": "stderr",
     "output_type": "stream",
     "text": [
      "0: 608x800 2 Plastics, 262.7ms\n",
      "Speed: 2.7ms preprocess, 262.7ms inference, 1.0ms postprocess per image at shape (1, 3, 608, 800)\n",
      "\n"
     ]
    },
    {
     "name": "stdout",
     "output_type": "stream",
     "text": [
      "Labels: deque([('P',), ('P',), ('P',), ('P',), ('P',)], maxlen=5)\n"
     ]
    },
    {
     "name": "stderr",
     "output_type": "stream",
     "text": [
      "0: 608x800 1 Plastic, 259.9ms\n",
      "Speed: 6.1ms preprocess, 259.9ms inference, 1.0ms postprocess per image at shape (1, 3, 608, 800)\n",
      "\n"
     ]
    },
    {
     "name": "stdout",
     "output_type": "stream",
     "text": [
      "Labels: deque([('P',), ('P',), ('P',), ('P',), ('P',)], maxlen=5)\n"
     ]
    },
    {
     "name": "stderr",
     "output_type": "stream",
     "text": [
      "0: 608x800 1 Plastic, 243.4ms\n",
      "Speed: 6.0ms preprocess, 243.4ms inference, 1.0ms postprocess per image at shape (1, 3, 608, 800)\n",
      "\n"
     ]
    },
    {
     "name": "stdout",
     "output_type": "stream",
     "text": [
      "Labels: deque([('P',), ('P',), ('P',), ('P',), ('P',)], maxlen=5)\n"
     ]
    },
    {
     "name": "stderr",
     "output_type": "stream",
     "text": [
      "0: 608x800 1 Plastic, 254.4ms\n",
      "Speed: 0.0ms preprocess, 254.4ms inference, 0.0ms postprocess per image at shape (1, 3, 608, 800)\n",
      "\n"
     ]
    },
    {
     "name": "stdout",
     "output_type": "stream",
     "text": [
      "Labels: deque([('P',), ('P',), ('P',), ('P',), ('P',)], maxlen=5)\n"
     ]
    },
    {
     "name": "stderr",
     "output_type": "stream",
     "text": [
      "0: 608x800 1 Plastic, 233.4ms\n",
      "Speed: 4.0ms preprocess, 233.4ms inference, 8.6ms postprocess per image at shape (1, 3, 608, 800)\n",
      "\n"
     ]
    },
    {
     "name": "stdout",
     "output_type": "stream",
     "text": [
      "Response from ESP32: P CMD: Action for 'P' command\n",
      "Labels: deque([('P',), ('P',), ('P',), ('P',), ('P',)], maxlen=5)\n"
     ]
    },
    {
     "name": "stderr",
     "output_type": "stream",
     "text": [
      "0: 608x800 1 Plastic, 241.9ms\n",
      "Speed: 1.0ms preprocess, 241.9ms inference, 0.0ms postprocess per image at shape (1, 3, 608, 800)\n",
      "\n"
     ]
    },
    {
     "name": "stdout",
     "output_type": "stream",
     "text": [
      "Labels: deque([('P',), ('P',), ('P',), ('P',), ('P',)], maxlen=5)\n"
     ]
    },
    {
     "name": "stderr",
     "output_type": "stream",
     "text": [
      "0: 608x800 1 Plastic, 240.3ms\n",
      "Speed: 4.9ms preprocess, 240.3ms inference, 0.0ms postprocess per image at shape (1, 3, 608, 800)\n",
      "\n"
     ]
    },
    {
     "name": "stdout",
     "output_type": "stream",
     "text": [
      "Labels: deque([('P',), ('P',), ('P',), ('P',), ('P',)], maxlen=5)\n"
     ]
    },
    {
     "name": "stderr",
     "output_type": "stream",
     "text": [
      "0: 608x800 1 Plastic, 252.2ms\n",
      "Speed: 15.8ms preprocess, 252.2ms inference, 11.3ms postprocess per image at shape (1, 3, 608, 800)\n",
      "\n"
     ]
    },
    {
     "name": "stdout",
     "output_type": "stream",
     "text": [
      "Labels: deque([('P',), ('P',), ('P',), ('P',), ('P',)], maxlen=5)\n"
     ]
    },
    {
     "name": "stderr",
     "output_type": "stream",
     "text": [
      "0: 608x800 1 Plastic, 254.8ms\n",
      "Speed: 5.0ms preprocess, 254.8ms inference, 0.0ms postprocess per image at shape (1, 3, 608, 800)\n",
      "\n"
     ]
    },
    {
     "name": "stdout",
     "output_type": "stream",
     "text": [
      "Labels: deque([('P',), ('P',), ('P',), ('P',), ('P',)], maxlen=5)\n"
     ]
    },
    {
     "name": "stderr",
     "output_type": "stream",
     "text": [
      "0: 608x800 1 Plastic, 242.9ms\n",
      "Speed: 6.0ms preprocess, 242.9ms inference, 0.0ms postprocess per image at shape (1, 3, 608, 800)\n",
      "\n"
     ]
    },
    {
     "name": "stdout",
     "output_type": "stream",
     "text": [
      "Response from ESP32: P CMD: Action for 'P' command\n",
      "Labels: deque([('P',), ('P',), ('P',), ('P',), ('P',)], maxlen=5)\n"
     ]
    },
    {
     "name": "stderr",
     "output_type": "stream",
     "text": [
      "0: 608x800 1 Plastic, 240.6ms\n",
      "Speed: 1.5ms preprocess, 240.6ms inference, 1.0ms postprocess per image at shape (1, 3, 608, 800)\n",
      "\n"
     ]
    },
    {
     "name": "stdout",
     "output_type": "stream",
     "text": [
      "Labels: deque([('P',), ('P',), ('P',), ('P',), ('P',)], maxlen=5)\n"
     ]
    },
    {
     "name": "stderr",
     "output_type": "stream",
     "text": [
      "0: 608x800 1 Plastic, 248.2ms\n",
      "Speed: 1.7ms preprocess, 248.2ms inference, 1.0ms postprocess per image at shape (1, 3, 608, 800)\n",
      "\n"
     ]
    },
    {
     "name": "stdout",
     "output_type": "stream",
     "text": [
      "Labels: deque([('P',), ('P',), ('P',), ('P',), ('P',)], maxlen=5)\n"
     ]
    },
    {
     "name": "stderr",
     "output_type": "stream",
     "text": [
      "0: 608x800 1 Plastic, 235.2ms\n",
      "Speed: 14.4ms preprocess, 235.2ms inference, 1.0ms postprocess per image at shape (1, 3, 608, 800)\n",
      "\n"
     ]
    },
    {
     "name": "stdout",
     "output_type": "stream",
     "text": [
      "Labels: deque([('P',), ('P',), ('P',), ('P',), ('P',)], maxlen=5)\n"
     ]
    },
    {
     "name": "stderr",
     "output_type": "stream",
     "text": [
      "0: 608x800 1 Plastic, 254.3ms\n",
      "Speed: 12.5ms preprocess, 254.3ms inference, 0.0ms postprocess per image at shape (1, 3, 608, 800)\n",
      "\n"
     ]
    },
    {
     "name": "stdout",
     "output_type": "stream",
     "text": [
      "Labels: deque([('P',), ('P',), ('P',), ('P',), ('P',)], maxlen=5)\n"
     ]
    },
    {
     "name": "stderr",
     "output_type": "stream",
     "text": [
      "0: 608x800 1 Plastic, 251.6ms\n",
      "Speed: 4.0ms preprocess, 251.6ms inference, 2.0ms postprocess per image at shape (1, 3, 608, 800)\n",
      "\n"
     ]
    },
    {
     "name": "stdout",
     "output_type": "stream",
     "text": [
      "Response from ESP32: P CMD: Action for 'P' command\n",
      "Labels: deque([('P',), ('P',), ('P',), ('P',), ('P',)], maxlen=5)\n"
     ]
    },
    {
     "name": "stderr",
     "output_type": "stream",
     "text": [
      "0: 608x800 1 Plastic, 254.2ms\n",
      "Speed: 0.0ms preprocess, 254.2ms inference, 0.0ms postprocess per image at shape (1, 3, 608, 800)\n",
      "\n"
     ]
    },
    {
     "name": "stdout",
     "output_type": "stream",
     "text": [
      "Labels: deque([('P',), ('P',), ('P',), ('P',), ('P',)], maxlen=5)\n"
     ]
    },
    {
     "name": "stderr",
     "output_type": "stream",
     "text": [
      "0: 608x800 1 Plastic, 242.8ms\n",
      "Speed: 6.0ms preprocess, 242.8ms inference, 0.0ms postprocess per image at shape (1, 3, 608, 800)\n",
      "\n"
     ]
    },
    {
     "name": "stdout",
     "output_type": "stream",
     "text": [
      "Labels: deque([('P',), ('P',), ('P',), ('P',), ('P',)], maxlen=5)\n"
     ]
    },
    {
     "name": "stderr",
     "output_type": "stream",
     "text": [
      "0: 608x800 1 Plastic, 241.9ms\n",
      "Speed: 4.0ms preprocess, 241.9ms inference, 1.0ms postprocess per image at shape (1, 3, 608, 800)\n",
      "\n"
     ]
    },
    {
     "name": "stdout",
     "output_type": "stream",
     "text": [
      "Labels: deque([('P',), ('P',), ('P',), ('P',), ('P',)], maxlen=5)\n"
     ]
    },
    {
     "name": "stderr",
     "output_type": "stream",
     "text": [
      "0: 608x800 1 Plastic, 235.2ms\n",
      "Speed: 12.0ms preprocess, 235.2ms inference, 1.0ms postprocess per image at shape (1, 3, 608, 800)\n",
      "\n"
     ]
    },
    {
     "name": "stdout",
     "output_type": "stream",
     "text": [
      "Labels: deque([('P',), ('P',), ('P',), ('P',), ('P',)], maxlen=5)\n"
     ]
    },
    {
     "name": "stderr",
     "output_type": "stream",
     "text": [
      "0: 608x800 1 Plastic, 243.9ms\n",
      "Speed: 5.0ms preprocess, 243.9ms inference, 1.0ms postprocess per image at shape (1, 3, 608, 800)\n",
      "\n"
     ]
    },
    {
     "name": "stdout",
     "output_type": "stream",
     "text": [
      "Response from ESP32: P CMD: Action for 'P' command\n",
      "Labels: deque([('P',), ('P',), ('P',), ('P',), ('P',)], maxlen=5)\n"
     ]
    },
    {
     "name": "stderr",
     "output_type": "stream",
     "text": [
      "0: 608x800 1 Plastic, 228.5ms\n",
      "Speed: 4.0ms preprocess, 228.5ms inference, 1.0ms postprocess per image at shape (1, 3, 608, 800)\n",
      "\n"
     ]
    },
    {
     "name": "stdout",
     "output_type": "stream",
     "text": [
      "Labels: deque([('P',), ('P',), ('P',), ('P',), ('P',)], maxlen=5)\n"
     ]
    },
    {
     "name": "stderr",
     "output_type": "stream",
     "text": [
      "0: 608x800 1 Plastic, 242.0ms\n",
      "Speed: 0.0ms preprocess, 242.0ms inference, 1.0ms postprocess per image at shape (1, 3, 608, 800)\n",
      "\n"
     ]
    },
    {
     "name": "stdout",
     "output_type": "stream",
     "text": [
      "Labels: deque([('P',), ('P',), ('P',), ('P',), ('P',)], maxlen=5)\n"
     ]
    },
    {
     "name": "stderr",
     "output_type": "stream",
     "text": [
      "0: 608x800 1 Plastic, 233.0ms\n",
      "Speed: 0.0ms preprocess, 233.0ms inference, 1.0ms postprocess per image at shape (1, 3, 608, 800)\n",
      "\n"
     ]
    },
    {
     "name": "stdout",
     "output_type": "stream",
     "text": [
      "Labels: deque([('P',), ('P',), ('P',), ('P',), ('P',)], maxlen=5)\n"
     ]
    },
    {
     "name": "stderr",
     "output_type": "stream",
     "text": [
      "0: 608x800 1 Plastic, 307.5ms\n",
      "Speed: 3.6ms preprocess, 307.5ms inference, 0.0ms postprocess per image at shape (1, 3, 608, 800)\n",
      "\n"
     ]
    },
    {
     "name": "stdout",
     "output_type": "stream",
     "text": [
      "Labels: deque([('P',), ('P',), ('P',), ('P',), ('P',)], maxlen=5)\n"
     ]
    },
    {
     "name": "stderr",
     "output_type": "stream",
     "text": [
      "0: 608x800 1 Plastic, 236.0ms\n",
      "Speed: 8.3ms preprocess, 236.0ms inference, 0.0ms postprocess per image at shape (1, 3, 608, 800)\n",
      "\n"
     ]
    },
    {
     "name": "stdout",
     "output_type": "stream",
     "text": [
      "Response from ESP32: P CMD: Action for 'P' command\n",
      "Labels: deque([('P',), ('P',), ('P',), ('P',), ('P',)], maxlen=5)\n"
     ]
    },
    {
     "name": "stderr",
     "output_type": "stream",
     "text": [
      "0: 608x800 1 Plastic, 241.3ms\n",
      "Speed: 15.6ms preprocess, 241.3ms inference, 0.0ms postprocess per image at shape (1, 3, 608, 800)\n",
      "\n"
     ]
    },
    {
     "name": "stdout",
     "output_type": "stream",
     "text": [
      "Labels: deque([('P',), ('P',), ('P',), ('P',), ('P',)], maxlen=5)\n"
     ]
    },
    {
     "name": "stderr",
     "output_type": "stream",
     "text": [
      "0: 608x800 1 Plastic, 234.2ms\n",
      "Speed: 14.5ms preprocess, 234.2ms inference, 0.0ms postprocess per image at shape (1, 3, 608, 800)\n",
      "\n"
     ]
    },
    {
     "name": "stdout",
     "output_type": "stream",
     "text": [
      "Labels: deque([('P',), ('P',), ('P',), ('P',), ('P',)], maxlen=5)\n"
     ]
    },
    {
     "name": "stderr",
     "output_type": "stream",
     "text": [
      "0: 608x800 1 Plastic, 245.6ms\n",
      "Speed: 0.0ms preprocess, 245.6ms inference, 1.0ms postprocess per image at shape (1, 3, 608, 800)\n",
      "\n"
     ]
    },
    {
     "name": "stdout",
     "output_type": "stream",
     "text": [
      "Labels: deque([('P',), ('P',), ('P',), ('P',), ('P',)], maxlen=5)\n"
     ]
    },
    {
     "name": "stderr",
     "output_type": "stream",
     "text": [
      "0: 608x800 1 Plastic, 249.2ms\n",
      "Speed: 0.0ms preprocess, 249.2ms inference, 1.0ms postprocess per image at shape (1, 3, 608, 800)\n",
      "\n"
     ]
    },
    {
     "name": "stdout",
     "output_type": "stream",
     "text": [
      "Labels: deque([('P',), ('P',), ('P',), ('P',), ('P',)], maxlen=5)\n"
     ]
    },
    {
     "name": "stderr",
     "output_type": "stream",
     "text": [
      "0: 608x800 1 Plastic, 242.9ms\n",
      "Speed: 8.6ms preprocess, 242.9ms inference, 0.0ms postprocess per image at shape (1, 3, 608, 800)\n",
      "\n"
     ]
    },
    {
     "name": "stdout",
     "output_type": "stream",
     "text": [
      "Response from ESP32: P CMD: Action for 'P' command\n",
      "Labels: deque([('P',), ('P',), ('P',), ('P',), ('P',)], maxlen=5)\n"
     ]
    },
    {
     "name": "stderr",
     "output_type": "stream",
     "text": [
      "0: 608x800 1 Plastic, 304.7ms\n",
      "Speed: 0.0ms preprocess, 304.7ms inference, 2.0ms postprocess per image at shape (1, 3, 608, 800)\n",
      "\n"
     ]
    },
    {
     "name": "stdout",
     "output_type": "stream",
     "text": [
      "Labels: deque([('P',), ('P',), ('P',), ('P',), ('P',)], maxlen=5)\n"
     ]
    },
    {
     "name": "stderr",
     "output_type": "stream",
     "text": [
      "0: 608x800 1 Plastic, 258.7ms\n",
      "Speed: 3.8ms preprocess, 258.7ms inference, 1.0ms postprocess per image at shape (1, 3, 608, 800)\n",
      "\n"
     ]
    },
    {
     "name": "stdout",
     "output_type": "stream",
     "text": [
      "Labels: deque([('P',), ('P',), ('P',), ('P',), ('P',)], maxlen=5)\n"
     ]
    },
    {
     "name": "stderr",
     "output_type": "stream",
     "text": [
      "0: 608x800 1 Plastic, 239.8ms\n",
      "Speed: 4.0ms preprocess, 239.8ms inference, 0.0ms postprocess per image at shape (1, 3, 608, 800)\n",
      "\n"
     ]
    },
    {
     "name": "stdout",
     "output_type": "stream",
     "text": [
      "Labels: deque([('P',), ('P',), ('P',), ('P',), ('P',)], maxlen=5)\n"
     ]
    },
    {
     "name": "stderr",
     "output_type": "stream",
     "text": [
      "0: 608x800 1 Plastic, 250.5ms\n",
      "Speed: 0.0ms preprocess, 250.5ms inference, 1.4ms postprocess per image at shape (1, 3, 608, 800)\n",
      "\n"
     ]
    },
    {
     "name": "stdout",
     "output_type": "stream",
     "text": [
      "Labels: deque([('P',), ('P',), ('P',), ('P',), ('P',)], maxlen=5)\n"
     ]
    },
    {
     "name": "stderr",
     "output_type": "stream",
     "text": [
      "0: 608x800 1 Plastic, 248.9ms\n",
      "Speed: 0.0ms preprocess, 248.9ms inference, 1.0ms postprocess per image at shape (1, 3, 608, 800)\n",
      "\n"
     ]
    },
    {
     "name": "stdout",
     "output_type": "stream",
     "text": [
      "Response from ESP32: P CMD: Action for 'P' command\n",
      "Labels: deque([('P',), ('P',), ('P',), ('P',), ('P',)], maxlen=5)\n"
     ]
    },
    {
     "name": "stderr",
     "output_type": "stream",
     "text": [
      "0: 608x800 1 Plastic, 240.1ms\n",
      "Speed: 15.6ms preprocess, 240.1ms inference, 0.0ms postprocess per image at shape (1, 3, 608, 800)\n",
      "\n"
     ]
    },
    {
     "name": "stdout",
     "output_type": "stream",
     "text": [
      "Labels: deque([('P',), ('P',), ('P',), ('P',), ('P',)], maxlen=5)\n"
     ]
    },
    {
     "name": "stderr",
     "output_type": "stream",
     "text": [
      "0: 608x800 1 Plastic, 239.4ms\n",
      "Speed: 14.9ms preprocess, 239.4ms inference, 8.5ms postprocess per image at shape (1, 3, 608, 800)\n",
      "\n"
     ]
    },
    {
     "name": "stdout",
     "output_type": "stream",
     "text": [
      "Labels: deque([('P',), ('P',), ('P',), ('P',), ('P',)], maxlen=5)\n"
     ]
    },
    {
     "name": "stderr",
     "output_type": "stream",
     "text": [
      "0: 608x800 1 Plastic, 251.9ms\n",
      "Speed: 11.7ms preprocess, 251.9ms inference, 1.0ms postprocess per image at shape (1, 3, 608, 800)\n",
      "\n"
     ]
    },
    {
     "name": "stdout",
     "output_type": "stream",
     "text": [
      "Labels: deque([('P',), ('P',), ('P',), ('P',), ('P',)], maxlen=5)\n"
     ]
    },
    {
     "name": "stderr",
     "output_type": "stream",
     "text": [
      "0: 608x800 1 Plastic, 276.8ms\n",
      "Speed: 6.0ms preprocess, 276.8ms inference, 1.0ms postprocess per image at shape (1, 3, 608, 800)\n",
      "\n"
     ]
    },
    {
     "name": "stdout",
     "output_type": "stream",
     "text": [
      "Labels: deque([('P',), ('P',), ('P',), ('P',), ('P',)], maxlen=5)\n"
     ]
    },
    {
     "name": "stderr",
     "output_type": "stream",
     "text": [
      "0: 608x800 1 Plastic, 221.0ms\n",
      "Speed: 18.2ms preprocess, 221.0ms inference, 0.0ms postprocess per image at shape (1, 3, 608, 800)\n",
      "\n"
     ]
    },
    {
     "name": "stdout",
     "output_type": "stream",
     "text": [
      "Response from ESP32: P CMD: Action for 'P' command\n",
      "Labels: deque([('P',), ('P',), ('P',), ('P',), ('P',)], maxlen=5)\n"
     ]
    },
    {
     "name": "stderr",
     "output_type": "stream",
     "text": [
      "0: 608x800 1 Plastic, 251.5ms\n",
      "Speed: 0.0ms preprocess, 251.5ms inference, 0.0ms postprocess per image at shape (1, 3, 608, 800)\n",
      "\n"
     ]
    },
    {
     "name": "stdout",
     "output_type": "stream",
     "text": [
      "Labels: deque([('P',), ('P',), ('P',), ('P',), ('P',)], maxlen=5)\n"
     ]
    },
    {
     "name": "stderr",
     "output_type": "stream",
     "text": [
      "0: 608x800 1 Plastic, 248.6ms\n",
      "Speed: 6.0ms preprocess, 248.6ms inference, 0.0ms postprocess per image at shape (1, 3, 608, 800)\n",
      "\n"
     ]
    },
    {
     "name": "stdout",
     "output_type": "stream",
     "text": [
      "Labels: deque([('P',), ('P',), ('P',), ('P',), ('P',)], maxlen=5)\n"
     ]
    },
    {
     "name": "stderr",
     "output_type": "stream",
     "text": [
      "0: 608x800 1 Plastic, 253.0ms\n",
      "Speed: 0.0ms preprocess, 253.0ms inference, 0.0ms postprocess per image at shape (1, 3, 608, 800)\n",
      "\n"
     ]
    },
    {
     "name": "stdout",
     "output_type": "stream",
     "text": [
      "Labels: deque([('P',), ('P',), ('P',), ('P',), ('P',)], maxlen=5)\n"
     ]
    },
    {
     "name": "stderr",
     "output_type": "stream",
     "text": [
      "0: 608x800 1 Plastic, 242.2ms\n",
      "Speed: 5.0ms preprocess, 242.2ms inference, 9.4ms postprocess per image at shape (1, 3, 608, 800)\n",
      "\n"
     ]
    },
    {
     "name": "stdout",
     "output_type": "stream",
     "text": [
      "Labels: deque([('P',), ('P',), ('P',), ('P',), ('P',)], maxlen=5)\n"
     ]
    },
    {
     "name": "stderr",
     "output_type": "stream",
     "text": [
      "0: 608x800 1 Plastic, 254.9ms\n",
      "Speed: 6.0ms preprocess, 254.9ms inference, 0.4ms postprocess per image at shape (1, 3, 608, 800)\n",
      "\n"
     ]
    },
    {
     "name": "stdout",
     "output_type": "stream",
     "text": [
      "Response from ESP32: P CMD: Action for 'P' command\n",
      "Labels: deque([('P',), ('P',), ('P',), ('P',), ('P',)], maxlen=5)\n"
     ]
    },
    {
     "name": "stderr",
     "output_type": "stream",
     "text": [
      "0: 608x800 1 Plastic, 250.4ms\n",
      "Speed: 5.1ms preprocess, 250.4ms inference, 0.6ms postprocess per image at shape (1, 3, 608, 800)\n",
      "\n"
     ]
    },
    {
     "name": "stdout",
     "output_type": "stream",
     "text": [
      "Labels: deque([('P',), ('P',), ('P',), ('P',), ('P',)], maxlen=5)\n"
     ]
    },
    {
     "name": "stderr",
     "output_type": "stream",
     "text": [
      "0: 608x800 1 Plastic, 233.0ms\n",
      "Speed: 5.0ms preprocess, 233.0ms inference, 0.0ms postprocess per image at shape (1, 3, 608, 800)\n",
      "\n"
     ]
    },
    {
     "name": "stdout",
     "output_type": "stream",
     "text": [
      "Labels: deque([('P',), ('P',), ('P',), ('P',), ('P',)], maxlen=5)\n"
     ]
    },
    {
     "name": "stderr",
     "output_type": "stream",
     "text": [
      "0: 608x800 1 Metal, 1 Plastic, 233.3ms\n",
      "Speed: 5.0ms preprocess, 233.3ms inference, 1.0ms postprocess per image at shape (1, 3, 608, 800)\n",
      "\n"
     ]
    },
    {
     "name": "stdout",
     "output_type": "stream",
     "text": [
      "Labels: deque([('P',), ('P',), ('P',), ('P',), ('m',)], maxlen=5)\n"
     ]
    },
    {
     "name": "stderr",
     "output_type": "stream",
     "text": [
      "0: 608x800 1 Metal, 1 Plastic, 250.6ms\n",
      "Speed: 3.2ms preprocess, 250.6ms inference, 0.0ms postprocess per image at shape (1, 3, 608, 800)\n",
      "\n"
     ]
    },
    {
     "name": "stdout",
     "output_type": "stream",
     "text": [
      "Labels: deque([('P',), ('P',), ('P',), ('m',), ('m',)], maxlen=5)\n"
     ]
    },
    {
     "name": "stderr",
     "output_type": "stream",
     "text": [
      "0: 608x800 1 Metal, 1 Plastic, 242.5ms\n",
      "Speed: 14.9ms preprocess, 242.5ms inference, 0.0ms postprocess per image at shape (1, 3, 608, 800)\n",
      "\n"
     ]
    },
    {
     "name": "stdout",
     "output_type": "stream",
     "text": [
      "Labels: deque([('P',), ('P',), ('m',), ('m',), ('m',)], maxlen=5)\n"
     ]
    },
    {
     "name": "stderr",
     "output_type": "stream",
     "text": [
      "0: 608x800 1 Metal, 254.9ms\n",
      "Speed: 0.0ms preprocess, 254.9ms inference, 1.1ms postprocess per image at shape (1, 3, 608, 800)\n",
      "\n"
     ]
    },
    {
     "name": "stdout",
     "output_type": "stream",
     "text": [
      "Labels: deque([('P',), ('m',), ('m',), ('m',), ('m',)], maxlen=5)\n"
     ]
    },
    {
     "name": "stderr",
     "output_type": "stream",
     "text": [
      "0: 608x800 1 Metal, 257.7ms\n",
      "Speed: 4.0ms preprocess, 257.7ms inference, 10.6ms postprocess per image at shape (1, 3, 608, 800)\n",
      "\n"
     ]
    },
    {
     "name": "stdout",
     "output_type": "stream",
     "text": [
      "Labels: deque([('m',), ('m',), ('m',), ('m',), ('m',)], maxlen=5)\n"
     ]
    },
    {
     "name": "stderr",
     "output_type": "stream",
     "text": [
      "0: 608x800 1 Metal, 259.9ms\n",
      "Speed: 6.0ms preprocess, 259.9ms inference, 0.0ms postprocess per image at shape (1, 3, 608, 800)\n",
      "\n"
     ]
    },
    {
     "name": "stdout",
     "output_type": "stream",
     "text": [
      "Labels: deque([('m',), ('m',), ('m',), ('m',), ('m',)], maxlen=5)\n"
     ]
    },
    {
     "name": "stderr",
     "output_type": "stream",
     "text": [
      "0: 608x800 1 Metal, 1 Plastic, 238.9ms\n",
      "Speed: 4.0ms preprocess, 238.9ms inference, 1.0ms postprocess per image at shape (1, 3, 608, 800)\n",
      "\n"
     ]
    },
    {
     "name": "stdout",
     "output_type": "stream",
     "text": [
      "Response from ESP32: M CMD: Action for 'M' command\n",
      "Labels: deque([('m',), ('m',), ('m',), ('m',), ('m',)], maxlen=5)\n"
     ]
    },
    {
     "name": "stderr",
     "output_type": "stream",
     "text": [
      "0: 608x800 1 Metal, 252.3ms\n",
      "Speed: 0.0ms preprocess, 252.3ms inference, 0.0ms postprocess per image at shape (1, 3, 608, 800)\n",
      "\n"
     ]
    },
    {
     "name": "stdout",
     "output_type": "stream",
     "text": [
      "Labels: deque([('m',), ('m',), ('m',), ('m',), ('m',)], maxlen=5)\n"
     ]
    },
    {
     "name": "stderr",
     "output_type": "stream",
     "text": [
      "0: 608x800 1 Metal, 2 Plastics, 238.9ms\n",
      "Speed: 15.0ms preprocess, 238.9ms inference, 0.0ms postprocess per image at shape (1, 3, 608, 800)\n",
      "\n"
     ]
    },
    {
     "name": "stdout",
     "output_type": "stream",
     "text": [
      "Labels: deque([('m',), ('m',), ('m',), ('m',), ('m',)], maxlen=5)\n"
     ]
    },
    {
     "name": "stderr",
     "output_type": "stream",
     "text": [
      "0: 608x800 1 Metal, 232.6ms\n",
      "Speed: 5.0ms preprocess, 232.6ms inference, 0.0ms postprocess per image at shape (1, 3, 608, 800)\n",
      "\n"
     ]
    },
    {
     "name": "stdout",
     "output_type": "stream",
     "text": [
      "Labels: deque([('m',), ('m',), ('m',), ('m',), ('m',)], maxlen=5)\n"
     ]
    },
    {
     "name": "stderr",
     "output_type": "stream",
     "text": [
      "0: 608x800 1 Metal, 1 Plastic, 216.3ms\n",
      "Speed: 6.0ms preprocess, 216.3ms inference, 9.2ms postprocess per image at shape (1, 3, 608, 800)\n",
      "\n"
     ]
    },
    {
     "name": "stdout",
     "output_type": "stream",
     "text": [
      "Labels: deque([('m',), ('m',), ('m',), ('m',), ('m',)], maxlen=5)\n"
     ]
    },
    {
     "name": "stderr",
     "output_type": "stream",
     "text": [
      "0: 608x800 1 Metal, 1 Plastic, 291.7ms\n",
      "Speed: 4.0ms preprocess, 291.7ms inference, 0.0ms postprocess per image at shape (1, 3, 608, 800)\n",
      "\n"
     ]
    },
    {
     "name": "stdout",
     "output_type": "stream",
     "text": [
      "Response from ESP32: M CMD: Action for 'M' command\n",
      "Labels: deque([('m',), ('m',), ('m',), ('m',), ('m',)], maxlen=5)\n"
     ]
    },
    {
     "name": "stderr",
     "output_type": "stream",
     "text": [
      "0: 608x800 2 Metals, 2 Plastics, 245.2ms\n",
      "Speed: 10.0ms preprocess, 245.2ms inference, 0.0ms postprocess per image at shape (1, 3, 608, 800)\n",
      "\n"
     ]
    },
    {
     "name": "stdout",
     "output_type": "stream",
     "text": [
      "Labels: deque([('m',), ('m',), ('m',), ('m',), ('m',)], maxlen=5)\n"
     ]
    },
    {
     "name": "stderr",
     "output_type": "stream",
     "text": [
      "0: 608x800 2 Metals, 1 Plastic, 244.9ms\n",
      "Speed: 5.0ms preprocess, 244.9ms inference, 0.0ms postprocess per image at shape (1, 3, 608, 800)\n",
      "\n"
     ]
    },
    {
     "name": "stdout",
     "output_type": "stream",
     "text": [
      "Labels: deque([('m',), ('m',), ('m',), ('m',), ('m',)], maxlen=5)\n"
     ]
    },
    {
     "name": "stderr",
     "output_type": "stream",
     "text": [
      "0: 608x800 1 Metal, 246.0ms\n",
      "Speed: 5.0ms preprocess, 246.0ms inference, 1.0ms postprocess per image at shape (1, 3, 608, 800)\n",
      "\n"
     ]
    },
    {
     "name": "stdout",
     "output_type": "stream",
     "text": [
      "Labels: deque([('m',), ('m',), ('m',), ('m',), ('m',)], maxlen=5)\n"
     ]
    },
    {
     "name": "stderr",
     "output_type": "stream",
     "text": [
      "0: 608x800 1 Metal, 242.3ms\n",
      "Speed: 14.3ms preprocess, 242.3ms inference, 1.0ms postprocess per image at shape (1, 3, 608, 800)\n",
      "\n"
     ]
    },
    {
     "name": "stdout",
     "output_type": "stream",
     "text": [
      "Labels: deque([('m',), ('m',), ('m',), ('m',), ('m',)], maxlen=5)\n"
     ]
    },
    {
     "name": "stderr",
     "output_type": "stream",
     "text": [
      "0: 608x800 1 Metal, 254.9ms\n",
      "Speed: 12.2ms preprocess, 254.9ms inference, 0.0ms postprocess per image at shape (1, 3, 608, 800)\n",
      "\n"
     ]
    },
    {
     "name": "stdout",
     "output_type": "stream",
     "text": [
      "Response from ESP32: M CMD: Action for 'M' command\n",
      "Labels: deque([('m',), ('m',), ('m',), ('m',), ('m',)], maxlen=5)\n"
     ]
    },
    {
     "name": "stderr",
     "output_type": "stream",
     "text": [
      "0: 608x800 1 Glass, 1 Metal, 246.2ms\n",
      "Speed: 0.0ms preprocess, 246.2ms inference, 1.0ms postprocess per image at shape (1, 3, 608, 800)\n",
      "\n"
     ]
    },
    {
     "name": "stdout",
     "output_type": "stream",
     "text": [
      "Labels: deque([('m',), ('m',), ('m',), ('m',), ('m',)], maxlen=5)\n"
     ]
    },
    {
     "name": "stderr",
     "output_type": "stream",
     "text": [
      "0: 608x800 1 Metal, 285.5ms\n",
      "Speed: 12.4ms preprocess, 285.5ms inference, 1.0ms postprocess per image at shape (1, 3, 608, 800)\n",
      "\n"
     ]
    },
    {
     "name": "stdout",
     "output_type": "stream",
     "text": [
      "Labels: deque([('m',), ('m',), ('m',), ('m',), ('m',)], maxlen=5)\n"
     ]
    },
    {
     "name": "stderr",
     "output_type": "stream",
     "text": [
      "0: 608x800 1 Metal, 271.5ms\n",
      "Speed: 14.9ms preprocess, 271.5ms inference, 1.0ms postprocess per image at shape (1, 3, 608, 800)\n",
      "\n"
     ]
    },
    {
     "name": "stdout",
     "output_type": "stream",
     "text": [
      "Labels: deque([('m',), ('m',), ('m',), ('m',), ('m',)], maxlen=5)\n"
     ]
    },
    {
     "name": "stderr",
     "output_type": "stream",
     "text": [
      "0: 608x800 1 Metal, 242.5ms\n",
      "Speed: 4.0ms preprocess, 242.5ms inference, 2.0ms postprocess per image at shape (1, 3, 608, 800)\n",
      "\n"
     ]
    },
    {
     "name": "stdout",
     "output_type": "stream",
     "text": [
      "Labels: deque([('m',), ('m',), ('m',), ('m',), ('m',)], maxlen=5)\n"
     ]
    },
    {
     "name": "stderr",
     "output_type": "stream",
     "text": [
      "0: 608x800 1 Metal, 254.3ms\n",
      "Speed: 0.0ms preprocess, 254.3ms inference, 1.0ms postprocess per image at shape (1, 3, 608, 800)\n",
      "\n"
     ]
    },
    {
     "name": "stdout",
     "output_type": "stream",
     "text": [
      "Response from ESP32: M CMD: Action for 'M' command\n",
      "Labels: deque([('m',), ('m',), ('m',), ('m',), ('m',)], maxlen=5)\n"
     ]
    },
    {
     "name": "stderr",
     "output_type": "stream",
     "text": [
      "0: 608x800 1 Metal, 250.4ms\n",
      "Speed: 1.0ms preprocess, 250.4ms inference, 1.0ms postprocess per image at shape (1, 3, 608, 800)\n",
      "\n"
     ]
    },
    {
     "name": "stdout",
     "output_type": "stream",
     "text": [
      "Labels: deque([('m',), ('m',), ('m',), ('m',), ('m',)], maxlen=5)\n"
     ]
    },
    {
     "name": "stderr",
     "output_type": "stream",
     "text": [
      "0: 608x800 1 Metal, 247.9ms\n",
      "Speed: 14.1ms preprocess, 247.9ms inference, 1.0ms postprocess per image at shape (1, 3, 608, 800)\n",
      "\n"
     ]
    },
    {
     "name": "stdout",
     "output_type": "stream",
     "text": [
      "Labels: deque([('m',), ('m',), ('m',), ('m',), ('m',)], maxlen=5)\n"
     ]
    },
    {
     "name": "stderr",
     "output_type": "stream",
     "text": [
      "0: 608x800 1 Metal, 249.8ms\n",
      "Speed: 5.0ms preprocess, 249.8ms inference, 0.0ms postprocess per image at shape (1, 3, 608, 800)\n",
      "\n"
     ]
    },
    {
     "name": "stdout",
     "output_type": "stream",
     "text": [
      "Labels: deque([('m',), ('m',), ('m',), ('m',), ('m',)], maxlen=5)\n"
     ]
    },
    {
     "name": "stderr",
     "output_type": "stream",
     "text": [
      "0: 608x800 1 Metal, 279.3ms\n",
      "Speed: 5.0ms preprocess, 279.3ms inference, 1.0ms postprocess per image at shape (1, 3, 608, 800)\n",
      "\n"
     ]
    },
    {
     "name": "stdout",
     "output_type": "stream",
     "text": [
      "Labels: deque([('m',), ('m',), ('m',), ('m',), ('m',)], maxlen=5)\n"
     ]
    },
    {
     "name": "stderr",
     "output_type": "stream",
     "text": [
      "0: 608x800 1 Metal, 269.8ms\n",
      "Speed: 7.1ms preprocess, 269.8ms inference, 1.0ms postprocess per image at shape (1, 3, 608, 800)\n",
      "\n"
     ]
    },
    {
     "name": "stdout",
     "output_type": "stream",
     "text": [
      "Response from ESP32: M CMD: Action for 'M' command\n",
      "Labels: deque([('m',), ('m',), ('m',), ('m',), ('m',)], maxlen=5)\n"
     ]
    },
    {
     "name": "stderr",
     "output_type": "stream",
     "text": [
      "0: 608x800 1 Metal, 246.5ms\n",
      "Speed: 6.0ms preprocess, 246.5ms inference, 1.0ms postprocess per image at shape (1, 3, 608, 800)\n",
      "\n"
     ]
    },
    {
     "name": "stdout",
     "output_type": "stream",
     "text": [
      "Labels: deque([('m',), ('m',), ('m',), ('m',), ('m',)], maxlen=5)\n"
     ]
    },
    {
     "name": "stderr",
     "output_type": "stream",
     "text": [
      "0: 608x800 1 Metal, 240.9ms\n",
      "Speed: 4.0ms preprocess, 240.9ms inference, 1.0ms postprocess per image at shape (1, 3, 608, 800)\n",
      "\n"
     ]
    },
    {
     "name": "stdout",
     "output_type": "stream",
     "text": [
      "Labels: deque([('m',), ('m',), ('m',), ('m',), ('m',)], maxlen=5)\n"
     ]
    },
    {
     "name": "stderr",
     "output_type": "stream",
     "text": [
      "0: 608x800 2 Metals, 235.2ms\n",
      "Speed: 0.0ms preprocess, 235.2ms inference, 0.0ms postprocess per image at shape (1, 3, 608, 800)\n",
      "\n"
     ]
    },
    {
     "name": "stdout",
     "output_type": "stream",
     "text": [
      "Labels: deque([('m',), ('m',), ('m',), ('m',), ('m',)], maxlen=5)\n"
     ]
    },
    {
     "name": "stderr",
     "output_type": "stream",
     "text": [
      "0: 608x800 1 Metal, 233.1ms\n",
      "Speed: 10.3ms preprocess, 233.1ms inference, 1.0ms postprocess per image at shape (1, 3, 608, 800)\n",
      "\n"
     ]
    },
    {
     "name": "stdout",
     "output_type": "stream",
     "text": [
      "Labels: deque([('m',), ('m',), ('m',), ('m',), ('m',)], maxlen=5)\n"
     ]
    },
    {
     "name": "stderr",
     "output_type": "stream",
     "text": [
      "0: 608x800 1 Metal, 254.0ms\n",
      "Speed: 0.0ms preprocess, 254.0ms inference, 1.0ms postprocess per image at shape (1, 3, 608, 800)\n",
      "\n"
     ]
    },
    {
     "name": "stdout",
     "output_type": "stream",
     "text": [
      "Response from ESP32: M CMD: Action for 'M' command\n",
      "Labels: deque([('m',), ('m',), ('m',), ('m',), ('m',)], maxlen=5)\n"
     ]
    },
    {
     "name": "stderr",
     "output_type": "stream",
     "text": [
      "0: 608x800 1 Metal, 243.3ms\n",
      "Speed: 7.1ms preprocess, 243.3ms inference, 1.0ms postprocess per image at shape (1, 3, 608, 800)\n",
      "\n"
     ]
    },
    {
     "name": "stdout",
     "output_type": "stream",
     "text": [
      "Labels: deque([('m',), ('m',), ('m',), ('m',), ('m',)], maxlen=5)\n"
     ]
    },
    {
     "name": "stderr",
     "output_type": "stream",
     "text": [
      "0: 608x800 1 Metal, 269.5ms\n",
      "Speed: 15.3ms preprocess, 269.5ms inference, 0.0ms postprocess per image at shape (1, 3, 608, 800)\n",
      "\n"
     ]
    },
    {
     "name": "stdout",
     "output_type": "stream",
     "text": [
      "Labels: deque([('m',), ('m',), ('m',), ('m',), ('m',)], maxlen=5)\n"
     ]
    },
    {
     "name": "stderr",
     "output_type": "stream",
     "text": [
      "0: 608x800 1 Metal, 238.4ms\n",
      "Speed: 5.6ms preprocess, 238.4ms inference, 0.0ms postprocess per image at shape (1, 3, 608, 800)\n",
      "\n"
     ]
    },
    {
     "name": "stdout",
     "output_type": "stream",
     "text": [
      "Labels: deque([('m',), ('m',), ('m',), ('m',), ('m',)], maxlen=5)\n"
     ]
    },
    {
     "name": "stderr",
     "output_type": "stream",
     "text": [
      "0: 608x800 1 Metal, 255.8ms\n",
      "Speed: 5.0ms preprocess, 255.8ms inference, 1.0ms postprocess per image at shape (1, 3, 608, 800)\n",
      "\n"
     ]
    },
    {
     "name": "stdout",
     "output_type": "stream",
     "text": [
      "Labels: deque([('m',), ('m',), ('m',), ('m',), ('m',)], maxlen=5)\n"
     ]
    },
    {
     "name": "stderr",
     "output_type": "stream",
     "text": [
      "0: 608x800 1 Metal, 233.5ms\n",
      "Speed: 1.0ms preprocess, 233.5ms inference, 2.0ms postprocess per image at shape (1, 3, 608, 800)\n",
      "\n"
     ]
    },
    {
     "name": "stdout",
     "output_type": "stream",
     "text": [
      "Response from ESP32: M CMD: Action for 'M' command\n",
      "Labels: deque([('m',), ('m',), ('m',), ('m',), ('m',)], maxlen=5)\n"
     ]
    },
    {
     "name": "stderr",
     "output_type": "stream",
     "text": [
      "0: 608x800 1 Metal, 249.2ms\n",
      "Speed: 0.0ms preprocess, 249.2ms inference, 0.0ms postprocess per image at shape (1, 3, 608, 800)\n",
      "\n"
     ]
    },
    {
     "name": "stdout",
     "output_type": "stream",
     "text": [
      "Labels: deque([('m',), ('m',), ('m',), ('m',), ('m',)], maxlen=5)\n"
     ]
    },
    {
     "name": "stderr",
     "output_type": "stream",
     "text": [
      "0: 608x800 1 Metal, 249.9ms\n",
      "Speed: 15.3ms preprocess, 249.9ms inference, 1.0ms postprocess per image at shape (1, 3, 608, 800)\n",
      "\n"
     ]
    },
    {
     "name": "stdout",
     "output_type": "stream",
     "text": [
      "Labels: deque([('m',), ('m',), ('m',), ('m',), ('m',)], maxlen=5)\n"
     ]
    },
    {
     "name": "stderr",
     "output_type": "stream",
     "text": [
      "0: 608x800 1 Metal, 281.3ms\n",
      "Speed: 0.0ms preprocess, 281.3ms inference, 1.0ms postprocess per image at shape (1, 3, 608, 800)\n",
      "\n"
     ]
    },
    {
     "name": "stdout",
     "output_type": "stream",
     "text": [
      "Labels: deque([('m',), ('m',), ('m',), ('m',), ('m',)], maxlen=5)\n"
     ]
    },
    {
     "name": "stderr",
     "output_type": "stream",
     "text": [
      "0: 608x800 1 Metal, 280.8ms\n",
      "Speed: 6.2ms preprocess, 280.8ms inference, 1.0ms postprocess per image at shape (1, 3, 608, 800)\n",
      "\n"
     ]
    },
    {
     "name": "stdout",
     "output_type": "stream",
     "text": [
      "Labels: deque([('m',), ('m',), ('m',), ('m',), ('m',)], maxlen=5)\n"
     ]
    },
    {
     "name": "stderr",
     "output_type": "stream",
     "text": [
      "0: 608x800 1 Metal, 252.9ms\n",
      "Speed: 20.0ms preprocess, 252.9ms inference, 1.0ms postprocess per image at shape (1, 3, 608, 800)\n",
      "\n"
     ]
    },
    {
     "name": "stdout",
     "output_type": "stream",
     "text": [
      "Response from ESP32: M CMD: Action for 'M' command\n",
      "Labels: deque([('m',), ('m',), ('m',), ('m',), ('m',)], maxlen=5)\n"
     ]
    },
    {
     "name": "stderr",
     "output_type": "stream",
     "text": [
      "0: 608x800 1 Metal, 253.2ms\n",
      "Speed: 1.5ms preprocess, 253.2ms inference, 1.0ms postprocess per image at shape (1, 3, 608, 800)\n",
      "\n"
     ]
    },
    {
     "name": "stdout",
     "output_type": "stream",
     "text": [
      "Labels: deque([('m',), ('m',), ('m',), ('m',), ('m',)], maxlen=5)\n"
     ]
    },
    {
     "name": "stderr",
     "output_type": "stream",
     "text": [
      "0: 608x800 1 Metal, 257.6ms\n",
      "Speed: 5.0ms preprocess, 257.6ms inference, 1.0ms postprocess per image at shape (1, 3, 608, 800)\n",
      "\n"
     ]
    },
    {
     "name": "stdout",
     "output_type": "stream",
     "text": [
      "Labels: deque([('m',), ('m',), ('m',), ('m',), ('m',)], maxlen=5)\n"
     ]
    },
    {
     "name": "stderr",
     "output_type": "stream",
     "text": [
      "0: 608x800 1 Metal, 236.0ms\n",
      "Speed: 4.0ms preprocess, 236.0ms inference, 1.1ms postprocess per image at shape (1, 3, 608, 800)\n",
      "\n"
     ]
    },
    {
     "name": "stdout",
     "output_type": "stream",
     "text": [
      "Labels: deque([('m',), ('m',), ('m',), ('m',), ('m',)], maxlen=5)\n"
     ]
    },
    {
     "name": "stderr",
     "output_type": "stream",
     "text": [
      "0: 608x800 1 Metal, 263.5ms\n",
      "Speed: 5.0ms preprocess, 263.5ms inference, 0.0ms postprocess per image at shape (1, 3, 608, 800)\n",
      "\n"
     ]
    },
    {
     "name": "stdout",
     "output_type": "stream",
     "text": [
      "Labels: deque([('m',), ('m',), ('m',), ('m',), ('m',)], maxlen=5)\n"
     ]
    },
    {
     "name": "stderr",
     "output_type": "stream",
     "text": [
      "0: 608x800 1 Metal, 256.6ms\n",
      "Speed: 5.0ms preprocess, 256.6ms inference, 2.0ms postprocess per image at shape (1, 3, 608, 800)\n",
      "\n"
     ]
    },
    {
     "name": "stdout",
     "output_type": "stream",
     "text": [
      "Response from ESP32: M CMD: Action for 'M' command\n",
      "Labels: deque([('m',), ('m',), ('m',), ('m',), ('m',)], maxlen=5)\n"
     ]
    },
    {
     "name": "stderr",
     "output_type": "stream",
     "text": [
      "0: 608x800 1 Metal, 267.9ms\n",
      "Speed: 15.6ms preprocess, 267.9ms inference, 1.0ms postprocess per image at shape (1, 3, 608, 800)\n",
      "\n"
     ]
    },
    {
     "name": "stdout",
     "output_type": "stream",
     "text": [
      "Labels: deque([('m',), ('m',), ('m',), ('m',), ('m',)], maxlen=5)\n"
     ]
    },
    {
     "name": "stderr",
     "output_type": "stream",
     "text": [
      "0: 608x800 1 Metal, 286.7ms\n",
      "Speed: 0.0ms preprocess, 286.7ms inference, 0.0ms postprocess per image at shape (1, 3, 608, 800)\n",
      "\n"
     ]
    },
    {
     "name": "stdout",
     "output_type": "stream",
     "text": [
      "Labels: deque([('m',), ('m',), ('m',), ('m',), ('m',)], maxlen=5)\n"
     ]
    },
    {
     "name": "stderr",
     "output_type": "stream",
     "text": [
      "0: 608x800 1 Metal, 250.9ms\n",
      "Speed: 4.0ms preprocess, 250.9ms inference, 0.0ms postprocess per image at shape (1, 3, 608, 800)\n",
      "\n"
     ]
    },
    {
     "name": "stdout",
     "output_type": "stream",
     "text": [
      "Labels: deque([('m',), ('m',), ('m',), ('m',), ('m',)], maxlen=5)\n"
     ]
    },
    {
     "name": "stderr",
     "output_type": "stream",
     "text": [
      "0: 608x800 1 Metal, 251.8ms\n",
      "Speed: 6.0ms preprocess, 251.8ms inference, 2.0ms postprocess per image at shape (1, 3, 608, 800)\n",
      "\n"
     ]
    },
    {
     "name": "stdout",
     "output_type": "stream",
     "text": [
      "Labels: deque([('m',), ('m',), ('m',), ('m',), ('m',)], maxlen=5)\n"
     ]
    },
    {
     "name": "stderr",
     "output_type": "stream",
     "text": [
      "0: 608x800 1 Metal, 255.7ms\n",
      "Speed: 0.0ms preprocess, 255.7ms inference, 1.5ms postprocess per image at shape (1, 3, 608, 800)\n",
      "\n"
     ]
    },
    {
     "name": "stdout",
     "output_type": "stream",
     "text": [
      "Response from ESP32: M CMD: Action for 'M' command\n",
      "Labels: deque([('m',), ('m',), ('m',), ('m',), ('m',)], maxlen=5)\n"
     ]
    },
    {
     "name": "stderr",
     "output_type": "stream",
     "text": [
      "0: 608x800 1 Metal, 246.6ms\n",
      "Speed: 4.0ms preprocess, 246.6ms inference, 0.0ms postprocess per image at shape (1, 3, 608, 800)\n",
      "\n"
     ]
    },
    {
     "name": "stdout",
     "output_type": "stream",
     "text": [
      "Labels: deque([('m',), ('m',), ('m',), ('m',), ('m',)], maxlen=5)\n"
     ]
    },
    {
     "name": "stderr",
     "output_type": "stream",
     "text": [
      "0: 608x800 (no detections), 275.2ms\n",
      "Speed: 3.0ms preprocess, 275.2ms inference, 1.0ms postprocess per image at shape (1, 3, 608, 800)\n",
      "\n"
     ]
    },
    {
     "name": "stdout",
     "output_type": "stream",
     "text": [
      "Labels: deque([('m',), ('m',), ('m',), ('m',), ()], maxlen=5)\n"
     ]
    },
    {
     "name": "stderr",
     "output_type": "stream",
     "text": [
      "0: 608x800 (no detections), 256.3ms\n",
      "Speed: 7.0ms preprocess, 256.3ms inference, 0.0ms postprocess per image at shape (1, 3, 608, 800)\n",
      "\n"
     ]
    },
    {
     "name": "stdout",
     "output_type": "stream",
     "text": [
      "Labels: deque([('m',), ('m',), ('m',), (), ()], maxlen=5)\n"
     ]
    },
    {
     "name": "stderr",
     "output_type": "stream",
     "text": [
      "0: 608x800 (no detections), 280.5ms\n",
      "Speed: 5.0ms preprocess, 280.5ms inference, 0.0ms postprocess per image at shape (1, 3, 608, 800)\n",
      "\n"
     ]
    },
    {
     "name": "stdout",
     "output_type": "stream",
     "text": [
      "Labels: deque([('m',), ('m',), (), (), ()], maxlen=5)\n"
     ]
    },
    {
     "name": "stderr",
     "output_type": "stream",
     "text": [
      "0: 608x800 (no detections), 266.2ms\n",
      "Speed: 0.0ms preprocess, 266.2ms inference, 1.0ms postprocess per image at shape (1, 3, 608, 800)\n",
      "\n"
     ]
    },
    {
     "name": "stdout",
     "output_type": "stream",
     "text": [
      "Labels: deque([('m',), (), (), (), ()], maxlen=5)\n"
     ]
    },
    {
     "name": "stderr",
     "output_type": "stream",
     "text": [
      "0: 608x800 (no detections), 251.9ms\n",
      "Speed: 4.0ms preprocess, 251.9ms inference, 1.0ms postprocess per image at shape (1, 3, 608, 800)\n",
      "\n"
     ]
    },
    {
     "name": "stdout",
     "output_type": "stream",
     "text": [
      "Labels: deque([(), (), (), (), ()], maxlen=5)\n"
     ]
    },
    {
     "name": "stderr",
     "output_type": "stream",
     "text": [
      "0: 608x800 (no detections), 251.9ms\n",
      "Speed: 18.0ms preprocess, 251.9ms inference, 0.4ms postprocess per image at shape (1, 3, 608, 800)\n",
      "\n"
     ]
    },
    {
     "name": "stdout",
     "output_type": "stream",
     "text": [
      "Labels: deque([(), (), (), (), ()], maxlen=5)\n"
     ]
    },
    {
     "name": "stderr",
     "output_type": "stream",
     "text": [
      "0: 608x800 (no detections), 257.6ms\n",
      "Speed: 5.0ms preprocess, 257.6ms inference, 1.0ms postprocess per image at shape (1, 3, 608, 800)\n",
      "\n"
     ]
    },
    {
     "name": "stdout",
     "output_type": "stream",
     "text": [
      "Labels: deque([(), (), (), (), ()], maxlen=5)\n"
     ]
    },
    {
     "name": "stderr",
     "output_type": "stream",
     "text": [
      "0: 608x800 1 Glass, 1 Plastic, 245.5ms\n",
      "Speed: 5.0ms preprocess, 245.5ms inference, 1.0ms postprocess per image at shape (1, 3, 608, 800)\n",
      "\n"
     ]
    },
    {
     "name": "stdout",
     "output_type": "stream",
     "text": [
      "Labels: deque([(), (), (), (), ('P',)], maxlen=5)\n"
     ]
    },
    {
     "name": "stderr",
     "output_type": "stream",
     "text": [
      "0: 608x800 1 Glass, 1 Plastic, 263.9ms\n",
      "Speed: 14.1ms preprocess, 263.9ms inference, 2.0ms postprocess per image at shape (1, 3, 608, 800)\n",
      "\n"
     ]
    },
    {
     "name": "stdout",
     "output_type": "stream",
     "text": [
      "Labels: deque([(), (), (), ('P',), ('P',)], maxlen=5)\n"
     ]
    },
    {
     "name": "stderr",
     "output_type": "stream",
     "text": [
      "0: 608x800 1 Glass, 1 Plastic, 286.4ms\n",
      "Speed: 6.0ms preprocess, 286.4ms inference, 0.0ms postprocess per image at shape (1, 3, 608, 800)\n",
      "\n"
     ]
    },
    {
     "name": "stdout",
     "output_type": "stream",
     "text": [
      "Labels: deque([(), (), ('P',), ('P',), ('P',)], maxlen=5)\n"
     ]
    },
    {
     "name": "stderr",
     "output_type": "stream",
     "text": [
      "0: 608x800 1 Glass, 250.3ms\n",
      "Speed: 14.1ms preprocess, 250.3ms inference, 1.0ms postprocess per image at shape (1, 3, 608, 800)\n",
      "\n"
     ]
    },
    {
     "name": "stdout",
     "output_type": "stream",
     "text": [
      "Labels: deque([(), ('P',), ('P',), ('P',), ('P',)], maxlen=5)\n"
     ]
    },
    {
     "name": "stderr",
     "output_type": "stream",
     "text": [
      "0: 608x800 1 Glass, 247.2ms\n",
      "Speed: 5.0ms preprocess, 247.2ms inference, 0.0ms postprocess per image at shape (1, 3, 608, 800)\n",
      "\n"
     ]
    },
    {
     "name": "stdout",
     "output_type": "stream",
     "text": [
      "Labels: deque([('P',), ('P',), ('P',), ('P',), ('P',)], maxlen=5)\n"
     ]
    },
    {
     "name": "stderr",
     "output_type": "stream",
     "text": [
      "0: 608x800 1 Glass, 258.2ms\n",
      "Speed: 0.0ms preprocess, 258.2ms inference, 0.6ms postprocess per image at shape (1, 3, 608, 800)\n",
      "\n"
     ]
    },
    {
     "name": "stdout",
     "output_type": "stream",
     "text": [
      "Labels: deque([('P',), ('P',), ('P',), ('P',), ('P',)], maxlen=5)\n"
     ]
    },
    {
     "name": "stderr",
     "output_type": "stream",
     "text": [
      "0: 608x800 1 Glass, 241.1ms\n",
      "Speed: 12.7ms preprocess, 241.1ms inference, 0.0ms postprocess per image at shape (1, 3, 608, 800)\n",
      "\n"
     ]
    },
    {
     "name": "stdout",
     "output_type": "stream",
     "text": [
      "Labels: deque([('P',), ('P',), ('P',), ('P',), ('P',)], maxlen=5)\n"
     ]
    },
    {
     "name": "stderr",
     "output_type": "stream",
     "text": [
      "0: 608x800 1 Glass, 1 Metal, 237.9ms\n",
      "Speed: 4.7ms preprocess, 237.9ms inference, 0.0ms postprocess per image at shape (1, 3, 608, 800)\n",
      "\n"
     ]
    },
    {
     "name": "stdout",
     "output_type": "stream",
     "text": [
      "Labels: deque([('P',), ('P',), ('P',), ('P',), ('m',)], maxlen=5)\n"
     ]
    },
    {
     "name": "stderr",
     "output_type": "stream",
     "text": [
      "0: 608x800 1 Metal, 256.0ms\n",
      "Speed: 0.0ms preprocess, 256.0ms inference, 2.0ms postprocess per image at shape (1, 3, 608, 800)\n",
      "\n"
     ]
    },
    {
     "name": "stdout",
     "output_type": "stream",
     "text": [
      "Labels: deque([('P',), ('P',), ('P',), ('m',), ('m',)], maxlen=5)\n"
     ]
    },
    {
     "name": "stderr",
     "output_type": "stream",
     "text": [
      "0: 608x800 1 Glass, 1 Metal, 296.2ms\n",
      "Speed: 6.0ms preprocess, 296.2ms inference, 0.0ms postprocess per image at shape (1, 3, 608, 800)\n",
      "\n"
     ]
    },
    {
     "name": "stdout",
     "output_type": "stream",
     "text": [
      "Labels: deque([('P',), ('P',), ('m',), ('m',), ('m',)], maxlen=5)\n"
     ]
    },
    {
     "name": "stderr",
     "output_type": "stream",
     "text": [
      "0: 608x800 1 Glass, 1 Metal, 276.9ms\n",
      "Speed: 16.7ms preprocess, 276.9ms inference, 0.0ms postprocess per image at shape (1, 3, 608, 800)\n",
      "\n"
     ]
    },
    {
     "name": "stdout",
     "output_type": "stream",
     "text": [
      "Labels: deque([('P',), ('m',), ('m',), ('m',), ('P',)], maxlen=5)\n"
     ]
    },
    {
     "name": "stderr",
     "output_type": "stream",
     "text": [
      "0: 608x800 1 Metal, 233.1ms\n",
      "Speed: 4.7ms preprocess, 233.1ms inference, 0.0ms postprocess per image at shape (1, 3, 608, 800)\n",
      "\n"
     ]
    },
    {
     "name": "stdout",
     "output_type": "stream",
     "text": [
      "Labels: deque([('m',), ('m',), ('m',), ('P',), ('m',)], maxlen=5)\n"
     ]
    },
    {
     "name": "stderr",
     "output_type": "stream",
     "text": [
      "0: 608x800 2 Metals, 251.9ms\n",
      "Speed: 6.0ms preprocess, 251.9ms inference, 2.0ms postprocess per image at shape (1, 3, 608, 800)\n",
      "\n"
     ]
    },
    {
     "name": "stdout",
     "output_type": "stream",
     "text": [
      "Labels: deque([('m',), ('m',), ('P',), ('m',), ('m',)], maxlen=5)\n"
     ]
    },
    {
     "name": "stderr",
     "output_type": "stream",
     "text": [
      "0: 608x800 1 Metal, 235.3ms\n",
      "Speed: 14.6ms preprocess, 235.3ms inference, 1.0ms postprocess per image at shape (1, 3, 608, 800)\n",
      "\n"
     ]
    },
    {
     "name": "stdout",
     "output_type": "stream",
     "text": [
      "Labels: deque([('m',), ('P',), ('m',), ('m',), ('m',)], maxlen=5)\n"
     ]
    },
    {
     "name": "stderr",
     "output_type": "stream",
     "text": [
      "0: 608x800 1 Metal, 265.7ms\n",
      "Speed: 0.0ms preprocess, 265.7ms inference, 1.0ms postprocess per image at shape (1, 3, 608, 800)\n",
      "\n"
     ]
    },
    {
     "name": "stdout",
     "output_type": "stream",
     "text": [
      "Labels: deque([('P',), ('m',), ('m',), ('m',), ('m',)], maxlen=5)\n"
     ]
    },
    {
     "name": "stderr",
     "output_type": "stream",
     "text": [
      "0: 608x800 1 Metal, 262.9ms\n",
      "Speed: 4.0ms preprocess, 262.9ms inference, 0.0ms postprocess per image at shape (1, 3, 608, 800)\n",
      "\n"
     ]
    },
    {
     "name": "stdout",
     "output_type": "stream",
     "text": [
      "Response from ESP32: M CMD: Action for 'M' command\n",
      "Labels: deque([('m',), ('m',), ('m',), ('m',), ('m',)], maxlen=5)\n"
     ]
    },
    {
     "name": "stderr",
     "output_type": "stream",
     "text": [
      "0: 608x800 1 Metal, 254.3ms\n",
      "Speed: 1.1ms preprocess, 254.3ms inference, 2.0ms postprocess per image at shape (1, 3, 608, 800)\n",
      "\n"
     ]
    },
    {
     "name": "stdout",
     "output_type": "stream",
     "text": [
      "Labels: deque([('m',), ('m',), ('m',), ('m',), ('m',)], maxlen=5)\n"
     ]
    },
    {
     "name": "stderr",
     "output_type": "stream",
     "text": [
      "0: 608x800 1 Metal, 265.0ms\n",
      "Speed: 18.4ms preprocess, 265.0ms inference, 0.0ms postprocess per image at shape (1, 3, 608, 800)\n",
      "\n"
     ]
    },
    {
     "name": "stdout",
     "output_type": "stream",
     "text": [
      "Labels: deque([('m',), ('m',), ('m',), ('m',), ('m',)], maxlen=5)\n"
     ]
    },
    {
     "name": "stderr",
     "output_type": "stream",
     "text": [
      "0: 608x800 1 Metal, 249.0ms\n",
      "Speed: 4.0ms preprocess, 249.0ms inference, 0.0ms postprocess per image at shape (1, 3, 608, 800)\n",
      "\n"
     ]
    },
    {
     "name": "stdout",
     "output_type": "stream",
     "text": [
      "Labels: deque([('m',), ('m',), ('m',), ('m',), ('m',)], maxlen=5)\n"
     ]
    },
    {
     "name": "stderr",
     "output_type": "stream",
     "text": [
      "0: 608x800 1 Metal, 252.4ms\n",
      "Speed: 5.0ms preprocess, 252.4ms inference, 1.1ms postprocess per image at shape (1, 3, 608, 800)\n",
      "\n"
     ]
    },
    {
     "name": "stdout",
     "output_type": "stream",
     "text": [
      "Labels: deque([('m',), ('m',), ('m',), ('m',), ('m',)], maxlen=5)\n"
     ]
    },
    {
     "name": "stderr",
     "output_type": "stream",
     "text": [
      "0: 608x800 1 Metal, 245.9ms\n",
      "Speed: 5.0ms preprocess, 245.9ms inference, 1.0ms postprocess per image at shape (1, 3, 608, 800)\n",
      "\n"
     ]
    },
    {
     "name": "stdout",
     "output_type": "stream",
     "text": [
      "Response from ESP32: M CMD: Action for 'M' command\n",
      "Labels: deque([('m',), ('m',), ('m',), ('m',), ('m',)], maxlen=5)\n"
     ]
    },
    {
     "name": "stderr",
     "output_type": "stream",
     "text": [
      "0: 608x800 1 Metal, 267.5ms\n",
      "Speed: 0.0ms preprocess, 267.5ms inference, 1.0ms postprocess per image at shape (1, 3, 608, 800)\n",
      "\n"
     ]
    },
    {
     "name": "stdout",
     "output_type": "stream",
     "text": [
      "Labels: deque([('m',), ('m',), ('m',), ('m',), ('m',)], maxlen=5)\n"
     ]
    },
    {
     "name": "stderr",
     "output_type": "stream",
     "text": [
      "0: 608x800 1 Metal, 235.8ms\n",
      "Speed: 6.0ms preprocess, 235.8ms inference, 1.0ms postprocess per image at shape (1, 3, 608, 800)\n",
      "\n"
     ]
    },
    {
     "name": "stdout",
     "output_type": "stream",
     "text": [
      "Labels: deque([('m',), ('m',), ('m',), ('m',), ('m',)], maxlen=5)\n"
     ]
    },
    {
     "name": "stderr",
     "output_type": "stream",
     "text": [
      "0: 608x800 1 Metal, 258.6ms\n",
      "Speed: 4.0ms preprocess, 258.6ms inference, 1.1ms postprocess per image at shape (1, 3, 608, 800)\n",
      "\n"
     ]
    },
    {
     "name": "stdout",
     "output_type": "stream",
     "text": [
      "Labels: deque([('m',), ('m',), ('m',), ('m',), ('m',)], maxlen=5)\n"
     ]
    },
    {
     "name": "stderr",
     "output_type": "stream",
     "text": [
      "0: 608x800 1 Metal, 258.1ms\n",
      "Speed: 7.0ms preprocess, 258.1ms inference, 11.4ms postprocess per image at shape (1, 3, 608, 800)\n",
      "\n"
     ]
    },
    {
     "name": "stdout",
     "output_type": "stream",
     "text": [
      "Labels: deque([('m',), ('m',), ('m',), ('m',), ('m',)], maxlen=5)\n"
     ]
    },
    {
     "name": "stderr",
     "output_type": "stream",
     "text": [
      "0: 608x800 1 Metal, 239.4ms\n",
      "Speed: 4.0ms preprocess, 239.4ms inference, 1.0ms postprocess per image at shape (1, 3, 608, 800)\n",
      "\n"
     ]
    },
    {
     "name": "stdout",
     "output_type": "stream",
     "text": [
      "Response from ESP32: M CMD: Action for 'M' command\n",
      "Labels: deque([('m',), ('m',), ('m',), ('m',), ('m',)], maxlen=5)\n"
     ]
    },
    {
     "name": "stderr",
     "output_type": "stream",
     "text": [
      "0: 608x800 1 Metal, 243.8ms\n",
      "Speed: 0.0ms preprocess, 243.8ms inference, 4.9ms postprocess per image at shape (1, 3, 608, 800)\n",
      "\n"
     ]
    },
    {
     "name": "stdout",
     "output_type": "stream",
     "text": [
      "Labels: deque([('m',), ('m',), ('m',), ('m',), ('m',)], maxlen=5)\n"
     ]
    },
    {
     "name": "stderr",
     "output_type": "stream",
     "text": [
      "0: 608x800 1 Metal, 268.3ms\n",
      "Speed: 5.0ms preprocess, 268.3ms inference, 1.0ms postprocess per image at shape (1, 3, 608, 800)\n",
      "\n"
     ]
    },
    {
     "name": "stdout",
     "output_type": "stream",
     "text": [
      "Labels: deque([('m',), ('m',), ('m',), ('m',), ('m',)], maxlen=5)\n"
     ]
    },
    {
     "name": "stderr",
     "output_type": "stream",
     "text": [
      "0: 608x800 1 Metal, 267.7ms\n",
      "Speed: 0.0ms preprocess, 267.7ms inference, 1.0ms postprocess per image at shape (1, 3, 608, 800)\n",
      "\n"
     ]
    },
    {
     "name": "stdout",
     "output_type": "stream",
     "text": [
      "Labels: deque([('m',), ('m',), ('m',), ('m',), ('m',)], maxlen=5)\n"
     ]
    },
    {
     "name": "stderr",
     "output_type": "stream",
     "text": [
      "0: 608x800 1 Metal, 242.9ms\n",
      "Speed: 2.7ms preprocess, 242.9ms inference, 1.0ms postprocess per image at shape (1, 3, 608, 800)\n",
      "\n"
     ]
    },
    {
     "name": "stdout",
     "output_type": "stream",
     "text": [
      "Labels: deque([('m',), ('m',), ('m',), ('m',), ('m',)], maxlen=5)\n"
     ]
    },
    {
     "name": "stderr",
     "output_type": "stream",
     "text": [
      "0: 608x800 1 Metal, 252.5ms\n",
      "Speed: 13.6ms preprocess, 252.5ms inference, 1.0ms postprocess per image at shape (1, 3, 608, 800)\n",
      "\n"
     ]
    },
    {
     "name": "stdout",
     "output_type": "stream",
     "text": [
      "Response from ESP32: M CMD: Action for 'M' command\n",
      "Labels: deque([('m',), ('m',), ('m',), ('m',), ('m',)], maxlen=5)\n"
     ]
    },
    {
     "name": "stderr",
     "output_type": "stream",
     "text": [
      "0: 608x800 1 Metal, 286.4ms\n",
      "Speed: 0.0ms preprocess, 286.4ms inference, 1.0ms postprocess per image at shape (1, 3, 608, 800)\n",
      "\n"
     ]
    },
    {
     "name": "stdout",
     "output_type": "stream",
     "text": [
      "Labels: deque([('m',), ('m',), ('m',), ('m',), ('m',)], maxlen=5)\n"
     ]
    },
    {
     "name": "stderr",
     "output_type": "stream",
     "text": [
      "0: 608x800 1 Metal, 254.3ms\n",
      "Speed: 4.0ms preprocess, 254.3ms inference, 1.0ms postprocess per image at shape (1, 3, 608, 800)\n",
      "\n"
     ]
    },
    {
     "name": "stdout",
     "output_type": "stream",
     "text": [
      "Labels: deque([('m',), ('m',), ('m',), ('m',), ('m',)], maxlen=5)\n"
     ]
    },
    {
     "name": "stderr",
     "output_type": "stream",
     "text": [
      "0: 608x800 1 Metal, 282.2ms\n",
      "Speed: 4.0ms preprocess, 282.2ms inference, 1.0ms postprocess per image at shape (1, 3, 608, 800)\n",
      "\n"
     ]
    },
    {
     "name": "stdout",
     "output_type": "stream",
     "text": [
      "Labels: deque([('m',), ('m',), ('m',), ('m',), ('m',)], maxlen=5)\n"
     ]
    },
    {
     "name": "stderr",
     "output_type": "stream",
     "text": [
      "0: 608x800 1 Metal, 244.5ms\n",
      "Speed: 6.0ms preprocess, 244.5ms inference, 1.0ms postprocess per image at shape (1, 3, 608, 800)\n",
      "\n"
     ]
    },
    {
     "name": "stdout",
     "output_type": "stream",
     "text": [
      "Labels: deque([('m',), ('m',), ('m',), ('m',), ('m',)], maxlen=5)\n"
     ]
    },
    {
     "name": "stderr",
     "output_type": "stream",
     "text": [
      "0: 608x800 1 Metal, 264.5ms\n",
      "Speed: 0.0ms preprocess, 264.5ms inference, 1.0ms postprocess per image at shape (1, 3, 608, 800)\n",
      "\n"
     ]
    },
    {
     "name": "stdout",
     "output_type": "stream",
     "text": [
      "Response from ESP32: M CMD: Action for 'M' command\n",
      "Labels: deque([('m',), ('m',), ('m',), ('m',), ('m',)], maxlen=5)\n"
     ]
    },
    {
     "name": "stderr",
     "output_type": "stream",
     "text": [
      "0: 608x800 1 Metal, 1 Plastic, 243.8ms\n",
      "Speed: 0.0ms preprocess, 243.8ms inference, 0.0ms postprocess per image at shape (1, 3, 608, 800)\n",
      "\n"
     ]
    },
    {
     "name": "stdout",
     "output_type": "stream",
     "text": [
      "Labels: deque([('m',), ('m',), ('m',), ('m',), ('P',)], maxlen=5)\n"
     ]
    },
    {
     "name": "stderr",
     "output_type": "stream",
     "text": [
      "0: 608x800 1 Metal, 1 Plastic, 254.8ms\n",
      "Speed: 4.0ms preprocess, 254.8ms inference, 0.5ms postprocess per image at shape (1, 3, 608, 800)\n",
      "\n"
     ]
    },
    {
     "name": "stdout",
     "output_type": "stream",
     "text": [
      "Labels: deque([('m',), ('m',), ('m',), ('P',), ('P',)], maxlen=5)\n"
     ]
    },
    {
     "name": "stderr",
     "output_type": "stream",
     "text": [
      "0: 608x800 1 Metal, 257.0ms\n",
      "Speed: 0.0ms preprocess, 257.0ms inference, 1.0ms postprocess per image at shape (1, 3, 608, 800)\n",
      "\n"
     ]
    },
    {
     "name": "stdout",
     "output_type": "stream",
     "text": [
      "Labels: deque([('m',), ('m',), ('P',), ('P',), ('m',)], maxlen=5)\n"
     ]
    },
    {
     "name": "stderr",
     "output_type": "stream",
     "text": [
      "0: 608x800 1 Metal, 352.7ms\n",
      "Speed: 16.8ms preprocess, 352.7ms inference, 0.0ms postprocess per image at shape (1, 3, 608, 800)\n",
      "\n"
     ]
    },
    {
     "name": "stdout",
     "output_type": "stream",
     "text": [
      "Labels: deque([('m',), ('P',), ('P',), ('m',), ('m',)], maxlen=5)\n"
     ]
    },
    {
     "name": "stderr",
     "output_type": "stream",
     "text": [
      "0: 608x800 1 Metal, 263.9ms\n",
      "Speed: 17.8ms preprocess, 263.9ms inference, 1.0ms postprocess per image at shape (1, 3, 608, 800)\n",
      "\n"
     ]
    },
    {
     "name": "stdout",
     "output_type": "stream",
     "text": [
      "Labels: deque([('P',), ('P',), ('m',), ('m',), ('m',)], maxlen=5)\n"
     ]
    },
    {
     "name": "stderr",
     "output_type": "stream",
     "text": [
      "0: 608x800 1 Metal, 256.6ms\n",
      "Speed: 4.4ms preprocess, 256.6ms inference, 1.0ms postprocess per image at shape (1, 3, 608, 800)\n",
      "\n"
     ]
    },
    {
     "name": "stdout",
     "output_type": "stream",
     "text": [
      "Labels: deque([('P',), ('m',), ('m',), ('m',), ('m',)], maxlen=5)\n"
     ]
    },
    {
     "name": "stderr",
     "output_type": "stream",
     "text": [
      "0: 608x800 1 Metal, 270.7ms\n",
      "Speed: 0.0ms preprocess, 270.7ms inference, 0.0ms postprocess per image at shape (1, 3, 608, 800)\n",
      "\n"
     ]
    },
    {
     "name": "stdout",
     "output_type": "stream",
     "text": [
      "Labels: deque([('m',), ('m',), ('m',), ('m',), ('m',)], maxlen=5)\n"
     ]
    },
    {
     "name": "stderr",
     "output_type": "stream",
     "text": [
      "0: 608x800 1 Plastic, 245.0ms\n",
      "Speed: 10.4ms preprocess, 245.0ms inference, 1.0ms postprocess per image at shape (1, 3, 608, 800)\n",
      "\n"
     ]
    },
    {
     "name": "stdout",
     "output_type": "stream",
     "text": [
      "Labels: deque([('m',), ('m',), ('m',), ('m',), ('P',)], maxlen=5)\n"
     ]
    },
    {
     "name": "stderr",
     "output_type": "stream",
     "text": [
      "0: 608x800 1 Plastic, 259.5ms\n",
      "Speed: 5.0ms preprocess, 259.5ms inference, 1.0ms postprocess per image at shape (1, 3, 608, 800)\n",
      "\n"
     ]
    },
    {
     "name": "stdout",
     "output_type": "stream",
     "text": [
      "Labels: deque([('m',), ('m',), ('m',), ('P',), ('P',)], maxlen=5)\n"
     ]
    },
    {
     "name": "stderr",
     "output_type": "stream",
     "text": [
      "0: 608x800 1 Metal, 270.4ms\n",
      "Speed: 0.0ms preprocess, 270.4ms inference, 1.0ms postprocess per image at shape (1, 3, 608, 800)\n",
      "\n"
     ]
    },
    {
     "name": "stdout",
     "output_type": "stream",
     "text": [
      "Labels: deque([('m',), ('m',), ('P',), ('P',), ('m',)], maxlen=5)\n"
     ]
    },
    {
     "name": "stderr",
     "output_type": "stream",
     "text": [
      "0: 608x800 1 Metal, 332.9ms\n",
      "Speed: 13.2ms preprocess, 332.9ms inference, 0.0ms postprocess per image at shape (1, 3, 608, 800)\n",
      "\n"
     ]
    },
    {
     "name": "stdout",
     "output_type": "stream",
     "text": [
      "Labels: deque([('m',), ('P',), ('P',), ('m',), ('m',)], maxlen=5)\n"
     ]
    },
    {
     "name": "stderr",
     "output_type": "stream",
     "text": [
      "0: 608x800 1 Metal, 255.7ms\n",
      "Speed: 6.0ms preprocess, 255.7ms inference, 1.0ms postprocess per image at shape (1, 3, 608, 800)\n",
      "\n"
     ]
    },
    {
     "name": "stdout",
     "output_type": "stream",
     "text": [
      "Labels: deque([('P',), ('P',), ('m',), ('m',), ('m',)], maxlen=5)\n"
     ]
    },
    {
     "name": "stderr",
     "output_type": "stream",
     "text": [
      "0: 608x800 1 Metal, 260.9ms\n",
      "Speed: 0.0ms preprocess, 260.9ms inference, 1.9ms postprocess per image at shape (1, 3, 608, 800)\n",
      "\n"
     ]
    },
    {
     "name": "stdout",
     "output_type": "stream",
     "text": [
      "Labels: deque([('P',), ('m',), ('m',), ('m',), ('m',)], maxlen=5)\n"
     ]
    },
    {
     "name": "stderr",
     "output_type": "stream",
     "text": [
      "0: 608x800 1 Metal, 244.2ms\n",
      "Speed: 4.0ms preprocess, 244.2ms inference, 2.0ms postprocess per image at shape (1, 3, 608, 800)\n",
      "\n"
     ]
    },
    {
     "name": "stdout",
     "output_type": "stream",
     "text": [
      "Labels: deque([('m',), ('m',), ('m',), ('m',), ('m',)], maxlen=5)\n"
     ]
    },
    {
     "name": "stderr",
     "output_type": "stream",
     "text": [
      "0: 608x800 1 Metal, 257.0ms\n",
      "Speed: 0.0ms preprocess, 257.0ms inference, 1.0ms postprocess per image at shape (1, 3, 608, 800)\n",
      "\n"
     ]
    },
    {
     "name": "stdout",
     "output_type": "stream",
     "text": [
      "Labels: deque([('m',), ('m',), ('m',), ('m',), ('m',)], maxlen=5)\n"
     ]
    },
    {
     "name": "stderr",
     "output_type": "stream",
     "text": [
      "0: 608x800 1 Metal, 253.9ms\n",
      "Speed: 0.0ms preprocess, 253.9ms inference, 0.0ms postprocess per image at shape (1, 3, 608, 800)\n",
      "\n"
     ]
    },
    {
     "name": "stdout",
     "output_type": "stream",
     "text": [
      "Labels: deque([('m',), ('m',), ('m',), ('m',), ('m',)], maxlen=5)\n"
     ]
    },
    {
     "name": "stderr",
     "output_type": "stream",
     "text": [
      "0: 608x800 1 Metal, 283.6ms\n",
      "Speed: 5.0ms preprocess, 283.6ms inference, 1.0ms postprocess per image at shape (1, 3, 608, 800)\n",
      "\n"
     ]
    },
    {
     "name": "stdout",
     "output_type": "stream",
     "text": [
      "Response from ESP32: M CMD: Action for 'M' command\n",
      "Labels: deque([('m',), ('m',), ('m',), ('m',), ('m',)], maxlen=5)\n"
     ]
    },
    {
     "name": "stderr",
     "output_type": "stream",
     "text": [
      "0: 608x800 1 Metal, 248.6ms\n",
      "Speed: 0.0ms preprocess, 248.6ms inference, 0.0ms postprocess per image at shape (1, 3, 608, 800)\n",
      "\n"
     ]
    },
    {
     "name": "stdout",
     "output_type": "stream",
     "text": [
      "Labels: deque([('m',), ('m',), ('m',), ('m',), ('m',)], maxlen=5)\n"
     ]
    },
    {
     "name": "stderr",
     "output_type": "stream",
     "text": [
      "0: 608x800 1 Metal, 252.3ms\n",
      "Speed: 5.0ms preprocess, 252.3ms inference, 1.0ms postprocess per image at shape (1, 3, 608, 800)\n",
      "\n"
     ]
    },
    {
     "name": "stdout",
     "output_type": "stream",
     "text": [
      "Labels: deque([('m',), ('m',), ('m',), ('m',), ('m',)], maxlen=5)\n"
     ]
    },
    {
     "name": "stderr",
     "output_type": "stream",
     "text": [
      "0: 608x800 1 Metal, 249.8ms\n",
      "Speed: 16.6ms preprocess, 249.8ms inference, 0.0ms postprocess per image at shape (1, 3, 608, 800)\n",
      "\n"
     ]
    },
    {
     "name": "stdout",
     "output_type": "stream",
     "text": [
      "Labels: deque([('m',), ('m',), ('m',), ('m',), ('m',)], maxlen=5)\n"
     ]
    },
    {
     "name": "stderr",
     "output_type": "stream",
     "text": [
      "0: 608x800 1 Metal, 255.4ms\n",
      "Speed: 5.0ms preprocess, 255.4ms inference, 0.0ms postprocess per image at shape (1, 3, 608, 800)\n",
      "\n"
     ]
    },
    {
     "name": "stdout",
     "output_type": "stream",
     "text": [
      "Labels: deque([('m',), ('m',), ('m',), ('m',), ('m',)], maxlen=5)\n"
     ]
    },
    {
     "name": "stderr",
     "output_type": "stream",
     "text": [
      "0: 608x800 1 Metal, 245.3ms\n",
      "Speed: 15.7ms preprocess, 245.3ms inference, 1.6ms postprocess per image at shape (1, 3, 608, 800)\n",
      "\n"
     ]
    },
    {
     "name": "stdout",
     "output_type": "stream",
     "text": [
      "Response from ESP32: M CMD: Action for 'M' command\n",
      "Labels: deque([('m',), ('m',), ('m',), ('m',), ('m',)], maxlen=5)\n"
     ]
    },
    {
     "name": "stderr",
     "output_type": "stream",
     "text": [
      "0: 608x800 1 Metal, 263.4ms\n",
      "Speed: 0.0ms preprocess, 263.4ms inference, 1.0ms postprocess per image at shape (1, 3, 608, 800)\n",
      "\n"
     ]
    },
    {
     "name": "stdout",
     "output_type": "stream",
     "text": [
      "Labels: deque([('m',), ('m',), ('m',), ('m',), ('m',)], maxlen=5)\n"
     ]
    },
    {
     "name": "stderr",
     "output_type": "stream",
     "text": [
      "0: 608x800 1 Metal, 292.1ms\n",
      "Speed: 6.0ms preprocess, 292.1ms inference, 16.5ms postprocess per image at shape (1, 3, 608, 800)\n",
      "\n"
     ]
    },
    {
     "name": "stdout",
     "output_type": "stream",
     "text": [
      "Labels: deque([('m',), ('m',), ('m',), ('m',), ('m',)], maxlen=5)\n"
     ]
    },
    {
     "name": "stderr",
     "output_type": "stream",
     "text": [
      "0: 608x800 1 Metal, 258.3ms\n",
      "Speed: 0.0ms preprocess, 258.3ms inference, 1.5ms postprocess per image at shape (1, 3, 608, 800)\n",
      "\n"
     ]
    },
    {
     "name": "stdout",
     "output_type": "stream",
     "text": [
      "Labels: deque([('m',), ('m',), ('m',), ('m',), ('m',)], maxlen=5)\n"
     ]
    },
    {
     "name": "stderr",
     "output_type": "stream",
     "text": [
      "0: 608x800 1 Metal, 249.8ms\n",
      "Speed: 4.4ms preprocess, 249.8ms inference, 0.0ms postprocess per image at shape (1, 3, 608, 800)\n",
      "\n"
     ]
    },
    {
     "name": "stdout",
     "output_type": "stream",
     "text": [
      "Labels: deque([('m',), ('m',), ('m',), ('m',), ('m',)], maxlen=5)\n"
     ]
    },
    {
     "name": "stderr",
     "output_type": "stream",
     "text": [
      "0: 608x800 1 Metal, 259.6ms\n",
      "Speed: 4.0ms preprocess, 259.6ms inference, 1.0ms postprocess per image at shape (1, 3, 608, 800)\n",
      "\n"
     ]
    },
    {
     "name": "stdout",
     "output_type": "stream",
     "text": [
      "Response from ESP32: M CMD: Action for 'M' command\n",
      "Labels: deque([('m',), ('m',), ('m',), ('m',), ('m',)], maxlen=5)\n"
     ]
    },
    {
     "name": "stderr",
     "output_type": "stream",
     "text": [
      "0: 608x800 1 Metal, 253.4ms\n",
      "Speed: 4.1ms preprocess, 253.4ms inference, 0.0ms postprocess per image at shape (1, 3, 608, 800)\n",
      "\n"
     ]
    },
    {
     "name": "stdout",
     "output_type": "stream",
     "text": [
      "Labels: deque([('m',), ('m',), ('m',), ('m',), ('m',)], maxlen=5)\n"
     ]
    },
    {
     "name": "stderr",
     "output_type": "stream",
     "text": [
      "0: 608x800 1 Metal, 258.3ms\n",
      "Speed: 0.0ms preprocess, 258.3ms inference, 1.0ms postprocess per image at shape (1, 3, 608, 800)\n",
      "\n"
     ]
    },
    {
     "name": "stdout",
     "output_type": "stream",
     "text": [
      "Labels: deque([('m',), ('m',), ('m',), ('m',), ('m',)], maxlen=5)\n"
     ]
    },
    {
     "name": "stderr",
     "output_type": "stream",
     "text": [
      "0: 608x800 1 Metal, 284.4ms\n",
      "Speed: 12.2ms preprocess, 284.4ms inference, 0.0ms postprocess per image at shape (1, 3, 608, 800)\n",
      "\n"
     ]
    },
    {
     "name": "stdout",
     "output_type": "stream",
     "text": [
      "Labels: deque([('m',), ('m',), ('m',), ('m',), ('m',)], maxlen=5)\n"
     ]
    },
    {
     "name": "stderr",
     "output_type": "stream",
     "text": [
      "0: 608x800 1 Metal, 255.4ms\n",
      "Speed: 6.0ms preprocess, 255.4ms inference, 2.9ms postprocess per image at shape (1, 3, 608, 800)\n",
      "\n"
     ]
    },
    {
     "name": "stdout",
     "output_type": "stream",
     "text": [
      "Labels: deque([('m',), ('m',), ('m',), ('m',), ('m',)], maxlen=5)\n"
     ]
    },
    {
     "name": "stderr",
     "output_type": "stream",
     "text": [
      "0: 608x800 1 Metal, 291.9ms\n",
      "Speed: 6.0ms preprocess, 291.9ms inference, 1.0ms postprocess per image at shape (1, 3, 608, 800)\n",
      "\n"
     ]
    },
    {
     "name": "stdout",
     "output_type": "stream",
     "text": [
      "Response from ESP32: M CMD: Action for 'M' command\n",
      "Labels: deque([('m',), ('m',), ('m',), ('m',), ('m',)], maxlen=5)\n"
     ]
    },
    {
     "name": "stderr",
     "output_type": "stream",
     "text": [
      "0: 608x800 1 Metal, 241.6ms\n",
      "Speed: 5.0ms preprocess, 241.6ms inference, 12.1ms postprocess per image at shape (1, 3, 608, 800)\n",
      "\n"
     ]
    },
    {
     "name": "stdout",
     "output_type": "stream",
     "text": [
      "Labels: deque([('m',), ('m',), ('m',), ('m',), ('m',)], maxlen=5)\n"
     ]
    },
    {
     "name": "stderr",
     "output_type": "stream",
     "text": [
      "0: 608x800 1 Metal, 256.1ms\n",
      "Speed: 6.0ms preprocess, 256.1ms inference, 0.0ms postprocess per image at shape (1, 3, 608, 800)\n",
      "\n"
     ]
    },
    {
     "name": "stdout",
     "output_type": "stream",
     "text": [
      "Labels: deque([('m',), ('m',), ('m',), ('m',), ('m',)], maxlen=5)\n"
     ]
    },
    {
     "name": "stderr",
     "output_type": "stream",
     "text": [
      "0: 608x800 1 Metal, 254.8ms\n",
      "Speed: 5.0ms preprocess, 254.8ms inference, 0.0ms postprocess per image at shape (1, 3, 608, 800)\n",
      "\n"
     ]
    },
    {
     "name": "stdout",
     "output_type": "stream",
     "text": [
      "Labels: deque([('m',), ('m',), ('m',), ('m',), ('m',)], maxlen=5)\n"
     ]
    },
    {
     "name": "stderr",
     "output_type": "stream",
     "text": [
      "0: 608x800 1 Metal, 276.8ms\n",
      "Speed: 4.0ms preprocess, 276.8ms inference, 1.0ms postprocess per image at shape (1, 3, 608, 800)\n",
      "\n"
     ]
    },
    {
     "name": "stdout",
     "output_type": "stream",
     "text": [
      "Labels: deque([('m',), ('m',), ('m',), ('m',), ('m',)], maxlen=5)\n"
     ]
    },
    {
     "name": "stderr",
     "output_type": "stream",
     "text": [
      "0: 608x800 1 Metal, 252.4ms\n",
      "Speed: 4.0ms preprocess, 252.4ms inference, 0.0ms postprocess per image at shape (1, 3, 608, 800)\n",
      "\n"
     ]
    },
    {
     "name": "stdout",
     "output_type": "stream",
     "text": [
      "Response from ESP32: M CMD: Action for 'M' command\n",
      "Labels: deque([('m',), ('m',), ('m',), ('m',), ('m',)], maxlen=5)\n"
     ]
    },
    {
     "name": "stderr",
     "output_type": "stream",
     "text": [
      "0: 608x800 1 Metal, 299.0ms\n",
      "Speed: 5.0ms preprocess, 299.0ms inference, 1.0ms postprocess per image at shape (1, 3, 608, 800)\n",
      "\n"
     ]
    },
    {
     "name": "stdout",
     "output_type": "stream",
     "text": [
      "Labels: deque([('m',), ('m',), ('m',), ('m',), ('m',)], maxlen=5)\n"
     ]
    },
    {
     "name": "stderr",
     "output_type": "stream",
     "text": [
      "0: 608x800 1 Metal, 286.5ms\n",
      "Speed: 0.0ms preprocess, 286.5ms inference, 1.0ms postprocess per image at shape (1, 3, 608, 800)\n",
      "\n"
     ]
    },
    {
     "name": "stdout",
     "output_type": "stream",
     "text": [
      "Labels: deque([('m',), ('m',), ('m',), ('m',), ('m',)], maxlen=5)\n"
     ]
    },
    {
     "name": "stderr",
     "output_type": "stream",
     "text": [
      "0: 608x800 1 Metal, 252.9ms\n",
      "Speed: 5.0ms preprocess, 252.9ms inference, 0.0ms postprocess per image at shape (1, 3, 608, 800)\n",
      "\n"
     ]
    },
    {
     "name": "stdout",
     "output_type": "stream",
     "text": [
      "Labels: deque([('m',), ('m',), ('m',), ('m',), ('m',)], maxlen=5)\n"
     ]
    },
    {
     "name": "stderr",
     "output_type": "stream",
     "text": [
      "0: 608x800 1 Metal, 252.1ms\n",
      "Speed: 11.8ms preprocess, 252.1ms inference, 0.0ms postprocess per image at shape (1, 3, 608, 800)\n",
      "\n"
     ]
    },
    {
     "name": "stdout",
     "output_type": "stream",
     "text": [
      "Labels: deque([('m',), ('m',), ('m',), ('m',), ('m',)], maxlen=5)\n"
     ]
    },
    {
     "name": "stderr",
     "output_type": "stream",
     "text": [
      "0: 608x800 1 Metal, 279.0ms\n",
      "Speed: 5.0ms preprocess, 279.0ms inference, 0.0ms postprocess per image at shape (1, 3, 608, 800)\n",
      "\n"
     ]
    },
    {
     "name": "stdout",
     "output_type": "stream",
     "text": [
      "Response from ESP32: M CMD: Action for 'M' command\n",
      "Labels: deque([('m',), ('m',), ('m',), ('m',), ('m',)], maxlen=5)\n"
     ]
    },
    {
     "name": "stderr",
     "output_type": "stream",
     "text": [
      "0: 608x800 1 Metal, 258.8ms\n",
      "Speed: 8.2ms preprocess, 258.8ms inference, 0.0ms postprocess per image at shape (1, 3, 608, 800)\n",
      "\n"
     ]
    },
    {
     "name": "stdout",
     "output_type": "stream",
     "text": [
      "Labels: deque([('m',), ('m',), ('m',), ('m',), ('m',)], maxlen=5)\n"
     ]
    },
    {
     "name": "stderr",
     "output_type": "stream",
     "text": [
      "0: 608x800 1 Metal, 258.7ms\n",
      "Speed: 4.0ms preprocess, 258.7ms inference, 1.0ms postprocess per image at shape (1, 3, 608, 800)\n",
      "\n"
     ]
    },
    {
     "name": "stdout",
     "output_type": "stream",
     "text": [
      "Labels: deque([('m',), ('m',), ('m',), ('m',), ('m',)], maxlen=5)\n"
     ]
    },
    {
     "name": "stderr",
     "output_type": "stream",
     "text": [
      "0: 608x800 1 Metal, 251.7ms\n",
      "Speed: 5.0ms preprocess, 251.7ms inference, 1.0ms postprocess per image at shape (1, 3, 608, 800)\n",
      "\n"
     ]
    },
    {
     "name": "stdout",
     "output_type": "stream",
     "text": [
      "Labels: deque([('m',), ('m',), ('m',), ('m',), ('m',)], maxlen=5)\n"
     ]
    },
    {
     "name": "stderr",
     "output_type": "stream",
     "text": [
      "0: 608x800 1 Metal, 281.2ms\n",
      "Speed: 12.0ms preprocess, 281.2ms inference, 0.0ms postprocess per image at shape (1, 3, 608, 800)\n",
      "\n"
     ]
    },
    {
     "name": "stdout",
     "output_type": "stream",
     "text": [
      "Labels: deque([('m',), ('m',), ('m',), ('m',), ('m',)], maxlen=5)\n"
     ]
    },
    {
     "name": "stderr",
     "output_type": "stream",
     "text": [
      "0: 608x800 1 Metal, 292.9ms\n",
      "Speed: 4.0ms preprocess, 292.9ms inference, 1.0ms postprocess per image at shape (1, 3, 608, 800)\n",
      "\n"
     ]
    },
    {
     "name": "stdout",
     "output_type": "stream",
     "text": [
      "Response from ESP32: M CMD: Action for 'M' command\n",
      "Labels: deque([('m',), ('m',), ('m',), ('m',), ('m',)], maxlen=5)\n"
     ]
    },
    {
     "name": "stderr",
     "output_type": "stream",
     "text": [
      "0: 608x800 1 Metal, 249.9ms\n",
      "Speed: 4.0ms preprocess, 249.9ms inference, 0.0ms postprocess per image at shape (1, 3, 608, 800)\n",
      "\n"
     ]
    },
    {
     "name": "stdout",
     "output_type": "stream",
     "text": [
      "Labels: deque([('m',), ('m',), ('m',), ('m',), ('m',)], maxlen=5)\n"
     ]
    },
    {
     "name": "stderr",
     "output_type": "stream",
     "text": [
      "0: 608x800 2 Metals, 266.7ms\n",
      "Speed: 0.0ms preprocess, 266.7ms inference, 1.0ms postprocess per image at shape (1, 3, 608, 800)\n",
      "\n"
     ]
    },
    {
     "name": "stdout",
     "output_type": "stream",
     "text": [
      "Labels: deque([('m',), ('m',), ('m',), ('m',), ('m',)], maxlen=5)\n"
     ]
    },
    {
     "name": "stderr",
     "output_type": "stream",
     "text": [
      "0: 608x800 1 Metal, 278.7ms\n",
      "Speed: 0.0ms preprocess, 278.7ms inference, 1.0ms postprocess per image at shape (1, 3, 608, 800)\n",
      "\n"
     ]
    },
    {
     "name": "stdout",
     "output_type": "stream",
     "text": [
      "Labels: deque([('m',), ('m',), ('m',), ('m',), ('m',)], maxlen=5)\n"
     ]
    },
    {
     "name": "stderr",
     "output_type": "stream",
     "text": [
      "0: 608x800 2 Metals, 264.5ms\n",
      "Speed: 7.0ms preprocess, 264.5ms inference, 1.0ms postprocess per image at shape (1, 3, 608, 800)\n",
      "\n"
     ]
    },
    {
     "name": "stdout",
     "output_type": "stream",
     "text": [
      "Labels: deque([('m',), ('m',), ('m',), ('m',), ('m',)], maxlen=5)\n"
     ]
    },
    {
     "name": "stderr",
     "output_type": "stream",
     "text": [
      "0: 608x800 1 Metal, 271.9ms\n",
      "Speed: 0.0ms preprocess, 271.9ms inference, 1.0ms postprocess per image at shape (1, 3, 608, 800)\n",
      "\n"
     ]
    },
    {
     "name": "stdout",
     "output_type": "stream",
     "text": [
      "Response from ESP32: M CMD: Action for 'M' command\n",
      "Labels: deque([('m',), ('m',), ('m',), ('m',), ('m',)], maxlen=5)\n"
     ]
    },
    {
     "name": "stderr",
     "output_type": "stream",
     "text": [
      "0: 608x800 1 Metal, 284.4ms\n",
      "Speed: 5.0ms preprocess, 284.4ms inference, 1.0ms postprocess per image at shape (1, 3, 608, 800)\n",
      "\n"
     ]
    },
    {
     "name": "stdout",
     "output_type": "stream",
     "text": [
      "Labels: deque([('m',), ('m',), ('m',), ('m',), ('m',)], maxlen=5)\n"
     ]
    },
    {
     "name": "stderr",
     "output_type": "stream",
     "text": [
      "0: 608x800 1 Metal, 250.9ms\n",
      "Speed: 0.0ms preprocess, 250.9ms inference, 0.0ms postprocess per image at shape (1, 3, 608, 800)\n",
      "\n"
     ]
    },
    {
     "name": "stdout",
     "output_type": "stream",
     "text": [
      "Labels: deque([('m',), ('m',), ('m',), ('m',), ('m',)], maxlen=5)\n"
     ]
    },
    {
     "name": "stderr",
     "output_type": "stream",
     "text": [
      "0: 608x800 1 Biodegradable, 264.9ms\n",
      "Speed: 0.0ms preprocess, 264.9ms inference, 1.2ms postprocess per image at shape (1, 3, 608, 800)\n",
      "\n"
     ]
    },
    {
     "name": "stdout",
     "output_type": "stream",
     "text": [
      "Labels: deque([('m',), ('m',), ('m',), ('m',), ('B',)], maxlen=5)\n"
     ]
    },
    {
     "name": "stderr",
     "output_type": "stream",
     "text": [
      "0: 608x800 1 Biodegradable, 255.3ms\n",
      "Speed: 5.0ms preprocess, 255.3ms inference, 1.0ms postprocess per image at shape (1, 3, 608, 800)\n",
      "\n"
     ]
    },
    {
     "name": "stdout",
     "output_type": "stream",
     "text": [
      "Labels: deque([('m',), ('m',), ('m',), ('B',), ('B',)], maxlen=5)\n"
     ]
    },
    {
     "name": "stderr",
     "output_type": "stream",
     "text": [
      "0: 608x800 1 Biodegradable, 257.4ms\n",
      "Speed: 5.0ms preprocess, 257.4ms inference, 1.0ms postprocess per image at shape (1, 3, 608, 800)\n",
      "\n"
     ]
    },
    {
     "name": "stdout",
     "output_type": "stream",
     "text": [
      "Labels: deque([('m',), ('m',), ('B',), ('B',), ('B',)], maxlen=5)\n"
     ]
    },
    {
     "name": "stderr",
     "output_type": "stream",
     "text": [
      "0: 608x800 1 Biodegradable, 250.1ms\n",
      "Speed: 0.0ms preprocess, 250.1ms inference, 1.0ms postprocess per image at shape (1, 3, 608, 800)\n",
      "\n"
     ]
    },
    {
     "name": "stdout",
     "output_type": "stream",
     "text": [
      "Labels: deque([('m',), ('B',), ('B',), ('B',), ('B',)], maxlen=5)\n"
     ]
    },
    {
     "name": "stderr",
     "output_type": "stream",
     "text": [
      "0: 608x800 1 Biodegradable, 276.7ms\n",
      "Speed: 4.0ms preprocess, 276.7ms inference, 0.0ms postprocess per image at shape (1, 3, 608, 800)\n",
      "\n"
     ]
    },
    {
     "name": "stdout",
     "output_type": "stream",
     "text": [
      "Labels: deque([('B',), ('B',), ('B',), ('B',), ('B',)], maxlen=5)\n"
     ]
    },
    {
     "name": "stderr",
     "output_type": "stream",
     "text": [
      "0: 608x800 1 Biodegradable, 264.2ms\n",
      "Speed: 6.0ms preprocess, 264.2ms inference, 0.0ms postprocess per image at shape (1, 3, 608, 800)\n",
      "\n"
     ]
    },
    {
     "name": "stdout",
     "output_type": "stream",
     "text": [
      "Labels: deque([('B',), ('B',), ('B',), ('B',), ('B',)], maxlen=5)\n"
     ]
    },
    {
     "name": "stderr",
     "output_type": "stream",
     "text": [
      "0: 608x800 1 Biodegradable, 243.3ms\n",
      "Speed: 3.0ms preprocess, 243.3ms inference, 11.3ms postprocess per image at shape (1, 3, 608, 800)\n",
      "\n"
     ]
    },
    {
     "name": "stdout",
     "output_type": "stream",
     "text": [
      "Response from ESP32: B CMD: Action for 'B' command\n",
      "Labels: deque([('B',), ('B',), ('B',), ('B',), ('B',)], maxlen=5)\n"
     ]
    },
    {
     "name": "stderr",
     "output_type": "stream",
     "text": [
      "0: 608x800 1 Biodegradable, 251.7ms\n",
      "Speed: 3.5ms preprocess, 251.7ms inference, 0.0ms postprocess per image at shape (1, 3, 608, 800)\n",
      "\n"
     ]
    },
    {
     "name": "stdout",
     "output_type": "stream",
     "text": [
      "Labels: deque([('B',), ('B',), ('B',), ('B',), ('B',)], maxlen=5)\n"
     ]
    },
    {
     "name": "stderr",
     "output_type": "stream",
     "text": [
      "0: 608x800 1 Biodegradable, 258.6ms\n",
      "Speed: 5.0ms preprocess, 258.6ms inference, 1.0ms postprocess per image at shape (1, 3, 608, 800)\n",
      "\n"
     ]
    },
    {
     "name": "stdout",
     "output_type": "stream",
     "text": [
      "Labels: deque([('B',), ('B',), ('B',), ('B',), ('B',)], maxlen=5)\n"
     ]
    },
    {
     "name": "stderr",
     "output_type": "stream",
     "text": [
      "0: 608x800 1 Biodegradable, 247.4ms\n",
      "Speed: 5.0ms preprocess, 247.4ms inference, 1.0ms postprocess per image at shape (1, 3, 608, 800)\n",
      "\n"
     ]
    },
    {
     "name": "stdout",
     "output_type": "stream",
     "text": [
      "Labels: deque([('B',), ('B',), ('B',), ('B',), ('B',)], maxlen=5)\n"
     ]
    },
    {
     "name": "stderr",
     "output_type": "stream",
     "text": [
      "0: 608x800 1 Biodegradable, 279.4ms\n",
      "Speed: 0.0ms preprocess, 279.4ms inference, 1.0ms postprocess per image at shape (1, 3, 608, 800)\n",
      "\n"
     ]
    },
    {
     "name": "stdout",
     "output_type": "stream",
     "text": [
      "Labels: deque([('B',), ('B',), ('B',), ('B',), ('B',)], maxlen=5)\n"
     ]
    },
    {
     "name": "stderr",
     "output_type": "stream",
     "text": [
      "0: 608x800 1 Biodegradable, 282.4ms\n",
      "Speed: 4.0ms preprocess, 282.4ms inference, 1.0ms postprocess per image at shape (1, 3, 608, 800)\n",
      "\n"
     ]
    },
    {
     "name": "stdout",
     "output_type": "stream",
     "text": [
      "Response from ESP32: B CMD: Action for 'B' command\n",
      "Labels: deque([('B',), ('B',), ('B',), ('B',), ('B',)], maxlen=5)\n"
     ]
    },
    {
     "name": "stderr",
     "output_type": "stream",
     "text": [
      "0: 608x800 1 Biodegradable, 254.3ms\n",
      "Speed: 1.5ms preprocess, 254.3ms inference, 1.0ms postprocess per image at shape (1, 3, 608, 800)\n",
      "\n"
     ]
    },
    {
     "name": "stdout",
     "output_type": "stream",
     "text": [
      "Labels: deque([('B',), ('B',), ('B',), ('B',), ('B',)], maxlen=5)\n"
     ]
    },
    {
     "name": "stderr",
     "output_type": "stream",
     "text": [
      "0: 608x800 1 Plastic, 251.3ms\n",
      "Speed: 5.0ms preprocess, 251.3ms inference, 0.0ms postprocess per image at shape (1, 3, 608, 800)\n",
      "\n"
     ]
    },
    {
     "name": "stdout",
     "output_type": "stream",
     "text": [
      "Labels: deque([('B',), ('B',), ('B',), ('B',), ('P',)], maxlen=5)\n"
     ]
    },
    {
     "name": "stderr",
     "output_type": "stream",
     "text": [
      "0: 608x800 1 Biodegradable, 265.6ms\n",
      "Speed: 3.0ms preprocess, 265.6ms inference, 1.0ms postprocess per image at shape (1, 3, 608, 800)\n",
      "\n"
     ]
    },
    {
     "name": "stdout",
     "output_type": "stream",
     "text": [
      "Labels: deque([('B',), ('B',), ('B',), ('P',), ('B',)], maxlen=5)\n"
     ]
    },
    {
     "name": "stderr",
     "output_type": "stream",
     "text": [
      "0: 608x800 1 Biodegradable, 250.2ms\n",
      "Speed: 5.0ms preprocess, 250.2ms inference, 0.0ms postprocess per image at shape (1, 3, 608, 800)\n",
      "\n"
     ]
    },
    {
     "name": "stdout",
     "output_type": "stream",
     "text": [
      "Labels: deque([('B',), ('B',), ('P',), ('B',), ('B',)], maxlen=5)\n"
     ]
    },
    {
     "name": "stderr",
     "output_type": "stream",
     "text": [
      "0: 608x800 1 Biodegradable, 278.2ms\n",
      "Speed: 4.0ms preprocess, 278.2ms inference, 1.0ms postprocess per image at shape (1, 3, 608, 800)\n",
      "\n"
     ]
    },
    {
     "name": "stdout",
     "output_type": "stream",
     "text": [
      "Labels: deque([('B',), ('P',), ('B',), ('B',), ('B',)], maxlen=5)\n"
     ]
    },
    {
     "name": "stderr",
     "output_type": "stream",
     "text": [
      "0: 608x800 1 Biodegradable, 246.8ms\n",
      "Speed: 4.0ms preprocess, 246.8ms inference, 1.0ms postprocess per image at shape (1, 3, 608, 800)\n",
      "\n"
     ]
    },
    {
     "name": "stdout",
     "output_type": "stream",
     "text": [
      "Labels: deque([('P',), ('B',), ('B',), ('B',), ('B',)], maxlen=5)\n"
     ]
    },
    {
     "name": "stderr",
     "output_type": "stream",
     "text": [
      "0: 608x800 2 Biodegradables, 252.1ms\n",
      "Speed: 3.5ms preprocess, 252.1ms inference, 1.0ms postprocess per image at shape (1, 3, 608, 800)\n",
      "\n"
     ]
    },
    {
     "name": "stdout",
     "output_type": "stream",
     "text": [
      "Labels: deque([('B',), ('B',), ('B',), ('B',), ('B',)], maxlen=5)\n"
     ]
    },
    {
     "name": "stderr",
     "output_type": "stream",
     "text": [
      "0: 608x800 1 Biodegradable, 293.6ms\n",
      "Speed: 5.0ms preprocess, 293.6ms inference, 0.0ms postprocess per image at shape (1, 3, 608, 800)\n",
      "\n"
     ]
    },
    {
     "name": "stdout",
     "output_type": "stream",
     "text": [
      "Labels: deque([('B',), ('B',), ('B',), ('B',), ('B',)], maxlen=5)\n"
     ]
    },
    {
     "name": "stderr",
     "output_type": "stream",
     "text": [
      "0: 608x800 1 Biodegradable, 282.5ms\n",
      "Speed: 5.0ms preprocess, 282.5ms inference, 1.0ms postprocess per image at shape (1, 3, 608, 800)\n",
      "\n"
     ]
    },
    {
     "name": "stdout",
     "output_type": "stream",
     "text": [
      "Labels: deque([('B',), ('B',), ('B',), ('B',), ('B',)], maxlen=5)\n"
     ]
    },
    {
     "name": "stderr",
     "output_type": "stream",
     "text": [
      "0: 608x800 1 Biodegradable, 243.0ms\n",
      "Speed: 0.0ms preprocess, 243.0ms inference, 1.0ms postprocess per image at shape (1, 3, 608, 800)\n",
      "\n"
     ]
    },
    {
     "name": "stdout",
     "output_type": "stream",
     "text": [
      "Response from ESP32: B CMD: Action for 'B' command\n",
      "Labels: deque([('B',), ('B',), ('B',), ('B',), ('B',)], maxlen=5)\n"
     ]
    },
    {
     "name": "stderr",
     "output_type": "stream",
     "text": [
      "0: 608x800 1 Biodegradable, 272.8ms\n",
      "Speed: 0.6ms preprocess, 272.8ms inference, 0.0ms postprocess per image at shape (1, 3, 608, 800)\n",
      "\n"
     ]
    },
    {
     "name": "stdout",
     "output_type": "stream",
     "text": [
      "Labels: deque([('B',), ('B',), ('B',), ('B',), ('B',)], maxlen=5)\n"
     ]
    },
    {
     "name": "stderr",
     "output_type": "stream",
     "text": [
      "0: 608x800 1 Biodegradable, 250.2ms\n",
      "Speed: 1.0ms preprocess, 250.2ms inference, 0.0ms postprocess per image at shape (1, 3, 608, 800)\n",
      "\n"
     ]
    },
    {
     "name": "stdout",
     "output_type": "stream",
     "text": [
      "Labels: deque([('B',), ('B',), ('B',), ('B',), ('B',)], maxlen=5)\n"
     ]
    },
    {
     "name": "stderr",
     "output_type": "stream",
     "text": [
      "0: 608x800 1 Biodegradable, 260.4ms\n",
      "Speed: 4.0ms preprocess, 260.4ms inference, 1.0ms postprocess per image at shape (1, 3, 608, 800)\n",
      "\n"
     ]
    },
    {
     "name": "stdout",
     "output_type": "stream",
     "text": [
      "Labels: deque([('B',), ('B',), ('B',), ('B',), ('B',)], maxlen=5)\n"
     ]
    },
    {
     "name": "stderr",
     "output_type": "stream",
     "text": [
      "0: 608x800 1 Biodegradable, 278.1ms\n",
      "Speed: 6.0ms preprocess, 278.1ms inference, 1.2ms postprocess per image at shape (1, 3, 608, 800)\n",
      "\n"
     ]
    },
    {
     "name": "stdout",
     "output_type": "stream",
     "text": [
      "Labels: deque([('B',), ('B',), ('B',), ('B',), ('B',)], maxlen=5)\n"
     ]
    },
    {
     "name": "stderr",
     "output_type": "stream",
     "text": [
      "0: 608x800 1 Biodegradable, 270.6ms\n",
      "Speed: 5.0ms preprocess, 270.6ms inference, 1.0ms postprocess per image at shape (1, 3, 608, 800)\n",
      "\n"
     ]
    },
    {
     "name": "stdout",
     "output_type": "stream",
     "text": [
      "Response from ESP32: B CMD: Action for 'B' command\n",
      "Labels: deque([('B',), ('B',), ('B',), ('B',), ('B',)], maxlen=5)\n"
     ]
    },
    {
     "name": "stderr",
     "output_type": "stream",
     "text": [
      "0: 608x800 1 Biodegradable, 249.6ms\n",
      "Speed: 3.0ms preprocess, 249.6ms inference, 0.0ms postprocess per image at shape (1, 3, 608, 800)\n",
      "\n"
     ]
    },
    {
     "name": "stdout",
     "output_type": "stream",
     "text": [
      "Labels: deque([('B',), ('B',), ('B',), ('B',), ('B',)], maxlen=5)\n"
     ]
    },
    {
     "name": "stderr",
     "output_type": "stream",
     "text": [
      "0: 608x800 1 Biodegradable, 260.7ms\n",
      "Speed: 5.0ms preprocess, 260.7ms inference, 1.0ms postprocess per image at shape (1, 3, 608, 800)\n",
      "\n"
     ]
    },
    {
     "name": "stdout",
     "output_type": "stream",
     "text": [
      "Labels: deque([('B',), ('B',), ('B',), ('B',), ('B',)], maxlen=5)\n"
     ]
    },
    {
     "name": "stderr",
     "output_type": "stream",
     "text": [
      "0: 608x800 1 Biodegradable, 260.3ms\n",
      "Speed: 6.1ms preprocess, 260.3ms inference, 0.0ms postprocess per image at shape (1, 3, 608, 800)\n",
      "\n"
     ]
    },
    {
     "name": "stdout",
     "output_type": "stream",
     "text": [
      "Labels: deque([('B',), ('B',), ('B',), ('B',), ('B',)], maxlen=5)\n"
     ]
    },
    {
     "name": "stderr",
     "output_type": "stream",
     "text": [
      "0: 608x800 1 Biodegradable, 248.5ms\n",
      "Speed: 14.0ms preprocess, 248.5ms inference, 1.0ms postprocess per image at shape (1, 3, 608, 800)\n",
      "\n"
     ]
    },
    {
     "name": "stdout",
     "output_type": "stream",
     "text": [
      "Labels: deque([('B',), ('B',), ('B',), ('B',), ('B',)], maxlen=5)\n"
     ]
    },
    {
     "name": "stderr",
     "output_type": "stream",
     "text": [
      "0: 608x800 1 Biodegradable, 263.8ms\n",
      "Speed: 0.0ms preprocess, 263.8ms inference, 1.1ms postprocess per image at shape (1, 3, 608, 800)\n",
      "\n"
     ]
    },
    {
     "name": "stdout",
     "output_type": "stream",
     "text": [
      "Response from ESP32: B CMD: Action for 'B' command\n",
      "Labels: deque([('B',), ('B',), ('B',), ('B',), ('B',)], maxlen=5)\n"
     ]
    },
    {
     "name": "stderr",
     "output_type": "stream",
     "text": [
      "0: 608x800 1 Biodegradable, 268.1ms\n",
      "Speed: 0.2ms preprocess, 268.1ms inference, 1.5ms postprocess per image at shape (1, 3, 608, 800)\n",
      "\n"
     ]
    },
    {
     "name": "stdout",
     "output_type": "stream",
     "text": [
      "Labels: deque([('B',), ('B',), ('B',), ('B',), ('B',)], maxlen=5)\n"
     ]
    },
    {
     "name": "stderr",
     "output_type": "stream",
     "text": [
      "0: 608x800 1 Biodegradable, 251.0ms\n",
      "Speed: 12.9ms preprocess, 251.0ms inference, 0.0ms postprocess per image at shape (1, 3, 608, 800)\n",
      "\n"
     ]
    },
    {
     "name": "stdout",
     "output_type": "stream",
     "text": [
      "Labels: deque([('B',), ('B',), ('B',), ('B',), ('B',)], maxlen=5)\n"
     ]
    },
    {
     "name": "stderr",
     "output_type": "stream",
     "text": [
      "0: 608x800 1 Biodegradable, 252.4ms\n",
      "Speed: 0.0ms preprocess, 252.4ms inference, 0.0ms postprocess per image at shape (1, 3, 608, 800)\n",
      "\n"
     ]
    },
    {
     "name": "stdout",
     "output_type": "stream",
     "text": [
      "Labels: deque([('B',), ('B',), ('B',), ('B',), ('B',)], maxlen=5)\n"
     ]
    },
    {
     "name": "stderr",
     "output_type": "stream",
     "text": [
      "0: 608x800 1 Biodegradable, 259.8ms\n",
      "Speed: 0.0ms preprocess, 259.8ms inference, 0.0ms postprocess per image at shape (1, 3, 608, 800)\n",
      "\n"
     ]
    },
    {
     "name": "stdout",
     "output_type": "stream",
     "text": [
      "Labels: deque([('B',), ('B',), ('B',), ('B',), ('B',)], maxlen=5)\n"
     ]
    },
    {
     "name": "stderr",
     "output_type": "stream",
     "text": [
      "0: 608x800 1 Biodegradable, 230.3ms\n",
      "Speed: 5.0ms preprocess, 230.3ms inference, 12.7ms postprocess per image at shape (1, 3, 608, 800)\n",
      "\n"
     ]
    },
    {
     "name": "stdout",
     "output_type": "stream",
     "text": [
      "Response from ESP32: B CMD: Action for 'B' command\n",
      "Labels: deque([('B',), ('B',), ('B',), ('B',), ('B',)], maxlen=5)\n"
     ]
    },
    {
     "name": "stderr",
     "output_type": "stream",
     "text": [
      "0: 608x800 1 Biodegradable, 252.7ms\n",
      "Speed: 3.0ms preprocess, 252.7ms inference, 15.6ms postprocess per image at shape (1, 3, 608, 800)\n",
      "\n"
     ]
    },
    {
     "name": "stdout",
     "output_type": "stream",
     "text": [
      "Labels: deque([('B',), ('B',), ('B',), ('B',), ('B',)], maxlen=5)\n"
     ]
    },
    {
     "name": "stderr",
     "output_type": "stream",
     "text": [
      "0: 608x800 1 Biodegradable, 234.5ms\n",
      "Speed: 6.1ms preprocess, 234.5ms inference, 0.0ms postprocess per image at shape (1, 3, 608, 800)\n",
      "\n"
     ]
    },
    {
     "name": "stdout",
     "output_type": "stream",
     "text": [
      "Labels: deque([('B',), ('B',), ('B',), ('B',), ('B',)], maxlen=5)\n"
     ]
    },
    {
     "name": "stderr",
     "output_type": "stream",
     "text": [
      "0: 608x800 1 Biodegradable, 238.9ms\n",
      "Speed: 15.6ms preprocess, 238.9ms inference, 0.0ms postprocess per image at shape (1, 3, 608, 800)\n",
      "\n"
     ]
    },
    {
     "name": "stdout",
     "output_type": "stream",
     "text": [
      "Labels: deque([('B',), ('B',), ('B',), ('B',), ('B',)], maxlen=5)\n"
     ]
    },
    {
     "name": "stderr",
     "output_type": "stream",
     "text": [
      "0: 608x800 1 Biodegradable, 295.5ms\n",
      "Speed: 0.0ms preprocess, 295.5ms inference, 1.0ms postprocess per image at shape (1, 3, 608, 800)\n",
      "\n"
     ]
    },
    {
     "name": "stdout",
     "output_type": "stream",
     "text": [
      "Labels: deque([('B',), ('B',), ('B',), ('B',), ('B',)], maxlen=5)\n"
     ]
    },
    {
     "name": "stderr",
     "output_type": "stream",
     "text": [
      "0: 608x800 1 Biodegradable, 249.6ms\n",
      "Speed: 0.0ms preprocess, 249.6ms inference, 0.0ms postprocess per image at shape (1, 3, 608, 800)\n",
      "\n"
     ]
    },
    {
     "name": "stdout",
     "output_type": "stream",
     "text": [
      "Response from ESP32: B CMD: Action for 'B' command\n",
      "Labels: deque([('B',), ('B',), ('B',), ('B',), ('B',)], maxlen=5)\n"
     ]
    },
    {
     "name": "stderr",
     "output_type": "stream",
     "text": [
      "0: 608x800 1 Biodegradable, 236.0ms\n",
      "Speed: 5.0ms preprocess, 236.0ms inference, 0.0ms postprocess per image at shape (1, 3, 608, 800)\n",
      "\n"
     ]
    },
    {
     "name": "stdout",
     "output_type": "stream",
     "text": [
      "Labels: deque([('B',), ('B',), ('B',), ('B',), ('B',)], maxlen=5)\n"
     ]
    },
    {
     "name": "stderr",
     "output_type": "stream",
     "text": [
      "0: 608x800 1 Biodegradable, 250.1ms\n",
      "Speed: 0.0ms preprocess, 250.1ms inference, 0.0ms postprocess per image at shape (1, 3, 608, 800)\n",
      "\n"
     ]
    },
    {
     "name": "stdout",
     "output_type": "stream",
     "text": [
      "Labels: deque([('B',), ('B',), ('B',), ('B',), ('B',)], maxlen=5)\n"
     ]
    },
    {
     "name": "stderr",
     "output_type": "stream",
     "text": [
      "0: 608x800 1 Biodegradable, 244.4ms\n",
      "Speed: 0.0ms preprocess, 244.4ms inference, 0.0ms postprocess per image at shape (1, 3, 608, 800)\n",
      "\n"
     ]
    },
    {
     "name": "stdout",
     "output_type": "stream",
     "text": [
      "Labels: deque([('B',), ('B',), ('B',), ('B',), ('B',)], maxlen=5)\n"
     ]
    },
    {
     "name": "stderr",
     "output_type": "stream",
     "text": [
      "0: 608x800 1 Biodegradable, 276.4ms\n",
      "Speed: 0.0ms preprocess, 276.4ms inference, 0.0ms postprocess per image at shape (1, 3, 608, 800)\n",
      "\n"
     ]
    },
    {
     "name": "stdout",
     "output_type": "stream",
     "text": [
      "Labels: deque([('B',), ('B',), ('B',), ('B',), ('B',)], maxlen=5)\n"
     ]
    },
    {
     "name": "stderr",
     "output_type": "stream",
     "text": [
      "0: 608x800 1 Biodegradable, 229.7ms\n",
      "Speed: 6.0ms preprocess, 229.7ms inference, 0.0ms postprocess per image at shape (1, 3, 608, 800)\n",
      "\n"
     ]
    },
    {
     "name": "stdout",
     "output_type": "stream",
     "text": [
      "Response from ESP32: B CMD: Action for 'B' command\n",
      "Labels: deque([('B',), ('B',), ('B',), ('B',), ('B',)], maxlen=5)\n"
     ]
    },
    {
     "name": "stderr",
     "output_type": "stream",
     "text": [
      "0: 608x800 1 Biodegradable, 260.5ms\n",
      "Speed: 0.0ms preprocess, 260.5ms inference, 0.0ms postprocess per image at shape (1, 3, 608, 800)\n",
      "\n"
     ]
    },
    {
     "name": "stdout",
     "output_type": "stream",
     "text": [
      "Labels: deque([('B',), ('B',), ('B',), ('B',), ('B',)], maxlen=5)\n"
     ]
    },
    {
     "name": "stderr",
     "output_type": "stream",
     "text": [
      "0: 608x800 1 Biodegradable, 242.0ms\n",
      "Speed: 0.0ms preprocess, 242.0ms inference, 0.0ms postprocess per image at shape (1, 3, 608, 800)\n",
      "\n"
     ]
    },
    {
     "name": "stdout",
     "output_type": "stream",
     "text": [
      "Labels: deque([('B',), ('B',), ('B',), ('B',), ('B',)], maxlen=5)\n"
     ]
    },
    {
     "name": "stderr",
     "output_type": "stream",
     "text": [
      "0: 608x800 1 Biodegradable, 255.8ms\n",
      "Speed: 0.0ms preprocess, 255.8ms inference, 0.0ms postprocess per image at shape (1, 3, 608, 800)\n",
      "\n"
     ]
    },
    {
     "name": "stdout",
     "output_type": "stream",
     "text": [
      "Labels: deque([('B',), ('B',), ('B',), ('B',), ('B',)], maxlen=5)\n"
     ]
    },
    {
     "name": "stderr",
     "output_type": "stream",
     "text": [
      "0: 608x800 1 Biodegradable, 252.2ms\n",
      "Speed: 0.0ms preprocess, 252.2ms inference, 0.0ms postprocess per image at shape (1, 3, 608, 800)\n",
      "\n"
     ]
    },
    {
     "name": "stdout",
     "output_type": "stream",
     "text": [
      "Labels: deque([('B',), ('B',), ('B',), ('B',), ('B',)], maxlen=5)\n"
     ]
    },
    {
     "name": "stderr",
     "output_type": "stream",
     "text": [
      "0: 608x800 1 Biodegradable, 252.0ms\n",
      "Speed: 0.0ms preprocess, 252.0ms inference, 0.0ms postprocess per image at shape (1, 3, 608, 800)\n",
      "\n"
     ]
    },
    {
     "name": "stdout",
     "output_type": "stream",
     "text": [
      "Response from ESP32: B CMD: Action for 'B' command\n",
      "Labels: deque([('B',), ('B',), ('B',), ('B',), ('B',)], maxlen=5)\n"
     ]
    },
    {
     "name": "stderr",
     "output_type": "stream",
     "text": [
      "0: 608x800 1 Biodegradable, 243.8ms\n",
      "Speed: 4.5ms preprocess, 243.8ms inference, 0.0ms postprocess per image at shape (1, 3, 608, 800)\n",
      "\n"
     ]
    },
    {
     "name": "stdout",
     "output_type": "stream",
     "text": [
      "Labels: deque([('B',), ('B',), ('B',), ('B',), ('B',)], maxlen=5)\n"
     ]
    },
    {
     "name": "stderr",
     "output_type": "stream",
     "text": [
      "0: 608x800 1 Biodegradable, 254.3ms\n",
      "Speed: 0.0ms preprocess, 254.3ms inference, 0.0ms postprocess per image at shape (1, 3, 608, 800)\n",
      "\n"
     ]
    },
    {
     "name": "stdout",
     "output_type": "stream",
     "text": [
      "Labels: deque([('B',), ('B',), ('B',), ('B',), ('B',)], maxlen=5)\n"
     ]
    },
    {
     "name": "stderr",
     "output_type": "stream",
     "text": [
      "0: 608x800 1 Biodegradable, 232.3ms\n",
      "Speed: 0.0ms preprocess, 232.3ms inference, 0.0ms postprocess per image at shape (1, 3, 608, 800)\n",
      "\n"
     ]
    },
    {
     "name": "stdout",
     "output_type": "stream",
     "text": [
      "Labels: deque([('B',), ('B',), ('B',), ('B',), ('B',)], maxlen=5)\n"
     ]
    },
    {
     "name": "stderr",
     "output_type": "stream",
     "text": [
      "0: 608x800 1 Biodegradable, 237.7ms\n",
      "Speed: 0.0ms preprocess, 237.7ms inference, 15.7ms postprocess per image at shape (1, 3, 608, 800)\n",
      "\n"
     ]
    },
    {
     "name": "stdout",
     "output_type": "stream",
     "text": [
      "Labels: deque([('B',), ('B',), ('B',), ('B',), ('B',)], maxlen=5)\n"
     ]
    },
    {
     "name": "stderr",
     "output_type": "stream",
     "text": [
      "0: 608x800 1 Biodegradable, 235.3ms\n",
      "Speed: 15.6ms preprocess, 235.3ms inference, 0.0ms postprocess per image at shape (1, 3, 608, 800)\n",
      "\n"
     ]
    },
    {
     "name": "stdout",
     "output_type": "stream",
     "text": [
      "Response from ESP32: B CMD: Action for 'B' command\n",
      "Labels: deque([('B',), ('B',), ('B',), ('B',), ('B',)], maxlen=5)\n"
     ]
    },
    {
     "name": "stderr",
     "output_type": "stream",
     "text": [
      "0: 608x800 1 Biodegradable, 259.5ms\n",
      "Speed: 0.0ms preprocess, 259.5ms inference, 1.0ms postprocess per image at shape (1, 3, 608, 800)\n",
      "\n"
     ]
    },
    {
     "name": "stdout",
     "output_type": "stream",
     "text": [
      "Labels: deque([('B',), ('B',), ('B',), ('B',), ('B',)], maxlen=5)\n"
     ]
    },
    {
     "name": "stderr",
     "output_type": "stream",
     "text": [
      "0: 608x800 1 Biodegradable, 235.1ms\n",
      "Speed: 1.9ms preprocess, 235.1ms inference, 0.0ms postprocess per image at shape (1, 3, 608, 800)\n",
      "\n"
     ]
    },
    {
     "name": "stdout",
     "output_type": "stream",
     "text": [
      "Labels: deque([('B',), ('B',), ('B',), ('B',), ('B',)], maxlen=5)\n"
     ]
    },
    {
     "name": "stderr",
     "output_type": "stream",
     "text": [
      "0: 608x800 1 Biodegradable, 235.7ms\n",
      "Speed: 12.9ms preprocess, 235.7ms inference, 0.0ms postprocess per image at shape (1, 3, 608, 800)\n",
      "\n"
     ]
    },
    {
     "name": "stdout",
     "output_type": "stream",
     "text": [
      "Labels: deque([('B',), ('B',), ('B',), ('B',), ('B',)], maxlen=5)\n"
     ]
    },
    {
     "name": "stderr",
     "output_type": "stream",
     "text": [
      "0: 608x800 1 Metal, 258.3ms\n",
      "Speed: 0.0ms preprocess, 258.3ms inference, 0.0ms postprocess per image at shape (1, 3, 608, 800)\n",
      "\n"
     ]
    },
    {
     "name": "stdout",
     "output_type": "stream",
     "text": [
      "Labels: deque([('B',), ('B',), ('B',), ('B',), ('m',)], maxlen=5)\n"
     ]
    },
    {
     "name": "stderr",
     "output_type": "stream",
     "text": [
      "0: 608x800 1 Biodegradable, 256.2ms\n",
      "Speed: 10.9ms preprocess, 256.2ms inference, 0.0ms postprocess per image at shape (1, 3, 608, 800)\n",
      "\n"
     ]
    },
    {
     "name": "stdout",
     "output_type": "stream",
     "text": [
      "Labels: deque([('B',), ('B',), ('B',), ('m',), ('B',)], maxlen=5)\n"
     ]
    },
    {
     "name": "stderr",
     "output_type": "stream",
     "text": [
      "0: 608x800 1 Biodegradable, 233.5ms\n",
      "Speed: 28.1ms preprocess, 233.5ms inference, 0.0ms postprocess per image at shape (1, 3, 608, 800)\n",
      "\n"
     ]
    },
    {
     "name": "stdout",
     "output_type": "stream",
     "text": [
      "Labels: deque([('B',), ('B',), ('m',), ('B',), ('B',)], maxlen=5)\n"
     ]
    },
    {
     "name": "stderr",
     "output_type": "stream",
     "text": [
      "0: 608x800 1 Biodegradable, 251.5ms\n",
      "Speed: 0.0ms preprocess, 251.5ms inference, 0.0ms postprocess per image at shape (1, 3, 608, 800)\n",
      "\n"
     ]
    },
    {
     "name": "stdout",
     "output_type": "stream",
     "text": [
      "Labels: deque([('B',), ('m',), ('B',), ('B',), ('B',)], maxlen=5)\n"
     ]
    },
    {
     "name": "stderr",
     "output_type": "stream",
     "text": [
      "0: 608x800 1 Biodegradable, 250.8ms\n",
      "Speed: 0.0ms preprocess, 250.8ms inference, 0.0ms postprocess per image at shape (1, 3, 608, 800)\n",
      "\n"
     ]
    },
    {
     "name": "stdout",
     "output_type": "stream",
     "text": [
      "Labels: deque([('m',), ('B',), ('B',), ('B',), ('B',)], maxlen=5)\n"
     ]
    },
    {
     "name": "stderr",
     "output_type": "stream",
     "text": [
      "0: 608x800 1 Plastic, 249.6ms\n",
      "Speed: 0.0ms preprocess, 249.6ms inference, 0.0ms postprocess per image at shape (1, 3, 608, 800)\n",
      "\n"
     ]
    },
    {
     "name": "stdout",
     "output_type": "stream",
     "text": [
      "Labels: deque([('B',), ('B',), ('B',), ('B',), ('P',)], maxlen=5)\n"
     ]
    },
    {
     "name": "stderr",
     "output_type": "stream",
     "text": [
      "0: 608x800 1 Biodegradable, 251.4ms\n",
      "Speed: 15.6ms preprocess, 251.4ms inference, 1.5ms postprocess per image at shape (1, 3, 608, 800)\n",
      "\n"
     ]
    },
    {
     "name": "stdout",
     "output_type": "stream",
     "text": [
      "Labels: deque([('B',), ('B',), ('B',), ('P',), ('B',)], maxlen=5)\n"
     ]
    },
    {
     "name": "stderr",
     "output_type": "stream",
     "text": [
      "0: 608x800 1 Biodegradable, 232.9ms\n",
      "Speed: 0.0ms preprocess, 232.9ms inference, 0.0ms postprocess per image at shape (1, 3, 608, 800)\n",
      "\n"
     ]
    },
    {
     "name": "stdout",
     "output_type": "stream",
     "text": [
      "Labels: deque([('B',), ('B',), ('P',), ('B',), ('B',)], maxlen=5)\n"
     ]
    },
    {
     "name": "stderr",
     "output_type": "stream",
     "text": [
      "0: 608x800 (no detections), 234.4ms\n",
      "Speed: 15.6ms preprocess, 234.4ms inference, 0.0ms postprocess per image at shape (1, 3, 608, 800)\n",
      "\n"
     ]
    },
    {
     "name": "stdout",
     "output_type": "stream",
     "text": [
      "Labels: deque([('B',), ('P',), ('B',), ('B',), ()], maxlen=5)\n"
     ]
    },
    {
     "name": "stderr",
     "output_type": "stream",
     "text": [
      "0: 608x800 1 Biodegradable, 236.6ms\n",
      "Speed: 13.3ms preprocess, 236.6ms inference, 0.0ms postprocess per image at shape (1, 3, 608, 800)\n",
      "\n"
     ]
    },
    {
     "name": "stdout",
     "output_type": "stream",
     "text": [
      "Labels: deque([('P',), ('B',), ('B',), (), ('B',)], maxlen=5)\n"
     ]
    },
    {
     "name": "stderr",
     "output_type": "stream",
     "text": [
      "0: 608x800 1 Biodegradable, 268.4ms\n",
      "Speed: 0.0ms preprocess, 268.4ms inference, 0.0ms postprocess per image at shape (1, 3, 608, 800)\n",
      "\n"
     ]
    },
    {
     "name": "stdout",
     "output_type": "stream",
     "text": [
      "Labels: deque([('B',), ('B',), (), ('B',), ('B',)], maxlen=5)\n"
     ]
    },
    {
     "name": "stderr",
     "output_type": "stream",
     "text": [
      "0: 608x800 1 Biodegradable, 246.4ms\n",
      "Speed: 0.0ms preprocess, 246.4ms inference, 0.0ms postprocess per image at shape (1, 3, 608, 800)\n",
      "\n"
     ]
    },
    {
     "name": "stdout",
     "output_type": "stream",
     "text": [
      "Labels: deque([('B',), (), ('B',), ('B',), ('B',)], maxlen=5)\n"
     ]
    },
    {
     "name": "stderr",
     "output_type": "stream",
     "text": [
      "0: 608x800 1 Biodegradable, 1 Metal, 236.6ms\n",
      "Speed: 18.5ms preprocess, 236.6ms inference, 0.0ms postprocess per image at shape (1, 3, 608, 800)\n",
      "\n"
     ]
    },
    {
     "name": "stdout",
     "output_type": "stream",
     "text": [
      "Labels: deque([(), ('B',), ('B',), ('B',), ('m',)], maxlen=5)\n"
     ]
    },
    {
     "name": "stderr",
     "output_type": "stream",
     "text": [
      "0: 608x800 1 Biodegradable, 243.7ms\n",
      "Speed: 0.0ms preprocess, 243.7ms inference, 1.1ms postprocess per image at shape (1, 3, 608, 800)\n",
      "\n"
     ]
    },
    {
     "name": "stdout",
     "output_type": "stream",
     "text": [
      "Labels: deque([('B',), ('B',), ('B',), ('m',), ('B',)], maxlen=5)\n"
     ]
    },
    {
     "name": "stderr",
     "output_type": "stream",
     "text": [
      "0: 608x800 1 Biodegradable, 249.7ms\n",
      "Speed: 3.7ms preprocess, 249.7ms inference, 1.0ms postprocess per image at shape (1, 3, 608, 800)\n",
      "\n"
     ]
    },
    {
     "name": "stdout",
     "output_type": "stream",
     "text": [
      "Labels: deque([('B',), ('B',), ('m',), ('B',), ('B',)], maxlen=5)\n"
     ]
    },
    {
     "name": "stderr",
     "output_type": "stream",
     "text": [
      "0: 608x800 1 Biodegradable, 238.2ms\n",
      "Speed: 0.0ms preprocess, 238.2ms inference, 0.0ms postprocess per image at shape (1, 3, 608, 800)\n",
      "\n"
     ]
    },
    {
     "name": "stdout",
     "output_type": "stream",
     "text": [
      "Labels: deque([('B',), ('m',), ('B',), ('B',), ('B',)], maxlen=5)\n"
     ]
    },
    {
     "name": "stderr",
     "output_type": "stream",
     "text": [
      "0: 608x800 1 Biodegradable, 235.1ms\n",
      "Speed: 12.5ms preprocess, 235.1ms inference, 0.0ms postprocess per image at shape (1, 3, 608, 800)\n",
      "\n"
     ]
    },
    {
     "name": "stdout",
     "output_type": "stream",
     "text": [
      "Labels: deque([('m',), ('B',), ('B',), ('B',), ('B',)], maxlen=5)\n"
     ]
    },
    {
     "name": "stderr",
     "output_type": "stream",
     "text": [
      "0: 608x800 1 Biodegradable, 235.2ms\n",
      "Speed: 15.6ms preprocess, 235.2ms inference, 15.6ms postprocess per image at shape (1, 3, 608, 800)\n",
      "\n"
     ]
    },
    {
     "name": "stdout",
     "output_type": "stream",
     "text": [
      "Labels: deque([('B',), ('B',), ('B',), ('B',), ('B',)], maxlen=5)\n"
     ]
    },
    {
     "name": "stderr",
     "output_type": "stream",
     "text": [
      "0: 608x800 1 Biodegradable, 253.2ms\n",
      "Speed: 0.0ms preprocess, 253.2ms inference, 0.0ms postprocess per image at shape (1, 3, 608, 800)\n",
      "\n"
     ]
    },
    {
     "name": "stdout",
     "output_type": "stream",
     "text": [
      "Response from ESP32: B CMD: Action for 'B' command\n",
      "Labels: deque([('B',), ('B',), ('B',), ('B',), ('B',)], maxlen=5)\n"
     ]
    },
    {
     "name": "stderr",
     "output_type": "stream",
     "text": [
      "0: 608x800 1 Metal, 252.1ms\n",
      "Speed: 1.6ms preprocess, 252.1ms inference, 1.0ms postprocess per image at shape (1, 3, 608, 800)\n",
      "\n"
     ]
    },
    {
     "name": "stdout",
     "output_type": "stream",
     "text": [
      "Labels: deque([('B',), ('B',), ('B',), ('B',), ('m',)], maxlen=5)\n"
     ]
    },
    {
     "name": "stderr",
     "output_type": "stream",
     "text": [
      "0: 608x800 1 Metal, 236.2ms\n",
      "Speed: 2.0ms preprocess, 236.2ms inference, 0.0ms postprocess per image at shape (1, 3, 608, 800)\n",
      "\n"
     ]
    },
    {
     "name": "stdout",
     "output_type": "stream",
     "text": [
      "Labels: deque([('B',), ('B',), ('B',), ('m',), ('m',)], maxlen=5)\n"
     ]
    },
    {
     "name": "stderr",
     "output_type": "stream",
     "text": [
      "0: 608x800 1 Biodegradable, 233.6ms\n",
      "Speed: 15.6ms preprocess, 233.6ms inference, 0.0ms postprocess per image at shape (1, 3, 608, 800)\n",
      "\n"
     ]
    },
    {
     "name": "stdout",
     "output_type": "stream",
     "text": [
      "Labels: deque([('B',), ('B',), ('m',), ('m',), ('B',)], maxlen=5)\n"
     ]
    },
    {
     "name": "stderr",
     "output_type": "stream",
     "text": [
      "0: 608x800 (no detections), 240.1ms\n",
      "Speed: 0.0ms preprocess, 240.1ms inference, 0.0ms postprocess per image at shape (1, 3, 608, 800)\n",
      "\n"
     ]
    },
    {
     "name": "stdout",
     "output_type": "stream",
     "text": [
      "Labels: deque([('B',), ('m',), ('m',), ('B',), ()], maxlen=5)\n"
     ]
    },
    {
     "name": "stderr",
     "output_type": "stream",
     "text": [
      "0: 608x800 1 Biodegradable, 242.9ms\n",
      "Speed: 0.0ms preprocess, 242.9ms inference, 0.0ms postprocess per image at shape (1, 3, 608, 800)\n",
      "\n"
     ]
    },
    {
     "name": "stdout",
     "output_type": "stream",
     "text": [
      "Labels: deque([('m',), ('m',), ('B',), (), ('B',)], maxlen=5)\n"
     ]
    },
    {
     "name": "stderr",
     "output_type": "stream",
     "text": [
      "0: 608x800 (no detections), 334.1ms\n",
      "Speed: 15.8ms preprocess, 334.1ms inference, 15.7ms postprocess per image at shape (1, 3, 608, 800)\n",
      "\n"
     ]
    },
    {
     "name": "stdout",
     "output_type": "stream",
     "text": [
      "Labels: deque([('m',), ('B',), (), ('B',), ()], maxlen=5)\n"
     ]
    },
    {
     "name": "stderr",
     "output_type": "stream",
     "text": [
      "0: 608x800 1 Biodegradable, 1 Metal, 238.3ms\n",
      "Speed: 1.0ms preprocess, 238.3ms inference, 0.3ms postprocess per image at shape (1, 3, 608, 800)\n",
      "\n"
     ]
    },
    {
     "name": "stdout",
     "output_type": "stream",
     "text": [
      "Labels: deque([('B',), (), ('B',), (), ('B',)], maxlen=5)\n"
     ]
    },
    {
     "name": "stderr",
     "output_type": "stream",
     "text": [
      "0: 608x800 1 Plastic, 289.5ms\n",
      "Speed: 0.0ms preprocess, 289.5ms inference, 0.0ms postprocess per image at shape (1, 3, 608, 800)\n",
      "\n"
     ]
    },
    {
     "name": "stdout",
     "output_type": "stream",
     "text": [
      "Labels: deque([(), ('B',), (), ('B',), ('P',)], maxlen=5)\n"
     ]
    },
    {
     "name": "stderr",
     "output_type": "stream",
     "text": [
      "0: 608x800 1 Biodegradable, 232.2ms\n",
      "Speed: 15.6ms preprocess, 232.2ms inference, 15.6ms postprocess per image at shape (1, 3, 608, 800)\n",
      "\n"
     ]
    },
    {
     "name": "stdout",
     "output_type": "stream",
     "text": [
      "Labels: deque([('B',), (), ('B',), ('P',), ('B',)], maxlen=5)\n"
     ]
    },
    {
     "name": "stderr",
     "output_type": "stream",
     "text": [
      "0: 608x800 1 Biodegradable, 252.3ms\n",
      "Speed: 0.0ms preprocess, 252.3ms inference, 0.0ms postprocess per image at shape (1, 3, 608, 800)\n",
      "\n"
     ]
    },
    {
     "name": "stdout",
     "output_type": "stream",
     "text": [
      "Labels: deque([(), ('B',), ('P',), ('B',), ('B',)], maxlen=5)\n"
     ]
    },
    {
     "name": "stderr",
     "output_type": "stream",
     "text": [
      "0: 608x800 1 Biodegradable, 253.3ms\n",
      "Speed: 4.0ms preprocess, 253.3ms inference, 0.0ms postprocess per image at shape (1, 3, 608, 800)\n",
      "\n"
     ]
    },
    {
     "name": "stdout",
     "output_type": "stream",
     "text": [
      "Labels: deque([('B',), ('P',), ('B',), ('B',), ('B',)], maxlen=5)\n"
     ]
    },
    {
     "name": "stderr",
     "output_type": "stream",
     "text": [
      "0: 608x800 1 Biodegradable, 266.0ms\n",
      "Speed: 0.0ms preprocess, 266.0ms inference, 0.0ms postprocess per image at shape (1, 3, 608, 800)\n",
      "\n"
     ]
    },
    {
     "name": "stdout",
     "output_type": "stream",
     "text": [
      "Labels: deque([('P',), ('B',), ('B',), ('B',), ('B',)], maxlen=5)\n"
     ]
    },
    {
     "name": "stderr",
     "output_type": "stream",
     "text": [
      "0: 608x800 1 Biodegradable, 253.6ms\n",
      "Speed: 0.0ms preprocess, 253.6ms inference, 0.0ms postprocess per image at shape (1, 3, 608, 800)\n",
      "\n"
     ]
    },
    {
     "name": "stdout",
     "output_type": "stream",
     "text": [
      "Labels: deque([('B',), ('B',), ('B',), ('B',), ('B',)], maxlen=5)\n"
     ]
    },
    {
     "name": "stderr",
     "output_type": "stream",
     "text": [
      "0: 608x800 1 Biodegradable, 250.1ms\n",
      "Speed: 14.5ms preprocess, 250.1ms inference, 0.0ms postprocess per image at shape (1, 3, 608, 800)\n",
      "\n"
     ]
    },
    {
     "name": "stdout",
     "output_type": "stream",
     "text": [
      "Labels: deque([('B',), ('B',), ('B',), ('B',), ('B',)], maxlen=5)\n"
     ]
    },
    {
     "name": "stderr",
     "output_type": "stream",
     "text": [
      "0: 608x800 1 Biodegradable, 247.9ms\n",
      "Speed: 0.0ms preprocess, 247.9ms inference, 0.0ms postprocess per image at shape (1, 3, 608, 800)\n",
      "\n"
     ]
    },
    {
     "name": "stdout",
     "output_type": "stream",
     "text": [
      "Labels: deque([('B',), ('B',), ('B',), ('B',), ('B',)], maxlen=5)\n"
     ]
    },
    {
     "name": "stderr",
     "output_type": "stream",
     "text": [
      "0: 608x800 1 Biodegradable, 251.6ms\n",
      "Speed: 0.0ms preprocess, 251.6ms inference, 0.0ms postprocess per image at shape (1, 3, 608, 800)\n",
      "\n"
     ]
    },
    {
     "name": "stdout",
     "output_type": "stream",
     "text": [
      "Labels: deque([('B',), ('B',), ('B',), ('B',), ('B',)], maxlen=5)\n"
     ]
    },
    {
     "name": "stderr",
     "output_type": "stream",
     "text": [
      "0: 608x800 (no detections), 234.8ms\n",
      "Speed: 0.0ms preprocess, 234.8ms inference, 0.0ms postprocess per image at shape (1, 3, 608, 800)\n",
      "\n"
     ]
    },
    {
     "name": "stdout",
     "output_type": "stream",
     "text": [
      "Labels: deque([('B',), ('B',), ('B',), ('B',), ()], maxlen=5)\n"
     ]
    },
    {
     "name": "stderr",
     "output_type": "stream",
     "text": [
      "0: 608x800 (no detections), 251.5ms\n",
      "Speed: 0.0ms preprocess, 251.5ms inference, 0.0ms postprocess per image at shape (1, 3, 608, 800)\n",
      "\n"
     ]
    },
    {
     "name": "stdout",
     "output_type": "stream",
     "text": [
      "Labels: deque([('B',), ('B',), ('B',), (), ()], maxlen=5)\n"
     ]
    },
    {
     "name": "stderr",
     "output_type": "stream",
     "text": [
      "0: 608x800 1 Biodegradable, 235.3ms\n",
      "Speed: 0.0ms preprocess, 235.3ms inference, 0.0ms postprocess per image at shape (1, 3, 608, 800)\n",
      "\n"
     ]
    },
    {
     "name": "stdout",
     "output_type": "stream",
     "text": [
      "Labels: deque([('B',), ('B',), (), (), ('B',)], maxlen=5)\n"
     ]
    },
    {
     "name": "stderr",
     "output_type": "stream",
     "text": [
      "0: 608x800 1 Biodegradable, 250.9ms\n",
      "Speed: 0.0ms preprocess, 250.9ms inference, 0.0ms postprocess per image at shape (1, 3, 608, 800)\n",
      "\n"
     ]
    },
    {
     "name": "stdout",
     "output_type": "stream",
     "text": [
      "Labels: deque([('B',), (), (), ('B',), ('B',)], maxlen=5)\n"
     ]
    },
    {
     "name": "stderr",
     "output_type": "stream",
     "text": [
      "0: 608x800 1 Biodegradable, 234.0ms\n",
      "Speed: 14.3ms preprocess, 234.0ms inference, 0.0ms postprocess per image at shape (1, 3, 608, 800)\n",
      "\n"
     ]
    },
    {
     "name": "stdout",
     "output_type": "stream",
     "text": [
      "Labels: deque([(), (), ('B',), ('B',), ('B',)], maxlen=5)\n"
     ]
    },
    {
     "name": "stderr",
     "output_type": "stream",
     "text": [
      "0: 608x800 1 Biodegradable, 236.8ms\n",
      "Speed: 15.6ms preprocess, 236.8ms inference, 0.0ms postprocess per image at shape (1, 3, 608, 800)\n",
      "\n"
     ]
    },
    {
     "name": "stdout",
     "output_type": "stream",
     "text": [
      "Labels: deque([(), ('B',), ('B',), ('B',), ('B',)], maxlen=5)\n"
     ]
    },
    {
     "name": "stderr",
     "output_type": "stream",
     "text": [
      "0: 608x800 1 Biodegradable, 234.3ms\n",
      "Speed: 15.3ms preprocess, 234.3ms inference, 0.0ms postprocess per image at shape (1, 3, 608, 800)\n",
      "\n"
     ]
    },
    {
     "name": "stdout",
     "output_type": "stream",
     "text": [
      "Response from ESP32: B CMD: Action for 'B' command\n",
      "Labels: deque([('B',), ('B',), ('B',), ('B',), ('B',)], maxlen=5)\n"
     ]
    },
    {
     "name": "stderr",
     "output_type": "stream",
     "text": [
      "0: 608x800 (no detections), 259.7ms\n",
      "Speed: 0.0ms preprocess, 259.7ms inference, 1.0ms postprocess per image at shape (1, 3, 608, 800)\n",
      "\n"
     ]
    },
    {
     "name": "stdout",
     "output_type": "stream",
     "text": [
      "Labels: deque([('B',), ('B',), ('B',), ('B',), ()], maxlen=5)\n"
     ]
    },
    {
     "name": "stderr",
     "output_type": "stream",
     "text": [
      "0: 608x800 1 Biodegradable, 269.0ms\n",
      "Speed: 0.0ms preprocess, 269.0ms inference, 0.0ms postprocess per image at shape (1, 3, 608, 800)\n",
      "\n"
     ]
    },
    {
     "name": "stdout",
     "output_type": "stream",
     "text": [
      "Labels: deque([('B',), ('B',), ('B',), (), ('B',)], maxlen=5)\n"
     ]
    },
    {
     "name": "stderr",
     "output_type": "stream",
     "text": [
      "0: 608x800 1 Biodegradable, 253.4ms\n",
      "Speed: 0.0ms preprocess, 253.4ms inference, 0.0ms postprocess per image at shape (1, 3, 608, 800)\n",
      "\n"
     ]
    },
    {
     "name": "stdout",
     "output_type": "stream",
     "text": [
      "Labels: deque([('B',), ('B',), (), ('B',), ('B',)], maxlen=5)\n"
     ]
    },
    {
     "name": "stderr",
     "output_type": "stream",
     "text": [
      "0: 608x800 1 Biodegradable, 250.0ms\n",
      "Speed: 2.9ms preprocess, 250.0ms inference, 0.0ms postprocess per image at shape (1, 3, 608, 800)\n",
      "\n"
     ]
    },
    {
     "name": "stdout",
     "output_type": "stream",
     "text": [
      "Labels: deque([('B',), (), ('B',), ('B',), ('B',)], maxlen=5)\n"
     ]
    },
    {
     "name": "stderr",
     "output_type": "stream",
     "text": [
      "0: 608x800 1 Biodegradable, 248.8ms\n",
      "Speed: 0.0ms preprocess, 248.8ms inference, 0.0ms postprocess per image at shape (1, 3, 608, 800)\n",
      "\n"
     ]
    },
    {
     "name": "stdout",
     "output_type": "stream",
     "text": [
      "Labels: deque([(), ('B',), ('B',), ('B',), ('B',)], maxlen=5)\n"
     ]
    },
    {
     "name": "stderr",
     "output_type": "stream",
     "text": [
      "0: 608x800 1 Biodegradable, 249.1ms\n",
      "Speed: 0.0ms preprocess, 249.1ms inference, 0.0ms postprocess per image at shape (1, 3, 608, 800)\n",
      "\n"
     ]
    },
    {
     "name": "stdout",
     "output_type": "stream",
     "text": [
      "Labels: deque([('B',), ('B',), ('B',), ('B',), ('B',)], maxlen=5)\n"
     ]
    },
    {
     "name": "stderr",
     "output_type": "stream",
     "text": [
      "0: 608x800 1 Biodegradable, 251.2ms\n",
      "Speed: 0.0ms preprocess, 251.2ms inference, 0.0ms postprocess per image at shape (1, 3, 608, 800)\n",
      "\n"
     ]
    },
    {
     "name": "stdout",
     "output_type": "stream",
     "text": [
      "Labels: deque([('B',), ('B',), ('B',), ('B',), ('B',)], maxlen=5)\n"
     ]
    },
    {
     "name": "stderr",
     "output_type": "stream",
     "text": [
      "0: 608x800 1 Biodegradable, 251.5ms\n",
      "Speed: 14.6ms preprocess, 251.5ms inference, 0.0ms postprocess per image at shape (1, 3, 608, 800)\n",
      "\n"
     ]
    },
    {
     "name": "stdout",
     "output_type": "stream",
     "text": [
      "Labels: deque([('B',), ('B',), ('B',), ('B',), ('B',)], maxlen=5)\n"
     ]
    },
    {
     "name": "stderr",
     "output_type": "stream",
     "text": [
      "0: 608x800 1 Biodegradable, 261.1ms\n",
      "Speed: 0.0ms preprocess, 261.1ms inference, 0.0ms postprocess per image at shape (1, 3, 608, 800)\n",
      "\n"
     ]
    },
    {
     "name": "stdout",
     "output_type": "stream",
     "text": [
      "Labels: deque([('B',), ('B',), ('B',), ('B',), ('B',)], maxlen=5)\n"
     ]
    },
    {
     "name": "stderr",
     "output_type": "stream",
     "text": [
      "0: 608x800 1 Biodegradable, 1 Plastic, 235.4ms\n",
      "Speed: 17.8ms preprocess, 235.4ms inference, 0.0ms postprocess per image at shape (1, 3, 608, 800)\n",
      "\n"
     ]
    },
    {
     "name": "stdout",
     "output_type": "stream",
     "text": [
      "Response from ESP32: B CMD: Action for 'B' command\n",
      "Labels: deque([('B',), ('B',), ('B',), ('B',), ('B',)], maxlen=5)\n"
     ]
    },
    {
     "name": "stderr",
     "output_type": "stream",
     "text": [
      "0: 608x800 1 Biodegradable, 235.4ms\n",
      "Speed: 3.1ms preprocess, 235.4ms inference, 0.0ms postprocess per image at shape (1, 3, 608, 800)\n",
      "\n"
     ]
    },
    {
     "name": "stdout",
     "output_type": "stream",
     "text": [
      "Labels: deque([('B',), ('B',), ('B',), ('B',), ('B',)], maxlen=5)\n"
     ]
    },
    {
     "name": "stderr",
     "output_type": "stream",
     "text": [
      "0: 608x800 1 Biodegradable, 234.8ms\n",
      "Speed: 21.2ms preprocess, 234.8ms inference, 15.7ms postprocess per image at shape (1, 3, 608, 800)\n",
      "\n"
     ]
    },
    {
     "name": "stdout",
     "output_type": "stream",
     "text": [
      "Labels: deque([('B',), ('B',), ('B',), ('B',), ('B',)], maxlen=5)\n"
     ]
    },
    {
     "name": "stderr",
     "output_type": "stream",
     "text": [
      "0: 608x800 1 Biodegradable, 250.6ms\n",
      "Speed: 0.0ms preprocess, 250.6ms inference, 0.0ms postprocess per image at shape (1, 3, 608, 800)\n",
      "\n"
     ]
    },
    {
     "name": "stdout",
     "output_type": "stream",
     "text": [
      "Labels: deque([('B',), ('B',), ('B',), ('B',), ('B',)], maxlen=5)\n"
     ]
    },
    {
     "name": "stderr",
     "output_type": "stream",
     "text": [
      "0: 608x800 1 Biodegradable, 1 Plastic, 235.4ms\n",
      "Speed: 4.0ms preprocess, 235.4ms inference, 0.0ms postprocess per image at shape (1, 3, 608, 800)\n",
      "\n"
     ]
    },
    {
     "name": "stdout",
     "output_type": "stream",
     "text": [
      "Labels: deque([('B',), ('B',), ('B',), ('B',), ('B',)], maxlen=5)\n"
     ]
    },
    {
     "name": "stderr",
     "output_type": "stream",
     "text": [
      "0: 608x800 1 Biodegradable, 253.8ms\n",
      "Speed: 15.7ms preprocess, 253.8ms inference, 1.1ms postprocess per image at shape (1, 3, 608, 800)\n",
      "\n"
     ]
    },
    {
     "name": "stdout",
     "output_type": "stream",
     "text": [
      "Response from ESP32: B CMD: Action for 'B' command\n",
      "Labels: deque([('B',), ('B',), ('B',), ('B',), ('B',)], maxlen=5)\n"
     ]
    },
    {
     "name": "stderr",
     "output_type": "stream",
     "text": [
      "0: 608x800 1 Biodegradable, 249.6ms\n",
      "Speed: 1.0ms preprocess, 249.6ms inference, 0.0ms postprocess per image at shape (1, 3, 608, 800)\n",
      "\n"
     ]
    },
    {
     "name": "stdout",
     "output_type": "stream",
     "text": [
      "Labels: deque([('B',), ('B',), ('B',), ('B',), ('B',)], maxlen=5)\n"
     ]
    },
    {
     "name": "stderr",
     "output_type": "stream",
     "text": [
      "0: 608x800 1 Biodegradable, 233.4ms\n",
      "Speed: 15.6ms preprocess, 233.4ms inference, 0.0ms postprocess per image at shape (1, 3, 608, 800)\n",
      "\n"
     ]
    },
    {
     "name": "stdout",
     "output_type": "stream",
     "text": [
      "Labels: deque([('B',), ('B',), ('B',), ('B',), ('B',)], maxlen=5)\n"
     ]
    },
    {
     "name": "stderr",
     "output_type": "stream",
     "text": [
      "0: 608x800 1 Biodegradable, 237.4ms\n",
      "Speed: 15.6ms preprocess, 237.4ms inference, 0.0ms postprocess per image at shape (1, 3, 608, 800)\n",
      "\n"
     ]
    },
    {
     "name": "stdout",
     "output_type": "stream",
     "text": [
      "Labels: deque([('B',), ('B',), ('B',), ('B',), ('B',)], maxlen=5)\n"
     ]
    },
    {
     "name": "stderr",
     "output_type": "stream",
     "text": [
      "0: 608x800 1 Biodegradable, 237.6ms\n",
      "Speed: 13.6ms preprocess, 237.6ms inference, 0.0ms postprocess per image at shape (1, 3, 608, 800)\n",
      "\n"
     ]
    },
    {
     "name": "stdout",
     "output_type": "stream",
     "text": [
      "Labels: deque([('B',), ('B',), ('B',), ('B',), ('B',)], maxlen=5)\n"
     ]
    },
    {
     "name": "stderr",
     "output_type": "stream",
     "text": [
      "0: 608x800 1 Glass, 237.1ms\n",
      "Speed: 13.9ms preprocess, 237.1ms inference, 0.0ms postprocess per image at shape (1, 3, 608, 800)\n",
      "\n"
     ]
    },
    {
     "name": "stdout",
     "output_type": "stream",
     "text": [
      "Labels: deque([('B',), ('B',), ('B',), ('B',), ('P',)], maxlen=5)\n"
     ]
    },
    {
     "name": "stderr",
     "output_type": "stream",
     "text": [
      "0: 608x800 1 Glass, 234.7ms\n",
      "Speed: 32.4ms preprocess, 234.7ms inference, 0.0ms postprocess per image at shape (1, 3, 608, 800)\n",
      "\n"
     ]
    },
    {
     "name": "stdout",
     "output_type": "stream",
     "text": [
      "Labels: deque([('B',), ('B',), ('B',), ('P',), ('P',)], maxlen=5)\n"
     ]
    },
    {
     "name": "stderr",
     "output_type": "stream",
     "text": [
      "0: 608x800 1 Glass, 218.3ms\n",
      "Speed: 15.6ms preprocess, 218.3ms inference, 0.0ms postprocess per image at shape (1, 3, 608, 800)\n",
      "\n"
     ]
    },
    {
     "name": "stdout",
     "output_type": "stream",
     "text": [
      "Labels: deque([('B',), ('B',), ('P',), ('P',), ('P',)], maxlen=5)\n"
     ]
    },
    {
     "name": "stderr",
     "output_type": "stream",
     "text": [
      "0: 608x800 1 Glass, 266.1ms\n",
      "Speed: 0.0ms preprocess, 266.1ms inference, 0.0ms postprocess per image at shape (1, 3, 608, 800)\n",
      "\n"
     ]
    },
    {
     "name": "stdout",
     "output_type": "stream",
     "text": [
      "Labels: deque([('B',), ('P',), ('P',), ('P',), ('P',)], maxlen=5)\n"
     ]
    },
    {
     "name": "stderr",
     "output_type": "stream",
     "text": [
      "0: 608x800 1 Biodegradable, 237.6ms\n",
      "Speed: 17.1ms preprocess, 237.6ms inference, 0.0ms postprocess per image at shape (1, 3, 608, 800)\n",
      "\n"
     ]
    },
    {
     "name": "stdout",
     "output_type": "stream",
     "text": [
      "Labels: deque([('P',), ('P',), ('P',), ('P',), ('B',)], maxlen=5)\n"
     ]
    },
    {
     "name": "stderr",
     "output_type": "stream",
     "text": [
      "0: 608x800 1 Biodegradable, 264.3ms\n",
      "Speed: 0.0ms preprocess, 264.3ms inference, 1.0ms postprocess per image at shape (1, 3, 608, 800)\n",
      "\n"
     ]
    },
    {
     "name": "stdout",
     "output_type": "stream",
     "text": [
      "Labels: deque([('P',), ('P',), ('P',), ('B',), ('B',)], maxlen=5)\n"
     ]
    },
    {
     "name": "stderr",
     "output_type": "stream",
     "text": [
      "0: 608x800 1 Biodegradable, 250.6ms\n",
      "Speed: 0.0ms preprocess, 250.6ms inference, 0.0ms postprocess per image at shape (1, 3, 608, 800)\n",
      "\n"
     ]
    },
    {
     "name": "stdout",
     "output_type": "stream",
     "text": [
      "Labels: deque([('P',), ('P',), ('B',), ('B',), ('B',)], maxlen=5)\n"
     ]
    },
    {
     "name": "stderr",
     "output_type": "stream",
     "text": [
      "0: 608x800 1 Biodegradable, 252.1ms\n",
      "Speed: 0.0ms preprocess, 252.1ms inference, 0.0ms postprocess per image at shape (1, 3, 608, 800)\n",
      "\n"
     ]
    },
    {
     "name": "stdout",
     "output_type": "stream",
     "text": [
      "Labels: deque([('P',), ('B',), ('B',), ('B',), ('B',)], maxlen=5)\n"
     ]
    },
    {
     "name": "stderr",
     "output_type": "stream",
     "text": [
      "0: 608x800 1 Biodegradable, 251.5ms\n",
      "Speed: 15.6ms preprocess, 251.5ms inference, 0.0ms postprocess per image at shape (1, 3, 608, 800)\n",
      "\n"
     ]
    },
    {
     "name": "stdout",
     "output_type": "stream",
     "text": [
      "Response from ESP32: B CMD: Action for 'B' command\n",
      "Labels: deque([('B',), ('B',), ('B',), ('B',), ('B',)], maxlen=5)\n"
     ]
    },
    {
     "name": "stderr",
     "output_type": "stream",
     "text": [
      "0: 608x800 1 Biodegradable, 256.2ms\n",
      "Speed: 0.0ms preprocess, 256.2ms inference, 0.0ms postprocess per image at shape (1, 3, 608, 800)\n",
      "\n"
     ]
    },
    {
     "name": "stdout",
     "output_type": "stream",
     "text": [
      "Labels: deque([('B',), ('B',), ('B',), ('B',), ('B',)], maxlen=5)\n"
     ]
    },
    {
     "name": "stderr",
     "output_type": "stream",
     "text": [
      "0: 608x800 1 Biodegradable, 278.1ms\n",
      "Speed: 17.5ms preprocess, 278.1ms inference, 0.0ms postprocess per image at shape (1, 3, 608, 800)\n",
      "\n"
     ]
    },
    {
     "name": "stdout",
     "output_type": "stream",
     "text": [
      "Labels: deque([('B',), ('B',), ('B',), ('B',), ('B',)], maxlen=5)\n"
     ]
    },
    {
     "name": "stderr",
     "output_type": "stream",
     "text": [
      "0: 608x800 1 Glass, 248.0ms\n",
      "Speed: 4.0ms preprocess, 248.0ms inference, 0.0ms postprocess per image at shape (1, 3, 608, 800)\n",
      "\n"
     ]
    },
    {
     "name": "stdout",
     "output_type": "stream",
     "text": [
      "Labels: deque([('B',), ('B',), ('B',), ('B',), ('P',)], maxlen=5)\n"
     ]
    },
    {
     "name": "stderr",
     "output_type": "stream",
     "text": [
      "0: 608x800 1 Glass, 248.3ms\n",
      "Speed: 0.0ms preprocess, 248.3ms inference, 0.0ms postprocess per image at shape (1, 3, 608, 800)\n",
      "\n"
     ]
    },
    {
     "name": "stdout",
     "output_type": "stream",
     "text": [
      "Labels: deque([('B',), ('B',), ('B',), ('P',), ('P',)], maxlen=5)\n"
     ]
    },
    {
     "name": "stderr",
     "output_type": "stream",
     "text": [
      "0: 608x800 1 Glass, 239.3ms\n",
      "Speed: 0.0ms preprocess, 239.3ms inference, 0.0ms postprocess per image at shape (1, 3, 608, 800)\n",
      "\n"
     ]
    },
    {
     "name": "stdout",
     "output_type": "stream",
     "text": [
      "Labels: deque([('B',), ('B',), ('P',), ('P',), ('P',)], maxlen=5)\n"
     ]
    },
    {
     "name": "stderr",
     "output_type": "stream",
     "text": [
      "0: 608x800 1 Glass, 252.5ms\n",
      "Speed: 0.0ms preprocess, 252.5ms inference, 0.0ms postprocess per image at shape (1, 3, 608, 800)\n",
      "\n"
     ]
    },
    {
     "name": "stdout",
     "output_type": "stream",
     "text": [
      "Labels: deque([('B',), ('P',), ('P',), ('P',), ('P',)], maxlen=5)\n"
     ]
    },
    {
     "name": "stderr",
     "output_type": "stream",
     "text": [
      "0: 608x800 1 Glass, 251.6ms\n",
      "Speed: 0.0ms preprocess, 251.6ms inference, 1.2ms postprocess per image at shape (1, 3, 608, 800)\n",
      "\n"
     ]
    },
    {
     "name": "stdout",
     "output_type": "stream",
     "text": [
      "Labels: deque([('P',), ('P',), ('P',), ('P',), ('P',)], maxlen=5)\n"
     ]
    },
    {
     "name": "stderr",
     "output_type": "stream",
     "text": [
      "0: 608x800 1 Glass, 249.8ms\n",
      "Speed: 0.0ms preprocess, 249.8ms inference, 0.0ms postprocess per image at shape (1, 3, 608, 800)\n",
      "\n"
     ]
    },
    {
     "name": "stdout",
     "output_type": "stream",
     "text": [
      "Labels: deque([('P',), ('P',), ('P',), ('P',), ('P',)], maxlen=5)\n"
     ]
    },
    {
     "name": "stderr",
     "output_type": "stream",
     "text": [
      "0: 608x800 1 Glass, 234.4ms\n",
      "Speed: 3.5ms preprocess, 234.4ms inference, 1.0ms postprocess per image at shape (1, 3, 608, 800)\n",
      "\n"
     ]
    },
    {
     "name": "stdout",
     "output_type": "stream",
     "text": [
      "Response from ESP32: P CMD: Action for 'P' command\n",
      "Labels: deque([('P',), ('P',), ('P',), ('P',), ('P',)], maxlen=5)\n"
     ]
    },
    {
     "name": "stderr",
     "output_type": "stream",
     "text": [
      "0: 608x800 1 Glass, 255.3ms\n",
      "Speed: 0.0ms preprocess, 255.3ms inference, 1.0ms postprocess per image at shape (1, 3, 608, 800)\n",
      "\n"
     ]
    },
    {
     "name": "stdout",
     "output_type": "stream",
     "text": [
      "Labels: deque([('P',), ('P',), ('P',), ('P',), ('P',)], maxlen=5)\n"
     ]
    },
    {
     "name": "stderr",
     "output_type": "stream",
     "text": [
      "0: 608x800 1 Glass, 263.1ms\n",
      "Speed: 0.0ms preprocess, 263.1ms inference, 1.0ms postprocess per image at shape (1, 3, 608, 800)\n",
      "\n"
     ]
    },
    {
     "name": "stdout",
     "output_type": "stream",
     "text": [
      "Labels: deque([('P',), ('P',), ('P',), ('P',), ('P',)], maxlen=5)\n"
     ]
    },
    {
     "name": "stderr",
     "output_type": "stream",
     "text": [
      "0: 608x800 1 Glass, 249.1ms\n",
      "Speed: 0.0ms preprocess, 249.1ms inference, 0.0ms postprocess per image at shape (1, 3, 608, 800)\n",
      "\n"
     ]
    },
    {
     "name": "stdout",
     "output_type": "stream",
     "text": [
      "Labels: deque([('P',), ('P',), ('P',), ('P',), ('P',)], maxlen=5)\n"
     ]
    },
    {
     "name": "stderr",
     "output_type": "stream",
     "text": [
      "0: 608x800 1 Glass, 244.0ms\n",
      "Speed: 4.0ms preprocess, 244.0ms inference, 0.0ms postprocess per image at shape (1, 3, 608, 800)\n",
      "\n"
     ]
    },
    {
     "name": "stdout",
     "output_type": "stream",
     "text": [
      "Labels: deque([('P',), ('P',), ('P',), ('P',), ('P',)], maxlen=5)\n"
     ]
    },
    {
     "name": "stderr",
     "output_type": "stream",
     "text": [
      "0: 608x800 1 Glass, 250.3ms\n",
      "Speed: 0.0ms preprocess, 250.3ms inference, 0.0ms postprocess per image at shape (1, 3, 608, 800)\n",
      "\n"
     ]
    },
    {
     "name": "stdout",
     "output_type": "stream",
     "text": [
      "Response from ESP32: P CMD: Action for 'P' command\n",
      "Labels: deque([('P',), ('P',), ('P',), ('P',), ('P',)], maxlen=5)\n"
     ]
    },
    {
     "name": "stderr",
     "output_type": "stream",
     "text": [
      "0: 608x800 1 Glass, 239.4ms\n",
      "Speed: 0.5ms preprocess, 239.4ms inference, 0.0ms postprocess per image at shape (1, 3, 608, 800)\n",
      "\n"
     ]
    },
    {
     "name": "stdout",
     "output_type": "stream",
     "text": [
      "Labels: deque([('P',), ('P',), ('P',), ('P',), ('P',)], maxlen=5)\n"
     ]
    },
    {
     "name": "stderr",
     "output_type": "stream",
     "text": [
      "0: 608x800 1 Glass, 249.8ms\n",
      "Speed: 0.0ms preprocess, 249.8ms inference, 0.0ms postprocess per image at shape (1, 3, 608, 800)\n",
      "\n"
     ]
    },
    {
     "name": "stdout",
     "output_type": "stream",
     "text": [
      "Labels: deque([('P',), ('P',), ('P',), ('P',), ('P',)], maxlen=5)\n"
     ]
    },
    {
     "name": "stderr",
     "output_type": "stream",
     "text": [
      "0: 608x800 (no detections), 283.2ms\n",
      "Speed: 0.0ms preprocess, 283.2ms inference, 0.0ms postprocess per image at shape (1, 3, 608, 800)\n",
      "\n"
     ]
    },
    {
     "name": "stdout",
     "output_type": "stream",
     "text": [
      "Labels: deque([('P',), ('P',), ('P',), ('P',), ()], maxlen=5)\n"
     ]
    },
    {
     "name": "stderr",
     "output_type": "stream",
     "text": [
      "0: 608x800 1 Glass, 237.6ms\n",
      "Speed: 0.0ms preprocess, 237.6ms inference, 0.0ms postprocess per image at shape (1, 3, 608, 800)\n",
      "\n"
     ]
    },
    {
     "name": "stdout",
     "output_type": "stream",
     "text": [
      "Labels: deque([('P',), ('P',), ('P',), (), ('P',)], maxlen=5)\n"
     ]
    },
    {
     "name": "stderr",
     "output_type": "stream",
     "text": [
      "0: 608x800 1 Glass, 253.7ms\n",
      "Speed: 3.0ms preprocess, 253.7ms inference, 1.1ms postprocess per image at shape (1, 3, 608, 800)\n",
      "\n"
     ]
    },
    {
     "name": "stdout",
     "output_type": "stream",
     "text": [
      "Labels: deque([('P',), ('P',), (), ('P',), ('P',)], maxlen=5)\n"
     ]
    },
    {
     "name": "stderr",
     "output_type": "stream",
     "text": [
      "0: 608x800 1 Glass, 250.1ms\n",
      "Speed: 16.4ms preprocess, 250.1ms inference, 0.0ms postprocess per image at shape (1, 3, 608, 800)\n",
      "\n"
     ]
    },
    {
     "name": "stdout",
     "output_type": "stream",
     "text": [
      "Labels: deque([('P',), (), ('P',), ('P',), ('P',)], maxlen=5)\n"
     ]
    },
    {
     "name": "stderr",
     "output_type": "stream",
     "text": [
      "0: 608x800 1 Biodegradable, 248.9ms\n",
      "Speed: 4.2ms preprocess, 248.9ms inference, 1.0ms postprocess per image at shape (1, 3, 608, 800)\n",
      "\n"
     ]
    },
    {
     "name": "stdout",
     "output_type": "stream",
     "text": [
      "Labels: deque([(), ('P',), ('P',), ('P',), ('B',)], maxlen=5)\n"
     ]
    },
    {
     "name": "stderr",
     "output_type": "stream",
     "text": [
      "0: 608x800 1 Biodegradable, 249.1ms\n",
      "Speed: 0.0ms preprocess, 249.1ms inference, 1.0ms postprocess per image at shape (1, 3, 608, 800)\n",
      "\n"
     ]
    },
    {
     "name": "stdout",
     "output_type": "stream",
     "text": [
      "Labels: deque([('P',), ('P',), ('P',), ('B',), ('B',)], maxlen=5)\n"
     ]
    },
    {
     "name": "stderr",
     "output_type": "stream",
     "text": [
      "0: 608x800 1 Biodegradable, 249.8ms\n",
      "Speed: 0.0ms preprocess, 249.8ms inference, 0.0ms postprocess per image at shape (1, 3, 608, 800)\n",
      "\n"
     ]
    },
    {
     "name": "stdout",
     "output_type": "stream",
     "text": [
      "Labels: deque([('P',), ('P',), ('B',), ('B',), ('B',)], maxlen=5)\n"
     ]
    },
    {
     "name": "stderr",
     "output_type": "stream",
     "text": [
      "0: 608x800 1 Biodegradable, 268.7ms\n",
      "Speed: 0.0ms preprocess, 268.7ms inference, 0.0ms postprocess per image at shape (1, 3, 608, 800)\n",
      "\n"
     ]
    },
    {
     "name": "stdout",
     "output_type": "stream",
     "text": [
      "Labels: deque([('P',), ('B',), ('B',), ('B',), ('B',)], maxlen=5)\n"
     ]
    },
    {
     "name": "stderr",
     "output_type": "stream",
     "text": [
      "0: 608x800 1 Biodegradable, 233.4ms\n",
      "Speed: 16.9ms preprocess, 233.4ms inference, 0.0ms postprocess per image at shape (1, 3, 608, 800)\n",
      "\n"
     ]
    },
    {
     "name": "stdout",
     "output_type": "stream",
     "text": [
      "Labels: deque([('B',), ('B',), ('B',), ('B',), ('B',)], maxlen=5)\n"
     ]
    },
    {
     "name": "stderr",
     "output_type": "stream",
     "text": [
      "0: 608x800 1 Biodegradable, 250.0ms\n",
      "Speed: 0.0ms preprocess, 250.0ms inference, 0.0ms postprocess per image at shape (1, 3, 608, 800)\n",
      "\n"
     ]
    },
    {
     "name": "stdout",
     "output_type": "stream",
     "text": [
      "Labels: deque([('B',), ('B',), ('B',), ('B',), ('B',)], maxlen=5)\n"
     ]
    },
    {
     "name": "stderr",
     "output_type": "stream",
     "text": [
      "0: 608x800 1 Biodegradable, 236.5ms\n",
      "Speed: 0.0ms preprocess, 236.5ms inference, 12.4ms postprocess per image at shape (1, 3, 608, 800)\n",
      "\n"
     ]
    },
    {
     "name": "stdout",
     "output_type": "stream",
     "text": [
      "Response from ESP32: B CMD: Action for 'B' command\n",
      "Labels: deque([('B',), ('B',), ('B',), ('B',), ('B',)], maxlen=5)\n"
     ]
    },
    {
     "name": "stderr",
     "output_type": "stream",
     "text": [
      "0: 608x800 1 Biodegradable, 230.3ms\n",
      "Speed: 17.6ms preprocess, 230.3ms inference, 1.0ms postprocess per image at shape (1, 3, 608, 800)\n",
      "\n"
     ]
    },
    {
     "name": "stdout",
     "output_type": "stream",
     "text": [
      "Labels: deque([('B',), ('B',), ('B',), ('B',), ('B',)], maxlen=5)\n"
     ]
    },
    {
     "name": "stderr",
     "output_type": "stream",
     "text": [
      "0: 608x800 1 Biodegradable, 248.8ms\n",
      "Speed: 17.8ms preprocess, 248.8ms inference, 0.0ms postprocess per image at shape (1, 3, 608, 800)\n",
      "\n"
     ]
    },
    {
     "name": "stdout",
     "output_type": "stream",
     "text": [
      "Labels: deque([('B',), ('B',), ('B',), ('B',), ('B',)], maxlen=5)\n"
     ]
    },
    {
     "name": "stderr",
     "output_type": "stream",
     "text": [
      "0: 608x800 1 Biodegradable, 238.4ms\n",
      "Speed: 0.0ms preprocess, 238.4ms inference, 0.0ms postprocess per image at shape (1, 3, 608, 800)\n",
      "\n"
     ]
    },
    {
     "name": "stdout",
     "output_type": "stream",
     "text": [
      "Labels: deque([('B',), ('B',), ('B',), ('B',), ('B',)], maxlen=5)\n"
     ]
    },
    {
     "name": "stderr",
     "output_type": "stream",
     "text": [
      "0: 608x800 1 Biodegradable, 239.3ms\n",
      "Speed: 15.6ms preprocess, 239.3ms inference, 0.0ms postprocess per image at shape (1, 3, 608, 800)\n",
      "\n"
     ]
    },
    {
     "name": "stdout",
     "output_type": "stream",
     "text": [
      "Labels: deque([('B',), ('B',), ('B',), ('B',), ('B',)], maxlen=5)\n"
     ]
    },
    {
     "name": "stderr",
     "output_type": "stream",
     "text": [
      "0: 608x800 1 Biodegradable, 250.0ms\n",
      "Speed: 0.0ms preprocess, 250.0ms inference, 15.7ms postprocess per image at shape (1, 3, 608, 800)\n",
      "\n"
     ]
    },
    {
     "name": "stdout",
     "output_type": "stream",
     "text": [
      "Response from ESP32: B CMD: Action for 'B' command\n",
      "Labels: deque([('B',), ('B',), ('B',), ('B',), ('B',)], maxlen=5)\n"
     ]
    },
    {
     "name": "stderr",
     "output_type": "stream",
     "text": [
      "0: 608x800 1 Biodegradable, 247.0ms\n",
      "Speed: 0.0ms preprocess, 247.0ms inference, 0.0ms postprocess per image at shape (1, 3, 608, 800)\n",
      "\n"
     ]
    },
    {
     "name": "stdout",
     "output_type": "stream",
     "text": [
      "Labels: deque([('B',), ('B',), ('B',), ('B',), ('B',)], maxlen=5)\n"
     ]
    },
    {
     "name": "stderr",
     "output_type": "stream",
     "text": [
      "0: 608x800 1 Biodegradable, 263.4ms\n",
      "Speed: 0.0ms preprocess, 263.4ms inference, 0.0ms postprocess per image at shape (1, 3, 608, 800)\n",
      "\n"
     ]
    },
    {
     "name": "stdout",
     "output_type": "stream",
     "text": [
      "Labels: deque([('B',), ('B',), ('B',), ('B',), ('B',)], maxlen=5)\n"
     ]
    },
    {
     "name": "stderr",
     "output_type": "stream",
     "text": [
      "0: 608x800 1 Plastic, 249.9ms\n",
      "Speed: 0.0ms preprocess, 249.9ms inference, 0.0ms postprocess per image at shape (1, 3, 608, 800)\n",
      "\n"
     ]
    },
    {
     "name": "stdout",
     "output_type": "stream",
     "text": [
      "Labels: deque([('B',), ('B',), ('B',), ('B',), ('P',)], maxlen=5)\n"
     ]
    },
    {
     "name": "stderr",
     "output_type": "stream",
     "text": [
      "0: 608x800 1 Plastic, 255.9ms\n",
      "Speed: 7.2ms preprocess, 255.9ms inference, 1.2ms postprocess per image at shape (1, 3, 608, 800)\n",
      "\n"
     ]
    },
    {
     "name": "stdout",
     "output_type": "stream",
     "text": [
      "Labels: deque([('B',), ('B',), ('B',), ('P',), ('P',)], maxlen=5)\n"
     ]
    },
    {
     "name": "stderr",
     "output_type": "stream",
     "text": [
      "0: 608x800 1 Plastic, 249.8ms\n",
      "Speed: 16.5ms preprocess, 249.8ms inference, 0.0ms postprocess per image at shape (1, 3, 608, 800)\n",
      "\n"
     ]
    },
    {
     "name": "stdout",
     "output_type": "stream",
     "text": [
      "Labels: deque([('B',), ('B',), ('P',), ('P',), ('P',)], maxlen=5)\n"
     ]
    },
    {
     "name": "stderr",
     "output_type": "stream",
     "text": [
      "0: 608x800 1 Plastic, 267.5ms\n",
      "Speed: 15.8ms preprocess, 267.5ms inference, 0.0ms postprocess per image at shape (1, 3, 608, 800)\n",
      "\n"
     ]
    },
    {
     "name": "stdout",
     "output_type": "stream",
     "text": [
      "Labels: deque([('B',), ('P',), ('P',), ('P',), ('P',)], maxlen=5)\n"
     ]
    },
    {
     "name": "stderr",
     "output_type": "stream",
     "text": [
      "0: 608x800 1 Plastic, 249.7ms\n",
      "Speed: 0.0ms preprocess, 249.7ms inference, 0.0ms postprocess per image at shape (1, 3, 608, 800)\n",
      "\n"
     ]
    },
    {
     "name": "stdout",
     "output_type": "stream",
     "text": [
      "Labels: deque([('P',), ('P',), ('P',), ('P',), ('P',)], maxlen=5)\n"
     ]
    },
    {
     "name": "stderr",
     "output_type": "stream",
     "text": [
      "0: 608x800 1 Plastic, 251.2ms\n",
      "Speed: 0.0ms preprocess, 251.2ms inference, 1.0ms postprocess per image at shape (1, 3, 608, 800)\n",
      "\n"
     ]
    },
    {
     "name": "stdout",
     "output_type": "stream",
     "text": [
      "Labels: deque([('P',), ('P',), ('P',), ('P',), ('P',)], maxlen=5)\n"
     ]
    },
    {
     "name": "stderr",
     "output_type": "stream",
     "text": [
      "0: 608x800 1 Plastic, 238.4ms\n",
      "Speed: 6.0ms preprocess, 238.4ms inference, 0.0ms postprocess per image at shape (1, 3, 608, 800)\n",
      "\n"
     ]
    },
    {
     "name": "stdout",
     "output_type": "stream",
     "text": [
      "Response from ESP32: P CMD: Action for 'P' command\n",
      "Labels: deque([('P',), ('P',), ('P',), ('P',), ('P',)], maxlen=5)\n"
     ]
    },
    {
     "name": "stderr",
     "output_type": "stream",
     "text": [
      "0: 608x800 1 Plastic, 228.6ms\n",
      "Speed: 0.4ms preprocess, 228.6ms inference, 15.6ms postprocess per image at shape (1, 3, 608, 800)\n",
      "\n"
     ]
    },
    {
     "name": "stdout",
     "output_type": "stream",
     "text": [
      "Labels: deque([('P',), ('P',), ('P',), ('P',), ('P',)], maxlen=5)\n"
     ]
    },
    {
     "name": "stderr",
     "output_type": "stream",
     "text": [
      "0: 608x800 1 Biodegradable, 1 Plastic, 251.1ms\n",
      "Speed: 13.1ms preprocess, 251.1ms inference, 1.0ms postprocess per image at shape (1, 3, 608, 800)\n",
      "\n"
     ]
    },
    {
     "name": "stdout",
     "output_type": "stream",
     "text": [
      "Labels: deque([('P',), ('P',), ('P',), ('P',), ('P',)], maxlen=5)\n"
     ]
    },
    {
     "name": "stderr",
     "output_type": "stream",
     "text": [
      "0: 608x800 1 Biodegradable, 1 Plastic, 250.1ms\n",
      "Speed: 0.0ms preprocess, 250.1ms inference, 0.0ms postprocess per image at shape (1, 3, 608, 800)\n",
      "\n"
     ]
    },
    {
     "name": "stdout",
     "output_type": "stream",
     "text": [
      "Labels: deque([('P',), ('P',), ('P',), ('P',), ('P',)], maxlen=5)\n"
     ]
    },
    {
     "name": "stderr",
     "output_type": "stream",
     "text": [
      "0: 608x800 1 Biodegradable, 273.4ms\n",
      "Speed: 0.0ms preprocess, 273.4ms inference, 1.0ms postprocess per image at shape (1, 3, 608, 800)\n",
      "\n"
     ]
    },
    {
     "name": "stdout",
     "output_type": "stream",
     "text": [
      "Labels: deque([('P',), ('P',), ('P',), ('P',), ('B',)], maxlen=5)\n"
     ]
    },
    {
     "name": "stderr",
     "output_type": "stream",
     "text": [
      "0: 608x800 1 Biodegradable, 250.2ms\n",
      "Speed: 0.0ms preprocess, 250.2ms inference, 0.0ms postprocess per image at shape (1, 3, 608, 800)\n",
      "\n"
     ]
    },
    {
     "name": "stdout",
     "output_type": "stream",
     "text": [
      "Labels: deque([('P',), ('P',), ('P',), ('B',), ('B',)], maxlen=5)\n"
     ]
    },
    {
     "name": "stderr",
     "output_type": "stream",
     "text": [
      "0: 608x800 1 Biodegradable, 250.2ms\n",
      "Speed: 15.6ms preprocess, 250.2ms inference, 1.0ms postprocess per image at shape (1, 3, 608, 800)\n",
      "\n"
     ]
    },
    {
     "name": "stdout",
     "output_type": "stream",
     "text": [
      "Labels: deque([('P',), ('P',), ('B',), ('B',), ('B',)], maxlen=5)\n"
     ]
    },
    {
     "name": "stderr",
     "output_type": "stream",
     "text": [
      "0: 608x800 1 Biodegradable, 1 Plastic, 234.7ms\n",
      "Speed: 4.0ms preprocess, 234.7ms inference, 0.0ms postprocess per image at shape (1, 3, 608, 800)\n",
      "\n"
     ]
    },
    {
     "name": "stdout",
     "output_type": "stream",
     "text": [
      "Labels: deque([('P',), ('B',), ('B',), ('B',), ('B',)], maxlen=5)\n"
     ]
    },
    {
     "name": "stderr",
     "output_type": "stream",
     "text": [
      "0: 608x800 1 Biodegradable, 1 Plastic, 236.7ms\n",
      "Speed: 0.0ms preprocess, 236.7ms inference, 0.0ms postprocess per image at shape (1, 3, 608, 800)\n",
      "\n"
     ]
    },
    {
     "name": "stdout",
     "output_type": "stream",
     "text": [
      "Labels: deque([('B',), ('B',), ('B',), ('B',), ('P',)], maxlen=5)\n"
     ]
    },
    {
     "name": "stderr",
     "output_type": "stream",
     "text": [
      "0: 608x800 1 Plastic, 254.5ms\n",
      "Speed: 0.0ms preprocess, 254.5ms inference, 0.0ms postprocess per image at shape (1, 3, 608, 800)\n",
      "\n"
     ]
    },
    {
     "name": "stdout",
     "output_type": "stream",
     "text": [
      "Labels: deque([('B',), ('B',), ('B',), ('P',), ('P',)], maxlen=5)\n"
     ]
    },
    {
     "name": "stderr",
     "output_type": "stream",
     "text": [
      "0: 608x800 1 Plastic, 250.1ms\n",
      "Speed: 0.0ms preprocess, 250.1ms inference, 0.0ms postprocess per image at shape (1, 3, 608, 800)\n",
      "\n"
     ]
    },
    {
     "name": "stdout",
     "output_type": "stream",
     "text": [
      "Labels: deque([('B',), ('B',), ('P',), ('P',), ('P',)], maxlen=5)\n"
     ]
    },
    {
     "name": "stderr",
     "output_type": "stream",
     "text": [
      "0: 608x800 1 Biodegradable, 1 Plastic, 271.8ms\n",
      "Speed: 0.0ms preprocess, 271.8ms inference, 1.0ms postprocess per image at shape (1, 3, 608, 800)\n",
      "\n"
     ]
    },
    {
     "name": "stdout",
     "output_type": "stream",
     "text": [
      "Labels: deque([('B',), ('P',), ('P',), ('P',), ('B',)], maxlen=5)\n"
     ]
    },
    {
     "name": "stderr",
     "output_type": "stream",
     "text": [
      "0: 608x800 1 Plastic, 249.9ms\n",
      "Speed: 0.0ms preprocess, 249.9ms inference, 0.0ms postprocess per image at shape (1, 3, 608, 800)\n",
      "\n"
     ]
    },
    {
     "name": "stdout",
     "output_type": "stream",
     "text": [
      "Labels: deque([('P',), ('P',), ('P',), ('B',), ('P',)], maxlen=5)\n"
     ]
    },
    {
     "name": "stderr",
     "output_type": "stream",
     "text": [
      "0: 608x800 1 Plastic, 266.9ms\n",
      "Speed: 0.0ms preprocess, 266.9ms inference, 0.0ms postprocess per image at shape (1, 3, 608, 800)\n",
      "\n"
     ]
    },
    {
     "name": "stdout",
     "output_type": "stream",
     "text": [
      "Labels: deque([('P',), ('P',), ('B',), ('P',), ('P',)], maxlen=5)\n"
     ]
    },
    {
     "name": "stderr",
     "output_type": "stream",
     "text": [
      "0: 608x800 1 Plastic, 249.7ms\n",
      "Speed: 0.0ms preprocess, 249.7ms inference, 15.8ms postprocess per image at shape (1, 3, 608, 800)\n",
      "\n"
     ]
    },
    {
     "name": "stdout",
     "output_type": "stream",
     "text": [
      "Labels: deque([('P',), ('B',), ('P',), ('P',), ('P',)], maxlen=5)\n"
     ]
    },
    {
     "name": "stderr",
     "output_type": "stream",
     "text": [
      "0: 608x800 1 Plastic, 249.0ms\n",
      "Speed: 0.0ms preprocess, 249.0ms inference, 1.0ms postprocess per image at shape (1, 3, 608, 800)\n",
      "\n"
     ]
    },
    {
     "name": "stdout",
     "output_type": "stream",
     "text": [
      "Labels: deque([('B',), ('P',), ('P',), ('P',), ('P',)], maxlen=5)\n"
     ]
    },
    {
     "name": "stderr",
     "output_type": "stream",
     "text": [
      "0: 608x800 1 Plastic, 250.0ms\n",
      "Speed: 0.0ms preprocess, 250.0ms inference, 0.0ms postprocess per image at shape (1, 3, 608, 800)\n",
      "\n"
     ]
    },
    {
     "name": "stdout",
     "output_type": "stream",
     "text": [
      "Labels: deque([('P',), ('P',), ('P',), ('P',), ('P',)], maxlen=5)\n"
     ]
    },
    {
     "name": "stderr",
     "output_type": "stream",
     "text": [
      "0: 608x800 1 Plastic, 246.1ms\n",
      "Speed: 0.0ms preprocess, 246.1ms inference, 0.0ms postprocess per image at shape (1, 3, 608, 800)\n",
      "\n"
     ]
    },
    {
     "name": "stdout",
     "output_type": "stream",
     "text": [
      "Response from ESP32: P CMD: Action for 'P' command\n",
      "Labels: deque([('P',), ('P',), ('P',), ('P',), ('P',)], maxlen=5)\n"
     ]
    },
    {
     "name": "stderr",
     "output_type": "stream",
     "text": [
      "0: 608x800 1 Biodegradable, 1 Plastic, 250.8ms\n",
      "Speed: 15.9ms preprocess, 250.8ms inference, 0.0ms postprocess per image at shape (1, 3, 608, 800)\n",
      "\n"
     ]
    },
    {
     "name": "stdout",
     "output_type": "stream",
     "text": [
      "Labels: deque([('P',), ('P',), ('P',), ('P',), ('P',)], maxlen=5)\n"
     ]
    },
    {
     "name": "stderr",
     "output_type": "stream",
     "text": [
      "0: 608x800 1 Plastic, 250.1ms\n",
      "Speed: 0.0ms preprocess, 250.1ms inference, 0.0ms postprocess per image at shape (1, 3, 608, 800)\n",
      "\n"
     ]
    },
    {
     "name": "stdout",
     "output_type": "stream",
     "text": [
      "Labels: deque([('P',), ('P',), ('P',), ('P',), ('P',)], maxlen=5)\n"
     ]
    },
    {
     "name": "stderr",
     "output_type": "stream",
     "text": [
      "0: 608x800 1 Plastic, 250.0ms\n",
      "Speed: 0.0ms preprocess, 250.0ms inference, 0.0ms postprocess per image at shape (1, 3, 608, 800)\n",
      "\n"
     ]
    },
    {
     "name": "stdout",
     "output_type": "stream",
     "text": [
      "Labels: deque([('P',), ('P',), ('P',), ('P',), ('P',)], maxlen=5)\n"
     ]
    },
    {
     "name": "stderr",
     "output_type": "stream",
     "text": [
      "0: 608x800 1 Plastic, 249.9ms\n",
      "Speed: 16.9ms preprocess, 249.9ms inference, 0.0ms postprocess per image at shape (1, 3, 608, 800)\n",
      "\n"
     ]
    },
    {
     "name": "stdout",
     "output_type": "stream",
     "text": [
      "Labels: deque([('P',), ('P',), ('P',), ('P',), ('P',)], maxlen=5)\n"
     ]
    },
    {
     "name": "stderr",
     "output_type": "stream",
     "text": [
      "0: 608x800 1 Plastic, 248.9ms\n",
      "Speed: 18.0ms preprocess, 248.9ms inference, 0.0ms postprocess per image at shape (1, 3, 608, 800)\n",
      "\n"
     ]
    },
    {
     "name": "stdout",
     "output_type": "stream",
     "text": [
      "Response from ESP32: P CMD: Action for 'P' command\n",
      "Labels: deque([('P',), ('P',), ('P',), ('P',), ('P',)], maxlen=5)\n"
     ]
    },
    {
     "name": "stderr",
     "output_type": "stream",
     "text": [
      "0: 608x800 1 Plastic, 235.5ms\n",
      "Speed: 4.8ms preprocess, 235.5ms inference, 0.0ms postprocess per image at shape (1, 3, 608, 800)\n",
      "\n"
     ]
    },
    {
     "name": "stdout",
     "output_type": "stream",
     "text": [
      "Labels: deque([('P',), ('P',), ('P',), ('P',), ('P',)], maxlen=5)\n"
     ]
    },
    {
     "name": "stderr",
     "output_type": "stream",
     "text": [
      "0: 608x800 1 Plastic, 237.9ms\n",
      "Speed: 12.7ms preprocess, 237.9ms inference, 11.1ms postprocess per image at shape (1, 3, 608, 800)\n",
      "\n"
     ]
    },
    {
     "name": "stdout",
     "output_type": "stream",
     "text": [
      "Labels: deque([('P',), ('P',), ('P',), ('P',), ('P',)], maxlen=5)\n"
     ]
    },
    {
     "name": "stderr",
     "output_type": "stream",
     "text": [
      "0: 608x800 1 Plastic, 266.5ms\n",
      "Speed: 0.0ms preprocess, 266.5ms inference, 0.0ms postprocess per image at shape (1, 3, 608, 800)\n",
      "\n"
     ]
    },
    {
     "name": "stdout",
     "output_type": "stream",
     "text": [
      "Labels: deque([('P',), ('P',), ('P',), ('P',), ('P',)], maxlen=5)\n"
     ]
    },
    {
     "name": "stderr",
     "output_type": "stream",
     "text": [
      "0: 608x800 1 Plastic, 254.5ms\n",
      "Speed: 0.0ms preprocess, 254.5ms inference, 0.0ms postprocess per image at shape (1, 3, 608, 800)\n",
      "\n"
     ]
    },
    {
     "name": "stdout",
     "output_type": "stream",
     "text": [
      "Labels: deque([('P',), ('P',), ('P',), ('P',), ('P',)], maxlen=5)\n"
     ]
    },
    {
     "name": "stderr",
     "output_type": "stream",
     "text": [
      "0: 608x800 1 Plastic, 249.0ms\n",
      "Speed: 0.0ms preprocess, 249.0ms inference, 0.8ms postprocess per image at shape (1, 3, 608, 800)\n",
      "\n"
     ]
    },
    {
     "name": "stdout",
     "output_type": "stream",
     "text": [
      "Response from ESP32: P CMD: Action for 'P' command\n",
      "Labels: deque([('P',), ('P',), ('P',), ('P',), ('P',)], maxlen=5)\n"
     ]
    },
    {
     "name": "stderr",
     "output_type": "stream",
     "text": [
      "0: 608x800 1 Plastic, 254.8ms\n",
      "Speed: 0.0ms preprocess, 254.8ms inference, 0.0ms postprocess per image at shape (1, 3, 608, 800)\n",
      "\n"
     ]
    },
    {
     "name": "stdout",
     "output_type": "stream",
     "text": [
      "Labels: deque([('P',), ('P',), ('P',), ('P',), ('P',)], maxlen=5)\n"
     ]
    },
    {
     "name": "stderr",
     "output_type": "stream",
     "text": [
      "0: 608x800 1 Plastic, 234.0ms\n",
      "Speed: 12.1ms preprocess, 234.0ms inference, 0.0ms postprocess per image at shape (1, 3, 608, 800)\n",
      "\n"
     ]
    },
    {
     "name": "stdout",
     "output_type": "stream",
     "text": [
      "Labels: deque([('P',), ('P',), ('P',), ('P',), ('P',)], maxlen=5)\n"
     ]
    },
    {
     "name": "stderr",
     "output_type": "stream",
     "text": [
      "0: 608x800 1 Plastic, 252.0ms\n",
      "Speed: 0.0ms preprocess, 252.0ms inference, 0.0ms postprocess per image at shape (1, 3, 608, 800)\n",
      "\n"
     ]
    },
    {
     "name": "stdout",
     "output_type": "stream",
     "text": [
      "Labels: deque([('P',), ('P',), ('P',), ('P',), ('P',)], maxlen=5)\n"
     ]
    },
    {
     "name": "stderr",
     "output_type": "stream",
     "text": [
      "0: 608x800 1 Plastic, 275.1ms\n",
      "Speed: 0.0ms preprocess, 275.1ms inference, 3.6ms postprocess per image at shape (1, 3, 608, 800)\n",
      "\n"
     ]
    },
    {
     "name": "stdout",
     "output_type": "stream",
     "text": [
      "Labels: deque([('P',), ('P',), ('P',), ('P',), ('P',)], maxlen=5)\n"
     ]
    },
    {
     "name": "stderr",
     "output_type": "stream",
     "text": [
      "0: 608x800 1 Plastic, 279.3ms\n",
      "Speed: 7.0ms preprocess, 279.3ms inference, 0.0ms postprocess per image at shape (1, 3, 608, 800)\n",
      "\n"
     ]
    },
    {
     "name": "stdout",
     "output_type": "stream",
     "text": [
      "Response from ESP32: P CMD: Action for 'P' command\n",
      "Labels: deque([('P',), ('P',), ('P',), ('P',), ('P',)], maxlen=5)\n"
     ]
    },
    {
     "name": "stderr",
     "output_type": "stream",
     "text": [
      "0: 608x800 1 Plastic, 241.1ms\n",
      "Speed: 0.0ms preprocess, 241.1ms inference, 0.0ms postprocess per image at shape (1, 3, 608, 800)\n",
      "\n"
     ]
    },
    {
     "name": "stdout",
     "output_type": "stream",
     "text": [
      "Labels: deque([('P',), ('P',), ('P',), ('P',), ('P',)], maxlen=5)\n"
     ]
    },
    {
     "name": "stderr",
     "output_type": "stream",
     "text": [
      "0: 608x800 1 Plastic, 249.8ms\n",
      "Speed: 0.0ms preprocess, 249.8ms inference, 0.0ms postprocess per image at shape (1, 3, 608, 800)\n",
      "\n"
     ]
    },
    {
     "name": "stdout",
     "output_type": "stream",
     "text": [
      "Labels: deque([('P',), ('P',), ('P',), ('P',), ('P',)], maxlen=5)\n"
     ]
    },
    {
     "name": "stderr",
     "output_type": "stream",
     "text": [
      "0: 608x800 1 Plastic, 233.1ms\n",
      "Speed: 13.8ms preprocess, 233.1ms inference, 0.0ms postprocess per image at shape (1, 3, 608, 800)\n",
      "\n"
     ]
    },
    {
     "name": "stdout",
     "output_type": "stream",
     "text": [
      "Labels: deque([('P',), ('P',), ('P',), ('P',), ('P',)], maxlen=5)\n"
     ]
    },
    {
     "name": "stderr",
     "output_type": "stream",
     "text": [
      "0: 608x800 1 Plastic, 249.7ms\n",
      "Speed: 0.0ms preprocess, 249.7ms inference, 0.0ms postprocess per image at shape (1, 3, 608, 800)\n",
      "\n"
     ]
    },
    {
     "name": "stdout",
     "output_type": "stream",
     "text": [
      "Labels: deque([('P',), ('P',), ('P',), ('P',), ('P',)], maxlen=5)\n"
     ]
    },
    {
     "name": "stderr",
     "output_type": "stream",
     "text": [
      "0: 608x800 1 Plastic, 240.1ms\n",
      "Speed: 4.0ms preprocess, 240.1ms inference, 0.0ms postprocess per image at shape (1, 3, 608, 800)\n",
      "\n"
     ]
    },
    {
     "name": "stdout",
     "output_type": "stream",
     "text": [
      "Response from ESP32: P CMD: Action for 'P' command\n",
      "Labels: deque([('P',), ('P',), ('P',), ('P',), ('P',)], maxlen=5)\n"
     ]
    },
    {
     "name": "stderr",
     "output_type": "stream",
     "text": [
      "0: 608x800 1 Plastic, 259.8ms\n",
      "Speed: 0.0ms preprocess, 259.8ms inference, 0.0ms postprocess per image at shape (1, 3, 608, 800)\n",
      "\n"
     ]
    },
    {
     "name": "stdout",
     "output_type": "stream",
     "text": [
      "Labels: deque([('P',), ('P',), ('P',), ('P',), ('P',)], maxlen=5)\n"
     ]
    },
    {
     "name": "stderr",
     "output_type": "stream",
     "text": [
      "0: 608x800 1 Plastic, 295.1ms\n",
      "Speed: 0.0ms preprocess, 295.1ms inference, 0.0ms postprocess per image at shape (1, 3, 608, 800)\n",
      "\n"
     ]
    },
    {
     "name": "stdout",
     "output_type": "stream",
     "text": [
      "Labels: deque([('P',), ('P',), ('P',), ('P',), ('P',)], maxlen=5)\n"
     ]
    },
    {
     "name": "stderr",
     "output_type": "stream",
     "text": [
      "0: 608x800 1 Plastic, 269.4ms\n",
      "Speed: 0.0ms preprocess, 269.4ms inference, 0.0ms postprocess per image at shape (1, 3, 608, 800)\n",
      "\n"
     ]
    },
    {
     "name": "stdout",
     "output_type": "stream",
     "text": [
      "Labels: deque([('P',), ('P',), ('P',), ('P',), ('P',)], maxlen=5)\n"
     ]
    },
    {
     "name": "stderr",
     "output_type": "stream",
     "text": [
      "0: 608x800 1 Plastic, 252.5ms\n",
      "Speed: 11.2ms preprocess, 252.5ms inference, 0.0ms postprocess per image at shape (1, 3, 608, 800)\n",
      "\n"
     ]
    },
    {
     "name": "stdout",
     "output_type": "stream",
     "text": [
      "Labels: deque([('P',), ('P',), ('P',), ('P',), ('P',)], maxlen=5)\n"
     ]
    },
    {
     "name": "stderr",
     "output_type": "stream",
     "text": [
      "0: 608x800 1 Plastic, 263.8ms\n",
      "Speed: 0.0ms preprocess, 263.8ms inference, 0.0ms postprocess per image at shape (1, 3, 608, 800)\n",
      "\n"
     ]
    },
    {
     "name": "stdout",
     "output_type": "stream",
     "text": [
      "Response from ESP32: P CMD: Action for 'P' command\n",
      "Labels: deque([('P',), ('P',), ('P',), ('P',), ('P',)], maxlen=5)\n"
     ]
    },
    {
     "name": "stderr",
     "output_type": "stream",
     "text": [
      "0: 608x800 1 Plastic, 251.7ms\n",
      "Speed: 16.0ms preprocess, 251.7ms inference, 1.0ms postprocess per image at shape (1, 3, 608, 800)\n",
      "\n"
     ]
    },
    {
     "name": "stdout",
     "output_type": "stream",
     "text": [
      "Labels: deque([('P',), ('P',), ('P',), ('P',), ('P',)], maxlen=5)\n"
     ]
    },
    {
     "name": "stderr",
     "output_type": "stream",
     "text": [
      "0: 608x800 1 Plastic, 250.1ms\n",
      "Speed: 0.0ms preprocess, 250.1ms inference, 0.0ms postprocess per image at shape (1, 3, 608, 800)\n",
      "\n"
     ]
    },
    {
     "name": "stdout",
     "output_type": "stream",
     "text": [
      "Labels: deque([('P',), ('P',), ('P',), ('P',), ('P',)], maxlen=5)\n"
     ]
    },
    {
     "name": "stderr",
     "output_type": "stream",
     "text": [
      "0: 608x800 1 Plastic, 245.8ms\n",
      "Speed: 0.0ms preprocess, 245.8ms inference, 0.0ms postprocess per image at shape (1, 3, 608, 800)\n",
      "\n"
     ]
    },
    {
     "name": "stdout",
     "output_type": "stream",
     "text": [
      "Labels: deque([('P',), ('P',), ('P',), ('P',), ('P',)], maxlen=5)\n"
     ]
    },
    {
     "name": "stderr",
     "output_type": "stream",
     "text": [
      "0: 608x800 1 Plastic, 271.1ms\n",
      "Speed: 0.0ms preprocess, 271.1ms inference, 0.0ms postprocess per image at shape (1, 3, 608, 800)\n",
      "\n"
     ]
    },
    {
     "name": "stdout",
     "output_type": "stream",
     "text": [
      "Labels: deque([('P',), ('P',), ('P',), ('P',), ('P',)], maxlen=5)\n"
     ]
    },
    {
     "name": "stderr",
     "output_type": "stream",
     "text": [
      "0: 608x800 1 Plastic, 258.4ms\n",
      "Speed: 16.8ms preprocess, 258.4ms inference, 0.0ms postprocess per image at shape (1, 3, 608, 800)\n",
      "\n"
     ]
    },
    {
     "name": "stdout",
     "output_type": "stream",
     "text": [
      "Response from ESP32: P CMD: Action for 'P' command\n",
      "Labels: deque([('P',), ('P',), ('P',), ('P',), ('P',)], maxlen=5)\n"
     ]
    },
    {
     "name": "stderr",
     "output_type": "stream",
     "text": [
      "0: 608x800 1 Plastic, 247.8ms\n",
      "Speed: 0.0ms preprocess, 247.8ms inference, 15.7ms postprocess per image at shape (1, 3, 608, 800)\n",
      "\n"
     ]
    },
    {
     "name": "stdout",
     "output_type": "stream",
     "text": [
      "Labels: deque([('P',), ('P',), ('P',), ('P',), ('P',)], maxlen=5)\n"
     ]
    },
    {
     "name": "stderr",
     "output_type": "stream",
     "text": [
      "0: 608x800 1 Plastic, 249.5ms\n",
      "Speed: 0.0ms preprocess, 249.5ms inference, 0.0ms postprocess per image at shape (1, 3, 608, 800)\n",
      "\n"
     ]
    },
    {
     "name": "stdout",
     "output_type": "stream",
     "text": [
      "Labels: deque([('P',), ('P',), ('P',), ('P',), ('P',)], maxlen=5)\n"
     ]
    },
    {
     "name": "stderr",
     "output_type": "stream",
     "text": [
      "0: 608x800 1 Plastic, 246.3ms\n",
      "Speed: 3.5ms preprocess, 246.3ms inference, 0.0ms postprocess per image at shape (1, 3, 608, 800)\n",
      "\n"
     ]
    },
    {
     "name": "stdout",
     "output_type": "stream",
     "text": [
      "Labels: deque([('P',), ('P',), ('P',), ('P',), ('P',)], maxlen=5)\n"
     ]
    },
    {
     "name": "stderr",
     "output_type": "stream",
     "text": [
      "0: 608x800 1 Plastic, 250.0ms\n",
      "Speed: 12.6ms preprocess, 250.0ms inference, 0.0ms postprocess per image at shape (1, 3, 608, 800)\n",
      "\n"
     ]
    },
    {
     "name": "stdout",
     "output_type": "stream",
     "text": [
      "Labels: deque([('P',), ('P',), ('P',), ('P',), ('P',)], maxlen=5)\n"
     ]
    },
    {
     "name": "stderr",
     "output_type": "stream",
     "text": [
      "0: 608x800 1 Plastic, 252.2ms\n",
      "Speed: 0.0ms preprocess, 252.2ms inference, 0.0ms postprocess per image at shape (1, 3, 608, 800)\n",
      "\n"
     ]
    },
    {
     "name": "stdout",
     "output_type": "stream",
     "text": [
      "Response from ESP32: P CMD: Action for 'P' command\n",
      "Labels: deque([('P',), ('P',), ('P',), ('P',), ('P',)], maxlen=5)\n"
     ]
    },
    {
     "name": "stderr",
     "output_type": "stream",
     "text": [
      "0: 608x800 1 Plastic, 263.2ms\n",
      "Speed: 3.5ms preprocess, 263.2ms inference, 0.0ms postprocess per image at shape (1, 3, 608, 800)\n",
      "\n"
     ]
    },
    {
     "name": "stdout",
     "output_type": "stream",
     "text": [
      "Labels: deque([('P',), ('P',), ('P',), ('P',), ('P',)], maxlen=5)\n"
     ]
    },
    {
     "name": "stderr",
     "output_type": "stream",
     "text": [
      "0: 608x800 1 Plastic, 250.1ms\n",
      "Speed: 0.0ms preprocess, 250.1ms inference, 0.0ms postprocess per image at shape (1, 3, 608, 800)\n",
      "\n"
     ]
    },
    {
     "name": "stdout",
     "output_type": "stream",
     "text": [
      "Labels: deque([('P',), ('P',), ('P',), ('P',), ('P',)], maxlen=5)\n"
     ]
    },
    {
     "name": "stderr",
     "output_type": "stream",
     "text": [
      "0: 608x800 1 Plastic, 250.2ms\n",
      "Speed: 0.0ms preprocess, 250.2ms inference, 0.0ms postprocess per image at shape (1, 3, 608, 800)\n",
      "\n"
     ]
    },
    {
     "name": "stdout",
     "output_type": "stream",
     "text": [
      "Labels: deque([('P',), ('P',), ('P',), ('P',), ('P',)], maxlen=5)\n"
     ]
    },
    {
     "name": "stderr",
     "output_type": "stream",
     "text": [
      "0: 608x800 1 Plastic, 245.4ms\n",
      "Speed: 4.4ms preprocess, 245.4ms inference, 0.0ms postprocess per image at shape (1, 3, 608, 800)\n",
      "\n"
     ]
    },
    {
     "name": "stdout",
     "output_type": "stream",
     "text": [
      "Labels: deque([('P',), ('P',), ('P',), ('P',), ('P',)], maxlen=5)\n"
     ]
    },
    {
     "name": "stderr",
     "output_type": "stream",
     "text": [
      "0: 608x800 1 Plastic, 253.7ms\n",
      "Speed: 0.0ms preprocess, 253.7ms inference, 0.0ms postprocess per image at shape (1, 3, 608, 800)\n",
      "\n"
     ]
    },
    {
     "name": "stdout",
     "output_type": "stream",
     "text": [
      "Response from ESP32: P CMD: Action for 'P' command\n",
      "Labels: deque([('P',), ('P',), ('P',), ('P',), ('P',)], maxlen=5)\n"
     ]
    },
    {
     "name": "stderr",
     "output_type": "stream",
     "text": [
      "0: 608x800 1 Plastic, 245.7ms\n",
      "Speed: 1.8ms preprocess, 245.7ms inference, 0.0ms postprocess per image at shape (1, 3, 608, 800)\n",
      "\n"
     ]
    },
    {
     "name": "stdout",
     "output_type": "stream",
     "text": [
      "Labels: deque([('P',), ('P',), ('P',), ('P',), ('P',)], maxlen=5)\n"
     ]
    },
    {
     "name": "stderr",
     "output_type": "stream",
     "text": [
      "0: 608x800 1 Plastic, 266.8ms\n",
      "Speed: 0.0ms preprocess, 266.8ms inference, 0.0ms postprocess per image at shape (1, 3, 608, 800)\n",
      "\n"
     ]
    },
    {
     "name": "stdout",
     "output_type": "stream",
     "text": [
      "Labels: deque([('P',), ('P',), ('P',), ('P',), ('P',)], maxlen=5)\n"
     ]
    },
    {
     "name": "stderr",
     "output_type": "stream",
     "text": [
      "0: 608x800 1 Plastic, 271.1ms\n",
      "Speed: 0.0ms preprocess, 271.1ms inference, 0.0ms postprocess per image at shape (1, 3, 608, 800)\n",
      "\n"
     ]
    },
    {
     "name": "stdout",
     "output_type": "stream",
     "text": [
      "Labels: deque([('P',), ('P',), ('P',), ('P',), ('P',)], maxlen=5)\n"
     ]
    },
    {
     "name": "stderr",
     "output_type": "stream",
     "text": [
      "0: 608x800 1 Plastic, 253.9ms\n",
      "Speed: 0.0ms preprocess, 253.9ms inference, 0.0ms postprocess per image at shape (1, 3, 608, 800)\n",
      "\n"
     ]
    },
    {
     "name": "stdout",
     "output_type": "stream",
     "text": [
      "Labels: deque([('P',), ('P',), ('P',), ('P',), ('P',)], maxlen=5)\n"
     ]
    },
    {
     "name": "stderr",
     "output_type": "stream",
     "text": [
      "0: 608x800 1 Plastic, 253.1ms\n",
      "Speed: 0.0ms preprocess, 253.1ms inference, 0.0ms postprocess per image at shape (1, 3, 608, 800)\n",
      "\n"
     ]
    },
    {
     "name": "stdout",
     "output_type": "stream",
     "text": [
      "Response from ESP32: P CMD: Action for 'P' command\n",
      "Labels: deque([('P',), ('P',), ('P',), ('P',), ('P',)], maxlen=5)\n"
     ]
    },
    {
     "name": "stderr",
     "output_type": "stream",
     "text": [
      "0: 608x800 1 Plastic, 229.5ms\n",
      "Speed: 1.0ms preprocess, 229.5ms inference, 0.0ms postprocess per image at shape (1, 3, 608, 800)\n",
      "\n"
     ]
    },
    {
     "name": "stdout",
     "output_type": "stream",
     "text": [
      "Labels: deque([('P',), ('P',), ('P',), ('P',), ('P',)], maxlen=5)\n"
     ]
    },
    {
     "name": "stderr",
     "output_type": "stream",
     "text": [
      "0: 608x800 1 Plastic, 263.2ms\n",
      "Speed: 0.0ms preprocess, 263.2ms inference, 0.0ms postprocess per image at shape (1, 3, 608, 800)\n",
      "\n"
     ]
    },
    {
     "name": "stdout",
     "output_type": "stream",
     "text": [
      "Labels: deque([('P',), ('P',), ('P',), ('P',), ('P',)], maxlen=5)\n"
     ]
    },
    {
     "name": "stderr",
     "output_type": "stream",
     "text": [
      "0: 608x800 1 Plastic, 250.1ms\n",
      "Speed: 0.0ms preprocess, 250.1ms inference, 0.0ms postprocess per image at shape (1, 3, 608, 800)\n",
      "\n"
     ]
    },
    {
     "name": "stdout",
     "output_type": "stream",
     "text": [
      "Labels: deque([('P',), ('P',), ('P',), ('P',), ('P',)], maxlen=5)\n"
     ]
    },
    {
     "name": "stderr",
     "output_type": "stream",
     "text": [
      "0: 608x800 1 Plastic, 266.5ms\n",
      "Speed: 0.0ms preprocess, 266.5ms inference, 0.0ms postprocess per image at shape (1, 3, 608, 800)\n",
      "\n"
     ]
    },
    {
     "name": "stdout",
     "output_type": "stream",
     "text": [
      "Labels: deque([('P',), ('P',), ('P',), ('P',), ('P',)], maxlen=5)\n"
     ]
    },
    {
     "name": "stderr",
     "output_type": "stream",
     "text": [
      "0: 608x800 1 Plastic, 250.2ms\n",
      "Speed: 0.0ms preprocess, 250.2ms inference, 0.0ms postprocess per image at shape (1, 3, 608, 800)\n",
      "\n"
     ]
    },
    {
     "name": "stdout",
     "output_type": "stream",
     "text": [
      "Response from ESP32: P CMD: Action for 'P' command\n",
      "Labels: deque([('P',), ('P',), ('P',), ('P',), ('P',)], maxlen=5)\n"
     ]
    },
    {
     "name": "stderr",
     "output_type": "stream",
     "text": [
      "0: 608x800 1 Plastic, 236.1ms\n",
      "Speed: 15.3ms preprocess, 236.1ms inference, 0.0ms postprocess per image at shape (1, 3, 608, 800)\n",
      "\n"
     ]
    },
    {
     "name": "stdout",
     "output_type": "stream",
     "text": [
      "Labels: deque([('P',), ('P',), ('P',), ('P',), ('P',)], maxlen=5)\n"
     ]
    },
    {
     "name": "stderr",
     "output_type": "stream",
     "text": [
      "0: 608x800 1 Plastic, 250.5ms\n",
      "Speed: 0.0ms preprocess, 250.5ms inference, 0.0ms postprocess per image at shape (1, 3, 608, 800)\n",
      "\n"
     ]
    },
    {
     "name": "stdout",
     "output_type": "stream",
     "text": [
      "Labels: deque([('P',), ('P',), ('P',), ('P',), ('P',)], maxlen=5)\n"
     ]
    },
    {
     "name": "stderr",
     "output_type": "stream",
     "text": [
      "0: 608x800 1 Plastic, 253.3ms\n",
      "Speed: 0.0ms preprocess, 253.3ms inference, 0.0ms postprocess per image at shape (1, 3, 608, 800)\n",
      "\n"
     ]
    },
    {
     "name": "stdout",
     "output_type": "stream",
     "text": [
      "Labels: deque([('P',), ('P',), ('P',), ('P',), ('P',)], maxlen=5)\n"
     ]
    },
    {
     "name": "stderr",
     "output_type": "stream",
     "text": [
      "0: 608x800 1 Plastic, 249.9ms\n",
      "Speed: 0.0ms preprocess, 249.9ms inference, 0.0ms postprocess per image at shape (1, 3, 608, 800)\n",
      "\n"
     ]
    },
    {
     "name": "stdout",
     "output_type": "stream",
     "text": [
      "Labels: deque([('P',), ('P',), ('P',), ('P',), ('P',)], maxlen=5)\n"
     ]
    },
    {
     "name": "stderr",
     "output_type": "stream",
     "text": [
      "0: 608x800 1 Plastic, 249.8ms\n",
      "Speed: 16.7ms preprocess, 249.8ms inference, 0.0ms postprocess per image at shape (1, 3, 608, 800)\n",
      "\n"
     ]
    },
    {
     "name": "stdout",
     "output_type": "stream",
     "text": [
      "Response from ESP32: P CMD: Action for 'P' command\n",
      "Labels: deque([('P',), ('P',), ('P',), ('P',), ('P',)], maxlen=5)\n"
     ]
    },
    {
     "name": "stderr",
     "output_type": "stream",
     "text": [
      "0: 608x800 1 Plastic, 251.5ms\n",
      "Speed: 0.0ms preprocess, 251.5ms inference, 2.0ms postprocess per image at shape (1, 3, 608, 800)\n",
      "\n"
     ]
    },
    {
     "name": "stdout",
     "output_type": "stream",
     "text": [
      "Labels: deque([('P',), ('P',), ('P',), ('P',), ('P',)], maxlen=5)\n"
     ]
    },
    {
     "name": "stderr",
     "output_type": "stream",
     "text": [
      "0: 608x800 1 Plastic, 233.2ms\n",
      "Speed: 12.0ms preprocess, 233.2ms inference, 0.0ms postprocess per image at shape (1, 3, 608, 800)\n",
      "\n"
     ]
    },
    {
     "name": "stdout",
     "output_type": "stream",
     "text": [
      "Labels: deque([('P',), ('P',), ('P',), ('P',), ('P',)], maxlen=5)\n"
     ]
    },
    {
     "name": "stderr",
     "output_type": "stream",
     "text": [
      "0: 608x800 1 Plastic, 245.3ms\n",
      "Speed: 0.0ms preprocess, 245.3ms inference, 1.0ms postprocess per image at shape (1, 3, 608, 800)\n",
      "\n"
     ]
    },
    {
     "name": "stdout",
     "output_type": "stream",
     "text": [
      "Labels: deque([('P',), ('P',), ('P',), ('P',), ('P',)], maxlen=5)\n"
     ]
    },
    {
     "name": "stderr",
     "output_type": "stream",
     "text": [
      "0: 608x800 1 Plastic, 233.5ms\n",
      "Speed: 0.0ms preprocess, 233.5ms inference, 0.0ms postprocess per image at shape (1, 3, 608, 800)\n",
      "\n"
     ]
    },
    {
     "name": "stdout",
     "output_type": "stream",
     "text": [
      "Labels: deque([('P',), ('P',), ('P',), ('P',), ('P',)], maxlen=5)\n"
     ]
    },
    {
     "name": "stderr",
     "output_type": "stream",
     "text": [
      "0: 608x800 1 Plastic, 253.3ms\n",
      "Speed: 1.0ms preprocess, 253.3ms inference, 0.0ms postprocess per image at shape (1, 3, 608, 800)\n",
      "\n"
     ]
    },
    {
     "name": "stdout",
     "output_type": "stream",
     "text": [
      "Response from ESP32: P CMD: Action for 'P' command\n",
      "Labels: deque([('P',), ('P',), ('P',), ('P',), ('P',)], maxlen=5)\n"
     ]
    },
    {
     "name": "stderr",
     "output_type": "stream",
     "text": [
      "0: 608x800 1 Plastic, 249.9ms\n",
      "Speed: 0.0ms preprocess, 249.9ms inference, 2.0ms postprocess per image at shape (1, 3, 608, 800)\n",
      "\n"
     ]
    },
    {
     "name": "stdout",
     "output_type": "stream",
     "text": [
      "Labels: deque([('P',), ('P',), ('P',), ('P',), ('P',)], maxlen=5)\n"
     ]
    },
    {
     "name": "stderr",
     "output_type": "stream",
     "text": [
      "0: 608x800 1 Plastic, 283.3ms\n",
      "Speed: 0.0ms preprocess, 283.3ms inference, 0.0ms postprocess per image at shape (1, 3, 608, 800)\n",
      "\n"
     ]
    },
    {
     "name": "stdout",
     "output_type": "stream",
     "text": [
      "Labels: deque([('P',), ('P',), ('P',), ('P',), ('P',)], maxlen=5)\n"
     ]
    },
    {
     "name": "stderr",
     "output_type": "stream",
     "text": [
      "0: 608x800 1 Plastic, 249.7ms\n",
      "Speed: 0.0ms preprocess, 249.7ms inference, 0.0ms postprocess per image at shape (1, 3, 608, 800)\n",
      "\n"
     ]
    },
    {
     "name": "stdout",
     "output_type": "stream",
     "text": [
      "Labels: deque([('P',), ('P',), ('P',), ('P',), ('P',)], maxlen=5)\n"
     ]
    },
    {
     "name": "stderr",
     "output_type": "stream",
     "text": [
      "0: 608x800 1 Plastic, 231.2ms\n",
      "Speed: 18.8ms preprocess, 231.2ms inference, 0.0ms postprocess per image at shape (1, 3, 608, 800)\n",
      "\n"
     ]
    },
    {
     "name": "stdout",
     "output_type": "stream",
     "text": [
      "Labels: deque([('P',), ('P',), ('P',), ('P',), ('P',)], maxlen=5)\n"
     ]
    },
    {
     "name": "stderr",
     "output_type": "stream",
     "text": [
      "0: 608x800 1 Plastic, 253.3ms\n",
      "Speed: 0.0ms preprocess, 253.3ms inference, 0.0ms postprocess per image at shape (1, 3, 608, 800)\n",
      "\n"
     ]
    },
    {
     "name": "stdout",
     "output_type": "stream",
     "text": [
      "Response from ESP32: P CMD: Action for 'P' command\n",
      "Labels: deque([('P',), ('P',), ('P',), ('P',), ('P',)], maxlen=5)\n"
     ]
    },
    {
     "name": "stderr",
     "output_type": "stream",
     "text": [
      "0: 608x800 1 Plastic, 230.5ms\n",
      "Speed: 0.0ms preprocess, 230.5ms inference, 0.0ms postprocess per image at shape (1, 3, 608, 800)\n",
      "\n"
     ]
    },
    {
     "name": "stdout",
     "output_type": "stream",
     "text": [
      "Labels: deque([('P',), ('P',), ('P',), ('P',), ('P',)], maxlen=5)\n"
     ]
    },
    {
     "name": "stderr",
     "output_type": "stream",
     "text": [
      "0: 608x800 1 Plastic, 248.9ms\n",
      "Speed: 0.0ms preprocess, 248.9ms inference, 0.8ms postprocess per image at shape (1, 3, 608, 800)\n",
      "\n"
     ]
    },
    {
     "name": "stdout",
     "output_type": "stream",
     "text": [
      "Labels: deque([('P',), ('P',), ('P',), ('P',), ('P',)], maxlen=5)\n"
     ]
    },
    {
     "name": "stderr",
     "output_type": "stream",
     "text": [
      "0: 608x800 1 Plastic, 266.2ms\n",
      "Speed: 0.0ms preprocess, 266.2ms inference, 0.0ms postprocess per image at shape (1, 3, 608, 800)\n",
      "\n"
     ]
    },
    {
     "name": "stdout",
     "output_type": "stream",
     "text": [
      "Labels: deque([('P',), ('P',), ('P',), ('P',), ('P',)], maxlen=5)\n"
     ]
    },
    {
     "name": "stderr",
     "output_type": "stream",
     "text": [
      "0: 608x800 1 Plastic, 249.9ms\n",
      "Speed: 0.0ms preprocess, 249.9ms inference, 0.0ms postprocess per image at shape (1, 3, 608, 800)\n",
      "\n"
     ]
    },
    {
     "name": "stdout",
     "output_type": "stream",
     "text": [
      "Labels: deque([('P',), ('P',), ('P',), ('P',), ('P',)], maxlen=5)\n"
     ]
    },
    {
     "name": "stderr",
     "output_type": "stream",
     "text": [
      "0: 608x800 1 Plastic, 237.2ms\n",
      "Speed: 16.8ms preprocess, 237.2ms inference, 0.0ms postprocess per image at shape (1, 3, 608, 800)\n",
      "\n"
     ]
    },
    {
     "name": "stdout",
     "output_type": "stream",
     "text": [
      "Response from ESP32: P CMD: Action for 'P' command\n",
      "Labels: deque([('P',), ('P',), ('P',), ('P',), ('P',)], maxlen=5)\n"
     ]
    },
    {
     "name": "stderr",
     "output_type": "stream",
     "text": [
      "0: 608x800 1 Plastic, 245.3ms\n",
      "Speed: 0.0ms preprocess, 245.3ms inference, 0.0ms postprocess per image at shape (1, 3, 608, 800)\n",
      "\n"
     ]
    },
    {
     "name": "stdout",
     "output_type": "stream",
     "text": [
      "Labels: deque([('P',), ('P',), ('P',), ('P',), ('P',)], maxlen=5)\n"
     ]
    },
    {
     "name": "stderr",
     "output_type": "stream",
     "text": [
      "0: 608x800 1 Plastic, 253.2ms\n",
      "Speed: 0.0ms preprocess, 253.2ms inference, 0.0ms postprocess per image at shape (1, 3, 608, 800)\n",
      "\n"
     ]
    },
    {
     "name": "stdout",
     "output_type": "stream",
     "text": [
      "Labels: deque([('P',), ('P',), ('P',), ('P',), ('P',)], maxlen=5)\n"
     ]
    },
    {
     "name": "stderr",
     "output_type": "stream",
     "text": [
      "0: 608x800 1 Plastic, 266.3ms\n",
      "Speed: 0.0ms preprocess, 266.3ms inference, 0.0ms postprocess per image at shape (1, 3, 608, 800)\n",
      "\n"
     ]
    },
    {
     "name": "stdout",
     "output_type": "stream",
     "text": [
      "Labels: deque([('P',), ('P',), ('P',), ('P',), ('P',)], maxlen=5)\n"
     ]
    },
    {
     "name": "stderr",
     "output_type": "stream",
     "text": [
      "0: 608x800 1 Plastic, 235.5ms\n",
      "Speed: 12.6ms preprocess, 235.5ms inference, 0.0ms postprocess per image at shape (1, 3, 608, 800)\n",
      "\n"
     ]
    },
    {
     "name": "stdout",
     "output_type": "stream",
     "text": [
      "Labels: deque([('P',), ('P',), ('P',), ('P',), ('P',)], maxlen=5)\n"
     ]
    },
    {
     "name": "stderr",
     "output_type": "stream",
     "text": [
      "0: 608x800 1 Plastic, 274.0ms\n",
      "Speed: 15.6ms preprocess, 274.0ms inference, 0.0ms postprocess per image at shape (1, 3, 608, 800)\n",
      "\n"
     ]
    },
    {
     "name": "stdout",
     "output_type": "stream",
     "text": [
      "Response from ESP32: P CMD: Action for 'P' command\n",
      "Labels: deque([('P',), ('P',), ('P',), ('P',), ('P',)], maxlen=5)\n"
     ]
    },
    {
     "name": "stderr",
     "output_type": "stream",
     "text": [
      "0: 608x800 1 Plastic, 228.8ms\n",
      "Speed: 20.3ms preprocess, 228.8ms inference, 0.0ms postprocess per image at shape (1, 3, 608, 800)\n",
      "\n"
     ]
    },
    {
     "name": "stdout",
     "output_type": "stream",
     "text": [
      "Labels: deque([('P',), ('P',), ('P',), ('P',), ('P',)], maxlen=5)\n"
     ]
    },
    {
     "name": "stderr",
     "output_type": "stream",
     "text": [
      "0: 608x800 1 Plastic, 254.8ms\n",
      "Speed: 0.0ms preprocess, 254.8ms inference, 1.0ms postprocess per image at shape (1, 3, 608, 800)\n",
      "\n"
     ]
    },
    {
     "name": "stdout",
     "output_type": "stream",
     "text": [
      "Labels: deque([('P',), ('P',), ('P',), ('P',), ('P',)], maxlen=5)\n"
     ]
    },
    {
     "name": "stderr",
     "output_type": "stream",
     "text": [
      "0: 608x800 1 Plastic, 254.9ms\n",
      "Speed: 0.0ms preprocess, 254.9ms inference, 0.0ms postprocess per image at shape (1, 3, 608, 800)\n",
      "\n"
     ]
    },
    {
     "name": "stdout",
     "output_type": "stream",
     "text": [
      "Labels: deque([('P',), ('P',), ('P',), ('P',), ('P',)], maxlen=5)\n"
     ]
    },
    {
     "name": "stderr",
     "output_type": "stream",
     "text": [
      "0: 608x800 1 Plastic, 247.7ms\n",
      "Speed: 18.9ms preprocess, 247.7ms inference, 0.0ms postprocess per image at shape (1, 3, 608, 800)\n",
      "\n"
     ]
    },
    {
     "name": "stdout",
     "output_type": "stream",
     "text": [
      "Labels: deque([('P',), ('P',), ('P',), ('P',), ('P',)], maxlen=5)\n"
     ]
    },
    {
     "name": "stderr",
     "output_type": "stream",
     "text": [
      "0: 608x800 1 Plastic, 250.0ms\n",
      "Speed: 0.0ms preprocess, 250.0ms inference, 0.0ms postprocess per image at shape (1, 3, 608, 800)\n",
      "\n"
     ]
    },
    {
     "name": "stdout",
     "output_type": "stream",
     "text": [
      "Response from ESP32: P CMD: Action for 'P' command\n",
      "Labels: deque([('P',), ('P',), ('P',), ('P',), ('P',)], maxlen=5)\n"
     ]
    },
    {
     "name": "stderr",
     "output_type": "stream",
     "text": [
      "0: 608x800 1 Plastic, 246.6ms\n",
      "Speed: 5.1ms preprocess, 246.6ms inference, 0.0ms postprocess per image at shape (1, 3, 608, 800)\n",
      "\n"
     ]
    },
    {
     "name": "stdout",
     "output_type": "stream",
     "text": [
      "Labels: deque([('P',), ('P',), ('P',), ('P',), ('P',)], maxlen=5)\n"
     ]
    },
    {
     "name": "stderr",
     "output_type": "stream",
     "text": [
      "0: 608x800 1 Plastic, 250.1ms\n",
      "Speed: 0.0ms preprocess, 250.1ms inference, 0.0ms postprocess per image at shape (1, 3, 608, 800)\n",
      "\n"
     ]
    },
    {
     "name": "stdout",
     "output_type": "stream",
     "text": [
      "Labels: deque([('P',), ('P',), ('P',), ('P',), ('P',)], maxlen=5)\n"
     ]
    },
    {
     "name": "stderr",
     "output_type": "stream",
     "text": [
      "0: 608x800 1 Plastic, 249.2ms\n",
      "Speed: 16.6ms preprocess, 249.2ms inference, 1.0ms postprocess per image at shape (1, 3, 608, 800)\n",
      "\n"
     ]
    },
    {
     "name": "stdout",
     "output_type": "stream",
     "text": [
      "Labels: deque([('P',), ('P',), ('P',), ('P',), ('P',)], maxlen=5)\n"
     ]
    },
    {
     "name": "stderr",
     "output_type": "stream",
     "text": [
      "0: 608x800 1 Plastic, 255.4ms\n",
      "Speed: 0.0ms preprocess, 255.4ms inference, 0.0ms postprocess per image at shape (1, 3, 608, 800)\n",
      "\n"
     ]
    },
    {
     "name": "stdout",
     "output_type": "stream",
     "text": [
      "Labels: deque([('P',), ('P',), ('P',), ('P',), ('P',)], maxlen=5)\n"
     ]
    },
    {
     "name": "stderr",
     "output_type": "stream",
     "text": [
      "0: 608x800 1 Metal, 252.3ms\n",
      "Speed: 6.0ms preprocess, 252.3ms inference, 0.0ms postprocess per image at shape (1, 3, 608, 800)\n",
      "\n"
     ]
    },
    {
     "name": "stdout",
     "output_type": "stream",
     "text": [
      "Labels: deque([('P',), ('P',), ('P',), ('P',), ('m',)], maxlen=5)\n"
     ]
    },
    {
     "name": "stderr",
     "output_type": "stream",
     "text": [
      "0: 608x800 1 Metal, 229.6ms\n",
      "Speed: 0.0ms preprocess, 229.6ms inference, 1.0ms postprocess per image at shape (1, 3, 608, 800)\n",
      "\n"
     ]
    },
    {
     "name": "stdout",
     "output_type": "stream",
     "text": [
      "Labels: deque([('P',), ('P',), ('P',), ('m',), ('m',)], maxlen=5)\n"
     ]
    },
    {
     "name": "stderr",
     "output_type": "stream",
     "text": [
      "0: 608x800 1 Metal, 250.5ms\n",
      "Speed: 0.0ms preprocess, 250.5ms inference, 0.0ms postprocess per image at shape (1, 3, 608, 800)\n",
      "\n"
     ]
    },
    {
     "name": "stdout",
     "output_type": "stream",
     "text": [
      "Labels: deque([('P',), ('P',), ('m',), ('m',), ('m',)], maxlen=5)\n"
     ]
    },
    {
     "name": "stderr",
     "output_type": "stream",
     "text": [
      "0: 608x800 1 Metal, 263.7ms\n",
      "Speed: 0.0ms preprocess, 263.7ms inference, 0.0ms postprocess per image at shape (1, 3, 608, 800)\n",
      "\n"
     ]
    },
    {
     "name": "stdout",
     "output_type": "stream",
     "text": [
      "Labels: deque([('P',), ('m',), ('m',), ('m',), ('m',)], maxlen=5)\n"
     ]
    },
    {
     "name": "stderr",
     "output_type": "stream",
     "text": [
      "0: 608x800 1 Metal, 249.8ms\n",
      "Speed: 0.0ms preprocess, 249.8ms inference, 0.0ms postprocess per image at shape (1, 3, 608, 800)\n",
      "\n"
     ]
    },
    {
     "name": "stdout",
     "output_type": "stream",
     "text": [
      "Response from ESP32: M CMD: Action for 'M' command\n",
      "Labels: deque([('m',), ('m',), ('m',), ('m',), ('m',)], maxlen=5)\n"
     ]
    },
    {
     "name": "stderr",
     "output_type": "stream",
     "text": [
      "0: 608x800 1 Metal, 231.6ms\n",
      "Speed: 4.4ms preprocess, 231.6ms inference, 0.0ms postprocess per image at shape (1, 3, 608, 800)\n",
      "\n"
     ]
    },
    {
     "name": "stdout",
     "output_type": "stream",
     "text": [
      "Labels: deque([('m',), ('m',), ('m',), ('m',), ('m',)], maxlen=5)\n"
     ]
    },
    {
     "name": "stderr",
     "output_type": "stream",
     "text": [
      "0: 608x800 1 Metal, 249.7ms\n",
      "Speed: 12.3ms preprocess, 249.7ms inference, 0.0ms postprocess per image at shape (1, 3, 608, 800)\n",
      "\n"
     ]
    },
    {
     "name": "stdout",
     "output_type": "stream",
     "text": [
      "Labels: deque([('m',), ('m',), ('m',), ('m',), ('m',)], maxlen=5)\n"
     ]
    },
    {
     "name": "stderr",
     "output_type": "stream",
     "text": [
      "0: 608x800 1 Metal, 246.4ms\n",
      "Speed: 0.0ms preprocess, 246.4ms inference, 0.0ms postprocess per image at shape (1, 3, 608, 800)\n",
      "\n"
     ]
    },
    {
     "name": "stdout",
     "output_type": "stream",
     "text": [
      "Labels: deque([('m',), ('m',), ('m',), ('m',), ('m',)], maxlen=5)\n"
     ]
    },
    {
     "name": "stderr",
     "output_type": "stream",
     "text": [
      "0: 608x800 1 Metal, 249.9ms\n",
      "Speed: 0.0ms preprocess, 249.9ms inference, 0.0ms postprocess per image at shape (1, 3, 608, 800)\n",
      "\n"
     ]
    },
    {
     "name": "stdout",
     "output_type": "stream",
     "text": [
      "Labels: deque([('m',), ('m',), ('m',), ('m',), ('m',)], maxlen=5)\n"
     ]
    },
    {
     "name": "stderr",
     "output_type": "stream",
     "text": [
      "0: 608x800 1 Metal, 262.3ms\n",
      "Speed: 4.2ms preprocess, 262.3ms inference, 0.0ms postprocess per image at shape (1, 3, 608, 800)\n",
      "\n"
     ]
    },
    {
     "name": "stdout",
     "output_type": "stream",
     "text": [
      "Response from ESP32: M CMD: Action for 'M' command\n",
      "Labels: deque([('m',), ('m',), ('m',), ('m',), ('m',)], maxlen=5)\n"
     ]
    },
    {
     "name": "stderr",
     "output_type": "stream",
     "text": [
      "0: 608x800 1 Metal, 218.7ms\n",
      "Speed: 7.4ms preprocess, 218.7ms inference, 0.0ms postprocess per image at shape (1, 3, 608, 800)\n",
      "\n"
     ]
    },
    {
     "name": "stdout",
     "output_type": "stream",
     "text": [
      "Labels: deque([('m',), ('m',), ('m',), ('m',), ('m',)], maxlen=5)\n"
     ]
    },
    {
     "name": "stderr",
     "output_type": "stream",
     "text": [
      "0: 608x800 1 Metal, 243.7ms\n",
      "Speed: 5.0ms preprocess, 243.7ms inference, 0.0ms postprocess per image at shape (1, 3, 608, 800)\n",
      "\n"
     ]
    },
    {
     "name": "stdout",
     "output_type": "stream",
     "text": [
      "Labels: deque([('m',), ('m',), ('m',), ('m',), ('m',)], maxlen=5)\n"
     ]
    },
    {
     "name": "stderr",
     "output_type": "stream",
     "text": [
      "0: 608x800 1 Metal, 245.0ms\n",
      "Speed: 3.1ms preprocess, 245.0ms inference, 0.0ms postprocess per image at shape (1, 3, 608, 800)\n",
      "\n"
     ]
    },
    {
     "name": "stdout",
     "output_type": "stream",
     "text": [
      "Labels: deque([('m',), ('m',), ('m',), ('m',), ('m',)], maxlen=5)\n"
     ]
    },
    {
     "name": "stderr",
     "output_type": "stream",
     "text": [
      "0: 608x800 1 Metal, 249.9ms\n",
      "Speed: 16.2ms preprocess, 249.9ms inference, 0.0ms postprocess per image at shape (1, 3, 608, 800)\n",
      "\n"
     ]
    },
    {
     "name": "stdout",
     "output_type": "stream",
     "text": [
      "Labels: deque([('m',), ('m',), ('m',), ('m',), ('m',)], maxlen=5)\n"
     ]
    },
    {
     "name": "stderr",
     "output_type": "stream",
     "text": [
      "0: 608x800 1 Metal, 237.9ms\n",
      "Speed: 0.0ms preprocess, 237.9ms inference, 0.0ms postprocess per image at shape (1, 3, 608, 800)\n",
      "\n"
     ]
    },
    {
     "name": "stdout",
     "output_type": "stream",
     "text": [
      "Response from ESP32: M CMD: Action for 'M' command\n",
      "Labels: deque([('m',), ('m',), ('m',), ('m',), ('m',)], maxlen=5)\n"
     ]
    },
    {
     "name": "stderr",
     "output_type": "stream",
     "text": [
      "0: 608x800 1 Metal, 263.5ms\n",
      "Speed: 2.5ms preprocess, 263.5ms inference, 0.0ms postprocess per image at shape (1, 3, 608, 800)\n",
      "\n"
     ]
    },
    {
     "name": "stdout",
     "output_type": "stream",
     "text": [
      "Labels: deque([('m',), ('m',), ('m',), ('m',), ('m',)], maxlen=5)\n"
     ]
    },
    {
     "name": "stderr",
     "output_type": "stream",
     "text": [
      "0: 608x800 1 Metal, 230.2ms\n",
      "Speed: 16.2ms preprocess, 230.2ms inference, 0.0ms postprocess per image at shape (1, 3, 608, 800)\n",
      "\n"
     ]
    },
    {
     "name": "stdout",
     "output_type": "stream",
     "text": [
      "Labels: deque([('m',), ('m',), ('m',), ('m',), ('m',)], maxlen=5)\n"
     ]
    },
    {
     "name": "stderr",
     "output_type": "stream",
     "text": [
      "0: 608x800 1 Metal, 249.6ms\n",
      "Speed: 0.0ms preprocess, 249.6ms inference, 0.0ms postprocess per image at shape (1, 3, 608, 800)\n",
      "\n"
     ]
    },
    {
     "name": "stdout",
     "output_type": "stream",
     "text": [
      "Labels: deque([('m',), ('m',), ('m',), ('m',), ('m',)], maxlen=5)\n"
     ]
    },
    {
     "name": "stderr",
     "output_type": "stream",
     "text": [
      "0: 608x800 1 Metal, 244.9ms\n",
      "Speed: 0.0ms preprocess, 244.9ms inference, 0.0ms postprocess per image at shape (1, 3, 608, 800)\n",
      "\n"
     ]
    },
    {
     "name": "stdout",
     "output_type": "stream",
     "text": [
      "Labels: deque([('m',), ('m',), ('m',), ('m',), ('m',)], maxlen=5)\n"
     ]
    },
    {
     "name": "stderr",
     "output_type": "stream",
     "text": [
      "0: 608x800 1 Metal, 254.7ms\n",
      "Speed: 0.0ms preprocess, 254.7ms inference, 0.0ms postprocess per image at shape (1, 3, 608, 800)\n",
      "\n"
     ]
    },
    {
     "name": "stdout",
     "output_type": "stream",
     "text": [
      "Response from ESP32: M CMD: Action for 'M' command\n",
      "Labels: deque([('m',), ('m',), ('m',), ('m',), ('m',)], maxlen=5)\n"
     ]
    },
    {
     "name": "stderr",
     "output_type": "stream",
     "text": [
      "0: 608x800 1 Metal, 247.5ms\n",
      "Speed: 1.6ms preprocess, 247.5ms inference, 0.0ms postprocess per image at shape (1, 3, 608, 800)\n",
      "\n"
     ]
    },
    {
     "name": "stdout",
     "output_type": "stream",
     "text": [
      "Labels: deque([('m',), ('m',), ('m',), ('m',), ('m',)], maxlen=5)\n"
     ]
    },
    {
     "name": "stderr",
     "output_type": "stream",
     "text": [
      "0: 608x800 1 Metal, 262.3ms\n",
      "Speed: 2.3ms preprocess, 262.3ms inference, 0.0ms postprocess per image at shape (1, 3, 608, 800)\n",
      "\n"
     ]
    },
    {
     "name": "stdout",
     "output_type": "stream",
     "text": [
      "Labels: deque([('m',), ('m',), ('m',), ('m',), ('m',)], maxlen=5)\n"
     ]
    },
    {
     "name": "stderr",
     "output_type": "stream",
     "text": [
      "0: 608x800 1 Metal, 249.2ms\n",
      "Speed: 0.0ms preprocess, 249.2ms inference, 0.0ms postprocess per image at shape (1, 3, 608, 800)\n",
      "\n"
     ]
    },
    {
     "name": "stdout",
     "output_type": "stream",
     "text": [
      "Labels: deque([('m',), ('m',), ('m',), ('m',), ('m',)], maxlen=5)\n"
     ]
    },
    {
     "name": "stderr",
     "output_type": "stream",
     "text": [
      "0: 608x800 1 Metal, 236.4ms\n",
      "Speed: 4.0ms preprocess, 236.4ms inference, 0.0ms postprocess per image at shape (1, 3, 608, 800)\n",
      "\n"
     ]
    },
    {
     "name": "stdout",
     "output_type": "stream",
     "text": [
      "Labels: deque([('m',), ('m',), ('m',), ('m',), ('m',)], maxlen=5)\n"
     ]
    },
    {
     "name": "stderr",
     "output_type": "stream",
     "text": [
      "0: 608x800 1 Metal, 247.6ms\n",
      "Speed: 3.0ms preprocess, 247.6ms inference, 0.0ms postprocess per image at shape (1, 3, 608, 800)\n",
      "\n"
     ]
    },
    {
     "name": "stdout",
     "output_type": "stream",
     "text": [
      "Response from ESP32: M CMD: Action for 'M' command\n",
      "Labels: deque([('m',), ('m',), ('m',), ('m',), ('m',)], maxlen=5)\n"
     ]
    },
    {
     "name": "stderr",
     "output_type": "stream",
     "text": [
      "0: 608x800 1 Metal, 238.7ms\n",
      "Speed: 4.0ms preprocess, 238.7ms inference, 1.0ms postprocess per image at shape (1, 3, 608, 800)\n",
      "\n"
     ]
    },
    {
     "name": "stdout",
     "output_type": "stream",
     "text": [
      "Labels: deque([('m',), ('m',), ('m',), ('m',), ('m',)], maxlen=5)\n"
     ]
    },
    {
     "name": "stderr",
     "output_type": "stream",
     "text": [
      "0: 608x800 1 Metal, 233.2ms\n",
      "Speed: 16.7ms preprocess, 233.2ms inference, 0.0ms postprocess per image at shape (1, 3, 608, 800)\n",
      "\n"
     ]
    },
    {
     "name": "stdout",
     "output_type": "stream",
     "text": [
      "Labels: deque([('m',), ('m',), ('m',), ('m',), ('m',)], maxlen=5)\n"
     ]
    },
    {
     "name": "stderr",
     "output_type": "stream",
     "text": [
      "0: 608x800 1 Metal, 266.7ms\n",
      "Speed: 0.9ms preprocess, 266.7ms inference, 0.0ms postprocess per image at shape (1, 3, 608, 800)\n",
      "\n"
     ]
    },
    {
     "name": "stdout",
     "output_type": "stream",
     "text": [
      "Labels: deque([('m',), ('m',), ('m',), ('m',), ('m',)], maxlen=5)\n"
     ]
    },
    {
     "name": "stderr",
     "output_type": "stream",
     "text": [
      "0: 608x800 1 Metal, 257.3ms\n",
      "Speed: 0.0ms preprocess, 257.3ms inference, 0.0ms postprocess per image at shape (1, 3, 608, 800)\n",
      "\n"
     ]
    },
    {
     "name": "stdout",
     "output_type": "stream",
     "text": [
      "Labels: deque([('m',), ('m',), ('m',), ('m',), ('m',)], maxlen=5)\n"
     ]
    },
    {
     "name": "stderr",
     "output_type": "stream",
     "text": [
      "0: 608x800 1 Metal, 265.8ms\n",
      "Speed: 0.0ms preprocess, 265.8ms inference, 1.1ms postprocess per image at shape (1, 3, 608, 800)\n",
      "\n"
     ]
    },
    {
     "name": "stdout",
     "output_type": "stream",
     "text": [
      "Response from ESP32: M CMD: Action for 'M' command\n",
      "Labels: deque([('m',), ('m',), ('m',), ('m',), ('m',)], maxlen=5)\n"
     ]
    },
    {
     "name": "stderr",
     "output_type": "stream",
     "text": [
      "0: 608x800 1 Metal, 250.0ms\n",
      "Speed: 0.0ms preprocess, 250.0ms inference, 0.0ms postprocess per image at shape (1, 3, 608, 800)\n",
      "\n"
     ]
    },
    {
     "name": "stdout",
     "output_type": "stream",
     "text": [
      "Labels: deque([('m',), ('m',), ('m',), ('m',), ('m',)], maxlen=5)\n"
     ]
    },
    {
     "name": "stderr",
     "output_type": "stream",
     "text": [
      "0: 608x800 1 Metal, 254.9ms\n",
      "Speed: 0.0ms preprocess, 254.9ms inference, 0.0ms postprocess per image at shape (1, 3, 608, 800)\n",
      "\n"
     ]
    },
    {
     "name": "stdout",
     "output_type": "stream",
     "text": [
      "Labels: deque([('m',), ('m',), ('m',), ('m',), ('m',)], maxlen=5)\n"
     ]
    },
    {
     "name": "stderr",
     "output_type": "stream",
     "text": [
      "0: 608x800 1 Metal, 242.3ms\n",
      "Speed: 6.0ms preprocess, 242.3ms inference, 0.0ms postprocess per image at shape (1, 3, 608, 800)\n",
      "\n"
     ]
    },
    {
     "name": "stdout",
     "output_type": "stream",
     "text": [
      "Labels: deque([('m',), ('m',), ('m',), ('m',), ('m',)], maxlen=5)\n"
     ]
    },
    {
     "name": "stderr",
     "output_type": "stream",
     "text": [
      "0: 608x800 1 Metal, 284.0ms\n",
      "Speed: 0.0ms preprocess, 284.0ms inference, 0.0ms postprocess per image at shape (1, 3, 608, 800)\n",
      "\n"
     ]
    },
    {
     "name": "stdout",
     "output_type": "stream",
     "text": [
      "Labels: deque([('m',), ('m',), ('m',), ('m',), ('m',)], maxlen=5)\n"
     ]
    },
    {
     "name": "stderr",
     "output_type": "stream",
     "text": [
      "0: 608x800 1 Metal, 249.8ms\n",
      "Speed: 0.0ms preprocess, 249.8ms inference, 0.0ms postprocess per image at shape (1, 3, 608, 800)\n",
      "\n"
     ]
    },
    {
     "name": "stdout",
     "output_type": "stream",
     "text": [
      "Response from ESP32: M CMD: Action for 'M' command\n",
      "Labels: deque([('m',), ('m',), ('m',), ('m',), ('m',)], maxlen=5)\n"
     ]
    },
    {
     "name": "stderr",
     "output_type": "stream",
     "text": [
      "0: 608x800 1 Metal, 238.5ms\n",
      "Speed: 4.0ms preprocess, 238.5ms inference, 0.0ms postprocess per image at shape (1, 3, 608, 800)\n",
      "\n"
     ]
    },
    {
     "name": "stdout",
     "output_type": "stream",
     "text": [
      "Labels: deque([('m',), ('m',), ('m',), ('m',), ('m',)], maxlen=5)\n"
     ]
    },
    {
     "name": "stderr",
     "output_type": "stream",
     "text": [
      "0: 608x800 1 Metal, 250.4ms\n",
      "Speed: 0.0ms preprocess, 250.4ms inference, 0.0ms postprocess per image at shape (1, 3, 608, 800)\n",
      "\n"
     ]
    },
    {
     "name": "stdout",
     "output_type": "stream",
     "text": [
      "Labels: deque([('m',), ('m',), ('m',), ('m',), ('m',)], maxlen=5)\n"
     ]
    },
    {
     "name": "stderr",
     "output_type": "stream",
     "text": [
      "0: 608x800 1 Metal, 250.4ms\n",
      "Speed: 0.0ms preprocess, 250.4ms inference, 0.0ms postprocess per image at shape (1, 3, 608, 800)\n",
      "\n"
     ]
    },
    {
     "name": "stdout",
     "output_type": "stream",
     "text": [
      "Labels: deque([('m',), ('m',), ('m',), ('m',), ('m',)], maxlen=5)\n"
     ]
    },
    {
     "name": "stderr",
     "output_type": "stream",
     "text": [
      "0: 608x800 1 Metal, 231.7ms\n",
      "Speed: 5.0ms preprocess, 231.7ms inference, 0.0ms postprocess per image at shape (1, 3, 608, 800)\n",
      "\n"
     ]
    },
    {
     "name": "stdout",
     "output_type": "stream",
     "text": [
      "Labels: deque([('m',), ('m',), ('m',), ('m',), ('m',)], maxlen=5)\n"
     ]
    },
    {
     "name": "stderr",
     "output_type": "stream",
     "text": [
      "0: 608x800 1 Metal, 266.7ms\n",
      "Speed: 0.0ms preprocess, 266.7ms inference, 0.0ms postprocess per image at shape (1, 3, 608, 800)\n",
      "\n"
     ]
    },
    {
     "name": "stdout",
     "output_type": "stream",
     "text": [
      "Response from ESP32: M CMD: Action for 'M' command\n",
      "Labels: deque([('m',), ('m',), ('m',), ('m',), ('m',)], maxlen=5)\n"
     ]
    },
    {
     "name": "stderr",
     "output_type": "stream",
     "text": [
      "0: 608x800 1 Metal, 235.5ms\n",
      "Speed: 2.4ms preprocess, 235.5ms inference, 0.9ms postprocess per image at shape (1, 3, 608, 800)\n",
      "\n"
     ]
    },
    {
     "name": "stdout",
     "output_type": "stream",
     "text": [
      "Labels: deque([('m',), ('m',), ('m',), ('m',), ('m',)], maxlen=5)\n"
     ]
    },
    {
     "name": "stderr",
     "output_type": "stream",
     "text": [
      "0: 608x800 1 Metal, 240.6ms\n",
      "Speed: 3.2ms preprocess, 240.6ms inference, 0.0ms postprocess per image at shape (1, 3, 608, 800)\n",
      "\n"
     ]
    },
    {
     "name": "stdout",
     "output_type": "stream",
     "text": [
      "Labels: deque([('m',), ('m',), ('m',), ('m',), ('m',)], maxlen=5)\n"
     ]
    },
    {
     "name": "stderr",
     "output_type": "stream",
     "text": [
      "0: 608x800 1 Metal, 238.2ms\n",
      "Speed: 0.0ms preprocess, 238.2ms inference, 0.0ms postprocess per image at shape (1, 3, 608, 800)\n",
      "\n"
     ]
    },
    {
     "name": "stdout",
     "output_type": "stream",
     "text": [
      "Labels: deque([('m',), ('m',), ('m',), ('m',), ('m',)], maxlen=5)\n"
     ]
    },
    {
     "name": "stderr",
     "output_type": "stream",
     "text": [
      "0: 608x800 1 Metal, 239.0ms\n",
      "Speed: 0.0ms preprocess, 239.0ms inference, 1.0ms postprocess per image at shape (1, 3, 608, 800)\n",
      "\n"
     ]
    },
    {
     "name": "stdout",
     "output_type": "stream",
     "text": [
      "Labels: deque([('m',), ('m',), ('m',), ('m',), ('m',)], maxlen=5)\n"
     ]
    },
    {
     "name": "stderr",
     "output_type": "stream",
     "text": [
      "0: 608x800 1 Metal, 270.0ms\n",
      "Speed: 3.1ms preprocess, 270.0ms inference, 0.0ms postprocess per image at shape (1, 3, 608, 800)\n",
      "\n"
     ]
    },
    {
     "name": "stdout",
     "output_type": "stream",
     "text": [
      "Response from ESP32: M CMD: Action for 'M' command\n",
      "Labels: deque([('m',), ('m',), ('m',), ('m',), ('m',)], maxlen=5)\n"
     ]
    },
    {
     "name": "stderr",
     "output_type": "stream",
     "text": [
      "0: 608x800 1 Metal, 230.4ms\n",
      "Speed: 2.3ms preprocess, 230.4ms inference, 1.0ms postprocess per image at shape (1, 3, 608, 800)\n",
      "\n"
     ]
    },
    {
     "name": "stdout",
     "output_type": "stream",
     "text": [
      "Labels: deque([('m',), ('m',), ('m',), ('m',), ('m',)], maxlen=5)\n"
     ]
    },
    {
     "name": "stderr",
     "output_type": "stream",
     "text": [
      "0: 608x800 1 Metal, 247.1ms\n",
      "Speed: 0.0ms preprocess, 247.1ms inference, 0.0ms postprocess per image at shape (1, 3, 608, 800)\n",
      "\n"
     ]
    },
    {
     "name": "stdout",
     "output_type": "stream",
     "text": [
      "Labels: deque([('m',), ('m',), ('m',), ('m',), ('m',)], maxlen=5)\n"
     ]
    },
    {
     "name": "stderr",
     "output_type": "stream",
     "text": [
      "0: 608x800 1 Metal, 258.3ms\n",
      "Speed: 0.0ms preprocess, 258.3ms inference, 0.0ms postprocess per image at shape (1, 3, 608, 800)\n",
      "\n"
     ]
    },
    {
     "name": "stdout",
     "output_type": "stream",
     "text": [
      "Labels: deque([('m',), ('m',), ('m',), ('m',), ('m',)], maxlen=5)\n"
     ]
    },
    {
     "name": "stderr",
     "output_type": "stream",
     "text": [
      "0: 608x800 1 Metal, 221.9ms\n",
      "Speed: 0.0ms preprocess, 221.9ms inference, 10.4ms postprocess per image at shape (1, 3, 608, 800)\n",
      "\n"
     ]
    },
    {
     "name": "stdout",
     "output_type": "stream",
     "text": [
      "Labels: deque([('m',), ('m',), ('m',), ('m',), ('m',)], maxlen=5)\n"
     ]
    },
    {
     "name": "stderr",
     "output_type": "stream",
     "text": [
      "0: 608x800 1 Metal, 238.7ms\n",
      "Speed: 0.0ms preprocess, 238.7ms inference, 0.0ms postprocess per image at shape (1, 3, 608, 800)\n",
      "\n"
     ]
    },
    {
     "name": "stdout",
     "output_type": "stream",
     "text": [
      "Response from ESP32: M CMD: Action for 'M' command\n",
      "Labels: deque([('m',), ('m',), ('m',), ('m',), ('m',)], maxlen=5)\n"
     ]
    },
    {
     "name": "stderr",
     "output_type": "stream",
     "text": [
      "0: 608x800 1 Metal, 260.7ms\n",
      "Speed: 0.0ms preprocess, 260.7ms inference, 0.0ms postprocess per image at shape (1, 3, 608, 800)\n",
      "\n"
     ]
    },
    {
     "name": "stdout",
     "output_type": "stream",
     "text": [
      "Labels: deque([('m',), ('m',), ('m',), ('m',), ('m',)], maxlen=5)\n"
     ]
    },
    {
     "name": "stderr",
     "output_type": "stream",
     "text": [
      "0: 608x800 1 Metal, 254.6ms\n",
      "Speed: 0.0ms preprocess, 254.6ms inference, 0.0ms postprocess per image at shape (1, 3, 608, 800)\n",
      "\n"
     ]
    },
    {
     "name": "stdout",
     "output_type": "stream",
     "text": [
      "Labels: deque([('m',), ('m',), ('m',), ('m',), ('m',)], maxlen=5)\n"
     ]
    },
    {
     "name": "stderr",
     "output_type": "stream",
     "text": [
      "0: 608x800 1 Metal, 250.5ms\n",
      "Speed: 16.6ms preprocess, 250.5ms inference, 0.0ms postprocess per image at shape (1, 3, 608, 800)\n",
      "\n"
     ]
    },
    {
     "name": "stdout",
     "output_type": "stream",
     "text": [
      "Labels: deque([('m',), ('m',), ('m',), ('m',), ('m',)], maxlen=5)\n"
     ]
    },
    {
     "name": "stderr",
     "output_type": "stream",
     "text": [
      "0: 608x800 1 Metal, 250.3ms\n",
      "Speed: 0.0ms preprocess, 250.3ms inference, 0.0ms postprocess per image at shape (1, 3, 608, 800)\n",
      "\n"
     ]
    },
    {
     "name": "stdout",
     "output_type": "stream",
     "text": [
      "Labels: deque([('m',), ('m',), ('m',), ('m',), ('m',)], maxlen=5)\n"
     ]
    },
    {
     "name": "stderr",
     "output_type": "stream",
     "text": [
      "0: 608x800 1 Metal, 249.3ms\n",
      "Speed: 17.7ms preprocess, 249.3ms inference, 0.0ms postprocess per image at shape (1, 3, 608, 800)\n",
      "\n"
     ]
    },
    {
     "name": "stdout",
     "output_type": "stream",
     "text": [
      "Response from ESP32: M CMD: Action for 'M' command\n",
      "Labels: deque([('m',), ('m',), ('m',), ('m',), ('m',)], maxlen=5)\n"
     ]
    },
    {
     "name": "stderr",
     "output_type": "stream",
     "text": [
      "0: 608x800 1 Metal, 248.9ms\n",
      "Speed: 0.0ms preprocess, 248.9ms inference, 0.0ms postprocess per image at shape (1, 3, 608, 800)\n",
      "\n"
     ]
    },
    {
     "name": "stdout",
     "output_type": "stream",
     "text": [
      "Labels: deque([('m',), ('m',), ('m',), ('m',), ('m',)], maxlen=5)\n"
     ]
    },
    {
     "name": "stderr",
     "output_type": "stream",
     "text": [
      "0: 608x800 1 Metal, 283.2ms\n",
      "Speed: 0.0ms preprocess, 283.2ms inference, 0.0ms postprocess per image at shape (1, 3, 608, 800)\n",
      "\n"
     ]
    },
    {
     "name": "stdout",
     "output_type": "stream",
     "text": [
      "Labels: deque([('m',), ('m',), ('m',), ('m',), ('m',)], maxlen=5)\n"
     ]
    },
    {
     "name": "stderr",
     "output_type": "stream",
     "text": [
      "0: 608x800 1 Metal, 240.8ms\n",
      "Speed: 0.0ms preprocess, 240.8ms inference, 1.0ms postprocess per image at shape (1, 3, 608, 800)\n",
      "\n"
     ]
    },
    {
     "name": "stdout",
     "output_type": "stream",
     "text": [
      "Labels: deque([('m',), ('m',), ('m',), ('m',), ('m',)], maxlen=5)\n"
     ]
    },
    {
     "name": "stderr",
     "output_type": "stream",
     "text": [
      "0: 608x800 1 Metal, 254.5ms\n",
      "Speed: 0.0ms preprocess, 254.5ms inference, 0.0ms postprocess per image at shape (1, 3, 608, 800)\n",
      "\n"
     ]
    },
    {
     "name": "stdout",
     "output_type": "stream",
     "text": [
      "Labels: deque([('m',), ('m',), ('m',), ('m',), ('m',)], maxlen=5)\n"
     ]
    },
    {
     "name": "stderr",
     "output_type": "stream",
     "text": [
      "0: 608x800 1 Metal, 250.0ms\n",
      "Speed: 16.5ms preprocess, 250.0ms inference, 0.0ms postprocess per image at shape (1, 3, 608, 800)\n",
      "\n"
     ]
    },
    {
     "name": "stdout",
     "output_type": "stream",
     "text": [
      "Response from ESP32: M CMD: Action for 'M' command\n",
      "Labels: deque([('m',), ('m',), ('m',), ('m',), ('m',)], maxlen=5)\n"
     ]
    },
    {
     "name": "stderr",
     "output_type": "stream",
     "text": [
      "0: 608x800 1 Metal, 246.0ms\n",
      "Speed: 0.0ms preprocess, 246.0ms inference, 0.0ms postprocess per image at shape (1, 3, 608, 800)\n",
      "\n"
     ]
    },
    {
     "name": "stdout",
     "output_type": "stream",
     "text": [
      "Labels: deque([('m',), ('m',), ('m',), ('m',), ('m',)], maxlen=5)\n"
     ]
    },
    {
     "name": "stderr",
     "output_type": "stream",
     "text": [
      "0: 608x800 1 Metal, 283.3ms\n",
      "Speed: 0.0ms preprocess, 283.3ms inference, 0.0ms postprocess per image at shape (1, 3, 608, 800)\n",
      "\n"
     ]
    },
    {
     "name": "stdout",
     "output_type": "stream",
     "text": [
      "Labels: deque([('m',), ('m',), ('m',), ('m',), ('m',)], maxlen=5)\n"
     ]
    },
    {
     "name": "stderr",
     "output_type": "stream",
     "text": [
      "0: 608x800 1 Metal, 235.6ms\n",
      "Speed: 18.7ms preprocess, 235.6ms inference, 0.0ms postprocess per image at shape (1, 3, 608, 800)\n",
      "\n"
     ]
    },
    {
     "name": "stdout",
     "output_type": "stream",
     "text": [
      "Labels: deque([('m',), ('m',), ('m',), ('m',), ('m',)], maxlen=5)\n"
     ]
    },
    {
     "name": "stderr",
     "output_type": "stream",
     "text": [
      "0: 608x800 1 Metal, 241.3ms\n",
      "Speed: 13.8ms preprocess, 241.3ms inference, 0.0ms postprocess per image at shape (1, 3, 608, 800)\n",
      "\n"
     ]
    },
    {
     "name": "stdout",
     "output_type": "stream",
     "text": [
      "Labels: deque([('m',), ('m',), ('m',), ('m',), ('m',)], maxlen=5)\n"
     ]
    },
    {
     "name": "stderr",
     "output_type": "stream",
     "text": [
      "0: 608x800 1 Metal, 251.4ms\n",
      "Speed: 11.6ms preprocess, 251.4ms inference, 0.0ms postprocess per image at shape (1, 3, 608, 800)\n",
      "\n"
     ]
    },
    {
     "name": "stdout",
     "output_type": "stream",
     "text": [
      "Response from ESP32: M CMD: Action for 'M' command\n",
      "Labels: deque([('m',), ('m',), ('m',), ('m',), ('m',)], maxlen=5)\n"
     ]
    },
    {
     "name": "stderr",
     "output_type": "stream",
     "text": [
      "0: 608x800 1 Metal, 241.9ms\n",
      "Speed: 4.0ms preprocess, 241.9ms inference, 0.0ms postprocess per image at shape (1, 3, 608, 800)\n",
      "\n"
     ]
    },
    {
     "name": "stdout",
     "output_type": "stream",
     "text": [
      "Labels: deque([('m',), ('m',), ('m',), ('m',), ('m',)], maxlen=5)\n"
     ]
    },
    {
     "name": "stderr",
     "output_type": "stream",
     "text": [
      "0: 608x800 1 Metal, 242.1ms\n",
      "Speed: 0.0ms preprocess, 242.1ms inference, 15.6ms postprocess per image at shape (1, 3, 608, 800)\n",
      "\n"
     ]
    },
    {
     "name": "stdout",
     "output_type": "stream",
     "text": [
      "Labels: deque([('m',), ('m',), ('m',), ('m',), ('m',)], maxlen=5)\n"
     ]
    },
    {
     "name": "stderr",
     "output_type": "stream",
     "text": [
      "0: 608x800 1 Metal, 282.0ms\n",
      "Speed: 0.0ms preprocess, 282.0ms inference, 0.0ms postprocess per image at shape (1, 3, 608, 800)\n",
      "\n"
     ]
    },
    {
     "name": "stdout",
     "output_type": "stream",
     "text": [
      "Labels: deque([('m',), ('m',), ('m',), ('m',), ('m',)], maxlen=5)\n"
     ]
    },
    {
     "name": "stderr",
     "output_type": "stream",
     "text": [
      "0: 608x800 1 Metal, 236.5ms\n",
      "Speed: 0.0ms preprocess, 236.5ms inference, 15.6ms postprocess per image at shape (1, 3, 608, 800)\n",
      "\n"
     ]
    },
    {
     "name": "stdout",
     "output_type": "stream",
     "text": [
      "Labels: deque([('m',), ('m',), ('m',), ('m',), ('m',)], maxlen=5)\n"
     ]
    },
    {
     "name": "stderr",
     "output_type": "stream",
     "text": [
      "0: 608x800 1 Metal, 233.4ms\n",
      "Speed: 0.0ms preprocess, 233.4ms inference, 15.6ms postprocess per image at shape (1, 3, 608, 800)\n",
      "\n"
     ]
    },
    {
     "name": "stdout",
     "output_type": "stream",
     "text": [
      "Response from ESP32: M CMD: Action for 'M' command\n",
      "Labels: deque([('m',), ('m',), ('m',), ('m',), ('m',)], maxlen=5)\n"
     ]
    },
    {
     "name": "stderr",
     "output_type": "stream",
     "text": [
      "0: 608x800 1 Metal, 256.1ms\n",
      "Speed: 0.0ms preprocess, 256.1ms inference, 0.0ms postprocess per image at shape (1, 3, 608, 800)\n",
      "\n"
     ]
    },
    {
     "name": "stdout",
     "output_type": "stream",
     "text": [
      "Labels: deque([('m',), ('m',), ('m',), ('m',), ('m',)], maxlen=5)\n"
     ]
    },
    {
     "name": "stderr",
     "output_type": "stream",
     "text": [
      "0: 608x800 1 Metal, 237.0ms\n",
      "Speed: 0.0ms preprocess, 237.0ms inference, 0.0ms postprocess per image at shape (1, 3, 608, 800)\n",
      "\n"
     ]
    },
    {
     "name": "stdout",
     "output_type": "stream",
     "text": [
      "Labels: deque([('m',), ('m',), ('m',), ('m',), ('m',)], maxlen=5)\n"
     ]
    },
    {
     "name": "stderr",
     "output_type": "stream",
     "text": [
      "0: 608x800 1 Metal, 268.1ms\n",
      "Speed: 0.0ms preprocess, 268.1ms inference, 0.0ms postprocess per image at shape (1, 3, 608, 800)\n",
      "\n"
     ]
    },
    {
     "name": "stdout",
     "output_type": "stream",
     "text": [
      "Labels: deque([('m',), ('m',), ('m',), ('m',), ('m',)], maxlen=5)\n"
     ]
    },
    {
     "name": "stderr",
     "output_type": "stream",
     "text": [
      "0: 608x800 1 Metal, 236.9ms\n",
      "Speed: 15.4ms preprocess, 236.9ms inference, 0.0ms postprocess per image at shape (1, 3, 608, 800)\n",
      "\n"
     ]
    },
    {
     "name": "stdout",
     "output_type": "stream",
     "text": [
      "Labels: deque([('m',), ('m',), ('m',), ('m',), ('m',)], maxlen=5)\n"
     ]
    },
    {
     "name": "stderr",
     "output_type": "stream",
     "text": [
      "0: 608x800 1 Metal, 224.4ms\n",
      "Speed: 10.9ms preprocess, 224.4ms inference, 0.0ms postprocess per image at shape (1, 3, 608, 800)\n",
      "\n"
     ]
    },
    {
     "name": "stdout",
     "output_type": "stream",
     "text": [
      "Response from ESP32: M CMD: Action for 'M' command\n",
      "Labels: deque([('m',), ('m',), ('m',), ('m',), ('m',)], maxlen=5)\n"
     ]
    },
    {
     "name": "stderr",
     "output_type": "stream",
     "text": [
      "0: 608x800 1 Metal, 231.2ms\n",
      "Speed: 2.3ms preprocess, 231.2ms inference, 15.6ms postprocess per image at shape (1, 3, 608, 800)\n",
      "\n"
     ]
    },
    {
     "name": "stdout",
     "output_type": "stream",
     "text": [
      "Labels: deque([('m',), ('m',), ('m',), ('m',), ('m',)], maxlen=5)\n"
     ]
    },
    {
     "name": "stderr",
     "output_type": "stream",
     "text": [
      "0: 608x800 1 Metal, 243.9ms\n",
      "Speed: 0.0ms preprocess, 243.9ms inference, 0.0ms postprocess per image at shape (1, 3, 608, 800)\n",
      "\n"
     ]
    },
    {
     "name": "stdout",
     "output_type": "stream",
     "text": [
      "Labels: deque([('m',), ('m',), ('m',), ('m',), ('m',)], maxlen=5)\n"
     ]
    },
    {
     "name": "stderr",
     "output_type": "stream",
     "text": [
      "0: 608x800 1 Metal, 234.1ms\n",
      "Speed: 15.6ms preprocess, 234.1ms inference, 0.0ms postprocess per image at shape (1, 3, 608, 800)\n",
      "\n"
     ]
    },
    {
     "name": "stdout",
     "output_type": "stream",
     "text": [
      "Labels: deque([('m',), ('m',), ('m',), ('m',), ('m',)], maxlen=5)\n"
     ]
    },
    {
     "name": "stderr",
     "output_type": "stream",
     "text": [
      "0: 608x800 1 Metal, 264.2ms\n",
      "Speed: 15.6ms preprocess, 264.2ms inference, 0.0ms postprocess per image at shape (1, 3, 608, 800)\n",
      "\n"
     ]
    },
    {
     "name": "stdout",
     "output_type": "stream",
     "text": [
      "Labels: deque([('m',), ('m',), ('m',), ('m',), ('m',)], maxlen=5)\n"
     ]
    },
    {
     "name": "stderr",
     "output_type": "stream",
     "text": [
      "0: 608x800 1 Metal, 238.2ms\n",
      "Speed: 16.7ms preprocess, 238.2ms inference, 0.0ms postprocess per image at shape (1, 3, 608, 800)\n",
      "\n"
     ]
    },
    {
     "name": "stdout",
     "output_type": "stream",
     "text": [
      "Response from ESP32: M CMD: Action for 'M' command\n",
      "Labels: deque([('m',), ('m',), ('m',), ('m',), ('m',)], maxlen=5)\n"
     ]
    },
    {
     "name": "stderr",
     "output_type": "stream",
     "text": [
      "0: 608x800 1 Metal, 245.0ms\n",
      "Speed: 1.0ms preprocess, 245.0ms inference, 0.0ms postprocess per image at shape (1, 3, 608, 800)\n",
      "\n"
     ]
    },
    {
     "name": "stdout",
     "output_type": "stream",
     "text": [
      "Labels: deque([('m',), ('m',), ('m',), ('m',), ('m',)], maxlen=5)\n"
     ]
    },
    {
     "name": "stderr",
     "output_type": "stream",
     "text": [
      "0: 608x800 1 Metal, 249.9ms\n",
      "Speed: 0.0ms preprocess, 249.9ms inference, 0.0ms postprocess per image at shape (1, 3, 608, 800)\n",
      "\n"
     ]
    },
    {
     "name": "stdout",
     "output_type": "stream",
     "text": [
      "Labels: deque([('m',), ('m',), ('m',), ('m',), ('m',)], maxlen=5)\n"
     ]
    },
    {
     "name": "stderr",
     "output_type": "stream",
     "text": [
      "0: 608x800 1 Metal, 253.0ms\n",
      "Speed: 0.0ms preprocess, 253.0ms inference, 0.0ms postprocess per image at shape (1, 3, 608, 800)\n",
      "\n"
     ]
    },
    {
     "name": "stdout",
     "output_type": "stream",
     "text": [
      "Labels: deque([('m',), ('m',), ('m',), ('m',), ('m',)], maxlen=5)\n"
     ]
    },
    {
     "name": "stderr",
     "output_type": "stream",
     "text": [
      "0: 608x800 1 Metal, 240.3ms\n",
      "Speed: 0.0ms preprocess, 240.3ms inference, 0.0ms postprocess per image at shape (1, 3, 608, 800)\n",
      "\n"
     ]
    },
    {
     "name": "stdout",
     "output_type": "stream",
     "text": [
      "Labels: deque([('m',), ('m',), ('m',), ('m',), ('m',)], maxlen=5)\n"
     ]
    },
    {
     "name": "stderr",
     "output_type": "stream",
     "text": [
      "0: 608x800 1 Metal, 268.2ms\n",
      "Speed: 3.0ms preprocess, 268.2ms inference, 0.0ms postprocess per image at shape (1, 3, 608, 800)\n",
      "\n"
     ]
    },
    {
     "name": "stdout",
     "output_type": "stream",
     "text": [
      "Response from ESP32: M CMD: Action for 'M' command\n",
      "Labels: deque([('m',), ('m',), ('m',), ('m',), ('m',)], maxlen=5)\n"
     ]
    },
    {
     "name": "stderr",
     "output_type": "stream",
     "text": [
      "0: 608x800 1 Metal, 243.6ms\n",
      "Speed: 15.7ms preprocess, 243.6ms inference, 0.0ms postprocess per image at shape (1, 3, 608, 800)\n",
      "\n"
     ]
    },
    {
     "name": "stdout",
     "output_type": "stream",
     "text": [
      "Labels: deque([('m',), ('m',), ('m',), ('m',), ('m',)], maxlen=5)\n"
     ]
    },
    {
     "name": "stderr",
     "output_type": "stream",
     "text": [
      "0: 608x800 1 Metal, 249.8ms\n",
      "Speed: 0.0ms preprocess, 249.8ms inference, 0.0ms postprocess per image at shape (1, 3, 608, 800)\n",
      "\n"
     ]
    },
    {
     "name": "stdout",
     "output_type": "stream",
     "text": [
      "Labels: deque([('m',), ('m',), ('m',), ('m',), ('m',)], maxlen=5)\n"
     ]
    },
    {
     "name": "stderr",
     "output_type": "stream",
     "text": [
      "0: 608x800 1 Metal, 239.8ms\n",
      "Speed: 15.6ms preprocess, 239.8ms inference, 0.0ms postprocess per image at shape (1, 3, 608, 800)\n",
      "\n"
     ]
    },
    {
     "name": "stdout",
     "output_type": "stream",
     "text": [
      "Labels: deque([('m',), ('m',), ('m',), ('m',), ('m',)], maxlen=5)\n"
     ]
    },
    {
     "name": "stderr",
     "output_type": "stream",
     "text": [
      "0: 608x800 1 Metal, 248.4ms\n",
      "Speed: 0.0ms preprocess, 248.4ms inference, 0.0ms postprocess per image at shape (1, 3, 608, 800)\n",
      "\n"
     ]
    },
    {
     "name": "stdout",
     "output_type": "stream",
     "text": [
      "Labels: deque([('m',), ('m',), ('m',), ('m',), ('m',)], maxlen=5)\n"
     ]
    },
    {
     "name": "stderr",
     "output_type": "stream",
     "text": [
      "0: 608x800 1 Metal, 250.6ms\n",
      "Speed: 5.1ms preprocess, 250.6ms inference, 0.0ms postprocess per image at shape (1, 3, 608, 800)\n",
      "\n"
     ]
    },
    {
     "name": "stdout",
     "output_type": "stream",
     "text": [
      "Response from ESP32: M CMD: Action for 'M' command\n",
      "Labels: deque([('m',), ('m',), ('m',), ('m',), ('m',)], maxlen=5)\n"
     ]
    },
    {
     "name": "stderr",
     "output_type": "stream",
     "text": [
      "0: 608x800 1 Metal, 272.6ms\n",
      "Speed: 15.6ms preprocess, 272.6ms inference, 0.0ms postprocess per image at shape (1, 3, 608, 800)\n",
      "\n"
     ]
    },
    {
     "name": "stdout",
     "output_type": "stream",
     "text": [
      "Labels: deque([('m',), ('m',), ('m',), ('m',), ('m',)], maxlen=5)\n"
     ]
    },
    {
     "name": "stderr",
     "output_type": "stream",
     "text": [
      "0: 608x800 1 Metal, 250.1ms\n",
      "Speed: 0.0ms preprocess, 250.1ms inference, 0.0ms postprocess per image at shape (1, 3, 608, 800)\n",
      "\n"
     ]
    },
    {
     "name": "stdout",
     "output_type": "stream",
     "text": [
      "Labels: deque([('m',), ('m',), ('m',), ('m',), ('m',)], maxlen=5)\n"
     ]
    },
    {
     "name": "stderr",
     "output_type": "stream",
     "text": [
      "0: 608x800 1 Metal, 249.7ms\n",
      "Speed: 15.6ms preprocess, 249.7ms inference, 0.0ms postprocess per image at shape (1, 3, 608, 800)\n",
      "\n"
     ]
    },
    {
     "name": "stdout",
     "output_type": "stream",
     "text": [
      "Labels: deque([('m',), ('m',), ('m',), ('m',), ('m',)], maxlen=5)\n"
     ]
    },
    {
     "name": "stderr",
     "output_type": "stream",
     "text": [
      "0: 608x800 1 Metal, 252.5ms\n",
      "Speed: 0.0ms preprocess, 252.5ms inference, 0.0ms postprocess per image at shape (1, 3, 608, 800)\n",
      "\n"
     ]
    },
    {
     "name": "stdout",
     "output_type": "stream",
     "text": [
      "Labels: deque([('m',), ('m',), ('m',), ('m',), ('m',)], maxlen=5)\n"
     ]
    },
    {
     "name": "stderr",
     "output_type": "stream",
     "text": [
      "0: 608x800 1 Metal, 327.0ms\n",
      "Speed: 0.0ms preprocess, 327.0ms inference, 0.0ms postprocess per image at shape (1, 3, 608, 800)\n",
      "\n"
     ]
    },
    {
     "name": "stdout",
     "output_type": "stream",
     "text": [
      "Response from ESP32: M CMD: Action for 'M' command\n",
      "Labels: deque([('m',), ('m',), ('m',), ('m',), ('m',)], maxlen=5)\n"
     ]
    },
    {
     "name": "stderr",
     "output_type": "stream",
     "text": [
      "0: 608x800 1 Metal, 283.2ms\n",
      "Speed: 0.0ms preprocess, 283.2ms inference, 0.0ms postprocess per image at shape (1, 3, 608, 800)\n",
      "\n"
     ]
    },
    {
     "name": "stdout",
     "output_type": "stream",
     "text": [
      "Labels: deque([('m',), ('m',), ('m',), ('m',), ('m',)], maxlen=5)\n"
     ]
    },
    {
     "name": "stderr",
     "output_type": "stream",
     "text": [
      "0: 608x800 1 Metal, 250.5ms\n",
      "Speed: 15.6ms preprocess, 250.5ms inference, 0.0ms postprocess per image at shape (1, 3, 608, 800)\n",
      "\n"
     ]
    },
    {
     "name": "stdout",
     "output_type": "stream",
     "text": [
      "Labels: deque([('m',), ('m',), ('m',), ('m',), ('m',)], maxlen=5)\n"
     ]
    },
    {
     "name": "stderr",
     "output_type": "stream",
     "text": [
      "0: 608x800 1 Metal, 253.3ms\n",
      "Speed: 0.0ms preprocess, 253.3ms inference, 0.0ms postprocess per image at shape (1, 3, 608, 800)\n",
      "\n"
     ]
    },
    {
     "name": "stdout",
     "output_type": "stream",
     "text": [
      "Labels: deque([('m',), ('m',), ('m',), ('m',), ('m',)], maxlen=5)\n"
     ]
    },
    {
     "name": "stderr",
     "output_type": "stream",
     "text": [
      "0: 608x800 1 Metal, 236.5ms\n",
      "Speed: 12.1ms preprocess, 236.5ms inference, 0.0ms postprocess per image at shape (1, 3, 608, 800)\n",
      "\n"
     ]
    },
    {
     "name": "stdout",
     "output_type": "stream",
     "text": [
      "Labels: deque([('m',), ('m',), ('m',), ('m',), ('m',)], maxlen=5)\n"
     ]
    },
    {
     "name": "stderr",
     "output_type": "stream",
     "text": [
      "0: 608x800 1 Metal, 242.9ms\n",
      "Speed: 15.6ms preprocess, 242.9ms inference, 0.0ms postprocess per image at shape (1, 3, 608, 800)\n",
      "\n"
     ]
    },
    {
     "name": "stdout",
     "output_type": "stream",
     "text": [
      "Response from ESP32: M CMD: Action for 'M' command\n",
      "Labels: deque([('m',), ('m',), ('m',), ('m',), ('m',)], maxlen=5)\n"
     ]
    },
    {
     "name": "stderr",
     "output_type": "stream",
     "text": [
      "0: 608x800 1 Metal, 261.4ms\n",
      "Speed: 0.0ms preprocess, 261.4ms inference, 1.0ms postprocess per image at shape (1, 3, 608, 800)\n",
      "\n"
     ]
    },
    {
     "name": "stdout",
     "output_type": "stream",
     "text": [
      "Labels: deque([('m',), ('m',), ('m',), ('m',), ('m',)], maxlen=5)\n"
     ]
    },
    {
     "name": "stderr",
     "output_type": "stream",
     "text": [
      "0: 608x800 1 Metal, 256.9ms\n",
      "Speed: 16.0ms preprocess, 256.9ms inference, 0.0ms postprocess per image at shape (1, 3, 608, 800)\n",
      "\n"
     ]
    },
    {
     "name": "stdout",
     "output_type": "stream",
     "text": [
      "Labels: deque([('m',), ('m',), ('m',), ('m',), ('m',)], maxlen=5)\n"
     ]
    },
    {
     "name": "stderr",
     "output_type": "stream",
     "text": [
      "0: 608x800 1 Metal, 237.0ms\n",
      "Speed: 16.8ms preprocess, 237.0ms inference, 0.0ms postprocess per image at shape (1, 3, 608, 800)\n",
      "\n"
     ]
    },
    {
     "name": "stdout",
     "output_type": "stream",
     "text": [
      "Labels: deque([('m',), ('m',), ('m',), ('m',), ('m',)], maxlen=5)\n"
     ]
    },
    {
     "name": "stderr",
     "output_type": "stream",
     "text": [
      "0: 608x800 1 Metal, 254.3ms\n",
      "Speed: 0.0ms preprocess, 254.3ms inference, 0.0ms postprocess per image at shape (1, 3, 608, 800)\n",
      "\n"
     ]
    },
    {
     "name": "stdout",
     "output_type": "stream",
     "text": [
      "Labels: deque([('m',), ('m',), ('m',), ('m',), ('m',)], maxlen=5)\n"
     ]
    },
    {
     "name": "stderr",
     "output_type": "stream",
     "text": [
      "0: 608x800 1 Metal, 230.3ms\n",
      "Speed: 12.1ms preprocess, 230.3ms inference, 1.0ms postprocess per image at shape (1, 3, 608, 800)\n",
      "\n"
     ]
    },
    {
     "name": "stdout",
     "output_type": "stream",
     "text": [
      "Response from ESP32: M CMD: Action for 'M' command\n",
      "Labels: deque([('m',), ('m',), ('m',), ('m',), ('m',)], maxlen=5)\n"
     ]
    },
    {
     "name": "stderr",
     "output_type": "stream",
     "text": [
      "0: 608x800 1 Metal, 236.1ms\n",
      "Speed: 0.0ms preprocess, 236.1ms inference, 0.0ms postprocess per image at shape (1, 3, 608, 800)\n",
      "\n"
     ]
    },
    {
     "name": "stdout",
     "output_type": "stream",
     "text": [
      "Labels: deque([('m',), ('m',), ('m',), ('m',), ('m',)], maxlen=5)\n"
     ]
    },
    {
     "name": "stderr",
     "output_type": "stream",
     "text": [
      "0: 608x800 1 Metal, 274.3ms\n",
      "Speed: 0.0ms preprocess, 274.3ms inference, 0.0ms postprocess per image at shape (1, 3, 608, 800)\n",
      "\n"
     ]
    },
    {
     "name": "stdout",
     "output_type": "stream",
     "text": [
      "Labels: deque([('m',), ('m',), ('m',), ('m',), ('m',)], maxlen=5)\n"
     ]
    },
    {
     "name": "stderr",
     "output_type": "stream",
     "text": [
      "0: 608x800 1 Metal, 253.2ms\n",
      "Speed: 6.3ms preprocess, 253.2ms inference, 0.0ms postprocess per image at shape (1, 3, 608, 800)\n",
      "\n"
     ]
    },
    {
     "name": "stdout",
     "output_type": "stream",
     "text": [
      "Labels: deque([('m',), ('m',), ('m',), ('m',), ('m',)], maxlen=5)\n"
     ]
    },
    {
     "name": "stderr",
     "output_type": "stream",
     "text": [
      "0: 608x800 1 Metal, 258.2ms\n",
      "Speed: 15.8ms preprocess, 258.2ms inference, 0.0ms postprocess per image at shape (1, 3, 608, 800)\n",
      "\n"
     ]
    },
    {
     "name": "stdout",
     "output_type": "stream",
     "text": [
      "Labels: deque([('m',), ('m',), ('m',), ('m',), ('m',)], maxlen=5)\n"
     ]
    },
    {
     "name": "stderr",
     "output_type": "stream",
     "text": [
      "0: 608x800 1 Metal, 242.6ms\n",
      "Speed: 11.9ms preprocess, 242.6ms inference, 0.0ms postprocess per image at shape (1, 3, 608, 800)\n",
      "\n"
     ]
    },
    {
     "name": "stdout",
     "output_type": "stream",
     "text": [
      "Response from ESP32: M CMD: Action for 'M' command\n",
      "Labels: deque([('m',), ('m',), ('m',), ('m',), ('m',)], maxlen=5)\n"
     ]
    },
    {
     "name": "stderr",
     "output_type": "stream",
     "text": [
      "0: 608x800 1 Metal, 244.8ms\n",
      "Speed: 15.6ms preprocess, 244.8ms inference, 0.0ms postprocess per image at shape (1, 3, 608, 800)\n",
      "\n"
     ]
    },
    {
     "name": "stdout",
     "output_type": "stream",
     "text": [
      "Labels: deque([('m',), ('m',), ('m',), ('m',), ('m',)], maxlen=5)\n"
     ]
    },
    {
     "name": "stderr",
     "output_type": "stream",
     "text": [
      "0: 608x800 1 Metal, 255.5ms\n",
      "Speed: 0.0ms preprocess, 255.5ms inference, 0.0ms postprocess per image at shape (1, 3, 608, 800)\n",
      "\n"
     ]
    },
    {
     "name": "stdout",
     "output_type": "stream",
     "text": [
      "Labels: deque([('m',), ('m',), ('m',), ('m',), ('m',)], maxlen=5)\n"
     ]
    },
    {
     "name": "stderr",
     "output_type": "stream",
     "text": [
      "0: 608x800 1 Metal, 278.4ms\n",
      "Speed: 0.0ms preprocess, 278.4ms inference, 0.0ms postprocess per image at shape (1, 3, 608, 800)\n",
      "\n"
     ]
    },
    {
     "name": "stdout",
     "output_type": "stream",
     "text": [
      "Labels: deque([('m',), ('m',), ('m',), ('m',), ('m',)], maxlen=5)\n"
     ]
    },
    {
     "name": "stderr",
     "output_type": "stream",
     "text": [
      "0: 608x800 1 Metal, 252.2ms\n",
      "Speed: 15.6ms preprocess, 252.2ms inference, 0.7ms postprocess per image at shape (1, 3, 608, 800)\n",
      "\n"
     ]
    },
    {
     "name": "stdout",
     "output_type": "stream",
     "text": [
      "Labels: deque([('m',), ('m',), ('m',), ('m',), ('m',)], maxlen=5)\n"
     ]
    },
    {
     "name": "stderr",
     "output_type": "stream",
     "text": [
      "0: 608x800 1 Metal, 233.6ms\n",
      "Speed: 0.0ms preprocess, 233.6ms inference, 0.0ms postprocess per image at shape (1, 3, 608, 800)\n",
      "\n"
     ]
    },
    {
     "name": "stdout",
     "output_type": "stream",
     "text": [
      "Response from ESP32: M CMD: Action for 'M' command\n",
      "Labels: deque([('m',), ('m',), ('m',), ('m',), ('m',)], maxlen=5)\n"
     ]
    },
    {
     "name": "stderr",
     "output_type": "stream",
     "text": [
      "0: 608x800 1 Metal, 247.6ms\n",
      "Speed: 14.3ms preprocess, 247.6ms inference, 0.0ms postprocess per image at shape (1, 3, 608, 800)\n",
      "\n"
     ]
    },
    {
     "name": "stdout",
     "output_type": "stream",
     "text": [
      "Labels: deque([('m',), ('m',), ('m',), ('m',), ('m',)], maxlen=5)\n"
     ]
    },
    {
     "name": "stderr",
     "output_type": "stream",
     "text": [
      "0: 608x800 1 Metal, 216.9ms\n",
      "Speed: 0.0ms preprocess, 216.9ms inference, 0.0ms postprocess per image at shape (1, 3, 608, 800)\n",
      "\n"
     ]
    },
    {
     "name": "stdout",
     "output_type": "stream",
     "text": [
      "Labels: deque([('m',), ('m',), ('m',), ('m',), ('m',)], maxlen=5)\n"
     ]
    },
    {
     "name": "stderr",
     "output_type": "stream",
     "text": [
      "0: 608x800 1 Metal, 250.1ms\n",
      "Speed: 0.0ms preprocess, 250.1ms inference, 0.0ms postprocess per image at shape (1, 3, 608, 800)\n",
      "\n"
     ]
    },
    {
     "name": "stdout",
     "output_type": "stream",
     "text": [
      "Labels: deque([('m',), ('m',), ('m',), ('m',), ('m',)], maxlen=5)\n"
     ]
    },
    {
     "name": "stderr",
     "output_type": "stream",
     "text": [
      "0: 608x800 1 Metal, 269.5ms\n",
      "Speed: 0.0ms preprocess, 269.5ms inference, 0.0ms postprocess per image at shape (1, 3, 608, 800)\n",
      "\n"
     ]
    },
    {
     "name": "stdout",
     "output_type": "stream",
     "text": [
      "Labels: deque([('m',), ('m',), ('m',), ('m',), ('m',)], maxlen=5)\n"
     ]
    },
    {
     "name": "stderr",
     "output_type": "stream",
     "text": [
      "0: 608x800 1 Metal, 256.9ms\n",
      "Speed: 0.9ms preprocess, 256.9ms inference, 1.0ms postprocess per image at shape (1, 3, 608, 800)\n",
      "\n"
     ]
    },
    {
     "name": "stdout",
     "output_type": "stream",
     "text": [
      "Response from ESP32: M CMD: Action for 'M' command\n",
      "Labels: deque([('m',), ('m',), ('m',), ('m',), ('m',)], maxlen=5)\n"
     ]
    },
    {
     "name": "stderr",
     "output_type": "stream",
     "text": [
      "0: 608x800 1 Metal, 230.9ms\n",
      "Speed: 3.1ms preprocess, 230.9ms inference, 0.0ms postprocess per image at shape (1, 3, 608, 800)\n",
      "\n"
     ]
    },
    {
     "name": "stdout",
     "output_type": "stream",
     "text": [
      "Labels: deque([('m',), ('m',), ('m',), ('m',), ('m',)], maxlen=5)\n"
     ]
    },
    {
     "name": "stderr",
     "output_type": "stream",
     "text": [
      "0: 608x800 1 Metal, 242.9ms\n",
      "Speed: 0.0ms preprocess, 242.9ms inference, 0.0ms postprocess per image at shape (1, 3, 608, 800)\n",
      "\n"
     ]
    },
    {
     "name": "stdout",
     "output_type": "stream",
     "text": [
      "Labels: deque([('m',), ('m',), ('m',), ('m',), ('m',)], maxlen=5)\n"
     ]
    },
    {
     "name": "stderr",
     "output_type": "stream",
     "text": [
      "0: 608x800 1 Metal, 248.9ms\n",
      "Speed: 13.4ms preprocess, 248.9ms inference, 0.0ms postprocess per image at shape (1, 3, 608, 800)\n",
      "\n"
     ]
    },
    {
     "name": "stdout",
     "output_type": "stream",
     "text": [
      "Labels: deque([('m',), ('m',), ('m',), ('m',), ('m',)], maxlen=5)\n"
     ]
    },
    {
     "name": "stderr",
     "output_type": "stream",
     "text": [
      "0: 608x800 1 Metal, 250.3ms\n",
      "Speed: 0.0ms preprocess, 250.3ms inference, 0.0ms postprocess per image at shape (1, 3, 608, 800)\n",
      "\n"
     ]
    },
    {
     "name": "stdout",
     "output_type": "stream",
     "text": [
      "Labels: deque([('m',), ('m',), ('m',), ('m',), ('m',)], maxlen=5)\n"
     ]
    },
    {
     "name": "stderr",
     "output_type": "stream",
     "text": [
      "0: 608x800 1 Metal, 250.0ms\n",
      "Speed: 0.0ms preprocess, 250.0ms inference, 0.0ms postprocess per image at shape (1, 3, 608, 800)\n",
      "\n"
     ]
    },
    {
     "name": "stdout",
     "output_type": "stream",
     "text": [
      "Response from ESP32: M CMD: Action for 'M' command\n",
      "Labels: deque([('m',), ('m',), ('m',), ('m',), ('m',)], maxlen=5)\n"
     ]
    },
    {
     "name": "stderr",
     "output_type": "stream",
     "text": [
      "0: 608x800 1 Metal, 245.4ms\n",
      "Speed: 0.0ms preprocess, 245.4ms inference, 0.0ms postprocess per image at shape (1, 3, 608, 800)\n",
      "\n"
     ]
    },
    {
     "name": "stdout",
     "output_type": "stream",
     "text": [
      "Labels: deque([('m',), ('m',), ('m',), ('m',), ('m',)], maxlen=5)\n"
     ]
    },
    {
     "name": "stderr",
     "output_type": "stream",
     "text": [
      "0: 608x800 1 Metal, 238.0ms\n",
      "Speed: 5.0ms preprocess, 238.0ms inference, 0.0ms postprocess per image at shape (1, 3, 608, 800)\n",
      "\n"
     ]
    },
    {
     "name": "stdout",
     "output_type": "stream",
     "text": [
      "Labels: deque([('m',), ('m',), ('m',), ('m',), ('m',)], maxlen=5)\n"
     ]
    },
    {
     "name": "stderr",
     "output_type": "stream",
     "text": [
      "0: 608x800 1 Metal, 249.9ms\n",
      "Speed: 0.0ms preprocess, 249.9ms inference, 0.0ms postprocess per image at shape (1, 3, 608, 800)\n",
      "\n"
     ]
    },
    {
     "name": "stdout",
     "output_type": "stream",
     "text": [
      "Labels: deque([('m',), ('m',), ('m',), ('m',), ('m',)], maxlen=5)\n"
     ]
    },
    {
     "name": "stderr",
     "output_type": "stream",
     "text": [
      "0: 608x800 1 Metal, 254.5ms\n",
      "Speed: 0.0ms preprocess, 254.5ms inference, 0.0ms postprocess per image at shape (1, 3, 608, 800)\n",
      "\n"
     ]
    },
    {
     "name": "stdout",
     "output_type": "stream",
     "text": [
      "Labels: deque([('m',), ('m',), ('m',), ('m',), ('m',)], maxlen=5)\n"
     ]
    },
    {
     "name": "stderr",
     "output_type": "stream",
     "text": [
      "0: 608x800 1 Metal, 250.7ms\n",
      "Speed: 4.0ms preprocess, 250.7ms inference, 0.0ms postprocess per image at shape (1, 3, 608, 800)\n",
      "\n"
     ]
    },
    {
     "name": "stdout",
     "output_type": "stream",
     "text": [
      "Response from ESP32: M CMD: Action for 'M' command\n",
      "Labels: deque([('m',), ('m',), ('m',), ('m',), ('m',)], maxlen=5)\n"
     ]
    },
    {
     "name": "stderr",
     "output_type": "stream",
     "text": [
      "0: 608x800 1 Metal, 242.2ms\n",
      "Speed: 2.6ms preprocess, 242.2ms inference, 1.0ms postprocess per image at shape (1, 3, 608, 800)\n",
      "\n"
     ]
    },
    {
     "name": "stdout",
     "output_type": "stream",
     "text": [
      "Labels: deque([('m',), ('m',), ('m',), ('m',), ('m',)], maxlen=5)\n"
     ]
    },
    {
     "name": "stderr",
     "output_type": "stream",
     "text": [
      "0: 608x800 1 Metal, 249.9ms\n",
      "Speed: 0.0ms preprocess, 249.9ms inference, 0.0ms postprocess per image at shape (1, 3, 608, 800)\n",
      "\n"
     ]
    },
    {
     "name": "stdout",
     "output_type": "stream",
     "text": [
      "Labels: deque([('m',), ('m',), ('m',), ('m',), ('m',)], maxlen=5)\n"
     ]
    },
    {
     "name": "stderr",
     "output_type": "stream",
     "text": [
      "0: 608x800 1 Metal, 241.8ms\n",
      "Speed: 5.0ms preprocess, 241.8ms inference, 0.0ms postprocess per image at shape (1, 3, 608, 800)\n",
      "\n"
     ]
    },
    {
     "name": "stdout",
     "output_type": "stream",
     "text": [
      "Labels: deque([('m',), ('m',), ('m',), ('m',), ('m',)], maxlen=5)\n"
     ]
    },
    {
     "name": "stderr",
     "output_type": "stream",
     "text": [
      "0: 608x800 1 Metal, 253.0ms\n",
      "Speed: 0.0ms preprocess, 253.0ms inference, 0.0ms postprocess per image at shape (1, 3, 608, 800)\n",
      "\n"
     ]
    },
    {
     "name": "stdout",
     "output_type": "stream",
     "text": [
      "Labels: deque([('m',), ('m',), ('m',), ('m',), ('m',)], maxlen=5)\n"
     ]
    },
    {
     "name": "stderr",
     "output_type": "stream",
     "text": [
      "0: 608x800 1 Metal, 307.1ms\n",
      "Speed: 10.0ms preprocess, 307.1ms inference, 1.0ms postprocess per image at shape (1, 3, 608, 800)\n",
      "\n"
     ]
    },
    {
     "name": "stdout",
     "output_type": "stream",
     "text": [
      "Response from ESP32: M CMD: Action for 'M' command\n",
      "Labels: deque([('m',), ('m',), ('m',), ('m',), ('m',)], maxlen=5)\n"
     ]
    },
    {
     "name": "stderr",
     "output_type": "stream",
     "text": [
      "0: 608x800 1 Metal, 255.4ms\n",
      "Speed: 5.0ms preprocess, 255.4ms inference, 1.0ms postprocess per image at shape (1, 3, 608, 800)\n",
      "\n"
     ]
    },
    {
     "name": "stdout",
     "output_type": "stream",
     "text": [
      "Labels: deque([('m',), ('m',), ('m',), ('m',), ('m',)], maxlen=5)\n"
     ]
    },
    {
     "name": "stderr",
     "output_type": "stream",
     "text": [
      "0: 608x800 1 Metal, 258.7ms\n",
      "Speed: 4.0ms preprocess, 258.7ms inference, 1.0ms postprocess per image at shape (1, 3, 608, 800)\n",
      "\n"
     ]
    },
    {
     "name": "stdout",
     "output_type": "stream",
     "text": [
      "Labels: deque([('m',), ('m',), ('m',), ('m',), ('m',)], maxlen=5)\n"
     ]
    },
    {
     "name": "stderr",
     "output_type": "stream",
     "text": [
      "0: 608x800 1 Metal, 238.6ms\n",
      "Speed: 4.0ms preprocess, 238.6ms inference, 0.0ms postprocess per image at shape (1, 3, 608, 800)\n",
      "\n"
     ]
    },
    {
     "name": "stdout",
     "output_type": "stream",
     "text": [
      "Labels: deque([('m',), ('m',), ('m',), ('m',), ('m',)], maxlen=5)\n"
     ]
    },
    {
     "name": "stderr",
     "output_type": "stream",
     "text": [
      "0: 608x800 1 Metal, 223.6ms\n",
      "Speed: 17.0ms preprocess, 223.6ms inference, 0.0ms postprocess per image at shape (1, 3, 608, 800)\n",
      "\n"
     ]
    },
    {
     "name": "stdout",
     "output_type": "stream",
     "text": [
      "Labels: deque([('m',), ('m',), ('m',), ('m',), ('m',)], maxlen=5)\n"
     ]
    },
    {
     "name": "stderr",
     "output_type": "stream",
     "text": [
      "0: 608x800 1 Metal, 262.9ms\n",
      "Speed: 0.0ms preprocess, 262.9ms inference, 0.0ms postprocess per image at shape (1, 3, 608, 800)\n",
      "\n"
     ]
    },
    {
     "name": "stdout",
     "output_type": "stream",
     "text": [
      "Response from ESP32: M CMD: Action for 'M' command\n",
      "Labels: deque([('m',), ('m',), ('m',), ('m',), ('m',)], maxlen=5)\n"
     ]
    },
    {
     "name": "stderr",
     "output_type": "stream",
     "text": [
      "0: 608x800 1 Metal, 248.0ms\n",
      "Speed: 0.0ms preprocess, 248.0ms inference, 0.0ms postprocess per image at shape (1, 3, 608, 800)\n",
      "\n"
     ]
    },
    {
     "name": "stdout",
     "output_type": "stream",
     "text": [
      "Labels: deque([('m',), ('m',), ('m',), ('m',), ('m',)], maxlen=5)\n"
     ]
    },
    {
     "name": "stderr",
     "output_type": "stream",
     "text": [
      "0: 608x800 1 Metal, 233.4ms\n",
      "Speed: 8.3ms preprocess, 233.4ms inference, 1.0ms postprocess per image at shape (1, 3, 608, 800)\n",
      "\n"
     ]
    },
    {
     "name": "stdout",
     "output_type": "stream",
     "text": [
      "Labels: deque([('m',), ('m',), ('m',), ('m',), ('m',)], maxlen=5)\n"
     ]
    },
    {
     "name": "stderr",
     "output_type": "stream",
     "text": [
      "0: 608x800 1 Metal, 245.8ms\n",
      "Speed: 15.6ms preprocess, 245.8ms inference, 0.0ms postprocess per image at shape (1, 3, 608, 800)\n",
      "\n"
     ]
    },
    {
     "name": "stdout",
     "output_type": "stream",
     "text": [
      "Labels: deque([('m',), ('m',), ('m',), ('m',), ('m',)], maxlen=5)\n"
     ]
    },
    {
     "name": "stderr",
     "output_type": "stream",
     "text": [
      "0: 608x800 1 Metal, 246.0ms\n",
      "Speed: 15.8ms preprocess, 246.0ms inference, 2.0ms postprocess per image at shape (1, 3, 608, 800)\n",
      "\n"
     ]
    },
    {
     "name": "stdout",
     "output_type": "stream",
     "text": [
      "Labels: deque([('m',), ('m',), ('m',), ('m',), ('m',)], maxlen=5)\n"
     ]
    },
    {
     "name": "stderr",
     "output_type": "stream",
     "text": [
      "0: 608x800 1 Metal, 253.0ms\n",
      "Speed: 16.7ms preprocess, 253.0ms inference, 1.0ms postprocess per image at shape (1, 3, 608, 800)\n",
      "\n"
     ]
    },
    {
     "name": "stdout",
     "output_type": "stream",
     "text": [
      "Response from ESP32: M CMD: Action for 'M' command\n",
      "Labels: deque([('m',), ('m',), ('m',), ('m',), ('m',)], maxlen=5)\n"
     ]
    },
    {
     "name": "stderr",
     "output_type": "stream",
     "text": [
      "0: 608x800 1 Metal, 246.8ms\n",
      "Speed: 12.3ms preprocess, 246.8ms inference, 0.0ms postprocess per image at shape (1, 3, 608, 800)\n",
      "\n"
     ]
    },
    {
     "name": "stdout",
     "output_type": "stream",
     "text": [
      "Labels: deque([('m',), ('m',), ('m',), ('m',), ('m',)], maxlen=5)\n"
     ]
    },
    {
     "name": "stderr",
     "output_type": "stream",
     "text": [
      "0: 608x800 1 Metal, 233.9ms\n",
      "Speed: 0.5ms preprocess, 233.9ms inference, 0.0ms postprocess per image at shape (1, 3, 608, 800)\n",
      "\n"
     ]
    },
    {
     "name": "stdout",
     "output_type": "stream",
     "text": [
      "Labels: deque([('m',), ('m',), ('m',), ('m',), ('m',)], maxlen=5)\n"
     ]
    },
    {
     "name": "stderr",
     "output_type": "stream",
     "text": [
      "0: 608x800 1 Metal, 254.3ms\n",
      "Speed: 16.8ms preprocess, 254.3ms inference, 1.0ms postprocess per image at shape (1, 3, 608, 800)\n",
      "\n"
     ]
    },
    {
     "name": "stdout",
     "output_type": "stream",
     "text": [
      "Labels: deque([('m',), ('m',), ('m',), ('m',), ('m',)], maxlen=5)\n"
     ]
    },
    {
     "name": "stderr",
     "output_type": "stream",
     "text": [
      "0: 608x800 1 Metal, 237.8ms\n",
      "Speed: 5.0ms preprocess, 237.8ms inference, 0.0ms postprocess per image at shape (1, 3, 608, 800)\n",
      "\n"
     ]
    },
    {
     "name": "stdout",
     "output_type": "stream",
     "text": [
      "Labels: deque([('m',), ('m',), ('m',), ('m',), ('m',)], maxlen=5)\n"
     ]
    },
    {
     "name": "stderr",
     "output_type": "stream",
     "text": [
      "0: 608x800 1 Metal, 216.9ms\n",
      "Speed: 0.0ms preprocess, 216.9ms inference, 0.0ms postprocess per image at shape (1, 3, 608, 800)\n",
      "\n"
     ]
    },
    {
     "name": "stdout",
     "output_type": "stream",
     "text": [
      "Response from ESP32: M CMD: Action for 'M' command\n",
      "Labels: deque([('m',), ('m',), ('m',), ('m',), ('m',)], maxlen=5)\n"
     ]
    },
    {
     "name": "stderr",
     "output_type": "stream",
     "text": [
      "0: 608x800 1 Metal, 245.5ms\n",
      "Speed: 2.1ms preprocess, 245.5ms inference, 0.0ms postprocess per image at shape (1, 3, 608, 800)\n",
      "\n"
     ]
    },
    {
     "name": "stdout",
     "output_type": "stream",
     "text": [
      "Labels: deque([('m',), ('m',), ('m',), ('m',), ('m',)], maxlen=5)\n"
     ]
    },
    {
     "name": "stderr",
     "output_type": "stream",
     "text": [
      "0: 608x800 1 Metal, 241.9ms\n",
      "Speed: 4.0ms preprocess, 241.9ms inference, 0.0ms postprocess per image at shape (1, 3, 608, 800)\n",
      "\n"
     ]
    },
    {
     "name": "stdout",
     "output_type": "stream",
     "text": [
      "Labels: deque([('m',), ('m',), ('m',), ('m',), ('m',)], maxlen=5)\n"
     ]
    },
    {
     "name": "stderr",
     "output_type": "stream",
     "text": [
      "0: 608x800 1 Metal, 241.3ms\n",
      "Speed: 0.0ms preprocess, 241.3ms inference, 1.0ms postprocess per image at shape (1, 3, 608, 800)\n",
      "\n"
     ]
    },
    {
     "name": "stdout",
     "output_type": "stream",
     "text": [
      "Labels: deque([('m',), ('m',), ('m',), ('m',), ('m',)], maxlen=5)\n"
     ]
    },
    {
     "name": "stderr",
     "output_type": "stream",
     "text": [
      "0: 608x800 1 Metal, 231.9ms\n",
      "Speed: 3.4ms preprocess, 231.9ms inference, 1.0ms postprocess per image at shape (1, 3, 608, 800)\n",
      "\n"
     ]
    },
    {
     "name": "stdout",
     "output_type": "stream",
     "text": [
      "Labels: deque([('m',), ('m',), ('m',), ('m',), ('m',)], maxlen=5)\n"
     ]
    },
    {
     "name": "stderr",
     "output_type": "stream",
     "text": [
      "0: 608x800 1 Metal, 233.5ms\n",
      "Speed: 0.0ms preprocess, 233.5ms inference, 2.0ms postprocess per image at shape (1, 3, 608, 800)\n",
      "\n"
     ]
    },
    {
     "name": "stdout",
     "output_type": "stream",
     "text": [
      "Response from ESP32: M CMD: Action for 'M' command\n",
      "Labels: deque([('m',), ('m',), ('m',), ('m',), ('m',)], maxlen=5)\n"
     ]
    },
    {
     "name": "stderr",
     "output_type": "stream",
     "text": [
      "0: 608x800 1 Metal, 261.5ms\n",
      "Speed: 1.0ms preprocess, 261.5ms inference, 0.0ms postprocess per image at shape (1, 3, 608, 800)\n",
      "\n"
     ]
    },
    {
     "name": "stdout",
     "output_type": "stream",
     "text": [
      "Labels: deque([('m',), ('m',), ('m',), ('m',), ('m',)], maxlen=5)\n"
     ]
    },
    {
     "name": "stderr",
     "output_type": "stream",
     "text": [
      "0: 608x800 1 Metal, 259.0ms\n",
      "Speed: 0.0ms preprocess, 259.0ms inference, 1.0ms postprocess per image at shape (1, 3, 608, 800)\n",
      "\n"
     ]
    },
    {
     "name": "stdout",
     "output_type": "stream",
     "text": [
      "Labels: deque([('m',), ('m',), ('m',), ('m',), ('m',)], maxlen=5)\n"
     ]
    },
    {
     "name": "stderr",
     "output_type": "stream",
     "text": [
      "0: 608x800 1 Metal, 250.0ms\n",
      "Speed: 0.0ms preprocess, 250.0ms inference, 0.0ms postprocess per image at shape (1, 3, 608, 800)\n",
      "\n"
     ]
    },
    {
     "name": "stdout",
     "output_type": "stream",
     "text": [
      "Labels: deque([('m',), ('m',), ('m',), ('m',), ('m',)], maxlen=5)\n"
     ]
    },
    {
     "name": "stderr",
     "output_type": "stream",
     "text": [
      "0: 608x800 1 Metal, 229.4ms\n",
      "Speed: 4.5ms preprocess, 229.4ms inference, 0.0ms postprocess per image at shape (1, 3, 608, 800)\n",
      "\n"
     ]
    },
    {
     "name": "stdout",
     "output_type": "stream",
     "text": [
      "Labels: deque([('m',), ('m',), ('m',), ('m',), ('m',)], maxlen=5)\n"
     ]
    },
    {
     "name": "stderr",
     "output_type": "stream",
     "text": [
      "0: 608x800 1 Metal, 261.1ms\n",
      "Speed: 0.0ms preprocess, 261.1ms inference, 1.0ms postprocess per image at shape (1, 3, 608, 800)\n",
      "\n"
     ]
    },
    {
     "name": "stdout",
     "output_type": "stream",
     "text": [
      "Response from ESP32: M CMD: Action for 'M' command\n",
      "Labels: deque([('m',), ('m',), ('m',), ('m',), ('m',)], maxlen=5)\n"
     ]
    },
    {
     "name": "stderr",
     "output_type": "stream",
     "text": [
      "0: 608x800 1 Metal, 244.8ms\n",
      "Speed: 3.0ms preprocess, 244.8ms inference, 1.0ms postprocess per image at shape (1, 3, 608, 800)\n",
      "\n"
     ]
    },
    {
     "name": "stdout",
     "output_type": "stream",
     "text": [
      "Labels: deque([('m',), ('m',), ('m',), ('m',), ('m',)], maxlen=5)\n"
     ]
    },
    {
     "name": "stderr",
     "output_type": "stream",
     "text": [
      "0: 608x800 1 Metal, 232.0ms\n",
      "Speed: 17.7ms preprocess, 232.0ms inference, 0.0ms postprocess per image at shape (1, 3, 608, 800)\n",
      "\n"
     ]
    },
    {
     "name": "stdout",
     "output_type": "stream",
     "text": [
      "Labels: deque([('m',), ('m',), ('m',), ('m',), ('m',)], maxlen=5)\n"
     ]
    },
    {
     "name": "stderr",
     "output_type": "stream",
     "text": [
      "0: 608x800 1 Biodegradable, 250.6ms\n",
      "Speed: 0.0ms preprocess, 250.6ms inference, 0.0ms postprocess per image at shape (1, 3, 608, 800)\n",
      "\n"
     ]
    },
    {
     "name": "stdout",
     "output_type": "stream",
     "text": [
      "Labels: deque([('m',), ('m',), ('m',), ('m',), ('B',)], maxlen=5)\n"
     ]
    },
    {
     "name": "stderr",
     "output_type": "stream",
     "text": [
      "0: 608x800 1 Biodegradable, 242.3ms\n",
      "Speed: 4.6ms preprocess, 242.3ms inference, 0.9ms postprocess per image at shape (1, 3, 608, 800)\n",
      "\n"
     ]
    },
    {
     "name": "stdout",
     "output_type": "stream",
     "text": [
      "Labels: deque([('m',), ('m',), ('m',), ('B',), ('B',)], maxlen=5)\n"
     ]
    },
    {
     "name": "stderr",
     "output_type": "stream",
     "text": [
      "0: 608x800 1 Biodegradable, 256.1ms\n",
      "Speed: 0.8ms preprocess, 256.1ms inference, 0.0ms postprocess per image at shape (1, 3, 608, 800)\n",
      "\n"
     ]
    },
    {
     "name": "stdout",
     "output_type": "stream",
     "text": [
      "Labels: deque([('m',), ('m',), ('B',), ('B',), ('B',)], maxlen=5)\n"
     ]
    },
    {
     "name": "stderr",
     "output_type": "stream",
     "text": [
      "0: 608x800 1 Biodegradable, 245.7ms\n",
      "Speed: 0.0ms preprocess, 245.7ms inference, 0.0ms postprocess per image at shape (1, 3, 608, 800)\n",
      "\n"
     ]
    },
    {
     "name": "stdout",
     "output_type": "stream",
     "text": [
      "Labels: deque([('m',), ('B',), ('B',), ('B',), ('B',)], maxlen=5)\n"
     ]
    },
    {
     "name": "stderr",
     "output_type": "stream",
     "text": [
      "0: 608x800 1 Biodegradable, 271.0ms\n",
      "Speed: 0.0ms preprocess, 271.0ms inference, 11.3ms postprocess per image at shape (1, 3, 608, 800)\n",
      "\n"
     ]
    },
    {
     "name": "stdout",
     "output_type": "stream",
     "text": [
      "Labels: deque([('B',), ('B',), ('B',), ('B',), ('B',)], maxlen=5)\n"
     ]
    },
    {
     "name": "stderr",
     "output_type": "stream",
     "text": [
      "0: 608x800 1 Biodegradable, 249.4ms\n",
      "Speed: 17.0ms preprocess, 249.4ms inference, 0.0ms postprocess per image at shape (1, 3, 608, 800)\n",
      "\n"
     ]
    },
    {
     "name": "stdout",
     "output_type": "stream",
     "text": [
      "Labels: deque([('B',), ('B',), ('B',), ('B',), ('B',)], maxlen=5)\n"
     ]
    },
    {
     "name": "stderr",
     "output_type": "stream",
     "text": [
      "0: 608x800 1 Biodegradable, 239.7ms\n",
      "Speed: 0.0ms preprocess, 239.7ms inference, 0.0ms postprocess per image at shape (1, 3, 608, 800)\n",
      "\n"
     ]
    },
    {
     "name": "stdout",
     "output_type": "stream",
     "text": [
      "Response from ESP32: B CMD: Action for 'B' command\n",
      "Labels: deque([('B',), ('B',), ('B',), ('B',), ('B',)], maxlen=5)\n"
     ]
    },
    {
     "name": "stderr",
     "output_type": "stream",
     "text": [
      "0: 608x800 1 Biodegradable, 245.6ms\n",
      "Speed: 2.7ms preprocess, 245.6ms inference, 0.0ms postprocess per image at shape (1, 3, 608, 800)\n",
      "\n"
     ]
    },
    {
     "name": "stdout",
     "output_type": "stream",
     "text": [
      "Labels: deque([('B',), ('B',), ('B',), ('B',), ('B',)], maxlen=5)\n"
     ]
    },
    {
     "name": "stderr",
     "output_type": "stream",
     "text": [
      "0: 608x800 1 Biodegradable, 262.1ms\n",
      "Speed: 0.0ms preprocess, 262.1ms inference, 0.0ms postprocess per image at shape (1, 3, 608, 800)\n",
      "\n"
     ]
    },
    {
     "name": "stdout",
     "output_type": "stream",
     "text": [
      "Labels: deque([('B',), ('B',), ('B',), ('B',), ('B',)], maxlen=5)\n"
     ]
    },
    {
     "name": "stderr",
     "output_type": "stream",
     "text": [
      "0: 608x800 1 Biodegradable, 270.4ms\n",
      "Speed: 0.0ms preprocess, 270.4ms inference, 0.0ms postprocess per image at shape (1, 3, 608, 800)\n",
      "\n"
     ]
    },
    {
     "name": "stdout",
     "output_type": "stream",
     "text": [
      "Labels: deque([('B',), ('B',), ('B',), ('B',), ('B',)], maxlen=5)\n"
     ]
    },
    {
     "name": "stderr",
     "output_type": "stream",
     "text": [
      "0: 608x800 1 Biodegradable, 235.7ms\n",
      "Speed: 15.6ms preprocess, 235.7ms inference, 0.0ms postprocess per image at shape (1, 3, 608, 800)\n",
      "\n"
     ]
    },
    {
     "name": "stdout",
     "output_type": "stream",
     "text": [
      "Labels: deque([('B',), ('B',), ('B',), ('B',), ('B',)], maxlen=5)\n"
     ]
    },
    {
     "name": "stderr",
     "output_type": "stream",
     "text": [
      "0: 608x800 1 Biodegradable, 239.4ms\n",
      "Speed: 0.0ms preprocess, 239.4ms inference, 15.6ms postprocess per image at shape (1, 3, 608, 800)\n",
      "\n"
     ]
    },
    {
     "name": "stdout",
     "output_type": "stream",
     "text": [
      "Response from ESP32: B CMD: Action for 'B' command\n",
      "Labels: deque([('B',), ('B',), ('B',), ('B',), ('B',)], maxlen=5)\n"
     ]
    },
    {
     "name": "stderr",
     "output_type": "stream",
     "text": [
      "0: 608x800 1 Biodegradable, 248.4ms\n",
      "Speed: 4.0ms preprocess, 248.4ms inference, 0.0ms postprocess per image at shape (1, 3, 608, 800)\n",
      "\n"
     ]
    },
    {
     "name": "stdout",
     "output_type": "stream",
     "text": [
      "Labels: deque([('B',), ('B',), ('B',), ('B',), ('B',)], maxlen=5)\n"
     ]
    },
    {
     "name": "stderr",
     "output_type": "stream",
     "text": [
      "0: 608x800 1 Biodegradable, 241.8ms\n",
      "Speed: 0.0ms preprocess, 241.8ms inference, 0.0ms postprocess per image at shape (1, 3, 608, 800)\n",
      "\n"
     ]
    },
    {
     "name": "stdout",
     "output_type": "stream",
     "text": [
      "Labels: deque([('B',), ('B',), ('B',), ('B',), ('B',)], maxlen=5)\n"
     ]
    },
    {
     "name": "stderr",
     "output_type": "stream",
     "text": [
      "0: 608x800 1 Biodegradable, 265.1ms\n",
      "Speed: 0.0ms preprocess, 265.1ms inference, 0.0ms postprocess per image at shape (1, 3, 608, 800)\n",
      "\n"
     ]
    },
    {
     "name": "stdout",
     "output_type": "stream",
     "text": [
      "Labels: deque([('B',), ('B',), ('B',), ('B',), ('B',)], maxlen=5)\n"
     ]
    },
    {
     "name": "stderr",
     "output_type": "stream",
     "text": [
      "0: 608x800 1 Biodegradable, 249.9ms\n",
      "Speed: 0.0ms preprocess, 249.9ms inference, 0.0ms postprocess per image at shape (1, 3, 608, 800)\n",
      "\n"
     ]
    },
    {
     "name": "stdout",
     "output_type": "stream",
     "text": [
      "Labels: deque([('B',), ('B',), ('B',), ('B',), ('B',)], maxlen=5)\n"
     ]
    },
    {
     "name": "stderr",
     "output_type": "stream",
     "text": [
      "0: 608x800 1 Biodegradable, 250.7ms\n",
      "Speed: 0.0ms preprocess, 250.7ms inference, 0.0ms postprocess per image at shape (1, 3, 608, 800)\n",
      "\n"
     ]
    },
    {
     "name": "stdout",
     "output_type": "stream",
     "text": [
      "Response from ESP32: B CMD: Action for 'B' command\n",
      "Labels: deque([('B',), ('B',), ('B',), ('B',), ('B',)], maxlen=5)\n"
     ]
    },
    {
     "name": "stderr",
     "output_type": "stream",
     "text": [
      "0: 608x800 1 Metal, 244.7ms\n",
      "Speed: 0.0ms preprocess, 244.7ms inference, 0.0ms postprocess per image at shape (1, 3, 608, 800)\n",
      "\n"
     ]
    },
    {
     "name": "stdout",
     "output_type": "stream",
     "text": [
      "Labels: deque([('B',), ('B',), ('B',), ('B',), ('m',)], maxlen=5)\n"
     ]
    },
    {
     "name": "stderr",
     "output_type": "stream",
     "text": [
      "0: 608x800 2 Biodegradables, 257.0ms\n",
      "Speed: 0.0ms preprocess, 257.0ms inference, 0.0ms postprocess per image at shape (1, 3, 608, 800)\n",
      "\n"
     ]
    },
    {
     "name": "stdout",
     "output_type": "stream",
     "text": [
      "Labels: deque([('B',), ('B',), ('B',), ('m',), ('B',)], maxlen=5)\n"
     ]
    },
    {
     "name": "stderr",
     "output_type": "stream",
     "text": [
      "0: 608x800 3 Biodegradables, 1 Plastic, 238.0ms\n",
      "Speed: 15.6ms preprocess, 238.0ms inference, 0.0ms postprocess per image at shape (1, 3, 608, 800)\n",
      "\n"
     ]
    },
    {
     "name": "stdout",
     "output_type": "stream",
     "text": [
      "Labels: deque([('B',), ('B',), ('m',), ('B',), ('B',)], maxlen=5)\n"
     ]
    },
    {
     "name": "stderr",
     "output_type": "stream",
     "text": [
      "0: 608x800 1 Biodegradable, 277.9ms\n",
      "Speed: 15.6ms preprocess, 277.9ms inference, 0.0ms postprocess per image at shape (1, 3, 608, 800)\n",
      "\n"
     ]
    },
    {
     "name": "stdout",
     "output_type": "stream",
     "text": [
      "Labels: deque([('B',), ('m',), ('B',), ('B',), ('B',)], maxlen=5)\n"
     ]
    },
    {
     "name": "stderr",
     "output_type": "stream",
     "text": [
      "0: 608x800 1 Biodegradable, 242.6ms\n",
      "Speed: 0.0ms preprocess, 242.6ms inference, 0.0ms postprocess per image at shape (1, 3, 608, 800)\n",
      "\n"
     ]
    },
    {
     "name": "stdout",
     "output_type": "stream",
     "text": [
      "Labels: deque([('m',), ('B',), ('B',), ('B',), ('B',)], maxlen=5)\n"
     ]
    },
    {
     "name": "stderr",
     "output_type": "stream",
     "text": [
      "0: 608x800 1 Biodegradable, 254.0ms\n",
      "Speed: 13.1ms preprocess, 254.0ms inference, 0.0ms postprocess per image at shape (1, 3, 608, 800)\n",
      "\n"
     ]
    },
    {
     "name": "stdout",
     "output_type": "stream",
     "text": [
      "Labels: deque([('B',), ('B',), ('B',), ('B',), ('B',)], maxlen=5)\n"
     ]
    },
    {
     "name": "stderr",
     "output_type": "stream",
     "text": [
      "0: 608x800 1 Biodegradable, 254.0ms\n",
      "Speed: 0.0ms preprocess, 254.0ms inference, 0.0ms postprocess per image at shape (1, 3, 608, 800)\n",
      "\n"
     ]
    },
    {
     "name": "stdout",
     "output_type": "stream",
     "text": [
      "Labels: deque([('B',), ('B',), ('B',), ('B',), ('B',)], maxlen=5)\n"
     ]
    },
    {
     "name": "stderr",
     "output_type": "stream",
     "text": [
      "0: 608x800 1 Biodegradable, 241.4ms\n",
      "Speed: 11.2ms preprocess, 241.4ms inference, 0.0ms postprocess per image at shape (1, 3, 608, 800)\n",
      "\n"
     ]
    },
    {
     "name": "stdout",
     "output_type": "stream",
     "text": [
      "Labels: deque([('B',), ('B',), ('B',), ('B',), ('B',)], maxlen=5)\n"
     ]
    },
    {
     "name": "stderr",
     "output_type": "stream",
     "text": [
      "0: 608x800 1 Biodegradable, 278.1ms\n",
      "Speed: 0.0ms preprocess, 278.1ms inference, 0.0ms postprocess per image at shape (1, 3, 608, 800)\n",
      "\n"
     ]
    },
    {
     "name": "stdout",
     "output_type": "stream",
     "text": [
      "Labels: deque([('B',), ('B',), ('B',), ('B',), ('B',)], maxlen=5)\n"
     ]
    },
    {
     "name": "stderr",
     "output_type": "stream",
     "text": [
      "0: 608x800 1 Biodegradable, 255.4ms\n",
      "Speed: 0.0ms preprocess, 255.4ms inference, 0.0ms postprocess per image at shape (1, 3, 608, 800)\n",
      "\n"
     ]
    },
    {
     "name": "stdout",
     "output_type": "stream",
     "text": [
      "Response from ESP32: B CMD: Action for 'B' command\n",
      "Labels: deque([('B',), ('B',), ('B',), ('B',), ('B',)], maxlen=5)\n"
     ]
    },
    {
     "name": "stderr",
     "output_type": "stream",
     "text": [
      "0: 608x800 1 Biodegradable, 248.1ms\n",
      "Speed: 3.0ms preprocess, 248.1ms inference, 1.0ms postprocess per image at shape (1, 3, 608, 800)\n",
      "\n"
     ]
    },
    {
     "name": "stdout",
     "output_type": "stream",
     "text": [
      "Labels: deque([('B',), ('B',), ('B',), ('B',), ('B',)], maxlen=5)\n"
     ]
    },
    {
     "name": "stderr",
     "output_type": "stream",
     "text": [
      "0: 608x800 1 Biodegradable, 247.9ms\n",
      "Speed: 0.0ms preprocess, 247.9ms inference, 0.0ms postprocess per image at shape (1, 3, 608, 800)\n",
      "\n"
     ]
    },
    {
     "name": "stdout",
     "output_type": "stream",
     "text": [
      "Labels: deque([('B',), ('B',), ('B',), ('B',), ('B',)], maxlen=5)\n"
     ]
    },
    {
     "name": "stderr",
     "output_type": "stream",
     "text": [
      "0: 608x800 1 Biodegradable, 236.6ms\n",
      "Speed: 1.6ms preprocess, 236.6ms inference, 0.0ms postprocess per image at shape (1, 3, 608, 800)\n",
      "\n"
     ]
    },
    {
     "name": "stdout",
     "output_type": "stream",
     "text": [
      "Labels: deque([('B',), ('B',), ('B',), ('B',), ('B',)], maxlen=5)\n"
     ]
    },
    {
     "name": "stderr",
     "output_type": "stream",
     "text": [
      "0: 608x800 1 Biodegradable, 265.2ms\n",
      "Speed: 0.0ms preprocess, 265.2ms inference, 0.0ms postprocess per image at shape (1, 3, 608, 800)\n",
      "\n"
     ]
    },
    {
     "name": "stdout",
     "output_type": "stream",
     "text": [
      "Labels: deque([('B',), ('B',), ('B',), ('B',), ('B',)], maxlen=5)\n"
     ]
    },
    {
     "name": "stderr",
     "output_type": "stream",
     "text": [
      "0: 608x800 1 Biodegradable, 234.6ms\n",
      "Speed: 0.0ms preprocess, 234.6ms inference, 0.0ms postprocess per image at shape (1, 3, 608, 800)\n",
      "\n"
     ]
    },
    {
     "name": "stdout",
     "output_type": "stream",
     "text": [
      "Response from ESP32: B CMD: Action for 'B' command\n",
      "Labels: deque([('B',), ('B',), ('B',), ('B',), ('B',)], maxlen=5)\n"
     ]
    },
    {
     "name": "stderr",
     "output_type": "stream",
     "text": [
      "0: 608x800 1 Biodegradable, 225.7ms\n",
      "Speed: 3.0ms preprocess, 225.7ms inference, 1.0ms postprocess per image at shape (1, 3, 608, 800)\n",
      "\n"
     ]
    },
    {
     "name": "stdout",
     "output_type": "stream",
     "text": [
      "Labels: deque([('B',), ('B',), ('B',), ('B',), ('B',)], maxlen=5)\n"
     ]
    },
    {
     "name": "stderr",
     "output_type": "stream",
     "text": [
      "0: 608x800 1 Biodegradable, 251.6ms\n",
      "Speed: 0.0ms preprocess, 251.6ms inference, 0.0ms postprocess per image at shape (1, 3, 608, 800)\n",
      "\n"
     ]
    },
    {
     "name": "stdout",
     "output_type": "stream",
     "text": [
      "Labels: deque([('B',), ('B',), ('B',), ('B',), ('B',)], maxlen=5)\n"
     ]
    },
    {
     "name": "stderr",
     "output_type": "stream",
     "text": [
      "0: 608x800 1 Biodegradable, 249.4ms\n",
      "Speed: 15.6ms preprocess, 249.4ms inference, 0.0ms postprocess per image at shape (1, 3, 608, 800)\n",
      "\n"
     ]
    },
    {
     "name": "stdout",
     "output_type": "stream",
     "text": [
      "Labels: deque([('B',), ('B',), ('B',), ('B',), ('B',)], maxlen=5)\n"
     ]
    },
    {
     "name": "stderr",
     "output_type": "stream",
     "text": [
      "0: 608x800 1 Biodegradable, 256.8ms\n",
      "Speed: 0.0ms preprocess, 256.8ms inference, 0.0ms postprocess per image at shape (1, 3, 608, 800)\n",
      "\n"
     ]
    },
    {
     "name": "stdout",
     "output_type": "stream",
     "text": [
      "Labels: deque([('B',), ('B',), ('B',), ('B',), ('B',)], maxlen=5)\n"
     ]
    },
    {
     "name": "stderr",
     "output_type": "stream",
     "text": [
      "0: 608x800 1 Biodegradable, 263.2ms\n",
      "Speed: 0.0ms preprocess, 263.2ms inference, 0.0ms postprocess per image at shape (1, 3, 608, 800)\n",
      "\n"
     ]
    },
    {
     "name": "stdout",
     "output_type": "stream",
     "text": [
      "Response from ESP32: B CMD: Action for 'B' command\n",
      "Labels: deque([('B',), ('B',), ('B',), ('B',), ('B',)], maxlen=5)\n"
     ]
    },
    {
     "name": "stderr",
     "output_type": "stream",
     "text": [
      "0: 608x800 1 Biodegradable, 234.9ms\n",
      "Speed: 0.0ms preprocess, 234.9ms inference, 0.0ms postprocess per image at shape (1, 3, 608, 800)\n",
      "\n"
     ]
    },
    {
     "name": "stdout",
     "output_type": "stream",
     "text": [
      "Labels: deque([('B',), ('B',), ('B',), ('B',), ('B',)], maxlen=5)\n"
     ]
    },
    {
     "name": "stderr",
     "output_type": "stream",
     "text": [
      "0: 608x800 1 Biodegradable, 241.9ms\n",
      "Speed: 15.6ms preprocess, 241.9ms inference, 4.0ms postprocess per image at shape (1, 3, 608, 800)\n",
      "\n"
     ]
    },
    {
     "name": "stdout",
     "output_type": "stream",
     "text": [
      "Labels: deque([('B',), ('B',), ('B',), ('B',), ('B',)], maxlen=5)\n"
     ]
    },
    {
     "name": "stderr",
     "output_type": "stream",
     "text": [
      "0: 608x800 1 Biodegradable, 249.0ms\n",
      "Speed: 15.6ms preprocess, 249.0ms inference, 0.0ms postprocess per image at shape (1, 3, 608, 800)\n",
      "\n"
     ]
    },
    {
     "name": "stdout",
     "output_type": "stream",
     "text": [
      "Labels: deque([('B',), ('B',), ('B',), ('B',), ('B',)], maxlen=5)\n"
     ]
    },
    {
     "name": "stderr",
     "output_type": "stream",
     "text": [
      "0: 608x800 1 Biodegradable, 236.8ms\n",
      "Speed: 17.1ms preprocess, 236.8ms inference, 0.0ms postprocess per image at shape (1, 3, 608, 800)\n",
      "\n"
     ]
    },
    {
     "name": "stdout",
     "output_type": "stream",
     "text": [
      "Labels: deque([('B',), ('B',), ('B',), ('B',), ('B',)], maxlen=5)\n"
     ]
    },
    {
     "name": "stderr",
     "output_type": "stream",
     "text": [
      "0: 608x800 1 Biodegradable, 261.7ms\n",
      "Speed: 12.6ms preprocess, 261.7ms inference, 0.0ms postprocess per image at shape (1, 3, 608, 800)\n",
      "\n"
     ]
    },
    {
     "name": "stdout",
     "output_type": "stream",
     "text": [
      "Response from ESP32: B CMD: Action for 'B' command\n",
      "Labels: deque([('B',), ('B',), ('B',), ('B',), ('B',)], maxlen=5)\n"
     ]
    },
    {
     "name": "stderr",
     "output_type": "stream",
     "text": [
      "0: 608x800 1 Biodegradable, 253.3ms\n",
      "Speed: 0.0ms preprocess, 253.3ms inference, 0.0ms postprocess per image at shape (1, 3, 608, 800)\n",
      "\n"
     ]
    },
    {
     "name": "stdout",
     "output_type": "stream",
     "text": [
      "Labels: deque([('B',), ('B',), ('B',), ('B',), ('B',)], maxlen=5)\n"
     ]
    },
    {
     "name": "stderr",
     "output_type": "stream",
     "text": [
      "0: 608x800 3 Biodegradables, 236.3ms\n",
      "Speed: 10.7ms preprocess, 236.3ms inference, 0.0ms postprocess per image at shape (1, 3, 608, 800)\n",
      "\n"
     ]
    },
    {
     "name": "stdout",
     "output_type": "stream",
     "text": [
      "Labels: deque([('B',), ('B',), ('B',), ('B',), ('B',)], maxlen=5)\n"
     ]
    },
    {
     "name": "stderr",
     "output_type": "stream",
     "text": [
      "0: 608x800 2 Biodegradables, 236.1ms\n",
      "Speed: 0.0ms preprocess, 236.1ms inference, 0.0ms postprocess per image at shape (1, 3, 608, 800)\n",
      "\n"
     ]
    },
    {
     "name": "stdout",
     "output_type": "stream",
     "text": [
      "Labels: deque([('B',), ('B',), ('B',), ('B',), ('B',)], maxlen=5)\n"
     ]
    },
    {
     "name": "stderr",
     "output_type": "stream",
     "text": [
      "0: 608x800 1 Biodegradable, 234.8ms\n",
      "Speed: 0.0ms preprocess, 234.8ms inference, 15.6ms postprocess per image at shape (1, 3, 608, 800)\n",
      "\n"
     ]
    },
    {
     "name": "stdout",
     "output_type": "stream",
     "text": [
      "Labels: deque([('B',), ('B',), ('B',), ('B',), ('B',)], maxlen=5)\n"
     ]
    },
    {
     "name": "stderr",
     "output_type": "stream",
     "text": [
      "0: 608x800 1 Biodegradable, 278.4ms\n",
      "Speed: 0.0ms preprocess, 278.4ms inference, 1.0ms postprocess per image at shape (1, 3, 608, 800)\n",
      "\n"
     ]
    },
    {
     "name": "stdout",
     "output_type": "stream",
     "text": [
      "Response from ESP32: B CMD: Action for 'B' command\n",
      "Labels: deque([('B',), ('B',), ('B',), ('B',), ('B',)], maxlen=5)\n"
     ]
    },
    {
     "name": "stderr",
     "output_type": "stream",
     "text": [
      "0: 608x800 2 Biodegradables, 235.8ms\n",
      "Speed: 2.1ms preprocess, 235.8ms inference, 0.0ms postprocess per image at shape (1, 3, 608, 800)\n",
      "\n"
     ]
    },
    {
     "name": "stdout",
     "output_type": "stream",
     "text": [
      "Labels: deque([('B',), ('B',), ('B',), ('B',), ('B',)], maxlen=5)\n"
     ]
    },
    {
     "name": "stderr",
     "output_type": "stream",
     "text": [
      "0: 608x800 1 Biodegradable, 250.4ms\n",
      "Speed: 0.0ms preprocess, 250.4ms inference, 0.0ms postprocess per image at shape (1, 3, 608, 800)\n",
      "\n"
     ]
    },
    {
     "name": "stdout",
     "output_type": "stream",
     "text": [
      "Labels: deque([('B',), ('B',), ('B',), ('B',), ('B',)], maxlen=5)\n"
     ]
    },
    {
     "name": "stderr",
     "output_type": "stream",
     "text": [
      "0: 608x800 1 Biodegradable, 242.4ms\n",
      "Speed: 13.3ms preprocess, 242.4ms inference, 0.0ms postprocess per image at shape (1, 3, 608, 800)\n",
      "\n"
     ]
    },
    {
     "name": "stdout",
     "output_type": "stream",
     "text": [
      "Labels: deque([('B',), ('B',), ('B',), ('B',), ('B',)], maxlen=5)\n"
     ]
    },
    {
     "name": "stderr",
     "output_type": "stream",
     "text": [
      "0: 608x800 1 Biodegradable, 1 Metal, 250.1ms\n",
      "Speed: 0.0ms preprocess, 250.1ms inference, 0.0ms postprocess per image at shape (1, 3, 608, 800)\n",
      "\n"
     ]
    },
    {
     "name": "stdout",
     "output_type": "stream",
     "text": [
      "Labels: deque([('B',), ('B',), ('B',), ('B',), ('m',)], maxlen=5)\n"
     ]
    },
    {
     "name": "stderr",
     "output_type": "stream",
     "text": [
      "0: 608x800 1 Biodegradable, 237.5ms\n",
      "Speed: 0.0ms preprocess, 237.5ms inference, 0.0ms postprocess per image at shape (1, 3, 608, 800)\n",
      "\n"
     ]
    },
    {
     "name": "stdout",
     "output_type": "stream",
     "text": [
      "Labels: deque([('B',), ('B',), ('B',), ('m',), ('B',)], maxlen=5)\n"
     ]
    },
    {
     "name": "stderr",
     "output_type": "stream",
     "text": [
      "0: 608x800 1 Biodegradable, 267.0ms\n",
      "Speed: 15.6ms preprocess, 267.0ms inference, 0.0ms postprocess per image at shape (1, 3, 608, 800)\n",
      "\n"
     ]
    },
    {
     "name": "stdout",
     "output_type": "stream",
     "text": [
      "Labels: deque([('B',), ('B',), ('m',), ('B',), ('B',)], maxlen=5)\n"
     ]
    },
    {
     "name": "stderr",
     "output_type": "stream",
     "text": [
      "0: 608x800 1 Biodegradable, 256.1ms\n",
      "Speed: 0.0ms preprocess, 256.1ms inference, 1.0ms postprocess per image at shape (1, 3, 608, 800)\n",
      "\n"
     ]
    },
    {
     "name": "stdout",
     "output_type": "stream",
     "text": [
      "Labels: deque([('B',), ('m',), ('B',), ('B',), ('B',)], maxlen=5)\n"
     ]
    },
    {
     "name": "stderr",
     "output_type": "stream",
     "text": [
      "0: 608x800 1 Metal, 231.1ms\n",
      "Speed: 15.6ms preprocess, 231.1ms inference, 0.0ms postprocess per image at shape (1, 3, 608, 800)\n",
      "\n"
     ]
    },
    {
     "name": "stdout",
     "output_type": "stream",
     "text": [
      "Labels: deque([('m',), ('B',), ('B',), ('B',), ('m',)], maxlen=5)\n"
     ]
    },
    {
     "name": "stderr",
     "output_type": "stream",
     "text": [
      "0: 608x800 1 Biodegradable, 243.7ms\n",
      "Speed: 15.6ms preprocess, 243.7ms inference, 0.0ms postprocess per image at shape (1, 3, 608, 800)\n",
      "\n"
     ]
    },
    {
     "name": "stdout",
     "output_type": "stream",
     "text": [
      "Labels: deque([('B',), ('B',), ('B',), ('m',), ('B',)], maxlen=5)\n"
     ]
    },
    {
     "name": "stderr",
     "output_type": "stream",
     "text": [
      "0: 608x800 1 Biodegradable, 262.7ms\n",
      "Speed: 0.0ms preprocess, 262.7ms inference, 0.0ms postprocess per image at shape (1, 3, 608, 800)\n",
      "\n"
     ]
    },
    {
     "name": "stdout",
     "output_type": "stream",
     "text": [
      "Labels: deque([('B',), ('B',), ('m',), ('B',), ('B',)], maxlen=5)\n"
     ]
    },
    {
     "name": "stderr",
     "output_type": "stream",
     "text": [
      "0: 608x800 1 Biodegradable, 272.6ms\n",
      "Speed: 0.0ms preprocess, 272.6ms inference, 0.0ms postprocess per image at shape (1, 3, 608, 800)\n",
      "\n"
     ]
    },
    {
     "name": "stdout",
     "output_type": "stream",
     "text": [
      "Labels: deque([('B',), ('m',), ('B',), ('B',), ('B',)], maxlen=5)\n"
     ]
    },
    {
     "name": "stderr",
     "output_type": "stream",
     "text": [
      "0: 608x800 1 Metal, 238.0ms\n",
      "Speed: 15.6ms preprocess, 238.0ms inference, 0.0ms postprocess per image at shape (1, 3, 608, 800)\n",
      "\n"
     ]
    },
    {
     "name": "stdout",
     "output_type": "stream",
     "text": [
      "Labels: deque([('m',), ('B',), ('B',), ('B',), ('m',)], maxlen=5)\n"
     ]
    },
    {
     "name": "stderr",
     "output_type": "stream",
     "text": [
      "0: 608x800 1 Metal, 236.1ms\n",
      "Speed: 17.6ms preprocess, 236.1ms inference, 0.0ms postprocess per image at shape (1, 3, 608, 800)\n",
      "\n"
     ]
    },
    {
     "name": "stdout",
     "output_type": "stream",
     "text": [
      "Labels: deque([('B',), ('B',), ('B',), ('m',), ('m',)], maxlen=5)\n"
     ]
    },
    {
     "name": "stderr",
     "output_type": "stream",
     "text": [
      "0: 608x800 1 Biodegradable, 245.8ms\n",
      "Speed: 18.8ms preprocess, 245.8ms inference, 0.0ms postprocess per image at shape (1, 3, 608, 800)\n",
      "\n"
     ]
    },
    {
     "name": "stdout",
     "output_type": "stream",
     "text": [
      "Labels: deque([('B',), ('B',), ('m',), ('m',), ('B',)], maxlen=5)\n"
     ]
    },
    {
     "name": "stderr",
     "output_type": "stream",
     "text": [
      "0: 608x800 1 Biodegradable, 246.5ms\n",
      "Speed: 15.6ms preprocess, 246.5ms inference, 0.0ms postprocess per image at shape (1, 3, 608, 800)\n",
      "\n"
     ]
    },
    {
     "name": "stdout",
     "output_type": "stream",
     "text": [
      "Labels: deque([('B',), ('m',), ('m',), ('B',), ('B',)], maxlen=5)\n"
     ]
    },
    {
     "name": "stderr",
     "output_type": "stream",
     "text": [
      "0: 608x800 1 Biodegradable, 244.1ms\n",
      "Speed: 5.7ms preprocess, 244.1ms inference, 0.0ms postprocess per image at shape (1, 3, 608, 800)\n",
      "\n"
     ]
    },
    {
     "name": "stdout",
     "output_type": "stream",
     "text": [
      "Labels: deque([('m',), ('m',), ('B',), ('B',), ('B',)], maxlen=5)\n"
     ]
    },
    {
     "name": "stderr",
     "output_type": "stream",
     "text": [
      "0: 608x800 1 Biodegradable, 1 Metal, 1 Plastic, 274.3ms\n",
      "Speed: 12.7ms preprocess, 274.3ms inference, 1.0ms postprocess per image at shape (1, 3, 608, 800)\n",
      "\n"
     ]
    },
    {
     "name": "stdout",
     "output_type": "stream",
     "text": [
      "Labels: deque([('m',), ('B',), ('B',), ('B',), ('m',)], maxlen=5)\n"
     ]
    },
    {
     "name": "stderr",
     "output_type": "stream",
     "text": [
      "0: 608x800 1 Biodegradable, 242.2ms\n",
      "Speed: 15.6ms preprocess, 242.2ms inference, 0.0ms postprocess per image at shape (1, 3, 608, 800)\n",
      "\n"
     ]
    },
    {
     "name": "stdout",
     "output_type": "stream",
     "text": [
      "Labels: deque([('B',), ('B',), ('B',), ('m',), ('B',)], maxlen=5)\n"
     ]
    },
    {
     "name": "stderr",
     "output_type": "stream",
     "text": [
      "0: 608x800 1 Biodegradable, 235.7ms\n",
      "Speed: 0.0ms preprocess, 235.7ms inference, 15.6ms postprocess per image at shape (1, 3, 608, 800)\n",
      "\n"
     ]
    },
    {
     "name": "stdout",
     "output_type": "stream",
     "text": [
      "Labels: deque([('B',), ('B',), ('m',), ('B',), ('B',)], maxlen=5)\n"
     ]
    },
    {
     "name": "stderr",
     "output_type": "stream",
     "text": [
      "0: 608x800 1 Metal, 255.4ms\n",
      "Speed: 0.0ms preprocess, 255.4ms inference, 0.0ms postprocess per image at shape (1, 3, 608, 800)\n",
      "\n"
     ]
    },
    {
     "name": "stdout",
     "output_type": "stream",
     "text": [
      "Labels: deque([('B',), ('m',), ('B',), ('B',), ('m',)], maxlen=5)\n"
     ]
    },
    {
     "name": "stderr",
     "output_type": "stream",
     "text": [
      "0: 608x800 1 Biodegradable, 237.3ms\n",
      "Speed: 15.6ms preprocess, 237.3ms inference, 0.0ms postprocess per image at shape (1, 3, 608, 800)\n",
      "\n"
     ]
    },
    {
     "name": "stdout",
     "output_type": "stream",
     "text": [
      "Labels: deque([('m',), ('B',), ('B',), ('m',), ('B',)], maxlen=5)\n"
     ]
    },
    {
     "name": "stderr",
     "output_type": "stream",
     "text": [
      "0: 608x800 1 Biodegradable, 262.6ms\n",
      "Speed: 0.0ms preprocess, 262.6ms inference, 0.0ms postprocess per image at shape (1, 3, 608, 800)\n",
      "\n"
     ]
    },
    {
     "name": "stdout",
     "output_type": "stream",
     "text": [
      "Labels: deque([('B',), ('B',), ('m',), ('B',), ('B',)], maxlen=5)\n"
     ]
    },
    {
     "name": "stderr",
     "output_type": "stream",
     "text": [
      "0: 608x800 2 Biodegradables, 238.6ms\n",
      "Speed: 15.3ms preprocess, 238.6ms inference, 0.0ms postprocess per image at shape (1, 3, 608, 800)\n",
      "\n"
     ]
    },
    {
     "name": "stdout",
     "output_type": "stream",
     "text": [
      "Labels: deque([('B',), ('m',), ('B',), ('B',), ('B',)], maxlen=5)\n"
     ]
    },
    {
     "name": "stderr",
     "output_type": "stream",
     "text": [
      "0: 608x800 1 Metal, 254.4ms\n",
      "Speed: 1.1ms preprocess, 254.4ms inference, 0.0ms postprocess per image at shape (1, 3, 608, 800)\n",
      "\n"
     ]
    },
    {
     "name": "stdout",
     "output_type": "stream",
     "text": [
      "Labels: deque([('m',), ('B',), ('B',), ('B',), ('m',)], maxlen=5)\n"
     ]
    },
    {
     "name": "stderr",
     "output_type": "stream",
     "text": [
      "0: 608x800 1 Metal, 249.2ms\n",
      "Speed: 0.0ms preprocess, 249.2ms inference, 0.0ms postprocess per image at shape (1, 3, 608, 800)\n",
      "\n"
     ]
    },
    {
     "name": "stdout",
     "output_type": "stream",
     "text": [
      "Labels: deque([('B',), ('B',), ('B',), ('m',), ('m',)], maxlen=5)\n"
     ]
    },
    {
     "name": "stderr",
     "output_type": "stream",
     "text": [
      "0: 608x800 1 Biodegradable, 259.2ms\n",
      "Speed: 12.0ms preprocess, 259.2ms inference, 1.0ms postprocess per image at shape (1, 3, 608, 800)\n",
      "\n"
     ]
    },
    {
     "name": "stdout",
     "output_type": "stream",
     "text": [
      "Labels: deque([('B',), ('B',), ('m',), ('m',), ('B',)], maxlen=5)\n"
     ]
    },
    {
     "name": "stderr",
     "output_type": "stream",
     "text": [
      "0: 608x800 1 Biodegradable, 1 Metal, 255.2ms\n",
      "Speed: 25.9ms preprocess, 255.2ms inference, 0.0ms postprocess per image at shape (1, 3, 608, 800)\n",
      "\n"
     ]
    },
    {
     "name": "stdout",
     "output_type": "stream",
     "text": [
      "Labels: deque([('B',), ('m',), ('m',), ('B',), ('B',)], maxlen=5)\n"
     ]
    },
    {
     "name": "stderr",
     "output_type": "stream",
     "text": [
      "0: 608x800 1 Biodegradable, 258.0ms\n",
      "Speed: 0.0ms preprocess, 258.0ms inference, 0.0ms postprocess per image at shape (1, 3, 608, 800)\n",
      "\n"
     ]
    },
    {
     "name": "stdout",
     "output_type": "stream",
     "text": [
      "Labels: deque([('m',), ('m',), ('B',), ('B',), ('B',)], maxlen=5)\n"
     ]
    },
    {
     "name": "stderr",
     "output_type": "stream",
     "text": [
      "0: 608x800 1 Biodegradable, 2 Metals, 257.4ms\n",
      "Speed: 0.0ms preprocess, 257.4ms inference, 0.0ms postprocess per image at shape (1, 3, 608, 800)\n",
      "\n"
     ]
    },
    {
     "name": "stdout",
     "output_type": "stream",
     "text": [
      "Labels: deque([('m',), ('B',), ('B',), ('B',), ('m',)], maxlen=5)\n"
     ]
    },
    {
     "name": "stderr",
     "output_type": "stream",
     "text": [
      "0: 608x800 1 Metal, 252.1ms\n",
      "Speed: 5.0ms preprocess, 252.1ms inference, 0.0ms postprocess per image at shape (1, 3, 608, 800)\n",
      "\n"
     ]
    },
    {
     "name": "stdout",
     "output_type": "stream",
     "text": [
      "Labels: deque([('B',), ('B',), ('B',), ('m',), ('m',)], maxlen=5)\n"
     ]
    },
    {
     "name": "stderr",
     "output_type": "stream",
     "text": [
      "0: 608x800 1 Biodegradable, 266.2ms\n",
      "Speed: 4.0ms preprocess, 266.2ms inference, 0.0ms postprocess per image at shape (1, 3, 608, 800)\n",
      "\n"
     ]
    },
    {
     "name": "stdout",
     "output_type": "stream",
     "text": [
      "Labels: deque([('B',), ('B',), ('m',), ('m',), ('B',)], maxlen=5)\n"
     ]
    },
    {
     "name": "stderr",
     "output_type": "stream",
     "text": [
      "0: 608x800 1 Biodegradable, 250.0ms\n",
      "Speed: 15.1ms preprocess, 250.0ms inference, 0.0ms postprocess per image at shape (1, 3, 608, 800)\n",
      "\n"
     ]
    },
    {
     "name": "stdout",
     "output_type": "stream",
     "text": [
      "Labels: deque([('B',), ('m',), ('m',), ('B',), ('B',)], maxlen=5)\n"
     ]
    },
    {
     "name": "stderr",
     "output_type": "stream",
     "text": [
      "0: 608x800 1 Metal, 257.0ms\n",
      "Speed: 6.5ms preprocess, 257.0ms inference, 0.0ms postprocess per image at shape (1, 3, 608, 800)\n",
      "\n"
     ]
    },
    {
     "name": "stdout",
     "output_type": "stream",
     "text": [
      "Labels: deque([('m',), ('m',), ('B',), ('B',), ('m',)], maxlen=5)\n"
     ]
    },
    {
     "name": "stderr",
     "output_type": "stream",
     "text": [
      "0: 608x800 1 Biodegradable, 253.9ms\n",
      "Speed: 0.0ms preprocess, 253.9ms inference, 0.0ms postprocess per image at shape (1, 3, 608, 800)\n",
      "\n"
     ]
    },
    {
     "name": "stdout",
     "output_type": "stream",
     "text": [
      "Labels: deque([('m',), ('B',), ('B',), ('m',), ('B',)], maxlen=5)\n"
     ]
    },
    {
     "name": "stderr",
     "output_type": "stream",
     "text": [
      "0: 608x800 1 Biodegradable, 253.7ms\n",
      "Speed: 6.0ms preprocess, 253.7ms inference, 3.6ms postprocess per image at shape (1, 3, 608, 800)\n",
      "\n"
     ]
    },
    {
     "name": "stdout",
     "output_type": "stream",
     "text": [
      "Labels: deque([('B',), ('B',), ('m',), ('B',), ('B',)], maxlen=5)\n"
     ]
    },
    {
     "name": "stderr",
     "output_type": "stream",
     "text": [
      "0: 608x800 1 Biodegradable, 278.8ms\n",
      "Speed: 0.5ms preprocess, 278.8ms inference, 0.0ms postprocess per image at shape (1, 3, 608, 800)\n",
      "\n"
     ]
    },
    {
     "name": "stdout",
     "output_type": "stream",
     "text": [
      "Labels: deque([('B',), ('m',), ('B',), ('B',), ('B',)], maxlen=5)\n"
     ]
    },
    {
     "name": "stderr",
     "output_type": "stream",
     "text": [
      "0: 608x800 1 Biodegradable, 250.0ms\n",
      "Speed: 0.0ms preprocess, 250.0ms inference, 0.0ms postprocess per image at shape (1, 3, 608, 800)\n",
      "\n"
     ]
    },
    {
     "name": "stdout",
     "output_type": "stream",
     "text": [
      "Labels: deque([('m',), ('B',), ('B',), ('B',), ('B',)], maxlen=5)\n"
     ]
    },
    {
     "name": "stderr",
     "output_type": "stream",
     "text": [
      "0: 608x800 1 Metal, 265.6ms\n",
      "Speed: 0.0ms preprocess, 265.6ms inference, 0.9ms postprocess per image at shape (1, 3, 608, 800)\n",
      "\n"
     ]
    },
    {
     "name": "stdout",
     "output_type": "stream",
     "text": [
      "Labels: deque([('B',), ('B',), ('B',), ('B',), ('m',)], maxlen=5)\n"
     ]
    },
    {
     "name": "stderr",
     "output_type": "stream",
     "text": [
      "0: 608x800 1 Biodegradable, 243.2ms\n",
      "Speed: 0.0ms preprocess, 243.2ms inference, 0.0ms postprocess per image at shape (1, 3, 608, 800)\n",
      "\n"
     ]
    },
    {
     "name": "stdout",
     "output_type": "stream",
     "text": [
      "Labels: deque([('B',), ('B',), ('B',), ('m',), ('B',)], maxlen=5)\n"
     ]
    },
    {
     "name": "stderr",
     "output_type": "stream",
     "text": [
      "0: 608x800 1 Biodegradable, 265.5ms\n",
      "Speed: 14.4ms preprocess, 265.5ms inference, 0.0ms postprocess per image at shape (1, 3, 608, 800)\n",
      "\n"
     ]
    },
    {
     "name": "stdout",
     "output_type": "stream",
     "text": [
      "Labels: deque([('B',), ('B',), ('m',), ('B',), ('B',)], maxlen=5)\n"
     ]
    },
    {
     "name": "stderr",
     "output_type": "stream",
     "text": [
      "0: 608x800 1 Biodegradable, 261.4ms\n",
      "Speed: 5.0ms preprocess, 261.4ms inference, 0.0ms postprocess per image at shape (1, 3, 608, 800)\n",
      "\n"
     ]
    },
    {
     "name": "stdout",
     "output_type": "stream",
     "text": [
      "Labels: deque([('B',), ('m',), ('B',), ('B',), ('B',)], maxlen=5)\n"
     ]
    },
    {
     "name": "stderr",
     "output_type": "stream",
     "text": [
      "0: 608x800 2 Biodegradables, 295.0ms\n",
      "Speed: 6.0ms preprocess, 295.0ms inference, 12.5ms postprocess per image at shape (1, 3, 608, 800)\n",
      "\n"
     ]
    },
    {
     "name": "stdout",
     "output_type": "stream",
     "text": [
      "Labels: deque([('m',), ('B',), ('B',), ('B',), ('B',)], maxlen=5)\n"
     ]
    },
    {
     "name": "stderr",
     "output_type": "stream",
     "text": [
      "0: 608x800 1 Biodegradable, 250.0ms\n",
      "Speed: 16.7ms preprocess, 250.0ms inference, 0.0ms postprocess per image at shape (1, 3, 608, 800)\n",
      "\n"
     ]
    },
    {
     "name": "stdout",
     "output_type": "stream",
     "text": [
      "Labels: deque([('B',), ('B',), ('B',), ('B',), ('B',)], maxlen=5)\n"
     ]
    },
    {
     "name": "stderr",
     "output_type": "stream",
     "text": [
      "0: 608x800 1 Biodegradable, 258.5ms\n",
      "Speed: 3.0ms preprocess, 258.5ms inference, 1.0ms postprocess per image at shape (1, 3, 608, 800)\n",
      "\n"
     ]
    },
    {
     "name": "stdout",
     "output_type": "stream",
     "text": [
      "Response from ESP32: B CMD: Action for 'B' command\n",
      "Labels: deque([('B',), ('B',), ('B',), ('B',), ('B',)], maxlen=5)\n"
     ]
    },
    {
     "name": "stderr",
     "output_type": "stream",
     "text": [
      "0: 608x800 1 Biodegradable, 249.1ms\n",
      "Speed: 3.5ms preprocess, 249.1ms inference, 1.0ms postprocess per image at shape (1, 3, 608, 800)\n",
      "\n"
     ]
    },
    {
     "name": "stdout",
     "output_type": "stream",
     "text": [
      "Labels: deque([('B',), ('B',), ('B',), ('B',), ('B',)], maxlen=5)\n"
     ]
    },
    {
     "name": "stderr",
     "output_type": "stream",
     "text": [
      "0: 608x800 1 Biodegradable, 229.9ms\n",
      "Speed: 5.0ms preprocess, 229.9ms inference, 0.0ms postprocess per image at shape (1, 3, 608, 800)\n",
      "\n"
     ]
    },
    {
     "name": "stdout",
     "output_type": "stream",
     "text": [
      "Labels: deque([('B',), ('B',), ('B',), ('B',), ('B',)], maxlen=5)\n"
     ]
    },
    {
     "name": "stderr",
     "output_type": "stream",
     "text": [
      "0: 608x800 1 Biodegradable, 252.5ms\n",
      "Speed: 16.6ms preprocess, 252.5ms inference, 0.0ms postprocess per image at shape (1, 3, 608, 800)\n",
      "\n"
     ]
    },
    {
     "name": "stdout",
     "output_type": "stream",
     "text": [
      "Labels: deque([('B',), ('B',), ('B',), ('B',), ('B',)], maxlen=5)\n"
     ]
    },
    {
     "name": "stderr",
     "output_type": "stream",
     "text": [
      "0: 608x800 1 Biodegradable, 249.8ms\n",
      "Speed: 0.0ms preprocess, 249.8ms inference, 0.0ms postprocess per image at shape (1, 3, 608, 800)\n",
      "\n"
     ]
    },
    {
     "name": "stdout",
     "output_type": "stream",
     "text": [
      "Labels: deque([('B',), ('B',), ('B',), ('B',), ('B',)], maxlen=5)\n"
     ]
    },
    {
     "name": "stderr",
     "output_type": "stream",
     "text": [
      "0: 608x800 1 Biodegradable, 237.9ms\n",
      "Speed: 5.0ms preprocess, 237.9ms inference, 0.0ms postprocess per image at shape (1, 3, 608, 800)\n",
      "\n"
     ]
    },
    {
     "name": "stdout",
     "output_type": "stream",
     "text": [
      "Response from ESP32: B CMD: Action for 'B' command\n",
      "Labels: deque([('B',), ('B',), ('B',), ('B',), ('B',)], maxlen=5)\n"
     ]
    },
    {
     "name": "stderr",
     "output_type": "stream",
     "text": [
      "0: 608x800 1 Biodegradable, 247.9ms\n",
      "Speed: 4.1ms preprocess, 247.9ms inference, 0.0ms postprocess per image at shape (1, 3, 608, 800)\n",
      "\n"
     ]
    },
    {
     "name": "stdout",
     "output_type": "stream",
     "text": [
      "Labels: deque([('B',), ('B',), ('B',), ('B',), ('B',)], maxlen=5)\n"
     ]
    },
    {
     "name": "stderr",
     "output_type": "stream",
     "text": [
      "0: 608x800 1 Biodegradable, 1 Glass, 245.6ms\n",
      "Speed: 0.0ms preprocess, 245.6ms inference, 0.0ms postprocess per image at shape (1, 3, 608, 800)\n",
      "\n"
     ]
    },
    {
     "name": "stdout",
     "output_type": "stream",
     "text": [
      "Labels: deque([('B',), ('B',), ('B',), ('B',), ('B',)], maxlen=5)\n"
     ]
    },
    {
     "name": "stderr",
     "output_type": "stream",
     "text": [
      "0: 608x800 1 Biodegradable, 259.2ms\n",
      "Speed: 4.0ms preprocess, 259.2ms inference, 10.9ms postprocess per image at shape (1, 3, 608, 800)\n",
      "\n"
     ]
    },
    {
     "name": "stdout",
     "output_type": "stream",
     "text": [
      "Labels: deque([('B',), ('B',), ('B',), ('B',), ('B',)], maxlen=5)\n"
     ]
    },
    {
     "name": "stderr",
     "output_type": "stream",
     "text": [
      "0: 608x800 1 Biodegradable, 286.9ms\n",
      "Speed: 7.0ms preprocess, 286.9ms inference, 0.0ms postprocess per image at shape (1, 3, 608, 800)\n",
      "\n"
     ]
    },
    {
     "name": "stdout",
     "output_type": "stream",
     "text": [
      "Labels: deque([('B',), ('B',), ('B',), ('B',), ('B',)], maxlen=5)\n"
     ]
    },
    {
     "name": "stderr",
     "output_type": "stream",
     "text": [
      "0: 608x800 1 Biodegradable, 247.8ms\n",
      "Speed: 0.0ms preprocess, 247.8ms inference, 1.0ms postprocess per image at shape (1, 3, 608, 800)\n",
      "\n"
     ]
    },
    {
     "name": "stdout",
     "output_type": "stream",
     "text": [
      "Response from ESP32: B CMD: Action for 'B' command\n",
      "Labels: deque([('B',), ('B',), ('B',), ('B',), ('B',)], maxlen=5)\n"
     ]
    },
    {
     "name": "stderr",
     "output_type": "stream",
     "text": [
      "0: 608x800 1 Biodegradable, 241.3ms\n",
      "Speed: 3.0ms preprocess, 241.3ms inference, 0.0ms postprocess per image at shape (1, 3, 608, 800)\n",
      "\n"
     ]
    },
    {
     "name": "stdout",
     "output_type": "stream",
     "text": [
      "Labels: deque([('B',), ('B',), ('B',), ('B',), ('B',)], maxlen=5)\n"
     ]
    },
    {
     "name": "stderr",
     "output_type": "stream",
     "text": [
      "0: 608x800 1 Biodegradable, 239.7ms\n",
      "Speed: 4.6ms preprocess, 239.7ms inference, 0.0ms postprocess per image at shape (1, 3, 608, 800)\n",
      "\n"
     ]
    },
    {
     "name": "stdout",
     "output_type": "stream",
     "text": [
      "Labels: deque([('B',), ('B',), ('B',), ('B',), ('B',)], maxlen=5)\n"
     ]
    },
    {
     "name": "stderr",
     "output_type": "stream",
     "text": [
      "0: 608x800 1 Biodegradable, 247.8ms\n",
      "Speed: 3.5ms preprocess, 247.8ms inference, 0.0ms postprocess per image at shape (1, 3, 608, 800)\n",
      "\n"
     ]
    },
    {
     "name": "stdout",
     "output_type": "stream",
     "text": [
      "Labels: deque([('B',), ('B',), ('B',), ('B',), ('B',)], maxlen=5)\n"
     ]
    },
    {
     "name": "stderr",
     "output_type": "stream",
     "text": [
      "0: 608x800 1 Biodegradable, 241.5ms\n",
      "Speed: 4.1ms preprocess, 241.5ms inference, 0.0ms postprocess per image at shape (1, 3, 608, 800)\n",
      "\n"
     ]
    },
    {
     "name": "stdout",
     "output_type": "stream",
     "text": [
      "Labels: deque([('B',), ('B',), ('B',), ('B',), ('B',)], maxlen=5)\n"
     ]
    },
    {
     "name": "stderr",
     "output_type": "stream",
     "text": [
      "0: 608x800 1 Biodegradable, 358.2ms\n",
      "Speed: 6.0ms preprocess, 358.2ms inference, 1.0ms postprocess per image at shape (1, 3, 608, 800)\n",
      "\n"
     ]
    },
    {
     "name": "stdout",
     "output_type": "stream",
     "text": [
      "Response from ESP32: B CMD: Action for 'B' command\n",
      "Labels: deque([('B',), ('B',), ('B',), ('B',), ('B',)], maxlen=5)\n"
     ]
    },
    {
     "name": "stderr",
     "output_type": "stream",
     "text": [
      "0: 608x800 1 Biodegradable, 272.2ms\n",
      "Speed: 4.4ms preprocess, 272.2ms inference, 1.7ms postprocess per image at shape (1, 3, 608, 800)\n",
      "\n"
     ]
    },
    {
     "name": "stdout",
     "output_type": "stream",
     "text": [
      "Labels: deque([('B',), ('B',), ('B',), ('B',), ('B',)], maxlen=5)\n"
     ]
    },
    {
     "name": "stderr",
     "output_type": "stream",
     "text": [
      "0: 608x800 1 Biodegradable, 266.4ms\n",
      "Speed: 0.0ms preprocess, 266.4ms inference, 0.0ms postprocess per image at shape (1, 3, 608, 800)\n",
      "\n"
     ]
    },
    {
     "name": "stdout",
     "output_type": "stream",
     "text": [
      "Labels: deque([('B',), ('B',), ('B',), ('B',), ('B',)], maxlen=5)\n"
     ]
    },
    {
     "name": "stderr",
     "output_type": "stream",
     "text": [
      "0: 608x800 1 Biodegradable, 1 Metal, 275.6ms\n",
      "Speed: 0.0ms preprocess, 275.6ms inference, 1.0ms postprocess per image at shape (1, 3, 608, 800)\n",
      "\n"
     ]
    },
    {
     "name": "stdout",
     "output_type": "stream",
     "text": [
      "Labels: deque([('B',), ('B',), ('B',), ('B',), ('m',)], maxlen=5)\n"
     ]
    },
    {
     "name": "stderr",
     "output_type": "stream",
     "text": [
      "0: 608x800 1 Biodegradable, 266.6ms\n",
      "Speed: 13.6ms preprocess, 266.6ms inference, 1.0ms postprocess per image at shape (1, 3, 608, 800)\n",
      "\n"
     ]
    },
    {
     "name": "stdout",
     "output_type": "stream",
     "text": [
      "Labels: deque([('B',), ('B',), ('B',), ('m',), ('B',)], maxlen=5)\n"
     ]
    },
    {
     "name": "stderr",
     "output_type": "stream",
     "text": [
      "0: 608x800 1 Biodegradable, 299.7ms\n",
      "Speed: 0.0ms preprocess, 299.7ms inference, 0.0ms postprocess per image at shape (1, 3, 608, 800)\n",
      "\n"
     ]
    },
    {
     "name": "stdout",
     "output_type": "stream",
     "text": [
      "Labels: deque([('B',), ('B',), ('m',), ('B',), ('B',)], maxlen=5)\n"
     ]
    },
    {
     "name": "stderr",
     "output_type": "stream",
     "text": [
      "0: 608x800 1 Biodegradable, 276.5ms\n",
      "Speed: 0.0ms preprocess, 276.5ms inference, 1.0ms postprocess per image at shape (1, 3, 608, 800)\n",
      "\n"
     ]
    },
    {
     "name": "stdout",
     "output_type": "stream",
     "text": [
      "Labels: deque([('B',), ('m',), ('B',), ('B',), ('B',)], maxlen=5)\n"
     ]
    },
    {
     "name": "stderr",
     "output_type": "stream",
     "text": [
      "0: 608x800 1 Biodegradable, 250.0ms\n",
      "Speed: 16.7ms preprocess, 250.0ms inference, 0.0ms postprocess per image at shape (1, 3, 608, 800)\n",
      "\n"
     ]
    },
    {
     "name": "stdout",
     "output_type": "stream",
     "text": [
      "Labels: deque([('m',), ('B',), ('B',), ('B',), ('B',)], maxlen=5)\n"
     ]
    },
    {
     "name": "stderr",
     "output_type": "stream",
     "text": [
      "0: 608x800 1 Metal, 251.1ms\n",
      "Speed: 4.0ms preprocess, 251.1ms inference, 0.0ms postprocess per image at shape (1, 3, 608, 800)\n",
      "\n"
     ]
    },
    {
     "name": "stdout",
     "output_type": "stream",
     "text": [
      "Labels: deque([('B',), ('B',), ('B',), ('B',), ('m',)], maxlen=5)\n"
     ]
    },
    {
     "name": "stderr",
     "output_type": "stream",
     "text": [
      "0: 608x800 1 Biodegradable, 247.3ms\n",
      "Speed: 0.0ms preprocess, 247.3ms inference, 0.0ms postprocess per image at shape (1, 3, 608, 800)\n",
      "\n"
     ]
    },
    {
     "name": "stdout",
     "output_type": "stream",
     "text": [
      "Labels: deque([('B',), ('B',), ('B',), ('m',), ('B',)], maxlen=5)\n"
     ]
    },
    {
     "name": "stderr",
     "output_type": "stream",
     "text": [
      "0: 608x800 (no detections), 283.2ms\n",
      "Speed: 0.0ms preprocess, 283.2ms inference, 0.0ms postprocess per image at shape (1, 3, 608, 800)\n",
      "\n"
     ]
    },
    {
     "name": "stdout",
     "output_type": "stream",
     "text": [
      "Labels: deque([('B',), ('B',), ('m',), ('B',), ()], maxlen=5)\n"
     ]
    },
    {
     "name": "stderr",
     "output_type": "stream",
     "text": [
      "0: 608x800 1 Biodegradable, 249.1ms\n",
      "Speed: 1.1ms preprocess, 249.1ms inference, 1.3ms postprocess per image at shape (1, 3, 608, 800)\n",
      "\n"
     ]
    },
    {
     "name": "stdout",
     "output_type": "stream",
     "text": [
      "Labels: deque([('B',), ('m',), ('B',), (), ('B',)], maxlen=5)\n"
     ]
    },
    {
     "name": "stderr",
     "output_type": "stream",
     "text": [
      "0: 608x800 1 Biodegradable, 249.5ms\n",
      "Speed: 15.6ms preprocess, 249.5ms inference, 1.0ms postprocess per image at shape (1, 3, 608, 800)\n",
      "\n"
     ]
    },
    {
     "name": "stdout",
     "output_type": "stream",
     "text": [
      "Labels: deque([('m',), ('B',), (), ('B',), ('B',)], maxlen=5)\n"
     ]
    },
    {
     "name": "stderr",
     "output_type": "stream",
     "text": [
      "0: 608x800 1 Biodegradable, 234.8ms\n",
      "Speed: 5.0ms preprocess, 234.8ms inference, 0.0ms postprocess per image at shape (1, 3, 608, 800)\n",
      "\n"
     ]
    },
    {
     "name": "stdout",
     "output_type": "stream",
     "text": [
      "Labels: deque([('B',), (), ('B',), ('B',), ('B',)], maxlen=5)\n"
     ]
    },
    {
     "name": "stderr",
     "output_type": "stream",
     "text": [
      "0: 608x800 (no detections), 250.2ms\n",
      "Speed: 0.0ms preprocess, 250.2ms inference, 0.0ms postprocess per image at shape (1, 3, 608, 800)\n",
      "\n"
     ]
    },
    {
     "name": "stdout",
     "output_type": "stream",
     "text": [
      "Labels: deque([(), ('B',), ('B',), ('B',), ()], maxlen=5)\n"
     ]
    },
    {
     "name": "stderr",
     "output_type": "stream",
     "text": [
      "0: 608x800 (no detections), 283.1ms\n",
      "Speed: 0.0ms preprocess, 283.1ms inference, 15.9ms postprocess per image at shape (1, 3, 608, 800)\n",
      "\n"
     ]
    },
    {
     "name": "stdout",
     "output_type": "stream",
     "text": [
      "Labels: deque([('B',), ('B',), ('B',), (), ()], maxlen=5)\n"
     ]
    },
    {
     "name": "stderr",
     "output_type": "stream",
     "text": [
      "0: 608x800 1 Metal, 250.1ms\n",
      "Speed: 0.0ms preprocess, 250.1ms inference, 0.0ms postprocess per image at shape (1, 3, 608, 800)\n",
      "\n"
     ]
    },
    {
     "name": "stdout",
     "output_type": "stream",
     "text": [
      "Labels: deque([('B',), ('B',), (), (), ('m',)], maxlen=5)\n"
     ]
    },
    {
     "name": "stderr",
     "output_type": "stream",
     "text": [
      "0: 608x800 (no detections), 241.0ms\n",
      "Speed: 0.0ms preprocess, 241.0ms inference, 0.0ms postprocess per image at shape (1, 3, 608, 800)\n",
      "\n"
     ]
    },
    {
     "name": "stdout",
     "output_type": "stream",
     "text": [
      "Labels: deque([('B',), (), (), ('m',), ()], maxlen=5)\n"
     ]
    },
    {
     "name": "stderr",
     "output_type": "stream",
     "text": [
      "0: 608x800 1 Biodegradable, 251.6ms\n",
      "Speed: 4.0ms preprocess, 251.6ms inference, 0.0ms postprocess per image at shape (1, 3, 608, 800)\n",
      "\n"
     ]
    },
    {
     "name": "stdout",
     "output_type": "stream",
     "text": [
      "Labels: deque([(), (), ('m',), (), ('B',)], maxlen=5)\n"
     ]
    },
    {
     "name": "stderr",
     "output_type": "stream",
     "text": [
      "0: 608x800 1 Biodegradable, 279.9ms\n",
      "Speed: 0.0ms preprocess, 279.9ms inference, 0.0ms postprocess per image at shape (1, 3, 608, 800)\n",
      "\n"
     ]
    },
    {
     "name": "stdout",
     "output_type": "stream",
     "text": [
      "Labels: deque([(), ('m',), (), ('B',), ('B',)], maxlen=5)\n"
     ]
    },
    {
     "name": "stderr",
     "output_type": "stream",
     "text": [
      "0: 608x800 1 Biodegradable, 254.4ms\n",
      "Speed: 15.8ms preprocess, 254.4ms inference, 0.0ms postprocess per image at shape (1, 3, 608, 800)\n",
      "\n"
     ]
    },
    {
     "name": "stdout",
     "output_type": "stream",
     "text": [
      "Labels: deque([('m',), (), ('B',), ('B',), ('B',)], maxlen=5)\n"
     ]
    },
    {
     "name": "stderr",
     "output_type": "stream",
     "text": [
      "0: 608x800 1 Biodegradable, 265.7ms\n",
      "Speed: 0.0ms preprocess, 265.7ms inference, 1.1ms postprocess per image at shape (1, 3, 608, 800)\n",
      "\n"
     ]
    },
    {
     "name": "stdout",
     "output_type": "stream",
     "text": [
      "Labels: deque([(), ('B',), ('B',), ('B',), ('B',)], maxlen=5)\n"
     ]
    },
    {
     "name": "stderr",
     "output_type": "stream",
     "text": [
      "0: 608x800 1 Metal, 266.6ms\n",
      "Speed: 0.0ms preprocess, 266.6ms inference, 0.0ms postprocess per image at shape (1, 3, 608, 800)\n",
      "\n"
     ]
    },
    {
     "name": "stdout",
     "output_type": "stream",
     "text": [
      "Labels: deque([('B',), ('B',), ('B',), ('B',), ('m',)], maxlen=5)\n"
     ]
    },
    {
     "name": "stderr",
     "output_type": "stream",
     "text": [
      "0: 608x800 1 Biodegradable, 250.1ms\n",
      "Speed: 16.6ms preprocess, 250.1ms inference, 0.0ms postprocess per image at shape (1, 3, 608, 800)\n",
      "\n"
     ]
    },
    {
     "name": "stdout",
     "output_type": "stream",
     "text": [
      "Labels: deque([('B',), ('B',), ('B',), ('m',), ('B',)], maxlen=5)\n"
     ]
    },
    {
     "name": "stderr",
     "output_type": "stream",
     "text": [
      "0: 608x800 2 Biodegradables, 284.7ms\n",
      "Speed: 0.0ms preprocess, 284.7ms inference, 0.0ms postprocess per image at shape (1, 3, 608, 800)\n",
      "\n"
     ]
    },
    {
     "name": "stdout",
     "output_type": "stream",
     "text": [
      "Labels: deque([('B',), ('B',), ('m',), ('B',), ('B',)], maxlen=5)\n"
     ]
    },
    {
     "name": "stderr",
     "output_type": "stream",
     "text": [
      "0: 608x800 1 Biodegradable, 260.6ms\n",
      "Speed: 0.0ms preprocess, 260.6ms inference, 0.0ms postprocess per image at shape (1, 3, 608, 800)\n",
      "\n"
     ]
    },
    {
     "name": "stdout",
     "output_type": "stream",
     "text": [
      "Labels: deque([('B',), ('m',), ('B',), ('B',), ('B',)], maxlen=5)\n"
     ]
    },
    {
     "name": "stderr",
     "output_type": "stream",
     "text": [
      "0: 608x800 1 Biodegradable, 260.5ms\n",
      "Speed: 0.0ms preprocess, 260.5ms inference, 0.0ms postprocess per image at shape (1, 3, 608, 800)\n",
      "\n"
     ]
    },
    {
     "name": "stdout",
     "output_type": "stream",
     "text": [
      "Labels: deque([('m',), ('B',), ('B',), ('B',), ('B',)], maxlen=5)\n"
     ]
    },
    {
     "name": "stderr",
     "output_type": "stream",
     "text": [
      "0: 608x800 2 Biodegradables, 255.9ms\n",
      "Speed: 0.0ms preprocess, 255.9ms inference, 0.0ms postprocess per image at shape (1, 3, 608, 800)\n",
      "\n"
     ]
    },
    {
     "name": "stdout",
     "output_type": "stream",
     "text": [
      "Labels: deque([('B',), ('B',), ('B',), ('B',), ('B',)], maxlen=5)\n"
     ]
    },
    {
     "name": "stderr",
     "output_type": "stream",
     "text": [
      "0: 608x800 1 Biodegradable, 245.2ms\n",
      "Speed: 14.4ms preprocess, 245.2ms inference, 0.0ms postprocess per image at shape (1, 3, 608, 800)\n",
      "\n"
     ]
    },
    {
     "name": "stdout",
     "output_type": "stream",
     "text": [
      "Labels: deque([('B',), ('B',), ('B',), ('B',), ('B',)], maxlen=5)\n"
     ]
    },
    {
     "name": "stderr",
     "output_type": "stream",
     "text": [
      "0: 608x800 1 Biodegradable, 322.8ms\n",
      "Speed: 0.0ms preprocess, 322.8ms inference, 0.0ms postprocess per image at shape (1, 3, 608, 800)\n",
      "\n"
     ]
    },
    {
     "name": "stdout",
     "output_type": "stream",
     "text": [
      "Response from ESP32: B CMD: Action for 'B' command\n",
      "Labels: deque([('B',), ('B',), ('B',), ('B',), ('B',)], maxlen=5)\n"
     ]
    },
    {
     "name": "stderr",
     "output_type": "stream",
     "text": [
      "0: 608x800 1 Biodegradable, 254.8ms\n",
      "Speed: 1.1ms preprocess, 254.8ms inference, 1.0ms postprocess per image at shape (1, 3, 608, 800)\n",
      "\n"
     ]
    },
    {
     "name": "stdout",
     "output_type": "stream",
     "text": [
      "Labels: deque([('B',), ('B',), ('B',), ('B',), ('B',)], maxlen=5)\n"
     ]
    },
    {
     "name": "stderr",
     "output_type": "stream",
     "text": [
      "0: 608x800 1 Biodegradable, 264.3ms\n",
      "Speed: 5.0ms preprocess, 264.3ms inference, 1.0ms postprocess per image at shape (1, 3, 608, 800)\n",
      "\n"
     ]
    },
    {
     "name": "stdout",
     "output_type": "stream",
     "text": [
      "Labels: deque([('B',), ('B',), ('B',), ('B',), ('B',)], maxlen=5)\n"
     ]
    },
    {
     "name": "stderr",
     "output_type": "stream",
     "text": [
      "0: 608x800 1 Biodegradable, 257.3ms\n",
      "Speed: 6.0ms preprocess, 257.3ms inference, 0.0ms postprocess per image at shape (1, 3, 608, 800)\n",
      "\n"
     ]
    },
    {
     "name": "stdout",
     "output_type": "stream",
     "text": [
      "Labels: deque([('B',), ('B',), ('B',), ('B',), ('B',)], maxlen=5)\n"
     ]
    },
    {
     "name": "stderr",
     "output_type": "stream",
     "text": [
      "0: 608x800 1 Biodegradable, 232.5ms\n",
      "Speed: 19.3ms preprocess, 232.5ms inference, 0.0ms postprocess per image at shape (1, 3, 608, 800)\n",
      "\n"
     ]
    },
    {
     "name": "stdout",
     "output_type": "stream",
     "text": [
      "Labels: deque([('B',), ('B',), ('B',), ('B',), ('B',)], maxlen=5)\n"
     ]
    },
    {
     "name": "stderr",
     "output_type": "stream",
     "text": [
      "0: 608x800 1 Biodegradable, 280.9ms\n",
      "Speed: 18.1ms preprocess, 280.9ms inference, 0.0ms postprocess per image at shape (1, 3, 608, 800)\n",
      "\n"
     ]
    },
    {
     "name": "stdout",
     "output_type": "stream",
     "text": [
      "Response from ESP32: B CMD: Action for 'B' command\n",
      "Labels: deque([('B',), ('B',), ('B',), ('B',), ('B',)], maxlen=5)\n"
     ]
    },
    {
     "name": "stderr",
     "output_type": "stream",
     "text": [
      "0: 608x800 1 Biodegradable, 272.7ms\n",
      "Speed: 4.6ms preprocess, 272.7ms inference, 1.1ms postprocess per image at shape (1, 3, 608, 800)\n",
      "\n"
     ]
    },
    {
     "name": "stdout",
     "output_type": "stream",
     "text": [
      "Labels: deque([('B',), ('B',), ('B',), ('B',), ('B',)], maxlen=5)\n"
     ]
    },
    {
     "name": "stderr",
     "output_type": "stream",
     "text": [
      "0: 608x800 1 Biodegradable, 263.2ms\n",
      "Speed: 0.0ms preprocess, 263.2ms inference, 1.0ms postprocess per image at shape (1, 3, 608, 800)\n",
      "\n"
     ]
    },
    {
     "name": "stdout",
     "output_type": "stream",
     "text": [
      "Labels: deque([('B',), ('B',), ('B',), ('B',), ('B',)], maxlen=5)\n"
     ]
    },
    {
     "name": "stderr",
     "output_type": "stream",
     "text": [
      "0: 608x800 1 Biodegradable, 264.8ms\n",
      "Speed: 4.0ms preprocess, 264.8ms inference, 0.0ms postprocess per image at shape (1, 3, 608, 800)\n",
      "\n"
     ]
    },
    {
     "name": "stdout",
     "output_type": "stream",
     "text": [
      "Labels: deque([('B',), ('B',), ('B',), ('B',), ('B',)], maxlen=5)\n"
     ]
    },
    {
     "name": "stderr",
     "output_type": "stream",
     "text": [
      "0: 608x800 1 Biodegradable, 278.4ms\n",
      "Speed: 0.0ms preprocess, 278.4ms inference, 2.0ms postprocess per image at shape (1, 3, 608, 800)\n",
      "\n"
     ]
    },
    {
     "name": "stdout",
     "output_type": "stream",
     "text": [
      "Labels: deque([('B',), ('B',), ('B',), ('B',), ('B',)], maxlen=5)\n"
     ]
    },
    {
     "name": "stderr",
     "output_type": "stream",
     "text": [
      "0: 608x800 1 Biodegradable, 273.6ms\n",
      "Speed: 15.6ms preprocess, 273.6ms inference, 0.0ms postprocess per image at shape (1, 3, 608, 800)\n",
      "\n"
     ]
    },
    {
     "name": "stdout",
     "output_type": "stream",
     "text": [
      "Response from ESP32: B CMD: Action for 'B' command\n",
      "Labels: deque([('B',), ('B',), ('B',), ('B',), ('B',)], maxlen=5)\n"
     ]
    },
    {
     "name": "stderr",
     "output_type": "stream",
     "text": [
      "0: 608x800 1 Glass, 1 Plastic, 262.3ms\n",
      "Speed: 5.0ms preprocess, 262.3ms inference, 0.0ms postprocess per image at shape (1, 3, 608, 800)\n",
      "\n"
     ]
    },
    {
     "name": "stdout",
     "output_type": "stream",
     "text": [
      "Labels: deque([('B',), ('B',), ('B',), ('B',), ('P',)], maxlen=5)\n"
     ]
    },
    {
     "name": "stderr",
     "output_type": "stream",
     "text": [
      "0: 608x800 1 Glass, 1 Plastic, 272.5ms\n",
      "Speed: 0.0ms preprocess, 272.5ms inference, 0.0ms postprocess per image at shape (1, 3, 608, 800)\n",
      "\n"
     ]
    },
    {
     "name": "stdout",
     "output_type": "stream",
     "text": [
      "Labels: deque([('B',), ('B',), ('B',), ('P',), ('P',)], maxlen=5)\n"
     ]
    },
    {
     "name": "stderr",
     "output_type": "stream",
     "text": [
      "0: 608x800 1 Plastic, 280.6ms\n",
      "Speed: 14.7ms preprocess, 280.6ms inference, 1.0ms postprocess per image at shape (1, 3, 608, 800)\n",
      "\n"
     ]
    },
    {
     "name": "stdout",
     "output_type": "stream",
     "text": [
      "Labels: deque([('B',), ('B',), ('P',), ('P',), ('P',)], maxlen=5)\n"
     ]
    },
    {
     "ename": "KeyboardInterrupt",
     "evalue": "",
     "output_type": "error",
     "traceback": [
      "\u001b[1;31m---------------------------------------------------------------------------\u001b[0m",
      "\u001b[1;31mKeyboardInterrupt\u001b[0m                         Traceback (most recent call last)",
      "\u001b[1;32me:\\waste_detection\\predict_waste.ipynb Cell 15\u001b[0m line \u001b[0;36m5\n\u001b[0;32m     <a href='vscode-notebook-cell:/e%3A/waste_detection/predict_waste.ipynb#X20sZmlsZQ%3D%3D?line=46'>47</a>\u001b[0m resized_frame \u001b[39m=\u001b[39m cv2\u001b[39m.\u001b[39mresize(frame, (\u001b[39m640\u001b[39m, \u001b[39m480\u001b[39m))\n\u001b[0;32m     <a href='vscode-notebook-cell:/e%3A/waste_detection/predict_waste.ipynb#X20sZmlsZQ%3D%3D?line=48'>49</a>\u001b[0m \u001b[39m# Perform object detection on the resized frame\u001b[39;00m\n\u001b[1;32m---> <a href='vscode-notebook-cell:/e%3A/waste_detection/predict_waste.ipynb#X20sZmlsZQ%3D%3D?line=49'>50</a>\u001b[0m results \u001b[39m=\u001b[39m model(resized_frame)\n\u001b[0;32m     <a href='vscode-notebook-cell:/e%3A/waste_detection/predict_waste.ipynb#X20sZmlsZQ%3D%3D?line=51'>52</a>\u001b[0m \u001b[39m# Store labels for the current frame\u001b[39;00m\n\u001b[0;32m     <a href='vscode-notebook-cell:/e%3A/waste_detection/predict_waste.ipynb#X20sZmlsZQ%3D%3D?line=52'>53</a>\u001b[0m current_labels \u001b[39m=\u001b[39m []\n",
      "File \u001b[1;32mc:\\Users\\Nikhil I J\\anaconda3\\envs\\torchGEnv\\lib\\site-packages\\ultralytics\\engine\\model.py:101\u001b[0m, in \u001b[0;36mModel.__call__\u001b[1;34m(self, source, stream, **kwargs)\u001b[0m\n\u001b[0;32m     99\u001b[0m \u001b[39mdef\u001b[39;00m \u001b[39m__call__\u001b[39m(\u001b[39mself\u001b[39m, source\u001b[39m=\u001b[39m\u001b[39mNone\u001b[39;00m, stream\u001b[39m=\u001b[39m\u001b[39mFalse\u001b[39;00m, \u001b[39m*\u001b[39m\u001b[39m*\u001b[39mkwargs):\n\u001b[0;32m    100\u001b[0m \u001b[39m    \u001b[39m\u001b[39m\"\"\"Calls the 'predict' function with given arguments to perform object detection.\"\"\"\u001b[39;00m\n\u001b[1;32m--> 101\u001b[0m     \u001b[39mreturn\u001b[39;00m \u001b[39mself\u001b[39;49m\u001b[39m.\u001b[39;49mpredict(source, stream, \u001b[39m*\u001b[39;49m\u001b[39m*\u001b[39;49mkwargs)\n",
      "File \u001b[1;32mc:\\Users\\Nikhil I J\\anaconda3\\envs\\torchGEnv\\lib\\site-packages\\ultralytics\\engine\\model.py:242\u001b[0m, in \u001b[0;36mModel.predict\u001b[1;34m(self, source, stream, predictor, **kwargs)\u001b[0m\n\u001b[0;32m    240\u001b[0m \u001b[39mif\u001b[39;00m prompts \u001b[39mand\u001b[39;00m \u001b[39mhasattr\u001b[39m(\u001b[39mself\u001b[39m\u001b[39m.\u001b[39mpredictor, \u001b[39m'\u001b[39m\u001b[39mset_prompts\u001b[39m\u001b[39m'\u001b[39m):  \u001b[39m# for SAM-type models\u001b[39;00m\n\u001b[0;32m    241\u001b[0m     \u001b[39mself\u001b[39m\u001b[39m.\u001b[39mpredictor\u001b[39m.\u001b[39mset_prompts(prompts)\n\u001b[1;32m--> 242\u001b[0m \u001b[39mreturn\u001b[39;00m \u001b[39mself\u001b[39m\u001b[39m.\u001b[39mpredictor\u001b[39m.\u001b[39mpredict_cli(source\u001b[39m=\u001b[39msource) \u001b[39mif\u001b[39;00m is_cli \u001b[39melse\u001b[39;00m \u001b[39mself\u001b[39;49m\u001b[39m.\u001b[39;49mpredictor(source\u001b[39m=\u001b[39;49msource, stream\u001b[39m=\u001b[39;49mstream)\n",
      "File \u001b[1;32mc:\\Users\\Nikhil I J\\anaconda3\\envs\\torchGEnv\\lib\\site-packages\\ultralytics\\engine\\predictor.py:196\u001b[0m, in \u001b[0;36mBasePredictor.__call__\u001b[1;34m(self, source, model, stream, *args, **kwargs)\u001b[0m\n\u001b[0;32m    194\u001b[0m     \u001b[39mreturn\u001b[39;00m \u001b[39mself\u001b[39m\u001b[39m.\u001b[39mstream_inference(source, model, \u001b[39m*\u001b[39margs, \u001b[39m*\u001b[39m\u001b[39m*\u001b[39mkwargs)\n\u001b[0;32m    195\u001b[0m \u001b[39melse\u001b[39;00m:\n\u001b[1;32m--> 196\u001b[0m     \u001b[39mreturn\u001b[39;00m \u001b[39mlist\u001b[39;49m(\u001b[39mself\u001b[39;49m\u001b[39m.\u001b[39;49mstream_inference(source, model, \u001b[39m*\u001b[39;49margs, \u001b[39m*\u001b[39;49m\u001b[39m*\u001b[39;49mkwargs))\n",
      "File \u001b[1;32mc:\\Users\\Nikhil I J\\anaconda3\\envs\\torchGEnv\\lib\\site-packages\\torch\\utils\\_contextlib.py:35\u001b[0m, in \u001b[0;36m_wrap_generator.<locals>.generator_context\u001b[1;34m(*args, **kwargs)\u001b[0m\n\u001b[0;32m     32\u001b[0m \u001b[39mtry\u001b[39;00m:\n\u001b[0;32m     33\u001b[0m     \u001b[39m# Issuing `None` to a generator fires it up\u001b[39;00m\n\u001b[0;32m     34\u001b[0m     \u001b[39mwith\u001b[39;00m ctx_factory():\n\u001b[1;32m---> 35\u001b[0m         response \u001b[39m=\u001b[39m gen\u001b[39m.\u001b[39;49msend(\u001b[39mNone\u001b[39;49;00m)\n\u001b[0;32m     37\u001b[0m     \u001b[39mwhile\u001b[39;00m \u001b[39mTrue\u001b[39;00m:\n\u001b[0;32m     38\u001b[0m         \u001b[39mtry\u001b[39;00m:\n\u001b[0;32m     39\u001b[0m             \u001b[39m# Forward the response to our caller and get its next request\u001b[39;00m\n",
      "File \u001b[1;32mc:\\Users\\Nikhil I J\\anaconda3\\envs\\torchGEnv\\lib\\site-packages\\ultralytics\\engine\\predictor.py:259\u001b[0m, in \u001b[0;36mBasePredictor.stream_inference\u001b[1;34m(self, source, model, *args, **kwargs)\u001b[0m\n\u001b[0;32m    257\u001b[0m \u001b[39m# Inference\u001b[39;00m\n\u001b[0;32m    258\u001b[0m \u001b[39mwith\u001b[39;00m profilers[\u001b[39m1\u001b[39m]:\n\u001b[1;32m--> 259\u001b[0m     preds \u001b[39m=\u001b[39m \u001b[39mself\u001b[39;49m\u001b[39m.\u001b[39;49minference(im, \u001b[39m*\u001b[39;49margs, \u001b[39m*\u001b[39;49m\u001b[39m*\u001b[39;49mkwargs)\n\u001b[0;32m    261\u001b[0m \u001b[39m# Postprocess\u001b[39;00m\n\u001b[0;32m    262\u001b[0m \u001b[39mwith\u001b[39;00m profilers[\u001b[39m2\u001b[39m]:\n",
      "File \u001b[1;32mc:\\Users\\Nikhil I J\\anaconda3\\envs\\torchGEnv\\lib\\site-packages\\ultralytics\\engine\\predictor.py:135\u001b[0m, in \u001b[0;36mBasePredictor.inference\u001b[1;34m(self, im, *args, **kwargs)\u001b[0m\n\u001b[0;32m    132\u001b[0m \u001b[39m\u001b[39m\u001b[39m\"\"\"Runs inference on a given image using the specified model and arguments.\"\"\"\u001b[39;00m\n\u001b[0;32m    133\u001b[0m visualize \u001b[39m=\u001b[39m increment_path(\u001b[39mself\u001b[39m\u001b[39m.\u001b[39msave_dir \u001b[39m/\u001b[39m Path(\u001b[39mself\u001b[39m\u001b[39m.\u001b[39mbatch[\u001b[39m0\u001b[39m][\u001b[39m0\u001b[39m])\u001b[39m.\u001b[39mstem,\n\u001b[0;32m    134\u001b[0m                            mkdir\u001b[39m=\u001b[39m\u001b[39mTrue\u001b[39;00m) \u001b[39mif\u001b[39;00m \u001b[39mself\u001b[39m\u001b[39m.\u001b[39margs\u001b[39m.\u001b[39mvisualize \u001b[39mand\u001b[39;00m (\u001b[39mnot\u001b[39;00m \u001b[39mself\u001b[39m\u001b[39m.\u001b[39msource_type\u001b[39m.\u001b[39mtensor) \u001b[39melse\u001b[39;00m \u001b[39mFalse\u001b[39;00m\n\u001b[1;32m--> 135\u001b[0m \u001b[39mreturn\u001b[39;00m \u001b[39mself\u001b[39;49m\u001b[39m.\u001b[39;49mmodel(im, augment\u001b[39m=\u001b[39;49m\u001b[39mself\u001b[39;49m\u001b[39m.\u001b[39;49margs\u001b[39m.\u001b[39;49maugment, visualize\u001b[39m=\u001b[39;49mvisualize)\n",
      "File \u001b[1;32mc:\\Users\\Nikhil I J\\anaconda3\\envs\\torchGEnv\\lib\\site-packages\\torch\\nn\\modules\\module.py:1518\u001b[0m, in \u001b[0;36mModule._wrapped_call_impl\u001b[1;34m(self, *args, **kwargs)\u001b[0m\n\u001b[0;32m   1516\u001b[0m     \u001b[39mreturn\u001b[39;00m \u001b[39mself\u001b[39m\u001b[39m.\u001b[39m_compiled_call_impl(\u001b[39m*\u001b[39margs, \u001b[39m*\u001b[39m\u001b[39m*\u001b[39mkwargs)  \u001b[39m# type: ignore[misc]\u001b[39;00m\n\u001b[0;32m   1517\u001b[0m \u001b[39melse\u001b[39;00m:\n\u001b[1;32m-> 1518\u001b[0m     \u001b[39mreturn\u001b[39;00m \u001b[39mself\u001b[39;49m\u001b[39m.\u001b[39;49m_call_impl(\u001b[39m*\u001b[39;49margs, \u001b[39m*\u001b[39;49m\u001b[39m*\u001b[39;49mkwargs)\n",
      "File \u001b[1;32mc:\\Users\\Nikhil I J\\anaconda3\\envs\\torchGEnv\\lib\\site-packages\\torch\\nn\\modules\\module.py:1527\u001b[0m, in \u001b[0;36mModule._call_impl\u001b[1;34m(self, *args, **kwargs)\u001b[0m\n\u001b[0;32m   1522\u001b[0m \u001b[39m# If we don't have any hooks, we want to skip the rest of the logic in\u001b[39;00m\n\u001b[0;32m   1523\u001b[0m \u001b[39m# this function, and just call forward.\u001b[39;00m\n\u001b[0;32m   1524\u001b[0m \u001b[39mif\u001b[39;00m \u001b[39mnot\u001b[39;00m (\u001b[39mself\u001b[39m\u001b[39m.\u001b[39m_backward_hooks \u001b[39mor\u001b[39;00m \u001b[39mself\u001b[39m\u001b[39m.\u001b[39m_backward_pre_hooks \u001b[39mor\u001b[39;00m \u001b[39mself\u001b[39m\u001b[39m.\u001b[39m_forward_hooks \u001b[39mor\u001b[39;00m \u001b[39mself\u001b[39m\u001b[39m.\u001b[39m_forward_pre_hooks\n\u001b[0;32m   1525\u001b[0m         \u001b[39mor\u001b[39;00m _global_backward_pre_hooks \u001b[39mor\u001b[39;00m _global_backward_hooks\n\u001b[0;32m   1526\u001b[0m         \u001b[39mor\u001b[39;00m _global_forward_hooks \u001b[39mor\u001b[39;00m _global_forward_pre_hooks):\n\u001b[1;32m-> 1527\u001b[0m     \u001b[39mreturn\u001b[39;00m forward_call(\u001b[39m*\u001b[39;49margs, \u001b[39m*\u001b[39;49m\u001b[39m*\u001b[39;49mkwargs)\n\u001b[0;32m   1529\u001b[0m \u001b[39mtry\u001b[39;00m:\n\u001b[0;32m   1530\u001b[0m     result \u001b[39m=\u001b[39m \u001b[39mNone\u001b[39;00m\n",
      "File \u001b[1;32mc:\\Users\\Nikhil I J\\anaconda3\\envs\\torchGEnv\\lib\\site-packages\\ultralytics\\nn\\autobackend.py:347\u001b[0m, in \u001b[0;36mAutoBackend.forward\u001b[1;34m(self, im, augment, visualize)\u001b[0m\n\u001b[0;32m    344\u001b[0m     im \u001b[39m=\u001b[39m im\u001b[39m.\u001b[39mpermute(\u001b[39m0\u001b[39m, \u001b[39m2\u001b[39m, \u001b[39m3\u001b[39m, \u001b[39m1\u001b[39m)  \u001b[39m# torch BCHW to numpy BHWC shape(1,320,192,3)\u001b[39;00m\n\u001b[0;32m    346\u001b[0m \u001b[39mif\u001b[39;00m \u001b[39mself\u001b[39m\u001b[39m.\u001b[39mpt \u001b[39mor\u001b[39;00m \u001b[39mself\u001b[39m\u001b[39m.\u001b[39mnn_module:  \u001b[39m# PyTorch\u001b[39;00m\n\u001b[1;32m--> 347\u001b[0m     y \u001b[39m=\u001b[39m \u001b[39mself\u001b[39m\u001b[39m.\u001b[39mmodel(im, augment\u001b[39m=\u001b[39maugment, visualize\u001b[39m=\u001b[39mvisualize) \u001b[39mif\u001b[39;00m augment \u001b[39mor\u001b[39;00m visualize \u001b[39melse\u001b[39;00m \u001b[39mself\u001b[39;49m\u001b[39m.\u001b[39;49mmodel(im)\n\u001b[0;32m    348\u001b[0m \u001b[39melif\u001b[39;00m \u001b[39mself\u001b[39m\u001b[39m.\u001b[39mjit:  \u001b[39m# TorchScript\u001b[39;00m\n\u001b[0;32m    349\u001b[0m     y \u001b[39m=\u001b[39m \u001b[39mself\u001b[39m\u001b[39m.\u001b[39mmodel(im)\n",
      "File \u001b[1;32mc:\\Users\\Nikhil I J\\anaconda3\\envs\\torchGEnv\\lib\\site-packages\\torch\\nn\\modules\\module.py:1518\u001b[0m, in \u001b[0;36mModule._wrapped_call_impl\u001b[1;34m(self, *args, **kwargs)\u001b[0m\n\u001b[0;32m   1516\u001b[0m     \u001b[39mreturn\u001b[39;00m \u001b[39mself\u001b[39m\u001b[39m.\u001b[39m_compiled_call_impl(\u001b[39m*\u001b[39margs, \u001b[39m*\u001b[39m\u001b[39m*\u001b[39mkwargs)  \u001b[39m# type: ignore[misc]\u001b[39;00m\n\u001b[0;32m   1517\u001b[0m \u001b[39melse\u001b[39;00m:\n\u001b[1;32m-> 1518\u001b[0m     \u001b[39mreturn\u001b[39;00m \u001b[39mself\u001b[39;49m\u001b[39m.\u001b[39;49m_call_impl(\u001b[39m*\u001b[39;49margs, \u001b[39m*\u001b[39;49m\u001b[39m*\u001b[39;49mkwargs)\n",
      "File \u001b[1;32mc:\\Users\\Nikhil I J\\anaconda3\\envs\\torchGEnv\\lib\\site-packages\\torch\\nn\\modules\\module.py:1527\u001b[0m, in \u001b[0;36mModule._call_impl\u001b[1;34m(self, *args, **kwargs)\u001b[0m\n\u001b[0;32m   1522\u001b[0m \u001b[39m# If we don't have any hooks, we want to skip the rest of the logic in\u001b[39;00m\n\u001b[0;32m   1523\u001b[0m \u001b[39m# this function, and just call forward.\u001b[39;00m\n\u001b[0;32m   1524\u001b[0m \u001b[39mif\u001b[39;00m \u001b[39mnot\u001b[39;00m (\u001b[39mself\u001b[39m\u001b[39m.\u001b[39m_backward_hooks \u001b[39mor\u001b[39;00m \u001b[39mself\u001b[39m\u001b[39m.\u001b[39m_backward_pre_hooks \u001b[39mor\u001b[39;00m \u001b[39mself\u001b[39m\u001b[39m.\u001b[39m_forward_hooks \u001b[39mor\u001b[39;00m \u001b[39mself\u001b[39m\u001b[39m.\u001b[39m_forward_pre_hooks\n\u001b[0;32m   1525\u001b[0m         \u001b[39mor\u001b[39;00m _global_backward_pre_hooks \u001b[39mor\u001b[39;00m _global_backward_hooks\n\u001b[0;32m   1526\u001b[0m         \u001b[39mor\u001b[39;00m _global_forward_hooks \u001b[39mor\u001b[39;00m _global_forward_pre_hooks):\n\u001b[1;32m-> 1527\u001b[0m     \u001b[39mreturn\u001b[39;00m forward_call(\u001b[39m*\u001b[39;49margs, \u001b[39m*\u001b[39;49m\u001b[39m*\u001b[39;49mkwargs)\n\u001b[0;32m   1529\u001b[0m \u001b[39mtry\u001b[39;00m:\n\u001b[0;32m   1530\u001b[0m     result \u001b[39m=\u001b[39m \u001b[39mNone\u001b[39;00m\n",
      "File \u001b[1;32mc:\\Users\\Nikhil I J\\anaconda3\\envs\\torchGEnv\\lib\\site-packages\\ultralytics\\nn\\tasks.py:42\u001b[0m, in \u001b[0;36mBaseModel.forward\u001b[1;34m(self, x, *args, **kwargs)\u001b[0m\n\u001b[0;32m     40\u001b[0m \u001b[39mif\u001b[39;00m \u001b[39misinstance\u001b[39m(x, \u001b[39mdict\u001b[39m):  \u001b[39m# for cases of training and validating while training.\u001b[39;00m\n\u001b[0;32m     41\u001b[0m     \u001b[39mreturn\u001b[39;00m \u001b[39mself\u001b[39m\u001b[39m.\u001b[39mloss(x, \u001b[39m*\u001b[39margs, \u001b[39m*\u001b[39m\u001b[39m*\u001b[39mkwargs)\n\u001b[1;32m---> 42\u001b[0m \u001b[39mreturn\u001b[39;00m \u001b[39mself\u001b[39;49m\u001b[39m.\u001b[39;49mpredict(x, \u001b[39m*\u001b[39;49margs, \u001b[39m*\u001b[39;49m\u001b[39m*\u001b[39;49mkwargs)\n",
      "File \u001b[1;32mc:\\Users\\Nikhil I J\\anaconda3\\envs\\torchGEnv\\lib\\site-packages\\ultralytics\\nn\\tasks.py:59\u001b[0m, in \u001b[0;36mBaseModel.predict\u001b[1;34m(self, x, profile, visualize, augment)\u001b[0m\n\u001b[0;32m     57\u001b[0m \u001b[39mif\u001b[39;00m augment:\n\u001b[0;32m     58\u001b[0m     \u001b[39mreturn\u001b[39;00m \u001b[39mself\u001b[39m\u001b[39m.\u001b[39m_predict_augment(x)\n\u001b[1;32m---> 59\u001b[0m \u001b[39mreturn\u001b[39;00m \u001b[39mself\u001b[39;49m\u001b[39m.\u001b[39;49m_predict_once(x, profile, visualize)\n",
      "File \u001b[1;32mc:\\Users\\Nikhil I J\\anaconda3\\envs\\torchGEnv\\lib\\site-packages\\ultralytics\\nn\\tasks.py:79\u001b[0m, in \u001b[0;36mBaseModel._predict_once\u001b[1;34m(self, x, profile, visualize)\u001b[0m\n\u001b[0;32m     77\u001b[0m \u001b[39mif\u001b[39;00m profile:\n\u001b[0;32m     78\u001b[0m     \u001b[39mself\u001b[39m\u001b[39m.\u001b[39m_profile_one_layer(m, x, dt)\n\u001b[1;32m---> 79\u001b[0m x \u001b[39m=\u001b[39m m(x)  \u001b[39m# run\u001b[39;00m\n\u001b[0;32m     80\u001b[0m y\u001b[39m.\u001b[39mappend(x \u001b[39mif\u001b[39;00m m\u001b[39m.\u001b[39mi \u001b[39min\u001b[39;00m \u001b[39mself\u001b[39m\u001b[39m.\u001b[39msave \u001b[39melse\u001b[39;00m \u001b[39mNone\u001b[39;00m)  \u001b[39m# save output\u001b[39;00m\n\u001b[0;32m     81\u001b[0m \u001b[39mif\u001b[39;00m visualize:\n",
      "File \u001b[1;32mc:\\Users\\Nikhil I J\\anaconda3\\envs\\torchGEnv\\lib\\site-packages\\torch\\nn\\modules\\module.py:1518\u001b[0m, in \u001b[0;36mModule._wrapped_call_impl\u001b[1;34m(self, *args, **kwargs)\u001b[0m\n\u001b[0;32m   1516\u001b[0m     \u001b[39mreturn\u001b[39;00m \u001b[39mself\u001b[39m\u001b[39m.\u001b[39m_compiled_call_impl(\u001b[39m*\u001b[39margs, \u001b[39m*\u001b[39m\u001b[39m*\u001b[39mkwargs)  \u001b[39m# type: ignore[misc]\u001b[39;00m\n\u001b[0;32m   1517\u001b[0m \u001b[39melse\u001b[39;00m:\n\u001b[1;32m-> 1518\u001b[0m     \u001b[39mreturn\u001b[39;00m \u001b[39mself\u001b[39;49m\u001b[39m.\u001b[39;49m_call_impl(\u001b[39m*\u001b[39;49margs, \u001b[39m*\u001b[39;49m\u001b[39m*\u001b[39;49mkwargs)\n",
      "File \u001b[1;32mc:\\Users\\Nikhil I J\\anaconda3\\envs\\torchGEnv\\lib\\site-packages\\torch\\nn\\modules\\module.py:1527\u001b[0m, in \u001b[0;36mModule._call_impl\u001b[1;34m(self, *args, **kwargs)\u001b[0m\n\u001b[0;32m   1522\u001b[0m \u001b[39m# If we don't have any hooks, we want to skip the rest of the logic in\u001b[39;00m\n\u001b[0;32m   1523\u001b[0m \u001b[39m# this function, and just call forward.\u001b[39;00m\n\u001b[0;32m   1524\u001b[0m \u001b[39mif\u001b[39;00m \u001b[39mnot\u001b[39;00m (\u001b[39mself\u001b[39m\u001b[39m.\u001b[39m_backward_hooks \u001b[39mor\u001b[39;00m \u001b[39mself\u001b[39m\u001b[39m.\u001b[39m_backward_pre_hooks \u001b[39mor\u001b[39;00m \u001b[39mself\u001b[39m\u001b[39m.\u001b[39m_forward_hooks \u001b[39mor\u001b[39;00m \u001b[39mself\u001b[39m\u001b[39m.\u001b[39m_forward_pre_hooks\n\u001b[0;32m   1525\u001b[0m         \u001b[39mor\u001b[39;00m _global_backward_pre_hooks \u001b[39mor\u001b[39;00m _global_backward_hooks\n\u001b[0;32m   1526\u001b[0m         \u001b[39mor\u001b[39;00m _global_forward_hooks \u001b[39mor\u001b[39;00m _global_forward_pre_hooks):\n\u001b[1;32m-> 1527\u001b[0m     \u001b[39mreturn\u001b[39;00m forward_call(\u001b[39m*\u001b[39;49margs, \u001b[39m*\u001b[39;49m\u001b[39m*\u001b[39;49mkwargs)\n\u001b[0;32m   1529\u001b[0m \u001b[39mtry\u001b[39;00m:\n\u001b[0;32m   1530\u001b[0m     result \u001b[39m=\u001b[39m \u001b[39mNone\u001b[39;00m\n",
      "File \u001b[1;32mc:\\Users\\Nikhil I J\\anaconda3\\envs\\torchGEnv\\lib\\site-packages\\ultralytics\\nn\\modules\\head.py:45\u001b[0m, in \u001b[0;36mDetect.forward\u001b[1;34m(self, x)\u001b[0m\n\u001b[0;32m     43\u001b[0m shape \u001b[39m=\u001b[39m x[\u001b[39m0\u001b[39m]\u001b[39m.\u001b[39mshape  \u001b[39m# BCHW\u001b[39;00m\n\u001b[0;32m     44\u001b[0m \u001b[39mfor\u001b[39;00m i \u001b[39min\u001b[39;00m \u001b[39mrange\u001b[39m(\u001b[39mself\u001b[39m\u001b[39m.\u001b[39mnl):\n\u001b[1;32m---> 45\u001b[0m     x[i] \u001b[39m=\u001b[39m torch\u001b[39m.\u001b[39mcat((\u001b[39mself\u001b[39m\u001b[39m.\u001b[39mcv2[i](x[i]), \u001b[39mself\u001b[39;49m\u001b[39m.\u001b[39;49mcv3[i](x[i])), \u001b[39m1\u001b[39m)\n\u001b[0;32m     46\u001b[0m \u001b[39mif\u001b[39;00m \u001b[39mself\u001b[39m\u001b[39m.\u001b[39mtraining:\n\u001b[0;32m     47\u001b[0m     \u001b[39mreturn\u001b[39;00m x\n",
      "File \u001b[1;32mc:\\Users\\Nikhil I J\\anaconda3\\envs\\torchGEnv\\lib\\site-packages\\torch\\nn\\modules\\module.py:1518\u001b[0m, in \u001b[0;36mModule._wrapped_call_impl\u001b[1;34m(self, *args, **kwargs)\u001b[0m\n\u001b[0;32m   1516\u001b[0m     \u001b[39mreturn\u001b[39;00m \u001b[39mself\u001b[39m\u001b[39m.\u001b[39m_compiled_call_impl(\u001b[39m*\u001b[39margs, \u001b[39m*\u001b[39m\u001b[39m*\u001b[39mkwargs)  \u001b[39m# type: ignore[misc]\u001b[39;00m\n\u001b[0;32m   1517\u001b[0m \u001b[39melse\u001b[39;00m:\n\u001b[1;32m-> 1518\u001b[0m     \u001b[39mreturn\u001b[39;00m \u001b[39mself\u001b[39;49m\u001b[39m.\u001b[39;49m_call_impl(\u001b[39m*\u001b[39;49margs, \u001b[39m*\u001b[39;49m\u001b[39m*\u001b[39;49mkwargs)\n",
      "File \u001b[1;32mc:\\Users\\Nikhil I J\\anaconda3\\envs\\torchGEnv\\lib\\site-packages\\torch\\nn\\modules\\module.py:1527\u001b[0m, in \u001b[0;36mModule._call_impl\u001b[1;34m(self, *args, **kwargs)\u001b[0m\n\u001b[0;32m   1522\u001b[0m \u001b[39m# If we don't have any hooks, we want to skip the rest of the logic in\u001b[39;00m\n\u001b[0;32m   1523\u001b[0m \u001b[39m# this function, and just call forward.\u001b[39;00m\n\u001b[0;32m   1524\u001b[0m \u001b[39mif\u001b[39;00m \u001b[39mnot\u001b[39;00m (\u001b[39mself\u001b[39m\u001b[39m.\u001b[39m_backward_hooks \u001b[39mor\u001b[39;00m \u001b[39mself\u001b[39m\u001b[39m.\u001b[39m_backward_pre_hooks \u001b[39mor\u001b[39;00m \u001b[39mself\u001b[39m\u001b[39m.\u001b[39m_forward_hooks \u001b[39mor\u001b[39;00m \u001b[39mself\u001b[39m\u001b[39m.\u001b[39m_forward_pre_hooks\n\u001b[0;32m   1525\u001b[0m         \u001b[39mor\u001b[39;00m _global_backward_pre_hooks \u001b[39mor\u001b[39;00m _global_backward_hooks\n\u001b[0;32m   1526\u001b[0m         \u001b[39mor\u001b[39;00m _global_forward_hooks \u001b[39mor\u001b[39;00m _global_forward_pre_hooks):\n\u001b[1;32m-> 1527\u001b[0m     \u001b[39mreturn\u001b[39;00m forward_call(\u001b[39m*\u001b[39;49margs, \u001b[39m*\u001b[39;49m\u001b[39m*\u001b[39;49mkwargs)\n\u001b[0;32m   1529\u001b[0m \u001b[39mtry\u001b[39;00m:\n\u001b[0;32m   1530\u001b[0m     result \u001b[39m=\u001b[39m \u001b[39mNone\u001b[39;00m\n",
      "File \u001b[1;32mc:\\Users\\Nikhil I J\\anaconda3\\envs\\torchGEnv\\lib\\site-packages\\torch\\nn\\modules\\container.py:215\u001b[0m, in \u001b[0;36mSequential.forward\u001b[1;34m(self, input)\u001b[0m\n\u001b[0;32m    213\u001b[0m \u001b[39mdef\u001b[39;00m \u001b[39mforward\u001b[39m(\u001b[39mself\u001b[39m, \u001b[39minput\u001b[39m):\n\u001b[0;32m    214\u001b[0m     \u001b[39mfor\u001b[39;00m module \u001b[39min\u001b[39;00m \u001b[39mself\u001b[39m:\n\u001b[1;32m--> 215\u001b[0m         \u001b[39minput\u001b[39m \u001b[39m=\u001b[39m module(\u001b[39minput\u001b[39;49m)\n\u001b[0;32m    216\u001b[0m     \u001b[39mreturn\u001b[39;00m \u001b[39minput\u001b[39m\n",
      "File \u001b[1;32mc:\\Users\\Nikhil I J\\anaconda3\\envs\\torchGEnv\\lib\\site-packages\\torch\\nn\\modules\\module.py:1518\u001b[0m, in \u001b[0;36mModule._wrapped_call_impl\u001b[1;34m(self, *args, **kwargs)\u001b[0m\n\u001b[0;32m   1516\u001b[0m     \u001b[39mreturn\u001b[39;00m \u001b[39mself\u001b[39m\u001b[39m.\u001b[39m_compiled_call_impl(\u001b[39m*\u001b[39margs, \u001b[39m*\u001b[39m\u001b[39m*\u001b[39mkwargs)  \u001b[39m# type: ignore[misc]\u001b[39;00m\n\u001b[0;32m   1517\u001b[0m \u001b[39melse\u001b[39;00m:\n\u001b[1;32m-> 1518\u001b[0m     \u001b[39mreturn\u001b[39;00m \u001b[39mself\u001b[39;49m\u001b[39m.\u001b[39;49m_call_impl(\u001b[39m*\u001b[39;49margs, \u001b[39m*\u001b[39;49m\u001b[39m*\u001b[39;49mkwargs)\n",
      "File \u001b[1;32mc:\\Users\\Nikhil I J\\anaconda3\\envs\\torchGEnv\\lib\\site-packages\\torch\\nn\\modules\\module.py:1527\u001b[0m, in \u001b[0;36mModule._call_impl\u001b[1;34m(self, *args, **kwargs)\u001b[0m\n\u001b[0;32m   1522\u001b[0m \u001b[39m# If we don't have any hooks, we want to skip the rest of the logic in\u001b[39;00m\n\u001b[0;32m   1523\u001b[0m \u001b[39m# this function, and just call forward.\u001b[39;00m\n\u001b[0;32m   1524\u001b[0m \u001b[39mif\u001b[39;00m \u001b[39mnot\u001b[39;00m (\u001b[39mself\u001b[39m\u001b[39m.\u001b[39m_backward_hooks \u001b[39mor\u001b[39;00m \u001b[39mself\u001b[39m\u001b[39m.\u001b[39m_backward_pre_hooks \u001b[39mor\u001b[39;00m \u001b[39mself\u001b[39m\u001b[39m.\u001b[39m_forward_hooks \u001b[39mor\u001b[39;00m \u001b[39mself\u001b[39m\u001b[39m.\u001b[39m_forward_pre_hooks\n\u001b[0;32m   1525\u001b[0m         \u001b[39mor\u001b[39;00m _global_backward_pre_hooks \u001b[39mor\u001b[39;00m _global_backward_hooks\n\u001b[0;32m   1526\u001b[0m         \u001b[39mor\u001b[39;00m _global_forward_hooks \u001b[39mor\u001b[39;00m _global_forward_pre_hooks):\n\u001b[1;32m-> 1527\u001b[0m     \u001b[39mreturn\u001b[39;00m forward_call(\u001b[39m*\u001b[39;49margs, \u001b[39m*\u001b[39;49m\u001b[39m*\u001b[39;49mkwargs)\n\u001b[0;32m   1529\u001b[0m \u001b[39mtry\u001b[39;00m:\n\u001b[0;32m   1530\u001b[0m     result \u001b[39m=\u001b[39m \u001b[39mNone\u001b[39;00m\n",
      "File \u001b[1;32mc:\\Users\\Nikhil I J\\anaconda3\\envs\\torchGEnv\\lib\\site-packages\\ultralytics\\nn\\modules\\conv.py:40\u001b[0m, in \u001b[0;36mConv.forward_fuse\u001b[1;34m(self, x)\u001b[0m\n\u001b[0;32m     38\u001b[0m \u001b[39mdef\u001b[39;00m \u001b[39mforward_fuse\u001b[39m(\u001b[39mself\u001b[39m, x):\n\u001b[0;32m     39\u001b[0m \u001b[39m    \u001b[39m\u001b[39m\"\"\"Perform transposed convolution of 2D data.\"\"\"\u001b[39;00m\n\u001b[1;32m---> 40\u001b[0m     \u001b[39mreturn\u001b[39;00m \u001b[39mself\u001b[39m\u001b[39m.\u001b[39mact(\u001b[39mself\u001b[39;49m\u001b[39m.\u001b[39;49mconv(x))\n",
      "File \u001b[1;32mc:\\Users\\Nikhil I J\\anaconda3\\envs\\torchGEnv\\lib\\site-packages\\torch\\nn\\modules\\module.py:1518\u001b[0m, in \u001b[0;36mModule._wrapped_call_impl\u001b[1;34m(self, *args, **kwargs)\u001b[0m\n\u001b[0;32m   1516\u001b[0m     \u001b[39mreturn\u001b[39;00m \u001b[39mself\u001b[39m\u001b[39m.\u001b[39m_compiled_call_impl(\u001b[39m*\u001b[39margs, \u001b[39m*\u001b[39m\u001b[39m*\u001b[39mkwargs)  \u001b[39m# type: ignore[misc]\u001b[39;00m\n\u001b[0;32m   1517\u001b[0m \u001b[39melse\u001b[39;00m:\n\u001b[1;32m-> 1518\u001b[0m     \u001b[39mreturn\u001b[39;00m \u001b[39mself\u001b[39;49m\u001b[39m.\u001b[39;49m_call_impl(\u001b[39m*\u001b[39;49margs, \u001b[39m*\u001b[39;49m\u001b[39m*\u001b[39;49mkwargs)\n",
      "File \u001b[1;32mc:\\Users\\Nikhil I J\\anaconda3\\envs\\torchGEnv\\lib\\site-packages\\torch\\nn\\modules\\module.py:1527\u001b[0m, in \u001b[0;36mModule._call_impl\u001b[1;34m(self, *args, **kwargs)\u001b[0m\n\u001b[0;32m   1522\u001b[0m \u001b[39m# If we don't have any hooks, we want to skip the rest of the logic in\u001b[39;00m\n\u001b[0;32m   1523\u001b[0m \u001b[39m# this function, and just call forward.\u001b[39;00m\n\u001b[0;32m   1524\u001b[0m \u001b[39mif\u001b[39;00m \u001b[39mnot\u001b[39;00m (\u001b[39mself\u001b[39m\u001b[39m.\u001b[39m_backward_hooks \u001b[39mor\u001b[39;00m \u001b[39mself\u001b[39m\u001b[39m.\u001b[39m_backward_pre_hooks \u001b[39mor\u001b[39;00m \u001b[39mself\u001b[39m\u001b[39m.\u001b[39m_forward_hooks \u001b[39mor\u001b[39;00m \u001b[39mself\u001b[39m\u001b[39m.\u001b[39m_forward_pre_hooks\n\u001b[0;32m   1525\u001b[0m         \u001b[39mor\u001b[39;00m _global_backward_pre_hooks \u001b[39mor\u001b[39;00m _global_backward_hooks\n\u001b[0;32m   1526\u001b[0m         \u001b[39mor\u001b[39;00m _global_forward_hooks \u001b[39mor\u001b[39;00m _global_forward_pre_hooks):\n\u001b[1;32m-> 1527\u001b[0m     \u001b[39mreturn\u001b[39;00m forward_call(\u001b[39m*\u001b[39;49margs, \u001b[39m*\u001b[39;49m\u001b[39m*\u001b[39;49mkwargs)\n\u001b[0;32m   1529\u001b[0m \u001b[39mtry\u001b[39;00m:\n\u001b[0;32m   1530\u001b[0m     result \u001b[39m=\u001b[39m \u001b[39mNone\u001b[39;00m\n",
      "File \u001b[1;32mc:\\Users\\Nikhil I J\\anaconda3\\envs\\torchGEnv\\lib\\site-packages\\torch\\nn\\modules\\conv.py:460\u001b[0m, in \u001b[0;36mConv2d.forward\u001b[1;34m(self, input)\u001b[0m\n\u001b[0;32m    459\u001b[0m \u001b[39mdef\u001b[39;00m \u001b[39mforward\u001b[39m(\u001b[39mself\u001b[39m, \u001b[39minput\u001b[39m: Tensor) \u001b[39m-\u001b[39m\u001b[39m>\u001b[39m Tensor:\n\u001b[1;32m--> 460\u001b[0m     \u001b[39mreturn\u001b[39;00m \u001b[39mself\u001b[39;49m\u001b[39m.\u001b[39;49m_conv_forward(\u001b[39minput\u001b[39;49m, \u001b[39mself\u001b[39;49m\u001b[39m.\u001b[39;49mweight, \u001b[39mself\u001b[39;49m\u001b[39m.\u001b[39;49mbias)\n",
      "File \u001b[1;32mc:\\Users\\Nikhil I J\\anaconda3\\envs\\torchGEnv\\lib\\site-packages\\torch\\nn\\modules\\conv.py:456\u001b[0m, in \u001b[0;36mConv2d._conv_forward\u001b[1;34m(self, input, weight, bias)\u001b[0m\n\u001b[0;32m    452\u001b[0m \u001b[39mif\u001b[39;00m \u001b[39mself\u001b[39m\u001b[39m.\u001b[39mpadding_mode \u001b[39m!=\u001b[39m \u001b[39m'\u001b[39m\u001b[39mzeros\u001b[39m\u001b[39m'\u001b[39m:\n\u001b[0;32m    453\u001b[0m     \u001b[39mreturn\u001b[39;00m F\u001b[39m.\u001b[39mconv2d(F\u001b[39m.\u001b[39mpad(\u001b[39minput\u001b[39m, \u001b[39mself\u001b[39m\u001b[39m.\u001b[39m_reversed_padding_repeated_twice, mode\u001b[39m=\u001b[39m\u001b[39mself\u001b[39m\u001b[39m.\u001b[39mpadding_mode),\n\u001b[0;32m    454\u001b[0m                     weight, bias, \u001b[39mself\u001b[39m\u001b[39m.\u001b[39mstride,\n\u001b[0;32m    455\u001b[0m                     _pair(\u001b[39m0\u001b[39m), \u001b[39mself\u001b[39m\u001b[39m.\u001b[39mdilation, \u001b[39mself\u001b[39m\u001b[39m.\u001b[39mgroups)\n\u001b[1;32m--> 456\u001b[0m \u001b[39mreturn\u001b[39;00m F\u001b[39m.\u001b[39;49mconv2d(\u001b[39minput\u001b[39;49m, weight, bias, \u001b[39mself\u001b[39;49m\u001b[39m.\u001b[39;49mstride,\n\u001b[0;32m    457\u001b[0m                 \u001b[39mself\u001b[39;49m\u001b[39m.\u001b[39;49mpadding, \u001b[39mself\u001b[39;49m\u001b[39m.\u001b[39;49mdilation, \u001b[39mself\u001b[39;49m\u001b[39m.\u001b[39;49mgroups)\n",
      "\u001b[1;31mKeyboardInterrupt\u001b[0m: "
     ]
    }
   ],
   "source": [
    "import cv2\n",
    "import torch\n",
    "import requests\n",
    "from collections import deque\n",
    "from ultralytics import YOLO\n",
    "\n",
    "# Function to send command to ESP32\n",
    "def send_command(command):\n",
    "    data = str(command) + '\\n'  # Convert the command to a string before sending\n",
    "    headers = {'Content-Type': 'text/plain'}\n",
    "    response = requests.post(url, data=data)\n",
    "    print(\"Response from ESP32:\", response.text)\n",
    "    if response.text == \"success\":\n",
    "        return 1\n",
    "    else:\n",
    "        return 0\n",
    "# (remaining function code remains unchanged)\n",
    "\n",
    "# ESP IP URL\n",
    "url = 'http://192.168.137.157/data'\n",
    "\n",
    "# URL for the stream\n",
    "stream_url = \"http://192.168.137.195:8080/video\"\n",
    "\n",
    "# Video capture object\n",
    "cap = cv2.VideoCapture(stream_url)\n",
    "\n",
    "# Check if the stream is opened correctly\n",
    "if not cap.isOpened():\n",
    "    print(\"Error opening video stream or file\")\n",
    "\n",
    "# YOLO model initialization\n",
    "model = YOLO(r\"E:\\best.pt\")\n",
    "\n",
    "# Variables to track labels\n",
    "labels = deque(maxlen=5)  # Store labels for the last 5 frames\n",
    "consistent_labels = 0  # Counter to track consistent labels\n",
    "\n",
    "# Continuously process frames and send labels to ESP32\n",
    "while True:\n",
    "    ret, frame = cap.read()\n",
    "    if not ret:\n",
    "        cap = cv2.VideoCapture(stream_url)  # Re-open the stream if it ends\n",
    "        break\n",
    "\n",
    "    # Resize the frame to a smaller resolution\n",
    "    resized_frame = cv2.resize(frame, (640, 480))\n",
    "\n",
    "    # Perform object detection on the resized frame\n",
    "    results = model(resized_frame)\n",
    "\n",
    "    # Store labels for the current frame\n",
    "    current_labels = []\n",
    "\n",
    "    for pred in results:\n",
    "        if pred.boxes.conf is not None and len(pred.boxes) > 0:\n",
    "            max_conf_idx = torch.argmax(pred.boxes.conf)\n",
    "            label_id = int(pred.boxes.cls[max_conf_idx])\n",
    "            class_names = {0: 'B', 1: 'P', 2: 'm'}\n",
    "            label = class_names.get(label_id, 'P')  # Default label is 'P'\n",
    "            current_labels.append(label)\n",
    "\n",
    "    # Convert the list of labels to a tuple before storing\n",
    "    labels.append(tuple(current_labels))\n",
    "\n",
    "    # Check if labels have been consistent for 5 frames\n",
    "    # Send label if consistent for 5 frames\n",
    "    if len(labels) == labels.maxlen and len(set(labels)) == 1 and labels and labels[0]:\n",
    "        consistent_labels += 1\n",
    "        if consistent_labels == 5:\n",
    "            consistent_labels = 0  # Reset the counter\n",
    "            # Send the label to ESP32\n",
    "            label_to_send = labels[0][0]  # Send the label from the first frame\n",
    "            send_command(label_to_send)\n",
    "\n",
    "    # Print labels for debugging purposes\n",
    "    print(\"Labels:\", labels)\n",
    "\n",
    "    # Keep the serial output continuous by handling exceptions\n",
    "    try:\n",
    "        cv2.imshow(\"Frame\", frame)\n",
    "        if cv2.waitKey(1) & 0xFF == ord('q'):\n",
    "            break\n",
    "    except Exception as e:\n",
    "        print(\"Exception occurred:\", e)\n",
    "        continue\n",
    "\n",
    "# Release the video capture object and close the window\n",
    "cap.release()\n",
    "cv2.destroyAllWindows()\n"
   ]
  }
 ],
 "metadata": {
  "kernelspec": {
   "display_name": "torchGEnv",
   "language": "python",
   "name": "python3"
  },
  "language_info": {
   "codemirror_mode": {
    "name": "ipython",
    "version": 3
   },
   "file_extension": ".py",
   "mimetype": "text/x-python",
   "name": "python",
   "nbconvert_exporter": "python",
   "pygments_lexer": "ipython3",
   "version": "3.8.18"
  }
 },
 "nbformat": 4,
 "nbformat_minor": 2
}
