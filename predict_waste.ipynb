{
 "cells": [
  {
   "cell_type": "code",
   "execution_count": null,
   "metadata": {},
   "outputs": [],
   "source": [
    "from ultralytics import YOLO\n",
    "import cv2\n",
    "\n",
    "model = YOLO(r\"E:\\waste_detection\\best_new.pt\")\n",
    "results = model.predict(source=\"0\", show=True)\n",
    "print(results)"
   ]
  },
  {
   "cell_type": "code",
   "execution_count": null,
   "metadata": {},
   "outputs": [],
   "source": [
    "import cv2\n",
    "import torch\n",
    "import requests\n",
    "import json\n",
    "from collections import deque\n",
    "from ultralytics import YOLO\n",
    "\n",
    "# Function to send command to ESP32\n",
    "def send_command(command):\n",
    "    data = command + '\\n'\n",
    "    headers = {'Content-Type': 'text/plain'}\n",
    "    response = requests.post(url, data=data)\n",
    "    print(\"Response from ESP32:\", response.text)\n",
    "    if response.text == \"success\":\n",
    "        return 1\n",
    "    else:\n",
    "        return 0\n",
    "\n",
    "# ESP IP URL\n",
    "url = 'http://192.168.137.20/data'\n",
    "\n",
    "# URL for the stream\n",
    "stream_url = \"http://192.168.137.195:8080/video\"\n",
    "\n",
    "# Video capture object\n",
    "cap = cv2.VideoCapture(stream_url)\n",
    "\n",
    "# Check if the stream is opened correctly\n",
    "if not cap.isOpened():\n",
    "    print(\"Error opening video stream or file\")\n",
    "\n",
    "# YOLO model initialization\n",
    "model = YOLO(r\"E:\\best.pt\")\n",
    "\n",
    "# Variables to track labels\n",
    "labels = deque(maxlen=5)  # Store labels for the last 5 frames\n",
    "consistent_labels = 0  # Counter to track consistent labels\n",
    "\n",
    "# Continuously process frames and send labels to ESP32\n",
    "while True:\n",
    "    ret, frame = cap.read()\n",
    "    if not ret:\n",
    "        break\n",
    "\n",
    "    # Resize the frame to a smaller resolution\n",
    "    resized_frame = cv2.resize(frame, (640, 480))\n",
    "\n",
    "    # Perform object detection on the resized frame\n",
    "    cv2.imshow(\"Frame\", resized_frame)\n",
    "    results = model(resized_frame)\n",
    "\n",
    "    # Store labels for the current frame\n",
    "    current_labels = []\n",
    "\n",
    "    for pred in results:  # Iterate over the results directly\n",
    "        # Retrieve the label with the highest confidence\n",
    "        if pred.boxes.conf is not None and len(pred.boxes) > 0:\n",
    "            max_conf_idx = torch.argmax(pred.boxes.conf)\n",
    "            label_id = int(pred.boxes.cls[max_conf_idx])\n",
    "            class_names = {0: 'B', 1: 'P', 2: 'm'}\n",
    "            label = class_names.get(label_id, 'P')  # Default label is 'P'\n",
    "\n",
    "            # Append the detected label to the list of current labels\n",
    "            current_labels.append(label)\n",
    "\n",
    "    # Store labels in the deque\n",
    "    labels.append(current_labels)\n",
    "\n",
    "    # Check if labels have been consistent for 5 frames\n",
    "    if len(labels) == labels.maxlen and len(set(labels)) == 1:\n",
    "        consistent_labels += 1\n",
    "        if consistent_labels == 5:\n",
    "            consistent_labels = 0  # Reset the counter\n",
    "            # Send the label to ESP32\n",
    "            label_to_send = labels[0][0]  # Send the label from the first frame\n",
    "            send_command(label_to_send)\n",
    "\n",
    "# Release the video capture object and close the window\n",
    "cap.release()\n",
    "cv2.destroyAllWindows()\n"
   ]
  },
  {
   "cell_type": "code",
   "execution_count": null,
   "metadata": {},
   "outputs": [],
   "source": [
    "import cv2\n",
    "import torch\n",
    "import requests\n",
    "from collections import deque\n",
    "from ultralytics import YOLO\n",
    "\n",
    "# Function to send command to ESP32\n",
    "def send_command(command):\n",
    "    data = command + '\\n'\n",
    "    headers = {'Content-Type': 'text/plain'}\n",
    "    response = requests.post(url, data=data)\n",
    "    print(\"Response from ESP32:\", response.text)\n",
    "    if response.text == \"success\":\n",
    "        return 1\n",
    "    else:\n",
    "        return 0\n",
    "\n",
    "# ESP IP URL\n",
    "url = 'http://192.168.137.23/data'\n",
    "\n",
    "# URL for the stream\n",
    "stream_url = \"http://192.168.137.170:8080/video\"\n",
    "\n",
    "# Video capture object\n",
    "cap = cv2.VideoCapture(stream_url)\n",
    "\n",
    "# Check if the stream is opened correctly\n",
    "if not cap.isOpened():\n",
    "    print(\"Error opening video stream or file\")\n",
    "\n",
    "# YOLO model initialization\n",
    "model = YOLO(r\"E:\\best.pt\")\n",
    "\n",
    "# Variables to track labels\n",
    "labels = deque(maxlen=5)  # Store labels for the last 5 frames\n",
    "consistent_labels = 0  # Counter to track consistent labels\n",
    "\n",
    "# Continuously process frames and send labels to ESP32\n",
    "while True:\n",
    "    ret, frame = cap.read()\n",
    "    if not ret:\n",
    "        break\n",
    "\n",
    "    # Resize the frame to a smaller resolution\n",
    "    resized_frame = cv2.resize(frame, (640, 480))\n",
    "\n",
    "    # Perform object detection on the resized frame\n",
    "    results = model(resized_frame)\n",
    "\n",
    "    # Store labels for the current frame\n",
    "    current_labels = []\n",
    "\n",
    "    for pred in results:  # Iterate over the results directly\n",
    "        # Retrieve the label with the highest confidence\n",
    "        if pred.boxes.conf is not None and len(pred.boxes) > 0:\n",
    "            max_conf_idx = torch.argmax(pred.boxes.conf)\n",
    "            label_id = int(pred.boxes.cls[max_conf_idx])\n",
    "            class_names = {0: 'B', 1: 'G', 2: 'M', 3: 'P'}\n",
    "            label = class_names.get(label_id, 'P')  # Default label is 'P'\n",
    "\n",
    "            # Append the detected label to the list of current labels\n",
    "            current_labels.append(label)\n",
    "\n",
    "    # Store labels in the deque as a tuple\n",
    "    labels.append(tuple(current_labels))\n",
    "\n",
    "    # Check if labels have been consistent for 5 frames\n",
    "    if len(labels) == labels.maxlen and len(set(labels)) == 1:\n",
    "        consistent_labels += 1\n",
    "        if consistent_labels == 5:\n",
    "            consistent_labels = 0  # Reset the counter\n",
    "            # Send the label to ESP32\n",
    "            label_to_send = labels[0][0]  # Send the label from the first frame\n",
    "            send_command(label_to_send)\n",
    "\n",
    "# Release the video capture object and close the window\n",
    "cap.release()\n",
    "cv2.destroyAllWindows()\n"
   ]
  },
  {
   "cell_type": "code",
   "execution_count": null,
   "metadata": {},
   "outputs": [],
   "source": [
    "import cv2\n",
    "import torch\n",
    "import requests\n",
    "from collections import deque\n",
    "from ultralytics import YOLO\n",
    "\n",
    "# Function to send command to ESP32\n",
    "def send_command(command):\n",
    "    data = command + '\\n'\n",
    "    headers = {'Content-Type': 'text/plain'}\n",
    "    response = requests.post(url, data=data)\n",
    "    print(\"Response from ESP32:\", response.text)\n",
    "    if response.text == \"success\":\n",
    "        return 1\n",
    "    else:\n",
    "        return 0\n",
    "\n",
    "# ESP IP URL\n",
    "url = 'http://192.168.137.23/data'\n",
    "\n",
    "# URL for the stream\n",
    "stream_url = \"http://192.168.137.170:8080/video\"\n",
    "\n",
    "# Video capture object\n",
    "cap = cv2.VideoCapture(stream_url)\n",
    "\n",
    "# Check if the stream is opened correctly\n",
    "if not cap.isOpened():\n",
    "    print(\"Error opening video stream or file\")\n",
    "\n",
    "# YOLO model initialization\n",
    "model = YOLO(r\"E:\\best.pt\")\n",
    "\n",
    "# Variables to track labels\n",
    "labels = deque(maxlen=5)  # Store labels for the last 5 frames\n",
    "consistent_labels = 0  # Counter to track consistent labels\n",
    "\n",
    "# Continuously process frames and send labels to ESP32\n",
    "while True:\n",
    "    ret, frame = cap.read()\n",
    "    if not ret:\n",
    "        break\n",
    "\n",
    "    # Resize the frame to a smaller resolution\n",
    "    resized_frame = cv2.resize(frame, (640, 480))\n",
    "\n",
    "    # Perform object detection on the resized frame\n",
    "    results = model(resized_frame)\n",
    "\n",
    "    # Store labels for the current frame\n",
    "    current_labels = []\n",
    "\n",
    "    for pred in results:  # Iterate over the results directly\n",
    "        if hasattr(pred.boxes, 'cls') and len(pred.boxes) > 0:\n",
    "            max_conf_idx = torch.argmax(pred.boxes.conf)\n",
    "            label_id = int(pred.boxes.cls[max_conf_idx])\n",
    "            class_names = {0: 'B', 1: 'G', 2: 'M', 3: 'P'}\n",
    "            label = class_names.get(label_id, 'P')  # Default label is 'P'\n",
    "            current_labels.append(label)\n",
    "\n",
    "    # Store labels in the deque as a tuple\n",
    "    labels.append(tuple(current_labels))\n",
    "\n",
    "    # Check if labels have been consistent for 5 frames\n",
    "    if len(labels) == labels.maxlen and len(set(labels)) == 1:\n",
    "        consistent_labels += 1\n",
    "        if consistent_labels == 5:\n",
    "            consistent_labels = 0  # Reset the counter\n",
    "            # Send the label to ESP32\n",
    "            if labels and labels[0]:\n",
    "                label_to_send = labels[0][0]  # Send the label from the first frame\n",
    "                send_command(label_to_send)\n",
    "\n",
    "# Release the video capture object and close the window\n",
    "cap.release()\n",
    "cv2.destroyAllWindows()\n"
   ]
  },
  {
   "cell_type": "code",
   "execution_count": null,
   "metadata": {},
   "outputs": [],
   "source": [
    "import cv2\n",
    "import requests\n",
    "from ultralytics import YOLO\n",
    "\n",
    "# Function to send command to ESP32\n",
    "def send_command(command):\n",
    "    # Map categories to specific identifiers recognized by the ESP32\n",
    "    category_to_command = {\n",
    "        'Plastic': 'P',\n",
    "        'Biodegradable': 'B',\n",
    "        'Metal': 'M',\n",
    "        'Glass': 'O'  # Change 'Glass' to 'O' for the ESP32\n",
    "    }\n",
    "\n",
    "    # Check if the predicted category is in the mapping, if not, default to 'P' (Plastic)\n",
    "    cmd = category_to_command.get(command, 'P')\n",
    "    \n",
    "    data = cmd + '\\n'\n",
    "    headers = {'Content-Type': 'text/plain'}\n",
    "    response = requests.post(url, data=data)\n",
    "    print(\"Response from ESP32:\", response.text)\n",
    "    if response.text == \"success\":\n",
    "        return 1\n",
    "    else:\n",
    "        return 0\n",
    "\n",
    "# ESP IP URL\n",
    "url = 'http://192.168.137.35/data'\n",
    "\n",
    "# URL for the stream\n",
    "stream_url = \"http://192.168.137.170:8080/video\"\n",
    "\n",
    "# Video capture object\n",
    "cap = cv2.VideoCapture(stream_url)\n",
    "\n",
    "# Check if the stream is opened correctly\n",
    "if not cap.isOpened():\n",
    "    print(\"Error opening video stream or file\")\n",
    "\n",
    "# YOLO model initialization\n",
    "model = YOLO(r\"E:\\best.pt\")\n",
    "\n",
    "# Continuously process frames and send labels to ESP32\n",
    "while True:\n",
    "    ret, frame = cap.read()\n",
    "    if not ret:\n",
    "        break\n",
    "\n",
    "    resized_frame = cv2.resize(frame, (640, 480))\n",
    "\n",
    "    # Perform object detection on the resized frame\n",
    "    results = model(resized_frame)\n",
    "\n",
    "    for result in results:\n",
    "        if result.boxes.tensor.shape[0] > 0:  # Checking if there are detections\n",
    "            for box in result.boxes.tensor:\n",
    "                label_id = int(box[5])  # Accessing the class ID\n",
    "\n",
    "                class_names = {0: 'Biodegradable', 1: 'Glass', 2: 'Metal', 3: 'Plastic'}\n",
    "                label = class_names.get(label_id, 'Plastic')  # Default label is 'Plastic'\n",
    "\n",
    "                print(\"Label sent to ESP32:\", label)\n",
    "\n",
    "    # Display the frame here\n",
    "\n",
    "cap.release()\n",
    "cv2.destroyAllWindows()"
   ]
  },
  {
   "cell_type": "code",
   "execution_count": null,
   "metadata": {},
   "outputs": [],
   "source": [
    "import cv2\n",
    "import torch\n",
    "import requests\n",
    "from ultralytics import YOLO\n",
    "\n",
    "# Function to send command to ESP32\n",
    "def send_command(command):\n",
    "    data = command + '\\n'\n",
    "    headers = {'Content-Type': 'text/plain'}\n",
    "    response = requests.post(url, data=data)\n",
    "    print(\"Response from ESP32:\", response.text)\n",
    "    if response.text == \"success\":\n",
    "        return 1\n",
    "    else:\n",
    "        return 0\n",
    "\n",
    "# ESP IP URL\n",
    "url = 'http://192.168.137.35/data'\n",
    "\n",
    "# URL for the stream\n",
    "stream_url = \"http://192.168.137.170:8080/video\"\n",
    "\n",
    "# Video capture object\n",
    "cap = cv2.VideoCapture(stream_url)\n",
    "\n",
    "# Check if the stream is opened correctly\n",
    "if not cap.isOpened():\n",
    "    print(\"Error opening video stream or file\")\n",
    "\n",
    "# YOLO model initialization\n",
    "model = YOLO(r\"E:\\best.pt\")\n",
    "\n",
    "# Continuously process frames and send labels to ESP32\n",
    "while True:\n",
    "    ret, frame = cap.read()\n",
    "    if not ret:\n",
    "        break\n",
    "\n",
    "    # Resize the frame to a smaller resolution\n",
    "    resized_frame = cv2.resize(frame, (640, 480))\n",
    "\n",
    "    # Perform object detection on the resized frame\n",
    "    results = model(resized_frame)\n",
    "\n",
    "    # Process each prediction in the results list\n",
    "    for pred in results:  # Iterate over the results directly\n",
    "        print(\"Prediction:\", pred)  # Print the prediction to understand its structure\n",
    "\n",
    "        # Access prediction elements to assign labels (replace this with correct indices)\n",
    "        if len(pred) > 5:  # Ensure it has the required length for label indexing\n",
    "            label_id = pred[5]  # Update the index based on the actual structure\n",
    "            label = 'P'  # Default label is 'P' (plastic) for demonstration purposes\n",
    "\n",
    "            # Logic to assign labels based on label IDs\n",
    "            if label_id == 0:\n",
    "                label = 'B'  # Biodegradable\n",
    "            elif label_id == 1:\n",
    "                label = 'G'  # Glass\n",
    "            elif label_id == 2:\n",
    "                label = 'M'  # Metal\n",
    "            elif label_id == 3:\n",
    "                label = 'P'  # Plastic\n",
    "\n",
    "            # Print the label before sending to ensure correctness\n",
    "            print(\"Label sent to ESP32:\", label)\n",
    "\n",
    "            # Send label to ESP32\n",
    "            send_command(label)\n",
    "\n",
    "# Release the video capture object and close the window\n",
    "cap.release()\n",
    "cv2.destroyAllWindows()\n"
   ]
  },
  {
   "cell_type": "code",
   "execution_count": null,
   "metadata": {},
   "outputs": [],
   "source": [
    "import cv2\n",
    "import requests\n",
    "from ultralytics import YOLO\n",
    "\n",
    "# Function to send command to ESP32\n",
    "def send_command(command):\n",
    "    url = 'http://192.168.137.35/data'\n",
    "    data = command + '\\n'\n",
    "    headers = {'Content-Type': 'text/plain'}\n",
    "    response = requests.post(url, data=data)\n",
    "    print(\"Response from ESP32:\", response.text)\n",
    "    if response.text == \"success\":\n",
    "        return 1\n",
    "    else:\n",
    "        return 0\n",
    "\n",
    "# URL for the stream\n",
    "stream_url = \"http://192.168.137.170:8080/video\"\n",
    "\n",
    "# Video capture object\n",
    "cap = cv2.VideoCapture(stream_url)\n",
    "\n",
    "# Check if the stream is opened correctly\n",
    "if not cap.isOpened():\n",
    "    print(\"Error opening video stream or file\")\n",
    "    exit()\n",
    "\n",
    "# YOLO model initialization\n",
    "model = YOLO(r\"E:\\best.pt\")\n",
    "\n",
    "# Default label is 'X' for demonstration purposes\n",
    "default_label = 'P'\n",
    "\n",
    "# Read and display the video frames\n",
    "while cap.isOpened():\n",
    "    ret, frame = cap.read()\n",
    "    if not ret:\n",
    "        print(\"Error reading frame\")\n",
    "        break\n",
    "\n",
    "    # Resize the frame to a smaller resolution\n",
    "    resized_frame = cv2.resize(frame, (640, 480))\n",
    "\n",
    "    # Perform object detection on the resized frame\n",
    "    results = model.predict(resized_frame, show=True)\n",
    "\n",
    "    max_confidence_label = default_label\n",
    "    max_confidence = 0.0\n",
    "\n",
    "    for result in results:\n",
    "        for prediction in result:\n",
    "            if len(prediction) >= 6:  # Check the minimum length required\n",
    "                label_id = prediction[5]  # Accessing the class ID\n",
    "                confidence = prediction[4]  # Accessing the confidence value\n",
    "\n",
    "                # Logic to assign labels based on label IDs\n",
    "                if confidence > max_confidence:\n",
    "                    if label_id == 1:\n",
    "                        max_confidence_label = 'O'\n",
    "                    elif label_id == 0:\n",
    "                        max_confidence_label = 'B'\n",
    "                    elif label_id == 2:\n",
    "                        max_confidence_label = 'M'\n",
    "                    elif label_id == 3:\n",
    "                        max_confidence_label = 'P'\n",
    "                    max_confidence = confidence\n",
    "\n",
    "    # Print the label with maximum confidence before sending to ensure correctness\n",
    "    print(\"Label sent to ESP32:\", max_confidence_label)\n",
    "\n",
    "    # Send label with maximum confidence to ESP32\n",
    "    send_command(max_confidence_label)\n",
    "\n",
    "    # Display the original frame\n",
    "    cv2.imshow('Frame', frame)\n",
    "\n",
    "    # Press 'q' to exit\n",
    "    if cv2.waitKey(1) & 0xFF == ord('q'):\n",
    "        break\n",
    "\n",
    "# Release the video capture object and close the window\n",
    "cap.release()\n",
    "cv2.destroyAllWindows()\n"
   ]
  },
  {
   "cell_type": "code",
   "execution_count": null,
   "metadata": {},
   "outputs": [],
   "source": [
    "import cv2\n",
    "import torch\n",
    "import requests\n",
    "from ultralytics import YOLO\n",
    "\n",
    "# Function to send command to ESP32\n",
    "def send_command(command):\n",
    "    data = command + '\\n'\n",
    "    headers = {'Content-Type': 'text/plain'}\n",
    "    response = requests.post(url, data=data)\n",
    "    print(\"Response from ESP32:\", response.text)\n",
    "    if response.text == \"success\":\n",
    "        return 1\n",
    "    else:\n",
    "        return 0\n",
    "\n",
    "# ESP IP URL\n",
    "url = 'http://192.168.137.35/data'\n",
    "\n",
    "# URL for the stream\n",
    "stream_url = \"http://192.168.137.170:8080/video\"\n",
    "\n",
    "# Video capture object\n",
    "cap = cv2.VideoCapture(stream_url)\n",
    "\n",
    "# Check if the stream is opened correctly\n",
    "if not cap.isOpened():\n",
    "    print(\"Error opening video stream or file\")\n",
    "\n",
    "# YOLO model initialization\n",
    "model = YOLO(r\"E:\\best.pt\")\n",
    "\n",
    "# Initialize label outside the loop\n",
    "label = 'P'  # Default label is 'P' (plastic) for demonstration purposes\n",
    "\n",
    "# Continuously process frames and send labels to ESP32\n",
    "while True:\n",
    "    ret, frame = cap.read()\n",
    "    if not ret:\n",
    "        break\n",
    "\n",
    "    # Resize the frame to a smaller resolution\n",
    "    resized_frame = cv2.resize(frame, (640, 480))\n",
    "\n",
    "    # Perform object detection on the resized frame\n",
    "    results = model.predict(resized_frame, show=True)\n",
    "\n",
    "    for result in results:\n",
    "        for prediction in result:\n",
    "            # Check if the prediction is not an empty list and contains necessary elements\n",
    "            if len(prediction) >= 6:  # Check the minimum length required\n",
    "                label_id = prediction[5]  # Accessing the class ID\n",
    "\n",
    "                # Logic to assign labels based on label IDs\n",
    "                label = 'P'  # Default label is 'P' (plastic) for demonstration purposes\n",
    "                if label_id == 1:\n",
    "                    label = 'O'\n",
    "                elif label_id == 0:\n",
    "                    label = 'B'\n",
    "                elif label_id == 2:\n",
    "                    label = 'M'\n",
    "                elif label_id == 3:\n",
    "                    label = 'P'\n",
    "\n",
    "                # Print the label before sending to ensure correctness\n",
    "                print(\"Label sent to ESP32:\", label)\n",
    "\n",
    "        # Send label to ESP32\n",
    "        send_command(label)\n",
    "\n",
    "# Release the video capture object and close the window\n",
    "cap.release()\n",
    "cv2.destroyAllWindows()"
   ]
  },
  {
   "cell_type": "code",
   "execution_count": null,
   "metadata": {},
   "outputs": [],
   "source": [
    "import cv2\n",
    "import torch\n",
    "import requests\n",
    "from ultralytics import YOLO\n",
    "\n",
    "# Function to send command to ESP32\n",
    "def send_command(command):\n",
    "    data = command + '\\n'\n",
    "    headers = {'Content-Type': 'text/plain'}\n",
    "    response = requests.post(url, data=data)\n",
    "    print(\"Response from ESP32:\", response.text)\n",
    "    if response.text == \"success\":\n",
    "        return 1\n",
    "    else:\n",
    "        return 0\n",
    "\n",
    "# ESP IP URL\n",
    "url = 'http://192.168.137.35/data'\n",
    "\n",
    "# URL for the stream\n",
    "stream_url = \"http://192.168.137.170:8080/video\"\n",
    "\n",
    "# Video capture object\n",
    "cap = cv2.VideoCapture(stream_url)\n",
    "\n",
    "# Check if the stream is opened correctly\n",
    "if not cap.isOpened():\n",
    "    print(\"Error opening video stream or file\")\n",
    "\n",
    "# YOLO model initialization\n",
    "model = YOLO(r\"E:\\best.pt\")\n",
    "\n",
    "# Continuously process frames and send labels to ESP32\n",
    "while True:\n",
    "    ret, frame = cap.read()\n",
    "    if not ret:\n",
    "        break\n",
    "\n",
    "    # Resize the frame to a smaller resolution\n",
    "    resized_frame = cv2.resize(frame, (640, 480))\n",
    "\n",
    "    # Perform object detection on the resized frame\n",
    "    results = model.predict(resized_frame, show=True)\n",
    "\n",
    "    for result in results:\n",
    "        for prediction in result:\n",
    "            # Check if the prediction is not an empty list and contains necessary elements\n",
    "            if len(prediction) >= 6:  # Check the minimum length required\n",
    "                label_id = prediction[5]  # Accessing the class ID\n",
    "\n",
    "                # Logic to assign labels based on label IDs\n",
    "                label = 'P'  # Default label is 'P' (plastic) for demonstration purposes\n",
    "                if label_id == 0:\n",
    "                    label = 'B'  # Biodegradable\n",
    "                elif label_id == 1:\n",
    "                    label = 'G'  # Glass\n",
    "                elif label_id == 2:\n",
    "                    label = 'M'  # Metal\n",
    "                elif label_id == 3:\n",
    "                    label = 'P'  # Plastic\n",
    "\n",
    "                # Print the label before sending to ensure correctness\n",
    "                print(\"Label sent to ESP32:\", label)\n",
    "\n",
    "                # Send label to ESP32\n",
    "                send_command(label)\n",
    "\n",
    "# Release the video capture object and close the window\n",
    "cap.release()\n",
    "cv2.destroyAllWindows()\n"
   ]
  },
  {
   "cell_type": "code",
   "execution_count": null,
   "metadata": {},
   "outputs": [],
   "source": [
    "import cv2\n",
    "from ultralytics import YOLO\n",
    "\n",
    "# URL for the stream\n",
    "stream_url = \"http://192.168.137.195:8080/video\"\n",
    "\n",
    "# Video capture object\n",
    "cap = cv2.VideoCapture(stream_url)\n",
    "\n",
    "# Check if the stream is opened correctly\n",
    "if not cap.isOpened():\n",
    "    print(\"Error opening video stream or file\")\n",
    "\n",
    "# YOLO model initialization\n",
    "model = YOLO(r\"E:\\waste_detection\\best_new.pt\")\n",
    "\n",
    "# Read and display the video frames\n",
    "while cap.isOpened():\n",
    "    ret, frame = cap.read()\n",
    "    if not ret:\n",
    "        break\n",
    "\n",
    "    # Resize the frame to a smaller resolution\n",
    "    resized_frame = cv2.resize(frame, (640,480))\n",
    "\n",
    "    # Perform object detection on the resized frame\n",
    "    results = model.predict(resized_frame, show=True)\n",
    "    print(results)\n",
    "\n",
    "    # Display the original frame\n",
    "    cv2.imshow('Frame', frame)\n",
    "\n",
    "    # Press 'q' to exit\n",
    "    if cv2.waitKey(1) & 0xFF == ord('q'):\n",
    "        break\n",
    "\n",
    "# Release the video capture object and close the window\n",
    "cap.release()\n",
    "cv2.destroyAllWindows()\n"
   ]
  },
  {
   "cell_type": "code",
   "execution_count": null,
   "metadata": {},
   "outputs": [],
   "source": [
    "from ultralytics import YOLO\n",
    "model = YOLO(r\"E:\\best.pt\")\n",
    "model.export(format=\"saved_model\")"
   ]
  },
  {
   "cell_type": "code",
   "execution_count": null,
   "metadata": {},
   "outputs": [],
   "source": [
    "import cv2\n",
    "\n",
    "# Initialize the camera\n",
    "cap = cv2.VideoCapture(0)  # Use 0 for the default camera or specify the camera index\n",
    "\n",
    "while True:\n",
    "    # Capture a frame from the camera\n",
    "    ret, frame = cap.read()\n",
    "\n",
    "    # Display the frame\n",
    "    cv2.imshow(\"Camera Stream\", frame)\n",
    "\n",
    "    # Check for a key press and break the loop if 'q' is pressed\n",
    "    if cv2.waitKey(1) & 0xFF == ord('q'):\n",
    "        break  # Exit the loop when 'q' is pressed\n",
    "\n",
    "# Release the camera and close OpenCV windows\n",
    "cap.release()\n",
    "cv2.destroyAllWindows()\n"
   ]
  },
  {
   "cell_type": "code",
   "execution_count": null,
   "metadata": {},
   "outputs": [],
   "source": [
    "import cv2\n",
    "import torch\n",
    "import requests\n",
    "from collections import deque\n",
    "from ultralytics import YOLO\n",
    "\n",
    "# Function to send command to ESP32\n",
    "def send_command(command):\n",
    "    data = str(command) + '\\n'  # Convert the command to a string before sending\n",
    "    headers = {'Content-Type': 'text/plain'}\n",
    "    response = requests.post(url, data=data)\n",
    "    print(\"Response from ESP32:\", response.text)\n",
    "    if response.text == \"success\":\n",
    "        return 1\n",
    "    else:\n",
    "        return 0\n",
    "\n",
    "# ESP IP URL\n",
    "url = 'http://192.168.137.20/data'\n",
    "\n",
    "# URL for the stream\n",
    "stream_url = \"http://192.168.137.195:8080/video\"\n",
    "\n",
    "# Video capture object\n",
    "cap = cv2.VideoCapture(stream_url)\n",
    "\n",
    "# Check if the stream is opened correctly\n",
    "if not cap.isOpened():\n",
    "    print(\"Error opening video stream or file\")\n",
    "\n",
    "# YOLO model initialization\n",
    "model = YOLO(r\"E:\\best.pt\")\n",
    "\n",
    "# Variables to track labels\n",
    "labels = deque(maxlen=5)  # Store labels for the last 5 frames\n",
    "consistent_labels = 0  # Counter to track consistent labels\n",
    "\n",
    "# Define the class names\n",
    "class_names = {0: 'Bio', 1: 'Plastic', 2: 'metal'}\n",
    "\n",
    "# Continuously process frames and send labels to ESP32\n",
    "while True:\n",
    "    ret, frame = cap.read()\n",
    "    if not ret:  # If no frame is read\n",
    "        label_to_send = 'O'  # Send 'O' as the command\n",
    "        send_command(label_to_send)\n",
    "        continue  # Move to the next iteration\n",
    "\n",
    "    # Resize the frame to a smaller resolution\n",
    "    resized_frame = cv2.resize(frame, (640, 480))\n",
    "\n",
    "    # Perform object detection on the resized frame\n",
    "    results = model(resized_frame)\n",
    "\n",
    "    # Store labels for the current frame\n",
    "    current_labels = []\n",
    "\n",
    "    for pred in results:  # Iterate over the results directly\n",
    "        if hasattr(pred.boxes, 'cls') and len(pred.boxes) > 0:\n",
    "            max_conf_idx = torch.argmax(pred.boxes.conf)\n",
    "            label_id = int(pred.boxes.cls[max_conf_idx])\n",
    "            label = class_names.get(label_id, 'Plastic')  # Default label is 'Plastic'\n",
    "            current_labels.append(label)\n",
    "\n",
    "    # Store labels in the deque as a tuple\n",
    "    labels.append(tuple(current_labels))\n",
    "\n",
    "    # Check if labels have been consistent for 5 frames\n",
    "    if len(labels) == labels.maxlen and len(set(labels)) == 1:\n",
    "        consistent_labels += 1\n",
    "        if consistent_labels == 5:\n",
    "            consistent_labels = 0  # Reset the counter\n",
    "            # Send the label to ESP32\n",
    "            if labels and labels[0]:\n",
    "                label_to_send = labels[0][0]  # Send the label from the first frame\n",
    "                send_command(label_to_send)\n",
    "\n",
    "# Release the video capture object and close the window\n",
    "cap.release()\n",
    "cv2.destroyAllWindows()\n"
   ]
  },
  {
   "cell_type": "code",
   "execution_count": null,
   "metadata": {},
   "outputs": [],
   "source": [
    "import cv2\n",
    "import torch\n",
    "import requests\n",
    "from collections import deque, Counter\n",
    "from ultralytics import YOLO\n",
    "\n",
    "# Function to send command to ESP32\n",
    "def send_command(command):\n",
    "    data = str(command) + '\\n'  # Convert the command to a string before sending\n",
    "    headers = {'Content-Type': 'text/plain'}\n",
    "    response = requests.post(url, data=data)\n",
    "    print(\"Response from ESP32:\", response.text)\n",
    "    if response.text == \"success\":\n",
    "        return 1\n",
    "    else:\n",
    "        return 0\n",
    "    \n",
    "# ESP IP URL\n",
    "url = 'http://192.168.137.20/data'\n",
    "\n",
    "# URL for the stream\n",
    "stream_url = \"http://192.168.137.195:8080/video\"\n",
    "\n",
    "# Video capture object\n",
    "cap = cv2.VideoCapture(stream_url)\n",
    "\n",
    "# Check if the stream is opened correctly\n",
    "if not cap.isOpened():\n",
    "    print(\"Error opening video stream or file\")\n",
    "\n",
    "# YOLO model initialization\n",
    "model = YOLO(r\"E:\\best.pt\")\n",
    "\n",
    "# Variables to track labels\n",
    "labels = deque(maxlen=5)  # Store labels for the last 5 frames\n",
    "consistent_labels = 0  # Counter to track consistent labels\n",
    "\n",
    "# Define the class names\n",
    "class_names = {0: 'Bio', 1: 'Plastic', 2: 'metal'}\n",
    "\n",
    "# Continuously process frames and send labels to ESP32\n",
    "while True:\n",
    "    ret, frame = cap.read()\n",
    "    if not ret:  # If no frame is read\n",
    "        label_to_send = 'O'  # Send 'O' as the command\n",
    "        send_command(label_to_send)\n",
    "        continue  # Move to the next iteration\n",
    "\n",
    "    # Resize the frame to a smaller resolution\n",
    "    resized_frame = cv2.resize(frame, (640, 480))\n",
    "\n",
    "    # Perform object detection on the resized frame\n",
    "    results = model(resized_frame)\n",
    "\n",
    "    # Store labels for the current frame\n",
    "    current_labels = []\n",
    "\n",
    "    for pred in results:  # Iterate over the results directly\n",
    "        if hasattr(pred.boxes, 'cls') and len(pred.boxes) > 0:\n",
    "            max_conf_idx = torch.argmax(pred.boxes.conf)\n",
    "            label_id = int(pred.boxes.cls[max_conf_idx])\n",
    "            label = class_names.get(label_id, 'Plastic')  # Default label is 'Plastic'\n",
    "            current_labels.append(label)\n",
    "\n",
    "    # Store labels in the deque as a tuple\n",
    "    labels.append(tuple(current_labels))\n",
    "\n",
    "    # Check if labels have been consistent for 5 frames\n",
    "    if len(labels) == labels.maxlen:\n",
    "        counter = Counter(labels)\n",
    "        most_common = counter.most_common(1)  # Get the most common label and its count\n",
    "        consistent_labels += 1\n",
    "        if consistent_labels == 5:\n",
    "            consistent_labels = 0  # Reset the counter\n",
    "            # Send the label to ESP32\n",
    "            if most_common:\n",
    "                label_to_send = most_common[0][0] if most_common[0][1] > 1 else 'O'  # Send the most common label, or 'O' if not consistent\n",
    "                send_command(label_to_send)\n",
    "\n",
    "# Release the video capture object and close the window\n",
    "cap.release()\n",
    "cv2.destroyAllWindows()\n"
   ]
  },
  {
   "cell_type": "code",
   "execution_count": 1,
   "metadata": {},
   "outputs": [
    {
     "name": "stderr",
     "output_type": "stream",
     "text": [
      "\n",
      "0: 608x800 1 Plastic, 262.3ms\n",
      "Speed: 16.5ms preprocess, 262.3ms inference, 1.0ms postprocess per image at shape (1, 3, 608, 800)\n",
      "\n"
     ]
    },
    {
     "name": "stdout",
     "output_type": "stream",
     "text": [
      "Labels: deque([('P',)], maxlen=5)\n"
     ]
    },
    {
     "name": "stderr",
     "output_type": "stream",
     "text": [
      "0: 608x800 1 Plastic, 225.4ms\n",
      "Speed: 4.0ms preprocess, 225.4ms inference, 1.0ms postprocess per image at shape (1, 3, 608, 800)\n",
      "\n"
     ]
    },
    {
     "name": "stdout",
     "output_type": "stream",
     "text": [
      "Labels: deque([('P',), ('P',)], maxlen=5)\n"
     ]
    },
    {
     "name": "stderr",
     "output_type": "stream",
     "text": [
      "0: 608x800 1 Plastic, 226.3ms\n",
      "Speed: 4.0ms preprocess, 226.3ms inference, 1.0ms postprocess per image at shape (1, 3, 608, 800)\n",
      "\n"
     ]
    },
    {
     "name": "stdout",
     "output_type": "stream",
     "text": [
      "Labels: deque([('P',), ('P',), ('P',)], maxlen=5)\n"
     ]
    },
    {
     "name": "stderr",
     "output_type": "stream",
     "text": [
      "0: 608x800 1 Plastic, 230.2ms\n",
      "Speed: 5.0ms preprocess, 230.2ms inference, 0.0ms postprocess per image at shape (1, 3, 608, 800)\n",
      "\n"
     ]
    },
    {
     "name": "stdout",
     "output_type": "stream",
     "text": [
      "Labels: deque([('P',), ('P',), ('P',), ('P',)], maxlen=5)\n"
     ]
    },
    {
     "name": "stderr",
     "output_type": "stream",
     "text": [
      "0: 608x800 1 Plastic, 251.6ms\n",
      "Speed: 0.0ms preprocess, 251.6ms inference, 1.0ms postprocess per image at shape (1, 3, 608, 800)\n",
      "\n"
     ]
    },
    {
     "name": "stdout",
     "output_type": "stream",
     "text": [
      "Labels: deque([('P',), ('P',), ('P',), ('P',), ('P',)], maxlen=5)\n"
     ]
    },
    {
     "name": "stderr",
     "output_type": "stream",
     "text": [
      "0: 608x800 1 Plastic, 237.5ms\n",
      "Speed: 5.0ms preprocess, 237.5ms inference, 0.0ms postprocess per image at shape (1, 3, 608, 800)\n",
      "\n"
     ]
    },
    {
     "name": "stdout",
     "output_type": "stream",
     "text": [
      "Labels: deque([('P',), ('P',), ('P',), ('P',), ('P',)], maxlen=5)\n"
     ]
    },
    {
     "name": "stderr",
     "output_type": "stream",
     "text": [
      "0: 608x800 1 Plastic, 250.8ms\n",
      "Speed: 0.0ms preprocess, 250.8ms inference, 1.0ms postprocess per image at shape (1, 3, 608, 800)\n",
      "\n"
     ]
    },
    {
     "name": "stdout",
     "output_type": "stream",
     "text": [
      "Labels: deque([('P',), ('P',), ('P',), ('P',), ('P',)], maxlen=5)\n"
     ]
    },
    {
     "name": "stderr",
     "output_type": "stream",
     "text": [
      "0: 608x800 1 Plastic, 258.8ms\n",
      "Speed: 4.0ms preprocess, 258.8ms inference, 1.0ms postprocess per image at shape (1, 3, 608, 800)\n",
      "\n"
     ]
    },
    {
     "name": "stdout",
     "output_type": "stream",
     "text": [
      "Labels: deque([('P',), ('P',), ('P',), ('P',), ('P',)], maxlen=5)\n"
     ]
    },
    {
     "name": "stderr",
     "output_type": "stream",
     "text": [
      "0: 608x800 1 Plastic, 270.8ms\n",
      "Speed: 5.0ms preprocess, 270.8ms inference, 0.0ms postprocess per image at shape (1, 3, 608, 800)\n",
      "\n"
     ]
    },
    {
     "name": "stdout",
     "output_type": "stream",
     "text": [
      "Response from ESP32: P CMD: Action for 'P' command\n",
      "Labels: deque([('P',), ('P',), ('P',), ('P',), ('P',)], maxlen=5)\n"
     ]
    },
    {
     "name": "stderr",
     "output_type": "stream",
     "text": [
      "0: 608x800 1 Plastic, 255.8ms\n",
      "Speed: 4.0ms preprocess, 255.8ms inference, 1.0ms postprocess per image at shape (1, 3, 608, 800)\n",
      "\n"
     ]
    },
    {
     "name": "stdout",
     "output_type": "stream",
     "text": [
      "Labels: deque([('P',), ('P',), ('P',), ('P',), ('P',)], maxlen=5)\n"
     ]
    },
    {
     "name": "stderr",
     "output_type": "stream",
     "text": [
      "0: 608x800 1 Plastic, 216.5ms\n",
      "Speed: 0.0ms preprocess, 216.5ms inference, 1.0ms postprocess per image at shape (1, 3, 608, 800)\n",
      "\n"
     ]
    },
    {
     "name": "stdout",
     "output_type": "stream",
     "text": [
      "Labels: deque([('P',), ('P',), ('P',), ('P',), ('P',)], maxlen=5)\n"
     ]
    },
    {
     "name": "stderr",
     "output_type": "stream",
     "text": [
      "0: 608x800 1 Plastic, 235.7ms\n",
      "Speed: 3.0ms preprocess, 235.7ms inference, 1.0ms postprocess per image at shape (1, 3, 608, 800)\n",
      "\n"
     ]
    },
    {
     "name": "stdout",
     "output_type": "stream",
     "text": [
      "Labels: deque([('P',), ('P',), ('P',), ('P',), ('P',)], maxlen=5)\n"
     ]
    },
    {
     "name": "stderr",
     "output_type": "stream",
     "text": [
      "0: 608x800 1 Plastic, 220.2ms\n",
      "Speed: 5.0ms preprocess, 220.2ms inference, 0.0ms postprocess per image at shape (1, 3, 608, 800)\n",
      "\n"
     ]
    },
    {
     "name": "stdout",
     "output_type": "stream",
     "text": [
      "Labels: deque([('P',), ('P',), ('P',), ('P',), ('P',)], maxlen=5)\n"
     ]
    },
    {
     "name": "stderr",
     "output_type": "stream",
     "text": [
      "0: 608x800 1 Plastic, 245.6ms\n",
      "Speed: 0.6ms preprocess, 245.6ms inference, 1.0ms postprocess per image at shape (1, 3, 608, 800)\n",
      "\n"
     ]
    },
    {
     "name": "stdout",
     "output_type": "stream",
     "text": [
      "Response from ESP32: P CMD: Action for 'P' command\n",
      "Labels: deque([('P',), ('P',), ('P',), ('P',), ('P',)], maxlen=5)\n"
     ]
    },
    {
     "name": "stderr",
     "output_type": "stream",
     "text": [
      "0: 608x800 1 Plastic, 246.3ms\n",
      "Speed: 4.0ms preprocess, 246.3ms inference, 1.0ms postprocess per image at shape (1, 3, 608, 800)\n",
      "\n"
     ]
    },
    {
     "name": "stdout",
     "output_type": "stream",
     "text": [
      "Labels: deque([('P',), ('P',), ('P',), ('P',), ('P',)], maxlen=5)\n"
     ]
    },
    {
     "name": "stderr",
     "output_type": "stream",
     "text": [
      "0: 608x800 1 Plastic, 248.5ms\n",
      "Speed: 0.0ms preprocess, 248.5ms inference, 1.0ms postprocess per image at shape (1, 3, 608, 800)\n",
      "\n"
     ]
    },
    {
     "name": "stdout",
     "output_type": "stream",
     "text": [
      "Labels: deque([('P',), ('P',), ('P',), ('P',), ('P',)], maxlen=5)\n"
     ]
    },
    {
     "name": "stderr",
     "output_type": "stream",
     "text": [
      "0: 608x800 1 Plastic, 268.4ms\n",
      "Speed: 3.0ms preprocess, 268.4ms inference, 1.0ms postprocess per image at shape (1, 3, 608, 800)\n",
      "\n"
     ]
    },
    {
     "name": "stdout",
     "output_type": "stream",
     "text": [
      "Labels: deque([('P',), ('P',), ('P',), ('P',), ('P',)], maxlen=5)\n"
     ]
    },
    {
     "name": "stderr",
     "output_type": "stream",
     "text": [
      "0: 608x800 (no detections), 255.4ms\n",
      "Speed: 5.0ms preprocess, 255.4ms inference, 8.0ms postprocess per image at shape (1, 3, 608, 800)\n",
      "\n"
     ]
    },
    {
     "name": "stdout",
     "output_type": "stream",
     "text": [
      "Labels: deque([('P',), ('P',), ('P',), ('P',), ()], maxlen=5)\n"
     ]
    },
    {
     "name": "stderr",
     "output_type": "stream",
     "text": [
      "0: 608x800 (no detections), 261.2ms\n",
      "Speed: 5.0ms preprocess, 261.2ms inference, 1.0ms postprocess per image at shape (1, 3, 608, 800)\n",
      "\n"
     ]
    },
    {
     "name": "stdout",
     "output_type": "stream",
     "text": [
      "Labels: deque([('P',), ('P',), ('P',), (), ()], maxlen=5)\n"
     ]
    },
    {
     "name": "stderr",
     "output_type": "stream",
     "text": [
      "0: 608x800 (no detections), 245.9ms\n",
      "Speed: 0.0ms preprocess, 245.9ms inference, 1.0ms postprocess per image at shape (1, 3, 608, 800)\n",
      "\n"
     ]
    },
    {
     "name": "stdout",
     "output_type": "stream",
     "text": [
      "Labels: deque([('P',), ('P',), (), (), ()], maxlen=5)\n"
     ]
    },
    {
     "name": "stderr",
     "output_type": "stream",
     "text": [
      "0: 608x800 1 Plastic, 229.0ms\n",
      "Speed: 5.0ms preprocess, 229.0ms inference, 1.0ms postprocess per image at shape (1, 3, 608, 800)\n",
      "\n"
     ]
    },
    {
     "name": "stdout",
     "output_type": "stream",
     "text": [
      "Labels: deque([('P',), (), (), (), ('P',)], maxlen=5)\n"
     ]
    },
    {
     "name": "stderr",
     "output_type": "stream",
     "text": [
      "0: 608x800 1 Plastic, 237.5ms\n",
      "Speed: 6.0ms preprocess, 237.5ms inference, 0.0ms postprocess per image at shape (1, 3, 608, 800)\n",
      "\n"
     ]
    },
    {
     "name": "stdout",
     "output_type": "stream",
     "text": [
      "Labels: deque([(), (), (), ('P',), ('P',)], maxlen=5)\n"
     ]
    },
    {
     "name": "stderr",
     "output_type": "stream",
     "text": [
      "0: 608x800 1 Plastic, 246.4ms\n",
      "Speed: 6.4ms preprocess, 246.4ms inference, 1.0ms postprocess per image at shape (1, 3, 608, 800)\n",
      "\n"
     ]
    },
    {
     "name": "stdout",
     "output_type": "stream",
     "text": [
      "Labels: deque([(), (), ('P',), ('P',), ('P',)], maxlen=5)\n"
     ]
    },
    {
     "name": "stderr",
     "output_type": "stream",
     "text": [
      "0: 608x800 1 Plastic, 241.4ms\n",
      "Speed: 5.5ms preprocess, 241.4ms inference, 0.0ms postprocess per image at shape (1, 3, 608, 800)\n",
      "\n"
     ]
    },
    {
     "name": "stdout",
     "output_type": "stream",
     "text": [
      "Labels: deque([(), ('P',), ('P',), ('P',), ('P',)], maxlen=5)\n"
     ]
    },
    {
     "name": "stderr",
     "output_type": "stream",
     "text": [
      "0: 608x800 1 Plastic, 247.6ms\n",
      "Speed: 4.0ms preprocess, 247.6ms inference, 1.0ms postprocess per image at shape (1, 3, 608, 800)\n",
      "\n"
     ]
    },
    {
     "name": "stdout",
     "output_type": "stream",
     "text": [
      "Labels: deque([('P',), ('P',), ('P',), ('P',), ('P',)], maxlen=5)\n"
     ]
    },
    {
     "name": "stderr",
     "output_type": "stream",
     "text": [
      "0: 608x800 1 Plastic, 251.5ms\n",
      "Speed: 7.0ms preprocess, 251.5ms inference, 1.0ms postprocess per image at shape (1, 3, 608, 800)\n",
      "\n"
     ]
    },
    {
     "name": "stdout",
     "output_type": "stream",
     "text": [
      "Response from ESP32: P CMD: Action for 'P' command\n",
      "Labels: deque([('P',), ('P',), ('P',), ('P',), ('P',)], maxlen=5)\n"
     ]
    },
    {
     "name": "stderr",
     "output_type": "stream",
     "text": [
      "0: 608x800 1 Plastic, 242.8ms\n",
      "Speed: 3.0ms preprocess, 242.8ms inference, 1.3ms postprocess per image at shape (1, 3, 608, 800)\n",
      "\n"
     ]
    },
    {
     "name": "stdout",
     "output_type": "stream",
     "text": [
      "Labels: deque([('P',), ('P',), ('P',), ('P',), ('P',)], maxlen=5)\n"
     ]
    },
    {
     "name": "stderr",
     "output_type": "stream",
     "text": [
      "0: 608x800 1 Plastic, 240.2ms\n",
      "Speed: 2.0ms preprocess, 240.2ms inference, 1.0ms postprocess per image at shape (1, 3, 608, 800)\n",
      "\n"
     ]
    },
    {
     "name": "stdout",
     "output_type": "stream",
     "text": [
      "Labels: deque([('P',), ('P',), ('P',), ('P',), ('P',)], maxlen=5)\n"
     ]
    },
    {
     "name": "stderr",
     "output_type": "stream",
     "text": [
      "0: 608x800 (no detections), 232.7ms\n",
      "Speed: 5.2ms preprocess, 232.7ms inference, 1.0ms postprocess per image at shape (1, 3, 608, 800)\n",
      "\n"
     ]
    },
    {
     "name": "stdout",
     "output_type": "stream",
     "text": [
      "Labels: deque([('P',), ('P',), ('P',), ('P',), ()], maxlen=5)\n"
     ]
    },
    {
     "name": "stderr",
     "output_type": "stream",
     "text": [
      "0: 608x800 (no detections), 250.8ms\n",
      "Speed: 0.0ms preprocess, 250.8ms inference, 0.0ms postprocess per image at shape (1, 3, 608, 800)\n",
      "\n"
     ]
    },
    {
     "name": "stdout",
     "output_type": "stream",
     "text": [
      "Labels: deque([('P',), ('P',), ('P',), (), ()], maxlen=5)\n"
     ]
    },
    {
     "name": "stderr",
     "output_type": "stream",
     "text": [
      "0: 608x800 1 Metal, 274.1ms\n",
      "Speed: 6.0ms preprocess, 274.1ms inference, 1.0ms postprocess per image at shape (1, 3, 608, 800)\n",
      "\n"
     ]
    },
    {
     "name": "stdout",
     "output_type": "stream",
     "text": [
      "Labels: deque([('P',), ('P',), (), (), ('m',)], maxlen=5)\n"
     ]
    },
    {
     "name": "stderr",
     "output_type": "stream",
     "text": [
      "0: 608x800 (no detections), 289.8ms\n",
      "Speed: 6.0ms preprocess, 289.8ms inference, 0.0ms postprocess per image at shape (1, 3, 608, 800)\n",
      "\n"
     ]
    },
    {
     "name": "stdout",
     "output_type": "stream",
     "text": [
      "Labels: deque([('P',), (), (), ('m',), ()], maxlen=5)\n"
     ]
    },
    {
     "name": "stderr",
     "output_type": "stream",
     "text": [
      "0: 608x800 1 Plastic, 248.9ms\n",
      "Speed: 5.4ms preprocess, 248.9ms inference, 1.0ms postprocess per image at shape (1, 3, 608, 800)\n",
      "\n"
     ]
    },
    {
     "name": "stdout",
     "output_type": "stream",
     "text": [
      "Labels: deque([(), (), ('m',), (), ('P',)], maxlen=5)\n"
     ]
    },
    {
     "name": "stderr",
     "output_type": "stream",
     "text": [
      "0: 608x800 1 Plastic, 243.5ms\n",
      "Speed: 5.0ms preprocess, 243.5ms inference, 2.0ms postprocess per image at shape (1, 3, 608, 800)\n",
      "\n"
     ]
    },
    {
     "name": "stdout",
     "output_type": "stream",
     "text": [
      "Labels: deque([(), ('m',), (), ('P',), ('P',)], maxlen=5)\n"
     ]
    },
    {
     "name": "stderr",
     "output_type": "stream",
     "text": [
      "0: 608x800 1 Plastic, 248.4ms\n",
      "Speed: 5.0ms preprocess, 248.4ms inference, 1.0ms postprocess per image at shape (1, 3, 608, 800)\n",
      "\n"
     ]
    },
    {
     "name": "stdout",
     "output_type": "stream",
     "text": [
      "Labels: deque([('m',), (), ('P',), ('P',), ('P',)], maxlen=5)\n"
     ]
    },
    {
     "name": "stderr",
     "output_type": "stream",
     "text": [
      "0: 608x800 1 Plastic, 241.5ms\n",
      "Speed: 5.7ms preprocess, 241.5ms inference, 1.0ms postprocess per image at shape (1, 3, 608, 800)\n",
      "\n"
     ]
    },
    {
     "name": "stdout",
     "output_type": "stream",
     "text": [
      "Labels: deque([(), ('P',), ('P',), ('P',), ('P',)], maxlen=5)\n"
     ]
    },
    {
     "name": "stderr",
     "output_type": "stream",
     "text": [
      "0: 608x800 1 Plastic, 246.6ms\n",
      "Speed: 6.0ms preprocess, 246.6ms inference, 1.0ms postprocess per image at shape (1, 3, 608, 800)\n",
      "\n"
     ]
    },
    {
     "name": "stdout",
     "output_type": "stream",
     "text": [
      "Labels: deque([('P',), ('P',), ('P',), ('P',), ('P',)], maxlen=5)\n"
     ]
    },
    {
     "name": "stderr",
     "output_type": "stream",
     "text": [
      "0: 608x800 1 Plastic, 258.8ms\n",
      "Speed: 5.0ms preprocess, 258.8ms inference, 1.0ms postprocess per image at shape (1, 3, 608, 800)\n",
      "\n"
     ]
    },
    {
     "name": "stdout",
     "output_type": "stream",
     "text": [
      "Labels: deque([('P',), ('P',), ('P',), ('P',), ('P',)], maxlen=5)\n"
     ]
    },
    {
     "name": "stderr",
     "output_type": "stream",
     "text": [
      "0: 608x800 1 Metal, 283.8ms\n",
      "Speed: 6.0ms preprocess, 283.8ms inference, 1.0ms postprocess per image at shape (1, 3, 608, 800)\n",
      "\n"
     ]
    },
    {
     "name": "stdout",
     "output_type": "stream",
     "text": [
      "Labels: deque([('P',), ('P',), ('P',), ('P',), ('m',)], maxlen=5)\n"
     ]
    },
    {
     "name": "stderr",
     "output_type": "stream",
     "text": [
      "0: 608x800 1 Metal, 272.9ms\n",
      "Speed: 6.6ms preprocess, 272.9ms inference, 1.0ms postprocess per image at shape (1, 3, 608, 800)\n",
      "\n"
     ]
    },
    {
     "name": "stdout",
     "output_type": "stream",
     "text": [
      "Labels: deque([('P',), ('P',), ('P',), ('m',), ('m',)], maxlen=5)\n"
     ]
    },
    {
     "name": "stderr",
     "output_type": "stream",
     "text": [
      "0: 608x800 1 Metal, 248.4ms\n",
      "Speed: 5.0ms preprocess, 248.4ms inference, 1.9ms postprocess per image at shape (1, 3, 608, 800)\n",
      "\n"
     ]
    },
    {
     "name": "stdout",
     "output_type": "stream",
     "text": [
      "Labels: deque([('P',), ('P',), ('m',), ('m',), ('m',)], maxlen=5)\n"
     ]
    },
    {
     "name": "stderr",
     "output_type": "stream",
     "text": [
      "0: 608x800 1 Metal, 250.4ms\n",
      "Speed: 6.0ms preprocess, 250.4ms inference, 1.0ms postprocess per image at shape (1, 3, 608, 800)\n",
      "\n"
     ]
    },
    {
     "name": "stdout",
     "output_type": "stream",
     "text": [
      "Labels: deque([('P',), ('m',), ('m',), ('m',), ('m',)], maxlen=5)\n"
     ]
    },
    {
     "name": "stderr",
     "output_type": "stream",
     "text": [
      "0: 608x800 1 Metal, 230.8ms\n",
      "Speed: 8.7ms preprocess, 230.8ms inference, 1.0ms postprocess per image at shape (1, 3, 608, 800)\n",
      "\n"
     ]
    },
    {
     "name": "stdout",
     "output_type": "stream",
     "text": [
      "Response from ESP32: M CMD: Action for 'M' command\n",
      "Labels: deque([('m',), ('m',), ('m',), ('m',), ('m',)], maxlen=5)\n"
     ]
    },
    {
     "name": "stderr",
     "output_type": "stream",
     "text": [
      "0: 608x800 1 Metal, 247.8ms\n",
      "Speed: 4.0ms preprocess, 247.8ms inference, 0.0ms postprocess per image at shape (1, 3, 608, 800)\n",
      "\n"
     ]
    },
    {
     "name": "stdout",
     "output_type": "stream",
     "text": [
      "Labels: deque([('m',), ('m',), ('m',), ('m',), ('m',)], maxlen=5)\n"
     ]
    },
    {
     "name": "stderr",
     "output_type": "stream",
     "text": [
      "0: 608x800 1 Metal, 265.4ms\n",
      "Speed: 5.0ms preprocess, 265.4ms inference, 1.0ms postprocess per image at shape (1, 3, 608, 800)\n",
      "\n"
     ]
    },
    {
     "name": "stdout",
     "output_type": "stream",
     "text": [
      "Labels: deque([('m',), ('m',), ('m',), ('m',), ('m',)], maxlen=5)\n"
     ]
    },
    {
     "name": "stderr",
     "output_type": "stream",
     "text": [
      "0: 608x800 1 Metal, 247.0ms\n",
      "Speed: 4.0ms preprocess, 247.0ms inference, 1.0ms postprocess per image at shape (1, 3, 608, 800)\n",
      "\n"
     ]
    },
    {
     "name": "stdout",
     "output_type": "stream",
     "text": [
      "Labels: deque([('m',), ('m',), ('m',), ('m',), ('m',)], maxlen=5)\n"
     ]
    },
    {
     "name": "stderr",
     "output_type": "stream",
     "text": [
      "0: 608x800 1 Metal, 242.5ms\n",
      "Speed: 4.0ms preprocess, 242.5ms inference, 1.0ms postprocess per image at shape (1, 3, 608, 800)\n",
      "\n"
     ]
    },
    {
     "name": "stdout",
     "output_type": "stream",
     "text": [
      "Labels: deque([('m',), ('m',), ('m',), ('m',), ('m',)], maxlen=5)\n"
     ]
    },
    {
     "name": "stderr",
     "output_type": "stream",
     "text": [
      "0: 608x800 1 Metal, 277.4ms\n",
      "Speed: 2.0ms preprocess, 277.4ms inference, 2.0ms postprocess per image at shape (1, 3, 608, 800)\n",
      "\n"
     ]
    },
    {
     "name": "stdout",
     "output_type": "stream",
     "text": [
      "Response from ESP32: M CMD: Action for 'M' command\n",
      "Labels: deque([('m',), ('m',), ('m',), ('m',), ('m',)], maxlen=5)\n"
     ]
    },
    {
     "name": "stderr",
     "output_type": "stream",
     "text": [
      "0: 608x800 1 Metal, 250.1ms\n",
      "Speed: 5.0ms preprocess, 250.1ms inference, 0.5ms postprocess per image at shape (1, 3, 608, 800)\n",
      "\n"
     ]
    },
    {
     "name": "stdout",
     "output_type": "stream",
     "text": [
      "Labels: deque([('m',), ('m',), ('m',), ('m',), ('m',)], maxlen=5)\n"
     ]
    },
    {
     "name": "stderr",
     "output_type": "stream",
     "text": [
      "0: 608x800 1 Metal, 253.1ms\n",
      "Speed: 0.0ms preprocess, 253.1ms inference, 1.3ms postprocess per image at shape (1, 3, 608, 800)\n",
      "\n"
     ]
    },
    {
     "name": "stdout",
     "output_type": "stream",
     "text": [
      "Labels: deque([('m',), ('m',), ('m',), ('m',), ('m',)], maxlen=5)\n"
     ]
    },
    {
     "name": "stderr",
     "output_type": "stream",
     "text": [
      "0: 608x800 1 Metal, 256.8ms\n",
      "Speed: 5.0ms preprocess, 256.8ms inference, 0.5ms postprocess per image at shape (1, 3, 608, 800)\n",
      "\n"
     ]
    },
    {
     "name": "stdout",
     "output_type": "stream",
     "text": [
      "Labels: deque([('m',), ('m',), ('m',), ('m',), ('m',)], maxlen=5)\n"
     ]
    },
    {
     "name": "stderr",
     "output_type": "stream",
     "text": [
      "0: 608x800 1 Metal, 265.2ms\n",
      "Speed: 6.0ms preprocess, 265.2ms inference, 0.0ms postprocess per image at shape (1, 3, 608, 800)\n",
      "\n"
     ]
    },
    {
     "name": "stdout",
     "output_type": "stream",
     "text": [
      "Labels: deque([('m',), ('m',), ('m',), ('m',), ('m',)], maxlen=5)\n"
     ]
    },
    {
     "name": "stderr",
     "output_type": "stream",
     "text": [
      "0: 608x800 1 Metal, 247.9ms\n",
      "Speed: 4.0ms preprocess, 247.9ms inference, 1.0ms postprocess per image at shape (1, 3, 608, 800)\n",
      "\n"
     ]
    },
    {
     "name": "stdout",
     "output_type": "stream",
     "text": [
      "Response from ESP32: M CMD: Action for 'M' command\n",
      "Labels: deque([('m',), ('m',), ('m',), ('m',), ('m',)], maxlen=5)\n"
     ]
    },
    {
     "name": "stderr",
     "output_type": "stream",
     "text": [
      "0: 608x800 1 Metal, 245.4ms\n",
      "Speed: 3.0ms preprocess, 245.4ms inference, 0.0ms postprocess per image at shape (1, 3, 608, 800)\n",
      "\n"
     ]
    },
    {
     "name": "stdout",
     "output_type": "stream",
     "text": [
      "Labels: deque([('m',), ('m',), ('m',), ('m',), ('m',)], maxlen=5)\n"
     ]
    },
    {
     "name": "stderr",
     "output_type": "stream",
     "text": [
      "0: 608x800 1 Metal, 1 Plastic, 236.3ms\n",
      "Speed: 0.0ms preprocess, 236.3ms inference, 1.0ms postprocess per image at shape (1, 3, 608, 800)\n",
      "\n"
     ]
    },
    {
     "name": "stdout",
     "output_type": "stream",
     "text": [
      "Labels: deque([('m',), ('m',), ('m',), ('m',), ('m',)], maxlen=5)\n"
     ]
    },
    {
     "name": "stderr",
     "output_type": "stream",
     "text": [
      "0: 608x800 1 Metal, 1 Plastic, 283.6ms\n",
      "Speed: 13.0ms preprocess, 283.6ms inference, 0.0ms postprocess per image at shape (1, 3, 608, 800)\n",
      "\n"
     ]
    },
    {
     "name": "stdout",
     "output_type": "stream",
     "text": [
      "Labels: deque([('m',), ('m',), ('m',), ('m',), ('m',)], maxlen=5)\n"
     ]
    },
    {
     "name": "stderr",
     "output_type": "stream",
     "text": [
      "0: 608x800 1 Metal, 1 Plastic, 271.0ms\n",
      "Speed: 5.0ms preprocess, 271.0ms inference, 1.0ms postprocess per image at shape (1, 3, 608, 800)\n",
      "\n"
     ]
    },
    {
     "name": "stdout",
     "output_type": "stream",
     "text": [
      "Labels: deque([('m',), ('m',), ('m',), ('m',), ('m',)], maxlen=5)\n"
     ]
    },
    {
     "name": "stderr",
     "output_type": "stream",
     "text": [
      "0: 608x800 1 Metal, 2 Plastics, 248.4ms\n",
      "Speed: 5.0ms preprocess, 248.4ms inference, 1.0ms postprocess per image at shape (1, 3, 608, 800)\n",
      "\n"
     ]
    },
    {
     "name": "stdout",
     "output_type": "stream",
     "text": [
      "Response from ESP32: M CMD: Action for 'M' command\n",
      "Labels: deque([('m',), ('m',), ('m',), ('m',), ('m',)], maxlen=5)\n"
     ]
    },
    {
     "name": "stderr",
     "output_type": "stream",
     "text": [
      "0: 608x800 2 Metals, 1 Plastic, 248.3ms\n",
      "Speed: 4.0ms preprocess, 248.3ms inference, 1.0ms postprocess per image at shape (1, 3, 608, 800)\n",
      "\n"
     ]
    },
    {
     "name": "stdout",
     "output_type": "stream",
     "text": [
      "Labels: deque([('m',), ('m',), ('m',), ('m',), ('m',)], maxlen=5)\n"
     ]
    },
    {
     "name": "stderr",
     "output_type": "stream",
     "text": [
      "0: 608x800 1 Metal, 2 Plastics, 250.8ms\n",
      "Speed: 5.6ms preprocess, 250.8ms inference, 1.0ms postprocess per image at shape (1, 3, 608, 800)\n",
      "\n"
     ]
    },
    {
     "name": "stdout",
     "output_type": "stream",
     "text": [
      "Labels: deque([('m',), ('m',), ('m',), ('m',), ('m',)], maxlen=5)\n"
     ]
    },
    {
     "name": "stderr",
     "output_type": "stream",
     "text": [
      "0: 608x800 1 Plastic, 245.0ms\n",
      "Speed: 5.0ms preprocess, 245.0ms inference, 0.0ms postprocess per image at shape (1, 3, 608, 800)\n",
      "\n"
     ]
    },
    {
     "name": "stdout",
     "output_type": "stream",
     "text": [
      "Labels: deque([('m',), ('m',), ('m',), ('m',), ('P',)], maxlen=5)\n"
     ]
    },
    {
     "name": "stderr",
     "output_type": "stream",
     "text": [
      "0: 608x800 1 Plastic, 261.7ms\n",
      "Speed: 7.3ms preprocess, 261.7ms inference, 1.0ms postprocess per image at shape (1, 3, 608, 800)\n",
      "\n"
     ]
    },
    {
     "name": "stdout",
     "output_type": "stream",
     "text": [
      "Labels: deque([('m',), ('m',), ('m',), ('P',), ('P',)], maxlen=5)\n"
     ]
    },
    {
     "name": "stderr",
     "output_type": "stream",
     "text": [
      "0: 608x800 2 Plastics, 303.9ms\n",
      "Speed: 4.0ms preprocess, 303.9ms inference, 0.0ms postprocess per image at shape (1, 3, 608, 800)\n",
      "\n"
     ]
    },
    {
     "name": "stdout",
     "output_type": "stream",
     "text": [
      "Labels: deque([('m',), ('m',), ('P',), ('P',), ('P',)], maxlen=5)\n"
     ]
    },
    {
     "name": "stderr",
     "output_type": "stream",
     "text": [
      "0: 608x800 2 Plastics, 253.4ms\n",
      "Speed: 0.0ms preprocess, 253.4ms inference, 0.0ms postprocess per image at shape (1, 3, 608, 800)\n",
      "\n"
     ]
    },
    {
     "name": "stdout",
     "output_type": "stream",
     "text": [
      "Labels: deque([('m',), ('P',), ('P',), ('P',), ('P',)], maxlen=5)\n"
     ]
    },
    {
     "name": "stderr",
     "output_type": "stream",
     "text": [
      "0: 608x800 2 Plastics, 243.1ms\n",
      "Speed: 6.0ms preprocess, 243.1ms inference, 0.5ms postprocess per image at shape (1, 3, 608, 800)\n",
      "\n"
     ]
    },
    {
     "name": "stdout",
     "output_type": "stream",
     "text": [
      "Labels: deque([('P',), ('P',), ('P',), ('P',), ('P',)], maxlen=5)\n"
     ]
    },
    {
     "name": "stderr",
     "output_type": "stream",
     "text": [
      "0: 608x800 2 Plastics, 254.2ms\n",
      "Speed: 5.0ms preprocess, 254.2ms inference, 0.0ms postprocess per image at shape (1, 3, 608, 800)\n",
      "\n"
     ]
    },
    {
     "name": "stdout",
     "output_type": "stream",
     "text": [
      "Labels: deque([('P',), ('P',), ('P',), ('P',), ('P',)], maxlen=5)\n"
     ]
    },
    {
     "name": "stderr",
     "output_type": "stream",
     "text": [
      "0: 608x800 2 Metals, 238.6ms\n",
      "Speed: 5.0ms preprocess, 238.6ms inference, 1.0ms postprocess per image at shape (1, 3, 608, 800)\n",
      "\n"
     ]
    },
    {
     "name": "stdout",
     "output_type": "stream",
     "text": [
      "Labels: deque([('P',), ('P',), ('P',), ('P',), ('m',)], maxlen=5)\n"
     ]
    },
    {
     "name": "stderr",
     "output_type": "stream",
     "text": [
      "0: 608x800 2 Metals, 258.5ms\n",
      "Speed: 4.0ms preprocess, 258.5ms inference, 0.0ms postprocess per image at shape (1, 3, 608, 800)\n",
      "\n"
     ]
    },
    {
     "name": "stdout",
     "output_type": "stream",
     "text": [
      "Labels: deque([('P',), ('P',), ('P',), ('m',), ('m',)], maxlen=5)\n"
     ]
    },
    {
     "name": "stderr",
     "output_type": "stream",
     "text": [
      "0: 608x800 2 Metals, 248.5ms\n",
      "Speed: 5.4ms preprocess, 248.5ms inference, 1.0ms postprocess per image at shape (1, 3, 608, 800)\n",
      "\n"
     ]
    },
    {
     "name": "stdout",
     "output_type": "stream",
     "text": [
      "Labels: deque([('P',), ('P',), ('m',), ('m',), ('m',)], maxlen=5)\n"
     ]
    },
    {
     "name": "stderr",
     "output_type": "stream",
     "text": [
      "0: 608x800 2 Metals, 318.2ms\n",
      "Speed: 5.0ms preprocess, 318.2ms inference, 0.0ms postprocess per image at shape (1, 3, 608, 800)\n",
      "\n"
     ]
    },
    {
     "name": "stdout",
     "output_type": "stream",
     "text": [
      "Labels: deque([('P',), ('m',), ('m',), ('m',), ('m',)], maxlen=5)\n"
     ]
    },
    {
     "name": "stderr",
     "output_type": "stream",
     "text": [
      "0: 608x800 2 Metals, 246.4ms\n",
      "Speed: 4.5ms preprocess, 246.4ms inference, 2.0ms postprocess per image at shape (1, 3, 608, 800)\n",
      "\n"
     ]
    },
    {
     "name": "stdout",
     "output_type": "stream",
     "text": [
      "Response from ESP32: M CMD: Action for 'M' command\n",
      "Labels: deque([('m',), ('m',), ('m',), ('m',), ('m',)], maxlen=5)\n"
     ]
    },
    {
     "name": "stderr",
     "output_type": "stream",
     "text": [
      "0: 608x800 2 Metals, 238.4ms\n",
      "Speed: 4.0ms preprocess, 238.4ms inference, 0.8ms postprocess per image at shape (1, 3, 608, 800)\n",
      "\n"
     ]
    },
    {
     "name": "stdout",
     "output_type": "stream",
     "text": [
      "Labels: deque([('m',), ('m',), ('m',), ('m',), ('m',)], maxlen=5)\n"
     ]
    },
    {
     "name": "stderr",
     "output_type": "stream",
     "text": [
      "0: 608x800 2 Metals, 254.7ms\n",
      "Speed: 0.0ms preprocess, 254.7ms inference, 1.0ms postprocess per image at shape (1, 3, 608, 800)\n",
      "\n"
     ]
    },
    {
     "name": "stdout",
     "output_type": "stream",
     "text": [
      "Labels: deque([('m',), ('m',), ('m',), ('m',), ('m',)], maxlen=5)\n"
     ]
    },
    {
     "name": "stderr",
     "output_type": "stream",
     "text": [
      "0: 608x800 2 Metals, 255.9ms\n",
      "Speed: 6.0ms preprocess, 255.9ms inference, 1.0ms postprocess per image at shape (1, 3, 608, 800)\n",
      "\n"
     ]
    },
    {
     "name": "stdout",
     "output_type": "stream",
     "text": [
      "Labels: deque([('m',), ('m',), ('m',), ('m',), ('m',)], maxlen=5)\n"
     ]
    },
    {
     "name": "stderr",
     "output_type": "stream",
     "text": [
      "0: 608x800 1 Glass, 1 Metal, 1 Plastic, 261.5ms\n",
      "Speed: 7.0ms preprocess, 261.5ms inference, 1.0ms postprocess per image at shape (1, 3, 608, 800)\n",
      "\n"
     ]
    },
    {
     "name": "stdout",
     "output_type": "stream",
     "text": [
      "Labels: deque([('m',), ('m',), ('m',), ('m',), ('P',)], maxlen=5)\n"
     ]
    },
    {
     "name": "stderr",
     "output_type": "stream",
     "text": [
      "0: 608x800 1 Plastic, 261.9ms\n",
      "Speed: 4.0ms preprocess, 261.9ms inference, 1.0ms postprocess per image at shape (1, 3, 608, 800)\n",
      "\n"
     ]
    },
    {
     "name": "stdout",
     "output_type": "stream",
     "text": [
      "Labels: deque([('m',), ('m',), ('m',), ('P',), ('P',)], maxlen=5)\n"
     ]
    },
    {
     "name": "stderr",
     "output_type": "stream",
     "text": [
      "0: 608x800 1 Plastic, 277.8ms\n",
      "Speed: 6.0ms preprocess, 277.8ms inference, 0.0ms postprocess per image at shape (1, 3, 608, 800)\n",
      "\n"
     ]
    },
    {
     "name": "stdout",
     "output_type": "stream",
     "text": [
      "Labels: deque([('m',), ('m',), ('P',), ('P',), ('P',)], maxlen=5)\n"
     ]
    },
    {
     "name": "stderr",
     "output_type": "stream",
     "text": [
      "0: 608x800 1 Plastic, 230.8ms\n",
      "Speed: 5.0ms preprocess, 230.8ms inference, 0.0ms postprocess per image at shape (1, 3, 608, 800)\n",
      "\n"
     ]
    },
    {
     "name": "stdout",
     "output_type": "stream",
     "text": [
      "Labels: deque([('m',), ('P',), ('P',), ('P',), ('P',)], maxlen=5)\n"
     ]
    },
    {
     "name": "stderr",
     "output_type": "stream",
     "text": [
      "0: 608x800 1 Plastic, 259.2ms\n",
      "Speed: 0.0ms preprocess, 259.2ms inference, 1.0ms postprocess per image at shape (1, 3, 608, 800)\n",
      "\n"
     ]
    },
    {
     "name": "stdout",
     "output_type": "stream",
     "text": [
      "Labels: deque([('P',), ('P',), ('P',), ('P',), ('P',)], maxlen=5)\n"
     ]
    },
    {
     "name": "stderr",
     "output_type": "stream",
     "text": [
      "0: 608x800 1 Metal, 243.1ms\n",
      "Speed: 4.0ms preprocess, 243.1ms inference, 0.0ms postprocess per image at shape (1, 3, 608, 800)\n",
      "\n"
     ]
    },
    {
     "name": "stdout",
     "output_type": "stream",
     "text": [
      "Labels: deque([('P',), ('P',), ('P',), ('P',), ('m',)], maxlen=5)\n"
     ]
    },
    {
     "name": "stderr",
     "output_type": "stream",
     "text": [
      "0: 608x800 1 Metal, 255.8ms\n",
      "Speed: 6.0ms preprocess, 255.8ms inference, 1.0ms postprocess per image at shape (1, 3, 608, 800)\n",
      "\n"
     ]
    },
    {
     "name": "stdout",
     "output_type": "stream",
     "text": [
      "Labels: deque([('P',), ('P',), ('P',), ('m',), ('m',)], maxlen=5)\n"
     ]
    },
    {
     "name": "stderr",
     "output_type": "stream",
     "text": [
      "0: 608x800 1 Metal, 334.4ms\n",
      "Speed: 6.2ms preprocess, 334.4ms inference, 1.0ms postprocess per image at shape (1, 3, 608, 800)\n",
      "\n"
     ]
    },
    {
     "name": "stdout",
     "output_type": "stream",
     "text": [
      "Labels: deque([('P',), ('P',), ('m',), ('m',), ('m',)], maxlen=5)\n"
     ]
    },
    {
     "name": "stderr",
     "output_type": "stream",
     "text": [
      "0: 608x800 1 Metal, 1 Plastic, 241.4ms\n",
      "Speed: 5.0ms preprocess, 241.4ms inference, 1.0ms postprocess per image at shape (1, 3, 608, 800)\n",
      "\n"
     ]
    },
    {
     "name": "stdout",
     "output_type": "stream",
     "text": [
      "Labels: deque([('P',), ('m',), ('m',), ('m',), ('m',)], maxlen=5)\n"
     ]
    },
    {
     "name": "stderr",
     "output_type": "stream",
     "text": [
      "0: 608x800 1 Metal, 1 Plastic, 286.1ms\n",
      "Speed: 0.0ms preprocess, 286.1ms inference, 1.0ms postprocess per image at shape (1, 3, 608, 800)\n",
      "\n"
     ]
    },
    {
     "name": "stdout",
     "output_type": "stream",
     "text": [
      "Response from ESP32: M CMD: Action for 'M' command\n",
      "Labels: deque([('m',), ('m',), ('m',), ('m',), ('m',)], maxlen=5)\n"
     ]
    },
    {
     "name": "stderr",
     "output_type": "stream",
     "text": [
      "0: 608x800 1 Metal, 1 Plastic, 319.6ms\n",
      "Speed: 6.5ms preprocess, 319.6ms inference, 1.0ms postprocess per image at shape (1, 3, 608, 800)\n",
      "\n"
     ]
    },
    {
     "name": "stdout",
     "output_type": "stream",
     "text": [
      "Labels: deque([('m',), ('m',), ('m',), ('m',), ('m',)], maxlen=5)\n"
     ]
    },
    {
     "name": "stderr",
     "output_type": "stream",
     "text": [
      "0: 608x800 2 Metals, 1 Plastic, 268.9ms\n",
      "Speed: 6.0ms preprocess, 268.9ms inference, 1.0ms postprocess per image at shape (1, 3, 608, 800)\n",
      "\n"
     ]
    },
    {
     "name": "stdout",
     "output_type": "stream",
     "text": [
      "Labels: deque([('m',), ('m',), ('m',), ('m',), ('m',)], maxlen=5)\n"
     ]
    },
    {
     "name": "stderr",
     "output_type": "stream",
     "text": [
      "0: 608x800 2 Metals, 261.3ms\n",
      "Speed: 5.0ms preprocess, 261.3ms inference, 2.0ms postprocess per image at shape (1, 3, 608, 800)\n",
      "\n"
     ]
    },
    {
     "name": "stdout",
     "output_type": "stream",
     "text": [
      "Labels: deque([('m',), ('m',), ('m',), ('m',), ('m',)], maxlen=5)\n"
     ]
    },
    {
     "name": "stderr",
     "output_type": "stream",
     "text": [
      "0: 608x800 1 Metal, 286.1ms\n",
      "Speed: 7.0ms preprocess, 286.1ms inference, 1.6ms postprocess per image at shape (1, 3, 608, 800)\n",
      "\n"
     ]
    },
    {
     "name": "stdout",
     "output_type": "stream",
     "text": [
      "Labels: deque([('m',), ('m',), ('m',), ('m',), ('m',)], maxlen=5)\n"
     ]
    },
    {
     "name": "stderr",
     "output_type": "stream",
     "text": [
      "0: 608x800 2 Metals, 1 Plastic, 259.3ms\n",
      "Speed: 5.8ms preprocess, 259.3ms inference, 2.0ms postprocess per image at shape (1, 3, 608, 800)\n",
      "\n"
     ]
    },
    {
     "name": "stdout",
     "output_type": "stream",
     "text": [
      "Response from ESP32: M CMD: Action for 'M' command\n",
      "Labels: deque([('m',), ('m',), ('m',), ('m',), ('m',)], maxlen=5)\n"
     ]
    },
    {
     "name": "stderr",
     "output_type": "stream",
     "text": [
      "0: 608x800 1 Metal, 1 Plastic, 294.4ms\n",
      "Speed: 0.0ms preprocess, 294.4ms inference, 1.1ms postprocess per image at shape (1, 3, 608, 800)\n",
      "\n"
     ]
    },
    {
     "name": "stdout",
     "output_type": "stream",
     "text": [
      "Labels: deque([('m',), ('m',), ('m',), ('m',), ('m',)], maxlen=5)\n"
     ]
    },
    {
     "name": "stderr",
     "output_type": "stream",
     "text": [
      "0: 608x800 1 Metal, 1 Plastic, 295.5ms\n",
      "Speed: 5.8ms preprocess, 295.5ms inference, 1.0ms postprocess per image at shape (1, 3, 608, 800)\n",
      "\n"
     ]
    },
    {
     "name": "stdout",
     "output_type": "stream",
     "text": [
      "Labels: deque([('m',), ('m',), ('m',), ('m',), ('m',)], maxlen=5)\n"
     ]
    },
    {
     "name": "stderr",
     "output_type": "stream",
     "text": [
      "0: 608x800 1 Metal, 1 Plastic, 295.5ms\n",
      "Speed: 3.5ms preprocess, 295.5ms inference, 0.0ms postprocess per image at shape (1, 3, 608, 800)\n",
      "\n"
     ]
    },
    {
     "name": "stdout",
     "output_type": "stream",
     "text": [
      "Labels: deque([('m',), ('m',), ('m',), ('m',), ('m',)], maxlen=5)\n"
     ]
    },
    {
     "name": "stderr",
     "output_type": "stream",
     "text": [
      "0: 608x800 2 Metals, 2 Plastics, 268.2ms\n",
      "Speed: 7.5ms preprocess, 268.2ms inference, 0.0ms postprocess per image at shape (1, 3, 608, 800)\n",
      "\n"
     ]
    },
    {
     "name": "stdout",
     "output_type": "stream",
     "text": [
      "Labels: deque([('m',), ('m',), ('m',), ('m',), ('m',)], maxlen=5)\n"
     ]
    },
    {
     "name": "stderr",
     "output_type": "stream",
     "text": [
      "0: 608x800 1 Metal, 2 Plastics, 267.5ms\n",
      "Speed: 5.0ms preprocess, 267.5ms inference, 1.2ms postprocess per image at shape (1, 3, 608, 800)\n",
      "\n"
     ]
    },
    {
     "name": "stdout",
     "output_type": "stream",
     "text": [
      "Response from ESP32: M CMD: Action for 'M' command\n",
      "Labels: deque([('m',), ('m',), ('m',), ('m',), ('m',)], maxlen=5)\n"
     ]
    },
    {
     "name": "stderr",
     "output_type": "stream",
     "text": [
      "0: 608x800 1 Metal, 2 Plastics, 263.9ms\n",
      "Speed: 0.0ms preprocess, 263.9ms inference, 1.0ms postprocess per image at shape (1, 3, 608, 800)\n",
      "\n"
     ]
    },
    {
     "name": "stdout",
     "output_type": "stream",
     "text": [
      "Labels: deque([('m',), ('m',), ('m',), ('m',), ('m',)], maxlen=5)\n"
     ]
    },
    {
     "name": "stderr",
     "output_type": "stream",
     "text": [
      "0: 608x800 2 Metals, 2 Plastics, 293.0ms\n",
      "Speed: 10.1ms preprocess, 293.0ms inference, 1.0ms postprocess per image at shape (1, 3, 608, 800)\n",
      "\n"
     ]
    },
    {
     "name": "stdout",
     "output_type": "stream",
     "text": [
      "Labels: deque([('m',), ('m',), ('m',), ('m',), ('m',)], maxlen=5)\n"
     ]
    },
    {
     "name": "stderr",
     "output_type": "stream",
     "text": [
      "0: 608x800 1 Metal, 1 Plastic, 275.3ms\n",
      "Speed: 0.0ms preprocess, 275.3ms inference, 1.0ms postprocess per image at shape (1, 3, 608, 800)\n",
      "\n"
     ]
    },
    {
     "name": "stdout",
     "output_type": "stream",
     "text": [
      "Labels: deque([('m',), ('m',), ('m',), ('m',), ('m',)], maxlen=5)\n"
     ]
    },
    {
     "name": "stderr",
     "output_type": "stream",
     "text": [
      "0: 608x800 2 Metals, 1 Plastic, 269.7ms\n",
      "Speed: 0.0ms preprocess, 269.7ms inference, 1.0ms postprocess per image at shape (1, 3, 608, 800)\n",
      "\n"
     ]
    },
    {
     "name": "stdout",
     "output_type": "stream",
     "text": [
      "Labels: deque([('m',), ('m',), ('m',), ('m',), ('m',)], maxlen=5)\n"
     ]
    },
    {
     "name": "stderr",
     "output_type": "stream",
     "text": [
      "0: 608x800 2 Metals, 1 Plastic, 286.0ms\n",
      "Speed: 5.0ms preprocess, 286.0ms inference, 1.0ms postprocess per image at shape (1, 3, 608, 800)\n",
      "\n"
     ]
    },
    {
     "name": "stdout",
     "output_type": "stream",
     "text": [
      "Response from ESP32: M CMD: Action for 'M' command\n",
      "Labels: deque([('m',), ('m',), ('m',), ('m',), ('m',)], maxlen=5)\n"
     ]
    },
    {
     "name": "stderr",
     "output_type": "stream",
     "text": [
      "0: 608x800 2 Metals, 1 Plastic, 273.7ms\n",
      "Speed: 4.0ms preprocess, 273.7ms inference, 1.0ms postprocess per image at shape (1, 3, 608, 800)\n",
      "\n"
     ]
    },
    {
     "name": "stdout",
     "output_type": "stream",
     "text": [
      "Labels: deque([('m',), ('m',), ('m',), ('m',), ('m',)], maxlen=5)\n"
     ]
    },
    {
     "name": "stderr",
     "output_type": "stream",
     "text": [
      "0: 608x800 2 Metals, 1 Plastic, 275.1ms\n",
      "Speed: 5.0ms preprocess, 275.1ms inference, 1.0ms postprocess per image at shape (1, 3, 608, 800)\n",
      "\n"
     ]
    },
    {
     "name": "stdout",
     "output_type": "stream",
     "text": [
      "Labels: deque([('m',), ('m',), ('m',), ('m',), ('m',)], maxlen=5)\n"
     ]
    },
    {
     "name": "stderr",
     "output_type": "stream",
     "text": [
      "0: 608x800 1 Plastic, 265.5ms\n",
      "Speed: 7.9ms preprocess, 265.5ms inference, 0.0ms postprocess per image at shape (1, 3, 608, 800)\n",
      "\n"
     ]
    },
    {
     "name": "stdout",
     "output_type": "stream",
     "text": [
      "Labels: deque([('m',), ('m',), ('m',), ('m',), ('P',)], maxlen=5)\n"
     ]
    },
    {
     "name": "stderr",
     "output_type": "stream",
     "text": [
      "0: 608x800 1 Plastic, 299.7ms\n",
      "Speed: 0.0ms preprocess, 299.7ms inference, 0.0ms postprocess per image at shape (1, 3, 608, 800)\n",
      "\n"
     ]
    },
    {
     "name": "stdout",
     "output_type": "stream",
     "text": [
      "Labels: deque([('m',), ('m',), ('m',), ('P',), ('P',)], maxlen=5)\n"
     ]
    },
    {
     "name": "stderr",
     "output_type": "stream",
     "text": [
      "0: 608x800 1 Plastic, 285.2ms\n",
      "Speed: 0.0ms preprocess, 285.2ms inference, 2.0ms postprocess per image at shape (1, 3, 608, 800)\n",
      "\n"
     ]
    },
    {
     "name": "stdout",
     "output_type": "stream",
     "text": [
      "Labels: deque([('m',), ('m',), ('P',), ('P',), ('P',)], maxlen=5)\n"
     ]
    },
    {
     "name": "stderr",
     "output_type": "stream",
     "text": [
      "0: 608x800 1 Plastic, 288.9ms\n",
      "Speed: 4.0ms preprocess, 288.9ms inference, 1.0ms postprocess per image at shape (1, 3, 608, 800)\n",
      "\n"
     ]
    },
    {
     "name": "stdout",
     "output_type": "stream",
     "text": [
      "Labels: deque([('m',), ('P',), ('P',), ('P',), ('P',)], maxlen=5)\n"
     ]
    },
    {
     "name": "stderr",
     "output_type": "stream",
     "text": [
      "0: 608x800 1 Plastic, 276.7ms\n",
      "Speed: 4.6ms preprocess, 276.7ms inference, 2.0ms postprocess per image at shape (1, 3, 608, 800)\n",
      "\n"
     ]
    },
    {
     "name": "stdout",
     "output_type": "stream",
     "text": [
      "Labels: deque([('P',), ('P',), ('P',), ('P',), ('P',)], maxlen=5)\n"
     ]
    },
    {
     "name": "stderr",
     "output_type": "stream",
     "text": [
      "0: 608x800 2 Metals, 1 Plastic, 285.9ms\n",
      "Speed: 6.0ms preprocess, 285.9ms inference, 1.0ms postprocess per image at shape (1, 3, 608, 800)\n",
      "\n"
     ]
    },
    {
     "name": "stdout",
     "output_type": "stream",
     "text": [
      "Labels: deque([('P',), ('P',), ('P',), ('P',), ('m',)], maxlen=5)\n"
     ]
    },
    {
     "name": "stderr",
     "output_type": "stream",
     "text": [
      "0: 608x800 2 Metals, 1 Plastic, 284.8ms\n",
      "Speed: 5.0ms preprocess, 284.8ms inference, 1.0ms postprocess per image at shape (1, 3, 608, 800)\n",
      "\n"
     ]
    },
    {
     "name": "stdout",
     "output_type": "stream",
     "text": [
      "Labels: deque([('P',), ('P',), ('P',), ('m',), ('m',)], maxlen=5)\n"
     ]
    },
    {
     "name": "stderr",
     "output_type": "stream",
     "text": [
      "0: 608x800 2 Metals, 1 Plastic, 265.3ms\n",
      "Speed: 5.0ms preprocess, 265.3ms inference, 1.0ms postprocess per image at shape (1, 3, 608, 800)\n",
      "\n"
     ]
    },
    {
     "name": "stdout",
     "output_type": "stream",
     "text": [
      "Labels: deque([('P',), ('P',), ('m',), ('m',), ('m',)], maxlen=5)\n"
     ]
    },
    {
     "name": "stderr",
     "output_type": "stream",
     "text": [
      "0: 608x800 2 Metals, 1 Plastic, 269.9ms\n",
      "Speed: 5.0ms preprocess, 269.9ms inference, 0.0ms postprocess per image at shape (1, 3, 608, 800)\n",
      "\n"
     ]
    },
    {
     "name": "stdout",
     "output_type": "stream",
     "text": [
      "Labels: deque([('P',), ('m',), ('m',), ('m',), ('m',)], maxlen=5)\n"
     ]
    },
    {
     "name": "stderr",
     "output_type": "stream",
     "text": [
      "0: 608x800 2 Metals, 1 Plastic, 310.4ms\n",
      "Speed: 5.6ms preprocess, 310.4ms inference, 1.0ms postprocess per image at shape (1, 3, 608, 800)\n",
      "\n"
     ]
    },
    {
     "name": "stdout",
     "output_type": "stream",
     "text": [
      "Labels: deque([('m',), ('m',), ('m',), ('m',), ('m',)], maxlen=5)\n"
     ]
    },
    {
     "name": "stderr",
     "output_type": "stream",
     "text": [
      "0: 608x800 2 Metals, 1 Plastic, 339.0ms\n",
      "Speed: 7.0ms preprocess, 339.0ms inference, 1.0ms postprocess per image at shape (1, 3, 608, 800)\n",
      "\n"
     ]
    },
    {
     "name": "stdout",
     "output_type": "stream",
     "text": [
      "Response from ESP32: M CMD: Action for 'M' command\n",
      "Labels: deque([('m',), ('m',), ('m',), ('m',), ('m',)], maxlen=5)\n"
     ]
    },
    {
     "name": "stderr",
     "output_type": "stream",
     "text": [
      "0: 608x800 1 Glass, 293.1ms\n",
      "Speed: 4.0ms preprocess, 293.1ms inference, 3.0ms postprocess per image at shape (1, 3, 608, 800)\n",
      "\n"
     ]
    },
    {
     "name": "stdout",
     "output_type": "stream",
     "text": [
      "Labels: deque([('m',), ('m',), ('m',), ('m',), ('P',)], maxlen=5)\n"
     ]
    },
    {
     "name": "stderr",
     "output_type": "stream",
     "text": [
      "0: 608x800 1 Glass, 322.0ms\n",
      "Speed: 5.2ms preprocess, 322.0ms inference, 1.0ms postprocess per image at shape (1, 3, 608, 800)\n",
      "\n"
     ]
    },
    {
     "name": "stdout",
     "output_type": "stream",
     "text": [
      "Labels: deque([('m',), ('m',), ('m',), ('P',), ('P',)], maxlen=5)\n"
     ]
    },
    {
     "name": "stderr",
     "output_type": "stream",
     "text": [
      "0: 608x800 1 Glass, 286.7ms\n",
      "Speed: 4.0ms preprocess, 286.7ms inference, 1.0ms postprocess per image at shape (1, 3, 608, 800)\n",
      "\n"
     ]
    },
    {
     "name": "stdout",
     "output_type": "stream",
     "text": [
      "Labels: deque([('m',), ('m',), ('P',), ('P',), ('P',)], maxlen=5)\n"
     ]
    },
    {
     "name": "stderr",
     "output_type": "stream",
     "text": [
      "0: 608x800 1 Glass, 285.4ms\n",
      "Speed: 5.0ms preprocess, 285.4ms inference, 1.0ms postprocess per image at shape (1, 3, 608, 800)\n",
      "\n"
     ]
    },
    {
     "name": "stdout",
     "output_type": "stream",
     "text": [
      "Labels: deque([('m',), ('P',), ('P',), ('P',), ('P',)], maxlen=5)\n"
     ]
    },
    {
     "name": "stderr",
     "output_type": "stream",
     "text": [
      "0: 608x800 1 Glass, 392.2ms\n",
      "Speed: 5.0ms preprocess, 392.2ms inference, 2.0ms postprocess per image at shape (1, 3, 608, 800)\n",
      "\n"
     ]
    },
    {
     "name": "stdout",
     "output_type": "stream",
     "text": [
      "Labels: deque([('P',), ('P',), ('P',), ('P',), ('P',)], maxlen=5)\n"
     ]
    },
    {
     "name": "stderr",
     "output_type": "stream",
     "text": [
      "0: 608x800 1 Glass, 424.3ms\n",
      "Speed: 6.0ms preprocess, 424.3ms inference, 1.0ms postprocess per image at shape (1, 3, 608, 800)\n",
      "\n"
     ]
    },
    {
     "name": "stdout",
     "output_type": "stream",
     "text": [
      "Labels: deque([('P',), ('P',), ('P',), ('P',), ('P',)], maxlen=5)\n"
     ]
    },
    {
     "name": "stderr",
     "output_type": "stream",
     "text": [
      "0: 608x800 1 Glass, 301.7ms\n",
      "Speed: 5.0ms preprocess, 301.7ms inference, 2.0ms postprocess per image at shape (1, 3, 608, 800)\n",
      "\n"
     ]
    },
    {
     "name": "stdout",
     "output_type": "stream",
     "text": [
      "Labels: deque([('P',), ('P',), ('P',), ('P',), ('P',)], maxlen=5)\n"
     ]
    },
    {
     "name": "stderr",
     "output_type": "stream",
     "text": [
      "0: 608x800 1 Glass, 1 Plastic, 401.6ms\n",
      "Speed: 13.3ms preprocess, 401.6ms inference, 1.0ms postprocess per image at shape (1, 3, 608, 800)\n",
      "\n"
     ]
    },
    {
     "name": "stdout",
     "output_type": "stream",
     "text": [
      "Labels: deque([('P',), ('P',), ('P',), ('P',), ('P',)], maxlen=5)\n"
     ]
    },
    {
     "name": "stderr",
     "output_type": "stream",
     "text": [
      "0: 608x800 1 Glass, 1 Plastic, 269.0ms\n",
      "Speed: 6.0ms preprocess, 269.0ms inference, 0.0ms postprocess per image at shape (1, 3, 608, 800)\n",
      "\n"
     ]
    },
    {
     "name": "stdout",
     "output_type": "stream",
     "text": [
      "Response from ESP32: P CMD: Action for 'P' command\n",
      "Labels: deque([('P',), ('P',), ('P',), ('P',), ('P',)], maxlen=5)\n"
     ]
    },
    {
     "name": "stderr",
     "output_type": "stream",
     "text": [
      "0: 608x800 1 Glass, 1 Plastic, 253.1ms\n",
      "Speed: 3.0ms preprocess, 253.1ms inference, 2.0ms postprocess per image at shape (1, 3, 608, 800)\n",
      "\n"
     ]
    },
    {
     "name": "stdout",
     "output_type": "stream",
     "text": [
      "Labels: deque([('P',), ('P',), ('P',), ('P',), ('P',)], maxlen=5)\n"
     ]
    },
    {
     "name": "stderr",
     "output_type": "stream",
     "text": [
      "0: 608x800 2 Glasss, 1 Plastic, 261.0ms\n",
      "Speed: 5.9ms preprocess, 261.0ms inference, 1.0ms postprocess per image at shape (1, 3, 608, 800)\n",
      "\n"
     ]
    },
    {
     "name": "stdout",
     "output_type": "stream",
     "text": [
      "Labels: deque([('P',), ('P',), ('P',), ('P',), ('P',)], maxlen=5)\n"
     ]
    },
    {
     "name": "stderr",
     "output_type": "stream",
     "text": [
      "0: 608x800 2 Glasss, 1 Plastic, 261.2ms\n",
      "Speed: 6.0ms preprocess, 261.2ms inference, 2.0ms postprocess per image at shape (1, 3, 608, 800)\n",
      "\n"
     ]
    },
    {
     "name": "stdout",
     "output_type": "stream",
     "text": [
      "Labels: deque([('P',), ('P',), ('P',), ('P',), ('P',)], maxlen=5)\n"
     ]
    },
    {
     "name": "stderr",
     "output_type": "stream",
     "text": [
      "0: 608x800 2 Glasss, 1 Plastic, 273.2ms\n",
      "Speed: 30.0ms preprocess, 273.2ms inference, 1.0ms postprocess per image at shape (1, 3, 608, 800)\n",
      "\n"
     ]
    },
    {
     "name": "stdout",
     "output_type": "stream",
     "text": [
      "Labels: deque([('P',), ('P',), ('P',), ('P',), ('P',)], maxlen=5)\n"
     ]
    },
    {
     "name": "stderr",
     "output_type": "stream",
     "text": [
      "0: 608x800 1 Metal, 266.1ms\n",
      "Speed: 6.0ms preprocess, 266.1ms inference, 1.0ms postprocess per image at shape (1, 3, 608, 800)\n",
      "\n"
     ]
    },
    {
     "name": "stdout",
     "output_type": "stream",
     "text": [
      "Labels: deque([('P',), ('P',), ('P',), ('P',), ('m',)], maxlen=5)\n"
     ]
    },
    {
     "name": "stderr",
     "output_type": "stream",
     "text": [
      "0: 608x800 1 Metal, 265.3ms\n",
      "Speed: 6.0ms preprocess, 265.3ms inference, 1.0ms postprocess per image at shape (1, 3, 608, 800)\n",
      "\n"
     ]
    },
    {
     "name": "stdout",
     "output_type": "stream",
     "text": [
      "Labels: deque([('P',), ('P',), ('P',), ('m',), ('m',)], maxlen=5)\n"
     ]
    },
    {
     "name": "stderr",
     "output_type": "stream",
     "text": [
      "0: 608x800 1 Metal, 272.0ms\n",
      "Speed: 3.4ms preprocess, 272.0ms inference, 1.0ms postprocess per image at shape (1, 3, 608, 800)\n",
      "\n"
     ]
    },
    {
     "name": "stdout",
     "output_type": "stream",
     "text": [
      "Labels: deque([('P',), ('P',), ('m',), ('m',), ('m',)], maxlen=5)\n"
     ]
    },
    {
     "name": "stderr",
     "output_type": "stream",
     "text": [
      "0: 608x800 1 Metal, 267.3ms\n",
      "Speed: 6.0ms preprocess, 267.3ms inference, 0.0ms postprocess per image at shape (1, 3, 608, 800)\n",
      "\n"
     ]
    },
    {
     "name": "stdout",
     "output_type": "stream",
     "text": [
      "Labels: deque([('P',), ('m',), ('m',), ('m',), ('m',)], maxlen=5)\n"
     ]
    },
    {
     "name": "stderr",
     "output_type": "stream",
     "text": [
      "0: 608x800 1 Metal, 292.3ms\n",
      "Speed: 0.0ms preprocess, 292.3ms inference, 0.0ms postprocess per image at shape (1, 3, 608, 800)\n",
      "\n"
     ]
    },
    {
     "name": "stdout",
     "output_type": "stream",
     "text": [
      "Response from ESP32: M CMD: Action for 'M' command\n",
      "Labels: deque([('m',), ('m',), ('m',), ('m',), ('m',)], maxlen=5)\n"
     ]
    },
    {
     "name": "stderr",
     "output_type": "stream",
     "text": [
      "0: 608x800 1 Metal, 251.0ms\n",
      "Speed: 4.0ms preprocess, 251.0ms inference, 1.0ms postprocess per image at shape (1, 3, 608, 800)\n",
      "\n"
     ]
    },
    {
     "name": "stdout",
     "output_type": "stream",
     "text": [
      "Labels: deque([('m',), ('m',), ('m',), ('m',), ('m',)], maxlen=5)\n"
     ]
    },
    {
     "name": "stderr",
     "output_type": "stream",
     "text": [
      "0: 608x800 1 Metal, 294.3ms\n",
      "Speed: 2.0ms preprocess, 294.3ms inference, 0.0ms postprocess per image at shape (1, 3, 608, 800)\n",
      "\n"
     ]
    },
    {
     "name": "stdout",
     "output_type": "stream",
     "text": [
      "Labels: deque([('m',), ('m',), ('m',), ('m',), ('m',)], maxlen=5)\n"
     ]
    },
    {
     "name": "stderr",
     "output_type": "stream",
     "text": [
      "0: 608x800 1 Metal, 280.2ms\n",
      "Speed: 11.9ms preprocess, 280.2ms inference, 1.0ms postprocess per image at shape (1, 3, 608, 800)\n",
      "\n"
     ]
    },
    {
     "name": "stdout",
     "output_type": "stream",
     "text": [
      "Labels: deque([('m',), ('m',), ('m',), ('m',), ('m',)], maxlen=5)\n"
     ]
    },
    {
     "name": "stderr",
     "output_type": "stream",
     "text": [
      "0: 608x800 1 Metal, 262.3ms\n",
      "Speed: 5.6ms preprocess, 262.3ms inference, 1.0ms postprocess per image at shape (1, 3, 608, 800)\n",
      "\n"
     ]
    },
    {
     "name": "stdout",
     "output_type": "stream",
     "text": [
      "Labels: deque([('m',), ('m',), ('m',), ('m',), ('m',)], maxlen=5)\n"
     ]
    },
    {
     "name": "stderr",
     "output_type": "stream",
     "text": [
      "0: 608x800 1 Metal, 265.4ms\n",
      "Speed: 5.0ms preprocess, 265.4ms inference, 1.0ms postprocess per image at shape (1, 3, 608, 800)\n",
      "\n"
     ]
    },
    {
     "name": "stdout",
     "output_type": "stream",
     "text": [
      "Response from ESP32: M CMD: Action for 'M' command\n",
      "Labels: deque([('m',), ('m',), ('m',), ('m',), ('m',)], maxlen=5)\n"
     ]
    },
    {
     "name": "stderr",
     "output_type": "stream",
     "text": [
      "0: 608x800 1 Metal, 278.3ms\n",
      "Speed: 3.9ms preprocess, 278.3ms inference, 1.0ms postprocess per image at shape (1, 3, 608, 800)\n",
      "\n"
     ]
    },
    {
     "name": "stdout",
     "output_type": "stream",
     "text": [
      "Labels: deque([('m',), ('m',), ('m',), ('m',), ('m',)], maxlen=5)\n"
     ]
    },
    {
     "name": "stderr",
     "output_type": "stream",
     "text": [
      "0: 608x800 1 Metal, 258.8ms\n",
      "Speed: 2.0ms preprocess, 258.8ms inference, 2.0ms postprocess per image at shape (1, 3, 608, 800)\n",
      "\n"
     ]
    },
    {
     "name": "stdout",
     "output_type": "stream",
     "text": [
      "Labels: deque([('m',), ('m',), ('m',), ('m',), ('m',)], maxlen=5)\n"
     ]
    },
    {
     "name": "stderr",
     "output_type": "stream",
     "text": [
      "0: 608x800 2 Metals, 1 Plastic, 262.1ms\n",
      "Speed: 6.8ms preprocess, 262.1ms inference, 2.0ms postprocess per image at shape (1, 3, 608, 800)\n",
      "\n"
     ]
    },
    {
     "name": "stdout",
     "output_type": "stream",
     "text": [
      "Labels: deque([('m',), ('m',), ('m',), ('m',), ('m',)], maxlen=5)\n"
     ]
    },
    {
     "name": "stderr",
     "output_type": "stream",
     "text": [
      "0: 608x800 2 Metals, 1 Plastic, 257.7ms\n",
      "Speed: 5.2ms preprocess, 257.7ms inference, 0.0ms postprocess per image at shape (1, 3, 608, 800)\n",
      "\n"
     ]
    },
    {
     "name": "stdout",
     "output_type": "stream",
     "text": [
      "Labels: deque([('m',), ('m',), ('m',), ('m',), ('m',)], maxlen=5)\n"
     ]
    },
    {
     "name": "stderr",
     "output_type": "stream",
     "text": [
      "0: 608x800 2 Metals, 1 Plastic, 258.7ms\n",
      "Speed: 5.6ms preprocess, 258.7ms inference, 0.0ms postprocess per image at shape (1, 3, 608, 800)\n",
      "\n"
     ]
    },
    {
     "name": "stdout",
     "output_type": "stream",
     "text": [
      "Response from ESP32: M CMD: Action for 'M' command\n",
      "Labels: deque([('m',), ('m',), ('m',), ('m',), ('m',)], maxlen=5)\n"
     ]
    },
    {
     "name": "stderr",
     "output_type": "stream",
     "text": [
      "0: 608x800 1 Metal, 1 Plastic, 255.4ms\n",
      "Speed: 4.0ms preprocess, 255.4ms inference, 0.0ms postprocess per image at shape (1, 3, 608, 800)\n",
      "\n"
     ]
    },
    {
     "name": "stdout",
     "output_type": "stream",
     "text": [
      "Labels: deque([('m',), ('m',), ('m',), ('m',), ('m',)], maxlen=5)\n"
     ]
    },
    {
     "name": "stderr",
     "output_type": "stream",
     "text": [
      "0: 608x800 2 Metals, 1 Plastic, 299.7ms\n",
      "Speed: 5.0ms preprocess, 299.7ms inference, 1.0ms postprocess per image at shape (1, 3, 608, 800)\n",
      "\n"
     ]
    },
    {
     "name": "stdout",
     "output_type": "stream",
     "text": [
      "Labels: deque([('m',), ('m',), ('m',), ('m',), ('m',)], maxlen=5)\n"
     ]
    },
    {
     "name": "stderr",
     "output_type": "stream",
     "text": [
      "0: 608x800 2 Metals, 1 Plastic, 284.3ms\n",
      "Speed: 0.0ms preprocess, 284.3ms inference, 1.0ms postprocess per image at shape (1, 3, 608, 800)\n",
      "\n"
     ]
    },
    {
     "name": "stdout",
     "output_type": "stream",
     "text": [
      "Labels: deque([('m',), ('m',), ('m',), ('m',), ('m',)], maxlen=5)\n"
     ]
    },
    {
     "name": "stderr",
     "output_type": "stream",
     "text": [
      "0: 608x800 2 Metals, 1 Plastic, 293.3ms\n",
      "Speed: 6.0ms preprocess, 293.3ms inference, 1.0ms postprocess per image at shape (1, 3, 608, 800)\n",
      "\n"
     ]
    },
    {
     "name": "stdout",
     "output_type": "stream",
     "text": [
      "Labels: deque([('m',), ('m',), ('m',), ('m',), ('m',)], maxlen=5)\n"
     ]
    },
    {
     "name": "stderr",
     "output_type": "stream",
     "text": [
      "0: 608x800 2 Metals, 1 Plastic, 275.9ms\n",
      "Speed: 8.1ms preprocess, 275.9ms inference, 1.0ms postprocess per image at shape (1, 3, 608, 800)\n",
      "\n"
     ]
    },
    {
     "name": "stdout",
     "output_type": "stream",
     "text": [
      "Response from ESP32: M CMD: Action for 'M' command\n",
      "Labels: deque([('m',), ('m',), ('m',), ('m',), ('m',)], maxlen=5)\n"
     ]
    },
    {
     "name": "stderr",
     "output_type": "stream",
     "text": [
      "0: 608x800 2 Metals, 1 Plastic, 251.3ms\n",
      "Speed: 5.0ms preprocess, 251.3ms inference, 2.0ms postprocess per image at shape (1, 3, 608, 800)\n",
      "\n"
     ]
    },
    {
     "name": "stdout",
     "output_type": "stream",
     "text": [
      "Labels: deque([('m',), ('m',), ('m',), ('m',), ('m',)], maxlen=5)\n"
     ]
    },
    {
     "name": "stderr",
     "output_type": "stream",
     "text": [
      "0: 608x800 2 Metals, 1 Plastic, 266.7ms\n",
      "Speed: 5.0ms preprocess, 266.7ms inference, 1.0ms postprocess per image at shape (1, 3, 608, 800)\n",
      "\n"
     ]
    },
    {
     "name": "stdout",
     "output_type": "stream",
     "text": [
      "Labels: deque([('m',), ('m',), ('m',), ('m',), ('m',)], maxlen=5)\n"
     ]
    },
    {
     "name": "stderr",
     "output_type": "stream",
     "text": [
      "0: 608x800 3 Metals, 251.6ms\n",
      "Speed: 5.0ms preprocess, 251.6ms inference, 0.0ms postprocess per image at shape (1, 3, 608, 800)\n",
      "\n"
     ]
    },
    {
     "name": "stdout",
     "output_type": "stream",
     "text": [
      "Labels: deque([('m',), ('m',), ('m',), ('m',), ('m',)], maxlen=5)\n"
     ]
    },
    {
     "name": "stderr",
     "output_type": "stream",
     "text": [
      "0: 608x800 1 Metal, 286.3ms\n",
      "Speed: 5.0ms preprocess, 286.3ms inference, 1.6ms postprocess per image at shape (1, 3, 608, 800)\n",
      "\n"
     ]
    },
    {
     "name": "stdout",
     "output_type": "stream",
     "text": [
      "Labels: deque([('m',), ('m',), ('m',), ('m',), ('m',)], maxlen=5)\n"
     ]
    },
    {
     "name": "stderr",
     "output_type": "stream",
     "text": [
      "0: 608x800 1 Metal, 261.1ms\n",
      "Speed: 2.1ms preprocess, 261.1ms inference, 1.0ms postprocess per image at shape (1, 3, 608, 800)\n",
      "\n"
     ]
    },
    {
     "name": "stdout",
     "output_type": "stream",
     "text": [
      "Response from ESP32: M CMD: Action for 'M' command\n",
      "Labels: deque([('m',), ('m',), ('m',), ('m',), ('m',)], maxlen=5)\n"
     ]
    },
    {
     "name": "stderr",
     "output_type": "stream",
     "text": [
      "0: 608x800 1 Metal, 255.5ms\n",
      "Speed: 4.0ms preprocess, 255.5ms inference, 1.0ms postprocess per image at shape (1, 3, 608, 800)\n",
      "\n"
     ]
    },
    {
     "name": "stdout",
     "output_type": "stream",
     "text": [
      "Labels: deque([('m',), ('m',), ('m',), ('m',), ('m',)], maxlen=5)\n"
     ]
    },
    {
     "name": "stderr",
     "output_type": "stream",
     "text": [
      "0: 608x800 1 Metal, 288.1ms\n",
      "Speed: 4.0ms preprocess, 288.1ms inference, 2.0ms postprocess per image at shape (1, 3, 608, 800)\n",
      "\n"
     ]
    },
    {
     "name": "stdout",
     "output_type": "stream",
     "text": [
      "Labels: deque([('m',), ('m',), ('m',), ('m',), ('m',)], maxlen=5)\n"
     ]
    },
    {
     "name": "stderr",
     "output_type": "stream",
     "text": [
      "0: 608x800 1 Metal, 299.7ms\n",
      "Speed: 6.1ms preprocess, 299.7ms inference, 1.0ms postprocess per image at shape (1, 3, 608, 800)\n",
      "\n"
     ]
    },
    {
     "name": "stdout",
     "output_type": "stream",
     "text": [
      "Labels: deque([('m',), ('m',), ('m',), ('m',), ('m',)], maxlen=5)\n"
     ]
    },
    {
     "name": "stderr",
     "output_type": "stream",
     "text": [
      "0: 608x800 1 Metal, 265.2ms\n",
      "Speed: 7.0ms preprocess, 265.2ms inference, 1.0ms postprocess per image at shape (1, 3, 608, 800)\n",
      "\n"
     ]
    },
    {
     "name": "stdout",
     "output_type": "stream",
     "text": [
      "Labels: deque([('m',), ('m',), ('m',), ('m',), ('m',)], maxlen=5)\n"
     ]
    },
    {
     "name": "stderr",
     "output_type": "stream",
     "text": [
      "0: 608x800 1 Metal, 268.4ms\n",
      "Speed: 4.0ms preprocess, 268.4ms inference, 1.0ms postprocess per image at shape (1, 3, 608, 800)\n",
      "\n"
     ]
    },
    {
     "name": "stdout",
     "output_type": "stream",
     "text": [
      "Response from ESP32: M CMD: Action for 'M' command\n",
      "Labels: deque([('m',), ('m',), ('m',), ('m',), ('m',)], maxlen=5)\n"
     ]
    },
    {
     "name": "stderr",
     "output_type": "stream",
     "text": [
      "0: 608x800 1 Metal, 262.1ms\n",
      "Speed: 6.0ms preprocess, 262.1ms inference, 1.0ms postprocess per image at shape (1, 3, 608, 800)\n",
      "\n"
     ]
    },
    {
     "name": "stdout",
     "output_type": "stream",
     "text": [
      "Labels: deque([('m',), ('m',), ('m',), ('m',), ('m',)], maxlen=5)\n"
     ]
    },
    {
     "name": "stderr",
     "output_type": "stream",
     "text": [
      "0: 608x800 1 Metal, 267.4ms\n",
      "Speed: 4.1ms preprocess, 267.4ms inference, 2.0ms postprocess per image at shape (1, 3, 608, 800)\n",
      "\n"
     ]
    },
    {
     "name": "stdout",
     "output_type": "stream",
     "text": [
      "Labels: deque([('m',), ('m',), ('m',), ('m',), ('m',)], maxlen=5)\n"
     ]
    },
    {
     "name": "stderr",
     "output_type": "stream",
     "text": [
      "0: 608x800 1 Metal, 267.8ms\n",
      "Speed: 4.0ms preprocess, 267.8ms inference, 1.0ms postprocess per image at shape (1, 3, 608, 800)\n",
      "\n"
     ]
    },
    {
     "name": "stdout",
     "output_type": "stream",
     "text": [
      "Labels: deque([('m',), ('m',), ('m',), ('m',), ('m',)], maxlen=5)\n"
     ]
    },
    {
     "name": "stderr",
     "output_type": "stream",
     "text": [
      "0: 608x800 1 Metal, 273.6ms\n",
      "Speed: 4.0ms preprocess, 273.6ms inference, 1.0ms postprocess per image at shape (1, 3, 608, 800)\n",
      "\n"
     ]
    },
    {
     "name": "stdout",
     "output_type": "stream",
     "text": [
      "Labels: deque([('m',), ('m',), ('m',), ('m',), ('m',)], maxlen=5)\n"
     ]
    },
    {
     "name": "stderr",
     "output_type": "stream",
     "text": [
      "0: 608x800 1 Metal, 278.6ms\n",
      "Speed: 5.0ms preprocess, 278.6ms inference, 2.0ms postprocess per image at shape (1, 3, 608, 800)\n",
      "\n"
     ]
    },
    {
     "name": "stdout",
     "output_type": "stream",
     "text": [
      "Response from ESP32: M CMD: Action for 'M' command\n",
      "Labels: deque([('m',), ('m',), ('m',), ('m',), ('m',)], maxlen=5)\n"
     ]
    },
    {
     "name": "stderr",
     "output_type": "stream",
     "text": [
      "0: 608x800 1 Metal, 267.4ms\n",
      "Speed: 4.0ms preprocess, 267.4ms inference, 1.0ms postprocess per image at shape (1, 3, 608, 800)\n",
      "\n"
     ]
    },
    {
     "name": "stdout",
     "output_type": "stream",
     "text": [
      "Labels: deque([('m',), ('m',), ('m',), ('m',), ('m',)], maxlen=5)\n"
     ]
    },
    {
     "name": "stderr",
     "output_type": "stream",
     "text": [
      "0: 608x800 1 Metal, 1 Plastic, 291.8ms\n",
      "Speed: 6.0ms preprocess, 291.8ms inference, 1.0ms postprocess per image at shape (1, 3, 608, 800)\n",
      "\n"
     ]
    },
    {
     "name": "stdout",
     "output_type": "stream",
     "text": [
      "Labels: deque([('m',), ('m',), ('m',), ('m',), ('P',)], maxlen=5)\n"
     ]
    },
    {
     "name": "stderr",
     "output_type": "stream",
     "text": [
      "0: 608x800 1 Metal, 1 Plastic, 258.1ms\n",
      "Speed: 5.0ms preprocess, 258.1ms inference, 0.7ms postprocess per image at shape (1, 3, 608, 800)\n",
      "\n"
     ]
    },
    {
     "name": "stdout",
     "output_type": "stream",
     "text": [
      "Labels: deque([('m',), ('m',), ('m',), ('P',), ('P',)], maxlen=5)\n"
     ]
    },
    {
     "name": "stderr",
     "output_type": "stream",
     "text": [
      "0: 608x800 1 Metal, 1 Plastic, 265.7ms\n",
      "Speed: 10.1ms preprocess, 265.7ms inference, 1.0ms postprocess per image at shape (1, 3, 608, 800)\n",
      "\n"
     ]
    },
    {
     "name": "stdout",
     "output_type": "stream",
     "text": [
      "Labels: deque([('m',), ('m',), ('P',), ('P',), ('P',)], maxlen=5)\n"
     ]
    },
    {
     "name": "stderr",
     "output_type": "stream",
     "text": [
      "0: 608x800 1 Metal, 1 Plastic, 268.8ms\n",
      "Speed: 5.0ms preprocess, 268.8ms inference, 1.0ms postprocess per image at shape (1, 3, 608, 800)\n",
      "\n"
     ]
    },
    {
     "name": "stdout",
     "output_type": "stream",
     "text": [
      "Labels: deque([('m',), ('P',), ('P',), ('P',), ('P',)], maxlen=5)\n"
     ]
    },
    {
     "name": "stderr",
     "output_type": "stream",
     "text": [
      "0: 608x800 1 Metal, 1 Plastic, 271.1ms\n",
      "Speed: 3.0ms preprocess, 271.1ms inference, 1.0ms postprocess per image at shape (1, 3, 608, 800)\n",
      "\n"
     ]
    },
    {
     "name": "stdout",
     "output_type": "stream",
     "text": [
      "Labels: deque([('P',), ('P',), ('P',), ('P',), ('P',)], maxlen=5)\n"
     ]
    },
    {
     "name": "stderr",
     "output_type": "stream",
     "text": [
      "0: 608x800 1 Metal, 1 Plastic, 262.6ms\n",
      "Speed: 5.0ms preprocess, 262.6ms inference, 1.0ms postprocess per image at shape (1, 3, 608, 800)\n",
      "\n"
     ]
    },
    {
     "name": "stdout",
     "output_type": "stream",
     "text": [
      "Labels: deque([('P',), ('P',), ('P',), ('P',), ('P',)], maxlen=5)\n"
     ]
    },
    {
     "name": "stderr",
     "output_type": "stream",
     "text": [
      "0: 608x800 1 Metal, 1 Plastic, 294.2ms\n",
      "Speed: 7.0ms preprocess, 294.2ms inference, 1.0ms postprocess per image at shape (1, 3, 608, 800)\n",
      "\n"
     ]
    },
    {
     "name": "stdout",
     "output_type": "stream",
     "text": [
      "Labels: deque([('P',), ('P',), ('P',), ('P',), ('P',)], maxlen=5)\n"
     ]
    },
    {
     "name": "stderr",
     "output_type": "stream",
     "text": [
      "0: 608x800 (no detections), 301.2ms\n",
      "Speed: 7.0ms preprocess, 301.2ms inference, 1.0ms postprocess per image at shape (1, 3, 608, 800)\n",
      "\n"
     ]
    },
    {
     "name": "stdout",
     "output_type": "stream",
     "text": [
      "Labels: deque([('P',), ('P',), ('P',), ('P',), ()], maxlen=5)\n"
     ]
    },
    {
     "name": "stderr",
     "output_type": "stream",
     "text": [
      "0: 608x800 1 Glass, 1 Metal, 262.9ms\n",
      "Speed: 4.0ms preprocess, 262.9ms inference, 1.0ms postprocess per image at shape (1, 3, 608, 800)\n",
      "\n"
     ]
    },
    {
     "name": "stdout",
     "output_type": "stream",
     "text": [
      "Labels: deque([('P',), ('P',), ('P',), (), ('m',)], maxlen=5)\n"
     ]
    },
    {
     "name": "stderr",
     "output_type": "stream",
     "text": [
      "0: 608x800 1 Metal, 285.5ms\n",
      "Speed: 5.3ms preprocess, 285.5ms inference, 1.0ms postprocess per image at shape (1, 3, 608, 800)\n",
      "\n"
     ]
    },
    {
     "name": "stdout",
     "output_type": "stream",
     "text": [
      "Labels: deque([('P',), ('P',), (), ('m',), ('m',)], maxlen=5)\n"
     ]
    },
    {
     "name": "stderr",
     "output_type": "stream",
     "text": [
      "0: 608x800 1 Metal, 1 Plastic, 261.4ms\n",
      "Speed: 5.0ms preprocess, 261.4ms inference, 1.0ms postprocess per image at shape (1, 3, 608, 800)\n",
      "\n"
     ]
    },
    {
     "name": "stdout",
     "output_type": "stream",
     "text": [
      "Labels: deque([('P',), (), ('m',), ('m',), ('P',)], maxlen=5)\n"
     ]
    },
    {
     "name": "stderr",
     "output_type": "stream",
     "text": [
      "0: 608x800 1 Metal, 1 Plastic, 262.0ms\n",
      "Speed: 6.0ms preprocess, 262.0ms inference, 1.0ms postprocess per image at shape (1, 3, 608, 800)\n",
      "\n"
     ]
    },
    {
     "name": "stdout",
     "output_type": "stream",
     "text": [
      "Labels: deque([(), ('m',), ('m',), ('P',), ('m',)], maxlen=5)\n"
     ]
    },
    {
     "name": "stderr",
     "output_type": "stream",
     "text": [
      "0: 608x800 1 Metal, 1 Plastic, 271.7ms\n",
      "Speed: 5.0ms preprocess, 271.7ms inference, 1.3ms postprocess per image at shape (1, 3, 608, 800)\n",
      "\n"
     ]
    },
    {
     "name": "stdout",
     "output_type": "stream",
     "text": [
      "Labels: deque([('m',), ('m',), ('P',), ('m',), ('m',)], maxlen=5)\n"
     ]
    },
    {
     "name": "stderr",
     "output_type": "stream",
     "text": [
      "0: 608x800 1 Metal, 1 Plastic, 301.7ms\n",
      "Speed: 5.0ms preprocess, 301.7ms inference, 1.0ms postprocess per image at shape (1, 3, 608, 800)\n",
      "\n"
     ]
    },
    {
     "name": "stdout",
     "output_type": "stream",
     "text": [
      "Labels: deque([('m',), ('P',), ('m',), ('m',), ('P',)], maxlen=5)\n"
     ]
    },
    {
     "name": "stderr",
     "output_type": "stream",
     "text": [
      "0: 608x800 1 Metal, 1 Plastic, 261.0ms\n",
      "Speed: 6.0ms preprocess, 261.0ms inference, 1.0ms postprocess per image at shape (1, 3, 608, 800)\n",
      "\n"
     ]
    },
    {
     "name": "stdout",
     "output_type": "stream",
     "text": [
      "Labels: deque([('P',), ('m',), ('m',), ('P',), ('P',)], maxlen=5)\n"
     ]
    },
    {
     "name": "stderr",
     "output_type": "stream",
     "text": [
      "0: 608x800 1 Metal, 1 Plastic, 316.8ms\n",
      "Speed: 6.0ms preprocess, 316.8ms inference, 2.0ms postprocess per image at shape (1, 3, 608, 800)\n",
      "\n"
     ]
    },
    {
     "name": "stdout",
     "output_type": "stream",
     "text": [
      "Labels: deque([('m',), ('m',), ('P',), ('P',), ('m',)], maxlen=5)\n"
     ]
    },
    {
     "name": "stderr",
     "output_type": "stream",
     "text": [
      "0: 608x800 1 Metal, 1 Plastic, 266.0ms\n",
      "Speed: 6.1ms preprocess, 266.0ms inference, 2.0ms postprocess per image at shape (1, 3, 608, 800)\n",
      "\n"
     ]
    },
    {
     "name": "stdout",
     "output_type": "stream",
     "text": [
      "Labels: deque([('m',), ('P',), ('P',), ('m',), ('P',)], maxlen=5)\n"
     ]
    },
    {
     "name": "stderr",
     "output_type": "stream",
     "text": [
      "0: 608x800 1 Metal, 1 Plastic, 274.5ms\n",
      "Speed: 6.0ms preprocess, 274.5ms inference, 1.0ms postprocess per image at shape (1, 3, 608, 800)\n",
      "\n"
     ]
    },
    {
     "name": "stdout",
     "output_type": "stream",
     "text": [
      "Labels: deque([('P',), ('P',), ('m',), ('P',), ('P',)], maxlen=5)\n"
     ]
    },
    {
     "name": "stderr",
     "output_type": "stream",
     "text": [
      "0: 608x800 1 Metal, 1 Plastic, 264.2ms\n",
      "Speed: 5.0ms preprocess, 264.2ms inference, 1.3ms postprocess per image at shape (1, 3, 608, 800)\n",
      "\n"
     ]
    },
    {
     "name": "stdout",
     "output_type": "stream",
     "text": [
      "Labels: deque([('P',), ('m',), ('P',), ('P',), ('m',)], maxlen=5)\n"
     ]
    },
    {
     "name": "stderr",
     "output_type": "stream",
     "text": [
      "0: 608x800 1 Metal, 1 Plastic, 303.3ms\n",
      "Speed: 4.1ms preprocess, 303.3ms inference, 0.0ms postprocess per image at shape (1, 3, 608, 800)\n",
      "\n"
     ]
    },
    {
     "name": "stdout",
     "output_type": "stream",
     "text": [
      "Labels: deque([('m',), ('P',), ('P',), ('m',), ('m',)], maxlen=5)\n"
     ]
    },
    {
     "name": "stderr",
     "output_type": "stream",
     "text": [
      "0: 608x800 1 Metal, 1 Plastic, 258.2ms\n",
      "Speed: 4.6ms preprocess, 258.2ms inference, 1.0ms postprocess per image at shape (1, 3, 608, 800)\n",
      "\n"
     ]
    },
    {
     "name": "stdout",
     "output_type": "stream",
     "text": [
      "Labels: deque([('P',), ('P',), ('m',), ('m',), ('P',)], maxlen=5)\n"
     ]
    },
    {
     "name": "stderr",
     "output_type": "stream",
     "text": [
      "0: 608x800 1 Metal, 1 Plastic, 272.7ms\n",
      "Speed: 6.0ms preprocess, 272.7ms inference, 1.0ms postprocess per image at shape (1, 3, 608, 800)\n",
      "\n"
     ]
    },
    {
     "name": "stdout",
     "output_type": "stream",
     "text": [
      "Labels: deque([('P',), ('m',), ('m',), ('P',), ('m',)], maxlen=5)\n"
     ]
    },
    {
     "name": "stderr",
     "output_type": "stream",
     "text": [
      "0: 608x800 1 Metal, 1 Plastic, 308.8ms\n",
      "Speed: 6.6ms preprocess, 308.8ms inference, 1.0ms postprocess per image at shape (1, 3, 608, 800)\n",
      "\n"
     ]
    },
    {
     "name": "stdout",
     "output_type": "stream",
     "text": [
      "Labels: deque([('m',), ('m',), ('P',), ('m',), ('P',)], maxlen=5)\n"
     ]
    },
    {
     "name": "stderr",
     "output_type": "stream",
     "text": [
      "0: 608x800 1 Metal, 1 Plastic, 272.1ms\n",
      "Speed: 4.5ms preprocess, 272.1ms inference, 1.0ms postprocess per image at shape (1, 3, 608, 800)\n",
      "\n"
     ]
    },
    {
     "name": "stdout",
     "output_type": "stream",
     "text": [
      "Labels: deque([('m',), ('P',), ('m',), ('P',), ('P',)], maxlen=5)\n"
     ]
    },
    {
     "name": "stderr",
     "output_type": "stream",
     "text": [
      "0: 608x800 1 Metal, 1 Plastic, 279.8ms\n",
      "Speed: 4.0ms preprocess, 279.8ms inference, 1.0ms postprocess per image at shape (1, 3, 608, 800)\n",
      "\n"
     ]
    },
    {
     "name": "stdout",
     "output_type": "stream",
     "text": [
      "Labels: deque([('P',), ('m',), ('P',), ('P',), ('m',)], maxlen=5)\n"
     ]
    },
    {
     "name": "stderr",
     "output_type": "stream",
     "text": [
      "0: 608x800 1 Metal, 1 Plastic, 265.2ms\n",
      "Speed: 5.0ms preprocess, 265.2ms inference, 1.2ms postprocess per image at shape (1, 3, 608, 800)\n",
      "\n"
     ]
    },
    {
     "name": "stdout",
     "output_type": "stream",
     "text": [
      "Labels: deque([('m',), ('P',), ('P',), ('m',), ('P',)], maxlen=5)\n"
     ]
    },
    {
     "name": "stderr",
     "output_type": "stream",
     "text": [
      "0: 608x800 1 Metal, 1 Plastic, 301.2ms\n",
      "Speed: 6.0ms preprocess, 301.2ms inference, 0.6ms postprocess per image at shape (1, 3, 608, 800)\n",
      "\n"
     ]
    },
    {
     "name": "stdout",
     "output_type": "stream",
     "text": [
      "Labels: deque([('P',), ('P',), ('m',), ('P',), ('P',)], maxlen=5)\n"
     ]
    },
    {
     "name": "stderr",
     "output_type": "stream",
     "text": [
      "0: 608x800 1 Metal, 1 Plastic, 269.2ms\n",
      "Speed: 7.0ms preprocess, 269.2ms inference, 1.0ms postprocess per image at shape (1, 3, 608, 800)\n",
      "\n"
     ]
    },
    {
     "name": "stdout",
     "output_type": "stream",
     "text": [
      "Labels: deque([('P',), ('m',), ('P',), ('P',), ('P',)], maxlen=5)\n"
     ]
    },
    {
     "name": "stderr",
     "output_type": "stream",
     "text": [
      "0: 608x800 1 Metal, 1 Plastic, 264.5ms\n",
      "Speed: 6.0ms preprocess, 264.5ms inference, 0.0ms postprocess per image at shape (1, 3, 608, 800)\n",
      "\n"
     ]
    },
    {
     "name": "stdout",
     "output_type": "stream",
     "text": [
      "Labels: deque([('m',), ('P',), ('P',), ('P',), ('P',)], maxlen=5)\n"
     ]
    },
    {
     "name": "stderr",
     "output_type": "stream",
     "text": [
      "0: 608x800 1 Metal, 1 Plastic, 306.6ms\n",
      "Speed: 7.1ms preprocess, 306.6ms inference, 0.0ms postprocess per image at shape (1, 3, 608, 800)\n",
      "\n"
     ]
    },
    {
     "name": "stdout",
     "output_type": "stream",
     "text": [
      "Response from ESP32: P CMD: Action for 'P' command\n",
      "Labels: deque([('P',), ('P',), ('P',), ('P',), ('P',)], maxlen=5)\n"
     ]
    },
    {
     "name": "stderr",
     "output_type": "stream",
     "text": [
      "0: 608x800 1 Metal, 1 Plastic, 259.9ms\n",
      "Speed: 3.9ms preprocess, 259.9ms inference, 1.1ms postprocess per image at shape (1, 3, 608, 800)\n",
      "\n"
     ]
    },
    {
     "name": "stdout",
     "output_type": "stream",
     "text": [
      "Labels: deque([('P',), ('P',), ('P',), ('P',), ('P',)], maxlen=5)\n"
     ]
    },
    {
     "name": "stderr",
     "output_type": "stream",
     "text": [
      "0: 608x800 1 Metal, 1 Plastic, 278.5ms\n",
      "Speed: 0.0ms preprocess, 278.5ms inference, 2.0ms postprocess per image at shape (1, 3, 608, 800)\n",
      "\n"
     ]
    },
    {
     "name": "stdout",
     "output_type": "stream",
     "text": [
      "Labels: deque([('P',), ('P',), ('P',), ('P',), ('P',)], maxlen=5)\n"
     ]
    },
    {
     "name": "stderr",
     "output_type": "stream",
     "text": [
      "0: 608x800 1 Metal, 1 Plastic, 322.2ms\n",
      "Speed: 6.0ms preprocess, 322.2ms inference, 1.0ms postprocess per image at shape (1, 3, 608, 800)\n",
      "\n"
     ]
    },
    {
     "name": "stdout",
     "output_type": "stream",
     "text": [
      "Labels: deque([('P',), ('P',), ('P',), ('P',), ('m',)], maxlen=5)\n"
     ]
    },
    {
     "name": "stderr",
     "output_type": "stream",
     "text": [
      "0: 608x800 1 Metal, 2 Plastics, 268.5ms\n",
      "Speed: 6.0ms preprocess, 268.5ms inference, 0.0ms postprocess per image at shape (1, 3, 608, 800)\n",
      "\n"
     ]
    },
    {
     "name": "stdout",
     "output_type": "stream",
     "text": [
      "Labels: deque([('P',), ('P',), ('P',), ('m',), ('P',)], maxlen=5)\n"
     ]
    },
    {
     "name": "stderr",
     "output_type": "stream",
     "text": [
      "0: 608x800 1 Metal, 1 Plastic, 262.8ms\n",
      "Speed: 5.5ms preprocess, 262.8ms inference, 1.0ms postprocess per image at shape (1, 3, 608, 800)\n",
      "\n"
     ]
    },
    {
     "name": "stdout",
     "output_type": "stream",
     "text": [
      "Labels: deque([('P',), ('P',), ('m',), ('P',), ('m',)], maxlen=5)\n"
     ]
    },
    {
     "name": "stderr",
     "output_type": "stream",
     "text": [
      "0: 608x800 1 Metal, 1 Plastic, 268.9ms\n",
      "Speed: 5.0ms preprocess, 268.9ms inference, 2.0ms postprocess per image at shape (1, 3, 608, 800)\n",
      "\n"
     ]
    },
    {
     "name": "stdout",
     "output_type": "stream",
     "text": [
      "Labels: deque([('P',), ('m',), ('P',), ('m',), ('m',)], maxlen=5)\n"
     ]
    },
    {
     "name": "stderr",
     "output_type": "stream",
     "text": [
      "0: 608x800 1 Metal, 1 Plastic, 263.3ms\n",
      "Speed: 5.7ms preprocess, 263.3ms inference, 1.0ms postprocess per image at shape (1, 3, 608, 800)\n",
      "\n"
     ]
    },
    {
     "name": "stdout",
     "output_type": "stream",
     "text": [
      "Labels: deque([('m',), ('P',), ('m',), ('m',), ('P',)], maxlen=5)\n"
     ]
    },
    {
     "name": "stderr",
     "output_type": "stream",
     "text": [
      "0: 608x800 1 Metal, 1 Plastic, 278.6ms\n",
      "Speed: 2.0ms preprocess, 278.6ms inference, 1.0ms postprocess per image at shape (1, 3, 608, 800)\n",
      "\n"
     ]
    },
    {
     "name": "stdout",
     "output_type": "stream",
     "text": [
      "Labels: deque([('P',), ('m',), ('m',), ('P',), ('P',)], maxlen=5)\n"
     ]
    },
    {
     "name": "stderr",
     "output_type": "stream",
     "text": [
      "0: 608x800 1 Metal, 2 Plastics, 276.8ms\n",
      "Speed: 5.0ms preprocess, 276.8ms inference, 2.0ms postprocess per image at shape (1, 3, 608, 800)\n",
      "\n"
     ]
    },
    {
     "name": "stdout",
     "output_type": "stream",
     "text": [
      "Labels: deque([('m',), ('m',), ('P',), ('P',), ('P',)], maxlen=5)\n"
     ]
    },
    {
     "name": "stderr",
     "output_type": "stream",
     "text": [
      "0: 608x800 1 Metal, 1 Plastic, 320.7ms\n",
      "Speed: 6.0ms preprocess, 320.7ms inference, 7.1ms postprocess per image at shape (1, 3, 608, 800)\n",
      "\n"
     ]
    },
    {
     "name": "stdout",
     "output_type": "stream",
     "text": [
      "Labels: deque([('m',), ('P',), ('P',), ('P',), ('P',)], maxlen=5)\n"
     ]
    },
    {
     "name": "stderr",
     "output_type": "stream",
     "text": [
      "0: 608x800 1 Metal, 1 Plastic, 272.1ms\n",
      "Speed: 7.6ms preprocess, 272.1ms inference, 1.0ms postprocess per image at shape (1, 3, 608, 800)\n",
      "\n"
     ]
    },
    {
     "name": "stdout",
     "output_type": "stream",
     "text": [
      "Labels: deque([('P',), ('P',), ('P',), ('P',), ('P',)], maxlen=5)\n"
     ]
    },
    {
     "name": "stderr",
     "output_type": "stream",
     "text": [
      "0: 608x800 1 Metal, 1 Plastic, 289.1ms\n",
      "Speed: 6.0ms preprocess, 289.1ms inference, 1.0ms postprocess per image at shape (1, 3, 608, 800)\n",
      "\n"
     ]
    },
    {
     "name": "stdout",
     "output_type": "stream",
     "text": [
      "Labels: deque([('P',), ('P',), ('P',), ('P',), ('P',)], maxlen=5)\n"
     ]
    },
    {
     "name": "stderr",
     "output_type": "stream",
     "text": [
      "0: 608x800 1 Metal, 1 Plastic, 266.2ms\n",
      "Speed: 4.0ms preprocess, 266.2ms inference, 1.0ms postprocess per image at shape (1, 3, 608, 800)\n",
      "\n"
     ]
    },
    {
     "name": "stdout",
     "output_type": "stream",
     "text": [
      "Response from ESP32: P CMD: Action for 'P' command\n",
      "Labels: deque([('P',), ('P',), ('P',), ('P',), ('P',)], maxlen=5)\n"
     ]
    },
    {
     "name": "stderr",
     "output_type": "stream",
     "text": [
      "0: 608x800 1 Metal, 1 Plastic, 260.5ms\n",
      "Speed: 4.0ms preprocess, 260.5ms inference, 1.0ms postprocess per image at shape (1, 3, 608, 800)\n",
      "\n"
     ]
    },
    {
     "name": "stdout",
     "output_type": "stream",
     "text": [
      "Labels: deque([('P',), ('P',), ('P',), ('P',), ('P',)], maxlen=5)\n"
     ]
    },
    {
     "name": "stderr",
     "output_type": "stream",
     "text": [
      "0: 608x800 1 Metal, 1 Plastic, 267.6ms\n",
      "Speed: 3.1ms preprocess, 267.6ms inference, 1.0ms postprocess per image at shape (1, 3, 608, 800)\n",
      "\n"
     ]
    },
    {
     "name": "stdout",
     "output_type": "stream",
     "text": [
      "Labels: deque([('P',), ('P',), ('P',), ('P',), ('m',)], maxlen=5)\n"
     ]
    },
    {
     "name": "stderr",
     "output_type": "stream",
     "text": [
      "0: 608x800 1 Metal, 1 Plastic, 300.0ms\n",
      "Speed: 6.0ms preprocess, 300.0ms inference, 1.0ms postprocess per image at shape (1, 3, 608, 800)\n",
      "\n"
     ]
    },
    {
     "name": "stdout",
     "output_type": "stream",
     "text": [
      "Labels: deque([('P',), ('P',), ('P',), ('m',), ('P',)], maxlen=5)\n"
     ]
    },
    {
     "name": "stderr",
     "output_type": "stream",
     "text": [
      "0: 608x800 1 Metal, 1 Plastic, 292.6ms\n",
      "Speed: 6.0ms preprocess, 292.6ms inference, 1.0ms postprocess per image at shape (1, 3, 608, 800)\n",
      "\n"
     ]
    },
    {
     "name": "stdout",
     "output_type": "stream",
     "text": [
      "Labels: deque([('P',), ('P',), ('m',), ('P',), ('m',)], maxlen=5)\n"
     ]
    },
    {
     "name": "stderr",
     "output_type": "stream",
     "text": [
      "0: 608x800 1 Metal, 1 Plastic, 288.7ms\n",
      "Speed: 6.0ms preprocess, 288.7ms inference, 1.0ms postprocess per image at shape (1, 3, 608, 800)\n",
      "\n"
     ]
    },
    {
     "name": "stdout",
     "output_type": "stream",
     "text": [
      "Labels: deque([('P',), ('m',), ('P',), ('m',), ('P',)], maxlen=5)\n"
     ]
    },
    {
     "name": "stderr",
     "output_type": "stream",
     "text": [
      "0: 608x800 1 Metal, 1 Plastic, 236.0ms\n",
      "Speed: 4.0ms preprocess, 236.0ms inference, 1.0ms postprocess per image at shape (1, 3, 608, 800)\n",
      "\n"
     ]
    },
    {
     "name": "stdout",
     "output_type": "stream",
     "text": [
      "Labels: deque([('m',), ('P',), ('m',), ('P',), ('m',)], maxlen=5)\n"
     ]
    },
    {
     "name": "stderr",
     "output_type": "stream",
     "text": [
      "0: 608x800 1 Metal, 1 Plastic, 241.4ms\n",
      "Speed: 4.0ms preprocess, 241.4ms inference, 1.0ms postprocess per image at shape (1, 3, 608, 800)\n",
      "\n"
     ]
    },
    {
     "name": "stdout",
     "output_type": "stream",
     "text": [
      "Labels: deque([('P',), ('m',), ('P',), ('m',), ('P',)], maxlen=5)\n"
     ]
    },
    {
     "name": "stderr",
     "output_type": "stream",
     "text": [
      "0: 608x800 1 Metal, 1 Plastic, 292.2ms\n",
      "Speed: 6.1ms preprocess, 292.2ms inference, 2.0ms postprocess per image at shape (1, 3, 608, 800)\n",
      "\n"
     ]
    },
    {
     "name": "stdout",
     "output_type": "stream",
     "text": [
      "Labels: deque([('m',), ('P',), ('m',), ('P',), ('m',)], maxlen=5)\n"
     ]
    },
    {
     "name": "stderr",
     "output_type": "stream",
     "text": [
      "0: 608x800 1 Metal, 1 Plastic, 309.3ms\n",
      "Speed: 0.0ms preprocess, 309.3ms inference, 1.1ms postprocess per image at shape (1, 3, 608, 800)\n",
      "\n"
     ]
    },
    {
     "name": "stdout",
     "output_type": "stream",
     "text": [
      "Labels: deque([('P',), ('m',), ('P',), ('m',), ('m',)], maxlen=5)\n"
     ]
    },
    {
     "name": "stderr",
     "output_type": "stream",
     "text": [
      "0: 608x800 2 Metals, 1 Plastic, 306.6ms\n",
      "Speed: 6.3ms preprocess, 306.6ms inference, 1.0ms postprocess per image at shape (1, 3, 608, 800)\n",
      "\n"
     ]
    },
    {
     "name": "stdout",
     "output_type": "stream",
     "text": [
      "Labels: deque([('m',), ('P',), ('m',), ('m',), ('m',)], maxlen=5)\n"
     ]
    },
    {
     "name": "stderr",
     "output_type": "stream",
     "text": [
      "0: 608x800 1 Metal, 2 Plastics, 259.0ms\n",
      "Speed: 5.3ms preprocess, 259.0ms inference, 1.0ms postprocess per image at shape (1, 3, 608, 800)\n",
      "\n"
     ]
    },
    {
     "name": "stdout",
     "output_type": "stream",
     "text": [
      "Labels: deque([('P',), ('m',), ('m',), ('m',), ('P',)], maxlen=5)\n"
     ]
    },
    {
     "name": "stderr",
     "output_type": "stream",
     "text": [
      "0: 608x800 1 Metal, 2 Plastics, 267.8ms\n",
      "Speed: 3.5ms preprocess, 267.8ms inference, 1.0ms postprocess per image at shape (1, 3, 608, 800)\n",
      "\n"
     ]
    },
    {
     "name": "stdout",
     "output_type": "stream",
     "text": [
      "Labels: deque([('m',), ('m',), ('m',), ('P',), ('P',)], maxlen=5)\n"
     ]
    },
    {
     "name": "stderr",
     "output_type": "stream",
     "text": [
      "0: 608x800 1 Metal, 2 Plastics, 258.1ms\n",
      "Speed: 5.0ms preprocess, 258.1ms inference, 1.0ms postprocess per image at shape (1, 3, 608, 800)\n",
      "\n"
     ]
    },
    {
     "name": "stdout",
     "output_type": "stream",
     "text": [
      "Labels: deque([('m',), ('m',), ('P',), ('P',), ('P',)], maxlen=5)\n"
     ]
    },
    {
     "name": "stderr",
     "output_type": "stream",
     "text": [
      "0: 608x800 1 Metal, 2 Plastics, 265.2ms\n",
      "Speed: 7.6ms preprocess, 265.2ms inference, 1.0ms postprocess per image at shape (1, 3, 608, 800)\n",
      "\n"
     ]
    },
    {
     "name": "stdout",
     "output_type": "stream",
     "text": [
      "Labels: deque([('m',), ('P',), ('P',), ('P',), ('m',)], maxlen=5)\n"
     ]
    },
    {
     "name": "stderr",
     "output_type": "stream",
     "text": [
      "0: 608x800 2 Metals, 1 Plastic, 267.1ms\n",
      "Speed: 4.0ms preprocess, 267.1ms inference, 1.0ms postprocess per image at shape (1, 3, 608, 800)\n",
      "\n"
     ]
    },
    {
     "name": "stdout",
     "output_type": "stream",
     "text": [
      "Labels: deque([('P',), ('P',), ('P',), ('m',), ('m',)], maxlen=5)\n"
     ]
    },
    {
     "name": "stderr",
     "output_type": "stream",
     "text": [
      "0: 608x800 1 Metal, 1 Plastic, 261.0ms\n",
      "Speed: 5.0ms preprocess, 261.0ms inference, 1.0ms postprocess per image at shape (1, 3, 608, 800)\n",
      "\n"
     ]
    },
    {
     "name": "stdout",
     "output_type": "stream",
     "text": [
      "Labels: deque([('P',), ('P',), ('m',), ('m',), ('P',)], maxlen=5)\n"
     ]
    },
    {
     "name": "stderr",
     "output_type": "stream",
     "text": [
      "0: 608x800 1 Metal, 1 Plastic, 336.8ms\n",
      "Speed: 5.1ms preprocess, 336.8ms inference, 1.0ms postprocess per image at shape (1, 3, 608, 800)\n",
      "\n"
     ]
    },
    {
     "name": "stdout",
     "output_type": "stream",
     "text": [
      "Labels: deque([('P',), ('m',), ('m',), ('P',), ('m',)], maxlen=5)\n"
     ]
    },
    {
     "name": "stderr",
     "output_type": "stream",
     "text": [
      "0: 608x800 1 Metal, 1 Plastic, 277.7ms\n",
      "Speed: 5.0ms preprocess, 277.7ms inference, 1.0ms postprocess per image at shape (1, 3, 608, 800)\n",
      "\n"
     ]
    },
    {
     "name": "stdout",
     "output_type": "stream",
     "text": [
      "Labels: deque([('m',), ('m',), ('P',), ('m',), ('P',)], maxlen=5)\n"
     ]
    },
    {
     "name": "stderr",
     "output_type": "stream",
     "text": [
      "0: 608x800 1 Metal, 1 Plastic, 277.1ms\n",
      "Speed: 6.0ms preprocess, 277.1ms inference, 1.0ms postprocess per image at shape (1, 3, 608, 800)\n",
      "\n"
     ]
    },
    {
     "name": "stdout",
     "output_type": "stream",
     "text": [
      "Labels: deque([('m',), ('P',), ('m',), ('P',), ('P',)], maxlen=5)\n"
     ]
    },
    {
     "name": "stderr",
     "output_type": "stream",
     "text": [
      "0: 608x800 1 Metal, 1 Plastic, 311.5ms\n",
      "Speed: 5.0ms preprocess, 311.5ms inference, 1.0ms postprocess per image at shape (1, 3, 608, 800)\n",
      "\n"
     ]
    },
    {
     "name": "stdout",
     "output_type": "stream",
     "text": [
      "Labels: deque([('P',), ('m',), ('P',), ('P',), ('m',)], maxlen=5)\n"
     ]
    },
    {
     "name": "stderr",
     "output_type": "stream",
     "text": [
      "0: 608x800 1 Metal, 1 Plastic, 272.8ms\n",
      "Speed: 3.7ms preprocess, 272.8ms inference, 1.0ms postprocess per image at shape (1, 3, 608, 800)\n",
      "\n"
     ]
    },
    {
     "name": "stdout",
     "output_type": "stream",
     "text": [
      "Labels: deque([('m',), ('P',), ('P',), ('m',), ('m',)], maxlen=5)\n"
     ]
    },
    {
     "name": "stderr",
     "output_type": "stream",
     "text": [
      "0: 608x800 1 Metal, 1 Plastic, 267.9ms\n",
      "Speed: 5.0ms preprocess, 267.9ms inference, 0.5ms postprocess per image at shape (1, 3, 608, 800)\n",
      "\n"
     ]
    },
    {
     "name": "stdout",
     "output_type": "stream",
     "text": [
      "Labels: deque([('P',), ('P',), ('m',), ('m',), ('P',)], maxlen=5)\n"
     ]
    },
    {
     "name": "stderr",
     "output_type": "stream",
     "text": [
      "0: 608x800 1 Metal, 1 Plastic, 277.0ms\n",
      "Speed: 5.3ms preprocess, 277.0ms inference, 0.0ms postprocess per image at shape (1, 3, 608, 800)\n",
      "\n"
     ]
    },
    {
     "name": "stdout",
     "output_type": "stream",
     "text": [
      "Labels: deque([('P',), ('m',), ('m',), ('P',), ('P',)], maxlen=5)\n"
     ]
    },
    {
     "name": "stderr",
     "output_type": "stream",
     "text": [
      "0: 608x800 1 Metal, 1 Plastic, 389.0ms\n",
      "Speed: 6.0ms preprocess, 389.0ms inference, 2.0ms postprocess per image at shape (1, 3, 608, 800)\n",
      "\n"
     ]
    },
    {
     "name": "stdout",
     "output_type": "stream",
     "text": [
      "Labels: deque([('m',), ('m',), ('P',), ('P',), ('P',)], maxlen=5)\n"
     ]
    },
    {
     "name": "stderr",
     "output_type": "stream",
     "text": [
      "0: 608x800 1 Plastic, 389.4ms\n",
      "Speed: 5.6ms preprocess, 389.4ms inference, 0.0ms postprocess per image at shape (1, 3, 608, 800)\n",
      "\n"
     ]
    },
    {
     "name": "stdout",
     "output_type": "stream",
     "text": [
      "Labels: deque([('m',), ('P',), ('P',), ('P',), ('P',)], maxlen=5)\n"
     ]
    },
    {
     "name": "stderr",
     "output_type": "stream",
     "text": [
      "0: 608x800 1 Plastic, 542.1ms\n",
      "Speed: 6.0ms preprocess, 542.1ms inference, 2.0ms postprocess per image at shape (1, 3, 608, 800)\n",
      "\n"
     ]
    },
    {
     "name": "stdout",
     "output_type": "stream",
     "text": [
      "Labels: deque([('P',), ('P',), ('P',), ('P',), ('P',)], maxlen=5)\n"
     ]
    },
    {
     "name": "stderr",
     "output_type": "stream",
     "text": [
      "0: 608x800 1 Plastic, 469.8ms\n",
      "Speed: 8.0ms preprocess, 469.8ms inference, 2.0ms postprocess per image at shape (1, 3, 608, 800)\n",
      "\n"
     ]
    },
    {
     "name": "stdout",
     "output_type": "stream",
     "text": [
      "Labels: deque([('P',), ('P',), ('P',), ('P',), ('P',)], maxlen=5)\n"
     ]
    },
    {
     "name": "stderr",
     "output_type": "stream",
     "text": [
      "0: 608x800 1 Plastic, 385.1ms\n",
      "Speed: 6.2ms preprocess, 385.1ms inference, 2.0ms postprocess per image at shape (1, 3, 608, 800)\n",
      "\n"
     ]
    },
    {
     "name": "stdout",
     "output_type": "stream",
     "text": [
      "Labels: deque([('P',), ('P',), ('P',), ('P',), ('P',)], maxlen=5)\n"
     ]
    },
    {
     "name": "stderr",
     "output_type": "stream",
     "text": [
      "0: 608x800 1 Plastic, 574.8ms\n",
      "Speed: 7.0ms preprocess, 574.8ms inference, 4.0ms postprocess per image at shape (1, 3, 608, 800)\n",
      "\n"
     ]
    },
    {
     "name": "stdout",
     "output_type": "stream",
     "text": [
      "Response from ESP32: P CMD: Action for 'P' command\n",
      "Labels: deque([('P',), ('P',), ('P',), ('P',), ('P',)], maxlen=5)\n"
     ]
    },
    {
     "name": "stderr",
     "output_type": "stream",
     "text": [
      "0: 608x800 1 Plastic, 326.1ms\n",
      "Speed: 3.1ms preprocess, 326.1ms inference, 2.0ms postprocess per image at shape (1, 3, 608, 800)\n",
      "\n"
     ]
    },
    {
     "name": "stdout",
     "output_type": "stream",
     "text": [
      "Labels: deque([('P',), ('P',), ('P',), ('P',), ('P',)], maxlen=5)\n"
     ]
    },
    {
     "name": "stderr",
     "output_type": "stream",
     "text": [
      "0: 608x800 1 Plastic, 324.5ms\n",
      "Speed: 7.0ms preprocess, 324.5ms inference, 1.0ms postprocess per image at shape (1, 3, 608, 800)\n",
      "\n"
     ]
    },
    {
     "name": "stdout",
     "output_type": "stream",
     "text": [
      "Labels: deque([('P',), ('P',), ('P',), ('P',), ('P',)], maxlen=5)\n"
     ]
    },
    {
     "name": "stderr",
     "output_type": "stream",
     "text": [
      "0: 608x800 1 Plastic, 329.0ms\n",
      "Speed: 4.0ms preprocess, 329.0ms inference, 1.0ms postprocess per image at shape (1, 3, 608, 800)\n",
      "\n"
     ]
    },
    {
     "name": "stdout",
     "output_type": "stream",
     "text": [
      "Labels: deque([('P',), ('P',), ('P',), ('P',), ('P',)], maxlen=5)\n"
     ]
    },
    {
     "name": "stderr",
     "output_type": "stream",
     "text": [
      "0: 608x800 1 Plastic, 312.3ms\n",
      "Speed: 4.0ms preprocess, 312.3ms inference, 1.0ms postprocess per image at shape (1, 3, 608, 800)\n",
      "\n"
     ]
    },
    {
     "name": "stdout",
     "output_type": "stream",
     "text": [
      "Labels: deque([('P',), ('P',), ('P',), ('P',), ('P',)], maxlen=5)\n"
     ]
    },
    {
     "name": "stderr",
     "output_type": "stream",
     "text": [
      "0: 608x800 1 Plastic, 349.0ms\n",
      "Speed: 6.3ms preprocess, 349.0ms inference, 1.0ms postprocess per image at shape (1, 3, 608, 800)\n",
      "\n"
     ]
    },
    {
     "name": "stdout",
     "output_type": "stream",
     "text": [
      "Response from ESP32: P CMD: Action for 'P' command\n",
      "Labels: deque([('P',), ('P',), ('P',), ('P',), ('P',)], maxlen=5)\n"
     ]
    },
    {
     "name": "stderr",
     "output_type": "stream",
     "text": [
      "0: 608x800 1 Plastic, 347.8ms\n",
      "Speed: 6.5ms preprocess, 347.8ms inference, 0.0ms postprocess per image at shape (1, 3, 608, 800)\n",
      "\n"
     ]
    },
    {
     "name": "stdout",
     "output_type": "stream",
     "text": [
      "Labels: deque([('P',), ('P',), ('P',), ('P',), ('P',)], maxlen=5)\n"
     ]
    },
    {
     "name": "stderr",
     "output_type": "stream",
     "text": [
      "0: 608x800 1 Plastic, 347.2ms\n",
      "Speed: 5.1ms preprocess, 347.2ms inference, 1.0ms postprocess per image at shape (1, 3, 608, 800)\n",
      "\n"
     ]
    },
    {
     "name": "stdout",
     "output_type": "stream",
     "text": [
      "Labels: deque([('P',), ('P',), ('P',), ('P',), ('P',)], maxlen=5)\n"
     ]
    },
    {
     "name": "stderr",
     "output_type": "stream",
     "text": [
      "0: 608x800 1 Plastic, 357.4ms\n",
      "Speed: 6.0ms preprocess, 357.4ms inference, 4.1ms postprocess per image at shape (1, 3, 608, 800)\n",
      "\n"
     ]
    },
    {
     "name": "stdout",
     "output_type": "stream",
     "text": [
      "Labels: deque([('P',), ('P',), ('P',), ('P',), ('P',)], maxlen=5)\n"
     ]
    },
    {
     "name": "stderr",
     "output_type": "stream",
     "text": [
      "0: 608x800 1 Biodegradable, 366.8ms\n",
      "Speed: 8.2ms preprocess, 366.8ms inference, 1.2ms postprocess per image at shape (1, 3, 608, 800)\n",
      "\n"
     ]
    },
    {
     "name": "stdout",
     "output_type": "stream",
     "text": [
      "Labels: deque([('P',), ('P',), ('P',), ('P',), ('B',)], maxlen=5)\n"
     ]
    },
    {
     "name": "stderr",
     "output_type": "stream",
     "text": [
      "0: 608x800 (no detections), 362.0ms\n",
      "Speed: 7.9ms preprocess, 362.0ms inference, 1.0ms postprocess per image at shape (1, 3, 608, 800)\n",
      "\n"
     ]
    },
    {
     "name": "stdout",
     "output_type": "stream",
     "text": [
      "Labels: deque([('P',), ('P',), ('P',), ('B',), ()], maxlen=5)\n"
     ]
    },
    {
     "name": "stderr",
     "output_type": "stream",
     "text": [
      "0: 608x800 (no detections), 350.0ms\n",
      "Speed: 6.7ms preprocess, 350.0ms inference, 0.0ms postprocess per image at shape (1, 3, 608, 800)\n",
      "\n"
     ]
    },
    {
     "name": "stdout",
     "output_type": "stream",
     "text": [
      "Labels: deque([('P',), ('P',), ('B',), (), ()], maxlen=5)\n"
     ]
    },
    {
     "name": "stderr",
     "output_type": "stream",
     "text": [
      "0: 608x800 1 Plastic, 377.7ms\n",
      "Speed: 6.0ms preprocess, 377.7ms inference, 0.0ms postprocess per image at shape (1, 3, 608, 800)\n",
      "\n"
     ]
    },
    {
     "name": "stdout",
     "output_type": "stream",
     "text": [
      "Labels: deque([('P',), ('B',), (), (), ('P',)], maxlen=5)\n"
     ]
    },
    {
     "name": "stderr",
     "output_type": "stream",
     "text": [
      "0: 608x800 (no detections), 400.6ms\n",
      "Speed: 6.6ms preprocess, 400.6ms inference, 0.5ms postprocess per image at shape (1, 3, 608, 800)\n",
      "\n"
     ]
    },
    {
     "name": "stdout",
     "output_type": "stream",
     "text": [
      "Labels: deque([('B',), (), (), ('P',), ()], maxlen=5)\n"
     ]
    },
    {
     "name": "stderr",
     "output_type": "stream",
     "text": [
      "0: 608x800 (no detections), 375.5ms\n",
      "Speed: 9.9ms preprocess, 375.5ms inference, 1.0ms postprocess per image at shape (1, 3, 608, 800)\n",
      "\n"
     ]
    },
    {
     "name": "stdout",
     "output_type": "stream",
     "text": [
      "Labels: deque([(), (), ('P',), (), ()], maxlen=5)\n"
     ]
    },
    {
     "name": "stderr",
     "output_type": "stream",
     "text": [
      "0: 608x800 2 Plastics, 392.0ms\n",
      "Speed: 6.0ms preprocess, 392.0ms inference, 1.0ms postprocess per image at shape (1, 3, 608, 800)\n",
      "\n"
     ]
    },
    {
     "name": "stdout",
     "output_type": "stream",
     "text": [
      "Labels: deque([(), ('P',), (), (), ('P',)], maxlen=5)\n"
     ]
    },
    {
     "name": "stderr",
     "output_type": "stream",
     "text": [
      "0: 608x800 1 Biodegradable, 1 Plastic, 370.0ms\n",
      "Speed: 5.9ms preprocess, 370.0ms inference, 2.0ms postprocess per image at shape (1, 3, 608, 800)\n",
      "\n"
     ]
    },
    {
     "name": "stdout",
     "output_type": "stream",
     "text": [
      "Labels: deque([('P',), (), (), ('P',), ('B',)], maxlen=5)\n"
     ]
    },
    {
     "name": "stderr",
     "output_type": "stream",
     "text": [
      "0: 608x800 1 Biodegradable, 393.3ms\n",
      "Speed: 6.0ms preprocess, 393.3ms inference, 2.0ms postprocess per image at shape (1, 3, 608, 800)\n",
      "\n"
     ]
    },
    {
     "name": "stdout",
     "output_type": "stream",
     "text": [
      "Labels: deque([(), (), ('P',), ('B',), ('B',)], maxlen=5)\n"
     ]
    },
    {
     "name": "stderr",
     "output_type": "stream",
     "text": [
      "0: 608x800 1 Biodegradable, 1 Plastic, 452.9ms\n",
      "Speed: 7.0ms preprocess, 452.9ms inference, 2.0ms postprocess per image at shape (1, 3, 608, 800)\n",
      "\n"
     ]
    },
    {
     "name": "stdout",
     "output_type": "stream",
     "text": [
      "Labels: deque([(), ('P',), ('B',), ('B',), ('P',)], maxlen=5)\n"
     ]
    },
    {
     "name": "stderr",
     "output_type": "stream",
     "text": [
      "0: 608x800 1 Biodegradable, 1 Plastic, 404.7ms\n",
      "Speed: 6.4ms preprocess, 404.7ms inference, 2.0ms postprocess per image at shape (1, 3, 608, 800)\n",
      "\n"
     ]
    },
    {
     "name": "stdout",
     "output_type": "stream",
     "text": [
      "Labels: deque([('P',), ('B',), ('B',), ('P',), ('P',)], maxlen=5)\n"
     ]
    },
    {
     "name": "stderr",
     "output_type": "stream",
     "text": [
      "0: 608x800 (no detections), 456.7ms\n",
      "Speed: 6.1ms preprocess, 456.7ms inference, 2.1ms postprocess per image at shape (1, 3, 608, 800)\n",
      "\n"
     ]
    },
    {
     "name": "stdout",
     "output_type": "stream",
     "text": [
      "Labels: deque([('B',), ('B',), ('P',), ('P',), ()], maxlen=5)\n"
     ]
    },
    {
     "name": "stderr",
     "output_type": "stream",
     "text": [
      "0: 608x800 1 Biodegradable, 385.6ms\n",
      "Speed: 13.9ms preprocess, 385.6ms inference, 1.1ms postprocess per image at shape (1, 3, 608, 800)\n",
      "\n"
     ]
    },
    {
     "name": "stdout",
     "output_type": "stream",
     "text": [
      "Labels: deque([('B',), ('P',), ('P',), (), ('B',)], maxlen=5)\n"
     ]
    },
    {
     "name": "stderr",
     "output_type": "stream",
     "text": [
      "0: 608x800 1 Biodegradable, 308.6ms\n",
      "Speed: 6.4ms preprocess, 308.6ms inference, 0.0ms postprocess per image at shape (1, 3, 608, 800)\n",
      "\n"
     ]
    },
    {
     "name": "stdout",
     "output_type": "stream",
     "text": [
      "Labels: deque([('P',), ('P',), (), ('B',), ('B',)], maxlen=5)\n"
     ]
    },
    {
     "name": "stderr",
     "output_type": "stream",
     "text": [
      "0: 608x800 1 Plastic, 372.6ms\n",
      "Speed: 0.0ms preprocess, 372.6ms inference, 1.0ms postprocess per image at shape (1, 3, 608, 800)\n",
      "\n"
     ]
    },
    {
     "name": "stdout",
     "output_type": "stream",
     "text": [
      "Labels: deque([('P',), (), ('B',), ('B',), ('P',)], maxlen=5)\n"
     ]
    },
    {
     "name": "stderr",
     "output_type": "stream",
     "text": [
      "0: 608x800 1 Plastic, 298.6ms\n",
      "Speed: 6.6ms preprocess, 298.6ms inference, 1.0ms postprocess per image at shape (1, 3, 608, 800)\n",
      "\n"
     ]
    },
    {
     "name": "stdout",
     "output_type": "stream",
     "text": [
      "Labels: deque([(), ('B',), ('B',), ('P',), ('P',)], maxlen=5)\n"
     ]
    },
    {
     "name": "stderr",
     "output_type": "stream",
     "text": [
      "0: 608x800 1 Plastic, 275.0ms\n",
      "Speed: 3.1ms preprocess, 275.0ms inference, 1.0ms postprocess per image at shape (1, 3, 608, 800)\n",
      "\n"
     ]
    },
    {
     "name": "stdout",
     "output_type": "stream",
     "text": [
      "Labels: deque([('B',), ('B',), ('P',), ('P',), ('P',)], maxlen=5)\n"
     ]
    },
    {
     "name": "stderr",
     "output_type": "stream",
     "text": [
      "0: 608x800 (no detections), 266.0ms\n",
      "Speed: 6.0ms preprocess, 266.0ms inference, 0.6ms postprocess per image at shape (1, 3, 608, 800)\n",
      "\n"
     ]
    },
    {
     "name": "stdout",
     "output_type": "stream",
     "text": [
      "Labels: deque([('B',), ('P',), ('P',), ('P',), ()], maxlen=5)\n"
     ]
    },
    {
     "name": "stderr",
     "output_type": "stream",
     "text": [
      "0: 608x800 1 Plastic, 279.4ms\n",
      "Speed: 6.0ms preprocess, 279.4ms inference, 1.5ms postprocess per image at shape (1, 3, 608, 800)\n",
      "\n"
     ]
    },
    {
     "name": "stdout",
     "output_type": "stream",
     "text": [
      "Labels: deque([('P',), ('P',), ('P',), (), ('P',)], maxlen=5)\n"
     ]
    },
    {
     "name": "stderr",
     "output_type": "stream",
     "text": [
      "0: 608x800 1 Plastic, 265.6ms\n",
      "Speed: 6.0ms preprocess, 265.6ms inference, 1.0ms postprocess per image at shape (1, 3, 608, 800)\n",
      "\n"
     ]
    },
    {
     "name": "stdout",
     "output_type": "stream",
     "text": [
      "Labels: deque([('P',), ('P',), (), ('P',), ('P',)], maxlen=5)\n"
     ]
    },
    {
     "name": "stderr",
     "output_type": "stream",
     "text": [
      "0: 608x800 1 Plastic, 269.3ms\n",
      "Speed: 5.0ms preprocess, 269.3ms inference, 1.0ms postprocess per image at shape (1, 3, 608, 800)\n",
      "\n"
     ]
    },
    {
     "name": "stdout",
     "output_type": "stream",
     "text": [
      "Labels: deque([('P',), (), ('P',), ('P',), ('P',)], maxlen=5)\n"
     ]
    },
    {
     "name": "stderr",
     "output_type": "stream",
     "text": [
      "0: 608x800 1 Biodegradable, 1 Plastic, 251.3ms\n",
      "Speed: 4.0ms preprocess, 251.3ms inference, 1.0ms postprocess per image at shape (1, 3, 608, 800)\n",
      "\n"
     ]
    },
    {
     "name": "stdout",
     "output_type": "stream",
     "text": [
      "Labels: deque([(), ('P',), ('P',), ('P',), ('B',)], maxlen=5)\n"
     ]
    },
    {
     "name": "stderr",
     "output_type": "stream",
     "text": [
      "0: 608x800 1 Biodegradable, 1 Plastic, 250.8ms\n",
      "Speed: 3.9ms preprocess, 250.8ms inference, 0.0ms postprocess per image at shape (1, 3, 608, 800)\n",
      "\n"
     ]
    },
    {
     "name": "stdout",
     "output_type": "stream",
     "text": [
      "Labels: deque([('P',), ('P',), ('P',), ('B',), ('B',)], maxlen=5)\n"
     ]
    },
    {
     "name": "stderr",
     "output_type": "stream",
     "text": [
      "0: 608x800 1 Biodegradable, 263.7ms\n",
      "Speed: 0.0ms preprocess, 263.7ms inference, 1.0ms postprocess per image at shape (1, 3, 608, 800)\n",
      "\n"
     ]
    },
    {
     "name": "stdout",
     "output_type": "stream",
     "text": [
      "Labels: deque([('P',), ('P',), ('B',), ('B',), ('B',)], maxlen=5)\n"
     ]
    },
    {
     "name": "stderr",
     "output_type": "stream",
     "text": [
      "0: 608x800 1 Biodegradable, 1 Plastic, 249.6ms\n",
      "Speed: 4.0ms preprocess, 249.6ms inference, 1.0ms postprocess per image at shape (1, 3, 608, 800)\n",
      "\n"
     ]
    },
    {
     "name": "stdout",
     "output_type": "stream",
     "text": [
      "Labels: deque([('P',), ('B',), ('B',), ('B',), ('B',)], maxlen=5)\n"
     ]
    },
    {
     "name": "stderr",
     "output_type": "stream",
     "text": [
      "0: 608x800 1 Biodegradable, 252.9ms\n",
      "Speed: 3.0ms preprocess, 252.9ms inference, 1.0ms postprocess per image at shape (1, 3, 608, 800)\n",
      "\n"
     ]
    },
    {
     "name": "stdout",
     "output_type": "stream",
     "text": [
      "Labels: deque([('B',), ('B',), ('B',), ('B',), ('B',)], maxlen=5)\n"
     ]
    },
    {
     "name": "stderr",
     "output_type": "stream",
     "text": [
      "0: 608x800 1 Biodegradable, 251.5ms\n",
      "Speed: 4.0ms preprocess, 251.5ms inference, 0.0ms postprocess per image at shape (1, 3, 608, 800)\n",
      "\n"
     ]
    },
    {
     "name": "stdout",
     "output_type": "stream",
     "text": [
      "Response from ESP32: B CMD: Action for 'B' command\n",
      "Labels: deque([('B',), ('B',), ('B',), ('B',), ('B',)], maxlen=5)\n"
     ]
    },
    {
     "name": "stderr",
     "output_type": "stream",
     "text": [
      "0: 608x800 1 Biodegradable, 244.0ms\n",
      "Speed: 3.0ms preprocess, 244.0ms inference, 0.0ms postprocess per image at shape (1, 3, 608, 800)\n",
      "\n"
     ]
    },
    {
     "name": "stdout",
     "output_type": "stream",
     "text": [
      "Labels: deque([('B',), ('B',), ('B',), ('B',), ('B',)], maxlen=5)\n"
     ]
    },
    {
     "name": "stderr",
     "output_type": "stream",
     "text": [
      "0: 608x800 2 Biodegradables, 1 Plastic, 252.2ms\n",
      "Speed: 4.0ms preprocess, 252.2ms inference, 1.0ms postprocess per image at shape (1, 3, 608, 800)\n",
      "\n"
     ]
    },
    {
     "name": "stdout",
     "output_type": "stream",
     "text": [
      "Labels: deque([('B',), ('B',), ('B',), ('B',), ('B',)], maxlen=5)\n"
     ]
    },
    {
     "name": "stderr",
     "output_type": "stream",
     "text": [
      "0: 608x800 2 Biodegradables, 1 Plastic, 255.8ms\n",
      "Speed: 6.0ms preprocess, 255.8ms inference, 1.0ms postprocess per image at shape (1, 3, 608, 800)\n",
      "\n"
     ]
    },
    {
     "name": "stdout",
     "output_type": "stream",
     "text": [
      "Labels: deque([('B',), ('B',), ('B',), ('B',), ('B',)], maxlen=5)\n"
     ]
    },
    {
     "name": "stderr",
     "output_type": "stream",
     "text": [
      "0: 608x800 2 Biodegradables, 1 Plastic, 277.1ms\n",
      "Speed: 4.0ms preprocess, 277.1ms inference, 0.0ms postprocess per image at shape (1, 3, 608, 800)\n",
      "\n"
     ]
    },
    {
     "name": "stdout",
     "output_type": "stream",
     "text": [
      "Labels: deque([('B',), ('B',), ('B',), ('B',), ('B',)], maxlen=5)\n"
     ]
    },
    {
     "name": "stderr",
     "output_type": "stream",
     "text": [
      "0: 608x800 2 Biodegradables, 1 Plastic, 246.5ms\n",
      "Speed: 4.0ms preprocess, 246.5ms inference, 1.0ms postprocess per image at shape (1, 3, 608, 800)\n",
      "\n"
     ]
    },
    {
     "name": "stdout",
     "output_type": "stream",
     "text": [
      "Response from ESP32: B CMD: Action for 'B' command\n",
      "Labels: deque([('B',), ('B',), ('B',), ('B',), ('B',)], maxlen=5)\n"
     ]
    },
    {
     "name": "stderr",
     "output_type": "stream",
     "text": [
      "0: 608x800 2 Biodegradables, 1 Plastic, 251.8ms\n",
      "Speed: 4.8ms preprocess, 251.8ms inference, 1.0ms postprocess per image at shape (1, 3, 608, 800)\n",
      "\n"
     ]
    },
    {
     "name": "stdout",
     "output_type": "stream",
     "text": [
      "Labels: deque([('B',), ('B',), ('B',), ('B',), ('P',)], maxlen=5)\n"
     ]
    },
    {
     "name": "stderr",
     "output_type": "stream",
     "text": [
      "0: 608x800 2 Biodegradables, 1 Plastic, 252.9ms\n",
      "Speed: 5.8ms preprocess, 252.9ms inference, 1.0ms postprocess per image at shape (1, 3, 608, 800)\n",
      "\n"
     ]
    },
    {
     "name": "stdout",
     "output_type": "stream",
     "text": [
      "Labels: deque([('B',), ('B',), ('B',), ('P',), ('B',)], maxlen=5)\n"
     ]
    },
    {
     "name": "stderr",
     "output_type": "stream",
     "text": [
      "0: 608x800 2 Biodegradables, 1 Plastic, 257.3ms\n",
      "Speed: 4.1ms preprocess, 257.3ms inference, 1.0ms postprocess per image at shape (1, 3, 608, 800)\n",
      "\n"
     ]
    },
    {
     "name": "stdout",
     "output_type": "stream",
     "text": [
      "Labels: deque([('B',), ('B',), ('P',), ('B',), ('B',)], maxlen=5)\n"
     ]
    },
    {
     "name": "stderr",
     "output_type": "stream",
     "text": [
      "0: 608x800 2 Biodegradables, 1 Plastic, 231.2ms\n",
      "Speed: 5.0ms preprocess, 231.2ms inference, 1.0ms postprocess per image at shape (1, 3, 608, 800)\n",
      "\n"
     ]
    },
    {
     "name": "stdout",
     "output_type": "stream",
     "text": [
      "Labels: deque([('B',), ('P',), ('B',), ('B',), ('P',)], maxlen=5)\n"
     ]
    },
    {
     "name": "stderr",
     "output_type": "stream",
     "text": [
      "0: 608x800 2 Biodegradables, 1 Plastic, 257.0ms\n",
      "Speed: 3.0ms preprocess, 257.0ms inference, 1.0ms postprocess per image at shape (1, 3, 608, 800)\n",
      "\n"
     ]
    },
    {
     "name": "stdout",
     "output_type": "stream",
     "text": [
      "Labels: deque([('P',), ('B',), ('B',), ('P',), ('P',)], maxlen=5)\n"
     ]
    },
    {
     "name": "stderr",
     "output_type": "stream",
     "text": [
      "0: 608x800 2 Biodegradables, 1 Plastic, 252.9ms\n",
      "Speed: 5.0ms preprocess, 252.9ms inference, 1.1ms postprocess per image at shape (1, 3, 608, 800)\n",
      "\n"
     ]
    },
    {
     "name": "stdout",
     "output_type": "stream",
     "text": [
      "Labels: deque([('B',), ('B',), ('P',), ('P',), ('B',)], maxlen=5)\n"
     ]
    },
    {
     "name": "stderr",
     "output_type": "stream",
     "text": [
      "0: 608x800 2 Biodegradables, 1 Plastic, 254.7ms\n",
      "Speed: 4.9ms preprocess, 254.7ms inference, 3.5ms postprocess per image at shape (1, 3, 608, 800)\n",
      "\n"
     ]
    },
    {
     "name": "stdout",
     "output_type": "stream",
     "text": [
      "Labels: deque([('B',), ('P',), ('P',), ('B',), ('P',)], maxlen=5)\n"
     ]
    },
    {
     "name": "stderr",
     "output_type": "stream",
     "text": [
      "0: 608x800 2 Biodegradables, 1 Plastic, 260.4ms\n",
      "Speed: 0.0ms preprocess, 260.4ms inference, 1.0ms postprocess per image at shape (1, 3, 608, 800)\n",
      "\n"
     ]
    },
    {
     "name": "stdout",
     "output_type": "stream",
     "text": [
      "Labels: deque([('P',), ('P',), ('B',), ('P',), ('P',)], maxlen=5)\n"
     ]
    },
    {
     "name": "stderr",
     "output_type": "stream",
     "text": [
      "0: 608x800 2 Biodegradables, 1 Plastic, 282.0ms\n",
      "Speed: 3.0ms preprocess, 282.0ms inference, 1.2ms postprocess per image at shape (1, 3, 608, 800)\n",
      "\n"
     ]
    },
    {
     "name": "stdout",
     "output_type": "stream",
     "text": [
      "Labels: deque([('P',), ('B',), ('P',), ('P',), ('B',)], maxlen=5)\n"
     ]
    },
    {
     "name": "stderr",
     "output_type": "stream",
     "text": [
      "0: 608x800 2 Biodegradables, 1 Plastic, 254.4ms\n",
      "Speed: 5.1ms preprocess, 254.4ms inference, 0.0ms postprocess per image at shape (1, 3, 608, 800)\n",
      "\n"
     ]
    },
    {
     "name": "stdout",
     "output_type": "stream",
     "text": [
      "Labels: deque([('B',), ('P',), ('P',), ('B',), ('B',)], maxlen=5)\n"
     ]
    },
    {
     "name": "stderr",
     "output_type": "stream",
     "text": [
      "0: 608x800 2 Biodegradables, 1 Plastic, 246.6ms\n",
      "Speed: 6.0ms preprocess, 246.6ms inference, 0.5ms postprocess per image at shape (1, 3, 608, 800)\n",
      "\n"
     ]
    },
    {
     "name": "stdout",
     "output_type": "stream",
     "text": [
      "Labels: deque([('P',), ('P',), ('B',), ('B',), ('B',)], maxlen=5)\n"
     ]
    },
    {
     "name": "stderr",
     "output_type": "stream",
     "text": [
      "0: 608x800 1 Biodegradable, 1 Plastic, 283.4ms\n",
      "Speed: 0.0ms preprocess, 283.4ms inference, 1.0ms postprocess per image at shape (1, 3, 608, 800)\n",
      "\n"
     ]
    },
    {
     "name": "stdout",
     "output_type": "stream",
     "text": [
      "Labels: deque([('P',), ('B',), ('B',), ('B',), ('B',)], maxlen=5)\n"
     ]
    },
    {
     "name": "stderr",
     "output_type": "stream",
     "text": [
      "0: 608x800 1 Biodegradable, 1 Plastic, 268.5ms\n",
      "Speed: 5.8ms preprocess, 268.5ms inference, 1.0ms postprocess per image at shape (1, 3, 608, 800)\n",
      "\n"
     ]
    },
    {
     "name": "stdout",
     "output_type": "stream",
     "text": [
      "Labels: deque([('B',), ('B',), ('B',), ('B',), ('B',)], maxlen=5)\n"
     ]
    },
    {
     "name": "stderr",
     "output_type": "stream",
     "text": [
      "0: 608x800 2 Biodegradables, 1 Plastic, 269.6ms\n",
      "Speed: 6.6ms preprocess, 269.6ms inference, 1.0ms postprocess per image at shape (1, 3, 608, 800)\n",
      "\n"
     ]
    },
    {
     "name": "stdout",
     "output_type": "stream",
     "text": [
      "Labels: deque([('B',), ('B',), ('B',), ('B',), ('B',)], maxlen=5)\n"
     ]
    },
    {
     "name": "stderr",
     "output_type": "stream",
     "text": [
      "0: 608x800 2 Biodegradables, 1 Plastic, 254.8ms\n",
      "Speed: 5.0ms preprocess, 254.8ms inference, 0.0ms postprocess per image at shape (1, 3, 608, 800)\n",
      "\n"
     ]
    },
    {
     "name": "stdout",
     "output_type": "stream",
     "text": [
      "Labels: deque([('B',), ('B',), ('B',), ('B',), ('B',)], maxlen=5)\n"
     ]
    },
    {
     "name": "stderr",
     "output_type": "stream",
     "text": [
      "0: 608x800 2 Biodegradables, 1 Plastic, 261.4ms\n",
      "Speed: 4.0ms preprocess, 261.4ms inference, 1.0ms postprocess per image at shape (1, 3, 608, 800)\n",
      "\n"
     ]
    },
    {
     "name": "stdout",
     "output_type": "stream",
     "text": [
      "Labels: deque([('B',), ('B',), ('B',), ('B',), ('B',)], maxlen=5)\n"
     ]
    },
    {
     "name": "stderr",
     "output_type": "stream",
     "text": [
      "0: 608x800 2 Biodegradables, 1 Plastic, 259.6ms\n",
      "Speed: 4.0ms preprocess, 259.6ms inference, 2.0ms postprocess per image at shape (1, 3, 608, 800)\n",
      "\n"
     ]
    },
    {
     "name": "stdout",
     "output_type": "stream",
     "text": [
      "Response from ESP32: B CMD: Action for 'B' command\n",
      "Labels: deque([('B',), ('B',), ('B',), ('B',), ('B',)], maxlen=5)\n"
     ]
    },
    {
     "name": "stderr",
     "output_type": "stream",
     "text": [
      "0: 608x800 1 Biodegradable, 1 Plastic, 277.1ms\n",
      "Speed: 4.0ms preprocess, 277.1ms inference, 1.1ms postprocess per image at shape (1, 3, 608, 800)\n",
      "\n"
     ]
    },
    {
     "name": "stdout",
     "output_type": "stream",
     "text": [
      "Labels: deque([('B',), ('B',), ('B',), ('B',), ('B',)], maxlen=5)\n"
     ]
    },
    {
     "name": "stderr",
     "output_type": "stream",
     "text": [
      "0: 608x800 1 Biodegradable, 1 Plastic, 247.8ms\n",
      "Speed: 4.2ms preprocess, 247.8ms inference, 0.0ms postprocess per image at shape (1, 3, 608, 800)\n",
      "\n"
     ]
    },
    {
     "name": "stdout",
     "output_type": "stream",
     "text": [
      "Labels: deque([('B',), ('B',), ('B',), ('B',), ('B',)], maxlen=5)\n"
     ]
    },
    {
     "name": "stderr",
     "output_type": "stream",
     "text": [
      "0: 608x800 1 Biodegradable, 1 Plastic, 253.4ms\n",
      "Speed: 6.6ms preprocess, 253.4ms inference, 2.0ms postprocess per image at shape (1, 3, 608, 800)\n",
      "\n"
     ]
    },
    {
     "name": "stdout",
     "output_type": "stream",
     "text": [
      "Labels: deque([('B',), ('B',), ('B',), ('B',), ('B',)], maxlen=5)\n"
     ]
    },
    {
     "name": "stderr",
     "output_type": "stream",
     "text": [
      "0: 608x800 1 Biodegradable, 1 Plastic, 257.6ms\n",
      "Speed: 4.0ms preprocess, 257.6ms inference, 1.0ms postprocess per image at shape (1, 3, 608, 800)\n",
      "\n"
     ]
    },
    {
     "name": "stdout",
     "output_type": "stream",
     "text": [
      "Labels: deque([('B',), ('B',), ('B',), ('B',), ('B',)], maxlen=5)\n"
     ]
    },
    {
     "name": "stderr",
     "output_type": "stream",
     "text": [
      "0: 608x800 1 Biodegradable, 1 Plastic, 253.8ms\n",
      "Speed: 4.0ms preprocess, 253.8ms inference, 0.0ms postprocess per image at shape (1, 3, 608, 800)\n",
      "\n"
     ]
    },
    {
     "name": "stdout",
     "output_type": "stream",
     "text": [
      "Response from ESP32: B CMD: Action for 'B' command\n",
      "Labels: deque([('B',), ('B',), ('B',), ('B',), ('B',)], maxlen=5)\n"
     ]
    },
    {
     "name": "stderr",
     "output_type": "stream",
     "text": [
      "0: 608x800 1 Biodegradable, 1 Plastic, 241.6ms\n",
      "Speed: 4.0ms preprocess, 241.6ms inference, 1.0ms postprocess per image at shape (1, 3, 608, 800)\n",
      "\n"
     ]
    },
    {
     "name": "stdout",
     "output_type": "stream",
     "text": [
      "Labels: deque([('B',), ('B',), ('B',), ('B',), ('B',)], maxlen=5)\n"
     ]
    },
    {
     "name": "stderr",
     "output_type": "stream",
     "text": [
      "0: 608x800 1 Biodegradable, 1 Plastic, 249.8ms\n",
      "Speed: 4.9ms preprocess, 249.8ms inference, 1.0ms postprocess per image at shape (1, 3, 608, 800)\n",
      "\n"
     ]
    },
    {
     "name": "stdout",
     "output_type": "stream",
     "text": [
      "Labels: deque([('B',), ('B',), ('B',), ('B',), ('B',)], maxlen=5)\n"
     ]
    },
    {
     "name": "stderr",
     "output_type": "stream",
     "text": [
      "0: 608x800 1 Biodegradable, 1 Plastic, 245.5ms\n",
      "Speed: 5.3ms preprocess, 245.5ms inference, 1.0ms postprocess per image at shape (1, 3, 608, 800)\n",
      "\n"
     ]
    },
    {
     "name": "stdout",
     "output_type": "stream",
     "text": [
      "Labels: deque([('B',), ('B',), ('B',), ('B',), ('B',)], maxlen=5)\n"
     ]
    },
    {
     "name": "stderr",
     "output_type": "stream",
     "text": [
      "0: 608x800 1 Biodegradable, 1 Plastic, 244.6ms\n",
      "Speed: 6.8ms preprocess, 244.6ms inference, 1.0ms postprocess per image at shape (1, 3, 608, 800)\n",
      "\n"
     ]
    },
    {
     "name": "stdout",
     "output_type": "stream",
     "text": [
      "Labels: deque([('B',), ('B',), ('B',), ('B',), ('B',)], maxlen=5)\n"
     ]
    },
    {
     "name": "stderr",
     "output_type": "stream",
     "text": [
      "0: 608x800 1 Biodegradable, 1 Plastic, 260.7ms\n",
      "Speed: 0.0ms preprocess, 260.7ms inference, 1.0ms postprocess per image at shape (1, 3, 608, 800)\n",
      "\n"
     ]
    },
    {
     "name": "stdout",
     "output_type": "stream",
     "text": [
      "Response from ESP32: B CMD: Action for 'B' command\n",
      "Labels: deque([('B',), ('B',), ('B',), ('B',), ('B',)], maxlen=5)\n"
     ]
    },
    {
     "name": "stderr",
     "output_type": "stream",
     "text": [
      "0: 608x800 1 Biodegradable, 1 Plastic, 235.2ms\n",
      "Speed: 3.1ms preprocess, 235.2ms inference, 0.0ms postprocess per image at shape (1, 3, 608, 800)\n",
      "\n"
     ]
    },
    {
     "name": "stdout",
     "output_type": "stream",
     "text": [
      "Labels: deque([('B',), ('B',), ('B',), ('B',), ('B',)], maxlen=5)\n"
     ]
    },
    {
     "name": "stderr",
     "output_type": "stream",
     "text": [
      "0: 608x800 1 Biodegradable, 1 Plastic, 271.6ms\n",
      "Speed: 3.0ms preprocess, 271.6ms inference, 0.0ms postprocess per image at shape (1, 3, 608, 800)\n",
      "\n"
     ]
    },
    {
     "name": "stdout",
     "output_type": "stream",
     "text": [
      "Labels: deque([('B',), ('B',), ('B',), ('B',), ('P',)], maxlen=5)\n"
     ]
    },
    {
     "name": "stderr",
     "output_type": "stream",
     "text": [
      "0: 608x800 1 Biodegradable, 1 Plastic, 252.6ms\n",
      "Speed: 3.0ms preprocess, 252.6ms inference, 1.0ms postprocess per image at shape (1, 3, 608, 800)\n",
      "\n"
     ]
    },
    {
     "name": "stdout",
     "output_type": "stream",
     "text": [
      "Labels: deque([('B',), ('B',), ('B',), ('P',), ('B',)], maxlen=5)\n"
     ]
    },
    {
     "name": "stderr",
     "output_type": "stream",
     "text": [
      "0: 608x800 2 Biodegradables, 1 Plastic, 246.1ms\n",
      "Speed: 3.0ms preprocess, 246.1ms inference, 2.1ms postprocess per image at shape (1, 3, 608, 800)\n",
      "\n"
     ]
    },
    {
     "name": "stdout",
     "output_type": "stream",
     "text": [
      "Labels: deque([('B',), ('B',), ('P',), ('B',), ('B',)], maxlen=5)\n"
     ]
    },
    {
     "name": "stderr",
     "output_type": "stream",
     "text": [
      "0: 608x800 1 Biodegradable, 1 Plastic, 251.8ms\n",
      "Speed: 2.0ms preprocess, 251.8ms inference, 1.0ms postprocess per image at shape (1, 3, 608, 800)\n",
      "\n"
     ]
    },
    {
     "name": "stdout",
     "output_type": "stream",
     "text": [
      "Labels: deque([('B',), ('P',), ('B',), ('B',), ('B',)], maxlen=5)\n"
     ]
    },
    {
     "name": "stderr",
     "output_type": "stream",
     "text": [
      "0: 608x800 1 Biodegradable, 1 Plastic, 249.5ms\n",
      "Speed: 4.0ms preprocess, 249.5ms inference, 1.0ms postprocess per image at shape (1, 3, 608, 800)\n",
      "\n"
     ]
    },
    {
     "name": "stdout",
     "output_type": "stream",
     "text": [
      "Labels: deque([('P',), ('B',), ('B',), ('B',), ('B',)], maxlen=5)\n"
     ]
    },
    {
     "name": "stderr",
     "output_type": "stream",
     "text": [
      "0: 608x800 1 Biodegradable, 1 Plastic, 242.6ms\n",
      "Speed: 5.3ms preprocess, 242.6ms inference, 1.0ms postprocess per image at shape (1, 3, 608, 800)\n",
      "\n"
     ]
    },
    {
     "name": "stdout",
     "output_type": "stream",
     "text": [
      "Labels: deque([('B',), ('B',), ('B',), ('B',), ('B',)], maxlen=5)\n"
     ]
    },
    {
     "name": "stderr",
     "output_type": "stream",
     "text": [
      "0: 608x800 1 Biodegradable, 1 Plastic, 232.6ms\n",
      "Speed: 4.0ms preprocess, 232.6ms inference, 1.0ms postprocess per image at shape (1, 3, 608, 800)\n",
      "\n"
     ]
    },
    {
     "name": "stdout",
     "output_type": "stream",
     "text": [
      "Labels: deque([('B',), ('B',), ('B',), ('B',), ('B',)], maxlen=5)\n"
     ]
    },
    {
     "name": "stderr",
     "output_type": "stream",
     "text": [
      "0: 608x800 1 Biodegradable, 1 Plastic, 241.0ms\n",
      "Speed: 4.0ms preprocess, 241.0ms inference, 1.0ms postprocess per image at shape (1, 3, 608, 800)\n",
      "\n"
     ]
    },
    {
     "name": "stdout",
     "output_type": "stream",
     "text": [
      "Labels: deque([('B',), ('B',), ('B',), ('B',), ('B',)], maxlen=5)\n"
     ]
    },
    {
     "name": "stderr",
     "output_type": "stream",
     "text": [
      "0: 608x800 1 Biodegradable, 1 Plastic, 272.2ms\n",
      "Speed: 5.1ms preprocess, 272.2ms inference, 2.1ms postprocess per image at shape (1, 3, 608, 800)\n",
      "\n"
     ]
    },
    {
     "name": "stdout",
     "output_type": "stream",
     "text": [
      "Labels: deque([('B',), ('B',), ('B',), ('B',), ('P',)], maxlen=5)\n"
     ]
    },
    {
     "name": "stderr",
     "output_type": "stream",
     "text": [
      "0: 608x800 1 Biodegradable, 1 Plastic, 243.8ms\n",
      "Speed: 4.0ms preprocess, 243.8ms inference, 0.0ms postprocess per image at shape (1, 3, 608, 800)\n",
      "\n"
     ]
    },
    {
     "name": "stdout",
     "output_type": "stream",
     "text": [
      "Labels: deque([('B',), ('B',), ('B',), ('P',), ('B',)], maxlen=5)\n"
     ]
    },
    {
     "name": "stderr",
     "output_type": "stream",
     "text": [
      "0: 608x800 1 Biodegradable, 1 Plastic, 260.2ms\n",
      "Speed: 4.1ms preprocess, 260.2ms inference, 0.0ms postprocess per image at shape (1, 3, 608, 800)\n",
      "\n"
     ]
    },
    {
     "name": "stdout",
     "output_type": "stream",
     "text": [
      "Labels: deque([('B',), ('B',), ('P',), ('B',), ('B',)], maxlen=5)\n"
     ]
    },
    {
     "name": "stderr",
     "output_type": "stream",
     "text": [
      "0: 608x800 1 Biodegradable, 1 Plastic, 260.5ms\n",
      "Speed: 2.1ms preprocess, 260.5ms inference, 0.9ms postprocess per image at shape (1, 3, 608, 800)\n",
      "\n"
     ]
    },
    {
     "name": "stdout",
     "output_type": "stream",
     "text": [
      "Labels: deque([('B',), ('P',), ('B',), ('B',), ('P',)], maxlen=5)\n"
     ]
    },
    {
     "name": "stderr",
     "output_type": "stream",
     "text": [
      "0: 608x800 1 Biodegradable, 1 Plastic, 243.7ms\n",
      "Speed: 5.3ms preprocess, 243.7ms inference, 0.0ms postprocess per image at shape (1, 3, 608, 800)\n",
      "\n"
     ]
    },
    {
     "name": "stdout",
     "output_type": "stream",
     "text": [
      "Labels: deque([('P',), ('B',), ('B',), ('P',), ('B',)], maxlen=5)\n"
     ]
    },
    {
     "name": "stderr",
     "output_type": "stream",
     "text": [
      "0: 608x800 1 Biodegradable, 1 Plastic, 260.7ms\n",
      "Speed: 0.0ms preprocess, 260.7ms inference, 1.0ms postprocess per image at shape (1, 3, 608, 800)\n",
      "\n"
     ]
    },
    {
     "name": "stdout",
     "output_type": "stream",
     "text": [
      "Labels: deque([('B',), ('B',), ('P',), ('B',), ('B',)], maxlen=5)\n"
     ]
    },
    {
     "name": "stderr",
     "output_type": "stream",
     "text": [
      "0: 608x800 1 Biodegradable, 1 Plastic, 253.3ms\n",
      "Speed: 4.0ms preprocess, 253.3ms inference, 1.0ms postprocess per image at shape (1, 3, 608, 800)\n",
      "\n"
     ]
    },
    {
     "name": "stdout",
     "output_type": "stream",
     "text": [
      "Labels: deque([('B',), ('P',), ('B',), ('B',), ('B',)], maxlen=5)\n"
     ]
    },
    {
     "name": "stderr",
     "output_type": "stream",
     "text": [
      "0: 608x800 1 Biodegradable, 1 Plastic, 258.8ms\n",
      "Speed: 6.0ms preprocess, 258.8ms inference, 0.0ms postprocess per image at shape (1, 3, 608, 800)\n",
      "\n"
     ]
    },
    {
     "name": "stdout",
     "output_type": "stream",
     "text": [
      "Labels: deque([('P',), ('B',), ('B',), ('B',), ('B',)], maxlen=5)\n"
     ]
    },
    {
     "name": "stderr",
     "output_type": "stream",
     "text": [
      "0: 608x800 1 Biodegradable, 1 Plastic, 260.9ms\n",
      "Speed: 6.1ms preprocess, 260.9ms inference, 2.0ms postprocess per image at shape (1, 3, 608, 800)\n",
      "\n"
     ]
    },
    {
     "name": "stdout",
     "output_type": "stream",
     "text": [
      "Response from ESP32: B CMD: Action for 'B' command\n",
      "Labels: deque([('B',), ('B',), ('B',), ('B',), ('B',)], maxlen=5)\n"
     ]
    },
    {
     "name": "stderr",
     "output_type": "stream",
     "text": [
      "0: 608x800 1 Biodegradable, 1 Plastic, 250.3ms\n",
      "Speed: 5.0ms preprocess, 250.3ms inference, 2.0ms postprocess per image at shape (1, 3, 608, 800)\n",
      "\n"
     ]
    },
    {
     "name": "stdout",
     "output_type": "stream",
     "text": [
      "Labels: deque([('B',), ('B',), ('B',), ('B',), ('B',)], maxlen=5)\n"
     ]
    },
    {
     "name": "stderr",
     "output_type": "stream",
     "text": [
      "0: 608x800 1 Biodegradable, 1 Plastic, 253.4ms\n",
      "Speed: 6.6ms preprocess, 253.4ms inference, 0.0ms postprocess per image at shape (1, 3, 608, 800)\n",
      "\n"
     ]
    },
    {
     "name": "stdout",
     "output_type": "stream",
     "text": [
      "Labels: deque([('B',), ('B',), ('B',), ('B',), ('B',)], maxlen=5)\n"
     ]
    },
    {
     "name": "stderr",
     "output_type": "stream",
     "text": [
      "0: 608x800 1 Biodegradable, 1 Plastic, 254.2ms\n",
      "Speed: 4.0ms preprocess, 254.2ms inference, 1.0ms postprocess per image at shape (1, 3, 608, 800)\n",
      "\n"
     ]
    },
    {
     "name": "stdout",
     "output_type": "stream",
     "text": [
      "Labels: deque([('B',), ('B',), ('B',), ('B',), ('B',)], maxlen=5)\n"
     ]
    },
    {
     "name": "stderr",
     "output_type": "stream",
     "text": [
      "0: 608x800 1 Biodegradable, 1 Plastic, 251.7ms\n",
      "Speed: 4.0ms preprocess, 251.7ms inference, 1.0ms postprocess per image at shape (1, 3, 608, 800)\n",
      "\n"
     ]
    },
    {
     "name": "stdout",
     "output_type": "stream",
     "text": [
      "Labels: deque([('B',), ('B',), ('B',), ('B',), ('B',)], maxlen=5)\n"
     ]
    },
    {
     "name": "stderr",
     "output_type": "stream",
     "text": [
      "0: 608x800 1 Biodegradable, 1 Plastic, 256.2ms\n",
      "Speed: 4.0ms preprocess, 256.2ms inference, 1.1ms postprocess per image at shape (1, 3, 608, 800)\n",
      "\n"
     ]
    },
    {
     "name": "stdout",
     "output_type": "stream",
     "text": [
      "Response from ESP32: B CMD: Action for 'B' command\n",
      "Labels: deque([('B',), ('B',), ('B',), ('B',), ('B',)], maxlen=5)\n"
     ]
    },
    {
     "name": "stderr",
     "output_type": "stream",
     "text": [
      "0: 608x800 1 Biodegradable, 1 Plastic, 242.0ms\n",
      "Speed: 3.1ms preprocess, 242.0ms inference, 1.0ms postprocess per image at shape (1, 3, 608, 800)\n",
      "\n"
     ]
    },
    {
     "name": "stdout",
     "output_type": "stream",
     "text": [
      "Labels: deque([('B',), ('B',), ('B',), ('B',), ('B',)], maxlen=5)\n"
     ]
    },
    {
     "name": "stderr",
     "output_type": "stream",
     "text": [
      "0: 608x800 1 Biodegradable, 245.4ms\n",
      "Speed: 4.0ms preprocess, 245.4ms inference, 0.0ms postprocess per image at shape (1, 3, 608, 800)\n",
      "\n"
     ]
    },
    {
     "name": "stdout",
     "output_type": "stream",
     "text": [
      "Labels: deque([('B',), ('B',), ('B',), ('B',), ('B',)], maxlen=5)\n"
     ]
    },
    {
     "name": "stderr",
     "output_type": "stream",
     "text": [
      "0: 608x800 1 Biodegradable, 245.0ms\n",
      "Speed: 0.0ms preprocess, 245.0ms inference, 0.0ms postprocess per image at shape (1, 3, 608, 800)\n",
      "\n"
     ]
    },
    {
     "name": "stdout",
     "output_type": "stream",
     "text": [
      "Labels: deque([('B',), ('B',), ('B',), ('B',), ('B',)], maxlen=5)\n"
     ]
    },
    {
     "name": "stderr",
     "output_type": "stream",
     "text": [
      "0: 608x800 1 Biodegradable, 254.7ms\n",
      "Speed: 3.9ms preprocess, 254.7ms inference, 1.0ms postprocess per image at shape (1, 3, 608, 800)\n",
      "\n"
     ]
    },
    {
     "name": "stdout",
     "output_type": "stream",
     "text": [
      "Labels: deque([('B',), ('B',), ('B',), ('B',), ('B',)], maxlen=5)\n"
     ]
    },
    {
     "name": "stderr",
     "output_type": "stream",
     "text": [
      "0: 608x800 1 Biodegradable, 256.4ms\n",
      "Speed: 5.0ms preprocess, 256.4ms inference, 1.0ms postprocess per image at shape (1, 3, 608, 800)\n",
      "\n"
     ]
    },
    {
     "name": "stdout",
     "output_type": "stream",
     "text": [
      "Response from ESP32: B CMD: Action for 'B' command\n",
      "Labels: deque([('B',), ('B',), ('B',), ('B',), ('B',)], maxlen=5)\n"
     ]
    },
    {
     "name": "stderr",
     "output_type": "stream",
     "text": [
      "0: 608x800 1 Biodegradable, 252.0ms\n",
      "Speed: 5.0ms preprocess, 252.0ms inference, 1.0ms postprocess per image at shape (1, 3, 608, 800)\n",
      "\n"
     ]
    },
    {
     "name": "stdout",
     "output_type": "stream",
     "text": [
      "Labels: deque([('B',), ('B',), ('B',), ('B',), ('B',)], maxlen=5)\n"
     ]
    },
    {
     "name": "stderr",
     "output_type": "stream",
     "text": [
      "0: 608x800 1 Biodegradable, 254.0ms\n",
      "Speed: 5.0ms preprocess, 254.0ms inference, 1.0ms postprocess per image at shape (1, 3, 608, 800)\n",
      "\n"
     ]
    },
    {
     "name": "stdout",
     "output_type": "stream",
     "text": [
      "Labels: deque([('B',), ('B',), ('B',), ('B',), ('B',)], maxlen=5)\n"
     ]
    },
    {
     "name": "stderr",
     "output_type": "stream",
     "text": [
      "0: 608x800 1 Biodegradable, 263.0ms\n",
      "Speed: 4.0ms preprocess, 263.0ms inference, 1.0ms postprocess per image at shape (1, 3, 608, 800)\n",
      "\n"
     ]
    },
    {
     "name": "stdout",
     "output_type": "stream",
     "text": [
      "Labels: deque([('B',), ('B',), ('B',), ('B',), ('B',)], maxlen=5)\n"
     ]
    },
    {
     "name": "stderr",
     "output_type": "stream",
     "text": [
      "0: 608x800 1 Biodegradable, 1 Plastic, 279.1ms\n",
      "Speed: 0.0ms preprocess, 279.1ms inference, 1.0ms postprocess per image at shape (1, 3, 608, 800)\n",
      "\n"
     ]
    },
    {
     "name": "stdout",
     "output_type": "stream",
     "text": [
      "Labels: deque([('B',), ('B',), ('B',), ('B',), ('B',)], maxlen=5)\n"
     ]
    },
    {
     "name": "stderr",
     "output_type": "stream",
     "text": [
      "0: 608x800 1 Biodegradable, 272.3ms\n",
      "Speed: 0.0ms preprocess, 272.3ms inference, 1.0ms postprocess per image at shape (1, 3, 608, 800)\n",
      "\n"
     ]
    },
    {
     "name": "stdout",
     "output_type": "stream",
     "text": [
      "Response from ESP32: B CMD: Action for 'B' command\n",
      "Labels: deque([('B',), ('B',), ('B',), ('B',), ('B',)], maxlen=5)\n"
     ]
    },
    {
     "name": "stderr",
     "output_type": "stream",
     "text": [
      "0: 608x800 1 Biodegradable, 247.5ms\n",
      "Speed: 3.9ms preprocess, 247.5ms inference, 1.0ms postprocess per image at shape (1, 3, 608, 800)\n",
      "\n"
     ]
    },
    {
     "name": "stdout",
     "output_type": "stream",
     "text": [
      "Labels: deque([('B',), ('B',), ('B',), ('B',), ('B',)], maxlen=5)\n"
     ]
    },
    {
     "name": "stderr",
     "output_type": "stream",
     "text": [
      "0: 608x800 1 Biodegradable, 1 Plastic, 264.4ms\n",
      "Speed: 0.0ms preprocess, 264.4ms inference, 1.0ms postprocess per image at shape (1, 3, 608, 800)\n",
      "\n"
     ]
    },
    {
     "name": "stdout",
     "output_type": "stream",
     "text": [
      "Labels: deque([('B',), ('B',), ('B',), ('B',), ('B',)], maxlen=5)\n"
     ]
    },
    {
     "name": "stderr",
     "output_type": "stream",
     "text": [
      "0: 608x800 1 Biodegradable, 255.9ms\n",
      "Speed: 0.0ms preprocess, 255.9ms inference, 1.0ms postprocess per image at shape (1, 3, 608, 800)\n",
      "\n"
     ]
    },
    {
     "name": "stdout",
     "output_type": "stream",
     "text": [
      "Labels: deque([('B',), ('B',), ('B',), ('B',), ('B',)], maxlen=5)\n"
     ]
    },
    {
     "name": "stderr",
     "output_type": "stream",
     "text": [
      "0: 608x800 1 Biodegradable, 245.3ms\n",
      "Speed: 5.9ms preprocess, 245.3ms inference, 0.0ms postprocess per image at shape (1, 3, 608, 800)\n",
      "\n"
     ]
    },
    {
     "name": "stdout",
     "output_type": "stream",
     "text": [
      "Labels: deque([('B',), ('B',), ('B',), ('B',), ('B',)], maxlen=5)\n"
     ]
    },
    {
     "name": "stderr",
     "output_type": "stream",
     "text": [
      "0: 608x800 1 Biodegradable, 274.0ms\n",
      "Speed: 0.0ms preprocess, 274.0ms inference, 1.0ms postprocess per image at shape (1, 3, 608, 800)\n",
      "\n"
     ]
    },
    {
     "name": "stdout",
     "output_type": "stream",
     "text": [
      "Response from ESP32: B CMD: Action for 'B' command\n",
      "Labels: deque([('B',), ('B',), ('B',), ('B',), ('B',)], maxlen=5)\n"
     ]
    },
    {
     "name": "stderr",
     "output_type": "stream",
     "text": [
      "0: 608x800 1 Biodegradable, 251.9ms\n",
      "Speed: 4.0ms preprocess, 251.9ms inference, 1.0ms postprocess per image at shape (1, 3, 608, 800)\n",
      "\n"
     ]
    },
    {
     "name": "stdout",
     "output_type": "stream",
     "text": [
      "Labels: deque([('B',), ('B',), ('B',), ('B',), ('B',)], maxlen=5)\n"
     ]
    },
    {
     "name": "stderr",
     "output_type": "stream",
     "text": [
      "0: 608x800 1 Biodegradable, 265.9ms\n",
      "Speed: 5.0ms preprocess, 265.9ms inference, 0.0ms postprocess per image at shape (1, 3, 608, 800)\n",
      "\n"
     ]
    },
    {
     "name": "stdout",
     "output_type": "stream",
     "text": [
      "Labels: deque([('B',), ('B',), ('B',), ('B',), ('B',)], maxlen=5)\n"
     ]
    },
    {
     "name": "stderr",
     "output_type": "stream",
     "text": [
      "0: 608x800 1 Biodegradable, 1 Plastic, 258.1ms\n",
      "Speed: 7.1ms preprocess, 258.1ms inference, 2.0ms postprocess per image at shape (1, 3, 608, 800)\n",
      "\n"
     ]
    },
    {
     "name": "stdout",
     "output_type": "stream",
     "text": [
      "Labels: deque([('B',), ('B',), ('B',), ('B',), ('B',)], maxlen=5)\n"
     ]
    },
    {
     "name": "stderr",
     "output_type": "stream",
     "text": [
      "0: 608x800 1 Biodegradable, 257.1ms\n",
      "Speed: 6.0ms preprocess, 257.1ms inference, 1.0ms postprocess per image at shape (1, 3, 608, 800)\n",
      "\n"
     ]
    },
    {
     "name": "stdout",
     "output_type": "stream",
     "text": [
      "Labels: deque([('B',), ('B',), ('B',), ('B',), ('B',)], maxlen=5)\n"
     ]
    },
    {
     "name": "stderr",
     "output_type": "stream",
     "text": [
      "0: 608x800 1 Biodegradable, 235.3ms\n",
      "Speed: 6.0ms preprocess, 235.3ms inference, 0.0ms postprocess per image at shape (1, 3, 608, 800)\n",
      "\n"
     ]
    },
    {
     "name": "stdout",
     "output_type": "stream",
     "text": [
      "Response from ESP32: B CMD: Action for 'B' command\n",
      "Labels: deque([('B',), ('B',), ('B',), ('B',), ('B',)], maxlen=5)\n"
     ]
    },
    {
     "name": "stderr",
     "output_type": "stream",
     "text": [
      "0: 608x800 1 Biodegradable, 243.5ms\n",
      "Speed: 4.0ms preprocess, 243.5ms inference, 0.0ms postprocess per image at shape (1, 3, 608, 800)\n",
      "\n"
     ]
    },
    {
     "name": "stdout",
     "output_type": "stream",
     "text": [
      "Labels: deque([('B',), ('B',), ('B',), ('B',), ('B',)], maxlen=5)\n"
     ]
    },
    {
     "name": "stderr",
     "output_type": "stream",
     "text": [
      "0: 608x800 1 Biodegradable, 1 Plastic, 277.1ms\n",
      "Speed: 2.6ms preprocess, 277.1ms inference, 2.1ms postprocess per image at shape (1, 3, 608, 800)\n",
      "\n"
     ]
    },
    {
     "name": "stdout",
     "output_type": "stream",
     "text": [
      "Labels: deque([('B',), ('B',), ('B',), ('B',), ('P',)], maxlen=5)\n"
     ]
    },
    {
     "name": "stderr",
     "output_type": "stream",
     "text": [
      "0: 608x800 1 Biodegradable, 1 Plastic, 252.0ms\n",
      "Speed: 4.0ms preprocess, 252.0ms inference, 1.0ms postprocess per image at shape (1, 3, 608, 800)\n",
      "\n"
     ]
    },
    {
     "name": "stdout",
     "output_type": "stream",
     "text": [
      "Labels: deque([('B',), ('B',), ('B',), ('P',), ('P',)], maxlen=5)\n"
     ]
    },
    {
     "name": "stderr",
     "output_type": "stream",
     "text": [
      "0: 608x800 1 Biodegradable, 1 Plastic, 240.3ms\n",
      "Speed: 5.6ms preprocess, 240.3ms inference, 15.8ms postprocess per image at shape (1, 3, 608, 800)\n",
      "\n"
     ]
    },
    {
     "name": "stdout",
     "output_type": "stream",
     "text": [
      "Labels: deque([('B',), ('B',), ('P',), ('P',), ('P',)], maxlen=5)\n"
     ]
    },
    {
     "name": "stderr",
     "output_type": "stream",
     "text": [
      "0: 608x800 1 Biodegradable, 1 Plastic, 282.7ms\n",
      "Speed: 0.0ms preprocess, 282.7ms inference, 0.0ms postprocess per image at shape (1, 3, 608, 800)\n",
      "\n"
     ]
    },
    {
     "name": "stdout",
     "output_type": "stream",
     "text": [
      "Labels: deque([('B',), ('P',), ('P',), ('P',), ('P',)], maxlen=5)\n"
     ]
    },
    {
     "name": "stderr",
     "output_type": "stream",
     "text": [
      "0: 608x800 2 Biodegradables, 1 Plastic, 252.5ms\n",
      "Speed: 7.6ms preprocess, 252.5ms inference, 1.0ms postprocess per image at shape (1, 3, 608, 800)\n",
      "\n"
     ]
    },
    {
     "name": "stdout",
     "output_type": "stream",
     "text": [
      "Labels: deque([('P',), ('P',), ('P',), ('P',), ('P',)], maxlen=5)\n"
     ]
    },
    {
     "name": "stderr",
     "output_type": "stream",
     "text": [
      "0: 608x800 1 Biodegradable, 1 Plastic, 260.1ms\n",
      "Speed: 0.0ms preprocess, 260.1ms inference, 1.0ms postprocess per image at shape (1, 3, 608, 800)\n",
      "\n"
     ]
    },
    {
     "name": "stdout",
     "output_type": "stream",
     "text": [
      "Labels: deque([('P',), ('P',), ('P',), ('P',), ('P',)], maxlen=5)\n"
     ]
    },
    {
     "name": "stderr",
     "output_type": "stream",
     "text": [
      "0: 608x800 3 Biodegradables, 1 Plastic, 261.2ms\n",
      "Speed: 4.0ms preprocess, 261.2ms inference, 1.0ms postprocess per image at shape (1, 3, 608, 800)\n",
      "\n"
     ]
    },
    {
     "name": "stdout",
     "output_type": "stream",
     "text": [
      "Labels: deque([('P',), ('P',), ('P',), ('P',), ('P',)], maxlen=5)\n"
     ]
    },
    {
     "name": "stderr",
     "output_type": "stream",
     "text": [
      "0: 608x800 3 Biodegradables, 1 Plastic, 260.2ms\n",
      "Speed: 6.0ms preprocess, 260.2ms inference, 0.0ms postprocess per image at shape (1, 3, 608, 800)\n",
      "\n"
     ]
    },
    {
     "name": "stdout",
     "output_type": "stream",
     "text": [
      "Response from ESP32: P CMD: Action for 'P' command\n",
      "Labels: deque([('P',), ('P',), ('P',), ('P',), ('P',)], maxlen=5)\n"
     ]
    },
    {
     "name": "stderr",
     "output_type": "stream",
     "text": [
      "0: 608x800 1 Plastic, 239.1ms\n",
      "Speed: 4.0ms preprocess, 239.1ms inference, 1.0ms postprocess per image at shape (1, 3, 608, 800)\n",
      "\n"
     ]
    },
    {
     "name": "stdout",
     "output_type": "stream",
     "text": [
      "Labels: deque([('P',), ('P',), ('P',), ('P',), ('P',)], maxlen=5)\n"
     ]
    },
    {
     "name": "stderr",
     "output_type": "stream",
     "text": [
      "0: 608x800 1 Plastic, 268.0ms\n",
      "Speed: 0.0ms preprocess, 268.0ms inference, 1.0ms postprocess per image at shape (1, 3, 608, 800)\n",
      "\n"
     ]
    },
    {
     "name": "stdout",
     "output_type": "stream",
     "text": [
      "Labels: deque([('P',), ('P',), ('P',), ('P',), ('P',)], maxlen=5)\n"
     ]
    },
    {
     "name": "stderr",
     "output_type": "stream",
     "text": [
      "0: 608x800 1 Metal, 252.0ms\n",
      "Speed: 0.0ms preprocess, 252.0ms inference, 1.0ms postprocess per image at shape (1, 3, 608, 800)\n",
      "\n"
     ]
    },
    {
     "name": "stdout",
     "output_type": "stream",
     "text": [
      "Labels: deque([('P',), ('P',), ('P',), ('P',), ('m',)], maxlen=5)\n"
     ]
    },
    {
     "name": "stderr",
     "output_type": "stream",
     "text": [
      "0: 608x800 1 Metal, 233.7ms\n",
      "Speed: 4.0ms preprocess, 233.7ms inference, 0.0ms postprocess per image at shape (1, 3, 608, 800)\n",
      "\n"
     ]
    },
    {
     "name": "stdout",
     "output_type": "stream",
     "text": [
      "Labels: deque([('P',), ('P',), ('P',), ('m',), ('m',)], maxlen=5)\n"
     ]
    },
    {
     "name": "stderr",
     "output_type": "stream",
     "text": [
      "0: 608x800 (no detections), 249.0ms\n",
      "Speed: 5.7ms preprocess, 249.0ms inference, 1.0ms postprocess per image at shape (1, 3, 608, 800)\n",
      "\n"
     ]
    },
    {
     "name": "stdout",
     "output_type": "stream",
     "text": [
      "Labels: deque([('P',), ('P',), ('m',), ('m',), ()], maxlen=5)\n"
     ]
    },
    {
     "name": "stderr",
     "output_type": "stream",
     "text": [
      "0: 608x800 1 Metal, 250.4ms\n",
      "Speed: 4.0ms preprocess, 250.4ms inference, 1.0ms postprocess per image at shape (1, 3, 608, 800)\n",
      "\n"
     ]
    },
    {
     "name": "stdout",
     "output_type": "stream",
     "text": [
      "Labels: deque([('P',), ('m',), ('m',), (), ('m',)], maxlen=5)\n"
     ]
    },
    {
     "name": "stderr",
     "output_type": "stream",
     "text": [
      "0: 608x800 1 Metal, 228.8ms\n",
      "Speed: 4.6ms preprocess, 228.8ms inference, 0.0ms postprocess per image at shape (1, 3, 608, 800)\n",
      "\n"
     ]
    },
    {
     "name": "stdout",
     "output_type": "stream",
     "text": [
      "Labels: deque([('m',), ('m',), (), ('m',), ('m',)], maxlen=5)\n"
     ]
    },
    {
     "name": "stderr",
     "output_type": "stream",
     "text": [
      "0: 608x800 1 Metal, 258.5ms\n",
      "Speed: 0.0ms preprocess, 258.5ms inference, 1.0ms postprocess per image at shape (1, 3, 608, 800)\n",
      "\n"
     ]
    },
    {
     "name": "stdout",
     "output_type": "stream",
     "text": [
      "Labels: deque([('m',), (), ('m',), ('m',), ('m',)], maxlen=5)\n"
     ]
    },
    {
     "name": "stderr",
     "output_type": "stream",
     "text": [
      "0: 608x800 1 Metal, 270.4ms\n",
      "Speed: 4.0ms preprocess, 270.4ms inference, 1.0ms postprocess per image at shape (1, 3, 608, 800)\n",
      "\n"
     ]
    },
    {
     "name": "stdout",
     "output_type": "stream",
     "text": [
      "Labels: deque([(), ('m',), ('m',), ('m',), ('m',)], maxlen=5)\n"
     ]
    },
    {
     "name": "stderr",
     "output_type": "stream",
     "text": [
      "0: 608x800 1 Metal, 254.8ms\n",
      "Speed: 3.4ms preprocess, 254.8ms inference, 1.0ms postprocess per image at shape (1, 3, 608, 800)\n",
      "\n"
     ]
    },
    {
     "name": "stdout",
     "output_type": "stream",
     "text": [
      "Labels: deque([('m',), ('m',), ('m',), ('m',), ('m',)], maxlen=5)\n"
     ]
    },
    {
     "name": "stderr",
     "output_type": "stream",
     "text": [
      "0: 608x800 1 Metal, 253.5ms\n",
      "Speed: 2.0ms preprocess, 253.5ms inference, 1.0ms postprocess per image at shape (1, 3, 608, 800)\n",
      "\n"
     ]
    },
    {
     "name": "stdout",
     "output_type": "stream",
     "text": [
      "Labels: deque([('m',), ('m',), ('m',), ('m',), ('m',)], maxlen=5)\n"
     ]
    },
    {
     "name": "stderr",
     "output_type": "stream",
     "text": [
      "0: 608x800 1 Metal, 252.2ms\n",
      "Speed: 5.0ms preprocess, 252.2ms inference, 0.0ms postprocess per image at shape (1, 3, 608, 800)\n",
      "\n"
     ]
    },
    {
     "name": "stdout",
     "output_type": "stream",
     "text": [
      "Response from ESP32: M CMD: Action for 'M' command\n",
      "Labels: deque([('m',), ('m',), ('m',), ('m',), ('m',)], maxlen=5)\n"
     ]
    },
    {
     "name": "stderr",
     "output_type": "stream",
     "text": [
      "0: 608x800 1 Metal, 235.1ms\n",
      "Speed: 4.0ms preprocess, 235.1ms inference, 0.0ms postprocess per image at shape (1, 3, 608, 800)\n",
      "\n"
     ]
    },
    {
     "name": "stdout",
     "output_type": "stream",
     "text": [
      "Labels: deque([('m',), ('m',), ('m',), ('m',), ('m',)], maxlen=5)\n"
     ]
    },
    {
     "name": "stderr",
     "output_type": "stream",
     "text": [
      "0: 608x800 1 Plastic, 244.3ms\n",
      "Speed: 5.6ms preprocess, 244.3ms inference, 1.0ms postprocess per image at shape (1, 3, 608, 800)\n",
      "\n"
     ]
    },
    {
     "name": "stdout",
     "output_type": "stream",
     "text": [
      "Labels: deque([('m',), ('m',), ('m',), ('m',), ('P',)], maxlen=5)\n"
     ]
    },
    {
     "name": "stderr",
     "output_type": "stream",
     "text": [
      "0: 608x800 2 Plastics, 278.9ms\n",
      "Speed: 4.0ms preprocess, 278.9ms inference, 0.9ms postprocess per image at shape (1, 3, 608, 800)\n",
      "\n"
     ]
    },
    {
     "name": "stdout",
     "output_type": "stream",
     "text": [
      "Labels: deque([('m',), ('m',), ('m',), ('P',), ('P',)], maxlen=5)\n"
     ]
    },
    {
     "name": "stderr",
     "output_type": "stream",
     "text": [
      "0: 608x800 1 Plastic, 248.3ms\n",
      "Speed: 4.0ms preprocess, 248.3ms inference, 1.0ms postprocess per image at shape (1, 3, 608, 800)\n",
      "\n"
     ]
    },
    {
     "name": "stdout",
     "output_type": "stream",
     "text": [
      "Labels: deque([('m',), ('m',), ('P',), ('P',), ('P',)], maxlen=5)\n"
     ]
    },
    {
     "name": "stderr",
     "output_type": "stream",
     "text": [
      "0: 608x800 1 Plastic, 252.2ms\n",
      "Speed: 5.0ms preprocess, 252.2ms inference, 1.0ms postprocess per image at shape (1, 3, 608, 800)\n",
      "\n"
     ]
    },
    {
     "name": "stdout",
     "output_type": "stream",
     "text": [
      "Labels: deque([('m',), ('P',), ('P',), ('P',), ('P',)], maxlen=5)\n"
     ]
    },
    {
     "name": "stderr",
     "output_type": "stream",
     "text": [
      "0: 608x800 1 Plastic, 248.5ms\n",
      "Speed: 4.0ms preprocess, 248.5ms inference, 1.0ms postprocess per image at shape (1, 3, 608, 800)\n",
      "\n"
     ]
    },
    {
     "name": "stdout",
     "output_type": "stream",
     "text": [
      "Labels: deque([('P',), ('P',), ('P',), ('P',), ('P',)], maxlen=5)\n"
     ]
    },
    {
     "name": "stderr",
     "output_type": "stream",
     "text": [
      "0: 608x800 (no detections), 248.6ms\n",
      "Speed: 4.0ms preprocess, 248.6ms inference, 0.0ms postprocess per image at shape (1, 3, 608, 800)\n",
      "\n"
     ]
    },
    {
     "name": "stdout",
     "output_type": "stream",
     "text": [
      "Labels: deque([('P',), ('P',), ('P',), ('P',), ()], maxlen=5)\n"
     ]
    },
    {
     "name": "stderr",
     "output_type": "stream",
     "text": [
      "0: 608x800 2 Plastics, 251.1ms\n",
      "Speed: 0.0ms preprocess, 251.1ms inference, 1.0ms postprocess per image at shape (1, 3, 608, 800)\n",
      "\n"
     ]
    },
    {
     "name": "stdout",
     "output_type": "stream",
     "text": [
      "Labels: deque([('P',), ('P',), ('P',), (), ('P',)], maxlen=5)\n"
     ]
    },
    {
     "name": "stderr",
     "output_type": "stream",
     "text": [
      "0: 608x800 (no detections), 253.3ms\n",
      "Speed: 5.0ms preprocess, 253.3ms inference, 1.0ms postprocess per image at shape (1, 3, 608, 800)\n",
      "\n"
     ]
    },
    {
     "name": "stdout",
     "output_type": "stream",
     "text": [
      "Labels: deque([('P',), ('P',), (), ('P',), ()], maxlen=5)\n"
     ]
    },
    {
     "name": "stderr",
     "output_type": "stream",
     "text": [
      "0: 608x800 (no detections), 262.4ms\n",
      "Speed: 4.0ms preprocess, 262.4ms inference, 0.0ms postprocess per image at shape (1, 3, 608, 800)\n",
      "\n"
     ]
    },
    {
     "name": "stdout",
     "output_type": "stream",
     "text": [
      "Labels: deque([('P',), (), ('P',), (), ()], maxlen=5)\n"
     ]
    },
    {
     "name": "stderr",
     "output_type": "stream",
     "text": [
      "0: 608x800 (no detections), 248.8ms\n",
      "Speed: 2.8ms preprocess, 248.8ms inference, 1.0ms postprocess per image at shape (1, 3, 608, 800)\n",
      "\n"
     ]
    },
    {
     "name": "stdout",
     "output_type": "stream",
     "text": [
      "Labels: deque([(), ('P',), (), (), ()], maxlen=5)\n"
     ]
    },
    {
     "name": "stderr",
     "output_type": "stream",
     "text": [
      "0: 608x800 1 Plastic, 253.2ms\n",
      "Speed: 2.0ms preprocess, 253.2ms inference, 1.0ms postprocess per image at shape (1, 3, 608, 800)\n",
      "\n"
     ]
    },
    {
     "name": "stdout",
     "output_type": "stream",
     "text": [
      "Labels: deque([('P',), (), (), (), ('P',)], maxlen=5)\n"
     ]
    },
    {
     "name": "stderr",
     "output_type": "stream",
     "text": [
      "0: 608x800 1 Plastic, 246.1ms\n",
      "Speed: 4.2ms preprocess, 246.1ms inference, 1.0ms postprocess per image at shape (1, 3, 608, 800)\n",
      "\n"
     ]
    },
    {
     "name": "stdout",
     "output_type": "stream",
     "text": [
      "Labels: deque([(), (), (), ('P',), ('P',)], maxlen=5)\n"
     ]
    },
    {
     "name": "stderr",
     "output_type": "stream",
     "text": [
      "0: 608x800 (no detections), 255.4ms\n",
      "Speed: 3.0ms preprocess, 255.4ms inference, 1.0ms postprocess per image at shape (1, 3, 608, 800)\n",
      "\n"
     ]
    },
    {
     "name": "stdout",
     "output_type": "stream",
     "text": [
      "Labels: deque([(), (), ('P',), ('P',), ()], maxlen=5)\n"
     ]
    },
    {
     "name": "stderr",
     "output_type": "stream",
     "text": [
      "0: 608x800 1 Plastic, 250.7ms\n",
      "Speed: 6.0ms preprocess, 250.7ms inference, 0.0ms postprocess per image at shape (1, 3, 608, 800)\n",
      "\n"
     ]
    },
    {
     "name": "stdout",
     "output_type": "stream",
     "text": [
      "Labels: deque([(), ('P',), ('P',), (), ('P',)], maxlen=5)\n"
     ]
    },
    {
     "name": "stderr",
     "output_type": "stream",
     "text": [
      "0: 608x800 1 Plastic, 253.6ms\n",
      "Speed: 4.6ms preprocess, 253.6ms inference, 1.0ms postprocess per image at shape (1, 3, 608, 800)\n",
      "\n"
     ]
    },
    {
     "name": "stdout",
     "output_type": "stream",
     "text": [
      "Labels: deque([('P',), ('P',), (), ('P',), ('P',)], maxlen=5)\n"
     ]
    },
    {
     "name": "stderr",
     "output_type": "stream",
     "text": [
      "0: 608x800 1 Metal, 266.6ms\n",
      "Speed: 3.0ms preprocess, 266.6ms inference, 2.0ms postprocess per image at shape (1, 3, 608, 800)\n",
      "\n"
     ]
    },
    {
     "name": "stdout",
     "output_type": "stream",
     "text": [
      "Labels: deque([('P',), (), ('P',), ('P',), ('m',)], maxlen=5)\n"
     ]
    },
    {
     "name": "stderr",
     "output_type": "stream",
     "text": [
      "0: 608x800 1 Metal, 252.2ms\n",
      "Speed: 5.0ms preprocess, 252.2ms inference, 1.0ms postprocess per image at shape (1, 3, 608, 800)\n",
      "\n"
     ]
    },
    {
     "name": "stdout",
     "output_type": "stream",
     "text": [
      "Labels: deque([(), ('P',), ('P',), ('m',), ('m',)], maxlen=5)\n"
     ]
    },
    {
     "name": "stderr",
     "output_type": "stream",
     "text": [
      "0: 608x800 1 Metal, 253.9ms\n",
      "Speed: 5.0ms preprocess, 253.9ms inference, 1.0ms postprocess per image at shape (1, 3, 608, 800)\n",
      "\n"
     ]
    },
    {
     "name": "stdout",
     "output_type": "stream",
     "text": [
      "Labels: deque([('P',), ('P',), ('m',), ('m',), ('m',)], maxlen=5)\n"
     ]
    },
    {
     "name": "stderr",
     "output_type": "stream",
     "text": [
      "0: 608x800 1 Metal, 256.9ms\n",
      "Speed: 0.0ms preprocess, 256.9ms inference, 0.5ms postprocess per image at shape (1, 3, 608, 800)\n",
      "\n"
     ]
    },
    {
     "name": "stdout",
     "output_type": "stream",
     "text": [
      "Labels: deque([('P',), ('m',), ('m',), ('m',), ('m',)], maxlen=5)\n"
     ]
    },
    {
     "name": "stderr",
     "output_type": "stream",
     "text": [
      "0: 608x800 1 Metal, 248.6ms\n",
      "Speed: 5.0ms preprocess, 248.6ms inference, 1.0ms postprocess per image at shape (1, 3, 608, 800)\n",
      "\n"
     ]
    },
    {
     "name": "stdout",
     "output_type": "stream",
     "text": [
      "Labels: deque([('m',), ('m',), ('m',), ('m',), ('m',)], maxlen=5)\n"
     ]
    },
    {
     "name": "stderr",
     "output_type": "stream",
     "text": [
      "0: 608x800 1 Metal, 247.1ms\n",
      "Speed: 6.0ms preprocess, 247.1ms inference, 1.0ms postprocess per image at shape (1, 3, 608, 800)\n",
      "\n"
     ]
    },
    {
     "name": "stdout",
     "output_type": "stream",
     "text": [
      "Labels: deque([('m',), ('m',), ('m',), ('m',), ('m',)], maxlen=5)\n"
     ]
    },
    {
     "name": "stderr",
     "output_type": "stream",
     "text": [
      "0: 608x800 1 Metal, 255.3ms\n",
      "Speed: 3.8ms preprocess, 255.3ms inference, 1.0ms postprocess per image at shape (1, 3, 608, 800)\n",
      "\n"
     ]
    },
    {
     "name": "stdout",
     "output_type": "stream",
     "text": [
      "Response from ESP32: M CMD: Action for 'M' command\n",
      "Labels: deque([('m',), ('m',), ('m',), ('m',), ('m',)], maxlen=5)\n"
     ]
    },
    {
     "name": "stderr",
     "output_type": "stream",
     "text": [
      "0: 608x800 1 Metal, 264.8ms\n",
      "Speed: 2.9ms preprocess, 264.8ms inference, 1.0ms postprocess per image at shape (1, 3, 608, 800)\n",
      "\n"
     ]
    },
    {
     "name": "stdout",
     "output_type": "stream",
     "text": [
      "Labels: deque([('m',), ('m',), ('m',), ('m',), ('m',)], maxlen=5)\n"
     ]
    },
    {
     "name": "stderr",
     "output_type": "stream",
     "text": [
      "0: 608x800 1 Metal, 247.0ms\n",
      "Speed: 4.0ms preprocess, 247.0ms inference, 1.2ms postprocess per image at shape (1, 3, 608, 800)\n",
      "\n"
     ]
    },
    {
     "name": "stdout",
     "output_type": "stream",
     "text": [
      "Labels: deque([('m',), ('m',), ('m',), ('m',), ('m',)], maxlen=5)\n"
     ]
    },
    {
     "name": "stderr",
     "output_type": "stream",
     "text": [
      "0: 608x800 1 Metal, 249.5ms\n",
      "Speed: 6.0ms preprocess, 249.5ms inference, 1.3ms postprocess per image at shape (1, 3, 608, 800)\n",
      "\n"
     ]
    },
    {
     "name": "stdout",
     "output_type": "stream",
     "text": [
      "Labels: deque([('m',), ('m',), ('m',), ('m',), ('m',)], maxlen=5)\n"
     ]
    },
    {
     "name": "stderr",
     "output_type": "stream",
     "text": [
      "0: 608x800 2 Metals, 1 Plastic, 247.8ms\n",
      "Speed: 4.0ms preprocess, 247.8ms inference, 4.5ms postprocess per image at shape (1, 3, 608, 800)\n",
      "\n"
     ]
    },
    {
     "name": "stdout",
     "output_type": "stream",
     "text": [
      "Labels: deque([('m',), ('m',), ('m',), ('m',), ('m',)], maxlen=5)\n"
     ]
    },
    {
     "name": "stderr",
     "output_type": "stream",
     "text": [
      "0: 608x800 1 Metal, 233.3ms\n",
      "Speed: 3.0ms preprocess, 233.3ms inference, 1.0ms postprocess per image at shape (1, 3, 608, 800)\n",
      "\n"
     ]
    },
    {
     "name": "stdout",
     "output_type": "stream",
     "text": [
      "Response from ESP32: M CMD: Action for 'M' command\n",
      "Labels: deque([('m',), ('m',), ('m',), ('m',), ('m',)], maxlen=5)\n"
     ]
    },
    {
     "name": "stderr",
     "output_type": "stream",
     "text": [
      "0: 608x800 2 Metals, 1 Plastic, 248.3ms\n",
      "Speed: 4.0ms preprocess, 248.3ms inference, 2.0ms postprocess per image at shape (1, 3, 608, 800)\n",
      "\n"
     ]
    },
    {
     "name": "stdout",
     "output_type": "stream",
     "text": [
      "Labels: deque([('m',), ('m',), ('m',), ('m',), ('m',)], maxlen=5)\n"
     ]
    },
    {
     "name": "stderr",
     "output_type": "stream",
     "text": [
      "0: 608x800 2 Metals, 253.2ms\n",
      "Speed: 6.0ms preprocess, 253.2ms inference, 1.0ms postprocess per image at shape (1, 3, 608, 800)\n",
      "\n"
     ]
    },
    {
     "name": "stdout",
     "output_type": "stream",
     "text": [
      "Labels: deque([('m',), ('m',), ('m',), ('m',), ('m',)], maxlen=5)\n"
     ]
    },
    {
     "name": "stderr",
     "output_type": "stream",
     "text": [
      "0: 608x800 2 Metals, 236.8ms\n",
      "Speed: 5.1ms preprocess, 236.8ms inference, 0.0ms postprocess per image at shape (1, 3, 608, 800)\n",
      "\n"
     ]
    },
    {
     "name": "stdout",
     "output_type": "stream",
     "text": [
      "Labels: deque([('m',), ('m',), ('m',), ('m',), ('m',)], maxlen=5)\n"
     ]
    },
    {
     "name": "stderr",
     "output_type": "stream",
     "text": [
      "0: 608x800 2 Metals, 256.8ms\n",
      "Speed: 6.0ms preprocess, 256.8ms inference, 1.0ms postprocess per image at shape (1, 3, 608, 800)\n",
      "\n"
     ]
    },
    {
     "name": "stdout",
     "output_type": "stream",
     "text": [
      "Labels: deque([('m',), ('m',), ('m',), ('m',), ('m',)], maxlen=5)\n"
     ]
    },
    {
     "name": "stderr",
     "output_type": "stream",
     "text": [
      "0: 608x800 2 Metals, 268.2ms\n",
      "Speed: 3.0ms preprocess, 268.2ms inference, 1.0ms postprocess per image at shape (1, 3, 608, 800)\n",
      "\n"
     ]
    },
    {
     "name": "stdout",
     "output_type": "stream",
     "text": [
      "Response from ESP32: M CMD: Action for 'M' command\n",
      "Labels: deque([('m',), ('m',), ('m',), ('m',), ('m',)], maxlen=5)\n"
     ]
    },
    {
     "name": "stderr",
     "output_type": "stream",
     "text": [
      "0: 608x800 1 Metal, 252.4ms\n",
      "Speed: 4.0ms preprocess, 252.4ms inference, 0.0ms postprocess per image at shape (1, 3, 608, 800)\n",
      "\n"
     ]
    },
    {
     "name": "stdout",
     "output_type": "stream",
     "text": [
      "Labels: deque([('m',), ('m',), ('m',), ('m',), ('m',)], maxlen=5)\n"
     ]
    },
    {
     "name": "stderr",
     "output_type": "stream",
     "text": [
      "0: 608x800 1 Metal, 244.9ms\n",
      "Speed: 19.7ms preprocess, 244.9ms inference, 1.0ms postprocess per image at shape (1, 3, 608, 800)\n",
      "\n"
     ]
    },
    {
     "name": "stdout",
     "output_type": "stream",
     "text": [
      "Labels: deque([('m',), ('m',), ('m',), ('m',), ('m',)], maxlen=5)\n"
     ]
    },
    {
     "name": "stderr",
     "output_type": "stream",
     "text": [
      "0: 608x800 1 Metal, 244.2ms\n",
      "Speed: 4.0ms preprocess, 244.2ms inference, 2.0ms postprocess per image at shape (1, 3, 608, 800)\n",
      "\n"
     ]
    },
    {
     "name": "stdout",
     "output_type": "stream",
     "text": [
      "Labels: deque([('m',), ('m',), ('m',), ('m',), ('m',)], maxlen=5)\n"
     ]
    },
    {
     "name": "stderr",
     "output_type": "stream",
     "text": [
      "0: 608x800 1 Metal, 254.0ms\n",
      "Speed: 4.0ms preprocess, 254.0ms inference, 1.0ms postprocess per image at shape (1, 3, 608, 800)\n",
      "\n"
     ]
    },
    {
     "name": "stdout",
     "output_type": "stream",
     "text": [
      "Labels: deque([('m',), ('m',), ('m',), ('m',), ('m',)], maxlen=5)\n"
     ]
    },
    {
     "name": "stderr",
     "output_type": "stream",
     "text": [
      "0: 608x800 1 Metal, 242.0ms\n",
      "Speed: 2.9ms preprocess, 242.0ms inference, 1.0ms postprocess per image at shape (1, 3, 608, 800)\n",
      "\n"
     ]
    },
    {
     "name": "stdout",
     "output_type": "stream",
     "text": [
      "Response from ESP32: M CMD: Action for 'M' command\n",
      "Labels: deque([('m',), ('m',), ('m',), ('m',), ('m',)], maxlen=5)\n"
     ]
    },
    {
     "name": "stderr",
     "output_type": "stream",
     "text": [
      "0: 608x800 2 Metals, 248.9ms\n",
      "Speed: 3.0ms preprocess, 248.9ms inference, 1.0ms postprocess per image at shape (1, 3, 608, 800)\n",
      "\n"
     ]
    },
    {
     "name": "stdout",
     "output_type": "stream",
     "text": [
      "Labels: deque([('m',), ('m',), ('m',), ('m',), ('m',)], maxlen=5)\n"
     ]
    },
    {
     "name": "stderr",
     "output_type": "stream",
     "text": [
      "0: 608x800 2 Metals, 251.6ms\n",
      "Speed: 5.1ms preprocess, 251.6ms inference, 0.5ms postprocess per image at shape (1, 3, 608, 800)\n",
      "\n"
     ]
    },
    {
     "name": "stdout",
     "output_type": "stream",
     "text": [
      "Labels: deque([('m',), ('m',), ('m',), ('m',), ('m',)], maxlen=5)\n"
     ]
    },
    {
     "name": "stderr",
     "output_type": "stream",
     "text": [
      "0: 608x800 2 Metals, 246.7ms\n",
      "Speed: 4.0ms preprocess, 246.7ms inference, 1.0ms postprocess per image at shape (1, 3, 608, 800)\n",
      "\n"
     ]
    },
    {
     "name": "stdout",
     "output_type": "stream",
     "text": [
      "Labels: deque([('m',), ('m',), ('m',), ('m',), ('m',)], maxlen=5)\n"
     ]
    },
    {
     "name": "stderr",
     "output_type": "stream",
     "text": [
      "0: 608x800 2 Metals, 242.4ms\n",
      "Speed: 5.5ms preprocess, 242.4ms inference, 1.0ms postprocess per image at shape (1, 3, 608, 800)\n",
      "\n"
     ]
    },
    {
     "name": "stdout",
     "output_type": "stream",
     "text": [
      "Labels: deque([('m',), ('m',), ('m',), ('m',), ('m',)], maxlen=5)\n"
     ]
    },
    {
     "name": "stderr",
     "output_type": "stream",
     "text": [
      "0: 608x800 3 Metals, 255.6ms\n",
      "Speed: 5.1ms preprocess, 255.6ms inference, 1.0ms postprocess per image at shape (1, 3, 608, 800)\n",
      "\n"
     ]
    },
    {
     "name": "stdout",
     "output_type": "stream",
     "text": [
      "Response from ESP32: M CMD: Action for 'M' command\n",
      "Labels: deque([('m',), ('m',), ('m',), ('m',), ('m',)], maxlen=5)\n"
     ]
    },
    {
     "name": "stderr",
     "output_type": "stream",
     "text": [
      "0: 608x800 2 Metals, 239.4ms\n",
      "Speed: 5.0ms preprocess, 239.4ms inference, 1.0ms postprocess per image at shape (1, 3, 608, 800)\n",
      "\n"
     ]
    },
    {
     "name": "stdout",
     "output_type": "stream",
     "text": [
      "Labels: deque([('m',), ('m',), ('m',), ('m',), ('m',)], maxlen=5)\n"
     ]
    },
    {
     "name": "stderr",
     "output_type": "stream",
     "text": [
      "0: 608x800 1 Metal, 245.9ms\n",
      "Speed: 3.0ms preprocess, 245.9ms inference, 1.0ms postprocess per image at shape (1, 3, 608, 800)\n",
      "\n"
     ]
    },
    {
     "name": "stdout",
     "output_type": "stream",
     "text": [
      "Labels: deque([('m',), ('m',), ('m',), ('m',), ('m',)], maxlen=5)\n"
     ]
    },
    {
     "name": "stderr",
     "output_type": "stream",
     "text": [
      "0: 608x800 1 Metal, 252.7ms\n",
      "Speed: 3.4ms preprocess, 252.7ms inference, 0.0ms postprocess per image at shape (1, 3, 608, 800)\n",
      "\n"
     ]
    },
    {
     "name": "stdout",
     "output_type": "stream",
     "text": [
      "Labels: deque([('m',), ('m',), ('m',), ('m',), ('m',)], maxlen=5)\n"
     ]
    },
    {
     "name": "stderr",
     "output_type": "stream",
     "text": [
      "0: 608x800 1 Metal, 257.2ms\n",
      "Speed: 4.0ms preprocess, 257.2ms inference, 0.0ms postprocess per image at shape (1, 3, 608, 800)\n",
      "\n"
     ]
    },
    {
     "name": "stdout",
     "output_type": "stream",
     "text": [
      "Labels: deque([('m',), ('m',), ('m',), ('m',), ('m',)], maxlen=5)\n"
     ]
    },
    {
     "name": "stderr",
     "output_type": "stream",
     "text": [
      "0: 608x800 1 Metal, 251.6ms\n",
      "Speed: 3.7ms preprocess, 251.6ms inference, 0.0ms postprocess per image at shape (1, 3, 608, 800)\n",
      "\n"
     ]
    },
    {
     "name": "stdout",
     "output_type": "stream",
     "text": [
      "Response from ESP32: M CMD: Action for 'M' command\n",
      "Labels: deque([('m',), ('m',), ('m',), ('m',), ('m',)], maxlen=5)\n"
     ]
    },
    {
     "name": "stderr",
     "output_type": "stream",
     "text": [
      "0: 608x800 1 Metal, 228.4ms\n",
      "Speed: 4.0ms preprocess, 228.4ms inference, 0.0ms postprocess per image at shape (1, 3, 608, 800)\n",
      "\n"
     ]
    },
    {
     "name": "stdout",
     "output_type": "stream",
     "text": [
      "Labels: deque([('m',), ('m',), ('m',), ('m',), ('m',)], maxlen=5)\n"
     ]
    },
    {
     "name": "stderr",
     "output_type": "stream",
     "text": [
      "0: 608x800 1 Metal, 237.7ms\n",
      "Speed: 4.0ms preprocess, 237.7ms inference, 1.0ms postprocess per image at shape (1, 3, 608, 800)\n",
      "\n"
     ]
    },
    {
     "name": "stdout",
     "output_type": "stream",
     "text": [
      "Labels: deque([('m',), ('m',), ('m',), ('m',), ('m',)], maxlen=5)\n"
     ]
    },
    {
     "name": "stderr",
     "output_type": "stream",
     "text": [
      "0: 608x800 1 Metal, 270.2ms\n",
      "Speed: 4.0ms preprocess, 270.2ms inference, 1.0ms postprocess per image at shape (1, 3, 608, 800)\n",
      "\n"
     ]
    },
    {
     "name": "stdout",
     "output_type": "stream",
     "text": [
      "Labels: deque([('m',), ('m',), ('m',), ('m',), ('m',)], maxlen=5)\n"
     ]
    },
    {
     "name": "stderr",
     "output_type": "stream",
     "text": [
      "0: 608x800 1 Metal, 229.0ms\n",
      "Speed: 5.0ms preprocess, 229.0ms inference, 0.0ms postprocess per image at shape (1, 3, 608, 800)\n",
      "\n"
     ]
    },
    {
     "name": "stdout",
     "output_type": "stream",
     "text": [
      "Labels: deque([('m',), ('m',), ('m',), ('m',), ('m',)], maxlen=5)\n"
     ]
    },
    {
     "name": "stderr",
     "output_type": "stream",
     "text": [
      "0: 608x800 1 Metal, 243.7ms\n",
      "Speed: 6.1ms preprocess, 243.7ms inference, 1.1ms postprocess per image at shape (1, 3, 608, 800)\n",
      "\n"
     ]
    },
    {
     "name": "stdout",
     "output_type": "stream",
     "text": [
      "Response from ESP32: M CMD: Action for 'M' command\n",
      "Labels: deque([('m',), ('m',), ('m',), ('m',), ('m',)], maxlen=5)\n"
     ]
    },
    {
     "name": "stderr",
     "output_type": "stream",
     "text": [
      "0: 608x800 1 Metal, 240.1ms\n",
      "Speed: 3.1ms preprocess, 240.1ms inference, 0.0ms postprocess per image at shape (1, 3, 608, 800)\n",
      "\n"
     ]
    },
    {
     "name": "stdout",
     "output_type": "stream",
     "text": [
      "Labels: deque([('m',), ('m',), ('m',), ('m',), ('m',)], maxlen=5)\n"
     ]
    },
    {
     "name": "stderr",
     "output_type": "stream",
     "text": [
      "0: 608x800 1 Metal, 259.3ms\n",
      "Speed: 0.0ms preprocess, 259.3ms inference, 1.1ms postprocess per image at shape (1, 3, 608, 800)\n",
      "\n"
     ]
    },
    {
     "name": "stdout",
     "output_type": "stream",
     "text": [
      "Labels: deque([('m',), ('m',), ('m',), ('m',), ('m',)], maxlen=5)\n"
     ]
    },
    {
     "name": "stderr",
     "output_type": "stream",
     "text": [
      "0: 608x800 1 Metal, 259.2ms\n",
      "Speed: 3.0ms preprocess, 259.2ms inference, 0.0ms postprocess per image at shape (1, 3, 608, 800)\n",
      "\n"
     ]
    },
    {
     "name": "stdout",
     "output_type": "stream",
     "text": [
      "Labels: deque([('m',), ('m',), ('m',), ('m',), ('m',)], maxlen=5)\n"
     ]
    },
    {
     "name": "stderr",
     "output_type": "stream",
     "text": [
      "0: 608x800 1 Metal, 251.8ms\n",
      "Speed: 4.0ms preprocess, 251.8ms inference, 4.0ms postprocess per image at shape (1, 3, 608, 800)\n",
      "\n"
     ]
    },
    {
     "name": "stdout",
     "output_type": "stream",
     "text": [
      "Labels: deque([('m',), ('m',), ('m',), ('m',), ('m',)], maxlen=5)\n"
     ]
    },
    {
     "name": "stderr",
     "output_type": "stream",
     "text": [
      "0: 608x800 2 Metals, 273.9ms\n",
      "Speed: 5.0ms preprocess, 273.9ms inference, 0.0ms postprocess per image at shape (1, 3, 608, 800)\n",
      "\n"
     ]
    },
    {
     "name": "stdout",
     "output_type": "stream",
     "text": [
      "Response from ESP32: M CMD: Action for 'M' command\n",
      "Labels: deque([('m',), ('m',), ('m',), ('m',), ('m',)], maxlen=5)\n"
     ]
    },
    {
     "name": "stderr",
     "output_type": "stream",
     "text": [
      "0: 608x800 1 Metal, 242.1ms\n",
      "Speed: 4.3ms preprocess, 242.1ms inference, 0.0ms postprocess per image at shape (1, 3, 608, 800)\n",
      "\n"
     ]
    },
    {
     "name": "stdout",
     "output_type": "stream",
     "text": [
      "Labels: deque([('m',), ('m',), ('m',), ('m',), ('m',)], maxlen=5)\n"
     ]
    },
    {
     "name": "stderr",
     "output_type": "stream",
     "text": [
      "0: 608x800 1 Metal, 262.7ms\n",
      "Speed: 0.0ms preprocess, 262.7ms inference, 1.0ms postprocess per image at shape (1, 3, 608, 800)\n",
      "\n"
     ]
    },
    {
     "name": "stdout",
     "output_type": "stream",
     "text": [
      "Labels: deque([('m',), ('m',), ('m',), ('m',), ('m',)], maxlen=5)\n"
     ]
    },
    {
     "name": "stderr",
     "output_type": "stream",
     "text": [
      "0: 608x800 1 Metal, 240.9ms\n",
      "Speed: 3.0ms preprocess, 240.9ms inference, 0.8ms postprocess per image at shape (1, 3, 608, 800)\n",
      "\n"
     ]
    },
    {
     "name": "stdout",
     "output_type": "stream",
     "text": [
      "Labels: deque([('m',), ('m',), ('m',), ('m',), ('m',)], maxlen=5)\n"
     ]
    },
    {
     "name": "stderr",
     "output_type": "stream",
     "text": [
      "0: 608x800 1 Metal, 255.7ms\n",
      "Speed: 3.0ms preprocess, 255.7ms inference, 1.0ms postprocess per image at shape (1, 3, 608, 800)\n",
      "\n"
     ]
    },
    {
     "name": "stdout",
     "output_type": "stream",
     "text": [
      "Labels: deque([('m',), ('m',), ('m',), ('m',), ('m',)], maxlen=5)\n"
     ]
    },
    {
     "name": "stderr",
     "output_type": "stream",
     "text": [
      "0: 608x800 1 Metal, 260.8ms\n",
      "Speed: 6.3ms preprocess, 260.8ms inference, 1.0ms postprocess per image at shape (1, 3, 608, 800)\n",
      "\n"
     ]
    },
    {
     "name": "stdout",
     "output_type": "stream",
     "text": [
      "Response from ESP32: M CMD: Action for 'M' command\n",
      "Labels: deque([('m',), ('m',), ('m',), ('m',), ('m',)], maxlen=5)\n"
     ]
    },
    {
     "name": "stderr",
     "output_type": "stream",
     "text": [
      "0: 608x800 1 Metal, 244.0ms\n",
      "Speed: 3.5ms preprocess, 244.0ms inference, 0.0ms postprocess per image at shape (1, 3, 608, 800)\n",
      "\n"
     ]
    },
    {
     "name": "stdout",
     "output_type": "stream",
     "text": [
      "Labels: deque([('m',), ('m',), ('m',), ('m',), ('m',)], maxlen=5)\n"
     ]
    },
    {
     "name": "stderr",
     "output_type": "stream",
     "text": [
      "0: 608x800 1 Metal, 251.0ms\n",
      "Speed: 5.0ms preprocess, 251.0ms inference, 1.0ms postprocess per image at shape (1, 3, 608, 800)\n",
      "\n"
     ]
    },
    {
     "name": "stdout",
     "output_type": "stream",
     "text": [
      "Labels: deque([('m',), ('m',), ('m',), ('m',), ('m',)], maxlen=5)\n"
     ]
    },
    {
     "name": "stderr",
     "output_type": "stream",
     "text": [
      "0: 608x800 1 Metal, 250.2ms\n",
      "Speed: 5.0ms preprocess, 250.2ms inference, 0.0ms postprocess per image at shape (1, 3, 608, 800)\n",
      "\n"
     ]
    },
    {
     "name": "stdout",
     "output_type": "stream",
     "text": [
      "Labels: deque([('m',), ('m',), ('m',), ('m',), ('m',)], maxlen=5)\n"
     ]
    },
    {
     "name": "stderr",
     "output_type": "stream",
     "text": [
      "0: 608x800 1 Metal, 243.2ms\n",
      "Speed: 4.0ms preprocess, 243.2ms inference, 0.0ms postprocess per image at shape (1, 3, 608, 800)\n",
      "\n"
     ]
    },
    {
     "name": "stdout",
     "output_type": "stream",
     "text": [
      "Labels: deque([('m',), ('m',), ('m',), ('m',), ('m',)], maxlen=5)\n"
     ]
    },
    {
     "name": "stderr",
     "output_type": "stream",
     "text": [
      "0: 608x800 1 Metal, 251.6ms\n",
      "Speed: 6.7ms preprocess, 251.6ms inference, 1.0ms postprocess per image at shape (1, 3, 608, 800)\n",
      "\n"
     ]
    },
    {
     "name": "stdout",
     "output_type": "stream",
     "text": [
      "Response from ESP32: M CMD: Action for 'M' command\n",
      "Labels: deque([('m',), ('m',), ('m',), ('m',), ('m',)], maxlen=5)\n"
     ]
    },
    {
     "name": "stderr",
     "output_type": "stream",
     "text": [
      "0: 608x800 1 Metal, 250.9ms\n",
      "Speed: 4.0ms preprocess, 250.9ms inference, 1.0ms postprocess per image at shape (1, 3, 608, 800)\n",
      "\n"
     ]
    },
    {
     "name": "stdout",
     "output_type": "stream",
     "text": [
      "Labels: deque([('m',), ('m',), ('m',), ('m',), ('m',)], maxlen=5)\n"
     ]
    },
    {
     "name": "stderr",
     "output_type": "stream",
     "text": [
      "0: 608x800 1 Metal, 252.9ms\n",
      "Speed: 6.0ms preprocess, 252.9ms inference, 1.0ms postprocess per image at shape (1, 3, 608, 800)\n",
      "\n"
     ]
    },
    {
     "name": "stdout",
     "output_type": "stream",
     "text": [
      "Labels: deque([('m',), ('m',), ('m',), ('m',), ('m',)], maxlen=5)\n"
     ]
    },
    {
     "name": "stderr",
     "output_type": "stream",
     "text": [
      "0: 608x800 1 Metal, 271.9ms\n",
      "Speed: 0.0ms preprocess, 271.9ms inference, 1.0ms postprocess per image at shape (1, 3, 608, 800)\n",
      "\n"
     ]
    },
    {
     "name": "stdout",
     "output_type": "stream",
     "text": [
      "Labels: deque([('m',), ('m',), ('m',), ('m',), ('m',)], maxlen=5)\n"
     ]
    },
    {
     "name": "stderr",
     "output_type": "stream",
     "text": [
      "0: 608x800 1 Metal, 248.9ms\n",
      "Speed: 5.0ms preprocess, 248.9ms inference, 0.0ms postprocess per image at shape (1, 3, 608, 800)\n",
      "\n"
     ]
    },
    {
     "name": "stdout",
     "output_type": "stream",
     "text": [
      "Labels: deque([('m',), ('m',), ('m',), ('m',), ('m',)], maxlen=5)\n"
     ]
    },
    {
     "name": "stderr",
     "output_type": "stream",
     "text": [
      "0: 608x800 1 Metal, 251.8ms\n",
      "Speed: 5.0ms preprocess, 251.8ms inference, 1.0ms postprocess per image at shape (1, 3, 608, 800)\n",
      "\n"
     ]
    },
    {
     "name": "stdout",
     "output_type": "stream",
     "text": [
      "Response from ESP32: M CMD: Action for 'M' command\n",
      "Labels: deque([('m',), ('m',), ('m',), ('m',), ('m',)], maxlen=5)\n"
     ]
    },
    {
     "name": "stderr",
     "output_type": "stream",
     "text": [
      "0: 608x800 1 Metal, 245.7ms\n",
      "Speed: 5.0ms preprocess, 245.7ms inference, 0.0ms postprocess per image at shape (1, 3, 608, 800)\n",
      "\n"
     ]
    },
    {
     "name": "stdout",
     "output_type": "stream",
     "text": [
      "Labels: deque([('m',), ('m',), ('m',), ('m',), ('m',)], maxlen=5)\n"
     ]
    },
    {
     "name": "stderr",
     "output_type": "stream",
     "text": [
      "0: 608x800 1 Metal, 256.4ms\n",
      "Speed: 6.0ms preprocess, 256.4ms inference, 1.0ms postprocess per image at shape (1, 3, 608, 800)\n",
      "\n"
     ]
    },
    {
     "name": "stdout",
     "output_type": "stream",
     "text": [
      "Labels: deque([('m',), ('m',), ('m',), ('m',), ('m',)], maxlen=5)\n"
     ]
    },
    {
     "name": "stderr",
     "output_type": "stream",
     "text": [
      "0: 608x800 1 Metal, 255.3ms\n",
      "Speed: 4.0ms preprocess, 255.3ms inference, 1.0ms postprocess per image at shape (1, 3, 608, 800)\n",
      "\n"
     ]
    },
    {
     "name": "stdout",
     "output_type": "stream",
     "text": [
      "Labels: deque([('m',), ('m',), ('m',), ('m',), ('m',)], maxlen=5)\n"
     ]
    },
    {
     "name": "stderr",
     "output_type": "stream",
     "text": [
      "0: 608x800 1 Metal, 251.8ms\n",
      "Speed: 3.8ms preprocess, 251.8ms inference, 1.5ms postprocess per image at shape (1, 3, 608, 800)\n",
      "\n"
     ]
    },
    {
     "name": "stdout",
     "output_type": "stream",
     "text": [
      "Labels: deque([('m',), ('m',), ('m',), ('m',), ('m',)], maxlen=5)\n"
     ]
    },
    {
     "name": "stderr",
     "output_type": "stream",
     "text": [
      "0: 608x800 1 Metal, 292.0ms\n",
      "Speed: 0.0ms preprocess, 292.0ms inference, 0.0ms postprocess per image at shape (1, 3, 608, 800)\n",
      "\n"
     ]
    },
    {
     "name": "stdout",
     "output_type": "stream",
     "text": [
      "Response from ESP32: M CMD: Action for 'M' command\n",
      "Labels: deque([('m',), ('m',), ('m',), ('m',), ('m',)], maxlen=5)\n"
     ]
    },
    {
     "name": "stderr",
     "output_type": "stream",
     "text": [
      "0: 608x800 1 Metal, 242.6ms\n",
      "Speed: 4.7ms preprocess, 242.6ms inference, 0.0ms postprocess per image at shape (1, 3, 608, 800)\n",
      "\n"
     ]
    },
    {
     "name": "stdout",
     "output_type": "stream",
     "text": [
      "Labels: deque([('m',), ('m',), ('m',), ('m',), ('m',)], maxlen=5)\n"
     ]
    },
    {
     "name": "stderr",
     "output_type": "stream",
     "text": [
      "0: 608x800 1 Metal, 233.8ms\n",
      "Speed: 2.2ms preprocess, 233.8ms inference, 1.0ms postprocess per image at shape (1, 3, 608, 800)\n",
      "\n"
     ]
    },
    {
     "name": "stdout",
     "output_type": "stream",
     "text": [
      "Labels: deque([('m',), ('m',), ('m',), ('m',), ('m',)], maxlen=5)\n"
     ]
    },
    {
     "name": "stderr",
     "output_type": "stream",
     "text": [
      "0: 608x800 1 Metal, 241.3ms\n",
      "Speed: 5.0ms preprocess, 241.3ms inference, 0.0ms postprocess per image at shape (1, 3, 608, 800)\n",
      "\n"
     ]
    },
    {
     "name": "stdout",
     "output_type": "stream",
     "text": [
      "Labels: deque([('m',), ('m',), ('m',), ('m',), ('m',)], maxlen=5)\n"
     ]
    },
    {
     "name": "stderr",
     "output_type": "stream",
     "text": [
      "0: 608x800 1 Metal, 246.0ms\n",
      "Speed: 4.0ms preprocess, 246.0ms inference, 1.0ms postprocess per image at shape (1, 3, 608, 800)\n",
      "\n"
     ]
    },
    {
     "name": "stdout",
     "output_type": "stream",
     "text": [
      "Labels: deque([('m',), ('m',), ('m',), ('m',), ('m',)], maxlen=5)\n"
     ]
    },
    {
     "name": "stderr",
     "output_type": "stream",
     "text": [
      "0: 608x800 1 Metal, 245.8ms\n",
      "Speed: 5.0ms preprocess, 245.8ms inference, 1.0ms postprocess per image at shape (1, 3, 608, 800)\n",
      "\n"
     ]
    },
    {
     "name": "stdout",
     "output_type": "stream",
     "text": [
      "Response from ESP32: M CMD: Action for 'M' command\n",
      "Labels: deque([('m',), ('m',), ('m',), ('m',), ('m',)], maxlen=5)\n"
     ]
    },
    {
     "name": "stderr",
     "output_type": "stream",
     "text": [
      "0: 608x800 1 Metal, 267.0ms\n",
      "Speed: 4.0ms preprocess, 267.0ms inference, 1.0ms postprocess per image at shape (1, 3, 608, 800)\n",
      "\n"
     ]
    },
    {
     "name": "stdout",
     "output_type": "stream",
     "text": [
      "Labels: deque([('m',), ('m',), ('m',), ('m',), ('m',)], maxlen=5)\n"
     ]
    },
    {
     "name": "stderr",
     "output_type": "stream",
     "text": [
      "0: 608x800 1 Metal, 253.4ms\n",
      "Speed: 5.0ms preprocess, 253.4ms inference, 1.0ms postprocess per image at shape (1, 3, 608, 800)\n",
      "\n"
     ]
    },
    {
     "name": "stdout",
     "output_type": "stream",
     "text": [
      "Labels: deque([('m',), ('m',), ('m',), ('m',), ('m',)], maxlen=5)\n"
     ]
    },
    {
     "name": "stderr",
     "output_type": "stream",
     "text": [
      "0: 608x800 1 Metal, 250.5ms\n",
      "Speed: 5.0ms preprocess, 250.5ms inference, 2.0ms postprocess per image at shape (1, 3, 608, 800)\n",
      "\n"
     ]
    },
    {
     "name": "stdout",
     "output_type": "stream",
     "text": [
      "Labels: deque([('m',), ('m',), ('m',), ('m',), ('m',)], maxlen=5)\n"
     ]
    },
    {
     "name": "stderr",
     "output_type": "stream",
     "text": [
      "0: 608x800 1 Metal, 249.9ms\n",
      "Speed: 4.0ms preprocess, 249.9ms inference, 0.0ms postprocess per image at shape (1, 3, 608, 800)\n",
      "\n"
     ]
    },
    {
     "name": "stdout",
     "output_type": "stream",
     "text": [
      "Labels: deque([('m',), ('m',), ('m',), ('m',), ('m',)], maxlen=5)\n"
     ]
    },
    {
     "name": "stderr",
     "output_type": "stream",
     "text": [
      "0: 608x800 1 Plastic, 261.8ms\n",
      "Speed: 0.0ms preprocess, 261.8ms inference, 2.0ms postprocess per image at shape (1, 3, 608, 800)\n",
      "\n"
     ]
    },
    {
     "name": "stdout",
     "output_type": "stream",
     "text": [
      "Labels: deque([('m',), ('m',), ('m',), ('m',), ('P',)], maxlen=5)\n"
     ]
    },
    {
     "name": "stderr",
     "output_type": "stream",
     "text": [
      "0: 608x800 1 Plastic, 255.2ms\n",
      "Speed: 4.0ms preprocess, 255.2ms inference, 1.0ms postprocess per image at shape (1, 3, 608, 800)\n",
      "\n"
     ]
    },
    {
     "name": "stdout",
     "output_type": "stream",
     "text": [
      "Labels: deque([('m',), ('m',), ('m',), ('P',), ('P',)], maxlen=5)\n"
     ]
    },
    {
     "name": "stderr",
     "output_type": "stream",
     "text": [
      "0: 608x800 1 Plastic, 251.5ms\n",
      "Speed: 4.5ms preprocess, 251.5ms inference, 1.0ms postprocess per image at shape (1, 3, 608, 800)\n",
      "\n"
     ]
    },
    {
     "name": "stdout",
     "output_type": "stream",
     "text": [
      "Labels: deque([('m',), ('m',), ('P',), ('P',), ('P',)], maxlen=5)\n"
     ]
    },
    {
     "name": "stderr",
     "output_type": "stream",
     "text": [
      "0: 608x800 1 Plastic, 291.7ms\n",
      "Speed: 5.0ms preprocess, 291.7ms inference, 1.0ms postprocess per image at shape (1, 3, 608, 800)\n",
      "\n"
     ]
    },
    {
     "name": "stdout",
     "output_type": "stream",
     "text": [
      "Labels: deque([('m',), ('P',), ('P',), ('P',), ('P',)], maxlen=5)\n"
     ]
    },
    {
     "name": "stderr",
     "output_type": "stream",
     "text": [
      "0: 608x800 1 Plastic, 255.2ms\n",
      "Speed: 0.0ms preprocess, 255.2ms inference, 1.0ms postprocess per image at shape (1, 3, 608, 800)\n",
      "\n"
     ]
    },
    {
     "name": "stdout",
     "output_type": "stream",
     "text": [
      "Response from ESP32: P CMD: Action for 'P' command\n",
      "Labels: deque([('P',), ('P',), ('P',), ('P',), ('P',)], maxlen=5)\n"
     ]
    },
    {
     "name": "stderr",
     "output_type": "stream",
     "text": [
      "0: 608x800 1 Plastic, 243.8ms\n",
      "Speed: 4.0ms preprocess, 243.8ms inference, 0.0ms postprocess per image at shape (1, 3, 608, 800)\n",
      "\n"
     ]
    },
    {
     "name": "stdout",
     "output_type": "stream",
     "text": [
      "Labels: deque([('P',), ('P',), ('P',), ('P',), ('P',)], maxlen=5)\n"
     ]
    },
    {
     "name": "stderr",
     "output_type": "stream",
     "text": [
      "0: 608x800 1 Plastic, 260.0ms\n",
      "Speed: 0.0ms preprocess, 260.0ms inference, 1.0ms postprocess per image at shape (1, 3, 608, 800)\n",
      "\n"
     ]
    },
    {
     "name": "stdout",
     "output_type": "stream",
     "text": [
      "Labels: deque([('P',), ('P',), ('P',), ('P',), ('P',)], maxlen=5)\n"
     ]
    },
    {
     "name": "stderr",
     "output_type": "stream",
     "text": [
      "0: 608x800 1 Plastic, 247.1ms\n",
      "Speed: 5.0ms preprocess, 247.1ms inference, 1.0ms postprocess per image at shape (1, 3, 608, 800)\n",
      "\n"
     ]
    },
    {
     "name": "stdout",
     "output_type": "stream",
     "text": [
      "Labels: deque([('P',), ('P',), ('P',), ('P',), ('P',)], maxlen=5)\n"
     ]
    },
    {
     "name": "stderr",
     "output_type": "stream",
     "text": [
      "0: 608x800 1 Plastic, 254.6ms\n",
      "Speed: 6.0ms preprocess, 254.6ms inference, 1.0ms postprocess per image at shape (1, 3, 608, 800)\n",
      "\n"
     ]
    },
    {
     "name": "stdout",
     "output_type": "stream",
     "text": [
      "Labels: deque([('P',), ('P',), ('P',), ('P',), ('P',)], maxlen=5)\n"
     ]
    },
    {
     "name": "stderr",
     "output_type": "stream",
     "text": [
      "0: 608x800 1 Plastic, 295.4ms\n",
      "Speed: 5.8ms preprocess, 295.4ms inference, 0.0ms postprocess per image at shape (1, 3, 608, 800)\n",
      "\n"
     ]
    },
    {
     "name": "stdout",
     "output_type": "stream",
     "text": [
      "Response from ESP32: P CMD: Action for 'P' command\n",
      "Labels: deque([('P',), ('P',), ('P',), ('P',), ('P',)], maxlen=5)\n"
     ]
    },
    {
     "name": "stderr",
     "output_type": "stream",
     "text": [
      "0: 608x800 1 Plastic, 252.9ms\n",
      "Speed: 4.0ms preprocess, 252.9ms inference, 0.0ms postprocess per image at shape (1, 3, 608, 800)\n",
      "\n"
     ]
    },
    {
     "name": "stdout",
     "output_type": "stream",
     "text": [
      "Labels: deque([('P',), ('P',), ('P',), ('P',), ('P',)], maxlen=5)\n"
     ]
    },
    {
     "name": "stderr",
     "output_type": "stream",
     "text": [
      "0: 608x800 1 Plastic, 251.9ms\n",
      "Speed: 16.4ms preprocess, 251.9ms inference, 1.0ms postprocess per image at shape (1, 3, 608, 800)\n",
      "\n"
     ]
    },
    {
     "name": "stdout",
     "output_type": "stream",
     "text": [
      "Labels: deque([('P',), ('P',), ('P',), ('P',), ('P',)], maxlen=5)\n"
     ]
    },
    {
     "name": "stderr",
     "output_type": "stream",
     "text": [
      "0: 608x800 1 Plastic, 244.6ms\n",
      "Speed: 4.0ms preprocess, 244.6ms inference, 0.0ms postprocess per image at shape (1, 3, 608, 800)\n",
      "\n"
     ]
    },
    {
     "name": "stdout",
     "output_type": "stream",
     "text": [
      "Labels: deque([('P',), ('P',), ('P',), ('P',), ('P',)], maxlen=5)\n"
     ]
    },
    {
     "name": "stderr",
     "output_type": "stream",
     "text": [
      "0: 608x800 1 Plastic, 243.8ms\n",
      "Speed: 5.0ms preprocess, 243.8ms inference, 1.0ms postprocess per image at shape (1, 3, 608, 800)\n",
      "\n"
     ]
    },
    {
     "name": "stdout",
     "output_type": "stream",
     "text": [
      "Labels: deque([('P',), ('P',), ('P',), ('P',), ('P',)], maxlen=5)\n"
     ]
    },
    {
     "name": "stderr",
     "output_type": "stream",
     "text": [
      "0: 608x800 1 Plastic, 267.1ms\n",
      "Speed: 0.0ms preprocess, 267.1ms inference, 1.0ms postprocess per image at shape (1, 3, 608, 800)\n",
      "\n"
     ]
    },
    {
     "name": "stdout",
     "output_type": "stream",
     "text": [
      "Response from ESP32: P CMD: Action for 'P' command\n",
      "Labels: deque([('P',), ('P',), ('P',), ('P',), ('P',)], maxlen=5)\n"
     ]
    },
    {
     "name": "stderr",
     "output_type": "stream",
     "text": [
      "0: 608x800 1 Plastic, 268.8ms\n",
      "Speed: 3.0ms preprocess, 268.8ms inference, 0.0ms postprocess per image at shape (1, 3, 608, 800)\n",
      "\n"
     ]
    },
    {
     "name": "stdout",
     "output_type": "stream",
     "text": [
      "Labels: deque([('P',), ('P',), ('P',), ('P',), ('P',)], maxlen=5)\n"
     ]
    },
    {
     "name": "stderr",
     "output_type": "stream",
     "text": [
      "0: 608x800 1 Plastic, 219.0ms\n",
      "Speed: 4.0ms preprocess, 219.0ms inference, 0.0ms postprocess per image at shape (1, 3, 608, 800)\n",
      "\n"
     ]
    },
    {
     "name": "stdout",
     "output_type": "stream",
     "text": [
      "Labels: deque([('P',), ('P',), ('P',), ('P',), ('P',)], maxlen=5)\n"
     ]
    },
    {
     "name": "stderr",
     "output_type": "stream",
     "text": [
      "0: 608x800 1 Plastic, 237.8ms\n",
      "Speed: 5.4ms preprocess, 237.8ms inference, 0.0ms postprocess per image at shape (1, 3, 608, 800)\n",
      "\n"
     ]
    },
    {
     "name": "stdout",
     "output_type": "stream",
     "text": [
      "Labels: deque([('P',), ('P',), ('P',), ('P',), ('P',)], maxlen=5)\n"
     ]
    },
    {
     "name": "stderr",
     "output_type": "stream",
     "text": [
      "0: 608x800 1 Plastic, 241.6ms\n",
      "Speed: 3.0ms preprocess, 241.6ms inference, 1.0ms postprocess per image at shape (1, 3, 608, 800)\n",
      "\n"
     ]
    },
    {
     "name": "stdout",
     "output_type": "stream",
     "text": [
      "Labels: deque([('P',), ('P',), ('P',), ('P',), ('P',)], maxlen=5)\n"
     ]
    },
    {
     "name": "stderr",
     "output_type": "stream",
     "text": [
      "0: 608x800 1 Plastic, 245.2ms\n",
      "Speed: 4.0ms preprocess, 245.2ms inference, 0.0ms postprocess per image at shape (1, 3, 608, 800)\n",
      "\n"
     ]
    },
    {
     "name": "stdout",
     "output_type": "stream",
     "text": [
      "Response from ESP32: P CMD: Action for 'P' command\n",
      "Labels: deque([('P',), ('P',), ('P',), ('P',), ('P',)], maxlen=5)\n"
     ]
    },
    {
     "name": "stderr",
     "output_type": "stream",
     "text": [
      "0: 608x800 1 Plastic, 243.6ms\n",
      "Speed: 4.0ms preprocess, 243.6ms inference, 1.0ms postprocess per image at shape (1, 3, 608, 800)\n",
      "\n"
     ]
    },
    {
     "name": "stdout",
     "output_type": "stream",
     "text": [
      "Labels: deque([('P',), ('P',), ('P',), ('P',), ('P',)], maxlen=5)\n"
     ]
    },
    {
     "name": "stderr",
     "output_type": "stream",
     "text": [
      "0: 608x800 1 Plastic, 240.7ms\n",
      "Speed: 5.3ms preprocess, 240.7ms inference, 1.0ms postprocess per image at shape (1, 3, 608, 800)\n",
      "\n"
     ]
    },
    {
     "name": "stdout",
     "output_type": "stream",
     "text": [
      "Labels: deque([('P',), ('P',), ('P',), ('P',), ('P',)], maxlen=5)\n"
     ]
    },
    {
     "name": "stderr",
     "output_type": "stream",
     "text": [
      "0: 608x800 1 Plastic, 243.1ms\n",
      "Speed: 5.0ms preprocess, 243.1ms inference, 1.0ms postprocess per image at shape (1, 3, 608, 800)\n",
      "\n"
     ]
    },
    {
     "name": "stdout",
     "output_type": "stream",
     "text": [
      "Labels: deque([('P',), ('P',), ('P',), ('P',), ('P',)], maxlen=5)\n"
     ]
    },
    {
     "name": "stderr",
     "output_type": "stream",
     "text": [
      "0: 608x800 1 Plastic, 252.0ms\n",
      "Speed: 0.0ms preprocess, 252.0ms inference, 0.0ms postprocess per image at shape (1, 3, 608, 800)\n",
      "\n"
     ]
    },
    {
     "name": "stdout",
     "output_type": "stream",
     "text": [
      "Labels: deque([('P',), ('P',), ('P',), ('P',), ('P',)], maxlen=5)\n"
     ]
    },
    {
     "name": "stderr",
     "output_type": "stream",
     "text": [
      "0: 608x800 1 Biodegradable, 1 Plastic, 248.6ms\n",
      "Speed: 5.0ms preprocess, 248.6ms inference, 1.0ms postprocess per image at shape (1, 3, 608, 800)\n",
      "\n"
     ]
    },
    {
     "name": "stdout",
     "output_type": "stream",
     "text": [
      "Response from ESP32: P CMD: Action for 'P' command\n",
      "Labels: deque([('P',), ('P',), ('P',), ('P',), ('P',)], maxlen=5)\n"
     ]
    },
    {
     "name": "stderr",
     "output_type": "stream",
     "text": [
      "0: 608x800 1 Plastic, 245.9ms\n",
      "Speed: 3.0ms preprocess, 245.9ms inference, 1.0ms postprocess per image at shape (1, 3, 608, 800)\n",
      "\n"
     ]
    },
    {
     "name": "stdout",
     "output_type": "stream",
     "text": [
      "Labels: deque([('P',), ('P',), ('P',), ('P',), ('P',)], maxlen=5)\n"
     ]
    },
    {
     "name": "stderr",
     "output_type": "stream",
     "text": [
      "0: 608x800 1 Plastic, 279.8ms\n",
      "Speed: 5.1ms preprocess, 279.8ms inference, 1.0ms postprocess per image at shape (1, 3, 608, 800)\n",
      "\n"
     ]
    },
    {
     "name": "stdout",
     "output_type": "stream",
     "text": [
      "Labels: deque([('P',), ('P',), ('P',), ('P',), ('P',)], maxlen=5)\n"
     ]
    },
    {
     "name": "stderr",
     "output_type": "stream",
     "text": [
      "0: 608x800 1 Plastic, 225.6ms\n",
      "Speed: 3.0ms preprocess, 225.6ms inference, 0.0ms postprocess per image at shape (1, 3, 608, 800)\n",
      "\n"
     ]
    },
    {
     "name": "stdout",
     "output_type": "stream",
     "text": [
      "Labels: deque([('P',), ('P',), ('P',), ('P',), ('P',)], maxlen=5)\n"
     ]
    },
    {
     "name": "stderr",
     "output_type": "stream",
     "text": [
      "0: 608x800 1 Plastic, 242.7ms\n",
      "Speed: 2.0ms preprocess, 242.7ms inference, 1.0ms postprocess per image at shape (1, 3, 608, 800)\n",
      "\n"
     ]
    },
    {
     "name": "stdout",
     "output_type": "stream",
     "text": [
      "Labels: deque([('P',), ('P',), ('P',), ('P',), ('P',)], maxlen=5)\n"
     ]
    },
    {
     "name": "stderr",
     "output_type": "stream",
     "text": [
      "0: 608x800 1 Plastic, 240.8ms\n",
      "Speed: 3.6ms preprocess, 240.8ms inference, 5.1ms postprocess per image at shape (1, 3, 608, 800)\n",
      "\n"
     ]
    },
    {
     "name": "stdout",
     "output_type": "stream",
     "text": [
      "Response from ESP32: P CMD: Action for 'P' command\n",
      "Labels: deque([('P',), ('P',), ('P',), ('P',), ('P',)], maxlen=5)\n"
     ]
    },
    {
     "name": "stderr",
     "output_type": "stream",
     "text": [
      "0: 608x800 1 Plastic, 242.3ms\n",
      "Speed: 4.0ms preprocess, 242.3ms inference, 0.0ms postprocess per image at shape (1, 3, 608, 800)\n",
      "\n"
     ]
    },
    {
     "name": "stdout",
     "output_type": "stream",
     "text": [
      "Labels: deque([('P',), ('P',), ('P',), ('P',), ('P',)], maxlen=5)\n"
     ]
    },
    {
     "name": "stderr",
     "output_type": "stream",
     "text": [
      "0: 608x800 1 Plastic, 249.4ms\n",
      "Speed: 3.6ms preprocess, 249.4ms inference, 0.0ms postprocess per image at shape (1, 3, 608, 800)\n",
      "\n"
     ]
    },
    {
     "name": "stdout",
     "output_type": "stream",
     "text": [
      "Labels: deque([('P',), ('P',), ('P',), ('P',), ('P',)], maxlen=5)\n"
     ]
    },
    {
     "name": "stderr",
     "output_type": "stream",
     "text": [
      "0: 608x800 1 Plastic, 275.3ms\n",
      "Speed: 4.0ms preprocess, 275.3ms inference, 1.0ms postprocess per image at shape (1, 3, 608, 800)\n",
      "\n"
     ]
    },
    {
     "name": "stdout",
     "output_type": "stream",
     "text": [
      "Labels: deque([('P',), ('P',), ('P',), ('P',), ('P',)], maxlen=5)\n"
     ]
    },
    {
     "name": "stderr",
     "output_type": "stream",
     "text": [
      "0: 608x800 1 Plastic, 242.2ms\n",
      "Speed: 6.0ms preprocess, 242.2ms inference, 1.0ms postprocess per image at shape (1, 3, 608, 800)\n",
      "\n"
     ]
    },
    {
     "name": "stdout",
     "output_type": "stream",
     "text": [
      "Labels: deque([('P',), ('P',), ('P',), ('P',), ('P',)], maxlen=5)\n"
     ]
    },
    {
     "name": "stderr",
     "output_type": "stream",
     "text": [
      "0: 608x800 1 Plastic, 249.3ms\n",
      "Speed: 5.0ms preprocess, 249.3ms inference, 1.0ms postprocess per image at shape (1, 3, 608, 800)\n",
      "\n"
     ]
    },
    {
     "name": "stdout",
     "output_type": "stream",
     "text": [
      "Response from ESP32: P CMD: Action for 'P' command\n",
      "Labels: deque([('P',), ('P',), ('P',), ('P',), ('P',)], maxlen=5)\n"
     ]
    },
    {
     "name": "stderr",
     "output_type": "stream",
     "text": [
      "0: 608x800 1 Plastic, 251.9ms\n",
      "Speed: 4.0ms preprocess, 251.9ms inference, 1.0ms postprocess per image at shape (1, 3, 608, 800)\n",
      "\n"
     ]
    },
    {
     "name": "stdout",
     "output_type": "stream",
     "text": [
      "Labels: deque([('P',), ('P',), ('P',), ('P',), ('P',)], maxlen=5)\n"
     ]
    },
    {
     "name": "stderr",
     "output_type": "stream",
     "text": [
      "0: 608x800 1 Plastic, 259.2ms\n",
      "Speed: 0.0ms preprocess, 259.2ms inference, 1.0ms postprocess per image at shape (1, 3, 608, 800)\n",
      "\n"
     ]
    },
    {
     "name": "stdout",
     "output_type": "stream",
     "text": [
      "Labels: deque([('P',), ('P',), ('P',), ('P',), ('P',)], maxlen=5)\n"
     ]
    },
    {
     "name": "stderr",
     "output_type": "stream",
     "text": [
      "0: 608x800 1 Plastic, 252.2ms\n",
      "Speed: 4.0ms preprocess, 252.2ms inference, 0.0ms postprocess per image at shape (1, 3, 608, 800)\n",
      "\n"
     ]
    },
    {
     "name": "stdout",
     "output_type": "stream",
     "text": [
      "Labels: deque([('P',), ('P',), ('P',), ('P',), ('P',)], maxlen=5)\n"
     ]
    },
    {
     "name": "stderr",
     "output_type": "stream",
     "text": [
      "0: 608x800 1 Plastic, 296.6ms\n",
      "Speed: 4.8ms preprocess, 296.6ms inference, 2.0ms postprocess per image at shape (1, 3, 608, 800)\n",
      "\n"
     ]
    },
    {
     "name": "stdout",
     "output_type": "stream",
     "text": [
      "Labels: deque([('P',), ('P',), ('P',), ('P',), ('P',)], maxlen=5)\n"
     ]
    },
    {
     "name": "stderr",
     "output_type": "stream",
     "text": [
      "0: 608x800 1 Plastic, 262.7ms\n",
      "Speed: 6.0ms preprocess, 262.7ms inference, 1.0ms postprocess per image at shape (1, 3, 608, 800)\n",
      "\n"
     ]
    },
    {
     "name": "stdout",
     "output_type": "stream",
     "text": [
      "Response from ESP32: P CMD: Action for 'P' command\n",
      "Labels: deque([('P',), ('P',), ('P',), ('P',), ('P',)], maxlen=5)\n"
     ]
    },
    {
     "name": "stderr",
     "output_type": "stream",
     "text": [
      "0: 608x800 1 Plastic, 253.2ms\n",
      "Speed: 4.0ms preprocess, 253.2ms inference, 1.0ms postprocess per image at shape (1, 3, 608, 800)\n",
      "\n"
     ]
    },
    {
     "name": "stdout",
     "output_type": "stream",
     "text": [
      "Labels: deque([('P',), ('P',), ('P',), ('P',), ('P',)], maxlen=5)\n"
     ]
    },
    {
     "name": "stderr",
     "output_type": "stream",
     "text": [
      "0: 608x800 1 Plastic, 254.9ms\n",
      "Speed: 5.0ms preprocess, 254.9ms inference, 1.5ms postprocess per image at shape (1, 3, 608, 800)\n",
      "\n"
     ]
    },
    {
     "name": "stdout",
     "output_type": "stream",
     "text": [
      "Labels: deque([('P',), ('P',), ('P',), ('P',), ('P',)], maxlen=5)\n"
     ]
    },
    {
     "ename": "KeyboardInterrupt",
     "evalue": "",
     "output_type": "error",
     "traceback": [
      "\u001b[1;31m---------------------------------------------------------------------------\u001b[0m",
      "\u001b[1;31mKeyboardInterrupt\u001b[0m                         Traceback (most recent call last)",
      "\u001b[1;32me:\\waste_detection\\predict_waste.ipynb Cell 15\u001b[0m line \u001b[0;36m5\n\u001b[0;32m     <a href='vscode-notebook-cell:/e%3A/waste_detection/predict_waste.ipynb#X20sZmlsZQ%3D%3D?line=48'>49</a>\u001b[0m resized_frame \u001b[39m=\u001b[39m cv2\u001b[39m.\u001b[39mresize(frame, (\u001b[39m640\u001b[39m, \u001b[39m480\u001b[39m))\n\u001b[0;32m     <a href='vscode-notebook-cell:/e%3A/waste_detection/predict_waste.ipynb#X20sZmlsZQ%3D%3D?line=50'>51</a>\u001b[0m \u001b[39m# Perform object detection on the resized frame\u001b[39;00m\n\u001b[1;32m---> <a href='vscode-notebook-cell:/e%3A/waste_detection/predict_waste.ipynb#X20sZmlsZQ%3D%3D?line=51'>52</a>\u001b[0m results \u001b[39m=\u001b[39m model(resized_frame)\n\u001b[0;32m     <a href='vscode-notebook-cell:/e%3A/waste_detection/predict_waste.ipynb#X20sZmlsZQ%3D%3D?line=53'>54</a>\u001b[0m \u001b[39m# Store labels for the current frame\u001b[39;00m\n\u001b[0;32m     <a href='vscode-notebook-cell:/e%3A/waste_detection/predict_waste.ipynb#X20sZmlsZQ%3D%3D?line=54'>55</a>\u001b[0m current_labels \u001b[39m=\u001b[39m []\n",
      "File \u001b[1;32mc:\\Users\\Nikhil I J\\anaconda3\\envs\\torchGEnv\\lib\\site-packages\\ultralytics\\engine\\model.py:101\u001b[0m, in \u001b[0;36mModel.__call__\u001b[1;34m(self, source, stream, **kwargs)\u001b[0m\n\u001b[0;32m     99\u001b[0m \u001b[39mdef\u001b[39;00m \u001b[39m__call__\u001b[39m(\u001b[39mself\u001b[39m, source\u001b[39m=\u001b[39m\u001b[39mNone\u001b[39;00m, stream\u001b[39m=\u001b[39m\u001b[39mFalse\u001b[39;00m, \u001b[39m*\u001b[39m\u001b[39m*\u001b[39mkwargs):\n\u001b[0;32m    100\u001b[0m \u001b[39m    \u001b[39m\u001b[39m\"\"\"Calls the 'predict' function with given arguments to perform object detection.\"\"\"\u001b[39;00m\n\u001b[1;32m--> 101\u001b[0m     \u001b[39mreturn\u001b[39;00m \u001b[39mself\u001b[39;49m\u001b[39m.\u001b[39;49mpredict(source, stream, \u001b[39m*\u001b[39;49m\u001b[39m*\u001b[39;49mkwargs)\n",
      "File \u001b[1;32mc:\\Users\\Nikhil I J\\anaconda3\\envs\\torchGEnv\\lib\\site-packages\\ultralytics\\engine\\model.py:242\u001b[0m, in \u001b[0;36mModel.predict\u001b[1;34m(self, source, stream, predictor, **kwargs)\u001b[0m\n\u001b[0;32m    240\u001b[0m \u001b[39mif\u001b[39;00m prompts \u001b[39mand\u001b[39;00m \u001b[39mhasattr\u001b[39m(\u001b[39mself\u001b[39m\u001b[39m.\u001b[39mpredictor, \u001b[39m'\u001b[39m\u001b[39mset_prompts\u001b[39m\u001b[39m'\u001b[39m):  \u001b[39m# for SAM-type models\u001b[39;00m\n\u001b[0;32m    241\u001b[0m     \u001b[39mself\u001b[39m\u001b[39m.\u001b[39mpredictor\u001b[39m.\u001b[39mset_prompts(prompts)\n\u001b[1;32m--> 242\u001b[0m \u001b[39mreturn\u001b[39;00m \u001b[39mself\u001b[39m\u001b[39m.\u001b[39mpredictor\u001b[39m.\u001b[39mpredict_cli(source\u001b[39m=\u001b[39msource) \u001b[39mif\u001b[39;00m is_cli \u001b[39melse\u001b[39;00m \u001b[39mself\u001b[39;49m\u001b[39m.\u001b[39;49mpredictor(source\u001b[39m=\u001b[39;49msource, stream\u001b[39m=\u001b[39;49mstream)\n",
      "File \u001b[1;32mc:\\Users\\Nikhil I J\\anaconda3\\envs\\torchGEnv\\lib\\site-packages\\ultralytics\\engine\\predictor.py:196\u001b[0m, in \u001b[0;36mBasePredictor.__call__\u001b[1;34m(self, source, model, stream, *args, **kwargs)\u001b[0m\n\u001b[0;32m    194\u001b[0m     \u001b[39mreturn\u001b[39;00m \u001b[39mself\u001b[39m\u001b[39m.\u001b[39mstream_inference(source, model, \u001b[39m*\u001b[39margs, \u001b[39m*\u001b[39m\u001b[39m*\u001b[39mkwargs)\n\u001b[0;32m    195\u001b[0m \u001b[39melse\u001b[39;00m:\n\u001b[1;32m--> 196\u001b[0m     \u001b[39mreturn\u001b[39;00m \u001b[39mlist\u001b[39;49m(\u001b[39mself\u001b[39;49m\u001b[39m.\u001b[39;49mstream_inference(source, model, \u001b[39m*\u001b[39;49margs, \u001b[39m*\u001b[39;49m\u001b[39m*\u001b[39;49mkwargs))\n",
      "File \u001b[1;32mc:\\Users\\Nikhil I J\\anaconda3\\envs\\torchGEnv\\lib\\site-packages\\torch\\utils\\_contextlib.py:35\u001b[0m, in \u001b[0;36m_wrap_generator.<locals>.generator_context\u001b[1;34m(*args, **kwargs)\u001b[0m\n\u001b[0;32m     32\u001b[0m \u001b[39mtry\u001b[39;00m:\n\u001b[0;32m     33\u001b[0m     \u001b[39m# Issuing `None` to a generator fires it up\u001b[39;00m\n\u001b[0;32m     34\u001b[0m     \u001b[39mwith\u001b[39;00m ctx_factory():\n\u001b[1;32m---> 35\u001b[0m         response \u001b[39m=\u001b[39m gen\u001b[39m.\u001b[39;49msend(\u001b[39mNone\u001b[39;49;00m)\n\u001b[0;32m     37\u001b[0m     \u001b[39mwhile\u001b[39;00m \u001b[39mTrue\u001b[39;00m:\n\u001b[0;32m     38\u001b[0m         \u001b[39mtry\u001b[39;00m:\n\u001b[0;32m     39\u001b[0m             \u001b[39m# Forward the response to our caller and get its next request\u001b[39;00m\n",
      "File \u001b[1;32mc:\\Users\\Nikhil I J\\anaconda3\\envs\\torchGEnv\\lib\\site-packages\\ultralytics\\engine\\predictor.py:259\u001b[0m, in \u001b[0;36mBasePredictor.stream_inference\u001b[1;34m(self, source, model, *args, **kwargs)\u001b[0m\n\u001b[0;32m    257\u001b[0m \u001b[39m# Inference\u001b[39;00m\n\u001b[0;32m    258\u001b[0m \u001b[39mwith\u001b[39;00m profilers[\u001b[39m1\u001b[39m]:\n\u001b[1;32m--> 259\u001b[0m     preds \u001b[39m=\u001b[39m \u001b[39mself\u001b[39;49m\u001b[39m.\u001b[39;49minference(im, \u001b[39m*\u001b[39;49margs, \u001b[39m*\u001b[39;49m\u001b[39m*\u001b[39;49mkwargs)\n\u001b[0;32m    261\u001b[0m \u001b[39m# Postprocess\u001b[39;00m\n\u001b[0;32m    262\u001b[0m \u001b[39mwith\u001b[39;00m profilers[\u001b[39m2\u001b[39m]:\n",
      "File \u001b[1;32mc:\\Users\\Nikhil I J\\anaconda3\\envs\\torchGEnv\\lib\\site-packages\\ultralytics\\engine\\predictor.py:135\u001b[0m, in \u001b[0;36mBasePredictor.inference\u001b[1;34m(self, im, *args, **kwargs)\u001b[0m\n\u001b[0;32m    132\u001b[0m \u001b[39m\u001b[39m\u001b[39m\"\"\"Runs inference on a given image using the specified model and arguments.\"\"\"\u001b[39;00m\n\u001b[0;32m    133\u001b[0m visualize \u001b[39m=\u001b[39m increment_path(\u001b[39mself\u001b[39m\u001b[39m.\u001b[39msave_dir \u001b[39m/\u001b[39m Path(\u001b[39mself\u001b[39m\u001b[39m.\u001b[39mbatch[\u001b[39m0\u001b[39m][\u001b[39m0\u001b[39m])\u001b[39m.\u001b[39mstem,\n\u001b[0;32m    134\u001b[0m                            mkdir\u001b[39m=\u001b[39m\u001b[39mTrue\u001b[39;00m) \u001b[39mif\u001b[39;00m \u001b[39mself\u001b[39m\u001b[39m.\u001b[39margs\u001b[39m.\u001b[39mvisualize \u001b[39mand\u001b[39;00m (\u001b[39mnot\u001b[39;00m \u001b[39mself\u001b[39m\u001b[39m.\u001b[39msource_type\u001b[39m.\u001b[39mtensor) \u001b[39melse\u001b[39;00m \u001b[39mFalse\u001b[39;00m\n\u001b[1;32m--> 135\u001b[0m \u001b[39mreturn\u001b[39;00m \u001b[39mself\u001b[39;49m\u001b[39m.\u001b[39;49mmodel(im, augment\u001b[39m=\u001b[39;49m\u001b[39mself\u001b[39;49m\u001b[39m.\u001b[39;49margs\u001b[39m.\u001b[39;49maugment, visualize\u001b[39m=\u001b[39;49mvisualize)\n",
      "File \u001b[1;32mc:\\Users\\Nikhil I J\\anaconda3\\envs\\torchGEnv\\lib\\site-packages\\torch\\nn\\modules\\module.py:1518\u001b[0m, in \u001b[0;36mModule._wrapped_call_impl\u001b[1;34m(self, *args, **kwargs)\u001b[0m\n\u001b[0;32m   1516\u001b[0m     \u001b[39mreturn\u001b[39;00m \u001b[39mself\u001b[39m\u001b[39m.\u001b[39m_compiled_call_impl(\u001b[39m*\u001b[39margs, \u001b[39m*\u001b[39m\u001b[39m*\u001b[39mkwargs)  \u001b[39m# type: ignore[misc]\u001b[39;00m\n\u001b[0;32m   1517\u001b[0m \u001b[39melse\u001b[39;00m:\n\u001b[1;32m-> 1518\u001b[0m     \u001b[39mreturn\u001b[39;00m \u001b[39mself\u001b[39;49m\u001b[39m.\u001b[39;49m_call_impl(\u001b[39m*\u001b[39;49margs, \u001b[39m*\u001b[39;49m\u001b[39m*\u001b[39;49mkwargs)\n",
      "File \u001b[1;32mc:\\Users\\Nikhil I J\\anaconda3\\envs\\torchGEnv\\lib\\site-packages\\torch\\nn\\modules\\module.py:1527\u001b[0m, in \u001b[0;36mModule._call_impl\u001b[1;34m(self, *args, **kwargs)\u001b[0m\n\u001b[0;32m   1522\u001b[0m \u001b[39m# If we don't have any hooks, we want to skip the rest of the logic in\u001b[39;00m\n\u001b[0;32m   1523\u001b[0m \u001b[39m# this function, and just call forward.\u001b[39;00m\n\u001b[0;32m   1524\u001b[0m \u001b[39mif\u001b[39;00m \u001b[39mnot\u001b[39;00m (\u001b[39mself\u001b[39m\u001b[39m.\u001b[39m_backward_hooks \u001b[39mor\u001b[39;00m \u001b[39mself\u001b[39m\u001b[39m.\u001b[39m_backward_pre_hooks \u001b[39mor\u001b[39;00m \u001b[39mself\u001b[39m\u001b[39m.\u001b[39m_forward_hooks \u001b[39mor\u001b[39;00m \u001b[39mself\u001b[39m\u001b[39m.\u001b[39m_forward_pre_hooks\n\u001b[0;32m   1525\u001b[0m         \u001b[39mor\u001b[39;00m _global_backward_pre_hooks \u001b[39mor\u001b[39;00m _global_backward_hooks\n\u001b[0;32m   1526\u001b[0m         \u001b[39mor\u001b[39;00m _global_forward_hooks \u001b[39mor\u001b[39;00m _global_forward_pre_hooks):\n\u001b[1;32m-> 1527\u001b[0m     \u001b[39mreturn\u001b[39;00m forward_call(\u001b[39m*\u001b[39;49margs, \u001b[39m*\u001b[39;49m\u001b[39m*\u001b[39;49mkwargs)\n\u001b[0;32m   1529\u001b[0m \u001b[39mtry\u001b[39;00m:\n\u001b[0;32m   1530\u001b[0m     result \u001b[39m=\u001b[39m \u001b[39mNone\u001b[39;00m\n",
      "File \u001b[1;32mc:\\Users\\Nikhil I J\\anaconda3\\envs\\torchGEnv\\lib\\site-packages\\ultralytics\\nn\\autobackend.py:347\u001b[0m, in \u001b[0;36mAutoBackend.forward\u001b[1;34m(self, im, augment, visualize)\u001b[0m\n\u001b[0;32m    344\u001b[0m     im \u001b[39m=\u001b[39m im\u001b[39m.\u001b[39mpermute(\u001b[39m0\u001b[39m, \u001b[39m2\u001b[39m, \u001b[39m3\u001b[39m, \u001b[39m1\u001b[39m)  \u001b[39m# torch BCHW to numpy BHWC shape(1,320,192,3)\u001b[39;00m\n\u001b[0;32m    346\u001b[0m \u001b[39mif\u001b[39;00m \u001b[39mself\u001b[39m\u001b[39m.\u001b[39mpt \u001b[39mor\u001b[39;00m \u001b[39mself\u001b[39m\u001b[39m.\u001b[39mnn_module:  \u001b[39m# PyTorch\u001b[39;00m\n\u001b[1;32m--> 347\u001b[0m     y \u001b[39m=\u001b[39m \u001b[39mself\u001b[39m\u001b[39m.\u001b[39mmodel(im, augment\u001b[39m=\u001b[39maugment, visualize\u001b[39m=\u001b[39mvisualize) \u001b[39mif\u001b[39;00m augment \u001b[39mor\u001b[39;00m visualize \u001b[39melse\u001b[39;00m \u001b[39mself\u001b[39;49m\u001b[39m.\u001b[39;49mmodel(im)\n\u001b[0;32m    348\u001b[0m \u001b[39melif\u001b[39;00m \u001b[39mself\u001b[39m\u001b[39m.\u001b[39mjit:  \u001b[39m# TorchScript\u001b[39;00m\n\u001b[0;32m    349\u001b[0m     y \u001b[39m=\u001b[39m \u001b[39mself\u001b[39m\u001b[39m.\u001b[39mmodel(im)\n",
      "File \u001b[1;32mc:\\Users\\Nikhil I J\\anaconda3\\envs\\torchGEnv\\lib\\site-packages\\torch\\nn\\modules\\module.py:1518\u001b[0m, in \u001b[0;36mModule._wrapped_call_impl\u001b[1;34m(self, *args, **kwargs)\u001b[0m\n\u001b[0;32m   1516\u001b[0m     \u001b[39mreturn\u001b[39;00m \u001b[39mself\u001b[39m\u001b[39m.\u001b[39m_compiled_call_impl(\u001b[39m*\u001b[39margs, \u001b[39m*\u001b[39m\u001b[39m*\u001b[39mkwargs)  \u001b[39m# type: ignore[misc]\u001b[39;00m\n\u001b[0;32m   1517\u001b[0m \u001b[39melse\u001b[39;00m:\n\u001b[1;32m-> 1518\u001b[0m     \u001b[39mreturn\u001b[39;00m \u001b[39mself\u001b[39;49m\u001b[39m.\u001b[39;49m_call_impl(\u001b[39m*\u001b[39;49margs, \u001b[39m*\u001b[39;49m\u001b[39m*\u001b[39;49mkwargs)\n",
      "File \u001b[1;32mc:\\Users\\Nikhil I J\\anaconda3\\envs\\torchGEnv\\lib\\site-packages\\torch\\nn\\modules\\module.py:1527\u001b[0m, in \u001b[0;36mModule._call_impl\u001b[1;34m(self, *args, **kwargs)\u001b[0m\n\u001b[0;32m   1522\u001b[0m \u001b[39m# If we don't have any hooks, we want to skip the rest of the logic in\u001b[39;00m\n\u001b[0;32m   1523\u001b[0m \u001b[39m# this function, and just call forward.\u001b[39;00m\n\u001b[0;32m   1524\u001b[0m \u001b[39mif\u001b[39;00m \u001b[39mnot\u001b[39;00m (\u001b[39mself\u001b[39m\u001b[39m.\u001b[39m_backward_hooks \u001b[39mor\u001b[39;00m \u001b[39mself\u001b[39m\u001b[39m.\u001b[39m_backward_pre_hooks \u001b[39mor\u001b[39;00m \u001b[39mself\u001b[39m\u001b[39m.\u001b[39m_forward_hooks \u001b[39mor\u001b[39;00m \u001b[39mself\u001b[39m\u001b[39m.\u001b[39m_forward_pre_hooks\n\u001b[0;32m   1525\u001b[0m         \u001b[39mor\u001b[39;00m _global_backward_pre_hooks \u001b[39mor\u001b[39;00m _global_backward_hooks\n\u001b[0;32m   1526\u001b[0m         \u001b[39mor\u001b[39;00m _global_forward_hooks \u001b[39mor\u001b[39;00m _global_forward_pre_hooks):\n\u001b[1;32m-> 1527\u001b[0m     \u001b[39mreturn\u001b[39;00m forward_call(\u001b[39m*\u001b[39;49margs, \u001b[39m*\u001b[39;49m\u001b[39m*\u001b[39;49mkwargs)\n\u001b[0;32m   1529\u001b[0m \u001b[39mtry\u001b[39;00m:\n\u001b[0;32m   1530\u001b[0m     result \u001b[39m=\u001b[39m \u001b[39mNone\u001b[39;00m\n",
      "File \u001b[1;32mc:\\Users\\Nikhil I J\\anaconda3\\envs\\torchGEnv\\lib\\site-packages\\ultralytics\\nn\\tasks.py:42\u001b[0m, in \u001b[0;36mBaseModel.forward\u001b[1;34m(self, x, *args, **kwargs)\u001b[0m\n\u001b[0;32m     40\u001b[0m \u001b[39mif\u001b[39;00m \u001b[39misinstance\u001b[39m(x, \u001b[39mdict\u001b[39m):  \u001b[39m# for cases of training and validating while training.\u001b[39;00m\n\u001b[0;32m     41\u001b[0m     \u001b[39mreturn\u001b[39;00m \u001b[39mself\u001b[39m\u001b[39m.\u001b[39mloss(x, \u001b[39m*\u001b[39margs, \u001b[39m*\u001b[39m\u001b[39m*\u001b[39mkwargs)\n\u001b[1;32m---> 42\u001b[0m \u001b[39mreturn\u001b[39;00m \u001b[39mself\u001b[39;49m\u001b[39m.\u001b[39;49mpredict(x, \u001b[39m*\u001b[39;49margs, \u001b[39m*\u001b[39;49m\u001b[39m*\u001b[39;49mkwargs)\n",
      "File \u001b[1;32mc:\\Users\\Nikhil I J\\anaconda3\\envs\\torchGEnv\\lib\\site-packages\\ultralytics\\nn\\tasks.py:59\u001b[0m, in \u001b[0;36mBaseModel.predict\u001b[1;34m(self, x, profile, visualize, augment)\u001b[0m\n\u001b[0;32m     57\u001b[0m \u001b[39mif\u001b[39;00m augment:\n\u001b[0;32m     58\u001b[0m     \u001b[39mreturn\u001b[39;00m \u001b[39mself\u001b[39m\u001b[39m.\u001b[39m_predict_augment(x)\n\u001b[1;32m---> 59\u001b[0m \u001b[39mreturn\u001b[39;00m \u001b[39mself\u001b[39;49m\u001b[39m.\u001b[39;49m_predict_once(x, profile, visualize)\n",
      "File \u001b[1;32mc:\\Users\\Nikhil I J\\anaconda3\\envs\\torchGEnv\\lib\\site-packages\\ultralytics\\nn\\tasks.py:79\u001b[0m, in \u001b[0;36mBaseModel._predict_once\u001b[1;34m(self, x, profile, visualize)\u001b[0m\n\u001b[0;32m     77\u001b[0m \u001b[39mif\u001b[39;00m profile:\n\u001b[0;32m     78\u001b[0m     \u001b[39mself\u001b[39m\u001b[39m.\u001b[39m_profile_one_layer(m, x, dt)\n\u001b[1;32m---> 79\u001b[0m x \u001b[39m=\u001b[39m m(x)  \u001b[39m# run\u001b[39;00m\n\u001b[0;32m     80\u001b[0m y\u001b[39m.\u001b[39mappend(x \u001b[39mif\u001b[39;00m m\u001b[39m.\u001b[39mi \u001b[39min\u001b[39;00m \u001b[39mself\u001b[39m\u001b[39m.\u001b[39msave \u001b[39melse\u001b[39;00m \u001b[39mNone\u001b[39;00m)  \u001b[39m# save output\u001b[39;00m\n\u001b[0;32m     81\u001b[0m \u001b[39mif\u001b[39;00m visualize:\n",
      "File \u001b[1;32mc:\\Users\\Nikhil I J\\anaconda3\\envs\\torchGEnv\\lib\\site-packages\\torch\\nn\\modules\\module.py:1518\u001b[0m, in \u001b[0;36mModule._wrapped_call_impl\u001b[1;34m(self, *args, **kwargs)\u001b[0m\n\u001b[0;32m   1516\u001b[0m     \u001b[39mreturn\u001b[39;00m \u001b[39mself\u001b[39m\u001b[39m.\u001b[39m_compiled_call_impl(\u001b[39m*\u001b[39margs, \u001b[39m*\u001b[39m\u001b[39m*\u001b[39mkwargs)  \u001b[39m# type: ignore[misc]\u001b[39;00m\n\u001b[0;32m   1517\u001b[0m \u001b[39melse\u001b[39;00m:\n\u001b[1;32m-> 1518\u001b[0m     \u001b[39mreturn\u001b[39;00m \u001b[39mself\u001b[39;49m\u001b[39m.\u001b[39;49m_call_impl(\u001b[39m*\u001b[39;49margs, \u001b[39m*\u001b[39;49m\u001b[39m*\u001b[39;49mkwargs)\n",
      "File \u001b[1;32mc:\\Users\\Nikhil I J\\anaconda3\\envs\\torchGEnv\\lib\\site-packages\\torch\\nn\\modules\\module.py:1527\u001b[0m, in \u001b[0;36mModule._call_impl\u001b[1;34m(self, *args, **kwargs)\u001b[0m\n\u001b[0;32m   1522\u001b[0m \u001b[39m# If we don't have any hooks, we want to skip the rest of the logic in\u001b[39;00m\n\u001b[0;32m   1523\u001b[0m \u001b[39m# this function, and just call forward.\u001b[39;00m\n\u001b[0;32m   1524\u001b[0m \u001b[39mif\u001b[39;00m \u001b[39mnot\u001b[39;00m (\u001b[39mself\u001b[39m\u001b[39m.\u001b[39m_backward_hooks \u001b[39mor\u001b[39;00m \u001b[39mself\u001b[39m\u001b[39m.\u001b[39m_backward_pre_hooks \u001b[39mor\u001b[39;00m \u001b[39mself\u001b[39m\u001b[39m.\u001b[39m_forward_hooks \u001b[39mor\u001b[39;00m \u001b[39mself\u001b[39m\u001b[39m.\u001b[39m_forward_pre_hooks\n\u001b[0;32m   1525\u001b[0m         \u001b[39mor\u001b[39;00m _global_backward_pre_hooks \u001b[39mor\u001b[39;00m _global_backward_hooks\n\u001b[0;32m   1526\u001b[0m         \u001b[39mor\u001b[39;00m _global_forward_hooks \u001b[39mor\u001b[39;00m _global_forward_pre_hooks):\n\u001b[1;32m-> 1527\u001b[0m     \u001b[39mreturn\u001b[39;00m forward_call(\u001b[39m*\u001b[39;49margs, \u001b[39m*\u001b[39;49m\u001b[39m*\u001b[39;49mkwargs)\n\u001b[0;32m   1529\u001b[0m \u001b[39mtry\u001b[39;00m:\n\u001b[0;32m   1530\u001b[0m     result \u001b[39m=\u001b[39m \u001b[39mNone\u001b[39;00m\n",
      "File \u001b[1;32mc:\\Users\\Nikhil I J\\anaconda3\\envs\\torchGEnv\\lib\\site-packages\\ultralytics\\nn\\modules\\block.py:139\u001b[0m, in \u001b[0;36mSPPF.forward\u001b[1;34m(self, x)\u001b[0m\n\u001b[0;32m    137\u001b[0m y1 \u001b[39m=\u001b[39m \u001b[39mself\u001b[39m\u001b[39m.\u001b[39mm(x)\n\u001b[0;32m    138\u001b[0m y2 \u001b[39m=\u001b[39m \u001b[39mself\u001b[39m\u001b[39m.\u001b[39mm(y1)\n\u001b[1;32m--> 139\u001b[0m \u001b[39mreturn\u001b[39;00m \u001b[39mself\u001b[39m\u001b[39m.\u001b[39mcv2(torch\u001b[39m.\u001b[39mcat((x, y1, y2, \u001b[39mself\u001b[39;49m\u001b[39m.\u001b[39;49mm(y2)), \u001b[39m1\u001b[39m))\n",
      "File \u001b[1;32mc:\\Users\\Nikhil I J\\anaconda3\\envs\\torchGEnv\\lib\\site-packages\\torch\\nn\\modules\\module.py:1518\u001b[0m, in \u001b[0;36mModule._wrapped_call_impl\u001b[1;34m(self, *args, **kwargs)\u001b[0m\n\u001b[0;32m   1516\u001b[0m     \u001b[39mreturn\u001b[39;00m \u001b[39mself\u001b[39m\u001b[39m.\u001b[39m_compiled_call_impl(\u001b[39m*\u001b[39margs, \u001b[39m*\u001b[39m\u001b[39m*\u001b[39mkwargs)  \u001b[39m# type: ignore[misc]\u001b[39;00m\n\u001b[0;32m   1517\u001b[0m \u001b[39melse\u001b[39;00m:\n\u001b[1;32m-> 1518\u001b[0m     \u001b[39mreturn\u001b[39;00m \u001b[39mself\u001b[39;49m\u001b[39m.\u001b[39;49m_call_impl(\u001b[39m*\u001b[39;49margs, \u001b[39m*\u001b[39;49m\u001b[39m*\u001b[39;49mkwargs)\n",
      "File \u001b[1;32mc:\\Users\\Nikhil I J\\anaconda3\\envs\\torchGEnv\\lib\\site-packages\\torch\\nn\\modules\\module.py:1527\u001b[0m, in \u001b[0;36mModule._call_impl\u001b[1;34m(self, *args, **kwargs)\u001b[0m\n\u001b[0;32m   1522\u001b[0m \u001b[39m# If we don't have any hooks, we want to skip the rest of the logic in\u001b[39;00m\n\u001b[0;32m   1523\u001b[0m \u001b[39m# this function, and just call forward.\u001b[39;00m\n\u001b[0;32m   1524\u001b[0m \u001b[39mif\u001b[39;00m \u001b[39mnot\u001b[39;00m (\u001b[39mself\u001b[39m\u001b[39m.\u001b[39m_backward_hooks \u001b[39mor\u001b[39;00m \u001b[39mself\u001b[39m\u001b[39m.\u001b[39m_backward_pre_hooks \u001b[39mor\u001b[39;00m \u001b[39mself\u001b[39m\u001b[39m.\u001b[39m_forward_hooks \u001b[39mor\u001b[39;00m \u001b[39mself\u001b[39m\u001b[39m.\u001b[39m_forward_pre_hooks\n\u001b[0;32m   1525\u001b[0m         \u001b[39mor\u001b[39;00m _global_backward_pre_hooks \u001b[39mor\u001b[39;00m _global_backward_hooks\n\u001b[0;32m   1526\u001b[0m         \u001b[39mor\u001b[39;00m _global_forward_hooks \u001b[39mor\u001b[39;00m _global_forward_pre_hooks):\n\u001b[1;32m-> 1527\u001b[0m     \u001b[39mreturn\u001b[39;00m forward_call(\u001b[39m*\u001b[39;49margs, \u001b[39m*\u001b[39;49m\u001b[39m*\u001b[39;49mkwargs)\n\u001b[0;32m   1529\u001b[0m \u001b[39mtry\u001b[39;00m:\n\u001b[0;32m   1530\u001b[0m     result \u001b[39m=\u001b[39m \u001b[39mNone\u001b[39;00m\n",
      "File \u001b[1;32mc:\\Users\\Nikhil I J\\anaconda3\\envs\\torchGEnv\\lib\\site-packages\\torch\\nn\\modules\\pooling.py:166\u001b[0m, in \u001b[0;36mMaxPool2d.forward\u001b[1;34m(self, input)\u001b[0m\n\u001b[0;32m    165\u001b[0m \u001b[39mdef\u001b[39;00m \u001b[39mforward\u001b[39m(\u001b[39mself\u001b[39m, \u001b[39minput\u001b[39m: Tensor):\n\u001b[1;32m--> 166\u001b[0m     \u001b[39mreturn\u001b[39;00m F\u001b[39m.\u001b[39;49mmax_pool2d(\u001b[39minput\u001b[39;49m, \u001b[39mself\u001b[39;49m\u001b[39m.\u001b[39;49mkernel_size, \u001b[39mself\u001b[39;49m\u001b[39m.\u001b[39;49mstride,\n\u001b[0;32m    167\u001b[0m                         \u001b[39mself\u001b[39;49m\u001b[39m.\u001b[39;49mpadding, \u001b[39mself\u001b[39;49m\u001b[39m.\u001b[39;49mdilation, ceil_mode\u001b[39m=\u001b[39;49m\u001b[39mself\u001b[39;49m\u001b[39m.\u001b[39;49mceil_mode,\n\u001b[0;32m    168\u001b[0m                         return_indices\u001b[39m=\u001b[39;49m\u001b[39mself\u001b[39;49m\u001b[39m.\u001b[39;49mreturn_indices)\n",
      "File \u001b[1;32mc:\\Users\\Nikhil I J\\anaconda3\\envs\\torchGEnv\\lib\\site-packages\\torch\\_jit_internal.py:488\u001b[0m, in \u001b[0;36mboolean_dispatch.<locals>.fn\u001b[1;34m(*args, **kwargs)\u001b[0m\n\u001b[0;32m    486\u001b[0m     \u001b[39mreturn\u001b[39;00m if_true(\u001b[39m*\u001b[39margs, \u001b[39m*\u001b[39m\u001b[39m*\u001b[39mkwargs)\n\u001b[0;32m    487\u001b[0m \u001b[39melse\u001b[39;00m:\n\u001b[1;32m--> 488\u001b[0m     \u001b[39mreturn\u001b[39;00m if_false(\u001b[39m*\u001b[39;49margs, \u001b[39m*\u001b[39;49m\u001b[39m*\u001b[39;49mkwargs)\n",
      "File \u001b[1;32mc:\\Users\\Nikhil I J\\anaconda3\\envs\\torchGEnv\\lib\\site-packages\\torch\\nn\\functional.py:791\u001b[0m, in \u001b[0;36m_max_pool2d\u001b[1;34m(input, kernel_size, stride, padding, dilation, ceil_mode, return_indices)\u001b[0m\n\u001b[0;32m    789\u001b[0m \u001b[39mif\u001b[39;00m stride \u001b[39mis\u001b[39;00m \u001b[39mNone\u001b[39;00m:\n\u001b[0;32m    790\u001b[0m     stride \u001b[39m=\u001b[39m torch\u001b[39m.\u001b[39mjit\u001b[39m.\u001b[39mannotate(List[\u001b[39mint\u001b[39m], [])\n\u001b[1;32m--> 791\u001b[0m \u001b[39mreturn\u001b[39;00m torch\u001b[39m.\u001b[39;49mmax_pool2d(\u001b[39minput\u001b[39;49m, kernel_size, stride, padding, dilation, ceil_mode)\n",
      "\u001b[1;31mKeyboardInterrupt\u001b[0m: "
     ]
    },
    {
     "ename": "",
     "evalue": "",
     "output_type": "error",
     "traceback": [
      "\u001b[1;31mThe Kernel crashed while executing code in the the current cell or a previous cell. Please review the code in the cell(s) to identify a possible cause of the failure. Click <a href='https://aka.ms/vscodeJupyterKernelCrash'>here</a> for more info. View Jupyter <a href='command:jupyter.viewOutput'>log</a> for further details."
     ]
    }
   ],
   "source": [
    "import cv2\n",
    "import torch\n",
    "import requests\n",
    "from collections import deque\n",
    "from ultralytics import YOLO\n",
    "\n",
    "# Function to send command to ESP32\n",
    "def send_command(command):\n",
    "    data = str(command) + '\\n'  # Convert the command to a string before sending\n",
    "    headers = {'Content-Type': 'text/plain'}\n",
    "    response = requests.post(url, data=data)\n",
    "    print(\"Response from ESP32:\", response.text)\n",
    "    if response.text == \"success\":\n",
    "        return 1\n",
    "    else:\n",
    "        return 0\n",
    "# (remaining function code remains unchanged)\n",
    "\n",
    "# ESP IP URL\n",
    "url = 'http://192.168.137.45/data'\n",
    "\n",
    "# URL for the stream\n",
    "stream_url = \"http://192.168.137.195:8080/video\"\n",
    "\n",
    "# Video capture object\n",
    "cap = cv2.VideoCapture(stream_url)\n",
    "\n",
    "# Check if the stream is opened correctly\n",
    "if not cap.isOpened():\n",
    "    print(\"Error opening video stream or file\")\n",
    "\n",
    "# YOLO model initialization\n",
    "model = YOLO(r\"E:\\best.pt\")\n",
    "\n",
    "# Variables to track labels\n",
    "labels = deque(maxlen=5)  # Store labels for the last 5 frames\n",
    "consistent_labels = 0  # Counter to track consistent labels\n",
    "\n",
    "# Continuously process frames and send labels to ESP32\n",
    "while True:\n",
    "    ret, frame = cap.read()\n",
    "    if not ret:\n",
    "        label_to_send = 'O'  # Send 'O' as the command\n",
    "        send_command(label_to_send)\n",
    "        cap = cv2.VideoCapture(stream_url)  # Re-open the stream if it ends\n",
    "        break\n",
    "\n",
    "    # Resize the frame to a smaller resolution\n",
    "    resized_frame = cv2.resize(frame, (640, 480))\n",
    "\n",
    "    # Perform object detection on the resized frame\n",
    "    results = model(resized_frame)\n",
    "\n",
    "    # Store labels for the current frame\n",
    "    current_labels = []\n",
    "\n",
    "    for pred in results:\n",
    "        if pred.boxes.conf is not None and len(pred.boxes) > 0:\n",
    "            max_conf_idx = torch.argmax(pred.boxes.conf)\n",
    "            label_id = int(pred.boxes.cls[max_conf_idx])\n",
    "            class_names = {0: 'B', 1: 'P', 2: 'm'}\n",
    "            label = class_names.get(label_id, 'P')  # Default label is 'P'\n",
    "            current_labels.append(label)\n",
    "\n",
    "    # Convert the list of labels to a tuple before storing\n",
    "    labels.append(tuple(current_labels))\n",
    "\n",
    "    # Check if labels have been consistent for 5 frames\n",
    "    # Send label if consistent for 5 frames\n",
    "    if len(labels) == labels.maxlen and len(set(labels)) == 1 and labels and labels[0]:\n",
    "        consistent_labels += 1\n",
    "        if consistent_labels == 5:\n",
    "            consistent_labels = 0  # Reset the counter\n",
    "            # Send the label to ESP32\n",
    "            label_to_send = labels[0][0]  # Send the label from the first frame\n",
    "            send_command(label_to_send)\n",
    "\n",
    "    # Print labels for debugging purposes\n",
    "    print(\"Labels:\", labels)\n",
    "\n",
    "    # Keep the serial output continuous by handling exceptions\n",
    "    try:\n",
    "        cv2.imshow(\"Frame\", frame)\n",
    "        if cv2.waitKey(1) & 0xFF == ord('q'):\n",
    "            break\n",
    "    except Exception as e:\n",
    "        print(\"Exception occurred:\", e)\n",
    "        continue\n",
    "\n",
    "# Release the video capture object and close the window\n",
    "cap.release()\n",
    "cv2.destroyAllWindows()\n"
   ]
  }
 ],
 "metadata": {
  "kernelspec": {
   "display_name": "torchGEnv",
   "language": "python",
   "name": "python3"
  },
  "language_info": {
   "codemirror_mode": {
    "name": "ipython",
    "version": 3
   },
   "file_extension": ".py",
   "mimetype": "text/x-python",
   "name": "python",
   "nbconvert_exporter": "python",
   "pygments_lexer": "ipython3",
   "version": "3.8.18"
  }
 },
 "nbformat": 4,
 "nbformat_minor": 2
}
